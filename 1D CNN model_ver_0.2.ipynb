{
 "cells": [
  {
   "cell_type": "markdown",
   "metadata": {},
   "source": [
    "Ver 0.2:\n",
    "\n",
    "adjust model imbalanced output weight"
   ]
  },
  {
   "cell_type": "markdown",
   "metadata": {
    "heading_collapsed": true
   },
   "source": [
    "## adjust imbalanced output weight"
   ]
  },
  {
   "cell_type": "code",
   "execution_count": 1,
   "metadata": {
    "ExecuteTime": {
     "end_time": "2018-11-20T01:46:52.411052Z",
     "start_time": "2018-11-20T01:46:50.517404Z"
    },
    "hidden": true,
    "hide_input": true
   },
   "outputs": [
    {
     "name": "stderr",
     "output_type": "stream",
     "text": [
      "/usr/local/lib/python3.5/dist-packages/h5py/__init__.py:36: FutureWarning: Conversion of the second argument of issubdtype from `float` to `np.floating` is deprecated. In future, it will be treated as `np.float64 == np.dtype(float).type`.\n",
      "  from ._conv import register_converters as _register_converters\n",
      "Using TensorFlow backend.\n"
     ]
    },
    {
     "name": "stdout",
     "output_type": "stream",
     "text": [
      "Train Data: (5078, 9000, 1)\n",
      "Train Label:  (5078, 4)\n",
      "Vali Data:  (2032, 9000, 1)\n",
      "Vali Label:  (2032, 4)\n",
      "Test Data:  (3041, 9000, 1)\n",
      "Test Label:  (3041, 4)\n"
     ]
    }
   ],
   "source": [
    "import numpy as np\n",
    "from keras.models import Sequential\n",
    "from keras.layers import Dense, Flatten, Conv1D, MaxPooling1D, AveragePooling1D, Dropout\n",
    "from keras.layers import BatchNormalization, Activation\n",
    "from keras.initializers import VarianceScaling\n",
    "from keras.optimizers import Adam\n",
    "from keras.utils import np_utils\n",
    "import tensorflow as tf\n",
    "from keras.callbacks import EarlyStopping\n",
    "from sklearn.utils import class_weight\n",
    "np.set_printoptions(suppress=True)\n",
    "\n",
    "trainD = np.load(\"/home/hsiehch/30s/train_data.npy\")\n",
    "trainL = np.load(\"/home/hsiehch/30s/train_label.npy\")\n",
    "validationD = np.load(\"/home/hsiehch/30s/validation_data.npy\")\n",
    "validationL = np.load(\"/home/hsiehch/30s/validation_label.npy\")\n",
    "testD = np.load(\"/home/hsiehch/30s/test_data.npy\")\n",
    "testL = np.load(\"/home/hsiehch/30s/test_label.npy\")\n",
    "\n",
    "trainData = trainD.reshape((trainD.shape[0], trainD.shape[1], 1))\n",
    "trainLabel = np_utils.to_categorical(trainL, 4)\n",
    "validationData = validationD.reshape((validationD.shape[0], validationD.shape[1], 1))\n",
    "validationLabel = np_utils.to_categorical(validationL, 4)\n",
    "testData = testD.reshape((testD.shape[0], testD.shape[1], 1))\n",
    "testLabel = np_utils.to_categorical(testL, 4)\n",
    "print('Train Data:', trainData.shape)\n",
    "print('Train Label: ', trainLabel.shape)\n",
    "print('Vali Data: ', validationData.shape)\n",
    "print('Vali Label: ', validationLabel.shape)\n",
    "print('Test Data: ', testData.shape)\n",
    "print('Test Label: ', testLabel.shape)"
   ]
  },
  {
   "cell_type": "code",
   "execution_count": 5,
   "metadata": {
    "ExecuteTime": {
     "end_time": "2018-11-24T14:23:35.041372Z",
     "start_time": "2018-11-24T14:23:35.031629Z"
    },
    "hidden": true,
    "hide_input": true
   },
   "outputs": [
    {
     "name": "stdout",
     "output_type": "stream",
     "text": [
      "[2.80862832 8.46333333 0.42600671 0.84859626]\n"
     ]
    }
   ],
   "source": [
    "cw = class_weight.compute_sample_weight('balanced', [0,1,2,3], trainL)\n",
    "print(cw)"
   ]
  },
  {
   "cell_type": "code",
   "execution_count": 7,
   "metadata": {
    "ExecuteTime": {
     "end_time": "2018-11-20T01:49:12.792726Z",
     "start_time": "2018-11-20T01:49:12.785355Z"
    },
    "hidden": true,
    "hide_input": true
   },
   "outputs": [
    {
     "name": "stdout",
     "output_type": "stream",
     "text": [
      "[1269.50000064 1269.4999995  1269.4999958  1269.50000496]\n"
     ]
    }
   ],
   "source": [
    "a = np.array([ 452.,  150., 2980., 1496.])\n",
    "b = np.array([2.80862832, 8.46333333, 0.42600671, 0.84859626])\n",
    "print(a*b)"
   ]
  },
  {
   "cell_type": "code",
   "execution_count": 1,
   "metadata": {
    "ExecuteTime": {
     "end_time": "2018-11-24T14:41:09.840826Z",
     "start_time": "2018-11-24T14:30:43.933488Z"
    },
    "code_folding": [
     122,
     131
    ],
    "hidden": true,
    "hide_input": false,
    "scrolled": true
   },
   "outputs": [
    {
     "name": "stderr",
     "output_type": "stream",
     "text": [
      "/usr/local/lib/python3.5/dist-packages/h5py/__init__.py:36: FutureWarning: Conversion of the second argument of issubdtype from `float` to `np.floating` is deprecated. In future, it will be treated as `np.float64 == np.dtype(float).type`.\n",
      "  from ._conv import register_converters as _register_converters\n",
      "Using TensorFlow backend.\n"
     ]
    },
    {
     "name": "stdout",
     "output_type": "stream",
     "text": [
      "Train Data: (5078, 9000, 1)\n",
      "Train Label:  (5078, 4)\n",
      "Vali Data:  (2032, 9000, 1)\n",
      "Vali Label:  (2032, 4)\n",
      "Test Data:  (3041, 9000, 1)\n",
      "Test Label:  (3041, 4)\n",
      "Good to go!\n",
      "_________________________________________________________________\n",
      "Layer (type)                 Output Shape              Param #   \n",
      "=================================================================\n",
      "conv1d_1 (Conv1D)            (None, 8994, 32)          256       \n",
      "_________________________________________________________________\n",
      "activation_1 (Activation)    (None, 8994, 32)          0         \n",
      "_________________________________________________________________\n",
      "batch_normalization_1 (Batch (None, 8994, 32)          128       \n",
      "_________________________________________________________________\n",
      "max_pooling1d_1 (MaxPooling1 (None, 4497, 32)          0         \n",
      "_________________________________________________________________\n",
      "conv1d_2 (Conv1D)            (None, 4491, 32)          7200      \n",
      "_________________________________________________________________\n",
      "activation_2 (Activation)    (None, 4491, 32)          0         \n",
      "_________________________________________________________________\n",
      "max_pooling1d_2 (MaxPooling1 (None, 2245, 32)          0         \n",
      "_________________________________________________________________\n",
      "conv1d_3 (Conv1D)            (None, 2239, 64)          14400     \n",
      "_________________________________________________________________\n",
      "activation_3 (Activation)    (None, 2239, 64)          0         \n",
      "_________________________________________________________________\n",
      "max_pooling1d_3 (MaxPooling1 (None, 1119, 64)          0         \n",
      "_________________________________________________________________\n",
      "conv1d_4 (Conv1D)            (None, 1117, 64)          12352     \n",
      "_________________________________________________________________\n",
      "activation_4 (Activation)    (None, 1117, 64)          0         \n",
      "_________________________________________________________________\n",
      "max_pooling1d_4 (MaxPooling1 (None, 558, 64)           0         \n",
      "_________________________________________________________________\n",
      "conv1d_5 (Conv1D)            (None, 556, 128)          24704     \n",
      "_________________________________________________________________\n",
      "activation_5 (Activation)    (None, 556, 128)          0         \n",
      "_________________________________________________________________\n",
      "max_pooling1d_5 (MaxPooling1 (None, 278, 128)          0         \n",
      "_________________________________________________________________\n",
      "conv1d_6 (Conv1D)            (None, 276, 128)          49280     \n",
      "_________________________________________________________________\n",
      "activation_6 (Activation)    (None, 276, 128)          0         \n",
      "_________________________________________________________________\n",
      "max_pooling1d_6 (MaxPooling1 (None, 138, 128)          0         \n",
      "_________________________________________________________________\n",
      "dropout_1 (Dropout)          (None, 138, 128)          0         \n",
      "_________________________________________________________________\n",
      "conv1d_7 (Conv1D)            (None, 136, 256)          98560     \n",
      "_________________________________________________________________\n",
      "activation_7 (Activation)    (None, 136, 256)          0         \n",
      "_________________________________________________________________\n",
      "max_pooling1d_7 (MaxPooling1 (None, 68, 256)           0         \n",
      "_________________________________________________________________\n",
      "conv1d_8 (Conv1D)            (None, 66, 256)           196864    \n",
      "_________________________________________________________________\n",
      "activation_8 (Activation)    (None, 66, 256)           0         \n",
      "_________________________________________________________________\n",
      "max_pooling1d_8 (MaxPooling1 (None, 33, 256)           0         \n",
      "_________________________________________________________________\n",
      "dropout_2 (Dropout)          (None, 33, 256)           0         \n",
      "_________________________________________________________________\n",
      "conv1d_9 (Conv1D)            (None, 31, 512)           393728    \n",
      "_________________________________________________________________\n",
      "activation_9 (Activation)    (None, 31, 512)           0         \n",
      "_________________________________________________________________\n",
      "max_pooling1d_9 (MaxPooling1 (None, 15, 512)           0         \n",
      "_________________________________________________________________\n",
      "dropout_3 (Dropout)          (None, 15, 512)           0         \n",
      "_________________________________________________________________\n",
      "conv1d_10 (Conv1D)           (None, 13, 512)           786944    \n",
      "_________________________________________________________________\n",
      "activation_10 (Activation)   (None, 13, 512)           0         \n",
      "_________________________________________________________________\n",
      "flatten_1 (Flatten)          (None, 6656)              0         \n",
      "_________________________________________________________________\n",
      "dense_1 (Dense)              (None, 512)               3408384   \n",
      "_________________________________________________________________\n",
      "dropout_4 (Dropout)          (None, 512)               0         \n",
      "_________________________________________________________________\n",
      "dense_2 (Dense)              (None, 128)               65664     \n",
      "_________________________________________________________________\n",
      "dense_3 (Dense)              (None, 4)                 516       \n",
      "=================================================================\n",
      "Total params: 5,058,980\n",
      "Trainable params: 5,058,916\n",
      "Non-trainable params: 64\n",
      "_________________________________________________________________\n",
      "None\n",
      "Train on 5078 samples, validate on 2032 samples\n",
      "Epoch 1/150\n",
      "5078/5078 [==============================] - 10s 2ms/step - loss: 1.3522 - acc: 0.2519 - val_loss: 1.2949 - val_acc: 0.1043\n",
      "Epoch 2/150\n",
      "5078/5078 [==============================] - 5s 913us/step - loss: 1.2244 - acc: 0.2046 - val_loss: 1.3279 - val_acc: 0.1280\n",
      "Epoch 3/150\n",
      "5078/5078 [==============================] - 5s 932us/step - loss: 1.2138 - acc: 0.2267 - val_loss: 1.2550 - val_acc: 0.1496\n",
      "Epoch 4/150\n",
      "5078/5078 [==============================] - 5s 955us/step - loss: 1.1748 - acc: 0.2276 - val_loss: 1.2000 - val_acc: 0.5527\n",
      "Epoch 5/150\n",
      "5078/5078 [==============================] - 5s 955us/step - loss: 1.1773 - acc: 0.3090 - val_loss: 1.3109 - val_acc: 0.1983\n",
      "Epoch 6/150\n",
      "5078/5078 [==============================] - 5s 929us/step - loss: 1.1761 - acc: 0.2399 - val_loss: 1.2607 - val_acc: 0.1703\n",
      "Epoch 7/150\n",
      "5078/5078 [==============================] - 5s 902us/step - loss: 1.1485 - acc: 0.2662 - val_loss: 1.3953 - val_acc: 0.1727\n",
      "Epoch 8/150\n",
      "5078/5078 [==============================] - 5s 951us/step - loss: 1.1053 - acc: 0.2704 - val_loss: 1.1965 - val_acc: 0.3420\n",
      "Epoch 9/150\n",
      "5078/5078 [==============================] - 5s 954us/step - loss: 1.0859 - acc: 0.3052 - val_loss: 1.1656 - val_acc: 0.2244\n",
      "Epoch 10/150\n",
      "5078/5078 [==============================] - 5s 961us/step - loss: 1.0820 - acc: 0.2871 - val_loss: 1.2225 - val_acc: 0.1777\n",
      "Epoch 11/150\n",
      "5078/5078 [==============================] - 5s 943us/step - loss: 1.0664 - acc: 0.2706 - val_loss: 1.1739 - val_acc: 0.2136\n",
      "Epoch 12/150\n",
      "5078/5078 [==============================] - 5s 910us/step - loss: 1.0616 - acc: 0.3031 - val_loss: 1.2362 - val_acc: 0.1599\n",
      "Epoch 13/150\n",
      "5078/5078 [==============================] - 5s 966us/step - loss: 1.0427 - acc: 0.3104 - val_loss: 1.2542 - val_acc: 0.1870\n",
      "Epoch 14/150\n",
      "5078/5078 [==============================] - 5s 910us/step - loss: 1.0514 - acc: 0.2960 - val_loss: 1.2045 - val_acc: 0.2461\n",
      "Epoch 15/150\n",
      "5078/5078 [==============================] - 5s 973us/step - loss: 1.0311 - acc: 0.2962 - val_loss: 1.2175 - val_acc: 0.2480\n",
      "Epoch 16/150\n",
      "5078/5078 [==============================] - 5s 922us/step - loss: 1.0106 - acc: 0.2932 - val_loss: 1.2080 - val_acc: 0.2067\n",
      "Epoch 17/150\n",
      "5078/5078 [==============================] - 5s 955us/step - loss: 1.0109 - acc: 0.3003 - val_loss: 1.1828 - val_acc: 0.2362\n",
      "Epoch 18/150\n",
      "5078/5078 [==============================] - 5s 927us/step - loss: 1.0224 - acc: 0.2991 - val_loss: 1.2270 - val_acc: 0.2082\n",
      "Epoch 19/150\n",
      "5078/5078 [==============================] - 5s 957us/step - loss: 0.9923 - acc: 0.3397 - val_loss: 1.1734 - val_acc: 0.3046\n",
      "Epoch 20/150\n"
     ]
    },
    {
     "name": "stdout",
     "output_type": "stream",
     "text": [
      "5078/5078 [==============================] - 5s 906us/step - loss: 0.9621 - acc: 0.3429 - val_loss: 1.1380 - val_acc: 0.3701\n",
      "Epoch 21/150\n",
      "5078/5078 [==============================] - 5s 962us/step - loss: 0.9486 - acc: 0.3986 - val_loss: 1.6964 - val_acc: 0.1225\n",
      "Epoch 22/150\n",
      "5078/5078 [==============================] - 5s 918us/step - loss: 0.9908 - acc: 0.3736 - val_loss: 1.2168 - val_acc: 0.3263\n",
      "Epoch 23/150\n",
      "5078/5078 [==============================] - 5s 907us/step - loss: 0.9991 - acc: 0.3423 - val_loss: 1.1580 - val_acc: 0.3007\n",
      "Epoch 24/150\n",
      "5078/5078 [==============================] - 5s 976us/step - loss: 1.0048 - acc: 0.4130 - val_loss: 1.5482 - val_acc: 0.1339\n",
      "Epoch 25/150\n",
      "5078/5078 [==============================] - 5s 909us/step - loss: 0.9512 - acc: 0.4275 - val_loss: 1.0900 - val_acc: 0.5025\n",
      "Epoch 26/150\n",
      "5078/5078 [==============================] - 5s 910us/step - loss: 0.9136 - acc: 0.4898 - val_loss: 1.5214 - val_acc: 0.2111\n",
      "Epoch 27/150\n",
      "5078/5078 [==============================] - 5s 921us/step - loss: 0.8525 - acc: 0.5108 - val_loss: 1.0374 - val_acc: 0.3784\n",
      "Epoch 28/150\n",
      "5078/5078 [==============================] - 5s 964us/step - loss: 0.7910 - acc: 0.5305 - val_loss: 0.9110 - val_acc: 0.6117\n",
      "Epoch 29/150\n",
      "5078/5078 [==============================] - 5s 938us/step - loss: 0.8222 - acc: 0.5417 - val_loss: 0.9407 - val_acc: 0.5330\n",
      "Epoch 30/150\n",
      "5078/5078 [==============================] - 5s 966us/step - loss: 0.8047 - acc: 0.5360 - val_loss: 0.8545 - val_acc: 0.6038\n",
      "Epoch 31/150\n",
      "5078/5078 [==============================] - 5s 951us/step - loss: 0.7420 - acc: 0.5660 - val_loss: 0.9554 - val_acc: 0.4833\n",
      "Epoch 32/150\n",
      "5078/5078 [==============================] - 5s 913us/step - loss: 0.7679 - acc: 0.5772 - val_loss: 1.1322 - val_acc: 0.4144\n",
      "Epoch 33/150\n",
      "5078/5078 [==============================] - 5s 930us/step - loss: 0.6903 - acc: 0.5601 - val_loss: 0.8535 - val_acc: 0.5714\n",
      "Epoch 34/150\n",
      "5078/5078 [==============================] - 5s 953us/step - loss: 0.7166 - acc: 0.5672 - val_loss: 0.8433 - val_acc: 0.5930\n",
      "Epoch 35/150\n",
      "5078/5078 [==============================] - 5s 940us/step - loss: 0.7139 - acc: 0.5579 - val_loss: 1.0439 - val_acc: 0.4803\n",
      "Epoch 36/150\n",
      "5078/5078 [==============================] - 5s 941us/step - loss: 0.6760 - acc: 0.5951 - val_loss: 0.9584 - val_acc: 0.5413\n",
      "Epoch 37/150\n",
      "5078/5078 [==============================] - 5s 904us/step - loss: 0.7076 - acc: 0.5553 - val_loss: 0.9418 - val_acc: 0.5910\n",
      "Epoch 38/150\n",
      "5078/5078 [==============================] - 5s 913us/step - loss: 0.6565 - acc: 0.5904 - val_loss: 1.0107 - val_acc: 0.5148\n",
      "Epoch 39/150\n",
      "5078/5078 [==============================] - 5s 928us/step - loss: 0.6467 - acc: 0.6016 - val_loss: 0.8831 - val_acc: 0.5817\n",
      "Epoch 40/150\n",
      "5078/5078 [==============================] - 5s 951us/step - loss: 0.6483 - acc: 0.6081 - val_loss: 0.8899 - val_acc: 0.5925\n",
      "Epoch 41/150\n",
      "5078/5078 [==============================] - 5s 910us/step - loss: 0.6819 - acc: 0.6061 - val_loss: 0.8956 - val_acc: 0.5719\n",
      "Epoch 42/150\n",
      "5078/5078 [==============================] - 5s 946us/step - loss: 0.6181 - acc: 0.6193 - val_loss: 0.9213 - val_acc: 0.5605\n",
      "Epoch 43/150\n",
      "5078/5078 [==============================] - 5s 945us/step - loss: 0.6063 - acc: 0.6361 - val_loss: 0.9351 - val_acc: 0.5753\n",
      "Epoch 44/150\n",
      "5078/5078 [==============================] - 5s 907us/step - loss: 0.6522 - acc: 0.6136 - val_loss: 0.8929 - val_acc: 0.5974\n",
      "Epoch 45/150\n",
      "5078/5078 [==============================] - 5s 909us/step - loss: 0.6004 - acc: 0.6465 - val_loss: 0.8140 - val_acc: 0.6467\n",
      "Epoch 46/150\n",
      "5078/5078 [==============================] - 5s 913us/step - loss: 0.6668 - acc: 0.6300 - val_loss: 0.9041 - val_acc: 0.5763\n",
      "Epoch 47/150\n",
      "5078/5078 [==============================] - 5s 933us/step - loss: 0.6117 - acc: 0.6532 - val_loss: 0.8595 - val_acc: 0.6053\n",
      "Epoch 48/150\n",
      "5078/5078 [==============================] - 5s 954us/step - loss: 0.6273 - acc: 0.6571 - val_loss: 0.9030 - val_acc: 0.6053\n",
      "Epoch 49/150\n",
      "5078/5078 [==============================] - 5s 906us/step - loss: 0.6076 - acc: 0.6705 - val_loss: 1.0731 - val_acc: 0.5674\n",
      "Epoch 50/150\n",
      "5078/5078 [==============================] - 5s 946us/step - loss: 0.6904 - acc: 0.5987 - val_loss: 0.7848 - val_acc: 0.6585\n",
      "Epoch 51/150\n",
      "5078/5078 [==============================] - 5s 936us/step - loss: 0.6085 - acc: 0.6436 - val_loss: 0.9065 - val_acc: 0.6019\n",
      "Epoch 52/150\n",
      "5078/5078 [==============================] - 5s 914us/step - loss: 0.5606 - acc: 0.6804 - val_loss: 0.8234 - val_acc: 0.6481\n",
      "Epoch 53/150\n",
      "5078/5078 [==============================] - 5s 908us/step - loss: 0.5924 - acc: 0.6648 - val_loss: 0.7730 - val_acc: 0.6796\n",
      "Epoch 54/150\n",
      "5078/5078 [==============================] - 5s 935us/step - loss: 0.5564 - acc: 0.6761 - val_loss: 0.7303 - val_acc: 0.6973\n",
      "Epoch 55/150\n",
      "5078/5078 [==============================] - 5s 954us/step - loss: 0.5418 - acc: 0.7034 - val_loss: 0.7490 - val_acc: 0.6914\n",
      "Epoch 56/150\n",
      "5078/5078 [==============================] - 5s 905us/step - loss: 0.5560 - acc: 0.7080 - val_loss: 0.7902 - val_acc: 0.6658\n",
      "Epoch 57/150\n",
      "5078/5078 [==============================] - 5s 915us/step - loss: 0.5893 - acc: 0.6940 - val_loss: 0.7622 - val_acc: 0.6801\n",
      "Epoch 58/150\n",
      "5078/5078 [==============================] - 5s 939us/step - loss: 0.5374 - acc: 0.7148 - val_loss: 0.7091 - val_acc: 0.7146\n",
      "Epoch 59/150\n",
      "5078/5078 [==============================] - 5s 943us/step - loss: 0.5471 - acc: 0.6977 - val_loss: 0.6935 - val_acc: 0.7131\n",
      "Epoch 60/150\n",
      "5078/5078 [==============================] - 5s 915us/step - loss: 0.4931 - acc: 0.7314 - val_loss: 0.7180 - val_acc: 0.6954\n",
      "Epoch 61/150\n",
      "5078/5078 [==============================] - 5s 908us/step - loss: 0.5767 - acc: 0.7019 - val_loss: 0.6873 - val_acc: 0.7121\n",
      "Epoch 62/150\n",
      "5078/5078 [==============================] - 5s 958us/step - loss: 0.5789 - acc: 0.7050 - val_loss: 0.7040 - val_acc: 0.7052\n",
      "Epoch 63/150\n",
      "5078/5078 [==============================] - 5s 930us/step - loss: 0.5167 - acc: 0.7243 - val_loss: 0.7356 - val_acc: 0.6959\n",
      "Epoch 64/150\n",
      "5078/5078 [==============================] - 5s 910us/step - loss: 0.5327 - acc: 0.7237 - val_loss: 0.9651 - val_acc: 0.6112\n",
      "Epoch 65/150\n",
      "5078/5078 [==============================] - 5s 913us/step - loss: 0.5571 - acc: 0.7168 - val_loss: 0.6770 - val_acc: 0.7190\n",
      "Epoch 66/150\n",
      "5078/5078 [==============================] - 5s 951us/step - loss: 0.5131 - acc: 0.7347 - val_loss: 0.7450 - val_acc: 0.6777\n",
      "Epoch 67/150\n",
      "5078/5078 [==============================] - 5s 936us/step - loss: 0.4872 - acc: 0.7393 - val_loss: 0.8266 - val_acc: 0.6737\n",
      "Epoch 68/150\n",
      "5078/5078 [==============================] - 5s 914us/step - loss: 0.4950 - acc: 0.7387 - val_loss: 0.6915 - val_acc: 0.7057\n",
      "Epoch 69/150\n",
      "5078/5078 [==============================] - 5s 950us/step - loss: 0.5022 - acc: 0.7410 - val_loss: 0.6919 - val_acc: 0.7175\n",
      "Epoch 70/150\n",
      "5078/5078 [==============================] - 5s 924us/step - loss: 0.4847 - acc: 0.7397 - val_loss: 0.7053 - val_acc: 0.7210\n",
      "Epoch 71/150\n",
      "5078/5078 [==============================] - 5s 906us/step - loss: 0.5181 - acc: 0.7410 - val_loss: 0.6983 - val_acc: 0.7234\n",
      "Epoch 72/150\n",
      "5078/5078 [==============================] - 5s 912us/step - loss: 0.4891 - acc: 0.7450 - val_loss: 0.6426 - val_acc: 0.7392\n",
      "Epoch 73/150\n",
      "5078/5078 [==============================] - 5s 913us/step - loss: 0.4652 - acc: 0.7594 - val_loss: 0.6894 - val_acc: 0.7308\n",
      "Epoch 74/150\n",
      "5078/5078 [==============================] - 5s 948us/step - loss: 0.4904 - acc: 0.7493 - val_loss: 0.6894 - val_acc: 0.7165\n",
      "Epoch 75/150\n",
      "5078/5078 [==============================] - 5s 938us/step - loss: 0.4340 - acc: 0.7637 - val_loss: 0.7028 - val_acc: 0.7224\n",
      "Epoch 76/150\n",
      "5078/5078 [==============================] - 5s 912us/step - loss: 0.4358 - acc: 0.7649 - val_loss: 0.6886 - val_acc: 0.7244\n",
      "Epoch 77/150\n",
      "5078/5078 [==============================] - 5s 909us/step - loss: 0.4582 - acc: 0.7538 - val_loss: 0.8142 - val_acc: 0.6816\n",
      "Epoch 78/150\n",
      "5078/5078 [==============================] - 5s 937us/step - loss: 0.4422 - acc: 0.7629 - val_loss: 0.6347 - val_acc: 0.7584\n",
      "Epoch 79/150\n",
      "5078/5078 [==============================] - 5s 948us/step - loss: 0.4420 - acc: 0.7643 - val_loss: 0.6775 - val_acc: 0.7367\n",
      "Epoch 80/150\n",
      "5078/5078 [==============================] - 5s 909us/step - loss: 0.4855 - acc: 0.7550 - val_loss: 0.6466 - val_acc: 0.7421\n",
      "Epoch 81/150\n",
      "5078/5078 [==============================] - 5s 916us/step - loss: 0.4056 - acc: 0.7724 - val_loss: 0.6534 - val_acc: 0.7495\n",
      "Epoch 82/150\n",
      "5078/5078 [==============================] - 5s 955us/step - loss: 0.4394 - acc: 0.7704 - val_loss: 0.6527 - val_acc: 0.7362\n",
      "Epoch 83/150\n",
      "5078/5078 [==============================] - 5s 936us/step - loss: 0.4334 - acc: 0.7688 - val_loss: 0.6599 - val_acc: 0.7574\n",
      "Epoch 84/150\n",
      "5078/5078 [==============================] - 5s 920us/step - loss: 0.4558 - acc: 0.7712 - val_loss: 0.6785 - val_acc: 0.7333\n",
      "Epoch 85/150\n",
      "5078/5078 [==============================] - 5s 954us/step - loss: 0.4250 - acc: 0.7686 - val_loss: 0.6605 - val_acc: 0.7392\n",
      "Epoch 86/150\n",
      "5078/5078 [==============================] - 5s 934us/step - loss: 0.4307 - acc: 0.7771 - val_loss: 0.6341 - val_acc: 0.7377\n",
      "Epoch 87/150\n",
      "5078/5078 [==============================] - 5s 933us/step - loss: 0.4140 - acc: 0.7696 - val_loss: 0.6491 - val_acc: 0.7618\n",
      "Epoch 88/150\n",
      "5078/5078 [==============================] - 5s 946us/step - loss: 0.4308 - acc: 0.7684 - val_loss: 0.6448 - val_acc: 0.7470\n",
      "Epoch 89/150\n",
      "5078/5078 [==============================] - 5s 910us/step - loss: 0.4298 - acc: 0.7773 - val_loss: 0.8643 - val_acc: 0.6683\n",
      "Epoch 90/150\n",
      "5078/5078 [==============================] - 5s 920us/step - loss: 0.4853 - acc: 0.7471 - val_loss: 0.6506 - val_acc: 0.7436\n",
      "Epoch 91/150\n",
      "5078/5078 [==============================] - 5s 965us/step - loss: 0.5551 - acc: 0.7282 - val_loss: 0.6447 - val_acc: 0.7362\n",
      "Epoch 92/150\n",
      "5078/5078 [==============================] - 5s 916us/step - loss: 0.4864 - acc: 0.7479 - val_loss: 0.6447 - val_acc: 0.7426\n",
      "Epoch 93/150\n",
      "5078/5078 [==============================] - 5s 916us/step - loss: 0.4211 - acc: 0.7783 - val_loss: 0.6591 - val_acc: 0.7530\n",
      "Epoch 94/150\n",
      "5078/5078 [==============================] - 5s 933us/step - loss: 0.4498 - acc: 0.7631 - val_loss: 0.6344 - val_acc: 0.7500\n",
      "Epoch 95/150\n",
      "5078/5078 [==============================] - 5s 939us/step - loss: 0.4050 - acc: 0.7893 - val_loss: 0.6584 - val_acc: 0.7539\n",
      "Epoch 96/150\n",
      "5078/5078 [==============================] - 5s 913us/step - loss: 0.4567 - acc: 0.7619 - val_loss: 0.6543 - val_acc: 0.7461\n",
      "Epoch 97/150\n",
      "5078/5078 [==============================] - 5s 914us/step - loss: 0.4247 - acc: 0.7735 - val_loss: 0.6067 - val_acc: 0.7657\n",
      "Epoch 98/150\n",
      "5078/5078 [==============================] - 5s 959us/step - loss: 0.4431 - acc: 0.7842 - val_loss: 0.6589 - val_acc: 0.7411\n",
      "Epoch 99/150\n",
      "5078/5078 [==============================] - 5s 918us/step - loss: 0.3991 - acc: 0.7838 - val_loss: 0.6014 - val_acc: 0.7672\n",
      "Epoch 100/150\n",
      "5078/5078 [==============================] - 5s 944us/step - loss: 0.4295 - acc: 0.7865 - val_loss: 0.6303 - val_acc: 0.7436\n",
      "Epoch 101/150\n",
      "5078/5078 [==============================] - 5s 948us/step - loss: 0.4158 - acc: 0.7924 - val_loss: 0.6497 - val_acc: 0.7534\n",
      "Epoch 102/150\n",
      "5078/5078 [==============================] - 5s 924us/step - loss: 0.4228 - acc: 0.7879 - val_loss: 0.6448 - val_acc: 0.7446\n",
      "Epoch 103/150\n",
      "5078/5078 [==============================] - 5s 934us/step - loss: 0.3894 - acc: 0.8009 - val_loss: 0.5973 - val_acc: 0.7657\n",
      "Epoch 104/150\n",
      "5078/5078 [==============================] - 5s 941us/step - loss: 0.3813 - acc: 0.7993 - val_loss: 0.6244 - val_acc: 0.7643\n",
      "Epoch 105/150\n",
      "5078/5078 [==============================] - 5s 909us/step - loss: 0.3665 - acc: 0.7997 - val_loss: 0.6190 - val_acc: 0.7638\n",
      "Epoch 106/150\n",
      "5078/5078 [==============================] - 5s 919us/step - loss: 0.3619 - acc: 0.8078 - val_loss: 0.6189 - val_acc: 0.7662\n",
      "Epoch 107/150\n",
      "5078/5078 [==============================] - 5s 918us/step - loss: 0.3692 - acc: 0.8046 - val_loss: 0.6328 - val_acc: 0.7657\n",
      "Epoch 108/150\n",
      "5078/5078 [==============================] - 5s 950us/step - loss: 0.4795 - acc: 0.7838 - val_loss: 0.6265 - val_acc: 0.7402\n",
      "Epoch 109/150\n",
      "5078/5078 [==============================] - 5s 928us/step - loss: 0.5042 - acc: 0.7436 - val_loss: 0.6085 - val_acc: 0.7657\n",
      "Epoch 110/150\n",
      "5078/5078 [==============================] - 5s 914us/step - loss: 0.4377 - acc: 0.7767 - val_loss: 0.5837 - val_acc: 0.7751\n",
      "Epoch 111/150\n",
      "5078/5078 [==============================] - 5s 918us/step - loss: 0.3953 - acc: 0.7942 - val_loss: 0.6725 - val_acc: 0.7343\n",
      "Epoch 112/150\n",
      "5078/5078 [==============================] - 5s 948us/step - loss: 0.3871 - acc: 0.8003 - val_loss: 0.6215 - val_acc: 0.7682\n",
      "Epoch 113/150\n",
      "5078/5078 [==============================] - 5s 929us/step - loss: 0.3474 - acc: 0.8129 - val_loss: 0.6286 - val_acc: 0.7746\n",
      "Epoch 114/150\n",
      "5078/5078 [==============================] - 5s 908us/step - loss: 0.3288 - acc: 0.8171 - val_loss: 0.6276 - val_acc: 0.7677\n",
      "Epoch 115/150\n",
      "5078/5078 [==============================] - 5s 918us/step - loss: 0.3453 - acc: 0.8218 - val_loss: 0.6988 - val_acc: 0.7534\n",
      "Epoch 116/150\n",
      "5078/5078 [==============================] - 5s 933us/step - loss: 0.4813 - acc: 0.7751 - val_loss: 0.6338 - val_acc: 0.7564\n",
      "Epoch 117/150\n",
      "5078/5078 [==============================] - 5s 936us/step - loss: 0.3749 - acc: 0.8088 - val_loss: 0.5990 - val_acc: 0.7702\n",
      "Epoch 118/150\n",
      "5078/5078 [==============================] - 5s 911us/step - loss: 0.3641 - acc: 0.8123 - val_loss: 0.6236 - val_acc: 0.7712\n",
      "Epoch 119/150\n",
      "5078/5078 [==============================] - 5s 917us/step - loss: 0.3764 - acc: 0.8062 - val_loss: 0.6601 - val_acc: 0.7534\n",
      "Epoch 120/150\n",
      "5078/5078 [==============================] - 5s 948us/step - loss: 0.3936 - acc: 0.7940 - val_loss: 0.6374 - val_acc: 0.7495\n",
      "Epoch 121/150\n",
      "5078/5078 [==============================] - 5s 938us/step - loss: 0.4185 - acc: 0.7731 - val_loss: 0.6376 - val_acc: 0.7662\n",
      "Epoch 122/150\n",
      "5078/5078 [==============================] - 5s 937us/step - loss: 0.3576 - acc: 0.8192 - val_loss: 0.6456 - val_acc: 0.7544\n",
      "Epoch 123/150\n",
      "5078/5078 [==============================] - 5s 934us/step - loss: 0.3610 - acc: 0.8017 - val_loss: 0.6010 - val_acc: 0.7702\n",
      "Epoch 124/150\n",
      "5078/5078 [==============================] - 5s 945us/step - loss: 0.3490 - acc: 0.8155 - val_loss: 0.6293 - val_acc: 0.7751\n",
      "Epoch 125/150\n",
      "5078/5078 [==============================] - 5s 942us/step - loss: 0.3824 - acc: 0.8064 - val_loss: 0.6142 - val_acc: 0.7584\n",
      "Epoch 126/150\n",
      "5078/5078 [==============================] - 5s 910us/step - loss: 0.3391 - acc: 0.8243 - val_loss: 0.6179 - val_acc: 0.7697\n",
      "Epoch 127/150\n",
      "5078/5078 [==============================] - 5s 945us/step - loss: 0.3220 - acc: 0.8320 - val_loss: 0.7052 - val_acc: 0.7525\n",
      "Epoch 128/150\n",
      "5078/5078 [==============================] - 5s 929us/step - loss: 0.3504 - acc: 0.8109 - val_loss: 0.6631 - val_acc: 0.7697\n",
      "Epoch 129/150\n",
      "5078/5078 [==============================] - 5s 957us/step - loss: 0.4165 - acc: 0.7853 - val_loss: 0.6632 - val_acc: 0.7771\n",
      "Epoch 130/150\n",
      "5078/5078 [==============================] - 5s 935us/step - loss: 0.3510 - acc: 0.8153 - val_loss: 0.6154 - val_acc: 0.7731\n",
      "3041/3041 [==============================] - 1s 386us/step\n",
      "Loss: 0.577, Accuracy: 0.778\n"
     ]
    }
   ],
   "source": [
    "import numpy as np\n",
    "from keras.models import Sequential\n",
    "from keras.layers import Dense, Flatten, Conv1D, MaxPooling1D, AveragePooling1D, Dropout\n",
    "from keras.layers import BatchNormalization, Activation\n",
    "from keras.optimizers import Adam\n",
    "from keras.utils import np_utils\n",
    "import tensorflow as tf\n",
    "from keras.callbacks import EarlyStopping\n",
    "from sklearn.utils import class_weight\n",
    "np.set_printoptions(suppress=True)\n",
    "\n",
    "trainD = np.load(\"/home/hsiehch/30s/train_data.npy\")\n",
    "trainL = np.load(\"/home/hsiehch/30s/train_label.npy\")\n",
    "validationD = np.load(\"/home/hsiehch/30s/validation_data.npy\")\n",
    "validationL = np.load(\"/home/hsiehch/30s/validation_label.npy\")\n",
    "testD = np.load(\"/home/hsiehch/30s/test_data.npy\")\n",
    "testL = np.load(\"/home/hsiehch/30s/test_label.npy\")\n",
    "\n",
    "trainData = trainD.reshape((trainD.shape[0], trainD.shape[1], 1))\n",
    "trainLabel = np_utils.to_categorical(trainL, 4)\n",
    "validationData = validationD.reshape((validationD.shape[0], validationD.shape[1], 1))\n",
    "validationLabel = np_utils.to_categorical(validationL, 4)\n",
    "testData = testD.reshape((testD.shape[0], testD.shape[1], 1))\n",
    "testLabel = np_utils.to_categorical(testL, 4)\n",
    "\n",
    "cw = class_weight.compute_sample_weight('balanced', [0,1,2,3], trainL)\n",
    "\n",
    "print('Train Data:', trainData.shape)\n",
    "print('Train Label: ', trainLabel.shape)\n",
    "print('Vali Data: ', validationData.shape)\n",
    "print('Vali Label: ', validationLabel.shape)\n",
    "print('Test Data: ', testData.shape)\n",
    "print('Test Label: ', testLabel.shape)\n",
    "\n",
    "\n",
    "try:\n",
    "    model and parallel_model\n",
    "except NameError:\n",
    "    print(\"Good to go!\")\n",
    "    pass\n",
    "else:   \n",
    "    if model:\n",
    "        del model\n",
    "        del parallel_model\n",
    "    print(\"Object has been cleaned!\")\n",
    "\n",
    "\n",
    "model = Sequential()\n",
    "model.add(Conv1D(filters = 32, kernel_size = 7, input_shape = (trainData.shape[1], 1)))\n",
    "model.add(Activation('relu'))\n",
    "model.add(BatchNormalization())\n",
    "model.add(MaxPooling1D(pool_size = 2))\n",
    "\n",
    "model.add(Conv1D(filters = 32, kernel_size = 7))\n",
    "model.add(Activation('relu'))\n",
    "model.add(MaxPooling1D(pool_size = 2))\n",
    "\n",
    "model.add(Conv1D(filters = 64, kernel_size = 7))\n",
    "model.add(Activation('relu'))\n",
    "model.add(MaxPooling1D(pool_size = 2))\n",
    "\n",
    "model.add(Conv1D(filters = 64, kernel_size = 3))\n",
    "model.add(Activation('relu'))\n",
    "model.add(MaxPooling1D(pool_size = 2))\n",
    "\n",
    "model.add(Conv1D(filters = 128, kernel_size = 3))\n",
    "model.add(Activation('relu'))\n",
    "model.add(MaxPooling1D(pool_size = 2))\n",
    "\n",
    "model.add(Conv1D(filters = 128, kernel_size = 3))\n",
    "model.add(Activation('relu'))\n",
    "model.add(MaxPooling1D(pool_size = 2))\n",
    "model.add(Dropout(0.5))\n",
    "\n",
    "model.add(Conv1D(filters = 256, kernel_size = 3))\n",
    "model.add(Activation('relu'))\n",
    "model.add(MaxPooling1D(pool_size = 2))\n",
    "\n",
    "model.add(Conv1D(filters = 256, kernel_size = 3))\n",
    "model.add(Activation('relu'))\n",
    "model.add(MaxPooling1D(pool_size = 2))\n",
    "model.add(Dropout(0.5))\n",
    "\n",
    "model.add(Conv1D(filters = 512, kernel_size = 3))\n",
    "model.add(Activation('relu'))\n",
    "model.add(MaxPooling1D(pool_size = 2))\n",
    "model.add(Dropout(0.5))\n",
    "\n",
    "model.add(Conv1D(filters = 512, kernel_size = 3))\n",
    "model.add(Activation('relu'))\n",
    "\n",
    "model.add(Flatten())\n",
    "model.add(Dense(512, activation = 'relu'))\n",
    "model.add(Dropout(0.5))\n",
    "model.add(Dense(128, activation = 'relu'))\n",
    "model.add(Dense(4, activation = \"softmax\"))\n",
    "\n",
    "print(model.summary())\n",
    "\n",
    "adam = Adam(lr = 0.001)\n",
    "model.compile(optimizer = adam, loss = \"categorical_crossentropy\", metrics=['accuracy'])\n",
    "\n",
    "cw = {0: cw[0],\n",
    "      1: cw[1],\n",
    "      2: cw[2],\n",
    "      3: cw[3]}\n",
    "# class_weight = class_weight.compute_sample_weight('balanced', [0,1,2,3], trainL)\n",
    "early_stop = EarlyStopping(patience=20)\n",
    "train_history_1 = model.fit(x = trainData,\n",
    "                            y = trainLabel,\n",
    "                            epochs=150,\n",
    "                            validation_data=(validationData, validationLabel),\n",
    "                            callbacks=[early_stop],\n",
    "                            class_weight=cw,\n",
    "                            batch_size=70, \n",
    "                            verbose=1)\n",
    "\n",
    "evaluation = model.evaluate(x = testData, y = testLabel)\n",
    "print('Loss: {:.3f}, Accuracy: {:.3f}'.format(evaluation[0], evaluation[1]))\n",
    "\n",
    "\n",
    "import pylab as plt\n",
    "def history_display(hist, train, validation):\n",
    "    plt.plot(hist.history[train])\n",
    "    plt.plot(hist.history[validation])\n",
    "    plt.title('Train History')\n",
    "    plt.ylabel(train)\n",
    "    plt.xlabel('Epoch')\n",
    "    plt.legend(['train', 'validation'], loc='upper left')\n",
    "    plt.show\n",
    "    \n",
    "def show_plot(flag, hist):\n",
    "    if flag == 'acc':\n",
    "        history_display(hist, 'acc', 'val_acc')\n",
    "    elif flag == 'loss':\n",
    "        history_display(hist, 'loss', 'val_loss')\n",
    "    else:\n",
    "        print('Invalid!')\n"
   ]
  },
  {
   "cell_type": "code",
   "execution_count": 4,
   "metadata": {
    "ExecuteTime": {
     "end_time": "2018-11-24T14:41:23.162278Z",
     "start_time": "2018-11-24T14:41:10.436676Z"
    },
    "hidden": true
   },
   "outputs": [
    {
     "name": "stdout",
     "output_type": "stream",
     "text": [
      "Confusion matrix, without normalization\n"
     ]
    },
    {
     "data": {
      "image/png": "[encoded data removed]",
      "text/plain": [
       "<Figure size 432x288 with 2 Axes>"
      ]
     },
     "metadata": {},
     "output_type": "display_data"
    }
   ],
   "source": [
    "from toolkit import plot_confusion_matrix\n",
    "from sklearn.metrics import confusion_matrix\n",
    "test_prediction = model.predict_classes(testData, batch_size=1)\n",
    "cnf_matrix = confusion_matrix(testL, test_prediction)\n",
    "plot_confusion_matrix.plot_confusion_matrix(cnf_matrix, classes=['AF','Noise','Normal','Other'], save_png=False)"
   ]
  },
  {
   "cell_type": "code",
   "execution_count": 2,
   "metadata": {
    "ExecuteTime": {
     "end_time": "2018-11-24T14:41:10.162113Z",
     "start_time": "2018-11-24T14:41:09.843631Z"
    },
    "hidden": true
   },
   "outputs": [
    {
     "data": {
      "image/png": "[encoded data removed]",
      "text/plain": [
       "<Figure size 432x288 with 1 Axes>"
      ]
     },
     "metadata": {},
     "output_type": "display_data"
    }
   ],
   "source": [
    "show_plot('acc', train_history_1)"
   ]
  },
  {
   "cell_type": "code",
   "execution_count": 3,
   "metadata": {
    "ExecuteTime": {
     "end_time": "2018-11-24T14:41:10.433647Z",
     "start_time": "2018-11-24T14:41:10.165160Z"
    },
    "hidden": true,
    "scrolled": true
   },
   "outputs": [
    {
     "data": {
      "image/png": "[encoded data removed]",
      "text/plain": [
       "<Figure size 432x288 with 1 Axes>"
      ]
     },
     "metadata": {},
     "output_type": "display_data"
    }
   ],
   "source": [
    "show_plot('loss', train_history_1)"
   ]
  },
  {
   "cell_type": "markdown",
   "metadata": {
    "heading_collapsed": true
   },
   "source": [
    "## oversampling (random selection)"
   ]
  },
  {
   "cell_type": "markdown",
   "metadata": {
    "hidden": true
   },
   "source": [
    "[The Right Way to Oversample in Predictive Modeling](https://beckernick.github.io/oversampling-modeling/)\n",
    "\n",
    "[Class Imbalance Problem](http://www.chioka.in/class-imbalance-problem/)\n",
    "\n",
    "[random seed](https://blog.csdn.net/yangyiwxl/article/details/71641355)"
   ]
  },
  {
   "cell_type": "code",
   "execution_count": 1,
   "metadata": {
    "ExecuteTime": {
     "end_time": "2018-12-06T02:28:37.187721Z",
     "start_time": "2018-12-06T02:28:34.933810Z"
    },
    "hidden": true
   },
   "outputs": [
    {
     "name": "stderr",
     "output_type": "stream",
     "text": [
      "/usr/local/lib/python3.5/dist-packages/h5py/__init__.py:36: FutureWarning: Conversion of the second argument of issubdtype from `float` to `np.floating` is deprecated. In future, it will be treated as `np.float64 == np.dtype(float).type`.\n",
      "  from ._conv import register_converters as _register_converters\n",
      "Using TensorFlow backend.\n"
     ]
    },
    {
     "name": "stdout",
     "output_type": "stream",
     "text": [
      "Train Data: (5078, 9000, 1)\n",
      "Train Label:  (5078, 4)\n",
      "Vali Data:  (2032, 9000, 1)\n",
      "Vali Label:  (2032, 4)\n",
      "Test Data:  (3041, 9000, 1)\n",
      "Test Label:  (3041, 4)\n"
     ]
    }
   ],
   "source": [
    "import numpy as np\n",
    "from keras.models import Sequential\n",
    "from keras.layers import Dense, Flatten, Conv1D, MaxPooling1D, AveragePooling1D, Dropout\n",
    "from keras.layers import BatchNormalization, Activation\n",
    "from keras.optimizers import Adam\n",
    "from keras.utils import np_utils\n",
    "import tensorflow as tf\n",
    "from keras.callbacks import EarlyStopping\n",
    "np.set_printoptions(suppress=True)\n",
    "\n",
    "trainD = np.load(\"/home/hsiehch/30s/train_data.npy\")\n",
    "trainL = np.load(\"/home/hsiehch/30s/train_label.npy\")\n",
    "validationD = np.load(\"/home/hsiehch/30s/validation_data.npy\")\n",
    "validationL = np.load(\"/home/hsiehch/30s/validation_label.npy\")\n",
    "testD = np.load(\"/home/hsiehch/30s/test_data.npy\")\n",
    "testL = np.load(\"/home/hsiehch/30s/test_label.npy\")\n",
    "\n",
    "trainData = trainD.reshape((trainD.shape[0], trainD.shape[1], 1))\n",
    "trainLabel = np_utils.to_categorical(trainL, 4)\n",
    "validationData = validationD.reshape((validationD.shape[0], validationD.shape[1], 1))\n",
    "validationLabel = np_utils.to_categorical(validationL, 4)\n",
    "testData = testD.reshape((testD.shape[0], testD.shape[1], 1))\n",
    "testLabel = np_utils.to_categorical(testL, 4)\n",
    "\n",
    "print('Train Data:', trainData.shape)\n",
    "print('Train Label: ', trainLabel.shape)\n",
    "print('Vali Data: ', validationData.shape)\n",
    "print('Vali Label: ', validationLabel.shape)\n",
    "print('Test Data: ', testData.shape)\n",
    "print('Test Label: ', testLabel.shape)"
   ]
  },
  {
   "cell_type": "code",
   "execution_count": 2,
   "metadata": {
    "ExecuteTime": {
     "end_time": "2018-12-06T02:29:17.258757Z",
     "start_time": "2018-12-06T02:28:40.535888Z"
    },
    "hidden": true
   },
   "outputs": [],
   "source": [
    "from imblearn.over_sampling import SMOTE\n",
    "# sm = SMOTE(sampling_strategy = {0:2980, 1:2980, 2:2980, 3:2980}, random_state=12)\n",
    "sm = SMOTE(sampling_strategy = 'auto', random_state=12)\n",
    "x_res, y_res = sm.fit_sample(trainD, trainL)"
   ]
  },
  {
   "cell_type": "code",
   "execution_count": 3,
   "metadata": {
    "ExecuteTime": {
     "end_time": "2018-12-06T02:29:17.271348Z",
     "start_time": "2018-12-06T02:29:17.263771Z"
    },
    "hidden": true
   },
   "outputs": [],
   "source": [
    "x_res = x_res.reshape((x_res.shape[0], x_res.shape[1], 1))\n",
    "y_res = np_utils.to_categorical(y_res, 4)"
   ]
  },
  {
   "cell_type": "code",
   "execution_count": 4,
   "metadata": {
    "ExecuteTime": {
     "end_time": "2018-12-06T02:29:17.300351Z",
     "start_time": "2018-12-06T02:29:17.274298Z"
    },
    "hidden": true
   },
   "outputs": [
    {
     "data": {
      "text/plain": [
       "(11920, 4)"
      ]
     },
     "execution_count": 4,
     "metadata": {},
     "output_type": "execute_result"
    }
   ],
   "source": [
    "y_res.shape"
   ]
  },
  {
   "cell_type": "code",
   "execution_count": 5,
   "metadata": {
    "ExecuteTime": {
     "end_time": "2018-12-06T02:29:17.325071Z",
     "start_time": "2018-12-06T02:29:17.303342Z"
    },
    "hidden": true,
    "hide_input": false
   },
   "outputs": [
    {
     "data": {
      "text/plain": [
       "array([2980., 2980., 2980., 2980.], dtype=float32)"
      ]
     },
     "execution_count": 5,
     "metadata": {},
     "output_type": "execute_result"
    }
   ],
   "source": [
    "#classes=['AF','Noise','Normal','Other']\n",
    "sum(y_res)"
   ]
  },
  {
   "cell_type": "code",
   "execution_count": 9,
   "metadata": {
    "ExecuteTime": {
     "end_time": "2018-12-06T03:31:19.840051Z",
     "start_time": "2018-12-06T03:20:26.273449Z"
    },
    "hidden": true,
    "scrolled": true
   },
   "outputs": [
    {
     "name": "stdout",
     "output_type": "stream",
     "text": [
      "Good to go!\n",
      "_________________________________________________________________\n",
      "Layer (type)                 Output Shape              Param #   \n",
      "=================================================================\n",
      "conv1d_31 (Conv1D)           (None, 8994, 32)          256       \n",
      "_________________________________________________________________\n",
      "activation_31 (Activation)   (None, 8994, 32)          0         \n",
      "_________________________________________________________________\n",
      "batch_normalization_14 (Batc (None, 8994, 32)          128       \n",
      "_________________________________________________________________\n",
      "max_pooling1d_28 (MaxPooling (None, 4497, 32)          0         \n",
      "_________________________________________________________________\n",
      "conv1d_32 (Conv1D)           (None, 4491, 32)          7200      \n",
      "_________________________________________________________________\n",
      "activation_32 (Activation)   (None, 4491, 32)          0         \n",
      "_________________________________________________________________\n",
      "max_pooling1d_29 (MaxPooling (None, 2245, 32)          0         \n",
      "_________________________________________________________________\n",
      "conv1d_33 (Conv1D)           (None, 2239, 32)          7200      \n",
      "_________________________________________________________________\n",
      "activation_33 (Activation)   (None, 2239, 32)          0         \n",
      "_________________________________________________________________\n",
      "max_pooling1d_30 (MaxPooling (None, 1119, 32)          0         \n",
      "_________________________________________________________________\n",
      "conv1d_34 (Conv1D)           (None, 1115, 32)          5152      \n",
      "_________________________________________________________________\n",
      "activation_34 (Activation)   (None, 1115, 32)          0         \n",
      "_________________________________________________________________\n",
      "max_pooling1d_31 (MaxPooling (None, 557, 32)           0         \n",
      "_________________________________________________________________\n",
      "conv1d_35 (Conv1D)           (None, 553, 32)           5152      \n",
      "_________________________________________________________________\n",
      "activation_35 (Activation)   (None, 553, 32)           0         \n",
      "_________________________________________________________________\n",
      "max_pooling1d_32 (MaxPooling (None, 276, 32)           0         \n",
      "_________________________________________________________________\n",
      "conv1d_36 (Conv1D)           (None, 272, 32)           5152      \n",
      "_________________________________________________________________\n",
      "activation_36 (Activation)   (None, 272, 32)           0         \n",
      "_________________________________________________________________\n",
      "max_pooling1d_33 (MaxPooling (None, 136, 32)           0         \n",
      "_________________________________________________________________\n",
      "dropout_4 (Dropout)          (None, 136, 32)           0         \n",
      "_________________________________________________________________\n",
      "conv1d_37 (Conv1D)           (None, 134, 64)           6208      \n",
      "_________________________________________________________________\n",
      "activation_37 (Activation)   (None, 134, 64)           0         \n",
      "_________________________________________________________________\n",
      "max_pooling1d_34 (MaxPooling (None, 67, 64)            0         \n",
      "_________________________________________________________________\n",
      "conv1d_38 (Conv1D)           (None, 65, 64)            12352     \n",
      "_________________________________________________________________\n",
      "activation_38 (Activation)   (None, 65, 64)            0         \n",
      "_________________________________________________________________\n",
      "max_pooling1d_35 (MaxPooling (None, 32, 64)            0         \n",
      "_________________________________________________________________\n",
      "dropout_5 (Dropout)          (None, 32, 64)            0         \n",
      "_________________________________________________________________\n",
      "conv1d_39 (Conv1D)           (None, 30, 64)            12352     \n",
      "_________________________________________________________________\n",
      "activation_39 (Activation)   (None, 30, 64)            0         \n",
      "_________________________________________________________________\n",
      "max_pooling1d_36 (MaxPooling (None, 15, 64)            0         \n",
      "_________________________________________________________________\n",
      "dropout_6 (Dropout)          (None, 15, 64)            0         \n",
      "_________________________________________________________________\n",
      "conv1d_40 (Conv1D)           (None, 13, 128)           24704     \n",
      "_________________________________________________________________\n",
      "activation_40 (Activation)   (None, 13, 128)           0         \n",
      "_________________________________________________________________\n",
      "max_pooling1d_37 (MaxPooling (None, 6, 128)            0         \n",
      "_________________________________________________________________\n",
      "conv1d_41 (Conv1D)           (None, 4, 128)            49280     \n",
      "_________________________________________________________________\n",
      "activation_41 (Activation)   (None, 4, 128)            0         \n",
      "_________________________________________________________________\n",
      "flatten_4 (Flatten)          (None, 512)               0         \n",
      "_________________________________________________________________\n",
      "dense_10 (Dense)             (None, 128)               65664     \n",
      "_________________________________________________________________\n",
      "dropout_7 (Dropout)          (None, 128)               0         \n",
      "_________________________________________________________________\n",
      "dense_11 (Dense)             (None, 64)                8256      \n",
      "_________________________________________________________________\n",
      "dense_12 (Dense)             (None, 4)                 260       \n",
      "=================================================================\n",
      "Total params: 209,316\n",
      "Trainable params: 209,252\n",
      "Non-trainable params: 64\n",
      "_________________________________________________________________\n",
      "None\n",
      "Train on 11920 samples, validate on 2032 samples\n",
      "Epoch 1/150\n",
      "11920/11920 [==============================] - 12s 1ms/step - loss: 1.2473 - acc: 0.4174 - val_loss: 1.3962 - val_acc: 0.1801\n",
      "Epoch 2/150\n",
      "11920/11920 [==============================] - 8s 672us/step - loss: 0.8768 - acc: 0.6158 - val_loss: 1.0233 - val_acc: 0.5408\n",
      "Epoch 3/150\n",
      "11920/11920 [==============================] - 8s 639us/step - loss: 0.7400 - acc: 0.6888 - val_loss: 1.1097 - val_acc: 0.3942\n",
      "Epoch 4/150\n",
      "11920/11920 [==============================] - 8s 672us/step - loss: 0.6748 - acc: 0.7182 - val_loss: 1.0134 - val_acc: 0.4793\n",
      "Epoch 5/150\n",
      "11920/11920 [==============================] - 8s 688us/step - loss: 0.6141 - acc: 0.7428 - val_loss: 0.8742 - val_acc: 0.5856\n",
      "Epoch 6/150\n",
      "11920/11920 [==============================] - 8s 673us/step - loss: 0.5804 - acc: 0.7650 - val_loss: 0.8496 - val_acc: 0.6314\n",
      "Epoch 7/150\n",
      "11920/11920 [==============================] - 8s 664us/step - loss: 0.5609 - acc: 0.7768 - val_loss: 0.9670 - val_acc: 0.5118\n",
      "Epoch 8/150\n",
      "11920/11920 [==============================] - 8s 676us/step - loss: 0.5454 - acc: 0.7796 - val_loss: 0.7804 - val_acc: 0.6604\n",
      "Epoch 9/150\n",
      "11920/11920 [==============================] - 8s 675us/step - loss: 0.5104 - acc: 0.7977 - val_loss: 0.8670 - val_acc: 0.6555\n",
      "Epoch 10/150\n",
      "11920/11920 [==============================] - 8s 638us/step - loss: 0.4918 - acc: 0.8115 - val_loss: 0.7788 - val_acc: 0.6969\n",
      "Epoch 11/150\n",
      "11920/11920 [==============================] - 8s 647us/step - loss: 0.4759 - acc: 0.8158 - val_loss: 0.7652 - val_acc: 0.6826\n",
      "Epoch 12/150\n",
      "11920/11920 [==============================] - 8s 670us/step - loss: 0.4652 - acc: 0.8214 - val_loss: 0.8139 - val_acc: 0.6865\n",
      "Epoch 13/150\n",
      "11920/11920 [==============================] - 8s 662us/step - loss: 0.4425 - acc: 0.8338 - val_loss: 0.9175 - val_acc: 0.6029\n",
      "Epoch 14/150\n",
      "11920/11920 [==============================] - 8s 665us/step - loss: 0.4255 - acc: 0.8356 - val_loss: 0.6760 - val_acc: 0.7333\n",
      "Epoch 15/150\n",
      "11920/11920 [==============================] - 8s 683us/step - loss: 0.4140 - acc: 0.8443 - val_loss: 0.7540 - val_acc: 0.7156\n",
      "Epoch 16/150\n",
      "11920/11920 [==============================] - 8s 674us/step - loss: 0.3882 - acc: 0.8552 - val_loss: 0.6897 - val_acc: 0.7416\n",
      "Epoch 17/150\n",
      "11920/11920 [==============================] - 8s 683us/step - loss: 0.3912 - acc: 0.8521 - val_loss: 0.7241 - val_acc: 0.7269\n",
      "Epoch 18/150\n"
     ]
    },
    {
     "name": "stdout",
     "output_type": "stream",
     "text": [
      "11920/11920 [==============================] - 8s 693us/step - loss: 0.3791 - acc: 0.8571 - val_loss: 0.7421 - val_acc: 0.7328\n",
      "Epoch 19/150\n",
      "11920/11920 [==============================] - 8s 680us/step - loss: 0.3778 - acc: 0.8607 - val_loss: 0.6798 - val_acc: 0.7505\n",
      "Epoch 20/150\n",
      "11920/11920 [==============================] - 8s 697us/step - loss: 0.3551 - acc: 0.8637 - val_loss: 0.6653 - val_acc: 0.7544\n",
      "Epoch 21/150\n",
      "11920/11920 [==============================] - 8s 690us/step - loss: 0.3532 - acc: 0.8698 - val_loss: 0.6948 - val_acc: 0.7702\n",
      "Epoch 22/150\n",
      "11920/11920 [==============================] - 8s 696us/step - loss: 0.3528 - acc: 0.8674 - val_loss: 0.6645 - val_acc: 0.7746\n",
      "Epoch 23/150\n",
      "11920/11920 [==============================] - 8s 695us/step - loss: 0.3385 - acc: 0.8768 - val_loss: 0.7099 - val_acc: 0.7584\n",
      "Epoch 24/150\n",
      "11920/11920 [==============================] - 8s 697us/step - loss: 0.3363 - acc: 0.8769 - val_loss: 0.6146 - val_acc: 0.7913\n",
      "Epoch 25/150\n",
      "11920/11920 [==============================] - 8s 699us/step - loss: 0.3356 - acc: 0.8738 - val_loss: 0.6874 - val_acc: 0.7564\n",
      "Epoch 26/150\n",
      "11920/11920 [==============================] - 8s 697us/step - loss: 0.3160 - acc: 0.8836 - val_loss: 0.6923 - val_acc: 0.7564\n",
      "Epoch 27/150\n",
      "11920/11920 [==============================] - 8s 698us/step - loss: 0.3222 - acc: 0.8836 - val_loss: 0.6159 - val_acc: 0.7844\n",
      "Epoch 28/150\n",
      "11920/11920 [==============================] - 8s 697us/step - loss: 0.3055 - acc: 0.8866 - val_loss: 0.6634 - val_acc: 0.7662\n",
      "Epoch 29/150\n",
      "11920/11920 [==============================] - 8s 689us/step - loss: 0.3029 - acc: 0.8884 - val_loss: 0.6266 - val_acc: 0.7854\n",
      "Epoch 30/150\n",
      "11920/11920 [==============================] - 8s 680us/step - loss: 0.3006 - acc: 0.8904 - val_loss: 0.6605 - val_acc: 0.7815\n",
      "Epoch 31/150\n",
      "11920/11920 [==============================] - 8s 697us/step - loss: 0.3036 - acc: 0.8866 - val_loss: 0.6244 - val_acc: 0.7707\n",
      "Epoch 32/150\n",
      "11920/11920 [==============================] - 8s 690us/step - loss: 0.2924 - acc: 0.8883 - val_loss: 0.6772 - val_acc: 0.7825\n",
      "Epoch 33/150\n",
      "11920/11920 [==============================] - 8s 688us/step - loss: 0.2875 - acc: 0.8951 - val_loss: 0.6202 - val_acc: 0.7849\n",
      "Epoch 34/150\n",
      "11920/11920 [==============================] - 8s 695us/step - loss: 0.2933 - acc: 0.8935 - val_loss: 0.6366 - val_acc: 0.7751\n",
      "Epoch 35/150\n",
      "11920/11920 [==============================] - 8s 679us/step - loss: 0.2826 - acc: 0.8972 - val_loss: 0.6501 - val_acc: 0.7913\n",
      "Epoch 36/150\n",
      "11920/11920 [==============================] - 8s 686us/step - loss: 0.2755 - acc: 0.8968 - val_loss: 0.6560 - val_acc: 0.7677\n",
      "Epoch 37/150\n",
      "11920/11920 [==============================] - 8s 694us/step - loss: 0.2734 - acc: 0.8987 - val_loss: 0.6644 - val_acc: 0.7795\n",
      "Epoch 38/150\n",
      "11920/11920 [==============================] - 8s 694us/step - loss: 0.2782 - acc: 0.9003 - val_loss: 0.6555 - val_acc: 0.7662\n",
      "Epoch 39/150\n",
      "11920/11920 [==============================] - 8s 687us/step - loss: 0.2679 - acc: 0.9009 - val_loss: 0.6315 - val_acc: 0.7884\n",
      "Epoch 40/150\n",
      "11920/11920 [==============================] - 8s 692us/step - loss: 0.2652 - acc: 0.9018 - val_loss: 0.6711 - val_acc: 0.7894\n",
      "Epoch 41/150\n",
      "11920/11920 [==============================] - 8s 691us/step - loss: 0.2635 - acc: 0.9008 - val_loss: 0.6468 - val_acc: 0.7899\n",
      "Epoch 42/150\n",
      "11920/11920 [==============================] - 8s 685us/step - loss: 0.2529 - acc: 0.9064 - val_loss: 0.6664 - val_acc: 0.7785\n",
      "Epoch 43/150\n",
      "11920/11920 [==============================] - 8s 690us/step - loss: 0.2608 - acc: 0.9048 - val_loss: 0.6110 - val_acc: 0.7913\n",
      "Epoch 44/150\n",
      "11920/11920 [==============================] - 8s 691us/step - loss: 0.2584 - acc: 0.9054 - val_loss: 0.6275 - val_acc: 0.7889\n",
      "Epoch 45/150\n",
      "11920/11920 [==============================] - 8s 664us/step - loss: 0.2538 - acc: 0.9038 - val_loss: 0.6832 - val_acc: 0.7840\n",
      "Epoch 46/150\n",
      "11920/11920 [==============================] - 8s 684us/step - loss: 0.2644 - acc: 0.9046 - val_loss: 0.6475 - val_acc: 0.7963\n",
      "Epoch 47/150\n",
      "11920/11920 [==============================] - 8s 662us/step - loss: 0.2452 - acc: 0.9079 - val_loss: 0.6341 - val_acc: 0.7997\n",
      "Epoch 48/150\n",
      "11920/11920 [==============================] - 8s 656us/step - loss: 0.2539 - acc: 0.9031 - val_loss: 0.6236 - val_acc: 0.7933\n",
      "Epoch 49/150\n",
      "11920/11920 [==============================] - 8s 668us/step - loss: 0.2438 - acc: 0.9122 - val_loss: 0.6591 - val_acc: 0.7849\n",
      "Epoch 50/150\n",
      "11920/11920 [==============================] - 8s 701us/step - loss: 0.2516 - acc: 0.9073 - val_loss: 0.6475 - val_acc: 0.7972\n",
      "Epoch 51/150\n",
      "11920/11920 [==============================] - 8s 676us/step - loss: 0.2458 - acc: 0.9086 - val_loss: 0.6423 - val_acc: 0.7721\n",
      "Epoch 52/150\n",
      "11920/11920 [==============================] - 8s 681us/step - loss: 0.2509 - acc: 0.9070 - val_loss: 0.6556 - val_acc: 0.7854\n",
      "Epoch 53/150\n",
      "11920/11920 [==============================] - 8s 667us/step - loss: 0.2332 - acc: 0.9112 - val_loss: 0.6612 - val_acc: 0.7899\n",
      "Epoch 54/150\n",
      "11920/11920 [==============================] - 8s 672us/step - loss: 0.2415 - acc: 0.9132 - val_loss: 0.6113 - val_acc: 0.7904\n",
      "Epoch 55/150\n",
      "11920/11920 [==============================] - 8s 678us/step - loss: 0.2289 - acc: 0.9162 - val_loss: 0.6542 - val_acc: 0.7771\n",
      "Epoch 56/150\n",
      "11920/11920 [==============================] - 8s 674us/step - loss: 0.2302 - acc: 0.9169 - val_loss: 0.6684 - val_acc: 0.7953\n",
      "Epoch 57/150\n",
      "11920/11920 [==============================] - 8s 689us/step - loss: 0.2319 - acc: 0.9129 - val_loss: 0.6220 - val_acc: 0.7992\n",
      "Epoch 58/150\n",
      "11920/11920 [==============================] - 8s 677us/step - loss: 0.2303 - acc: 0.9159 - val_loss: 0.6415 - val_acc: 0.7958\n",
      "Epoch 59/150\n",
      "11920/11920 [==============================] - 8s 679us/step - loss: 0.2308 - acc: 0.9174 - val_loss: 0.6960 - val_acc: 0.7702\n",
      "Epoch 60/150\n",
      "11920/11920 [==============================] - 8s 681us/step - loss: 0.2709 - acc: 0.9018 - val_loss: 0.5910 - val_acc: 0.7963\n",
      "Epoch 61/150\n",
      "11920/11920 [==============================] - 8s 672us/step - loss: 0.2229 - acc: 0.9167 - val_loss: 0.7052 - val_acc: 0.7948\n",
      "Epoch 62/150\n",
      "11920/11920 [==============================] - 8s 655us/step - loss: 0.2099 - acc: 0.9219 - val_loss: 0.6544 - val_acc: 0.7904\n",
      "Epoch 63/150\n",
      "11920/11920 [==============================] - 8s 667us/step - loss: 0.2144 - acc: 0.9211 - val_loss: 0.6611 - val_acc: 0.7943\n",
      "Epoch 64/150\n",
      "11920/11920 [==============================] - 8s 650us/step - loss: 0.2137 - acc: 0.9221 - val_loss: 0.6802 - val_acc: 0.7692\n",
      "Epoch 65/150\n",
      "11920/11920 [==============================] - 8s 671us/step - loss: 0.2113 - acc: 0.9234 - val_loss: 0.6635 - val_acc: 0.8017\n",
      "Epoch 66/150\n",
      "11920/11920 [==============================] - 8s 658us/step - loss: 0.2095 - acc: 0.9236 - val_loss: 0.6846 - val_acc: 0.7938\n",
      "Epoch 67/150\n",
      "11920/11920 [==============================] - 8s 671us/step - loss: 0.2144 - acc: 0.9222 - val_loss: 0.6815 - val_acc: 0.7923\n",
      "Epoch 68/150\n",
      "11920/11920 [==============================] - 8s 673us/step - loss: 0.2119 - acc: 0.9216 - val_loss: 0.6192 - val_acc: 0.7918\n",
      "Epoch 69/150\n",
      "11920/11920 [==============================] - 8s 656us/step - loss: 0.2045 - acc: 0.9257 - val_loss: 0.7295 - val_acc: 0.7810\n",
      "Epoch 70/150\n",
      "11920/11920 [==============================] - 8s 673us/step - loss: 0.2102 - acc: 0.9247 - val_loss: 0.6442 - val_acc: 0.7918\n",
      "Epoch 71/150\n",
      "11920/11920 [==============================] - 8s 675us/step - loss: 0.2120 - acc: 0.9218 - val_loss: 0.6335 - val_acc: 0.7958\n",
      "Epoch 72/150\n",
      "11920/11920 [==============================] - 8s 680us/step - loss: 0.1962 - acc: 0.9273 - val_loss: 0.6828 - val_acc: 0.7899\n",
      "Epoch 73/150\n",
      "11920/11920 [==============================] - 8s 659us/step - loss: 0.2009 - acc: 0.9246 - val_loss: 0.7361 - val_acc: 0.7692\n",
      "Epoch 74/150\n",
      "11920/11920 [==============================] - 8s 679us/step - loss: 0.2088 - acc: 0.9236 - val_loss: 0.6698 - val_acc: 0.7958\n",
      "Epoch 75/150\n",
      "11920/11920 [==============================] - 8s 680us/step - loss: 0.2101 - acc: 0.9253 - val_loss: 0.6048 - val_acc: 0.8051\n",
      "Epoch 76/150\n",
      "11920/11920 [==============================] - 8s 682us/step - loss: 0.1994 - acc: 0.9275 - val_loss: 0.6472 - val_acc: 0.7879\n",
      "Epoch 77/150\n",
      "11920/11920 [==============================] - 8s 675us/step - loss: 0.1961 - acc: 0.9265 - val_loss: 0.6503 - val_acc: 0.7938\n",
      "Epoch 78/150\n",
      "11920/11920 [==============================] - 8s 643us/step - loss: 0.1968 - acc: 0.9288 - val_loss: 0.6776 - val_acc: 0.8007\n",
      "Epoch 79/150\n",
      "11920/11920 [==============================] - 8s 681us/step - loss: 0.1870 - acc: 0.9316 - val_loss: 0.6977 - val_acc: 0.7894\n",
      "Epoch 80/150\n",
      "11920/11920 [==============================] - 8s 677us/step - loss: 0.2049 - acc: 0.9262 - val_loss: 0.6709 - val_acc: 0.7815\n",
      "3041/3041 [==============================] - 1s 329us/step\n",
      "Loss: 0.664, Accuracy: 0.774\n"
     ]
    }
   ],
   "source": [
    "try:\n",
    "    model and parallel_model\n",
    "except NameError:\n",
    "    print(\"Good to go!\")\n",
    "    pass\n",
    "else:   \n",
    "    if model:\n",
    "        del model\n",
    "        del parallel_model\n",
    "    print(\"Object has been cleaned!\")\n",
    "\n",
    "\n",
    "model = Sequential()\n",
    "model.add(Conv1D(filters = 32, kernel_size = 7, input_shape = (trainData.shape[1], 1)))\n",
    "model.add(Activation('relu'))\n",
    "model.add(BatchNormalization())\n",
    "model.add(MaxPooling1D(pool_size = 2))\n",
    "\n",
    "model.add(Conv1D(filters = 32, kernel_size = 7))\n",
    "model.add(Activation('relu'))\n",
    "model.add(MaxPooling1D(pool_size = 2))\n",
    "\n",
    "model.add(Conv1D(filters = 32, kernel_size = 7))\n",
    "model.add(Activation('relu'))\n",
    "model.add(MaxPooling1D(pool_size = 2))\n",
    "\n",
    "model.add(Conv1D(filters = 32, kernel_size = 5))\n",
    "model.add(Activation('relu'))\n",
    "model.add(MaxPooling1D(pool_size = 2))\n",
    "\n",
    "model.add(Conv1D(filters = 32, kernel_size = 5))\n",
    "model.add(Activation('relu'))\n",
    "model.add(MaxPooling1D(pool_size = 2))\n",
    "\n",
    "model.add(Conv1D(filters = 32, kernel_size = 5))\n",
    "model.add(Activation('relu'))\n",
    "model.add(MaxPooling1D(pool_size = 2))\n",
    "model.add(Dropout(0.5))\n",
    "\n",
    "model.add(Conv1D(filters = 64, kernel_size = 3))\n",
    "model.add(Activation('relu'))\n",
    "model.add(MaxPooling1D(pool_size = 2))\n",
    "\n",
    "model.add(Conv1D(filters = 64, kernel_size = 3))\n",
    "model.add(Activation('relu'))\n",
    "model.add(MaxPooling1D(pool_size = 2))\n",
    "model.add(Dropout(0.5))\n",
    "\n",
    "model.add(Conv1D(filters = 64, kernel_size = 3))\n",
    "model.add(Activation('relu'))\n",
    "model.add(MaxPooling1D(pool_size = 2))\n",
    "model.add(Dropout(0.5))\n",
    "\n",
    "model.add(Conv1D(filters = 128, kernel_size = 3))\n",
    "model.add(Activation('relu'))\n",
    "model.add(MaxPooling1D(pool_size = 2))\n",
    "\n",
    "model.add(Conv1D(filters = 128, kernel_size = 3))\n",
    "model.add(Activation('relu'))\n",
    "\n",
    "model.add(Flatten())\n",
    "model.add(Dense(128, activation = 'relu'))\n",
    "model.add(Dropout(0.5))\n",
    "model.add(Dense(64, activation = 'relu'))\n",
    "model.add(Dense(4, activation = \"softmax\"))\n",
    "\n",
    "print(model.summary())\n",
    "\n",
    "adam = Adam(lr = 0.001)\n",
    "model.compile(optimizer = adam, loss = \"categorical_crossentropy\", metrics=['accuracy'])\n",
    "\n",
    "early_stop = EarlyStopping(patience=20)\n",
    "train_history_1 = model.fit(x = x_res,\n",
    "                            y = y_res,\n",
    "                            epochs=150,\n",
    "                            validation_data=(validationData, validationLabel),\n",
    "                            callbacks=[early_stop],\n",
    "                            batch_size=70, \n",
    "                            verbose=1)\n",
    "\n",
    "evaluation = model.evaluate(x = testData, y = testLabel)\n",
    "print('Loss: {:.3f}, Accuracy: {:.3f}'.format(evaluation[0], evaluation[1]))\n",
    "\n",
    "\n",
    "import pylab as plt\n",
    "def history_display(hist, train, validation):\n",
    "    plt.plot(hist.history[train])\n",
    "    plt.plot(hist.history[validation])\n",
    "    plt.title('Train History')\n",
    "    plt.ylabel(train)\n",
    "    plt.xlabel('Epoch')\n",
    "    plt.legend(['train', 'validation'], loc='upper left')\n",
    "    plt.show\n",
    "    \n",
    "def show_plot(flag, hist):\n",
    "    if flag == 'acc':\n",
    "        history_display(hist, 'acc', 'val_acc')\n",
    "    elif flag == 'loss':\n",
    "        history_display(hist, 'loss', 'val_loss')\n",
    "    else:\n",
    "        print('Invalid!')"
   ]
  },
  {
   "cell_type": "code",
   "execution_count": 12,
   "metadata": {
    "ExecuteTime": {
     "end_time": "2018-12-06T05:16:09.759345Z",
     "start_time": "2018-12-06T05:15:55.184889Z"
    },
    "hidden": true
   },
   "outputs": [
    {
     "data": {
      "image/png": "[encoded data removed]",
      "text/plain": [
       "<Figure size 432x288 with 2 Axes>"
      ]
     },
     "metadata": {},
     "output_type": "display_data"
    }
   ],
   "source": [
    "from toolkit import plot_confusion_matrix\n",
    "from sklearn.metrics import confusion_matrix\n",
    "test_prediction = model.predict_classes(testData, batch_size=1)\n",
    "cnf_matrix = confusion_matrix(testL, test_prediction)\n",
    "plot_confusion_matrix.plot_confusion_matrix(cnf_matrix, classes=['AF','Noise','Normal','Other'], save_png=False)"
   ]
  },
  {
   "cell_type": "code",
   "execution_count": 10,
   "metadata": {
    "ExecuteTime": {
     "end_time": "2018-12-06T05:15:25.656833Z",
     "start_time": "2018-12-06T05:15:25.304548Z"
    },
    "hidden": true
   },
   "outputs": [
    {
     "data": {
      "image/png": "[encoded data removed]",
      "text/plain": [
       "<Figure size 432x288 with 1 Axes>"
      ]
     },
     "metadata": {},
     "output_type": "display_data"
    }
   ],
   "source": [
    "show_plot('acc', train_history_1)"
   ]
  },
  {
   "cell_type": "code",
   "execution_count": 11,
   "metadata": {
    "ExecuteTime": {
     "end_time": "2018-12-06T05:15:29.875013Z",
     "start_time": "2018-12-06T05:15:29.595519Z"
    },
    "hidden": true,
    "scrolled": true
   },
   "outputs": [
    {
     "data": {
      "image/png": "[encoded data removed]",
      "text/plain": [
       "<Figure size 432x288 with 1 Axes>"
      ]
     },
     "metadata": {},
     "output_type": "display_data"
    }
   ],
   "source": [
    "show_plot('loss', train_history_1)"
   ]
  },
  {
   "cell_type": "markdown",
   "metadata": {
    "heading_collapsed": true
   },
   "source": [
    "## 3 classes"
   ]
  },
  {
   "cell_type": "code",
   "execution_count": 1,
   "metadata": {
    "ExecuteTime": {
     "end_time": "2018-12-07T06:47:39.729682Z",
     "start_time": "2018-12-07T06:47:37.212630Z"
    },
    "hidden": true,
    "scrolled": true
   },
   "outputs": [
    {
     "name": "stderr",
     "output_type": "stream",
     "text": [
      "/usr/local/lib/python3.5/dist-packages/h5py/__init__.py:36: FutureWarning: Conversion of the second argument of issubdtype from `float` to `np.floating` is deprecated. In future, it will be treated as `np.float64 == np.dtype(float).type`.\n",
      "  from ._conv import register_converters as _register_converters\n",
      "Using TensorFlow backend.\n"
     ]
    },
    {
     "name": "stdout",
     "output_type": "stream",
     "text": [
      "Train Data: (5078, 9000, 1)\n",
      "Train Label:  (5078, 3)\n",
      "Vali Data:  (2032, 9000, 1)\n",
      "Vali Label:  (2032, 3)\n",
      "Test Data:  (3041, 9000, 1)\n",
      "Test Label:  (3041, 3)\n"
     ]
    }
   ],
   "source": [
    "import numpy as np\n",
    "from keras.models import Sequential\n",
    "from keras.layers import Dense, Flatten, Conv1D, MaxPooling1D, AveragePooling1D, Dropout\n",
    "from keras.layers import BatchNormalization, Activation\n",
    "from keras.optimizers import Adam\n",
    "from keras.utils import np_utils\n",
    "import tensorflow as tf\n",
    "from keras.callbacks import EarlyStopping\n",
    "from sklearn.utils import class_weight\n",
    "from toolkit import to_3_classes\n",
    "np.set_printoptions(suppress=True)\n",
    "\n",
    "trainD = np.load(\"/home/hsiehch/30s/train_data.npy\")\n",
    "trainL = np.load(\"/home/hsiehch/30s/train_label.npy\")\n",
    "validationD = np.load(\"/home/hsiehch/30s/validation_data.npy\")\n",
    "validationL = np.load(\"/home/hsiehch/30s/validation_label.npy\")\n",
    "testD = np.load(\"/home/hsiehch/30s/test_data.npy\")\n",
    "testL = np.load(\"/home/hsiehch/30s/test_label.npy\")\n",
    "\n",
    "trainL = to_3_classes.to_3_classes(trainL)\n",
    "validationL = to_3_classes.to_3_classes(validationL)\n",
    "testL = to_3_classes.to_3_classes(testL)\n",
    "\n",
    "trainData = trainD.reshape((trainD.shape[0], trainD.shape[1], 1))\n",
    "trainLabel = np_utils.to_categorical(trainL, 3)\n",
    "validationData = validationD.reshape((validationD.shape[0], validationD.shape[1], 1))\n",
    "validationLabel = np_utils.to_categorical(validationL, 3)\n",
    "testData = testD.reshape((testD.shape[0], testD.shape[1], 1))\n",
    "testLabel = np_utils.to_categorical(testL, 3)\n",
    "\n",
    "cw = class_weight.compute_sample_weight('balanced', [0,1,2], trainL)\n",
    "\n",
    "print('Train Data:', trainData.shape)\n",
    "print('Train Label: ', trainLabel.shape)\n",
    "print('Vali Data: ', validationData.shape)\n",
    "print('Vali Label: ', validationLabel.shape)\n",
    "print('Test Data: ', testData.shape)\n",
    "print('Test Label: ', testLabel.shape)"
   ]
  },
  {
   "cell_type": "code",
   "execution_count": 2,
   "metadata": {
    "ExecuteTime": {
     "end_time": "2018-12-07T06:52:57.701518Z",
     "start_time": "2018-12-07T06:47:41.199841Z"
    },
    "code_folding": [],
    "hidden": true,
    "hide_input": false,
    "scrolled": true
   },
   "outputs": [
    {
     "name": "stdout",
     "output_type": "stream",
     "text": [
      "Good to go!\n",
      "_________________________________________________________________\n",
      "Layer (type)                 Output Shape              Param #   \n",
      "=================================================================\n",
      "conv1d_1 (Conv1D)            (None, 8994, 32)          256       \n",
      "_________________________________________________________________\n",
      "activation_1 (Activation)    (None, 8994, 32)          0         \n",
      "_________________________________________________________________\n",
      "batch_normalization_1 (Batch (None, 8994, 32)          128       \n",
      "_________________________________________________________________\n",
      "max_pooling1d_1 (MaxPooling1 (None, 4497, 32)          0         \n",
      "_________________________________________________________________\n",
      "conv1d_2 (Conv1D)            (None, 4491, 32)          7200      \n",
      "_________________________________________________________________\n",
      "activation_2 (Activation)    (None, 4491, 32)          0         \n",
      "_________________________________________________________________\n",
      "max_pooling1d_2 (MaxPooling1 (None, 2245, 32)          0         \n",
      "_________________________________________________________________\n",
      "conv1d_3 (Conv1D)            (None, 2239, 64)          14400     \n",
      "_________________________________________________________________\n",
      "activation_3 (Activation)    (None, 2239, 64)          0         \n",
      "_________________________________________________________________\n",
      "max_pooling1d_3 (MaxPooling1 (None, 1119, 64)          0         \n",
      "_________________________________________________________________\n",
      "conv1d_4 (Conv1D)            (None, 1117, 64)          12352     \n",
      "_________________________________________________________________\n",
      "activation_4 (Activation)    (None, 1117, 64)          0         \n",
      "_________________________________________________________________\n",
      "max_pooling1d_4 (MaxPooling1 (None, 558, 64)           0         \n",
      "_________________________________________________________________\n",
      "conv1d_5 (Conv1D)            (None, 556, 128)          24704     \n",
      "_________________________________________________________________\n",
      "activation_5 (Activation)    (None, 556, 128)          0         \n",
      "_________________________________________________________________\n",
      "max_pooling1d_5 (MaxPooling1 (None, 278, 128)          0         \n",
      "_________________________________________________________________\n",
      "conv1d_6 (Conv1D)            (None, 276, 128)          49280     \n",
      "_________________________________________________________________\n",
      "activation_6 (Activation)    (None, 276, 128)          0         \n",
      "_________________________________________________________________\n",
      "max_pooling1d_6 (MaxPooling1 (None, 138, 128)          0         \n",
      "_________________________________________________________________\n",
      "dropout_1 (Dropout)          (None, 138, 128)          0         \n",
      "_________________________________________________________________\n",
      "conv1d_7 (Conv1D)            (None, 136, 256)          98560     \n",
      "_________________________________________________________________\n",
      "activation_7 (Activation)    (None, 136, 256)          0         \n",
      "_________________________________________________________________\n",
      "max_pooling1d_7 (MaxPooling1 (None, 68, 256)           0         \n",
      "_________________________________________________________________\n",
      "conv1d_8 (Conv1D)            (None, 66, 256)           196864    \n",
      "_________________________________________________________________\n",
      "activation_8 (Activation)    (None, 66, 256)           0         \n",
      "_________________________________________________________________\n",
      "max_pooling1d_8 (MaxPooling1 (None, 33, 256)           0         \n",
      "_________________________________________________________________\n",
      "dropout_2 (Dropout)          (None, 33, 256)           0         \n",
      "_________________________________________________________________\n",
      "conv1d_9 (Conv1D)            (None, 31, 512)           393728    \n",
      "_________________________________________________________________\n",
      "activation_9 (Activation)    (None, 31, 512)           0         \n",
      "_________________________________________________________________\n",
      "max_pooling1d_9 (MaxPooling1 (None, 15, 512)           0         \n",
      "_________________________________________________________________\n",
      "dropout_3 (Dropout)          (None, 15, 512)           0         \n",
      "_________________________________________________________________\n",
      "conv1d_10 (Conv1D)           (None, 13, 512)           786944    \n",
      "_________________________________________________________________\n",
      "activation_10 (Activation)   (None, 13, 512)           0         \n",
      "_________________________________________________________________\n",
      "flatten_1 (Flatten)          (None, 6656)              0         \n",
      "_________________________________________________________________\n",
      "dense_1 (Dense)              (None, 512)               3408384   \n",
      "_________________________________________________________________\n",
      "dropout_4 (Dropout)          (None, 512)               0         \n",
      "_________________________________________________________________\n",
      "dense_2 (Dense)              (None, 128)               65664     \n",
      "_________________________________________________________________\n",
      "dense_3 (Dense)              (None, 3)                 387       \n",
      "=================================================================\n",
      "Total params: 5,058,851\n",
      "Trainable params: 5,058,787\n",
      "Non-trainable params: 64\n",
      "_________________________________________________________________\n",
      "None\n",
      "Train on 5078 samples, validate on 2032 samples\n",
      "Epoch 1/150\n",
      "5078/5078 [==============================] - 9s 2ms/step - loss: 1.1073 - acc: 0.2891 - val_loss: 1.0951 - val_acc: 0.3243\n",
      "Epoch 2/150\n",
      "5078/5078 [==============================] - 4s 867us/step - loss: 1.0969 - acc: 0.3239 - val_loss: 1.1001 - val_acc: 0.1481\n",
      "Epoch 3/150\n",
      "5078/5078 [==============================] - 5s 898us/step - loss: 1.0975 - acc: 0.1975 - val_loss: 1.0662 - val_acc: 0.4114\n",
      "Epoch 4/150\n",
      "5078/5078 [==============================] - 5s 921us/step - loss: 1.1016 - acc: 0.2824 - val_loss: 1.1070 - val_acc: 0.0891\n",
      "Epoch 5/150\n",
      "5078/5078 [==============================] - 5s 954us/step - loss: 1.0987 - acc: 0.2824 - val_loss: 1.0963 - val_acc: 0.2623\n",
      "Epoch 6/150\n",
      "5078/5078 [==============================] - 5s 945us/step - loss: 1.0966 - acc: 0.2202 - val_loss: 1.1170 - val_acc: 0.0891\n",
      "Epoch 7/150\n",
      "5078/5078 [==============================] - 5s 935us/step - loss: 1.0974 - acc: 0.2308 - val_loss: 1.0971 - val_acc: 0.2087\n",
      "Epoch 8/150\n",
      "5078/5078 [==============================] - 5s 911us/step - loss: 1.0980 - acc: 0.2670 - val_loss: 1.1272 - val_acc: 0.0901\n",
      "Epoch 9/150\n",
      "5078/5078 [==============================] - 5s 923us/step - loss: 1.0942 - acc: 0.2511 - val_loss: 1.0867 - val_acc: 0.4990\n",
      "Epoch 10/150\n",
      "5078/5078 [==============================] - 5s 934us/step - loss: 1.0944 - acc: 0.2814 - val_loss: 1.1642 - val_acc: 0.0891\n",
      "Epoch 11/150\n",
      "5078/5078 [==============================] - 5s 920us/step - loss: 1.0989 - acc: 0.2875 - val_loss: 1.0918 - val_acc: 0.5458\n",
      "Epoch 12/150\n",
      "5078/5078 [==============================] - 4s 863us/step - loss: 1.0978 - acc: 0.2657 - val_loss: 1.1099 - val_acc: 0.1506\n",
      "Epoch 13/150\n",
      "5078/5078 [==============================] - 5s 902us/step - loss: 1.0905 - acc: 0.2548 - val_loss: 1.1409 - val_acc: 0.0896\n",
      "Epoch 14/150\n",
      "5078/5078 [==============================] - 5s 891us/step - loss: 1.0914 - acc: 0.3011 - val_loss: 1.1191 - val_acc: 0.1555\n",
      "Epoch 15/150\n",
      "5078/5078 [==============================] - 5s 928us/step - loss: 1.0889 - acc: 0.3226 - val_loss: 1.1401 - val_acc: 0.2338\n",
      "Epoch 16/150\n",
      "5078/5078 [==============================] - 5s 953us/step - loss: 1.0831 - acc: 0.3186 - val_loss: 1.1456 - val_acc: 0.2692\n",
      "Epoch 17/150\n",
      "5078/5078 [==============================] - 5s 939us/step - loss: 1.0787 - acc: 0.3929 - val_loss: 0.9925 - val_acc: 0.5064\n",
      "Epoch 18/150\n",
      "5078/5078 [==============================] - 5s 941us/step - loss: 1.0266 - acc: 0.4714 - val_loss: 0.9228 - val_acc: 0.5674\n",
      "Epoch 19/150\n",
      "5078/5078 [==============================] - 5s 936us/step - loss: 0.9705 - acc: 0.5610 - val_loss: 1.0459 - val_acc: 0.5325\n",
      "Epoch 20/150\n",
      "5078/5078 [==============================] - 5s 926us/step - loss: 0.9190 - acc: 0.5372 - val_loss: 0.8700 - val_acc: 0.6260\n",
      "Epoch 21/150\n",
      "5078/5078 [==============================] - 5s 900us/step - loss: 0.8065 - acc: 0.6172 - val_loss: 0.7413 - val_acc: 0.6693\n",
      "Epoch 22/150\n",
      "5078/5078 [==============================] - 5s 908us/step - loss: 0.7873 - acc: 0.6142 - val_loss: 0.7338 - val_acc: 0.6550\n",
      "Epoch 23/150\n",
      "5078/5078 [==============================] - 4s 882us/step - loss: 0.7207 - acc: 0.6503 - val_loss: 0.7085 - val_acc: 0.6772\n",
      "Epoch 24/150\n",
      "5078/5078 [==============================] - 4s 878us/step - loss: 0.6692 - acc: 0.6686 - val_loss: 0.7767 - val_acc: 0.6678\n",
      "Epoch 25/150\n",
      "5078/5078 [==============================] - 5s 909us/step - loss: 0.6576 - acc: 0.6892 - val_loss: 0.6619 - val_acc: 0.7116\n",
      "Epoch 26/150\n",
      "5078/5078 [==============================] - 4s 871us/step - loss: 0.6329 - acc: 0.7192 - val_loss: 0.6721 - val_acc: 0.7274\n",
      "Epoch 27/150\n",
      "5078/5078 [==============================] - 4s 872us/step - loss: 0.6002 - acc: 0.7217 - val_loss: 0.7587 - val_acc: 0.6821\n",
      "Epoch 28/150\n",
      "5078/5078 [==============================] - 4s 883us/step - loss: 0.6118 - acc: 0.7332 - val_loss: 0.6951 - val_acc: 0.7141\n",
      "Epoch 29/150\n",
      "5078/5078 [==============================] - 4s 865us/step - loss: 0.5439 - acc: 0.7597 - val_loss: 0.6048 - val_acc: 0.7451\n",
      "Epoch 30/150\n",
      "5078/5078 [==============================] - 5s 916us/step - loss: 0.5291 - acc: 0.7688 - val_loss: 0.5888 - val_acc: 0.7736\n",
      "Epoch 31/150\n",
      "5078/5078 [==============================] - 5s 898us/step - loss: 0.5127 - acc: 0.7765 - val_loss: 0.6185 - val_acc: 0.7436\n",
      "Epoch 32/150\n",
      "5078/5078 [==============================] - 4s 873us/step - loss: 0.5013 - acc: 0.7818 - val_loss: 0.5783 - val_acc: 0.7741\n",
      "Epoch 33/150\n",
      "5078/5078 [==============================] - 4s 873us/step - loss: 0.4831 - acc: 0.7883 - val_loss: 0.5812 - val_acc: 0.7736\n",
      "Epoch 34/150\n",
      "5078/5078 [==============================] - 4s 877us/step - loss: 0.4831 - acc: 0.7852 - val_loss: 0.5312 - val_acc: 0.7869\n",
      "Epoch 35/150\n",
      "5078/5078 [==============================] - 4s 877us/step - loss: 0.4830 - acc: 0.7852 - val_loss: 0.5280 - val_acc: 0.7908\n",
      "Epoch 36/150\n",
      "5078/5078 [==============================] - 4s 882us/step - loss: 0.4634 - acc: 0.7968 - val_loss: 0.5464 - val_acc: 0.7844\n",
      "Epoch 37/150\n",
      "5078/5078 [==============================] - 5s 931us/step - loss: 0.4372 - acc: 0.8078 - val_loss: 0.5281 - val_acc: 0.7997\n",
      "Epoch 38/150\n",
      "5078/5078 [==============================] - 5s 903us/step - loss: 0.4269 - acc: 0.8080 - val_loss: 0.5209 - val_acc: 0.8017\n",
      "Epoch 39/150\n",
      "5078/5078 [==============================] - 5s 935us/step - loss: 0.4352 - acc: 0.8117 - val_loss: 0.5358 - val_acc: 0.7825\n",
      "Epoch 40/150\n",
      "5078/5078 [==============================] - 5s 898us/step - loss: 0.4250 - acc: 0.8106 - val_loss: 0.5930 - val_acc: 0.7766\n",
      "Epoch 41/150\n",
      "5078/5078 [==============================] - 5s 900us/step - loss: 0.4331 - acc: 0.8088 - val_loss: 0.5524 - val_acc: 0.7874\n",
      "Epoch 42/150\n",
      "5078/5078 [==============================] - 5s 891us/step - loss: 0.3909 - acc: 0.8346 - val_loss: 0.4873 - val_acc: 0.8091\n",
      "Epoch 43/150\n",
      "5078/5078 [==============================] - 5s 908us/step - loss: 0.3914 - acc: 0.8239 - val_loss: 0.5736 - val_acc: 0.7785\n",
      "Epoch 44/150\n",
      "5078/5078 [==============================] - 5s 906us/step - loss: 0.3754 - acc: 0.8318 - val_loss: 0.5242 - val_acc: 0.8017\n",
      "Epoch 45/150\n",
      "5078/5078 [==============================] - 4s 873us/step - loss: 0.3752 - acc: 0.8395 - val_loss: 0.5639 - val_acc: 0.7972\n",
      "Epoch 46/150\n",
      "5078/5078 [==============================] - 5s 915us/step - loss: 0.3769 - acc: 0.8334 - val_loss: 0.5138 - val_acc: 0.8155\n",
      "Epoch 47/150\n",
      "5078/5078 [==============================] - 5s 887us/step - loss: 0.3662 - acc: 0.8387 - val_loss: 0.4857 - val_acc: 0.8174\n",
      "Epoch 48/150\n",
      "5078/5078 [==============================] - 5s 922us/step - loss: 0.3450 - acc: 0.8456 - val_loss: 0.5077 - val_acc: 0.8184\n",
      "Epoch 49/150\n",
      "5078/5078 [==============================] - 5s 924us/step - loss: 0.3828 - acc: 0.8338 - val_loss: 0.4916 - val_acc: 0.8199\n",
      "Epoch 50/150\n",
      "5078/5078 [==============================] - 5s 891us/step - loss: 0.3511 - acc: 0.8427 - val_loss: 0.5198 - val_acc: 0.8115\n",
      "Epoch 51/150\n",
      "5078/5078 [==============================] - 5s 887us/step - loss: 0.3444 - acc: 0.8436 - val_loss: 0.4885 - val_acc: 0.8228\n",
      "Epoch 52/150\n",
      "5078/5078 [==============================] - 5s 952us/step - loss: 0.3402 - acc: 0.8472 - val_loss: 0.5240 - val_acc: 0.8095\n",
      "Epoch 53/150\n",
      "5078/5078 [==============================] - 5s 909us/step - loss: 0.3454 - acc: 0.8454 - val_loss: 0.4916 - val_acc: 0.8204\n",
      "Epoch 54/150\n",
      "5078/5078 [==============================] - 5s 930us/step - loss: 0.3068 - acc: 0.8596 - val_loss: 0.5167 - val_acc: 0.8130\n",
      "Epoch 55/150\n",
      "5078/5078 [==============================] - 5s 896us/step - loss: 0.3196 - acc: 0.8570 - val_loss: 0.5450 - val_acc: 0.8184\n",
      "Epoch 56/150\n",
      "5078/5078 [==============================] - 5s 891us/step - loss: 0.3371 - acc: 0.8482 - val_loss: 0.4896 - val_acc: 0.8273\n",
      "Epoch 57/150\n",
      "5078/5078 [==============================] - 5s 929us/step - loss: 0.3126 - acc: 0.8558 - val_loss: 0.5295 - val_acc: 0.8199\n",
      "Epoch 58/150\n",
      "5078/5078 [==============================] - 5s 925us/step - loss: 0.2950 - acc: 0.8661 - val_loss: 0.6019 - val_acc: 0.8169\n",
      "Epoch 59/150\n",
      "5078/5078 [==============================] - 5s 898us/step - loss: 0.2998 - acc: 0.8643 - val_loss: 0.5859 - val_acc: 0.8081\n",
      "Epoch 60/150\n",
      "5078/5078 [==============================] - 5s 895us/step - loss: 0.2888 - acc: 0.8683 - val_loss: 0.5346 - val_acc: 0.8253\n",
      "Epoch 61/150\n",
      "5078/5078 [==============================] - 4s 885us/step - loss: 0.2756 - acc: 0.8720 - val_loss: 0.5068 - val_acc: 0.8248\n",
      "Epoch 62/150\n",
      "5078/5078 [==============================] - 5s 915us/step - loss: 0.2716 - acc: 0.8748 - val_loss: 0.6024 - val_acc: 0.8115\n",
      "Epoch 63/150\n",
      "5078/5078 [==============================] - 5s 904us/step - loss: 0.2721 - acc: 0.8781 - val_loss: 0.5789 - val_acc: 0.8150\n",
      "Epoch 64/150\n",
      "5078/5078 [==============================] - 5s 898us/step - loss: 0.2912 - acc: 0.8651 - val_loss: 0.5393 - val_acc: 0.8204\n",
      "Epoch 65/150\n",
      "5078/5078 [==============================] - 5s 901us/step - loss: 0.2473 - acc: 0.8826 - val_loss: 0.5907 - val_acc: 0.8273\n",
      "Epoch 66/150\n",
      "5078/5078 [==============================] - 5s 886us/step - loss: 0.2662 - acc: 0.8809 - val_loss: 0.6090 - val_acc: 0.8223\n",
      "Epoch 67/150\n",
      "5078/5078 [==============================] - 5s 916us/step - loss: 0.2570 - acc: 0.8818 - val_loss: 0.5582 - val_acc: 0.8174\n",
      "3041/3041 [==============================] - 1s 360us/step\n",
      "Loss: 0.538, Accuracy: 0.812\n"
     ]
    }
   ],
   "source": [
    "try:\n",
    "    model\n",
    "except NameError:\n",
    "    print(\"Good to go!\")\n",
    "    pass\n",
    "else:   \n",
    "    if model:\n",
    "        del model\n",
    "    print(\"Object has been cleaned!\")\n",
    "\n",
    "\n",
    "model = Sequential()\n",
    "model.add(Conv1D(filters = 32, kernel_size = 7, input_shape = (trainData.shape[1], 1)))\n",
    "model.add(Activation('relu'))\n",
    "model.add(BatchNormalization())\n",
    "model.add(MaxPooling1D(pool_size = 2))\n",
    "\n",
    "model.add(Conv1D(filters = 32, kernel_size = 7))\n",
    "model.add(Activation('relu'))\n",
    "model.add(MaxPooling1D(pool_size = 2))\n",
    "\n",
    "model.add(Conv1D(filters = 64, kernel_size = 7))\n",
    "model.add(Activation('relu'))\n",
    "model.add(MaxPooling1D(pool_size = 2))\n",
    "\n",
    "model.add(Conv1D(filters = 64, kernel_size = 3))\n",
    "model.add(Activation('relu'))\n",
    "model.add(MaxPooling1D(pool_size = 2))\n",
    "\n",
    "model.add(Conv1D(filters = 128, kernel_size = 3))\n",
    "model.add(Activation('relu'))\n",
    "model.add(MaxPooling1D(pool_size = 2))\n",
    "\n",
    "model.add(Conv1D(filters = 128, kernel_size = 3))\n",
    "model.add(Activation('relu'))\n",
    "model.add(MaxPooling1D(pool_size = 2))\n",
    "model.add(Dropout(0.5))\n",
    "\n",
    "model.add(Conv1D(filters = 256, kernel_size = 3))\n",
    "model.add(Activation('relu'))\n",
    "model.add(MaxPooling1D(pool_size = 2))\n",
    "\n",
    "model.add(Conv1D(filters = 256, kernel_size = 3))\n",
    "model.add(Activation('relu'))\n",
    "model.add(MaxPooling1D(pool_size = 2))\n",
    "model.add(Dropout(0.5))\n",
    "\n",
    "model.add(Conv1D(filters = 512, kernel_size = 3))\n",
    "model.add(Activation('relu'))\n",
    "model.add(MaxPooling1D(pool_size = 2))\n",
    "model.add(Dropout(0.5))\n",
    "\n",
    "model.add(Conv1D(filters = 512, kernel_size = 3))\n",
    "model.add(Activation('relu'))\n",
    "\n",
    "model.add(Flatten())\n",
    "model.add(Dense(512, activation = 'relu'))\n",
    "model.add(Dropout(0.5))\n",
    "model.add(Dense(128, activation = 'relu'))\n",
    "model.add(Dense(3, activation = \"softmax\"))\n",
    "\n",
    "print(model.summary())\n",
    "\n",
    "adam = Adam(lr = 0.0005)\n",
    "model.compile(optimizer = adam, loss = \"categorical_crossentropy\", metrics=['accuracy'])\n",
    "\n",
    "cw = {0: cw[0],\n",
    "      1: cw[1],\n",
    "      2: cw[2]}\n",
    "early_stop = EarlyStopping(patience=20)\n",
    "train_history_1 = model.fit(x = trainData,\n",
    "                            y = trainLabel,\n",
    "                            epochs=150,\n",
    "                            validation_data=(validationData, validationLabel),\n",
    "                            callbacks=[early_stop],\n",
    "                            class_weight=cw,\n",
    "                            batch_size=70, \n",
    "                            verbose=1)\n",
    "\n",
    "evaluation = model.evaluate(x = testData, y = testLabel)\n",
    "print('Loss: {:.3f}, Accuracy: {:.3f}'.format(evaluation[0], evaluation[1]))\n",
    "\n",
    "\n",
    "import pylab as plt\n",
    "def history_display(hist, train, validation):\n",
    "    plt.plot(hist.history[train])\n",
    "    plt.plot(hist.history[validation])\n",
    "    plt.title('Train History')\n",
    "    plt.ylabel(train)\n",
    "    plt.xlabel('Epoch')\n",
    "    plt.legend(['train', 'validation'], loc='upper left')\n",
    "    plt.show\n",
    "    \n",
    "def show_plot(flag, hist):\n",
    "    if flag == 'acc':\n",
    "        history_display(hist, 'acc', 'val_acc')\n",
    "    elif flag == 'loss':\n",
    "        history_display(hist, 'loss', 'val_loss')\n",
    "    else:\n",
    "        print('Invalid!')\n"
   ]
  },
  {
   "cell_type": "code",
   "execution_count": 3,
   "metadata": {
    "ExecuteTime": {
     "end_time": "2018-12-07T06:52:58.209397Z",
     "start_time": "2018-12-07T06:52:57.706671Z"
    },
    "hidden": true
   },
   "outputs": [
    {
     "data": {
      "image/png": "[encoded data removed]",
      "text/plain": [
       "<Figure size 432x288 with 1 Axes>"
      ]
     },
     "metadata": {},
     "output_type": "display_data"
    }
   ],
   "source": [
    "show_plot('acc', train_history_1)"
   ]
  },
  {
   "cell_type": "code",
   "execution_count": 4,
   "metadata": {
    "ExecuteTime": {
     "end_time": "2018-12-07T06:52:58.428038Z",
     "start_time": "2018-12-07T06:52:58.211649Z"
    },
    "hidden": true,
    "scrolled": true
   },
   "outputs": [
    {
     "data": {
      "image/png": "[encoded data removed]",
      "text/plain": [
       "<Figure size 432x288 with 1 Axes>"
      ]
     },
     "metadata": {},
     "output_type": "display_data"
    }
   ],
   "source": [
    "show_plot('loss', train_history_1)"
   ]
  },
  {
   "cell_type": "code",
   "execution_count": 6,
   "metadata": {
    "ExecuteTime": {
     "end_time": "2018-12-07T07:10:49.455200Z",
     "start_time": "2018-12-07T07:10:37.005554Z"
    },
    "hidden": true
   },
   "outputs": [
    {
     "data": {
      "image/png": "[encoded data removed]",
      "text/plain": [
       "<Figure size 432x288 with 2 Axes>"
      ]
     },
     "metadata": {},
     "output_type": "display_data"
    }
   ],
   "source": [
    "from toolkit import plot_confusion_matrix\n",
    "from sklearn.metrics import confusion_matrix\n",
    "test_prediction = model.predict_classes(testData, batch_size=1)\n",
    "cnf_matrix = confusion_matrix(testL, test_prediction)\n",
    "plot_confusion_matrix.plot_confusion_matrix(cnf_matrix, classes=['AF','Other','Normal'], save_png=False)"
   ]
  },
  {
   "cell_type": "code",
   "execution_count": 7,
   "metadata": {
    "ExecuteTime": {
     "end_time": "2018-12-07T07:11:16.846118Z",
     "start_time": "2018-12-07T07:11:16.832500Z"
    },
    "hidden": true
   },
   "outputs": [
    {
     "data": {
      "text/plain": [
       "array([0.70642202, 0.69609508, 0.88664299])"
      ]
     },
     "execution_count": 7,
     "metadata": {},
     "output_type": "execute_result"
    }
   ],
   "source": [
    "from sklearn.metrics import f1_score\n",
    "result = f1_score(testL, test_prediction, average=None)\n",
    "result"
   ]
  },
  {
   "cell_type": "markdown",
   "metadata": {
    "heading_collapsed": true
   },
   "source": [
    "## Baggingfor 3 classes"
   ]
  },
  {
   "cell_type": "code",
   "execution_count": 3,
   "metadata": {
    "ExecuteTime": {
     "end_time": "2018-12-13T09:33:50.890209Z",
     "start_time": "2018-12-13T09:33:50.873157Z"
    },
    "hidden": true
   },
   "outputs": [
    {
     "name": "stdout",
     "output_type": "stream",
     "text": [
      "[ 127  128  129 ... 7107 7108 7109] 5687\n",
      "[   0    1    2 ... 2930 2931 2932] 1423\n",
      "===========\n",
      "[   0    1    2 ... 7107 7108 7109] 5687\n",
      "[ 127  128  129 ... 3765 3766 3767] 1423\n",
      "===========\n",
      "[   0    1    2 ... 7107 7108 7109] 5688\n",
      "[ 254  255  256 ... 4599 4600 4601] 1422\n",
      "===========\n",
      "[   0    1    2 ... 7107 7108 7109] 5689\n",
      "[ 381  382  383 ... 6273 6274 6275] 1421\n",
      "===========\n",
      "[   0    1    2 ... 6273 6274 6275] 5689\n",
      "[5133 5134 5135 ... 7107 7108 7109] 1421\n",
      "===========\n"
     ]
    }
   ],
   "source": [
    "for train_index, test_index in kf.split(trainD, trainL):\n",
    "    print(train_index, len(train_index))\n",
    "    print(test_index, len(test_index))\n",
    "    print('===========')"
   ]
  },
  {
   "cell_type": "code",
   "execution_count": 1,
   "metadata": {
    "ExecuteTime": {
     "end_time": "2018-12-14T02:42:00.091153Z",
     "start_time": "2018-12-14T02:23:12.078915Z"
    },
    "hidden": true
   },
   "outputs": [
    {
     "name": "stderr",
     "output_type": "stream",
     "text": [
      "/usr/local/lib/python3.5/dist-packages/h5py/__init__.py:36: FutureWarning: Conversion of the second argument of issubdtype from `float` to `np.floating` is deprecated. In future, it will be treated as `np.float64 == np.dtype(float).type`.\n",
      "  from ._conv import register_converters as _register_converters\n",
      "Using TensorFlow backend.\n"
     ]
    },
    {
     "name": "stdout",
     "output_type": "stream",
     "text": [
      "Train Data: (7110, 9000, 1)\n",
      "Train Label:  (7110, 4)\n",
      "Test Data: (3041, 9000, 1)\n",
      "Test Label:  (3041, 4)\n",
      "1-Fold\n",
      "1423/1423 [==============================] - 0s 344us/step\n",
      "Testing:\n",
      "Loss: 0.516, Accuracy: 0.818\n",
      "F1-score:\n",
      "[0.73846154 0.45070423 0.88952819 0.71814672]\n",
      "2-Fold\n",
      "1423/1423 [==============================] - 0s 320us/step\n",
      "Testing:\n",
      "Loss: 0.472, Accuracy: 0.844\n",
      "F1-score:\n",
      "[0.79835391 0.57471264 0.90448113 0.76097561]\n",
      "3-Fold\n",
      "1422/1422 [==============================] - 0s 332us/step\n",
      "Testing:\n",
      "Loss: 0.568, Accuracy: 0.839\n",
      "F1-score:\n",
      "[0.7768595  0.64       0.90337878 0.7452381 ]\n",
      "4-Fold\n",
      "1421/1421 [==============================] - 0s 346us/step\n",
      "Testing:\n",
      "Loss: 0.530, Accuracy: 0.828\n",
      "F1-score:\n",
      "[0.77042802 0.63366337 0.89775281 0.70170455]\n",
      "5-Fold\n",
      "1421/1421 [==============================] - 0s 342us/step\n",
      "Testing:\n",
      "Loss: 0.528, Accuracy: 0.816\n",
      "F1-score:\n",
      "[0.6779661  0.55421687 0.89786497 0.70379747]\n"
     ]
    }
   ],
   "source": [
    "import numpy as np\n",
    "from keras.models import Sequential\n",
    "from keras.layers import Dense, Flatten, Conv1D, MaxPooling1D, AveragePooling1D, Dropout\n",
    "from keras.layers import Activation, BatchNormalization\n",
    "from keras.optimizers import Adam\n",
    "from keras.utils import np_utils\n",
    "import tensorflow as tf\n",
    "from keras.callbacks import TensorBoard, EarlyStopping\n",
    "from sklearn.metrics import confusion_matrix\n",
    "from sklearn.metrics import f1_score\n",
    "np.set_printoptions(suppress=True)\n",
    "\n",
    "trainD = np.load(\"/home/hsiehch/30s/train_data.npy\")\n",
    "trainL = np.load(\"/home/hsiehch/30s/train_label.npy\")\n",
    "validationD = np.load(\"/home/hsiehch/30s/validation_data.npy\")\n",
    "validationL = np.load(\"/home/hsiehch/30s/validation_label.npy\")\n",
    "testD = np.load(\"/home/hsiehch/30s/test_data.npy\")\n",
    "testL = np.load(\"/home/hsiehch/30s/test_label.npy\")\n",
    "trainD = np.append(trainD, validationD, axis=0)\n",
    "trainL = np.append(trainL, validationL, axis=0)\n",
    "\n",
    "trainData = trainD.reshape((trainD.shape[0], trainD.shape[1], 1))\n",
    "trainLabel = np_utils.to_categorical(trainL, 4)\n",
    "testData = testD.reshape((testD.shape[0], testD.shape[1], 1))\n",
    "testLabel = np_utils.to_categorical(testL, 4)\n",
    "print('Train Data:', trainData.shape)\n",
    "print('Train Label: ', trainLabel.shape)\n",
    "print('Test Data:', testData.shape)\n",
    "print('Test Label: ', testLabel.shape)\n",
    "\n",
    "#--------------------------------------------\n",
    "\n",
    "from sklearn.model_selection import StratifiedKFold\n",
    "\n",
    "kf = StratifiedKFold(n_splits=5, shuffle=False)\n",
    "# print(kf)\n",
    "\n",
    "#--------------------------------------------\n",
    "\n",
    "from sklearn.metrics import f1_score\n",
    "\n",
    "def create_model():\n",
    "    model = Sequential()\n",
    "    model.add(Conv1D(filters = 32, kernel_size = 7, input_shape = (9000, 1)))\n",
    "    model.add(Activation('relu'))\n",
    "    model.add(BatchNormalization())\n",
    "    model.add(MaxPooling1D(pool_size = 2))\n",
    "\n",
    "    model.add(Conv1D(filters = 32, kernel_size = 7))\n",
    "    model.add(Activation('relu'))\n",
    "    model.add(MaxPooling1D(pool_size = 2))\n",
    "\n",
    "    model.add(Conv1D(filters = 64, kernel_size = 7))\n",
    "    model.add(Activation('relu'))\n",
    "    model.add(MaxPooling1D(pool_size = 2))\n",
    "\n",
    "    model.add(Conv1D(filters = 64, kernel_size = 3))\n",
    "    model.add(Activation('relu'))\n",
    "    model.add(MaxPooling1D(pool_size = 2))\n",
    "\n",
    "    model.add(Conv1D(filters = 128, kernel_size = 3))\n",
    "    model.add(Activation('relu'))\n",
    "    model.add(MaxPooling1D(pool_size = 2))\n",
    "\n",
    "    model.add(Conv1D(filters = 128, kernel_size = 3))\n",
    "    model.add(Activation('relu'))\n",
    "    model.add(MaxPooling1D(pool_size = 2))\n",
    "    model.add(Dropout(0.5))\n",
    "\n",
    "    model.add(Conv1D(filters = 256, kernel_size = 3))\n",
    "    model.add(Activation('relu'))\n",
    "    model.add(MaxPooling1D(pool_size = 2))\n",
    "\n",
    "    model.add(Conv1D(filters = 256, kernel_size = 3))\n",
    "    model.add(Activation('relu'))\n",
    "    model.add(MaxPooling1D(pool_size = 2))\n",
    "    model.add(Dropout(0.5))\n",
    "\n",
    "    model.add(Conv1D(filters = 512, kernel_size = 3))\n",
    "    model.add(Activation('relu'))\n",
    "    model.add(MaxPooling1D(pool_size = 2))\n",
    "    model.add(Dropout(0.5))\n",
    "\n",
    "    model.add(Conv1D(filters = 512, kernel_size = 3))\n",
    "    model.add(Activation('relu'))\n",
    "\n",
    "    model.add(Flatten())\n",
    "    model.add(Dense(128, activation = 'relu'))\n",
    "    model.add(Dropout(0.5))\n",
    "    model.add(Dense(32, activation = 'relu'))\n",
    "    model.add(Dense(4, activation = \"softmax\"))\n",
    "    \n",
    "    model.compile(optimizer = 'adam', loss = \"categorical_crossentropy\", metrics=['accuracy'])\n",
    "\n",
    "    return model\n",
    "\n",
    "fold = 1\n",
    "classifiers = []\n",
    "\n",
    "for train_index, test_index in kf.split(trainD, trainL):\n",
    "    \n",
    "    print('{}-Fold'.format(fold))\n",
    "    model = create_model()\n",
    "    early_stop = EarlyStopping(patience=20)\n",
    "    history = model.fit(x = trainData[train_index],\n",
    "                        y = trainLabel[train_index],\n",
    "                        epochs=100,\n",
    "                        validation_data=(trainData[test_index], trainLabel[test_index]),\n",
    "                        callbacks=[early_stop],\n",
    "                        batch_size=70, \n",
    "                        verbose=0)\n",
    "    \n",
    "    classifiers.append(model)\n",
    "    \n",
    "    evaluation = model.evaluate(x = trainData[test_index], y = trainLabel[test_index])\n",
    "    print('Testing:')\n",
    "    print('Loss: {:.3f}, Accuracy: {:.3f}'.format(evaluation[0], evaluation[1]))\n",
    "#     test_prediction = model.predict_classes(trainData[test_index], batch_size=1)\n",
    "#     cnf_matrix = confusion_matrix(trainLabel[test_index].argmax(axis=1), test_prediction)\n",
    "#     plot_confusion_matrix(cnf_matrix, classes=['AF','Noise','Normal','Other'],\n",
    "#                       title='Confusion matrix')\n",
    "    \n",
    "    validation_prediction = model.predict_classes(trainData[test_index], batch_size=100)\n",
    "    validation_prediction = np_utils.to_categorical(validation_prediction, 4)\n",
    "    result = f1_score(trainLabel[test_index], validation_prediction, average=None)\n",
    "    print('F1-score:')\n",
    "    print(result)\n",
    "    \n",
    "    fold = fold + 1\n",
    "    del model\n",
    "    "
   ]
  },
  {
   "cell_type": "code",
   "execution_count": 3,
   "metadata": {
    "ExecuteTime": {
     "end_time": "2018-12-14T02:47:29.900571Z",
     "start_time": "2018-12-14T02:46:21.034460Z"
    },
    "hidden": true
   },
   "outputs": [
    {
     "name": "stdout",
     "output_type": "stream",
     "text": [
      "ACC:  0.8464320947056889\n"
     ]
    },
    {
     "data": {
      "image/png": "[encoded data removed]",
      "text/plain": [
       "<Figure size 432x288 with 2 Axes>"
      ]
     },
     "metadata": {},
     "output_type": "display_data"
    }
   ],
   "source": [
    "from sklearn.metrics import accuracy_score\n",
    "from sklearn.metrics import log_loss\n",
    "from toolkit import plot_confusion_matrix\n",
    "from sklearn.metrics import confusion_matrix\n",
    "\n",
    "prediction_output = []\n",
    "for data in testData:\n",
    "    voting = []\n",
    "    \n",
    "    for model in classifiers:\n",
    "        test_prediction = model.predict_classes(data.reshape((1, 9000, 1)), batch_size=1)\n",
    "        test_prediction = np_utils.to_categorical(test_prediction, 4)\n",
    "        voting.append(test_prediction)\n",
    "    \n",
    "    voting = np.array(voting)\n",
    "    sum_of_voting = sum(voting)\n",
    "    prediction_output.append(sum_of_voting.argmax())\n",
    "\n",
    "ACC = accuracy_score(testL, prediction_output)\n",
    "print('ACC: ', ACC)\n",
    "# LOSS = log_loss(testL, prediction_output)\n",
    "# print('LOSS: ', LOSS)\n",
    "\n",
    "cnf_matrix = confusion_matrix(testL, prediction_output)\n",
    "plot_confusion_matrix.plot_confusion_matrix(cnf_matrix, classes=['AF','Noise','Normal','Other'], save_png=False)"
   ]
  },
  {
   "cell_type": "code",
   "execution_count": 9,
   "metadata": {
    "ExecuteTime": {
     "end_time": "2018-12-14T02:52:38.823813Z",
     "start_time": "2018-12-14T02:52:38.810773Z"
    },
    "hidden": true
   },
   "outputs": [
    {
     "name": "stdout",
     "output_type": "stream",
     "text": [
      "AF: 0.7972027972027972, ~: 0.6629834254143646, N: 0.9059782608695651, O: 0.750758035172832\n"
     ]
    }
   ],
   "source": [
    "pre_output_cate = np_utils.to_categorical(prediction_output, 4)\n",
    "f1 = f1_score(testLabel, pre_output_cate, average=None)\n",
    "print('AF: {}, ~: {}, N: {}, O: {}'.format(f1[0],f1[1],f1[2],f1[3]))"
   ]
  }
 ],
 "metadata": {
  "kernelspec": {
   "display_name": "Python 3",
   "language": "python",
   "name": "python3"
  },
  "language_info": {
   "codemirror_mode": {
    "name": "ipython",
    "version": 3
   },
   "file_extension": ".py",
   "mimetype": "text/x-python",
   "name": "python",
   "nbconvert_exporter": "python",
   "pygments_lexer": "ipython3",
   "version": "3.5.2"
  }
 },
 "nbformat": 4,
 "nbformat_minor": 2
}
