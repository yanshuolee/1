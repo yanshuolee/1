{
 "cells": [
  {
   "cell_type": "code",
   "execution_count": 1,
   "metadata": {
    "ExecuteTime": {
     "end_time": "2018-10-11T09:39:21.494806Z",
     "start_time": "2018-10-11T09:39:18.630124Z"
    }
   },
   "outputs": [
    {
     "name": "stderr",
     "output_type": "stream",
     "text": [
      "/usr/local/lib/python3.5/dist-packages/h5py/__init__.py:36: FutureWarning: Conversion of the second argument of issubdtype from `float` to `np.floating` is deprecated. In future, it will be treated as `np.float64 == np.dtype(float).type`.\n",
      "  from ._conv import register_converters as _register_converters\n",
      "Using TensorFlow backend.\n"
     ]
    },
    {
     "name": "stdout",
     "output_type": "stream",
     "text": [
      "[0 0 0 ... 2 2 2]\n",
      "[0 0 0 ... 0 0 0]\n",
      "[[1. 0.]\n",
      " [1. 0.]\n",
      " [1. 0.]\n",
      " ...\n",
      " [1. 0.]\n",
      " [1. 0.]\n",
      " [1. 0.]]\n"
     ]
    }
   ],
   "source": [
    "import numpy as np\n",
    "import pandas as pd\n",
    "import os\n",
    "from keras.models import Sequential\n",
    "from keras.layers import Dense, LSTM, Dropout\n",
    "from keras.layers import Activation, Masking, Bidirectional, Flatten, BatchNormalization\n",
    "from keras.optimizers import Adam\n",
    "from keras.utils import np_utils, multi_gpu_model\n",
    "import tensorflow as tf\n",
    "from keras.callbacks import TensorBoard\n",
    "from keras import regularizers\n",
    "from sklearn.preprocessing import MinMaxScaler\n",
    "from sklearn.metrics import mean_squared_error\n",
    "import pylab as plt\n",
    "\n",
    "trainD = np.load(\"/home/hsiehch/30s/train_data.npy\")\n",
    "trainL = np.load(\"/home/hsiehch/30s/train_label.npy\")\n",
    "validationD = np.load(\"/home/hsiehch/30s/validation_data.npy\")\n",
    "validationL = np.load(\"/home/hsiehch/30s/validation_label.npy\")\n",
    "testD = np.load(\"/home/hsiehch/30s/test_data.npy\")\n",
    "testL = np.load(\"/home/hsiehch/30s/test_label.npy\")\n",
    "\n",
    "trainD = np.append(trainD, validationD, axis=0)\n",
    "trainL = np.append(trainL, validationL, axis=0)\n",
    "\n",
    "print(trainL)\n",
    "for i in range(len(trainL)):\n",
    "    if(trainL[i] != 1):\n",
    "        trainL[i] = 0\n",
    "for i in range(len(testL)):\n",
    "    if(testL[i] != 1):\n",
    "        testL[i] = 0\n",
    "print(trainL)\n",
    "timestep = 30\n",
    "seq = 300\n",
    "\n",
    "trainData = trainD.reshape((trainD.shape[0], timestep, seq))\n",
    "trainLabel = np_utils.to_categorical(trainL, 2)\n",
    "testData = testD.reshape((testD.shape[0], timestep, seq))\n",
    "testLabel = np_utils.to_categorical(testL, 2)\n",
    "print(trainLabel)"
   ]
  },
  {
   "cell_type": "code",
   "execution_count": 2,
   "metadata": {
    "ExecuteTime": {
     "end_time": "2018-10-11T09:39:22.342815Z",
     "start_time": "2018-10-11T09:39:21.497862Z"
    },
    "scrolled": true
   },
   "outputs": [
    {
     "name": "stderr",
     "output_type": "stream",
     "text": [
      "/usr/local/lib/python3.5/dist-packages/ipykernel_launcher.py:4: UserWarning: Update your `LSTM` call to the Keras 2 API: `LSTM(8, input_shape=(30, 300), dropout=0.2, recurrent_dropout=0.2, return_sequences=True)`\n",
      "  after removing the cwd from sys.path.\n",
      "/usr/local/lib/python3.5/dist-packages/ipykernel_launcher.py:5: UserWarning: Update your `LSTM` call to the Keras 2 API: `LSTM(8, dropout=0.2, recurrent_dropout=0.2)`\n",
      "  \"\"\"\n"
     ]
    },
    {
     "name": "stdout",
     "output_type": "stream",
     "text": [
      "_________________________________________________________________\n",
      "Layer (type)                 Output Shape              Param #   \n",
      "=================================================================\n",
      "lstm_1 (LSTM)                (None, 30, 8)             9888      \n",
      "_________________________________________________________________\n",
      "lstm_2 (LSTM)                (None, 8)                 544       \n",
      "_________________________________________________________________\n",
      "dense_1 (Dense)              (None, 2)                 18        \n",
      "=================================================================\n",
      "Total params: 10,450\n",
      "Trainable params: 10,450\n",
      "Non-trainable params: 0\n",
      "_________________________________________________________________\n",
      "None\n"
     ]
    }
   ],
   "source": [
    "model = Sequential()\n",
    "#, activity_regularizer=regularizers.l2(0.0001)\n",
    "# , dropout_W=0.2, dropout_U=0.2\n",
    "model.add(LSTM(8, return_sequences=True, dropout_W=0.2, dropout_U=0.2, input_shape = (timestep, seq)))\n",
    "model.add(LSTM(8, dropout_W=0.2, dropout_U=0.2))\n",
    "model.add(Dense(2, activation=\"softmax\"))\n",
    "print(model.summary())"
   ]
  },
  {
   "cell_type": "code",
   "execution_count": 3,
   "metadata": {
    "ExecuteTime": {
     "end_time": "2018-10-11T09:51:41.048932Z",
     "start_time": "2018-10-11T09:39:22.345379Z"
    }
   },
   "outputs": [
    {
     "name": "stdout",
     "output_type": "stream",
     "text": [
      "Train on 7110 samples, validate on 3041 samples\n",
      "Epoch 1/50\n",
      "7110/7110 [==============================] - 19s 3ms/step - loss: 0.3002 - acc: 0.9342 - val_loss: 0.1317 - val_acc: 0.9707\n",
      "Epoch 2/50\n",
      "7110/7110 [==============================] - 15s 2ms/step - loss: 0.1287 - acc: 0.9705 - val_loss: 0.1219 - val_acc: 0.9704\n",
      "Epoch 3/50\n",
      "7110/7110 [==============================] - 15s 2ms/step - loss: 0.1147 - acc: 0.9695 - val_loss: 0.1099 - val_acc: 0.9707\n",
      "Epoch 4/50\n",
      "7110/7110 [==============================] - 15s 2ms/step - loss: 0.1071 - acc: 0.9702 - val_loss: 0.1072 - val_acc: 0.9707\n",
      "Epoch 5/50\n",
      "7110/7110 [==============================] - 15s 2ms/step - loss: 0.1025 - acc: 0.9700 - val_loss: 0.1076 - val_acc: 0.9707\n",
      "Epoch 6/50\n",
      "7110/7110 [==============================] - 15s 2ms/step - loss: 0.0985 - acc: 0.9720 - val_loss: 0.1102 - val_acc: 0.9704\n",
      "Epoch 7/50\n",
      "7110/7110 [==============================] - 15s 2ms/step - loss: 0.0941 - acc: 0.9722 - val_loss: 0.1079 - val_acc: 0.9711\n",
      "Epoch 8/50\n",
      "7110/7110 [==============================] - 15s 2ms/step - loss: 0.0956 - acc: 0.9724 - val_loss: 0.1079 - val_acc: 0.9707\n",
      "Epoch 9/50\n",
      "7110/7110 [==============================] - 15s 2ms/step - loss: 0.0929 - acc: 0.9727 - val_loss: 0.1083 - val_acc: 0.9704\n",
      "Epoch 10/50\n",
      "7110/7110 [==============================] - 15s 2ms/step - loss: 0.0916 - acc: 0.9731 - val_loss: 0.1092 - val_acc: 0.9697\n",
      "Epoch 11/50\n",
      "7110/7110 [==============================] - 14s 2ms/step - loss: 0.0872 - acc: 0.9743 - val_loss: 0.1106 - val_acc: 0.9678\n",
      "Epoch 12/50\n",
      "7110/7110 [==============================] - 14s 2ms/step - loss: 0.0889 - acc: 0.9741 - val_loss: 0.1120 - val_acc: 0.9688\n",
      "Epoch 13/50\n",
      "7110/7110 [==============================] - 15s 2ms/step - loss: 0.0862 - acc: 0.9765 - val_loss: 0.1127 - val_acc: 0.9694\n",
      "Epoch 14/50\n",
      "7110/7110 [==============================] - 15s 2ms/step - loss: 0.0860 - acc: 0.9752 - val_loss: 0.1099 - val_acc: 0.9681\n",
      "Epoch 15/50\n",
      "7110/7110 [==============================] - 15s 2ms/step - loss: 0.0850 - acc: 0.9743 - val_loss: 0.1106 - val_acc: 0.9681\n",
      "Epoch 16/50\n",
      "7110/7110 [==============================] - 15s 2ms/step - loss: 0.0848 - acc: 0.9744 - val_loss: 0.1103 - val_acc: 0.9694\n",
      "Epoch 17/50\n",
      "7110/7110 [==============================] - 15s 2ms/step - loss: 0.0830 - acc: 0.9759 - val_loss: 0.1112 - val_acc: 0.9688\n",
      "Epoch 18/50\n",
      "7110/7110 [==============================] - 15s 2ms/step - loss: 0.0805 - acc: 0.9768 - val_loss: 0.1118 - val_acc: 0.9681\n",
      "Epoch 19/50\n",
      "7110/7110 [==============================] - 15s 2ms/step - loss: 0.0806 - acc: 0.9774 - val_loss: 0.1121 - val_acc: 0.9691\n",
      "Epoch 20/50\n",
      "7110/7110 [==============================] - 15s 2ms/step - loss: 0.0806 - acc: 0.9759 - val_loss: 0.1121 - val_acc: 0.9678\n",
      "Epoch 21/50\n",
      "7110/7110 [==============================] - 15s 2ms/step - loss: 0.0811 - acc: 0.9761 - val_loss: 0.1139 - val_acc: 0.9678\n",
      "Epoch 22/50\n",
      "7110/7110 [==============================] - 15s 2ms/step - loss: 0.0792 - acc: 0.9782 - val_loss: 0.1121 - val_acc: 0.9688\n",
      "Epoch 23/50\n",
      "7110/7110 [==============================] - 15s 2ms/step - loss: 0.0774 - acc: 0.9782 - val_loss: 0.1117 - val_acc: 0.9681\n",
      "Epoch 24/50\n",
      "7110/7110 [==============================] - 15s 2ms/step - loss: 0.0784 - acc: 0.9769 - val_loss: 0.1132 - val_acc: 0.9694\n",
      "Epoch 25/50\n",
      "7110/7110 [==============================] - 15s 2ms/step - loss: 0.0780 - acc: 0.9762 - val_loss: 0.1157 - val_acc: 0.9697\n",
      "Epoch 26/50\n",
      "7110/7110 [==============================] - 15s 2ms/step - loss: 0.0755 - acc: 0.9785 - val_loss: 0.1123 - val_acc: 0.9681\n",
      "Epoch 27/50\n",
      "7110/7110 [==============================] - 14s 2ms/step - loss: 0.0764 - acc: 0.9774 - val_loss: 0.1134 - val_acc: 0.9642\n",
      "Epoch 28/50\n",
      "7110/7110 [==============================] - 15s 2ms/step - loss: 0.0762 - acc: 0.9788 - val_loss: 0.1123 - val_acc: 0.9671\n",
      "Epoch 29/50\n",
      "7110/7110 [==============================] - 15s 2ms/step - loss: 0.0735 - acc: 0.9799 - val_loss: 0.1125 - val_acc: 0.9671\n",
      "Epoch 30/50\n",
      "7110/7110 [==============================] - 15s 2ms/step - loss: 0.0739 - acc: 0.9796 - val_loss: 0.1153 - val_acc: 0.9668\n",
      "Epoch 31/50\n",
      "7110/7110 [==============================] - 15s 2ms/step - loss: 0.0729 - acc: 0.9786 - val_loss: 0.1132 - val_acc: 0.9661\n",
      "Epoch 32/50\n",
      "7110/7110 [==============================] - 15s 2ms/step - loss: 0.0734 - acc: 0.9793 - val_loss: 0.1134 - val_acc: 0.9681\n",
      "Epoch 33/50\n",
      "7110/7110 [==============================] - 15s 2ms/step - loss: 0.0708 - acc: 0.9820 - val_loss: 0.1128 - val_acc: 0.9684\n",
      "Epoch 34/50\n",
      "7110/7110 [==============================] - 15s 2ms/step - loss: 0.0723 - acc: 0.9810 - val_loss: 0.1134 - val_acc: 0.9678\n",
      "Epoch 35/50\n",
      "7110/7110 [==============================] - 15s 2ms/step - loss: 0.0687 - acc: 0.9813 - val_loss: 0.1152 - val_acc: 0.9674\n",
      "Epoch 36/50\n",
      "7110/7110 [==============================] - 15s 2ms/step - loss: 0.0700 - acc: 0.9800 - val_loss: 0.1154 - val_acc: 0.9671\n",
      "Epoch 37/50\n",
      "7110/7110 [==============================] - 14s 2ms/step - loss: 0.0706 - acc: 0.9805 - val_loss: 0.1150 - val_acc: 0.9701\n",
      "Epoch 38/50\n",
      "7110/7110 [==============================] - 15s 2ms/step - loss: 0.0687 - acc: 0.9809 - val_loss: 0.1153 - val_acc: 0.9678\n",
      "Epoch 39/50\n",
      "7110/7110 [==============================] - 14s 2ms/step - loss: 0.0678 - acc: 0.9812 - val_loss: 0.1186 - val_acc: 0.9681\n",
      "Epoch 40/50\n",
      "7110/7110 [==============================] - 14s 2ms/step - loss: 0.0686 - acc: 0.9821 - val_loss: 0.1158 - val_acc: 0.9674\n",
      "Epoch 41/50\n",
      "7110/7110 [==============================] - 14s 2ms/step - loss: 0.0693 - acc: 0.9821 - val_loss: 0.1140 - val_acc: 0.9681\n",
      "Epoch 42/50\n",
      "7110/7110 [==============================] - 15s 2ms/step - loss: 0.0632 - acc: 0.9844 - val_loss: 0.1170 - val_acc: 0.9661\n",
      "Epoch 43/50\n",
      "7110/7110 [==============================] - 15s 2ms/step - loss: 0.0637 - acc: 0.9831 - val_loss: 0.1191 - val_acc: 0.9694\n",
      "Epoch 44/50\n",
      "7110/7110 [==============================] - 14s 2ms/step - loss: 0.0655 - acc: 0.9821 - val_loss: 0.1185 - val_acc: 0.9661\n",
      "Epoch 45/50\n",
      "7110/7110 [==============================] - 15s 2ms/step - loss: 0.0639 - acc: 0.9823 - val_loss: 0.1207 - val_acc: 0.9678\n",
      "Epoch 46/50\n",
      "7110/7110 [==============================] - 14s 2ms/step - loss: 0.0658 - acc: 0.9824 - val_loss: 0.1187 - val_acc: 0.9688\n",
      "Epoch 47/50\n",
      "7110/7110 [==============================] - 15s 2ms/step - loss: 0.0656 - acc: 0.9817 - val_loss: 0.1194 - val_acc: 0.9661\n",
      "Epoch 48/50\n",
      "7110/7110 [==============================] - 15s 2ms/step - loss: 0.0628 - acc: 0.9837 - val_loss: 0.1217 - val_acc: 0.9671\n",
      "Epoch 49/50\n",
      "7110/7110 [==============================] - 15s 2ms/step - loss: 0.0651 - acc: 0.9824 - val_loss: 0.1196 - val_acc: 0.9661\n",
      "Epoch 50/50\n",
      "7110/7110 [==============================] - 14s 2ms/step - loss: 0.0632 - acc: 0.9821 - val_loss: 0.1168 - val_acc: 0.9671\n"
     ]
    }
   ],
   "source": [
    "adam = Adam(lr = 0.001)\n",
    "model.compile(optimizer = \"Adam\", loss = \"categorical_crossentropy\", metrics = ['accuracy'])\n",
    "# graph = TensorBoard()\n",
    "train_history = model.fit(x = trainData, \n",
    "                          y = trainLabel,\n",
    "                          epochs=50,\n",
    "                          validation_data=(testData, testLabel),\n",
    "                          #callbacks=[graph],\n",
    "                          batch_size=70,\n",
    "                          #shuffle=False,\n",
    "                          )\n"
   ]
  },
  {
   "cell_type": "code",
   "execution_count": 4,
   "metadata": {
    "ExecuteTime": {
     "end_time": "2018-10-11T09:51:41.070929Z",
     "start_time": "2018-10-11T09:51:41.053148Z"
    }
   },
   "outputs": [],
   "source": [
    "import pylab as plt\n",
    "def history_display(hist, train, validation):\n",
    "    plt.plot(hist.history[train])\n",
    "    plt.plot(hist.history[validation])\n",
    "    plt.title('Train History')\n",
    "    plt.ylabel(train)\n",
    "    plt.xlabel('Epoch')\n",
    "    plt.legend(['train', 'validation'], loc='upper left')\n",
    "    plt.show\n",
    "    \n",
    "def show_plot(flag, hist):\n",
    "    if flag == 'acc':\n",
    "        history_display(hist, 'acc', 'val_acc')\n",
    "    elif flag == 'loss':\n",
    "        history_display(hist, 'loss', 'val_loss')\n",
    "    else:\n",
    "        print('Invalid!')"
   ]
  },
  {
   "cell_type": "code",
   "execution_count": 5,
   "metadata": {
    "ExecuteTime": {
     "end_time": "2018-10-11T09:51:41.318732Z",
     "start_time": "2018-10-11T09:51:41.074204Z"
    }
   },
   "outputs": [
    {
     "data": {
      "image/png": "[encoded data removed]",
      "text/plain": [
       "<Figure size 432x288 with 1 Axes>"
      ]
     },
     "metadata": {},
     "output_type": "display_data"
    }
   ],
   "source": [
    "show_plot('acc', train_history)"
   ]
  },
  {
   "cell_type": "code",
   "execution_count": 6,
   "metadata": {
    "ExecuteTime": {
     "end_time": "2018-10-11T09:51:41.506173Z",
     "start_time": "2018-10-11T09:51:41.320760Z"
    }
   },
   "outputs": [
    {
     "data": {
      "image/png": "[encoded data removed]",
      "text/plain": [
       "<Figure size 432x288 with 1 Axes>"
      ]
     },
     "metadata": {},
     "output_type": "display_data"
    }
   ],
   "source": [
    "show_plot('loss', train_history)"
   ]
  }
 ],
 "metadata": {
  "kernelspec": {
   "display_name": "Python 3",
   "language": "python",
   "name": "python3"
  },
  "language_info": {
   "codemirror_mode": {
    "name": "ipython",
    "version": 3
   },
   "file_extension": ".py",
   "mimetype": "text/x-python",
   "name": "python",
   "nbconvert_exporter": "python",
   "pygments_lexer": "ipython3",
   "version": "3.5.2"
  }
 },
 "nbformat": 4,
 "nbformat_minor": 2
}
