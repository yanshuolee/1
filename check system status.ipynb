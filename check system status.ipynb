{
 "cells": [
  {
   "cell_type": "code",
   "execution_count": 1,
   "metadata": {
    "ExecuteTime": {
     "end_time": "2018-06-17T02:35:12.417501Z",
     "start_time": "2018-06-17T02:35:12.142162Z"
    }
   },
   "outputs": [
    {
     "name": "stdout",
     "output_type": "stream",
     "text": [
      "Sun Jun 17 10:35:12 2018       \n",
      "+-----------------------------------------------------------------------------+\n",
      "| NVIDIA-SMI 396.26                 Driver Version: 396.26                    |\n",
      "|-------------------------------+----------------------+----------------------+\n",
      "| GPU  Name        Persistence-M| Bus-Id        Disp.A | Volatile Uncorr. ECC |\n",
      "| Fan  Temp  Perf  Pwr:Usage/Cap|         Memory-Usage | GPU-Util  Compute M. |\n",
      "|===============================+======================+======================|\n",
      "|   0  GeForce GTX 108...  On   | 00000000:04:00.0 Off |                  N/A |\n",
      "| 23%   57C    P8    19W / 200W |    675MiB / 11177MiB |      0%      Default |\n",
      "+-------------------------------+----------------------+----------------------+\n",
      "|   1  GeForce GTX 108...  On   | 00000000:05:00.0 Off |                  N/A |\n",
      "| 90%   73C    P2   198W / 200W |    669MiB / 11178MiB |    100%      Default |\n",
      "+-------------------------------+----------------------+----------------------+\n",
      "|   2  GeForce GTX 108...  On   | 00000000:08:00.0 Off |                  N/A |\n",
      "| 90%   71C    P2   197W / 200W |    669MiB / 11178MiB |    100%      Default |\n",
      "+-------------------------------+----------------------+----------------------+\n",
      "|   3  GeForce GTX 108...  On   | 00000000:09:00.0 Off |                  N/A |\n",
      "| 90%   74C    P2   175W / 175W |    669MiB / 11178MiB |    100%      Default |\n",
      "+-------------------------------+----------------------+----------------------+\n",
      "|   4  GeForce GTX 108...  On   | 00000000:83:00.0 Off |                  N/A |\n",
      "| 90%   73C    P2   202W / 200W |    669MiB / 11178MiB |    100%      Default |\n",
      "+-------------------------------+----------------------+----------------------+\n",
      "|   5  GeForce GTX 108...  On   | 00000000:84:00.0 Off |                  N/A |\n",
      "| 90%   75C    P2   198W / 200W |    669MiB / 11178MiB |    100%      Default |\n",
      "+-------------------------------+----------------------+----------------------+\n",
      "|   6  GeForce GTX 108...  On   | 00000000:87:00.0 Off |                  N/A |\n",
      "| 90%   68C    P2   221W / 225W |    669MiB / 11178MiB |    100%      Default |\n",
      "+-------------------------------+----------------------+----------------------+\n",
      "|   7  GeForce GTX 108...  On   | 00000000:88:00.0 Off |                  N/A |\n",
      "| 90%   78C    P2   198W / 200W |    669MiB / 11178MiB |    100%      Default |\n",
      "+-------------------------------+----------------------+----------------------+\n",
      "                                                                               \n",
      "+-----------------------------------------------------------------------------+\n",
      "| Processes:                                                       GPU Memory |\n",
      "|  GPU       PID   Type   Process name                             Usage      |\n",
      "|=============================================================================|\n",
      "|    0      1396      G   /usr/lib/xorg/Xorg                             5MiB |\n",
      "|    0     13251      C   ./python3                                    657MiB |\n",
      "|    1     13251      C   ./python3                                    657MiB |\n",
      "|    2     13251      C   ./python3                                    657MiB |\n",
      "|    3     13251      C   ./python3                                    657MiB |\n",
      "|    4     13251      C   ./python3                                    657MiB |\n",
      "|    5     13251      C   ./python3                                    657MiB |\n",
      "|    6     13251      C   ./python3                                    657MiB |\n",
      "|    7     13251      C   ./python3                                    657MiB |\n",
      "+-----------------------------------------------------------------------------+\n"
     ]
    }
   ],
   "source": [
    "!nvidia-smi"
   ]
  },
  {
   "cell_type": "code",
   "execution_count": 2,
   "metadata": {
    "ExecuteTime": {
     "end_time": "2018-06-17T02:35:20.712958Z",
     "start_time": "2018-06-17T02:35:18.363585Z"
    }
   },
   "outputs": [
    {
     "name": "stdout",
     "output_type": "stream",
     "text": [
      "\u001b[?1h\u001b=\u001b[H\u001b[2J\u001b[mtop - 10:35:18 up 4 days, 18:19,  6 users,  load average: 1.22, 1.32, 1.34\u001b[m\u001b[m\u001b[m\u001b[m\u001b[K\n",
      "Tasks:\u001b[m\u001b[m\u001b[1m 506 \u001b[m\u001b[mtotal,\u001b[m\u001b[m\u001b[1m   1 \u001b[m\u001b[mrunning,\u001b[m\u001b[m\u001b[1m 505 \u001b[m\u001b[msleeping,\u001b[m\u001b[m\u001b[1m   0 \u001b[m\u001b[mstopped,\u001b[m\u001b[m\u001b[1m   0 \u001b[m\u001b[mzombie\u001b[m\u001b[m\u001b[m\u001b[m\u001b[K\n",
      "%Cpu(s):\u001b[m\u001b[m\u001b[1m  1.7 \u001b[m\u001b[mus,\u001b[m\u001b[m\u001b[1m  3.0 \u001b[m\u001b[msy,\u001b[m\u001b[m\u001b[1m  0.0 \u001b[m\u001b[mni,\u001b[m\u001b[m\u001b[1m 95.2 \u001b[m\u001b[mid,\u001b[m\u001b[m\u001b[1m  0.0 \u001b[m\u001b[mwa,\u001b[m\u001b[m\u001b[1m  0.0 \u001b[m\u001b[mhi,\u001b[m\u001b[m\u001b[1m  0.1 \u001b[m\u001b[msi,\u001b[m\u001b[m\u001b[1m  0.0 \u001b[m\u001b[mst\u001b[m\u001b[m\u001b[m\u001b[m\u001b[K\n",
      "KiB Mem :\u001b[m\u001b[m\u001b[1m 65874952 \u001b[m\u001b[mtotal,\u001b[m\u001b[m\u001b[1m 52316040 \u001b[m\u001b[mfree,\u001b[m\u001b[m\u001b[1m  1647780 \u001b[m\u001b[mused,\u001b[m\u001b[m\u001b[1m 11911132 \u001b[m\u001b[mbuff/cache\u001b[m\u001b[m\u001b[m\u001b[m\u001b[K\n",
      "KiB Swap:\u001b[m\u001b[m\u001b[1m 16676860 \u001b[m\u001b[mtotal,\u001b[m\u001b[m\u001b[1m 16676860 \u001b[m\u001b[mfree,\u001b[m\u001b[m\u001b[1m        0 \u001b[m\u001b[mused.\u001b[m\u001b[m\u001b[1m 63498916 \u001b[m\u001b[mavail Mem \u001b[m\u001b[m\u001b[m\u001b[m\u001b[K\n",
      "\u001b[K\n",
      "\u001b[7m  PID USER      PR  NI    VIRT    RES    SHR S  %CPU %MEM     TIME+ COMMAND     \u001b[m\u001b[m\u001b[K\n",
      "\u001b[m13251 root      20   0  0.103t 828536 657948 S  37.5  1.3   1585:24 python3     \u001b[m\u001b[m\u001b[K\n",
      "\u001b[m28160 root      20   0    4504   1604   1496 S  12.5  0.0 823:26.91 autopower.+ \u001b[m\u001b[m\u001b[K\n",
      "\u001b[m  754 root     -51   0       0      0      0 S   6.2  0.0 102:32.54 irq/63-nvi+ \u001b[m\u001b[m\u001b[K\n",
      "\u001b[m 1511 hsiehch   20   0  608876  45432  12496 S   6.2  0.1   0:00.77 python3     \u001b[m\u001b[m\u001b[K\n",
      "\u001b[m 1609 root     -51   0       0      0      0 S   6.2  0.0  97:54.89 irq/74-nvi+ \u001b[m\u001b[m\u001b[K\n",
      "\u001b[m 1627 root     -51   0       0      0      0 S   6.2  0.0  88:29.05 irq/75-nvi+ \u001b[m\u001b[m\u001b[K\n",
      "\u001b[m 1639 root      20   0 2700644  67856  37104 S   6.2  0.1  11:52.10 dockerd     \u001b[m\u001b[m\u001b[K\n",
      "\u001b[m 1913 root     -51   0       0      0      0 S   6.2  0.0 108:15.68 irq/76-nvi+ \u001b[m\u001b[m\u001b[K\n",
      "\u001b[m 9008 root      20   0       0      0      0 S   6.2  0.0   0:00.26 kworker/8:2 \u001b[m\u001b[m\u001b[K\n",
      "\u001b[m\u001b[1m 9882 hsiehch   20   0   42668   4112   3236 R   6.2  0.0   0:00.01 top         \u001b[m\u001b[m\u001b[K\n",
      "\u001b[m    1 root      20   0  185604   6232   4044 S   0.0  0.0   0:05.49 systemd     \u001b[m\u001b[m\u001b[K\n",
      "\u001b[m    2 root      20   0       0      0      0 S   0.0  0.0   0:00.58 kthreadd    \u001b[m\u001b[m\u001b[K\n",
      "\u001b[m    3 root      20   0       0      0      0 S   0.0  0.0   0:15.83 ksoftirqd/0 \u001b[m\u001b[m\u001b[K\n",
      "\u001b[m    5 root       0 -20       0      0      0 S   0.0  0.0   0:00.00 kworker/0:+ \u001b[m\u001b[m\u001b[K\n",
      "\u001b[m    6 root      20   0       0      0      0 S   0.0  0.0   0:09.15 kworker/u6+ \u001b[m\u001b[m\u001b[K\n",
      "\u001b[m    8 root      20   0       0      0      0 S   0.0  0.0  19:11.23 rcu_sched   \u001b[m\u001b[m\u001b[K\n",
      "\u001b[m    9 root      20   0       0      0      0 S   0.0  0.0   0:00.00 rcu_bh      \u001b[m\u001b[m\u001b[K\u001b[?1l\u001b>\u001b[25;1H\n",
      "\u001b[K\n"
     ]
    }
   ],
   "source": [
    "!top"
   ]
  }
 ],
 "metadata": {
  "kernelspec": {
   "display_name": "Python 3",
   "language": "python",
   "name": "python3"
  },
  "language_info": {
   "codemirror_mode": {
    "name": "ipython",
    "version": 3
   },
   "file_extension": ".py",
   "mimetype": "text/x-python",
   "name": "python",
   "nbconvert_exporter": "python",
   "pygments_lexer": "ipython3",
   "version": "3.5.2"
  }
 },
 "nbformat": 4,
 "nbformat_minor": 2
}
