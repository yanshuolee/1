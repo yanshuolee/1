{
 "cells": [
  {
   "cell_type": "code",
   "execution_count": 10,
   "metadata": {},
   "outputs": [
    {
     "name": "stdout",
     "output_type": "stream",
     "text": [
      "Tue May 22 17:19:20 2018       \n",
      "+-----------------------------------------------------------------------------+\n",
      "| NVIDIA-SMI 390.30                 Driver Version: 390.30                    |\n",
      "|-------------------------------+----------------------+----------------------+\n",
      "| GPU  Name        Persistence-M| Bus-Id        Disp.A | Volatile Uncorr. ECC |\n",
      "| Fan  Temp  Perf  Pwr:Usage/Cap|         Memory-Usage | GPU-Util  Compute M. |\n",
      "|===============================+======================+======================|\n",
      "|   0  GeForce GTX 108...  On   | 00000000:04:00.0 Off |                  N/A |\n",
      "| 22%   56C    P8    18W / 175W |    677MiB / 11177MiB |      0%      Default |\n",
      "+-------------------------------+----------------------+----------------------+\n",
      "|   1  GeForce GTX 108...  On   | 00000000:05:00.0 Off |                  N/A |\n",
      "| 90%   38C    P8    21W / 175W |     12MiB / 11178MiB |      0%      Default |\n",
      "+-------------------------------+----------------------+----------------------+\n",
      "|   2  GeForce GTX 108...  On   | 00000000:08:00.0 Off |                  N/A |\n",
      "| 90%   71C    P2   197W / 200W |    671MiB / 11178MiB |    100%      Default |\n",
      "+-------------------------------+----------------------+----------------------+\n",
      "|   3  GeForce GTX 108...  On   | 00000000:09:00.0 Off |                  N/A |\n",
      "| 90%   72C    P2   155W / 160W |    671MiB / 11178MiB |    100%      Default |\n",
      "+-------------------------------+----------------------+----------------------+\n",
      "|   4  GeForce GTX 108...  On   | 00000000:83:00.0 Off |                  N/A |\n",
      "| 90%   68C    P2   197W / 200W |    671MiB / 11178MiB |    100%      Default |\n",
      "+-------------------------------+----------------------+----------------------+\n",
      "|   5  GeForce GTX 108...  On   | 00000000:84:00.0 Off |                  N/A |\n",
      "| 90%   66C    P2   168W / 175W |  10147MiB / 11178MiB |     99%      Default |\n",
      "+-------------------------------+----------------------+----------------------+\n",
      "|   6  GeForce GTX 108...  On   | 00000000:87:00.0 Off |                  N/A |\n",
      "| 90%   30C    P8    20W / 175W |  10045MiB / 11178MiB |      0%      Default |\n",
      "+-------------------------------+----------------------+----------------------+\n",
      "|   7  GeForce GTX 108...  On   | 00000000:88:00.0 Off |                  N/A |\n",
      "| 90%   38C    P8    20W / 175W |  10005MiB / 11178MiB |      0%      Default |\n",
      "+-------------------------------+----------------------+----------------------+\n",
      "                                                                               \n",
      "+-----------------------------------------------------------------------------+\n",
      "| Processes:                                                       GPU Memory |\n",
      "|  GPU       PID   Type   Process name                             Usage      |\n",
      "|=============================================================================|\n",
      "|    0      1395      G   /usr/lib/xorg/Xorg                             5MiB |\n",
      "|    0     22006      C   ./tensorflow                                 659MiB |\n",
      "|    2     22006      C   ./tensorflow                                 659MiB |\n",
      "|    3     22006      C   ./tensorflow                                 659MiB |\n",
      "|    4     22006      C   ./tensorflow                                 659MiB |\n",
      "|    5     18718      C   python3                                    10123MiB |\n",
      "|    6     18718      C   python3                                    10021MiB |\n",
      "|    7     18718      C   python3                                     9981MiB |\n",
      "+-----------------------------------------------------------------------------+\n"
     ]
    }
   ],
   "source": [
    "!nvidia-smi"
   ]
  },
  {
   "cell_type": "code",
   "execution_count": 9,
   "metadata": {},
   "outputs": [
    {
     "name": "stdout",
     "output_type": "stream",
     "text": [
      "\u001b[?1h\u001b=\u001b[H\u001b[2J\u001b[mtop - 16:20:51 up 8 days,  3:42,  4 users,  load average: 1.72, 2.07, 2.34\u001b[m\u001b[m\u001b[m\u001b[m\u001b[K\n",
      "Tasks:\u001b[m\u001b[m\u001b[1m 441 \u001b[m\u001b[mtotal,\u001b[m\u001b[m\u001b[1m   1 \u001b[m\u001b[mrunning,\u001b[m\u001b[m\u001b[1m 440 \u001b[m\u001b[msleeping,\u001b[m\u001b[m\u001b[1m   0 \u001b[m\u001b[mstopped,\u001b[m\u001b[m\u001b[1m   0 \u001b[m\u001b[mzombie\u001b[m\u001b[m\u001b[m\u001b[m\u001b[K\n",
      "%Cpu(s):\u001b[m\u001b[m\u001b[1m  3.3 \u001b[m\u001b[mus,\u001b[m\u001b[m\u001b[1m  1.9 \u001b[m\u001b[msy,\u001b[m\u001b[m\u001b[1m  0.0 \u001b[m\u001b[mni,\u001b[m\u001b[m\u001b[1m 94.3 \u001b[m\u001b[mid,\u001b[m\u001b[m\u001b[1m  0.5 \u001b[m\u001b[mwa,\u001b[m\u001b[m\u001b[1m  0.0 \u001b[m\u001b[mhi,\u001b[m\u001b[m\u001b[1m  0.0 \u001b[m\u001b[msi,\u001b[m\u001b[m\u001b[1m  0.0 \u001b[m\u001b[mst\u001b[m\u001b[m\u001b[m\u001b[m\u001b[K\n",
      "KiB Mem :\u001b[m\u001b[m\u001b[1m 65874960 \u001b[m\u001b[mtotal,\u001b[m\u001b[m\u001b[1m  4595080 \u001b[m\u001b[mfree,\u001b[m\u001b[m\u001b[1m  4826740 \u001b[m\u001b[mused,\u001b[m\u001b[m\u001b[1m 56453140 \u001b[m\u001b[mbuff/cache\u001b[m\u001b[m\u001b[m\u001b[m\u001b[K\n",
      "KiB Swap:\u001b[m\u001b[m\u001b[1m 16676860 \u001b[m\u001b[mtotal,\u001b[m\u001b[m\u001b[1m 16676816 \u001b[m\u001b[mfree,\u001b[m\u001b[m\u001b[1m       44 \u001b[m\u001b[mused.\u001b[m\u001b[m\u001b[1m 58070232 \u001b[m\u001b[mavail Mem \u001b[m\u001b[m\u001b[m\u001b[m\u001b[K\n",
      "\u001b[K\n",
      "\u001b[7m  PID USER      PR  NI    VIRT    RES    SHR S  %CPU %MEM     TIME+ COMMAND     \u001b[m\u001b[m\u001b[K\n",
      "\u001b[m18718 s410      20   0 78.141g 5.451g 2.495g S 117.6  8.7 235:48.20 python3     \u001b[m\u001b[m\u001b[K\n",
      "\u001b[m22006 root      20   0 84.472g 419588 341264 S  11.8  0.6  16:59.10 tensorflow  \u001b[m\u001b[m\u001b[K\n",
      "\u001b[m 1417 root     -51   0       0      0      0 S   5.9  0.0 215:00.30 irq/68-nvi+ \u001b[m\u001b[m\u001b[K\n",
      "\u001b[m28303 root      20   0       0      0      0 S   5.9  0.0   0:32.81 kworker/21+ \u001b[m\u001b[m\u001b[K\n",
      "\u001b[m28557 root      20   0       0      0      0 S   5.9  0.0   0:04.54 kworker/13+ \u001b[m\u001b[m\u001b[K\n",
      "\u001b[m\u001b[1m28593 hsiehch   20   0   42352   4080   3212 R   5.9  0.0   0:00.02 top         \u001b[m\u001b[m\u001b[K\n",
      "\u001b[m    1 root      20   0  119908   6032   4048 S   0.0  0.0   0:10.23 systemd     \u001b[m\u001b[m\u001b[K\n",
      "\u001b[m    2 root      20   0       0      0      0 S   0.0  0.0   0:01.13 kthreadd    \u001b[m\u001b[m\u001b[K\n",
      "\u001b[m    3 root      20   0       0      0      0 S   0.0  0.0   0:01.44 ksoftirqd/0 \u001b[m\u001b[m\u001b[K\n",
      "\u001b[m    5 root       0 -20       0      0      0 S   0.0  0.0   0:00.00 kworker/0:+ \u001b[m\u001b[m\u001b[K\n",
      "\u001b[m    8 root      20   0       0      0      0 S   0.0  0.0   3:09.37 rcu_sched   \u001b[m\u001b[m\u001b[K\n",
      "\u001b[m    9 root      20   0       0      0      0 S   0.0  0.0   0:00.00 rcu_bh      \u001b[m\u001b[m\u001b[K\n",
      "\u001b[m   10 root      rt   0       0      0      0 S   0.0  0.0   0:09.17 migration/0 \u001b[m\u001b[m\u001b[K\n",
      "\u001b[m   11 root      rt   0       0      0      0 S   0.0  0.0   0:01.56 watchdog/0  \u001b[m\u001b[m\u001b[K\n",
      "\u001b[m   12 root      rt   0       0      0      0 S   0.0  0.0   0:01.58 watchdog/1  \u001b[m\u001b[m\u001b[K\n",
      "\u001b[m   13 root      rt   0       0      0      0 S   0.0  0.0   0:07.77 migration/1 \u001b[m\u001b[m\u001b[K\n",
      "\u001b[m   14 root      20   0       0      0      0 S   0.0  0.0   0:01.42 ksoftirqd/1 \u001b[m\u001b[m\u001b[K\u001b[?1l\u001b>\u001b[25;1H\n",
      "\u001b[K\n"
     ]
    }
   ],
   "source": [
    "!top"
   ]
  }
 ],
 "metadata": {
  "kernelspec": {
   "display_name": "Python 3",
   "language": "python",
   "name": "python3"
  },
  "language_info": {
   "codemirror_mode": {
    "name": "ipython",
    "version": 3
   },
   "file_extension": ".py",
   "mimetype": "text/x-python",
   "name": "python",
   "nbconvert_exporter": "python",
   "pygments_lexer": "ipython3",
   "version": "3.5.2"
  }
 },
 "nbformat": 4,
 "nbformat_minor": 2
}
