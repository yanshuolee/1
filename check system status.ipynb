{
 "cells": [
  {
   "cell_type": "code",
   "execution_count": 1,
   "metadata": {
    "ExecuteTime": {
     "end_time": "2018-05-25T07:29:30.457129Z",
     "start_time": "2018-05-25T07:29:30.127437Z"
    }
   },
   "outputs": [
    {
     "name": "stdout",
     "output_type": "stream",
     "text": [
      "Fri May 25 15:29:30 2018       \n",
      "+-----------------------------------------------------------------------------+\n",
      "| NVIDIA-SMI 390.30                 Driver Version: 390.30                    |\n",
      "|-------------------------------+----------------------+----------------------+\n",
      "| GPU  Name        Persistence-M| Bus-Id        Disp.A | Volatile Uncorr. ECC |\n",
      "| Fan  Temp  Perf  Pwr:Usage/Cap|         Memory-Usage | GPU-Util  Compute M. |\n",
      "|===============================+======================+======================|\n",
      "|   0  GeForce GTX 108...  On   | 00000000:04:00.0 Off |                  N/A |\n",
      "| 43%   66C    P8    21W / 175W |    688MiB / 11177MiB |      0%      Default |\n",
      "+-------------------------------+----------------------+----------------------+\n",
      "|   1  GeForce GTX 108...  On   | 00000000:05:00.0 Off |                  N/A |\n",
      "| 90%   47C    P2   138W / 175W |  10801MiB / 11178MiB |     64%      Default |\n",
      "+-------------------------------+----------------------+----------------------+\n",
      "|   2  GeForce GTX 108...  On   | 00000000:08:00.0 Off |                  N/A |\n",
      "| 90%   43C    P2    61W / 175W |  10629MiB / 11178MiB |      0%      Default |\n",
      "+-------------------------------+----------------------+----------------------+\n",
      "|   3  GeForce GTX 108...  On   | 00000000:09:00.0 Off |                  N/A |\n",
      "| 90%   70C    P2   173W / 175W |    671MiB / 11178MiB |    100%      Default |\n",
      "+-------------------------------+----------------------+----------------------+\n",
      "|   4  GeForce GTX 108...  On   | 00000000:83:00.0 Off |                  N/A |\n",
      "| 90%   69C    P2   176W / 175W |    671MiB / 11178MiB |    100%      Default |\n",
      "+-------------------------------+----------------------+----------------------+\n",
      "|   5  GeForce GTX 108...  On   | 00000000:84:00.0 Off |                  N/A |\n",
      "| 90%   68C    P2   166W / 175W |  10147MiB / 11178MiB |     99%      Default |\n",
      "+-------------------------------+----------------------+----------------------+\n",
      "|   6  GeForce GTX 108...  On   | 00000000:87:00.0 Off |                  N/A |\n",
      "| 90%   61C    P2   171W / 175W |  10704MiB / 11178MiB |    100%      Default |\n",
      "+-------------------------------+----------------------+----------------------+\n",
      "|   7  GeForce GTX 108...  On   | 00000000:88:00.0 Off |                  N/A |\n",
      "| 90%   73C    P2   171W / 175W |  10664MiB / 11178MiB |    100%      Default |\n",
      "+-------------------------------+----------------------+----------------------+\n",
      "                                                                               \n",
      "+-----------------------------------------------------------------------------+\n",
      "| Processes:                                                       GPU Memory |\n",
      "|  GPU       PID   Type   Process name                             Usage      |\n",
      "|=============================================================================|\n",
      "|    0      8736      C   ./python3                                    659MiB |\n",
      "|    0     15665      G   /usr/lib/xorg/Xorg                            16MiB |\n",
      "|    1      9782      C   /usr/bin/python3                           10781MiB |\n",
      "|    2      9782      C   /usr/bin/python3                           10609MiB |\n",
      "|    3      8736      C   ./python3                                    659MiB |\n",
      "|    4      8736      C   ./python3                                    659MiB |\n",
      "|    5     18718      C   python3                                    10123MiB |\n",
      "|    6      8736      C   ./python3                                    659MiB |\n",
      "|    6     18718      C   python3                                    10021MiB |\n",
      "|    7      8736      C   ./python3                                    659MiB |\n",
      "|    7     18718      C   python3                                     9981MiB |\n",
      "+-----------------------------------------------------------------------------+\n"
     ]
    }
   ],
   "source": [
    "!nvidia-smi"
   ]
  },
  {
   "cell_type": "code",
   "execution_count": 2,
   "metadata": {},
   "outputs": [
    {
     "name": "stdout",
     "output_type": "stream",
     "text": [
      "\u001b[?1h\u001b=\u001b[H\u001b[2J\u001b[mtop - 11:59:18 up 9 days, 23:20,  4 users,  load average: 2.24, 1.71, 1.60\u001b[m\u001b[m\u001b[m\u001b[m\u001b[K\n",
      "Tasks:\u001b[m\u001b[m\u001b[1m 477 \u001b[m\u001b[mtotal,\u001b[m\u001b[m\u001b[1m   3 \u001b[m\u001b[mrunning,\u001b[m\u001b[m\u001b[1m 474 \u001b[m\u001b[msleeping,\u001b[m\u001b[m\u001b[1m   0 \u001b[m\u001b[mstopped,\u001b[m\u001b[m\u001b[1m   0 \u001b[m\u001b[mzombie\u001b[m\u001b[m\u001b[m\u001b[m\u001b[K\n",
      "%Cpu(s):\u001b[m\u001b[m\u001b[1m  3.5 \u001b[m\u001b[mus,\u001b[m\u001b[m\u001b[1m  1.9 \u001b[m\u001b[msy,\u001b[m\u001b[m\u001b[1m  0.0 \u001b[m\u001b[mni,\u001b[m\u001b[m\u001b[1m 94.1 \u001b[m\u001b[mid,\u001b[m\u001b[m\u001b[1m  0.5 \u001b[m\u001b[mwa,\u001b[m\u001b[m\u001b[1m  0.0 \u001b[m\u001b[mhi,\u001b[m\u001b[m\u001b[1m  0.0 \u001b[m\u001b[msi,\u001b[m\u001b[m\u001b[1m  0.0 \u001b[m\u001b[mst\u001b[m\u001b[m\u001b[m\u001b[m\u001b[K\n",
      "KiB Mem :\u001b[m\u001b[m\u001b[1m 65874960 \u001b[m\u001b[mtotal,\u001b[m\u001b[m\u001b[1m   271288 \u001b[m\u001b[mfree,\u001b[m\u001b[m\u001b[1m  9066020 \u001b[m\u001b[mused,\u001b[m\u001b[m\u001b[1m 56537652 \u001b[m\u001b[mbuff/cache\u001b[m\u001b[m\u001b[m\u001b[m\u001b[K\n",
      "KiB Swap:\u001b[m\u001b[m\u001b[1m 16676860 \u001b[m\u001b[mtotal,\u001b[m\u001b[m\u001b[1m 16676228 \u001b[m\u001b[mfree,\u001b[m\u001b[m\u001b[1m      632 \u001b[m\u001b[mused.\u001b[m\u001b[m\u001b[1m 53802124 \u001b[m\u001b[mavail Mem \u001b[m\u001b[m\u001b[m\u001b[m\u001b[K\n",
      "\u001b[K\n",
      "\u001b[7m  PID USER      PR  NI    VIRT    RES    SHR S  %CPU %MEM     TIME+ COMMAND     \u001b[m\u001b[m\u001b[K\n",
      "\u001b[m32219 hsiehch   20   0 55.816g 3.111g 453124 S 137.5  5.0   0:48.01 python3     \u001b[m\u001b[m\u001b[K\n",
      "\u001b[m18718 s410      20   0 79.238g 6.550g 2.495g S 118.8 10.4   3314:15 python3     \u001b[m\u001b[m\u001b[K\n",
      "\u001b[m 1544 root     -51   0       0      0      0 S   6.2  0.0 338:29.82 irq/74-nvi+ \u001b[m\u001b[m\u001b[K\n",
      "\u001b[m\u001b[1m30711 root      20   0       0      0      0 R   6.2  0.0   1:56.90 kworker/13+ \u001b[m\u001b[m\u001b[K\n",
      "\u001b[m32367 hsiehch   20   0  608264  45440  12620 S   6.2  0.1   0:00.67 python3     \u001b[m\u001b[m\u001b[K\n",
      "\u001b[m\u001b[1m32383 hsiehch   20   0   42356   4192   3284 R   6.2  0.0   0:00.01 top         \u001b[m\u001b[m\u001b[K\n",
      "\u001b[m    1 root      20   0  119908   6048   4048 S   0.0  0.0   0:12.00 systemd     \u001b[m\u001b[m\u001b[K\n",
      "\u001b[m    2 root      20   0       0      0      0 S   0.0  0.0   0:01.38 kthreadd    \u001b[m\u001b[m\u001b[K\n",
      "\u001b[m    3 root      20   0       0      0      0 S   0.0  0.0   0:01.88 ksoftirqd/0 \u001b[m\u001b[m\u001b[K\n",
      "\u001b[m    5 root       0 -20       0      0      0 S   0.0  0.0   0:00.00 kworker/0:+ \u001b[m\u001b[m\u001b[K\n",
      "\u001b[m    8 root      20   0       0      0      0 S   0.0  0.0   4:21.86 rcu_sched   \u001b[m\u001b[m\u001b[K\n",
      "\u001b[m    9 root      20   0       0      0      0 S   0.0  0.0   0:00.00 rcu_bh      \u001b[m\u001b[m\u001b[K\n",
      "\u001b[m   10 root      rt   0       0      0      0 S   0.0  0.0   0:09.60 migration/0 \u001b[m\u001b[m\u001b[K\n",
      "\u001b[m   11 root      rt   0       0      0      0 S   0.0  0.0   0:01.88 watchdog/0  \u001b[m\u001b[m\u001b[K\n",
      "\u001b[m   12 root      rt   0       0      0      0 S   0.0  0.0   0:01.91 watchdog/1  \u001b[m\u001b[m\u001b[K\n",
      "\u001b[m   13 root      rt   0       0      0      0 S   0.0  0.0   0:08.23 migration/1 \u001b[m\u001b[m\u001b[K\n",
      "\u001b[m   14 root      20   0       0      0      0 S   0.0  0.0   0:01.68 ksoftirqd/1 \u001b[m\u001b[m\u001b[K\u001b[?1l\u001b>\u001b[25;1H\n",
      "\u001b[K\n"
     ]
    }
   ],
   "source": [
    "!top"
   ]
  }
 ],
 "metadata": {
  "kernelspec": {
   "display_name": "Python 3",
   "language": "python",
   "name": "python3"
  },
  "language_info": {
   "codemirror_mode": {
    "name": "ipython",
    "version": 3
   },
   "file_extension": ".py",
   "mimetype": "text/x-python",
   "name": "python",
   "nbconvert_exporter": "python",
   "pygments_lexer": "ipython3",
   "version": "3.5.2"
  }
 },
 "nbformat": 4,
 "nbformat_minor": 2
}
