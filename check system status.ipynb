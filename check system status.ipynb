{
 "cells": [
  {
   "cell_type": "code",
   "execution_count": 2,
   "metadata": {
    "ExecuteTime": {
     "end_time": "2018-08-05T08:31:42.413784Z",
     "start_time": "2018-08-05T08:31:42.105772Z"
    }
   },
   "outputs": [
    {
     "name": "stdout",
     "output_type": "stream",
     "text": [
      "Sun Aug  5 16:31:42 2018       \n",
      "+-----------------------------------------------------------------------------+\n",
      "| NVIDIA-SMI 396.26                 Driver Version: 396.26                    |\n",
      "|-------------------------------+----------------------+----------------------+\n",
      "| GPU  Name        Persistence-M| Bus-Id        Disp.A | Volatile Uncorr. ECC |\n",
      "| Fan  Temp  Perf  Pwr:Usage/Cap|         Memory-Usage | GPU-Util  Compute M. |\n",
      "|===============================+======================+======================|\n",
      "|   0  GeForce GTX 108...  On   | 00000000:04:00.0 Off |                  N/A |\n",
      "| 22%   56C    P8    18W / 175W |    675MiB / 11177MiB |      0%      Default |\n",
      "+-------------------------------+----------------------+----------------------+\n",
      "|   1  GeForce GTX 108...  On   | 00000000:05:00.0 Off |                  N/A |\n",
      "| 90%   47C    P2    68W / 200W |  10703MiB / 11178MiB |     19%      Default |\n",
      "+-------------------------------+----------------------+----------------------+\n",
      "|   2  GeForce GTX 108...  On   | 00000000:08:00.0 Off |                  N/A |\n",
      "| 90%   42C    P8    21W / 200W |     12MiB / 11178MiB |      0%      Default |\n",
      "+-------------------------------+----------------------+----------------------+\n",
      "|   3  GeForce GTX 108...  On   | 00000000:09:00.0 Off |                  N/A |\n",
      "| 90%   66C    P2   148W / 150W |    669MiB / 11178MiB |    100%      Default |\n",
      "+-------------------------------+----------------------+----------------------+\n",
      "|   4  GeForce GTX 108...  On   | 00000000:83:00.0 Off |                  N/A |\n",
      "| 90%   76C    P2   201W / 200W |    669MiB / 11178MiB |    100%      Default |\n",
      "+-------------------------------+----------------------+----------------------+\n",
      "|   5  GeForce GTX 108...  On   | 00000000:84:00.0 Off |                  N/A |\n",
      "| 90%   78C    P2   198W / 200W |    669MiB / 11178MiB |    100%      Default |\n",
      "+-------------------------------+----------------------+----------------------+\n",
      "|   6  GeForce GTX 108...  On   | 00000000:87:00.0 Off |                  N/A |\n",
      "| 90%   66C    P2   199W / 200W |    669MiB / 11178MiB |    100%      Default |\n",
      "+-------------------------------+----------------------+----------------------+\n",
      "|   7  GeForce GTX 108...  On   | 00000000:88:00.0 Off |                  N/A |\n",
      "| 90%   81C    P2   196W / 200W |    669MiB / 11178MiB |    100%      Default |\n",
      "+-------------------------------+----------------------+----------------------+\n",
      "                                                                               \n",
      "+-----------------------------------------------------------------------------+\n",
      "| Processes:                                                       GPU Memory |\n",
      "|  GPU       PID   Type   Process name                             Usage      |\n",
      "|=============================================================================|\n",
      "|    0      1421      G   /usr/lib/xorg/Xorg                             5MiB |\n",
      "|    0      9696      C   ./python3                                    657MiB |\n",
      "|    1      8281      C   /usr/bin/python3                           10691MiB |\n",
      "|    3      9696      C   ./python3                                    657MiB |\n",
      "|    4      9696      C   ./python3                                    657MiB |\n",
      "|    5      9696      C   ./python3                                    657MiB |\n",
      "|    6      9696      C   ./python3                                    657MiB |\n",
      "|    7      9696      C   ./python3                                    657MiB |\n",
      "+-----------------------------------------------------------------------------+\n"
     ]
    }
   ],
   "source": [
    "!nvidia-smi"
   ]
  },
  {
   "cell_type": "code",
   "execution_count": 3,
   "metadata": {
    "ExecuteTime": {
     "end_time": "2018-08-05T07:33:45.563861Z",
     "start_time": "2018-08-05T07:33:44.389779Z"
    }
   },
   "outputs": [
    {
     "name": "stdout",
     "output_type": "stream",
     "text": [
      "\u001b[?1h\u001b=\u001b[H\u001b[2J\u001b[mtop - 15:33:44 up 3 days,  1:17,  7 users,  load average: 1.91, 1.97, 1.52\u001b[m\u001b[m\u001b[m\u001b[m\u001b[K\n",
      "Tasks:\u001b[m\u001b[m\u001b[1m 478 \u001b[m\u001b[mtotal,\u001b[m\u001b[m\u001b[1m   1 \u001b[m\u001b[mrunning,\u001b[m\u001b[m\u001b[1m 477 \u001b[m\u001b[msleeping,\u001b[m\u001b[m\u001b[1m   0 \u001b[m\u001b[mstopped,\u001b[m\u001b[m\u001b[1m   0 \u001b[m\u001b[mzombie\u001b[m\u001b[m\u001b[m\u001b[m\u001b[K\n",
      "%Cpu(s):\u001b[m\u001b[m\u001b[1m  1.8 \u001b[m\u001b[mus,\u001b[m\u001b[m\u001b[1m  3.1 \u001b[m\u001b[msy,\u001b[m\u001b[m\u001b[1m  0.0 \u001b[m\u001b[mni,\u001b[m\u001b[m\u001b[1m 95.0 \u001b[m\u001b[mid,\u001b[m\u001b[m\u001b[1m  0.0 \u001b[m\u001b[mwa,\u001b[m\u001b[m\u001b[1m  0.0 \u001b[m\u001b[mhi,\u001b[m\u001b[m\u001b[1m  0.1 \u001b[m\u001b[msi,\u001b[m\u001b[m\u001b[1m  0.0 \u001b[m\u001b[mst\u001b[m\u001b[m\u001b[m\u001b[m\u001b[K\n",
      "KiB Mem :\u001b[m\u001b[m\u001b[1m 65874940 \u001b[m\u001b[mtotal,\u001b[m\u001b[m\u001b[1m 53490380 \u001b[m\u001b[mfree,\u001b[m\u001b[m\u001b[1m  9495832 \u001b[m\u001b[mused,\u001b[m\u001b[m\u001b[1m  2888728 \u001b[m\u001b[mbuff/cache\u001b[m\u001b[m\u001b[m\u001b[m\u001b[K\n",
      "KiB Swap:\u001b[m\u001b[m\u001b[1m 16676860 \u001b[m\u001b[mtotal,\u001b[m\u001b[m\u001b[1m 16676860 \u001b[m\u001b[mfree,\u001b[m\u001b[m\u001b[1m        0 \u001b[m\u001b[mused.\u001b[m\u001b[m\u001b[1m 55656504 \u001b[m\u001b[mavail Mem \u001b[m\u001b[m\u001b[m\u001b[m\u001b[K\n",
      "\u001b[K\n",
      "\u001b[7m  PID USER      PR  NI    VIRT    RES    SHR S  %CPU %MEM     TIME+ COMMAND     \u001b[m\u001b[m\u001b[K\n",
      "\u001b[m32697 hsiehch   20   0 34.702g 4.897g 396368 S  94.1  7.8   6:42.78 python3     \u001b[m\u001b[m\u001b[K\n",
      "\u001b[m 9696 root      20   0 95.063g 620420 495508 S  17.6  0.9 421:34.28 python3     \u001b[m\u001b[m\u001b[K\n",
      "\u001b[m15061 root      20   0    4504   1620   1512 S  17.6  0.0 605:26.98 autopower2+ \u001b[m\u001b[m\u001b[K\n",
      "\u001b[m 1389 www-data  20   0  125436   3588   1884 S   5.9  0.0   0:15.50 nginx       \u001b[m\u001b[m\u001b[K\n",
      "\u001b[m 1529 root     -51   0       0      0      0 S   5.9  0.0  51:37.34 irq/69-nvi+ \u001b[m\u001b[m\u001b[K\n",
      "\u001b[m 1795 root     -51   0       0      0      0 S   5.9  0.0  90:33.63 irq/76-nvi+ \u001b[m\u001b[m\u001b[K\n",
      "\u001b[m 6293 hsiehch   20   0  608908  45724  12584 S   5.9  0.1   0:00.73 python3     \u001b[m\u001b[m\u001b[K\n",
      "\u001b[m14222 root      20   0       0      0      0 S   5.9  0.0   0:15.06 kworker/22+ \u001b[m\u001b[m\u001b[K\n",
      "\u001b[m\u001b[1m19462 hsiehch   20   0   42672   4052   3236 R   5.9  0.0   0:00.02 top         \u001b[m\u001b[m\u001b[K\n",
      "\u001b[m23502 root      20   0       0      0      0 S   5.9  0.0   0:00.34 kworker/21+ \u001b[m\u001b[m\u001b[K\n",
      "\u001b[m    1 root      20   0  185396   6080   4056 S   0.0  0.0   0:03.53 systemd     \u001b[m\u001b[m\u001b[K\n",
      "\u001b[m    2 root      20   0       0      0      0 S   0.0  0.0   0:00.39 kthreadd    \u001b[m\u001b[m\u001b[K\n",
      "\u001b[m    3 root      20   0       0      0      0 S   0.0  0.0   0:13.54 ksoftirqd/0 \u001b[m\u001b[m\u001b[K\n",
      "\u001b[m    5 root       0 -20       0      0      0 S   0.0  0.0   0:00.00 kworker/0:+ \u001b[m\u001b[m\u001b[K\n",
      "\u001b[m    8 root      20   0       0      0      0 S   0.0  0.0  12:23.64 rcu_sched   \u001b[m\u001b[m\u001b[K\n",
      "\u001b[m    9 root      20   0       0      0      0 S   0.0  0.0   0:00.00 rcu_bh      \u001b[m\u001b[m\u001b[K\n",
      "\u001b[m   10 root      rt   0       0      0      0 S   0.0  0.0   0:56.44 migration/0 \u001b[m\u001b[m\u001b[K\u001b[?1l\u001b>\u001b[25;1H\n",
      "\u001b[K\n"
     ]
    }
   ],
   "source": [
    "!top"
   ]
  },
  {
   "cell_type": "code",
   "execution_count": null,
   "metadata": {},
   "outputs": [],
   "source": []
  }
 ],
 "metadata": {
  "kernelspec": {
   "display_name": "Python 3",
   "language": "python",
   "name": "python3"
  },
  "language_info": {
   "codemirror_mode": {
    "name": "ipython",
    "version": 3
   },
   "file_extension": ".py",
   "mimetype": "text/x-python",
   "name": "python",
   "nbconvert_exporter": "python",
   "pygments_lexer": "ipython3",
   "version": "3.5.2"
  }
 },
 "nbformat": 4,
 "nbformat_minor": 2
}
