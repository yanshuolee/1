{
 "cells": [
  {
   "cell_type": "code",
   "execution_count": 6,
   "metadata": {
    "ExecuteTime": {
     "end_time": "2018-06-06T03:02:12.402756Z",
     "start_time": "2018-06-06T03:02:12.091838Z"
    }
   },
   "outputs": [
    {
     "name": "stdout",
     "output_type": "stream",
     "text": [
      "Wed Jun  6 11:02:12 2018       \n",
      "+-----------------------------------------------------------------------------+\n",
      "| NVIDIA-SMI 390.30                 Driver Version: 390.30                    |\n",
      "|-------------------------------+----------------------+----------------------+\n",
      "| GPU  Name        Persistence-M| Bus-Id        Disp.A | Volatile Uncorr. ECC |\n",
      "| Fan  Temp  Perf  Pwr:Usage/Cap|         Memory-Usage | GPU-Util  Compute M. |\n",
      "|===============================+======================+======================|\n",
      "|   0  GeForce GTX 108...  On   | 00000000:04:00.0 Off |                  N/A |\n",
      "| 24%   57C    P8    18W / 150W |    688MiB / 11177MiB |      0%      Default |\n",
      "+-------------------------------+----------------------+----------------------+\n",
      "|   1  GeForce GTX 108...  On   | 00000000:05:00.0 Off |                  N/A |\n",
      "| 90%   42C    P2    57W / 200W |     12MiB / 11178MiB |      0%      Default |\n",
      "+-------------------------------+----------------------+----------------------+\n",
      "|   2  GeForce GTX 108...  On   | 00000000:08:00.0 Off |                  N/A |\n",
      "| 90%   44C    P2    56W / 200W |     12MiB / 11178MiB |      0%      Default |\n",
      "+-------------------------------+----------------------+----------------------+\n",
      "|   3  GeForce GTX 108...  On   | 00000000:09:00.0 Off |                  N/A |\n",
      "| 90%   72C    P2   174W / 175W |    671MiB / 11178MiB |     98%      Default |\n",
      "+-------------------------------+----------------------+----------------------+\n",
      "|   4  GeForce GTX 108...  On   | 00000000:83:00.0 Off |                  N/A |\n",
      "| 90%   76C    P2   192W / 200W |    671MiB / 11178MiB |    100%      Default |\n",
      "+-------------------------------+----------------------+----------------------+\n",
      "|   5  GeForce GTX 108...  On   | 00000000:84:00.0 Off |                  N/A |\n",
      "| 90%   78C    P2   196W / 200W |  10806MiB / 11178MiB |    100%      Default |\n",
      "+-------------------------------+----------------------+----------------------+\n",
      "|   6  GeForce GTX 108...  On   | 00000000:87:00.0 Off |                  N/A |\n",
      "| 90%   72C    P2   218W / 225W |  10704MiB / 11178MiB |    100%      Default |\n",
      "+-------------------------------+----------------------+----------------------+\n",
      "|   7  GeForce GTX 108...  On   | 00000000:88:00.0 Off |                  N/A |\n",
      "| 90%   82C    P2   203W / 200W |  10664MiB / 11178MiB |    100%      Default |\n",
      "+-------------------------------+----------------------+----------------------+\n",
      "                                                                               \n",
      "+-----------------------------------------------------------------------------+\n",
      "| Processes:                                                       GPU Memory |\n",
      "|  GPU       PID   Type   Process name                             Usage      |\n",
      "|=============================================================================|\n",
      "|    0     15665      G   /usr/lib/xorg/Xorg                            16MiB |\n",
      "|    0     27359      C   ./python3                                    659MiB |\n",
      "|    3     27359      C   ./python3                                    659MiB |\n",
      "|    4     27359      C   ./python3                                    659MiB |\n",
      "|    5     18718      C   python3                                    10123MiB |\n",
      "|    5     27359      C   ./python3                                    659MiB |\n",
      "|    6     18718      C   python3                                    10021MiB |\n",
      "|    6     27359      C   ./python3                                    659MiB |\n",
      "|    7     18718      C   python3                                     9981MiB |\n",
      "|    7     27359      C   ./python3                                    659MiB |\n",
      "+-----------------------------------------------------------------------------+\n"
     ]
    }
   ],
   "source": [
    "!nvidia-smi"
   ]
  },
  {
   "cell_type": "code",
   "execution_count": 3,
   "metadata": {
    "ExecuteTime": {
     "end_time": "2018-06-03T03:53:37.963700Z",
     "start_time": "2018-06-03T03:53:34.600286Z"
    }
   },
   "outputs": [
    {
     "name": "stdout",
     "output_type": "stream",
     "text": [
      "\u001b[?1h\u001b=\u001b[H\u001b[2J\u001b[mtop - 11:53:34 up 19 days, 23:15,  7 users,  load average: 5.72, 4.73, 4.68\u001b[m\u001b[m\u001b[m\u001b[m\u001b[K\n",
      "Tasks:\u001b[m\u001b[m\u001b[1m 496 \u001b[m\u001b[mtotal,\u001b[m\u001b[m\u001b[1m   3 \u001b[m\u001b[mrunning,\u001b[m\u001b[m\u001b[1m 493 \u001b[m\u001b[msleeping,\u001b[m\u001b[m\u001b[1m   0 \u001b[m\u001b[mstopped,\u001b[m\u001b[m\u001b[1m   0 \u001b[m\u001b[mzombie\u001b[m\u001b[m\u001b[m\u001b[m\u001b[K\n",
      "%Cpu(s):\u001b[m\u001b[m\u001b[1m  3.9 \u001b[m\u001b[mus,\u001b[m\u001b[m\u001b[1m  2.8 \u001b[m\u001b[msy,\u001b[m\u001b[m\u001b[1m  0.0 \u001b[m\u001b[mni,\u001b[m\u001b[m\u001b[1m 92.8 \u001b[m\u001b[mid,\u001b[m\u001b[m\u001b[1m  0.4 \u001b[m\u001b[mwa,\u001b[m\u001b[m\u001b[1m  0.0 \u001b[m\u001b[mhi,\u001b[m\u001b[m\u001b[1m  0.1 \u001b[m\u001b[msi,\u001b[m\u001b[m\u001b[1m  0.0 \u001b[m\u001b[mst\u001b[m\u001b[m\u001b[m\u001b[m\u001b[K\n",
      "KiB Mem :\u001b[m\u001b[m\u001b[1m 65874960 \u001b[m\u001b[mtotal,\u001b[m\u001b[m\u001b[1m   815968 \u001b[m\u001b[mfree,\u001b[m\u001b[m\u001b[1m 10160868 \u001b[m\u001b[mused,\u001b[m\u001b[m\u001b[1m 54898124 \u001b[m\u001b[mbuff/cache\u001b[m\u001b[m\u001b[m\u001b[m\u001b[K\n",
      "KiB Swap:\u001b[m\u001b[m\u001b[1m 16676860 \u001b[m\u001b[mtotal,\u001b[m\u001b[m\u001b[1m 16392932 \u001b[m\u001b[mfree,\u001b[m\u001b[m\u001b[1m   283928 \u001b[m\u001b[mused.\u001b[m\u001b[m\u001b[1m 52635000 \u001b[m\u001b[mavail Mem \u001b[m\u001b[m\u001b[m\u001b[m\u001b[K\n",
      "\u001b[K\n",
      "\u001b[7m  PID USER      PR  NI    VIRT    RES    SHR S  %CPU %MEM     TIME+ COMMAND     \u001b[m\u001b[m\u001b[K\n",
      "\u001b[m\u001b[1m30546 hsiehch   20   0 56.513g 3.885g 477324 R 400.0  6.2   1:07.34 python3     \u001b[m\u001b[m\u001b[K\n",
      "\u001b[m18718 s410      20   0 79.373g 6.617g 2.426g S 106.2 10.5  20136:34 python3     \u001b[m\u001b[m\u001b[K\n",
      "\u001b[m26926 root      20   0    4504   1408   1296 S  25.0  0.0 822:33.01 time.sh     \u001b[m\u001b[m\u001b[K\n",
      "\u001b[m13435 root      20   0    4504   1152   1040 S  18.8  0.0 811:33.96 time.sh     \u001b[m\u001b[m\u001b[K\n",
      "\u001b[m 4892 root      20   0    4504   1656   1548 S  12.5  0.0 144:14.00 autopower.+ \u001b[m\u001b[m\u001b[K\n",
      "\u001b[m13892 root      20   0 94.313g 630820 507344 S  12.5  1.0  19:08.05 python3     \u001b[m\u001b[m\u001b[K\n",
      "\u001b[m 1521 root     -51   0       0      0      0 S   6.2  0.0 606:31.89 irq/71-nvi+ \u001b[m\u001b[m\u001b[K\n",
      "\u001b[m 1544 root     -51   0       0      0      0 S   6.2  0.0 871:57.14 irq/74-nvi+ \u001b[m\u001b[m\u001b[K\n",
      "\u001b[m 1812 root     -51   0       0      0      0 S   6.2  0.0 377:40.03 irq/75-nvi+ \u001b[m\u001b[m\u001b[K\n",
      "\u001b[m 1831 root     -51   0       0      0      0 S   6.2  0.0 305:09.87 irq/76-nvi+ \u001b[m\u001b[m\u001b[K\n",
      "\u001b[m 6869 hsiehch   20   0  341104  71416  15576 S   6.2  0.1   1:14.73 jupyter-no+ \u001b[m\u001b[m\u001b[K\n",
      "\u001b[m\u001b[1m 8117 hsiehch   20   0   42664   4004   3252 R   6.2  0.0   0:00.01 top         \u001b[m\u001b[m\u001b[K\n",
      "\u001b[m15557 root      20   0       0      0      0 S   6.2  0.0   0:29.48 kworker/9:1 \u001b[m\u001b[m\u001b[K\n",
      "\u001b[m15681 root      20   0       0      0      0 S   6.2  0.0   0:24.27 kworker/13+ \u001b[m\u001b[m\u001b[K\n",
      "\u001b[m    1 root      20   0  120468   6060   3652 S   0.0  0.0   0:33.52 systemd     \u001b[m\u001b[m\u001b[K\n",
      "\u001b[m    2 root      20   0       0      0      0 S   0.0  0.0   0:02.62 kthreadd    \u001b[m\u001b[m\u001b[K\n",
      "\u001b[m    3 root      20   0       0      0      0 S   0.0  0.0   0:39.61 ksoftirqd/0 \u001b[m\u001b[m\u001b[K\u001b[H\u001b[mtop - 11:53:37 up 19 days, 23:15,  7 users,  load average: 5.72, 4.73, 4.68\u001b[m\u001b[m\u001b[m\u001b[m\u001b[K\n",
      "Tasks:\u001b[m\u001b[m\u001b[1m 496 \u001b[m\u001b[mtotal,\u001b[m\u001b[m\u001b[1m   3 \u001b[m\u001b[mrunning,\u001b[m\u001b[m\u001b[1m 493 \u001b[m\u001b[msleeping,\u001b[m\u001b[m\u001b[1m   0 \u001b[m\u001b[mstopped,\u001b[m\u001b[m\u001b[1m   0 \u001b[m\u001b[mzombie\u001b[m\u001b[m\u001b[m\u001b[m\u001b[K\n",
      "%Cpu(s):\u001b[m\u001b[m\u001b[1m 15.1 \u001b[m\u001b[mus,\u001b[m\u001b[m\u001b[1m 10.3 \u001b[m\u001b[msy,\u001b[m\u001b[m\u001b[1m  0.0 \u001b[m\u001b[mni,\u001b[m\u001b[m\u001b[1m 73.9 \u001b[m\u001b[mid,\u001b[m\u001b[m\u001b[1m  0.7 \u001b[m\u001b[mwa,\u001b[m\u001b[m\u001b[1m  0.0 \u001b[m\u001b[mhi,\u001b[m\u001b[m\u001b[1m  0.1 \u001b[m\u001b[msi,\u001b[m\u001b[m\u001b[1m  0.0 \u001b[m\u001b[mst\u001b[m\u001b[m\u001b[m\u001b[m\u001b[K\n",
      "KiB Mem :\u001b[m\u001b[m\u001b[1m 65874960 \u001b[m\u001b[mtotal,\u001b[m\u001b[m\u001b[1m   811924 \u001b[m\u001b[mfree,\u001b[m\u001b[m\u001b[1m 10163036 \u001b[m\u001b[mused,\u001b[m\u001b[m\u001b[1m 54900000 \u001b[m\u001b[mbuff/cache\u001b[m\u001b[m\u001b[m\u001b[m\u001b[K\n",
      "KiB Swap:\u001b[m\u001b[m\u001b[1m 16676860 \u001b[m\u001b[mtotal,\u001b[m\u001b[m\u001b[1m 16392932 \u001b[m\u001b[mfree,\u001b[m\u001b[m\u001b[1m   283928 \u001b[m\u001b[mused.\u001b[m\u001b[m\u001b[1m 52632784 \u001b[m\u001b[mavail Mem \u001b[m\u001b[m\u001b[m\u001b[m\u001b[K\n",
      "\u001b[K\n",
      "\n",
      "\u001b[m\u001b[1m30546 hsiehch   20   0 56.513g 3.886g 477324 R 373.8  6.2   1:18.63 python3     \u001b[m\u001b[m\u001b[K\n",
      "\u001b[m18718 s410      20   0 79.373g 6.617g 2.426g S  94.4 10.5  20136:37 python3     \u001b[m\u001b[m\u001b[K\n",
      "\u001b[m\u001b[1m13435 root      20   0    4504   1152   1040 R  22.5  0.0 811:34.64 time.sh     \u001b[m\u001b[m\u001b[K\n",
      "\u001b[m26926 root      20   0    4504   1408   1296 S  22.5  0.0 822:33.69 time.sh     \u001b[m\u001b[m\u001b[K\n",
      "\u001b[m 4892 root      20   0    4504   1656   1548 S  15.6  0.0 144:14.47 autopower.+ \u001b[m\u001b[m\u001b[K\n",
      "\u001b[m13892 root      20   0 94.313g 630820 507344 S  15.6  1.0  19:08.52 python3     \u001b[m\u001b[m\u001b[K\n",
      "\u001b[m 6869 hsiehch   20   0  341104  71416  15576 S   3.6  0.1   1:14.84 jupyter-no+ \u001b[m\u001b[m\u001b[K\n",
      "\u001b[m15557 root      20   0       0      0      0 S   3.0  0.0   0:29.57 kworker/9:1 \u001b[m\u001b[m\u001b[K\n",
      "\u001b[m15681 root      20   0       0      0      0 S   3.0  0.0   0:24.36 kworker/13+ \u001b[m\u001b[m\u001b[K\n",
      "\u001b[m 4634 hsiehch   20   0  608684  45516  12484 S   2.6  0.1   0:00.70 python3     \u001b[m\u001b[m\u001b[K\n",
      "\u001b[m 1544 root     -51   0       0      0      0 S   2.3  0.0 871:57.21 irq/74-nvi+ \u001b[m\u001b[m\u001b[K\n",
      "\u001b[m 1831 root     -51   0       0      0      0 S   2.3  0.0 305:09.94 irq/76-nvi+ \u001b[m\u001b[m\u001b[K\n",
      "\u001b[m  785 root     -51   0       0      0      0 S   2.0  0.0 701:34.00 irq/63-nvi+ \u001b[m\u001b[m\u001b[K\n",
      "\u001b[m 1812 root     -51   0       0      0      0 S   1.3  0.0 377:40.07 irq/75-nvi+ \u001b[m\u001b[m\u001b[K\n",
      "\u001b[m 7848 root      20   0       0      0      0 S   1.3  0.0   0:08.45 kworker/14+ \u001b[m\u001b[m\u001b[K\n",
      "\u001b[m 1497 root     -51   0       0      0      0 S   1.0  0.0 573:41.28 irq/70-nvi+ \u001b[m\u001b[m\u001b[K\n",
      "\u001b[m 1521 root     -51   0       0      0      0 S   1.0  0.0 606:31.92 irq/71-nvi+ \u001b[m\u001b[m\u001b[K\u001b[?1l\u001b>\u001b[25;1H\n",
      "\u001b[K\n"
     ]
    }
   ],
   "source": [
    "!top"
   ]
  }
 ],
 "metadata": {
  "kernelspec": {
   "display_name": "Python 3",
   "language": "python",
   "name": "python3"
  },
  "language_info": {
   "codemirror_mode": {
    "name": "ipython",
    "version": 3
   },
   "file_extension": ".py",
   "mimetype": "text/x-python",
   "name": "python",
   "nbconvert_exporter": "python",
   "pygments_lexer": "ipython3",
   "version": "3.5.2"
  }
 },
 "nbformat": 4,
 "nbformat_minor": 2
}
