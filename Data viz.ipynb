{
 "cells": [
  {
   "cell_type": "markdown",
   "metadata": {},
   "source": [
    "## Histogram"
   ]
  },
  {
   "cell_type": "code",
   "execution_count": 1,
   "metadata": {
    "ExecuteTime": {
     "end_time": "2019-06-09T03:18:33.332369Z",
     "start_time": "2019-06-09T03:18:32.619217Z"
    }
   },
   "outputs": [],
   "source": [
    "import numpy as np\n",
    "import pandas as pd\n",
    "from toolkit import openFile\n",
    "ECG_folder_path = '/home/hsiehch/dataset/'\n",
    "table_path = 'labels.csv'\n",
    "\n",
    "table = pd.read_csv(table_path, dtype='str', header=None)\n",
    "count = []\n",
    "\n",
    "for name in table[0]:\n",
    "    data = openFile.openData(ECG_folder_path, name)\n",
    "    count.append(len(data)//300)"
   ]
  },
  {
   "cell_type": "code",
   "execution_count": 25,
   "metadata": {
    "ExecuteTime": {
     "end_time": "2019-06-09T03:51:48.505283Z",
     "start_time": "2019-06-09T03:51:48.492282Z"
    }
   },
   "outputs": [
    {
     "name": "stdout",
     "output_type": "stream",
     "text": [
      "25 sec: 36\n",
      "26 sec: 36\n",
      "27 sec: 41\n",
      "28 sec: 31\n",
      "29 sec: 16\n",
      "30 sec: 6015\n",
      "31 sec: 56\n",
      "32 sec: 87\n",
      "33 sec: 72\n",
      "34 sec: 52\n",
      "35 sec: 32\n"
     ]
    }
   ],
   "source": [
    "tmp = np.array(count)\n",
    "for i in range(25, 36):\n",
    "    print(\"{} sec: {}\".format(i, len(np.where(tmp==i)[0])))"
   ]
  },
  {
   "cell_type": "code",
   "execution_count": 24,
   "metadata": {
    "ExecuteTime": {
     "end_time": "2019-06-09T03:47:27.038288Z",
     "start_time": "2019-06-09T03:47:26.694219Z"
    }
   },
   "outputs": [
    {
     "data": {
      "image/png": "[encoded data removed]",
      "text/plain": [
       "<Figure size 432x288 with 1 Axes>"
      ]
     },
     "metadata": {
      "needs_background": "light"
     },
     "output_type": "display_data"
    }
   ],
   "source": [
    "import matplotlib.pyplot as plt\n",
    "\n",
    "time = [i for i in np.arange(9.5, 60.6, 1.0)]\n",
    "# plt.figure(figsize=(15, 10))\n",
    "plt.hist(count, bins=time)\n",
    "plt.grid(axis='y', alpha=0.75)\n",
    "plt.xlabel('Second')\n",
    "plt.ylabel('Frequency')\n",
    "plt.title('Data profile')\n",
    "plt.show()"
   ]
  },
  {
   "cell_type": "markdown",
   "metadata": {},
   "source": [
    "## Data profile"
   ]
  },
  {
   "cell_type": "code",
   "execution_count": 2,
   "metadata": {
    "ExecuteTime": {
     "end_time": "2019-06-23T03:54:57.969284Z",
     "start_time": "2019-06-23T03:54:55.384049Z"
    }
   },
   "outputs": [
    {
     "name": "stderr",
     "output_type": "stream",
     "text": [
      "Using TensorFlow backend.\n"
     ]
    },
    {
     "name": "stdout",
     "output_type": "stream",
     "text": [
      "Train Data: (10151, 9000, 1)\n",
      "Train Label:  (10151, 4)\n"
     ]
    }
   ],
   "source": [
    "import numpy as np\n",
    "from keras.utils import np_utils\n",
    "\n",
    "trainD = np.load(\"/home/hsiehch/30s/train_data.npy\")\n",
    "trainL = np.load(\"/home/hsiehch/30s/train_label.npy\")\n",
    "validationD = np.load(\"/home/hsiehch/30s/validation_data.npy\")\n",
    "validationL = np.load(\"/home/hsiehch/30s/validation_label.npy\")\n",
    "testD = np.load(\"/home/hsiehch/30s/test_data.npy\")\n",
    "testL = np.load(\"/home/hsiehch/30s/test_label.npy\")\n",
    "\n",
    "trainD = np.append(trainD, validationD, axis=0)\n",
    "trainL = np.append(trainL, validationL, axis=0)\n",
    "trainD = np.append(trainD, testD, axis=0)\n",
    "trainL = np.append(trainL, testL, axis=0)\n",
    "\n",
    "trainData = trainD.reshape((trainD.shape[0], trainD.shape[1], 1))\n",
    "trainLabel = np_utils.to_categorical(trainL, 4)\n",
    "print('Train Data:', trainData.shape)\n",
    "print('Train Label: ', trainLabel.shape)"
   ]
  },
  {
   "cell_type": "code",
   "execution_count": 3,
   "metadata": {
    "ExecuteTime": {
     "end_time": "2019-06-23T03:55:01.468765Z",
     "start_time": "2019-06-23T03:55:01.449297Z"
    }
   },
   "outputs": [
    {
     "data": {
      "text/plain": [
       "array([[1., 0., 0., 0.],\n",
       "       [1., 0., 0., 0.],\n",
       "       [1., 0., 0., 0.],\n",
       "       ...,\n",
       "       [0., 0., 1., 0.],\n",
       "       [0., 0., 1., 0.],\n",
       "       [0., 0., 1., 0.]], dtype=float32)"
      ]
     },
     "execution_count": 3,
     "metadata": {},
     "output_type": "execute_result"
    }
   ],
   "source": [
    "trainLabel"
   ]
  },
  {
   "cell_type": "markdown",
   "metadata": {},
   "source": [
    "{'A':0, '~':1, 'N':2, 'O':3}"
   ]
  },
  {
   "cell_type": "code",
   "execution_count": 4,
   "metadata": {
    "ExecuteTime": {
     "end_time": "2019-06-23T03:55:14.264862Z",
     "start_time": "2019-06-23T03:55:14.245511Z"
    }
   },
   "outputs": [
    {
     "data": {
      "text/plain": [
       "array([ 903.,  299., 5959., 2990.], dtype=float32)"
      ]
     },
     "execution_count": 4,
     "metadata": {},
     "output_type": "execute_result"
    }
   ],
   "source": [
    "sum(trainLabel)"
   ]
  }
 ],
 "metadata": {
  "kernelspec": {
   "display_name": "Python 3",
   "language": "python",
   "name": "python3"
  },
  "language_info": {
   "codemirror_mode": {
    "name": "ipython",
    "version": 3
   },
   "file_extension": ".py",
   "mimetype": "text/x-python",
   "name": "python",
   "nbconvert_exporter": "python",
   "pygments_lexer": "ipython3",
   "version": "3.6.7"
  }
 },
 "nbformat": 4,
 "nbformat_minor": 2
}
