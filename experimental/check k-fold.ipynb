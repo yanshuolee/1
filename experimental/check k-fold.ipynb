{
 "cells": [
  {
   "cell_type": "code",
   "execution_count": 1,
   "metadata": {
    "ExecuteTime": {
     "end_time": "2019-03-23T13:25:22.608789Z",
     "start_time": "2019-03-23T13:25:17.271971Z"
    }
   },
   "outputs": [
    {
     "name": "stderr",
     "output_type": "stream",
     "text": [
      "Using TensorFlow backend.\n"
     ]
    },
    {
     "name": "stdout",
     "output_type": "stream",
     "text": [
      "Train Data: (10151, 9000, 1)\n",
      "Train Label:  (10151, 4)\n",
      "KFold(n_splits=5, random_state=None, shuffle=True)\n",
      "trian: [    1     2     3 ... 10147 10148 10149] len 8120 test: [    0    12    32 ... 10129 10143 10150] len 2031\n",
      "trian: [    0     1     3 ... 10148 10149 10150] len 8121 test: [    2    10    14 ... 10136 10139 10140] len 2030\n",
      "trian: [    0     2     3 ... 10148 10149 10150] len 8121 test: [    1    15    22 ... 10145 10146 10147] len 2030\n",
      "trian: [    0     1     2 ... 10147 10148 10150] len 8121 test: [    7    11    13 ... 10141 10144 10149] len 2030\n",
      "trian: [    0     1     2 ... 10147 10149 10150] len 8121 test: [    3     4     5 ... 10132 10135 10148] len 2030\n"
     ]
    }
   ],
   "source": [
    "import numpy as np\n",
    "from sklearn.model_selection import KFold\n",
    "from keras.utils import np_utils\n",
    "trainD = np.load(\"/home/hsiehch/30s/train_data.npy\")\n",
    "trainL = np.load(\"/home/hsiehch/30s/train_label.npy\")\n",
    "validationD = np.load(\"/home/hsiehch/30s/validation_data.npy\")\n",
    "validationL = np.load(\"/home/hsiehch/30s/validation_label.npy\")\n",
    "testD = np.load(\"/home/hsiehch/30s/test_data.npy\")\n",
    "testL = np.load(\"/home/hsiehch/30s/test_label.npy\")\n",
    "\n",
    "trainD = np.append(trainD, validationD, axis=0)\n",
    "trainL = np.append(trainL, validationL, axis=0)\n",
    "trainD = np.append(trainD, testD, axis=0)\n",
    "trainL = np.append(trainL, testL, axis=0)\n",
    "\n",
    "trainData = trainD.reshape((trainD.shape[0], trainD.shape[1], 1))\n",
    "trainLabel = np_utils.to_categorical(trainL, 4)\n",
    "print('Train Data:', trainData.shape)\n",
    "print('Train Label: ', trainLabel.shape)\n",
    "\n",
    "kf = KFold(n_splits=5, shuffle=True)\n",
    "print(kf)\n",
    "\n",
    "training_data = []\n",
    "training_label = []\n",
    "validation_cate_label = []\n",
    "validation_data = []\n",
    "validation_label = []\n",
    "\n",
    "for train_index, test_index in kf.split(trainData):\n",
    "    print('trian:', train_index, 'len', len(train_index), 'test:', test_index, 'len', len(test_index))\n",
    "    training_data.append(trainData[train_index])\n",
    "    training_label.append(trainLabel[train_index])\n",
    "    validation_data.append(trainData[test_index])\n",
    "    validation_label.append(trainLabel[test_index])\n",
    "    validation_cate_label.append(trainL[test_index])\n",
    "\n",
    "training_data = np.array(training_data)\n",
    "training_label = np.array(training_label)\n",
    "validation_data = np.array(validation_data)\n",
    "validation_label = np.array(validation_label)\n",
    "validation_cate_label = np.array(validation_cate_label)"
   ]
  },
  {
   "cell_type": "code",
   "execution_count": 9,
   "metadata": {
    "ExecuteTime": {
     "end_time": "2019-03-19T14:02:58.725713Z",
     "start_time": "2019-03-19T14:02:58.706879Z"
    }
   },
   "outputs": [
    {
     "data": {
      "text/plain": [
       "array([ 741.,  228., 4780., 2371.], dtype=float32)"
      ]
     },
     "execution_count": 9,
     "metadata": {},
     "output_type": "execute_result"
    }
   ],
   "source": [
    "sum(training_label[0])"
   ]
  },
  {
   "cell_type": "code",
   "execution_count": 10,
   "metadata": {
    "ExecuteTime": {
     "end_time": "2019-03-19T14:03:27.828487Z",
     "start_time": "2019-03-19T14:03:27.818545Z"
    }
   },
   "outputs": [
    {
     "data": {
      "text/plain": [
       "array([ 162.,   71., 1179.,  619.], dtype=float32)"
      ]
     },
     "execution_count": 10,
     "metadata": {},
     "output_type": "execute_result"
    }
   ],
   "source": [
    "sum(validation_label[0])"
   ]
  },
  {
   "cell_type": "code",
   "execution_count": 2,
   "metadata": {
    "ExecuteTime": {
     "end_time": "2019-03-23T13:25:47.889889Z",
     "start_time": "2019-03-23T13:25:47.858598Z"
    }
   },
   "outputs": [
    {
     "data": {
      "text/plain": [
       "array([ 737.,  239., 4766., 2379.], dtype=float32)"
      ]
     },
     "execution_count": 2,
     "metadata": {},
     "output_type": "execute_result"
    }
   ],
   "source": [
    "sum(training_label[1])"
   ]
  },
  {
   "cell_type": "code",
   "execution_count": 3,
   "metadata": {
    "ExecuteTime": {
     "end_time": "2019-03-23T13:25:58.487908Z",
     "start_time": "2019-03-23T13:25:58.477363Z"
    }
   },
   "outputs": [
    {
     "data": {
      "text/plain": [
       "array([ 166.,   60., 1193.,  611.], dtype=float32)"
      ]
     },
     "execution_count": 3,
     "metadata": {},
     "output_type": "execute_result"
    }
   ],
   "source": [
    "sum(validation_label[1])"
   ]
  }
 ],
 "metadata": {
  "kernelspec": {
   "display_name": "Python 3",
   "language": "python",
   "name": "python3"
  },
  "language_info": {
   "codemirror_mode": {
    "name": "ipython",
    "version": 3
   },
   "file_extension": ".py",
   "mimetype": "text/x-python",
   "name": "python",
   "nbconvert_exporter": "python",
   "pygments_lexer": "ipython3",
   "version": "3.6.7"
  }
 },
 "nbformat": 4,
 "nbformat_minor": 2
}
