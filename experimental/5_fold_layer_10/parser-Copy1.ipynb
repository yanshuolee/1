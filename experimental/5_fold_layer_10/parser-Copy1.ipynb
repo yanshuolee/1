{
 "cells": [
  {
   "cell_type": "code",
   "execution_count": 1,
   "metadata": {
    "ExecuteTime": {
     "end_time": "2019-04-16T13:49:45.767385Z",
     "start_time": "2019-04-16T13:49:45.744588Z"
    },
    "code_folding": [],
    "scrolled": true
   },
   "outputs": [],
   "source": [
    "import os\n",
    "\n",
    "def read_lines(reader):\n",
    "    lines = {}\n",
    "    for i in range(6):\n",
    "        line = reader.readline()\n",
    "        key = line.split(':')[0]\n",
    "        value = line.split(':')[1].split('\\n')[0]\n",
    "        lines[key] = float(value)\n",
    "    return lines\n",
    "\n",
    "def avg_f1(lines):\n",
    "    mean = lines[2]+lines[3]+lines[4]+lines[5]\n",
    "    return mean / 4\n",
    "\n",
    "f = open('overall.txt', 'w+')\n",
    "f.write(\"[loss, acc, Fa, F~, fn, fo]\\n\")\n",
    "\n",
    "index = 1\n",
    "best_of_F1 = 0.0\n",
    "corresponding_index = 0\n",
    "while os.path.isdir(str(index)):\n",
    "    path = str(index)+\"/\"\n",
    "    avg_fold = [.0, .0, .0, .0, .0, .0]\n",
    "    try:\n",
    "        for fold in range(1,6):\n",
    "            fold_path = path+\"fold_\"+str(fold)\n",
    "\n",
    "            with open(fold_path+\"/readme.txt\", \"r\") as reader:\n",
    "                lines = read_lines(reader)\n",
    "            avg_fold[0] += lines['Loss']\n",
    "            avg_fold[1] += lines['Accuracy']\n",
    "            avg_fold[2] += lines['F1[A]']\n",
    "            avg_fold[3] += lines['F1[~]']\n",
    "            avg_fold[4] += lines['F1[N]']\n",
    "            avg_fold[5] += lines['F1[O]']\n",
    "        avg_fold_final = []\n",
    "        for i in avg_fold:\n",
    "            avg_fold_final.append(i / 5)\n",
    "        f.write(str(index)+\": \"+str(avg_fold_final)+\"\\n\")\n",
    "        f1 = avg_f1(avg_fold_final)\n",
    "        if f1 > best_of_F1:\n",
    "            best_of_F1 = f1\n",
    "            corresponding_index = index\n",
    "    except:\n",
    "        print(\"problem: \"+str(index))\n",
    "    \n",
    "    index += 1\n",
    "    \n",
    "f.close()"
   ]
  },
  {
   "cell_type": "code",
   "execution_count": 2,
   "metadata": {
    "ExecuteTime": {
     "end_time": "2019-04-16T13:49:48.046469Z",
     "start_time": "2019-04-16T13:49:48.041280Z"
    }
   },
   "outputs": [
    {
     "name": "stdout",
     "output_type": "stream",
     "text": [
      "1\n",
      "0.6688163254557973\n"
     ]
    }
   ],
   "source": [
    "print(corresponding_index)\n",
    "print(best_of_F1)"
   ]
  },
  {
   "cell_type": "code",
   "execution_count": 2,
   "metadata": {
    "ExecuteTime": {
     "end_time": "2019-04-10T13:24:32.649280Z",
     "start_time": "2019-04-10T13:24:32.628486Z"
    }
   },
   "outputs": [
    {
     "name": "stdout",
     "output_type": "stream",
     "text": [
      "index: 1 F1:0.7642\n",
      "index: 2 F1:0.7706\n"
     ]
    }
   ],
   "source": [
    "import os\n",
    "\n",
    "def read_lines(reader):\n",
    "    lines = {}\n",
    "    for i in range(6):\n",
    "        line = reader.readline()\n",
    "        key = line.split(':')[0]\n",
    "        value = line.split(':')[1].split('\\n')[0]\n",
    "        lines[key] = float(value)\n",
    "    return lines\n",
    "\n",
    "def avg_f1(lines):\n",
    "    mean = lines[2]+lines[3]+lines[4]+lines[5]\n",
    "    return mean / 4\n",
    "\n",
    "index = 1\n",
    "best_of_F1 = 0.0\n",
    "corresponding_index = 0\n",
    "\n",
    "\n",
    "while os.path.isdir(str(index)):\n",
    "    path = str(index)+\"/\"\n",
    "    avg_fold = [.0, .0, .0, .0, .0, .0]\n",
    "    try:\n",
    "        for fold in range(1,6):\n",
    "            fold_path = path+\"fold_\"+str(fold)\n",
    "\n",
    "            with open(fold_path+\"/readme.txt\", \"r\") as reader:\n",
    "                lines = read_lines(reader)\n",
    "            avg_fold[0] += lines['Loss']\n",
    "            avg_fold[1] += lines['Accuracy']\n",
    "            avg_fold[2] += lines['F1[A]']\n",
    "            avg_fold[3] += lines['F1[~]']\n",
    "            avg_fold[4] += lines['F1[N]']\n",
    "            avg_fold[5] += lines['F1[O]']\n",
    "        avg_fold_final = []\n",
    "        \n",
    "        for i in avg_fold:\n",
    "            avg_fold_final.append(i / 5)\n",
    "\n",
    "        f1 = avg_f1(avg_fold_final)\n",
    "        if f1 > best_of_F1:\n",
    "            best_of_F1 = f1\n",
    "            corresponding_index = index\n",
    "        \n",
    "        \n",
    "    except:\n",
    "        print(\"problem: \"+str(index))\n",
    "    \n",
    "    \n",
    "    print(\"index: {} F1:{:.4f}\".format(index, f1))\n",
    "        \n",
    "    index += 1\n",
    "    "
   ]
  }
 ],
 "metadata": {
  "kernelspec": {
   "display_name": "Python 3",
   "language": "python",
   "name": "python3"
  },
  "language_info": {
   "codemirror_mode": {
    "name": "ipython",
    "version": 3
   },
   "file_extension": ".py",
   "mimetype": "text/x-python",
   "name": "python",
   "nbconvert_exporter": "python",
   "pygments_lexer": "ipython3",
   "version": "3.6.7"
  }
 },
 "nbformat": 4,
 "nbformat_minor": 2
}
