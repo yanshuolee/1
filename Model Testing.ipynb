{
 "cells": [
  {
   "cell_type": "code",
   "execution_count": 1,
   "metadata": {
    "ExecuteTime": {
     "end_time": "2018-06-20T05:08:29.768609Z",
     "start_time": "2018-06-20T05:08:25.323281Z"
    }
   },
   "outputs": [
    {
     "name": "stderr",
     "output_type": "stream",
     "text": [
      "/usr/local/lib/python3.5/dist-packages/h5py/__init__.py:36: FutureWarning: Conversion of the second argument of issubdtype from `float` to `np.floating` is deprecated. In future, it will be treated as `np.float64 == np.dtype(float).type`.\n",
      "  from ._conv import register_converters as _register_converters\n",
      "Using TensorFlow backend.\n"
     ]
    },
    {
     "name": "stdout",
     "output_type": "stream",
     "text": [
      "model loaded.\n"
     ]
    }
   ],
   "source": [
    "from keras.models import load_model\n",
    "model = load_model('model_30s.h5')\n",
    "print('model loaded.')"
   ]
  },
  {
   "cell_type": "code",
   "execution_count": 2,
   "metadata": {
    "ExecuteTime": {
     "end_time": "2018-06-20T05:08:51.164305Z",
     "start_time": "2018-06-20T05:08:51.141349Z"
    }
   },
   "outputs": [
    {
     "name": "stdout",
     "output_type": "stream",
     "text": [
      "20438\n",
      "[ 963  -67 -611 ... -181  122  -61]\n"
     ]
    }
   ],
   "source": [
    "from scipy.io import wavfile\n",
    "samplerate, data = wavfile.read('ecg_record/yanshuo_60s_band_passed.wav','r')\n",
    "print(len(data))\n",
    "print(data)"
   ]
  },
  {
   "cell_type": "code",
   "execution_count": 4,
   "metadata": {
    "ExecuteTime": {
     "end_time": "2018-06-20T05:09:21.440771Z",
     "start_time": "2018-06-20T05:09:21.308992Z"
    }
   },
   "outputs": [
    {
     "name": "stdout",
     "output_type": "stream",
     "text": [
      "(20438,)\n"
     ]
    }
   ],
   "source": [
    "import numpy as np\n",
    "data_normalised = [i/100000 for i in data]\n",
    "data_normalised = np.asarray(data_normalised)\n",
    "print(data_normalised.shape)"
   ]
  },
  {
   "cell_type": "code",
   "execution_count": 5,
   "metadata": {
    "ExecuteTime": {
     "end_time": "2018-06-20T05:09:30.924331Z",
     "start_time": "2018-06-20T05:09:30.738899Z"
    }
   },
   "outputs": [
    {
     "data": {
      "text/plain": [
       "<Figure size 3000x400 with 1 Axes>"
      ]
     },
     "metadata": {},
     "output_type": "display_data"
    }
   ],
   "source": [
    "import matplotlib.pyplot as plt\n",
    "times = np.arange(len(data_normalised))/float(samplerate)\n",
    "plt.figure(figsize=(30,4))\n",
    "plt.plot(times, data_normalised)\n",
    "plt.ylabel(\"Amplitude\")\n",
    "plt.xlabel(\"Time\")\n",
    "plt.title(\"ECG\")\n",
    "plt.show()"
   ]
  },
  {
   "cell_type": "code",
   "execution_count": 6,
   "metadata": {
    "ExecuteTime": {
     "end_time": "2018-06-20T05:09:36.876570Z",
     "start_time": "2018-06-20T05:09:35.638086Z"
    }
   },
   "outputs": [
    {
     "name": "stdout",
     "output_type": "stream",
     "text": [
      "[[[ 0.00963]\n",
      "  [-0.00067]\n",
      "  [-0.00611]\n",
      "  ...\n",
      "  [-0.00158]\n",
      "  [ 0.00274]\n",
      "  [-0.00298]]]\n",
      "[2]\n"
     ]
    }
   ],
   "source": [
    "prediction = data_normalised[:9000]\n",
    "prediction.shape = (1,9000,1)\n",
    "print(prediction)\n",
    "aft = model.predict_classes(prediction)\n",
    "print(aft)"
   ]
  },
  {
   "cell_type": "code",
   "execution_count": 8,
   "metadata": {
    "ExecuteTime": {
     "end_time": "2018-06-20T05:10:12.714249Z",
     "start_time": "2018-06-20T05:10:12.691341Z"
    }
   },
   "outputs": [
    {
     "name": "stdout",
     "output_type": "stream",
     "text": [
      "AF: 0.014338717\n",
      "Noise: 0.00041431873\n",
      "Normal: 0.64189273\n",
      "Others: 0.34335417\n"
     ]
    }
   ],
   "source": [
    "prediction = data_normalised[:9000]\n",
    "prediction.shape = (1,9000,1)\n",
    "aft = model.predict(prediction)\n",
    "print('AF: '+str(aft[0][0]))\n",
    "print('Noise: '+str(aft[0][1]))\n",
    "print('Normal: '+str(aft[0][2]))\n",
    "print('Others: '+str(aft[0][3]))"
   ]
  }
 ],
 "metadata": {
  "kernelspec": {
   "display_name": "Python 3",
   "language": "python",
   "name": "python3"
  },
  "language_info": {
   "codemirror_mode": {
    "name": "ipython",
    "version": 3
   },
   "file_extension": ".py",
   "mimetype": "text/x-python",
   "name": "python",
   "nbconvert_exporter": "python",
   "pygments_lexer": "ipython3",
   "version": "3.5.2"
  }
 },
 "nbformat": 4,
 "nbformat_minor": 2
}
