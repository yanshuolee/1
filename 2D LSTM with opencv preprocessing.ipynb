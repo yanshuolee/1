{
 "cells": [
  {
   "cell_type": "markdown",
   "metadata": {
    "ExecuteTime": {
     "end_time": "2018-09-30T03:10:20.440844Z",
     "start_time": "2018-09-30T03:10:20.205712Z"
    },
    "heading_collapsed": true
   },
   "source": [
    "### Image preprocessing"
   ]
  },
  {
   "cell_type": "raw",
   "metadata": {
    "ExecuteTime": {
     "end_time": "2018-09-30T03:33:32.102911Z",
     "start_time": "2018-09-30T03:33:01.270022Z"
    },
    "hidden": true
   },
   "source": [
    "import numpy as np\n",
    "from scipy.signal import spectrogram\n",
    "import pylab as plt\n",
    "\n",
    "def to_Spectrogram(i, data):\n",
    "    _ , _ , Sx = spectrogram(data, fs=300, nperseg=300, noverlap=150, scaling='spectrum', detrend=False, window='hanning')\n",
    "    Sx = np.log10(Sx)\n",
    "    tmp = np.transpose(Sx)\n",
    "    plt.imsave('/home/hsiehch/30s/2D_spect_img/%s.png' % i, tmp)\n",
    "\n",
    "trainD = np.load(\"/home/hsiehch/30s/train_data.npy\")\n",
    "validationD = np.load(\"/home/hsiehch/30s/validation_data.npy\")\n",
    "testD = np.load(\"/home/hsiehch/30s/test_data.npy\")\n",
    "\n",
    "trainD = np.append(trainD, validationD, axis=0)\n",
    "trainD = np.append(trainD, testD, axis=0)\n",
    "\n",
    "for i in range(len(trainD)):\n",
    "    to_Spectrogram(i, trainD[i])"
   ]
  },
  {
   "cell_type": "raw",
   "metadata": {
    "ExecuteTime": {
     "end_time": "2018-09-30T06:12:21.797165Z",
     "start_time": "2018-09-30T06:12:17.661985Z"
    },
    "hidden": true
   },
   "source": [
    "import numpy as np\n",
    "import cv2\n",
    "\n",
    "data_length = 10151\n",
    "data = []\n",
    "\n",
    "for i in range(data_length):\n",
    "    img = cv2.imread('/home/hsiehch/30s/2D_spect_img/%s.png' % i)\n",
    "#     gray = cv2.cvtColor(img, cv2.COLOR_BGR2GRAY)\n",
    "#     data.append(gray)\n",
    "    data.append(img)\n",
    "    \n",
    "data = np.array(data)\n",
    "print(data.shape)\n",
    "# np.save('/home/hsiehch/30s/2D_spect_img/data.npy', data)\n",
    "np.save('/home/hsiehch/30s/2D_spect_img/data_RGB.npy', data)"
   ]
  },
  {
   "cell_type": "raw",
   "metadata": {
    "ExecuteTime": {
     "end_time": "2018-09-30T03:52:37.888242Z",
     "start_time": "2018-09-30T03:52:37.770709Z"
    },
    "hidden": true
   },
   "source": [
    "import numpy as np\n",
    "\n",
    "trainL = np.load(\"/home/hsiehch/30s/train_label.npy\")\n",
    "validationL = np.load(\"/home/hsiehch/30s/validation_label.npy\")\n",
    "testL = np.load(\"/home/hsiehch/30s/test_label.npy\")\n",
    "\n",
    "trainL = np.append(trainL, validationL, axis=0)\n",
    "trainL = np.append(trainL, testL, axis=0)\n",
    "print(trainL.shape)\n",
    "\n",
    "np.save('/home/hsiehch/30s/2D_spect_img/labels.npy', trainL)"
   ]
  },
  {
   "cell_type": "code",
   "execution_count": 1,
   "metadata": {
    "ExecuteTime": {
     "end_time": "2018-10-12T08:59:02.377666Z",
     "start_time": "2018-10-12T08:58:58.379560Z"
    },
    "code_folding": [
     4,
     36
    ],
    "hidden": true
   },
   "outputs": [],
   "source": [
    "import numpy as np\n",
    "from scipy.signal import spectrogram\n",
    "import pylab as plt\n",
    "\n",
    "def to_Spectrogram(data):\n",
    "    _ , _ , Sx = spectrogram(data, fs=300, nperseg=300, noverlap=150, scaling='spectrum', detrend=False, window='hanning')\n",
    "    Sx = np.log10(Sx)\n",
    "    tmp = np.transpose(Sx)\n",
    "    return tmp\n",
    "\n",
    "trainD = np.load(\"/home/hsiehch/30s/train_data.npy\")\n",
    "validationD = np.load(\"/home/hsiehch/30s/validation_data.npy\")\n",
    "testD = np.load(\"/home/hsiehch/30s/test_data.npy\")\n",
    "\n",
    "trainL = np.load(\"/home/hsiehch/30s/train_label.npy\")\n",
    "validationL = np.load(\"/home/hsiehch/30s/validation_label.npy\")\n",
    "testL = np.load(\"/home/hsiehch/30s/test_label.npy\")\n",
    "\n",
    "trainD = np.append(trainD, validationD, axis=0)\n",
    "trainD = np.append(trainD, testD, axis=0)\n",
    "\n",
    "trainL = np.append(trainL, validationL, axis=0)\n",
    "trainL = np.append(trainL, testL, axis=0)\n",
    "\n",
    "data = []\n",
    "labels = []\n",
    "\n",
    "for i in range(len(trainD)):\n",
    "#     record = to_Spectrogram(trainD[i])\n",
    "#     data.append(record)\n",
    "    data.append(trainD[i])\n",
    "    labels.append(trainL[i])\n",
    "\n",
    "data = np.array(data)\n",
    "labels = np.array(labels)\n",
    "\n",
    "def foo(data, labels):\n",
    "    \n",
    "    type0 = []\n",
    "    type1 = []\n",
    "    type2 = []\n",
    "    type3 = []\n",
    "    \n",
    "    L0 = []\n",
    "    L1 = []\n",
    "    L2 = []\n",
    "    L3 = []\n",
    "    \n",
    "    for i in range(len(labels)):\n",
    "        if labels[i] == 0:\n",
    "            type0.append(data[i])\n",
    "            L0.append(labels[i])\n",
    "        if labels[i] == 1:\n",
    "            type1.append(data[i])\n",
    "            L1.append(labels[i])\n",
    "        if labels[i] == 2:\n",
    "            type2.append(data[i])\n",
    "            L2.append(labels[i])\n",
    "        if labels[i] == 3:\n",
    "            type3.append(data[i])\n",
    "            L3.append(labels[i])\n",
    "        \n",
    "    type0 = np.array(type0)\n",
    "    type1 = np.array(type1)\n",
    "    type2 = np.array(type2)\n",
    "    type3 = np.array(type3)\n",
    "    \n",
    "    L0 = np.array(L0)\n",
    "    L1 = np.array(L1)\n",
    "    L2 = np.array(L2)\n",
    "    L3 = np.array(L3)\n",
    "    \n",
    "    type0 = np.append(type0, type1, axis=0)\n",
    "    type0 = np.append(type0, type2, axis=0)\n",
    "    type0 = np.append(type0, type3, axis=0)\n",
    "    \n",
    "    L0 = np.append(L0, L1, axis=0)\n",
    "    L0 = np.append(L0, L2, axis=0)\n",
    "    L0 = np.append(L0, L3, axis=0)\n",
    "    \n",
    "    return type0, L0\n",
    "\n",
    "data, labels = foo(data, labels)"
   ]
  },
  {
   "cell_type": "code",
   "execution_count": 2,
   "metadata": {
    "ExecuteTime": {
     "end_time": "2018-10-12T09:30:40.359828Z",
     "start_time": "2018-10-12T08:59:05.873807Z"
    },
    "hidden": true,
    "scrolled": true
   },
   "outputs": [
    {
     "name": "stderr",
     "output_type": "stream",
     "text": [
      "/usr/local/lib/python3.5/dist-packages/h5py/__init__.py:36: FutureWarning: Conversion of the second argument of issubdtype from `float` to `np.floating` is deprecated. In future, it will be treated as `np.float64 == np.dtype(float).type`.\n",
      "  from ._conv import register_converters as _register_converters\n",
      "Using TensorFlow backend.\n"
     ]
    },
    {
     "name": "stdout",
     "output_type": "stream",
     "text": [
      "Train Data: (10151, 9000, 1)\n",
      "Train Label:  (10151, 4)\n",
      "1-Fold\n",
      "8120/8120 [==============================] - 3s 335us/step\n",
      "Training:\n",
      "Loss: 0.228, Accuracy: 0.917\n",
      "2031/2031 [==============================] - 1s 342us/step\n",
      "Testing:\n",
      "Loss: 0.548, Accuracy: 0.841\n",
      "F1-score:\n",
      "[0.7615894  0.688      0.90178926 0.74464286]\n",
      "2-Fold\n",
      "8121/8121 [==============================] - 3s 339us/step\n",
      "Training:\n",
      "Loss: 0.303, Accuracy: 0.891\n",
      "2030/2030 [==============================] - 1s 347us/step\n",
      "Testing:\n",
      "Loss: 0.437, Accuracy: 0.840\n",
      "F1-score:\n",
      "[0.82228117 0.68253968 0.89932352 0.72413793]\n",
      "3-Fold\n",
      "8121/8121 [==============================] - 3s 334us/step\n",
      "Training:\n",
      "Loss: 0.328, Accuracy: 0.877\n",
      "2030/2030 [==============================] - 1s 336us/step\n",
      "Testing:\n",
      "Loss: 0.527, Accuracy: 0.831\n",
      "F1-score:\n",
      "[0.75496689 0.45977011 0.89379845 0.73143905]\n",
      "4-Fold\n",
      "8121/8121 [==============================] - 3s 335us/step\n",
      "Training:\n",
      "Loss: 0.290, Accuracy: 0.894\n",
      "2030/2030 [==============================] - 1s 334us/step\n",
      "Testing:\n",
      "Loss: 0.511, Accuracy: 0.819\n",
      "F1-score:\n",
      "[0.72413793 0.49090909 0.89030612 0.7392    ]\n",
      "5-Fold\n",
      "8121/8121 [==============================] - 3s 337us/step\n",
      "Training:\n",
      "Loss: 0.213, Accuracy: 0.924\n",
      "2030/2030 [==============================] - 1s 335us/step\n",
      "Testing:\n",
      "Loss: 0.467, Accuracy: 0.848\n",
      "F1-score:\n",
      "[0.73939394 0.57425743 0.91290824 0.75118259]\n"
     ]
    }
   ],
   "source": [
    "import numpy as np\n",
    "from keras.models import Sequential\n",
    "from keras.layers import Dense, Flatten, Conv1D, MaxPooling1D, AveragePooling1D, Dropout\n",
    "from keras.layers import Activation, BatchNormalization\n",
    "from keras.optimizers import Adam\n",
    "from keras.utils import np_utils\n",
    "import tensorflow as tf\n",
    "from keras.callbacks import TensorBoard, EarlyStopping\n",
    "from sklearn.metrics import confusion_matrix\n",
    "from sklearn.metrics import f1_score\n",
    "np.set_printoptions(suppress=True)\n",
    "\n",
    "trainData = data.reshape((data.shape[0], data.shape[1], 1))\n",
    "trainLabel = np_utils.to_categorical(labels, 4)\n",
    "print('Train Data:', trainData.shape)\n",
    "print('Train Label: ', trainLabel.shape)\n",
    "\n",
    "#--------------------------------------------\n",
    "\n",
    "from sklearn.model_selection import KFold\n",
    "\n",
    "kf = KFold(n_splits=5, shuffle=True)\n",
    "\n",
    "#--------------------------------------------\n",
    "\n",
    "from sklearn.metrics import f1_score\n",
    "\n",
    "def create_model():\n",
    "    model = Sequential()\n",
    "    model.add(Conv1D(filters = 32, kernel_size = 7, input_shape = (trainData.shape[1], 1)))\n",
    "    model.add(Activation('relu'))\n",
    "    model.add(BatchNormalization())\n",
    "    model.add(MaxPooling1D(pool_size = 2))\n",
    "\n",
    "    model.add(Conv1D(filters = 32, kernel_size = 7))\n",
    "    model.add(Activation('relu'))\n",
    "    model.add(MaxPooling1D(pool_size = 2))\n",
    "\n",
    "    model.add(Conv1D(filters = 64, kernel_size = 7))\n",
    "    model.add(Activation('relu'))\n",
    "    model.add(MaxPooling1D(pool_size = 2))\n",
    "\n",
    "    model.add(Conv1D(filters = 64, kernel_size = 3))\n",
    "    model.add(Activation('relu'))\n",
    "    model.add(MaxPooling1D(pool_size = 2))\n",
    "\n",
    "    model.add(Conv1D(filters = 128, kernel_size = 3))\n",
    "    model.add(Activation('relu'))\n",
    "    model.add(MaxPooling1D(pool_size = 2))\n",
    "\n",
    "    model.add(Conv1D(filters = 128, kernel_size = 3))\n",
    "    model.add(Activation('relu'))\n",
    "    model.add(MaxPooling1D(pool_size = 2))\n",
    "    model.add(Dropout(0.5))\n",
    "\n",
    "    model.add(Conv1D(filters = 256, kernel_size = 3))\n",
    "    model.add(Activation('relu'))\n",
    "    model.add(MaxPooling1D(pool_size = 2))\n",
    "\n",
    "    model.add(Conv1D(filters = 256, kernel_size = 3))\n",
    "    model.add(Activation('relu'))\n",
    "    model.add(MaxPooling1D(pool_size = 2))\n",
    "    model.add(Dropout(0.5))\n",
    "\n",
    "    model.add(Conv1D(filters = 512, kernel_size = 3))\n",
    "    model.add(Activation('relu'))\n",
    "    model.add(MaxPooling1D(pool_size = 2))\n",
    "    model.add(Dropout(0.5))\n",
    "\n",
    "    model.add(Conv1D(filters = 512, kernel_size = 3))\n",
    "    model.add(Activation('relu'))\n",
    "\n",
    "    model.add(Flatten())\n",
    "    model.add(Dense(128, activation = 'relu'))\n",
    "    model.add(Dropout(0.5))\n",
    "    model.add(Dense(32, activation = 'relu'))\n",
    "    model.add(Dense(4, activation = \"softmax\"))\n",
    "    \n",
    "    model.compile(optimizer = 'adam', loss = \"categorical_crossentropy\", metrics=['accuracy'])\n",
    "\n",
    "    return model\n",
    "\n",
    "fold = 1\n",
    "\n",
    "for train_index, test_index in kf.split(trainData):\n",
    "    \n",
    "    print('{}-Fold'.format(fold))\n",
    "    model = create_model()\n",
    "    early_stop = EarlyStopping(patience=20)\n",
    "    history = model.fit(x = trainData[train_index],\n",
    "                        y = trainLabel[train_index],\n",
    "                        epochs=100,\n",
    "                        validation_data=(trainData[test_index], trainLabel[test_index]),\n",
    "                        callbacks=[early_stop],\n",
    "                        batch_size=70, \n",
    "                        verbose=0)\n",
    "    \n",
    "    evaluation = model.evaluate(x = trainData[train_index], y = trainLabel[train_index])\n",
    "    print('Training:')\n",
    "    print('Loss: {:.3f}, Accuracy: {:.3f}'.format(evaluation[0], evaluation[1]))\n",
    "#     test_prediction = model.predict_classes(trainData[train_index], batch_size=1)\n",
    "#     cnf_matrix = confusion_matrix(trainLabel[train_index].argmax(axis=1), test_prediction)\n",
    "#     plot_confusion_matrix(cnf_matrix, classes=['AF','Noise','Normal','Other'],\n",
    "#                       title='Confusion matrix')\n",
    "    \n",
    "    evaluation = model.evaluate(x = trainData[test_index], y = trainLabel[test_index])\n",
    "    print('Testing:')\n",
    "    print('Loss: {:.3f}, Accuracy: {:.3f}'.format(evaluation[0], evaluation[1]))\n",
    "#     test_prediction = model.predict_classes(trainData[test_index], batch_size=1)\n",
    "#     cnf_matrix = confusion_matrix(trainLabel[test_index].argmax(axis=1), test_prediction)\n",
    "#     plot_confusion_matrix(cnf_matrix, classes=['AF','Noise','Normal','Other'],\n",
    "#                       title='Confusion matrix')\n",
    "    \n",
    "    validation_prediction = model.predict_classes(trainData[test_index], batch_size=100)\n",
    "    validation_prediction = np_utils.to_categorical(validation_prediction, 4)\n",
    "    result = f1_score(trainLabel[test_index], validation_prediction, average=None)\n",
    "    print('F1-score:')\n",
    "    print(result)\n",
    "    \n",
    "    fold = fold + 1\n",
    "    del model\n",
    "    "
   ]
  },
  {
   "cell_type": "markdown",
   "metadata": {
    "heading_collapsed": true
   },
   "source": [
    "### 2D LSTM"
   ]
  },
  {
   "cell_type": "code",
   "execution_count": 1,
   "metadata": {
    "ExecuteTime": {
     "end_time": "2018-09-30T06:26:07.082008Z",
     "start_time": "2018-09-30T06:26:04.975876Z"
    },
    "hidden": true
   },
   "outputs": [
    {
     "name": "stderr",
     "output_type": "stream",
     "text": [
      "/usr/local/lib/python3.5/dist-packages/h5py/__init__.py:36: FutureWarning: Conversion of the second argument of issubdtype from `float` to `np.floating` is deprecated. In future, it will be treated as `np.float64 == np.dtype(float).type`.\n",
      "  from ._conv import register_converters as _register_converters\n",
      "Using TensorFlow backend.\n"
     ]
    },
    {
     "name": "stdout",
     "output_type": "stream",
     "text": [
      "(10151, 59, 151)\n",
      "(10151, 4)\n"
     ]
    }
   ],
   "source": [
    "import numpy as np\n",
    "import pandas as pd\n",
    "from keras.layers import Dense, Flatten, Dropout, MaxPooling2D\n",
    "from keras.layers import BatchNormalization, Activation, LSTM\n",
    "from keras.utils import np_utils\n",
    "import tensorflow as tf\n",
    "np.set_printoptions(suppress=True)\n",
    "\n",
    "data = np.load(\"/home/hsiehch/30s/2D_spect_img/data.npy\")\n",
    "labels = np.load('/home/hsiehch/30s/2D_spect_img/labels.npy')\n",
    "\n",
    "data = data / 255\n",
    "labels = np_utils.to_categorical(labels, 4)\n",
    "\n",
    "print(data.shape)\n",
    "print(labels.shape)"
   ]
  },
  {
   "cell_type": "code",
   "execution_count": 2,
   "metadata": {
    "ExecuteTime": {
     "end_time": "2018-09-30T06:26:09.737914Z",
     "start_time": "2018-09-30T06:26:09.085991Z"
    },
    "hidden": true
   },
   "outputs": [],
   "source": [
    "from sklearn.model_selection import train_test_split\n",
    "X_train, X_test, y_train, y_test = train_test_split(data, labels)"
   ]
  },
  {
   "cell_type": "code",
   "execution_count": 3,
   "metadata": {
    "ExecuteTime": {
     "end_time": "2018-09-30T06:26:15.264535Z",
     "start_time": "2018-09-30T06:26:11.843841Z"
    },
    "hidden": true,
    "scrolled": true
   },
   "outputs": [
    {
     "name": "stdout",
     "output_type": "stream",
     "text": [
      "_________________________________________________________________\n",
      "Layer (type)                 Output Shape              Param #   \n",
      "=================================================================\n",
      "lstm_1 (LSTM)                (None, 1024)              4816896   \n",
      "_________________________________________________________________\n",
      "dense_1 (Dense)              (None, 512)               524800    \n",
      "_________________________________________________________________\n",
      "dense_2 (Dense)              (None, 256)               131328    \n",
      "_________________________________________________________________\n",
      "dense_3 (Dense)              (None, 4)                 1028      \n",
      "=================================================================\n",
      "Total params: 5,474,052\n",
      "Trainable params: 5,474,052\n",
      "Non-trainable params: 0\n",
      "_________________________________________________________________\n",
      "None\n"
     ]
    }
   ],
   "source": [
    "from keras.models import Sequential\n",
    "from keras.optimizers import Adam\n",
    "\n",
    "model = Sequential()\n",
    "model.add(LSTM(1024, input_shape = (data.shape[1], data.shape[2])))\n",
    "model.add(Dense(512, activation='relu'))\n",
    "model.add(Dense(256, activation='relu'))\n",
    "model.add(Dense(4, activation=\"softmax\"))\n",
    "\n",
    "print(model.summary())"
   ]
  },
  {
   "cell_type": "code",
   "execution_count": 4,
   "metadata": {
    "ExecuteTime": {
     "end_time": "2018-09-30T06:10:07.578486Z",
     "start_time": "2018-09-30T06:05:33.903095Z"
    },
    "hidden": true,
    "scrolled": true
   },
   "outputs": [
    {
     "name": "stdout",
     "output_type": "stream",
     "text": [
      "Train on 7613 samples, validate on 2538 samples\n",
      "Epoch 1/100\n",
      "7613/7613 [==============================] - 17s 2ms/step - loss: 1.0103 - acc: 0.5780 - val_loss: 1.0019 - val_acc: 0.5827\n",
      "Epoch 2/100\n",
      "7613/7613 [==============================] - 13s 2ms/step - loss: 0.9965 - acc: 0.5885 - val_loss: 0.9916 - val_acc: 0.5827\n",
      "Epoch 3/100\n",
      "7613/7613 [==============================] - 13s 2ms/step - loss: 0.9912 - acc: 0.5885 - val_loss: 0.9983 - val_acc: 0.5827\n",
      "Epoch 4/100\n",
      "7613/7613 [==============================] - 12s 2ms/step - loss: 0.9924 - acc: 0.5885 - val_loss: 0.9900 - val_acc: 0.5827\n",
      "Epoch 5/100\n",
      "7613/7613 [==============================] - 12s 2ms/step - loss: 0.9868 - acc: 0.5885 - val_loss: 0.9895 - val_acc: 0.5827\n",
      "Epoch 6/100\n",
      "7613/7613 [==============================] - 12s 2ms/step - loss: 0.9925 - acc: 0.5885 - val_loss: 1.0132 - val_acc: 0.5827\n",
      "Epoch 7/100\n",
      "7613/7613 [==============================] - 12s 2ms/step - loss: 0.9893 - acc: 0.5885 - val_loss: 0.9831 - val_acc: 0.5827\n",
      "Epoch 8/100\n",
      "7613/7613 [==============================] - 12s 2ms/step - loss: 0.9769 - acc: 0.5885 - val_loss: 0.9840 - val_acc: 0.5827\n",
      "Epoch 9/100\n",
      "7613/7613 [==============================] - 11s 2ms/step - loss: 0.9839 - acc: 0.5885 - val_loss: 0.9815 - val_acc: 0.5827\n",
      "Epoch 10/100\n",
      "7613/7613 [==============================] - 12s 2ms/step - loss: 0.9779 - acc: 0.5885 - val_loss: 0.9769 - val_acc: 0.5827\n",
      "Epoch 11/100\n",
      "7613/7613 [==============================] - 12s 2ms/step - loss: 0.9807 - acc: 0.5885 - val_loss: 0.9723 - val_acc: 0.5835\n",
      "Epoch 12/100\n",
      "7613/7613 [==============================] - 12s 2ms/step - loss: 0.9785 - acc: 0.5885 - val_loss: 0.9749 - val_acc: 0.5827\n",
      "Epoch 13/100\n",
      "7613/7613 [==============================] - 12s 2ms/step - loss: 0.9780 - acc: 0.5885 - val_loss: 0.9757 - val_acc: 0.5827\n",
      "Epoch 14/100\n",
      "7613/7613 [==============================] - 12s 2ms/step - loss: 0.9762 - acc: 0.5885 - val_loss: 0.9752 - val_acc: 0.5827\n",
      "Epoch 15/100\n",
      "7613/7613 [==============================] - 12s 2ms/step - loss: 0.9700 - acc: 0.5885 - val_loss: 0.9689 - val_acc: 0.5827\n",
      "Epoch 16/100\n",
      "7613/7613 [==============================] - 12s 2ms/step - loss: 0.9658 - acc: 0.5885 - val_loss: 0.9673 - val_acc: 0.5831\n",
      "Epoch 17/100\n",
      "7613/7613 [==============================] - 12s 2ms/step - loss: 0.9669 - acc: 0.5886 - val_loss: 0.9734 - val_acc: 0.5827\n",
      "Epoch 18/100\n",
      "7613/7613 [==============================] - 12s 2ms/step - loss: 0.9696 - acc: 0.5887 - val_loss: 0.9736 - val_acc: 0.5827\n",
      "Epoch 19/100\n",
      "7613/7613 [==============================] - 12s 2ms/step - loss: 0.9688 - acc: 0.5885 - val_loss: 1.0121 - val_acc: 0.5827\n",
      "Epoch 20/100\n",
      "7613/7613 [==============================] - 11s 2ms/step - loss: 0.9748 - acc: 0.5885 - val_loss: 0.9689 - val_acc: 0.5827\n",
      "Epoch 21/100\n",
      "7613/7613 [==============================] - 12s 2ms/step - loss: 0.9672 - acc: 0.5885 - val_loss: 0.9709 - val_acc: 0.5839\n",
      "Epoch 22/100\n",
      "7613/7613 [==============================] - 12s 2ms/step - loss: 0.9686 - acc: 0.5886 - val_loss: 0.9752 - val_acc: 0.5827\n",
      "Epoch 23/100\n",
      "3600/7613 [=============>................] - ETA: 5s - loss: 0.9740 - acc: 0.5806"
     ]
    },
    {
     "ename": "KeyboardInterrupt",
     "evalue": "",
     "output_type": "error",
     "traceback": [
      "\u001b[0;31m---------------------------------------------------------------------------\u001b[0m",
      "\u001b[0;31mKeyboardInterrupt\u001b[0m                         Traceback (most recent call last)",
      "\u001b[0;32m<ipython-input-4-68defb685e9e>\u001b[0m in \u001b[0;36m<module>\u001b[0;34m()\u001b[0m\n\u001b[1;32m      7\u001b[0m                           \u001b[0mvalidation_data\u001b[0m\u001b[0;34m=\u001b[0m\u001b[0;34m(\u001b[0m\u001b[0mX_test\u001b[0m\u001b[0;34m,\u001b[0m \u001b[0my_test\u001b[0m\u001b[0;34m)\u001b[0m\u001b[0;34m,\u001b[0m\u001b[0;34m\u001b[0m\u001b[0m\n\u001b[1;32m      8\u001b[0m                           \u001b[0mbatch_size\u001b[0m\u001b[0;34m=\u001b[0m\u001b[0mbatch_s\u001b[0m\u001b[0;34m,\u001b[0m\u001b[0;34m\u001b[0m\u001b[0m\n\u001b[0;32m----> 9\u001b[0;31m                           verbose=1)\n\u001b[0m\u001b[1;32m     10\u001b[0m \u001b[0;34m\u001b[0m\u001b[0m\n\u001b[1;32m     11\u001b[0m \u001b[0mprint\u001b[0m\u001b[0;34m(\u001b[0m\u001b[0;34m'Finish training!'\u001b[0m\u001b[0;34m)\u001b[0m\u001b[0;34m\u001b[0m\u001b[0m\n",
      "\u001b[0;32m/usr/local/lib/python3.5/dist-packages/keras/engine/training.py\u001b[0m in \u001b[0;36mfit\u001b[0;34m(self, x, y, batch_size, epochs, verbose, callbacks, validation_split, validation_data, shuffle, class_weight, sample_weight, initial_epoch, steps_per_epoch, validation_steps, **kwargs)\u001b[0m\n\u001b[1;32m   1035\u001b[0m                                         \u001b[0minitial_epoch\u001b[0m\u001b[0;34m=\u001b[0m\u001b[0minitial_epoch\u001b[0m\u001b[0;34m,\u001b[0m\u001b[0;34m\u001b[0m\u001b[0m\n\u001b[1;32m   1036\u001b[0m                                         \u001b[0msteps_per_epoch\u001b[0m\u001b[0;34m=\u001b[0m\u001b[0msteps_per_epoch\u001b[0m\u001b[0;34m,\u001b[0m\u001b[0;34m\u001b[0m\u001b[0m\n\u001b[0;32m-> 1037\u001b[0;31m                                         validation_steps=validation_steps)\n\u001b[0m\u001b[1;32m   1038\u001b[0m \u001b[0;34m\u001b[0m\u001b[0m\n\u001b[1;32m   1039\u001b[0m     def evaluate(self, x=None, y=None,\n",
      "\u001b[0;32m/usr/local/lib/python3.5/dist-packages/keras/engine/training_arrays.py\u001b[0m in \u001b[0;36mfit_loop\u001b[0;34m(model, f, ins, out_labels, batch_size, epochs, verbose, callbacks, val_f, val_ins, shuffle, callback_metrics, initial_epoch, steps_per_epoch, validation_steps)\u001b[0m\n\u001b[1;32m    197\u001b[0m                     \u001b[0mins_batch\u001b[0m\u001b[0;34m[\u001b[0m\u001b[0mi\u001b[0m\u001b[0;34m]\u001b[0m \u001b[0;34m=\u001b[0m \u001b[0mins_batch\u001b[0m\u001b[0;34m[\u001b[0m\u001b[0mi\u001b[0m\u001b[0;34m]\u001b[0m\u001b[0;34m.\u001b[0m\u001b[0mtoarray\u001b[0m\u001b[0;34m(\u001b[0m\u001b[0;34m)\u001b[0m\u001b[0;34m\u001b[0m\u001b[0m\n\u001b[1;32m    198\u001b[0m \u001b[0;34m\u001b[0m\u001b[0m\n\u001b[0;32m--> 199\u001b[0;31m                 \u001b[0mouts\u001b[0m \u001b[0;34m=\u001b[0m \u001b[0mf\u001b[0m\u001b[0;34m(\u001b[0m\u001b[0mins_batch\u001b[0m\u001b[0;34m)\u001b[0m\u001b[0;34m\u001b[0m\u001b[0m\n\u001b[0m\u001b[1;32m    200\u001b[0m                 \u001b[0mouts\u001b[0m \u001b[0;34m=\u001b[0m \u001b[0mto_list\u001b[0m\u001b[0;34m(\u001b[0m\u001b[0mouts\u001b[0m\u001b[0;34m)\u001b[0m\u001b[0;34m\u001b[0m\u001b[0m\n\u001b[1;32m    201\u001b[0m                 \u001b[0;32mfor\u001b[0m \u001b[0ml\u001b[0m\u001b[0;34m,\u001b[0m \u001b[0mo\u001b[0m \u001b[0;32min\u001b[0m \u001b[0mzip\u001b[0m\u001b[0;34m(\u001b[0m\u001b[0mout_labels\u001b[0m\u001b[0;34m,\u001b[0m \u001b[0mouts\u001b[0m\u001b[0;34m)\u001b[0m\u001b[0;34m:\u001b[0m\u001b[0;34m\u001b[0m\u001b[0m\n",
      "\u001b[0;32m/usr/local/lib/python3.5/dist-packages/keras/backend/tensorflow_backend.py\u001b[0m in \u001b[0;36m__call__\u001b[0;34m(self, inputs)\u001b[0m\n\u001b[1;32m   2664\u001b[0m                 \u001b[0;32mreturn\u001b[0m \u001b[0mself\u001b[0m\u001b[0;34m.\u001b[0m\u001b[0m_legacy_call\u001b[0m\u001b[0;34m(\u001b[0m\u001b[0minputs\u001b[0m\u001b[0;34m)\u001b[0m\u001b[0;34m\u001b[0m\u001b[0m\n\u001b[1;32m   2665\u001b[0m \u001b[0;34m\u001b[0m\u001b[0m\n\u001b[0;32m-> 2666\u001b[0;31m             \u001b[0;32mreturn\u001b[0m \u001b[0mself\u001b[0m\u001b[0;34m.\u001b[0m\u001b[0m_call\u001b[0m\u001b[0;34m(\u001b[0m\u001b[0minputs\u001b[0m\u001b[0;34m)\u001b[0m\u001b[0;34m\u001b[0m\u001b[0m\n\u001b[0m\u001b[1;32m   2667\u001b[0m         \u001b[0;32melse\u001b[0m\u001b[0;34m:\u001b[0m\u001b[0;34m\u001b[0m\u001b[0m\n\u001b[1;32m   2668\u001b[0m             \u001b[0;32mif\u001b[0m \u001b[0mpy_any\u001b[0m\u001b[0;34m(\u001b[0m\u001b[0mis_tensor\u001b[0m\u001b[0;34m(\u001b[0m\u001b[0mx\u001b[0m\u001b[0;34m)\u001b[0m \u001b[0;32mfor\u001b[0m \u001b[0mx\u001b[0m \u001b[0;32min\u001b[0m \u001b[0minputs\u001b[0m\u001b[0;34m)\u001b[0m\u001b[0;34m:\u001b[0m\u001b[0;34m\u001b[0m\u001b[0m\n",
      "\u001b[0;32m/usr/local/lib/python3.5/dist-packages/keras/backend/tensorflow_backend.py\u001b[0m in \u001b[0;36m_call\u001b[0;34m(self, inputs)\u001b[0m\n\u001b[1;32m   2634\u001b[0m                                 \u001b[0msymbol_vals\u001b[0m\u001b[0;34m,\u001b[0m\u001b[0;34m\u001b[0m\u001b[0m\n\u001b[1;32m   2635\u001b[0m                                 session)\n\u001b[0;32m-> 2636\u001b[0;31m         \u001b[0mfetched\u001b[0m \u001b[0;34m=\u001b[0m \u001b[0mself\u001b[0m\u001b[0;34m.\u001b[0m\u001b[0m_callable_fn\u001b[0m\u001b[0;34m(\u001b[0m\u001b[0;34m*\u001b[0m\u001b[0marray_vals\u001b[0m\u001b[0;34m)\u001b[0m\u001b[0;34m\u001b[0m\u001b[0m\n\u001b[0m\u001b[1;32m   2637\u001b[0m         \u001b[0;32mreturn\u001b[0m \u001b[0mfetched\u001b[0m\u001b[0;34m[\u001b[0m\u001b[0;34m:\u001b[0m\u001b[0mlen\u001b[0m\u001b[0;34m(\u001b[0m\u001b[0mself\u001b[0m\u001b[0;34m.\u001b[0m\u001b[0moutputs\u001b[0m\u001b[0;34m)\u001b[0m\u001b[0;34m]\u001b[0m\u001b[0;34m\u001b[0m\u001b[0m\n\u001b[1;32m   2638\u001b[0m \u001b[0;34m\u001b[0m\u001b[0m\n",
      "\u001b[0;32m/usr/local/lib/python3.5/dist-packages/tensorflow/python/client/session.py\u001b[0m in \u001b[0;36m__call__\u001b[0;34m(self, *args, **kwargs)\u001b[0m\n\u001b[1;32m   1397\u001b[0m           ret = tf_session.TF_SessionRunCallable(\n\u001b[1;32m   1398\u001b[0m               \u001b[0mself\u001b[0m\u001b[0;34m.\u001b[0m\u001b[0m_session\u001b[0m\u001b[0;34m.\u001b[0m\u001b[0m_session\u001b[0m\u001b[0;34m,\u001b[0m \u001b[0mself\u001b[0m\u001b[0;34m.\u001b[0m\u001b[0m_handle\u001b[0m\u001b[0;34m,\u001b[0m \u001b[0margs\u001b[0m\u001b[0;34m,\u001b[0m \u001b[0mstatus\u001b[0m\u001b[0;34m,\u001b[0m\u001b[0;34m\u001b[0m\u001b[0m\n\u001b[0;32m-> 1399\u001b[0;31m               run_metadata_ptr)\n\u001b[0m\u001b[1;32m   1400\u001b[0m         \u001b[0;32mif\u001b[0m \u001b[0mrun_metadata\u001b[0m\u001b[0;34m:\u001b[0m\u001b[0;34m\u001b[0m\u001b[0m\n\u001b[1;32m   1401\u001b[0m           \u001b[0mproto_data\u001b[0m \u001b[0;34m=\u001b[0m \u001b[0mtf_session\u001b[0m\u001b[0;34m.\u001b[0m\u001b[0mTF_GetBuffer\u001b[0m\u001b[0;34m(\u001b[0m\u001b[0mrun_metadata_ptr\u001b[0m\u001b[0;34m)\u001b[0m\u001b[0;34m\u001b[0m\u001b[0m\n",
      "\u001b[0;31mKeyboardInterrupt\u001b[0m: "
     ]
    }
   ],
   "source": [
    "adam = Adam(lr=0.0005)\n",
    "model.compile(optimizer = adam, loss = \"categorical_crossentropy\", metrics=['accuracy'])\n",
    "batch_s = 100\n",
    "train_history = model.fit(x = X_train, \n",
    "                          y = y_train,\n",
    "                          epochs=100,\n",
    "                          validation_data=(X_test, y_test),\n",
    "                          batch_size=batch_s, \n",
    "                          verbose=1)\n",
    "\n",
    "print('Finish training!')\n",
    "\n",
    "import pylab as plt\n",
    "def history_display(hist, train, validation):\n",
    "    plt.plot(hist.history[train])\n",
    "    plt.plot(hist.history[validation])\n",
    "    plt.title('Train History')\n",
    "    plt.ylabel(train)\n",
    "    plt.xlabel('Epoch')\n",
    "    plt.legend(['train', 'validation'], loc='upper left')\n",
    "    plt.show\n",
    "    \n",
    "def show_plot(flag, hist):\n",
    "    if flag == 'acc':\n",
    "        history_display(hist, 'acc', 'val_acc')\n",
    "    elif flag == 'loss':\n",
    "        history_display(hist, 'loss', 'val_loss')\n",
    "    else:\n",
    "        print('Invalid!')"
   ]
  },
  {
   "cell_type": "markdown",
   "metadata": {
    "heading_collapsed": true
   },
   "source": [
    "### 2D RGB Spectrogram"
   ]
  },
  {
   "cell_type": "code",
   "execution_count": 1,
   "metadata": {
    "ExecuteTime": {
     "end_time": "2018-10-10T02:37:48.257790Z",
     "start_time": "2018-10-10T02:37:44.041594Z"
    },
    "hidden": true,
    "scrolled": true
   },
   "outputs": [
    {
     "name": "stderr",
     "output_type": "stream",
     "text": [
      "/usr/local/lib/python3.5/dist-packages/h5py/__init__.py:36: FutureWarning: Conversion of the second argument of issubdtype from `float` to `np.floating` is deprecated. In future, it will be treated as `np.float64 == np.dtype(float).type`.\n",
      "  from ._conv import register_converters as _register_converters\n",
      "Using TensorFlow backend.\n"
     ]
    },
    {
     "name": "stdout",
     "output_type": "stream",
     "text": [
      "(10151, 59, 151, 3)\n",
      "(10151, 4)\n"
     ]
    }
   ],
   "source": [
    "import numpy as np\n",
    "import pandas as pd\n",
    "from keras.layers import Dense, Flatten, Conv2D, Dropout, MaxPooling2D\n",
    "from keras.models import Model\n",
    "from keras.optimizers import Adam\n",
    "from keras.layers import BatchNormalization, Activation, Input\n",
    "from keras.utils import np_utils\n",
    "import tensorflow as tf\n",
    "np.set_printoptions(suppress=True)\n",
    "\n",
    "data = np.load(\"/home/hsiehch/30s/2D_spect_img/data_RGB.npy\")\n",
    "labels = np.load('/home/hsiehch/30s/2D_spect_img/labels.npy')\n",
    "\n",
    "data = data / 255\n",
    "labels = np_utils.to_categorical(labels, 4)\n",
    "\n",
    "print(data.shape)\n",
    "print(labels.shape)\n",
    "\n",
    "from sklearn.model_selection import train_test_split\n",
    "X_train, X_test, y_train, y_test = train_test_split(data, labels)"
   ]
  },
  {
   "cell_type": "code",
   "execution_count": 1,
   "metadata": {
    "ExecuteTime": {
     "end_time": "2018-10-07T09:09:06.048736Z",
     "start_time": "2018-10-07T09:09:04.565304Z"
    },
    "hidden": true,
    "scrolled": false
   },
   "outputs": [
    {
     "name": "stderr",
     "output_type": "stream",
     "text": [
      "/usr/local/lib/python3.5/dist-packages/h5py/__init__.py:36: FutureWarning: Conversion of the second argument of issubdtype from `float` to `np.floating` is deprecated. In future, it will be treated as `np.float64 == np.dtype(float).type`.\n",
      "  from ._conv import register_converters as _register_converters\n",
      "Using TensorFlow backend.\n"
     ]
    },
    {
     "ename": "NameError",
     "evalue": "name 'Conv2D' is not defined",
     "output_type": "error",
     "traceback": [
      "\u001b[0;31m---------------------------------------------------------------------------\u001b[0m",
      "\u001b[0;31mNameError\u001b[0m                                 Traceback (most recent call last)",
      "\u001b[0;32m<ipython-input-1-0ba329145fc3>\u001b[0m in \u001b[0;36m<module>\u001b[0;34m()\u001b[0m\n\u001b[1;32m      2\u001b[0m \u001b[0;34m\u001b[0m\u001b[0m\n\u001b[1;32m      3\u001b[0m \u001b[0mmodel\u001b[0m \u001b[0;34m=\u001b[0m \u001b[0mSequential\u001b[0m\u001b[0;34m(\u001b[0m\u001b[0;34m)\u001b[0m\u001b[0;34m\u001b[0m\u001b[0m\n\u001b[0;32m----> 4\u001b[0;31m \u001b[0mmodel\u001b[0m\u001b[0;34m.\u001b[0m\u001b[0madd\u001b[0m\u001b[0;34m(\u001b[0m\u001b[0mConv2D\u001b[0m\u001b[0;34m(\u001b[0m\u001b[0mfilters\u001b[0m \u001b[0;34m=\u001b[0m \u001b[0;36m64\u001b[0m\u001b[0;34m,\u001b[0m \u001b[0mkernel_size\u001b[0m \u001b[0;34m=\u001b[0m \u001b[0;36m3\u001b[0m\u001b[0;34m,\u001b[0m \u001b[0mpadding\u001b[0m\u001b[0;34m=\u001b[0m\u001b[0;34m'same'\u001b[0m\u001b[0;34m,\u001b[0m \u001b[0mdata_format\u001b[0m\u001b[0;34m=\u001b[0m\u001b[0;34m\"channels_last\"\u001b[0m\u001b[0;34m,\u001b[0m \u001b[0minput_shape\u001b[0m \u001b[0;34m=\u001b[0m \u001b[0;34m(\u001b[0m\u001b[0mdata\u001b[0m\u001b[0;34m.\u001b[0m\u001b[0mshape\u001b[0m\u001b[0;34m[\u001b[0m\u001b[0;36m1\u001b[0m\u001b[0;34m]\u001b[0m\u001b[0;34m,\u001b[0m \u001b[0mdata\u001b[0m\u001b[0;34m.\u001b[0m\u001b[0mshape\u001b[0m\u001b[0;34m[\u001b[0m\u001b[0;36m2\u001b[0m\u001b[0;34m]\u001b[0m\u001b[0;34m,\u001b[0m \u001b[0;36m3\u001b[0m\u001b[0;34m)\u001b[0m\u001b[0;34m)\u001b[0m\u001b[0;34m)\u001b[0m\u001b[0;34m\u001b[0m\u001b[0m\n\u001b[0m\u001b[1;32m      5\u001b[0m \u001b[0mmodel\u001b[0m\u001b[0;34m.\u001b[0m\u001b[0madd\u001b[0m\u001b[0;34m(\u001b[0m\u001b[0mBatchNormalization\u001b[0m\u001b[0;34m(\u001b[0m\u001b[0;34m)\u001b[0m\u001b[0;34m)\u001b[0m\u001b[0;34m\u001b[0m\u001b[0m\n\u001b[1;32m      6\u001b[0m \u001b[0mmodel\u001b[0m\u001b[0;34m.\u001b[0m\u001b[0madd\u001b[0m\u001b[0;34m(\u001b[0m\u001b[0mActivation\u001b[0m\u001b[0;34m(\u001b[0m\u001b[0;34m'relu'\u001b[0m\u001b[0;34m)\u001b[0m\u001b[0;34m)\u001b[0m\u001b[0;34m\u001b[0m\u001b[0m\n",
      "\u001b[0;31mNameError\u001b[0m: name 'Conv2D' is not defined"
     ]
    }
   ],
   "source": [
    "from keras.models import Sequential\n",
    "\n",
    "model = Sequential() \n",
    "model.add(Conv2D(filters = 64, kernel_size = 3, padding='same', data_format=\"channels_last\", input_shape = (data.shape[1], data.shape[2], 3)))\n",
    "model.add(BatchNormalization())\n",
    "model.add(Activation('relu'))\n",
    "model.add(Conv2D(filters = 64, kernel_size = 3, padding='same'))\n",
    "# model.add(BatchNormalization())\n",
    "model.add(Activation('relu'))\n",
    "model.add(MaxPooling2D(pool_size = (2,2)))\n",
    "\n",
    "model.add(Conv2D(filters = 64, kernel_size = 3, padding='same'))\n",
    "model.add(BatchNormalization())\n",
    "model.add(Activation('relu'))\n",
    "model.add(Conv2D(filters = 64, kernel_size = 3, padding='same'))\n",
    "# model.add(BatchNormalization())\n",
    "model.add(Activation('relu'))\n",
    "model.add(Dropout(0.3))\n",
    "model.add(MaxPooling2D(pool_size = (2,2)))\n",
    "\n",
    "model.add(Conv2D(filters = 64, kernel_size = 3, padding='same'))\n",
    "model.add(BatchNormalization())\n",
    "model.add(Activation('relu'))\n",
    "model.add(Conv2D(filters = 64, kernel_size = 3, padding='same'))\n",
    "# model.add(BatchNormalization())\n",
    "model.add(Activation('relu'))\n",
    "model.add(Dropout(0.3))\n",
    "model.add(MaxPooling2D(pool_size = (2,2)))\n",
    "\n",
    "model.add(Conv2D(filters = 64, kernel_size = 3, padding='same'))\n",
    "# model.add(BatchNormalization())\n",
    "model.add(Activation('relu'))\n",
    "model.add(Dropout(0.3))\n",
    "model.add(MaxPooling2D(pool_size = (2,2)))\n",
    "\n",
    "\n",
    "model.add(Flatten())\n",
    "model.add(Dense(160, activation = \"relu\"))\n",
    "model.add(Dropout(0.5))\n",
    "model.add(Dense(32, activation = \"relu\"))\n",
    "model.add(Dense(4, activation = \"softmax\"))\n",
    "\n",
    "print(model.summary())"
   ]
  },
  {
   "cell_type": "code",
   "execution_count": 8,
   "metadata": {
    "ExecuteTime": {
     "end_time": "2018-10-07T08:18:54.145075Z",
     "start_time": "2018-10-07T08:01:52.591838Z"
    },
    "hidden": true,
    "scrolled": true
   },
   "outputs": [
    {
     "name": "stdout",
     "output_type": "stream",
     "text": [
      "Train on 7613 samples, validate on 2538 samples\n",
      "Epoch 1/100\n",
      "7613/7613 [==============================] - 12s 2ms/step - loss: 1.0188 - acc: 0.5648 - val_loss: 1.2328 - val_acc: 0.3081\n",
      "Epoch 2/100\n",
      "7613/7613 [==============================] - 10s 1ms/step - loss: 0.8639 - acc: 0.6308 - val_loss: 1.1100 - val_acc: 0.5954\n",
      "Epoch 3/100\n",
      "7613/7613 [==============================] - 10s 1ms/step - loss: 0.7825 - acc: 0.6658 - val_loss: 0.9588 - val_acc: 0.6533\n",
      "Epoch 4/100\n",
      "7613/7613 [==============================] - 10s 1ms/step - loss: 0.7457 - acc: 0.6869 - val_loss: 0.8641 - val_acc: 0.6434\n",
      "Epoch 5/100\n",
      "7613/7613 [==============================] - 10s 1ms/step - loss: 0.7195 - acc: 0.7024 - val_loss: 1.0920 - val_acc: 0.5867\n",
      "Epoch 6/100\n",
      "7613/7613 [==============================] - 10s 1ms/step - loss: 0.6736 - acc: 0.7203 - val_loss: 0.7714 - val_acc: 0.7017\n",
      "Epoch 7/100\n",
      "7613/7613 [==============================] - 10s 1ms/step - loss: 0.6363 - acc: 0.7379 - val_loss: 0.9664 - val_acc: 0.6020\n",
      "Epoch 8/100\n",
      "7613/7613 [==============================] - 10s 1ms/step - loss: 0.6261 - acc: 0.7458 - val_loss: 0.7162 - val_acc: 0.7206\n",
      "Epoch 9/100\n",
      "7613/7613 [==============================] - 10s 1ms/step - loss: 0.5939 - acc: 0.7626 - val_loss: 0.7368 - val_acc: 0.7545\n",
      "Epoch 10/100\n",
      "7613/7613 [==============================] - 10s 1ms/step - loss: 0.5810 - acc: 0.7708 - val_loss: 0.7026 - val_acc: 0.7581\n",
      "Epoch 11/100\n",
      "7613/7613 [==============================] - 10s 1ms/step - loss: 0.5660 - acc: 0.7814 - val_loss: 0.7194 - val_acc: 0.7553\n",
      "Epoch 12/100\n",
      "7613/7613 [==============================] - 10s 1ms/step - loss: 0.5408 - acc: 0.7875 - val_loss: 0.6849 - val_acc: 0.7258\n",
      "Epoch 13/100\n",
      "7613/7613 [==============================] - 11s 1ms/step - loss: 0.5275 - acc: 0.7981 - val_loss: 0.6672 - val_acc: 0.7691\n",
      "Epoch 14/100\n",
      "7613/7613 [==============================] - 11s 1ms/step - loss: 0.5180 - acc: 0.8003 - val_loss: 0.6067 - val_acc: 0.7656\n",
      "Epoch 15/100\n",
      "7613/7613 [==============================] - 11s 1ms/step - loss: 0.5014 - acc: 0.8090 - val_loss: 0.6152 - val_acc: 0.7600\n",
      "Epoch 16/100\n",
      "7613/7613 [==============================] - 11s 1ms/step - loss: 0.4928 - acc: 0.8115 - val_loss: 0.5972 - val_acc: 0.7715\n",
      "Epoch 17/100\n",
      "7613/7613 [==============================] - 10s 1ms/step - loss: 0.4781 - acc: 0.8197 - val_loss: 0.6239 - val_acc: 0.7506\n",
      "Epoch 18/100\n",
      "7613/7613 [==============================] - 10s 1ms/step - loss: 0.4737 - acc: 0.8194 - val_loss: 0.6066 - val_acc: 0.7746\n",
      "Epoch 19/100\n",
      "7613/7613 [==============================] - 10s 1ms/step - loss: 0.4596 - acc: 0.8278 - val_loss: 0.6741 - val_acc: 0.7364\n",
      "Epoch 20/100\n",
      "7613/7613 [==============================] - 10s 1ms/step - loss: 0.4448 - acc: 0.8323 - val_loss: 0.5982 - val_acc: 0.7801\n",
      "Epoch 21/100\n",
      "7613/7613 [==============================] - 10s 1ms/step - loss: 0.4189 - acc: 0.8447 - val_loss: 0.5944 - val_acc: 0.7703\n",
      "Epoch 22/100\n",
      "7613/7613 [==============================] - 10s 1ms/step - loss: 0.4132 - acc: 0.8466 - val_loss: 0.5736 - val_acc: 0.7805\n",
      "Epoch 23/100\n",
      "7613/7613 [==============================] - 10s 1ms/step - loss: 0.4182 - acc: 0.8373 - val_loss: 0.5698 - val_acc: 0.7734\n",
      "Epoch 24/100\n",
      "7613/7613 [==============================] - 10s 1ms/step - loss: 0.3934 - acc: 0.8513 - val_loss: 0.5482 - val_acc: 0.7774\n",
      "Epoch 25/100\n",
      "7613/7613 [==============================] - 10s 1ms/step - loss: 0.3698 - acc: 0.8643 - val_loss: 0.5858 - val_acc: 0.7782\n",
      "Epoch 26/100\n",
      "7613/7613 [==============================] - 10s 1ms/step - loss: 0.3659 - acc: 0.8619 - val_loss: 0.5652 - val_acc: 0.7671\n",
      "Epoch 27/100\n",
      "7613/7613 [==============================] - 10s 1ms/step - loss: 0.3546 - acc: 0.8651 - val_loss: 0.6419 - val_acc: 0.7419\n",
      "Epoch 28/100\n",
      "7613/7613 [==============================] - 11s 1ms/step - loss: 0.3493 - acc: 0.8683 - val_loss: 0.5522 - val_acc: 0.7892\n",
      "Epoch 29/100\n",
      "7613/7613 [==============================] - 11s 1ms/step - loss: 0.3290 - acc: 0.8751 - val_loss: 0.5564 - val_acc: 0.7841\n",
      "Epoch 30/100\n",
      "7613/7613 [==============================] - 10s 1ms/step - loss: 0.3290 - acc: 0.8732 - val_loss: 0.5945 - val_acc: 0.7624\n",
      "Epoch 31/100\n",
      "7613/7613 [==============================] - 10s 1ms/step - loss: 0.3087 - acc: 0.8807 - val_loss: 0.5905 - val_acc: 0.7616\n",
      "Epoch 32/100\n",
      "7613/7613 [==============================] - 11s 1ms/step - loss: 0.3044 - acc: 0.8852 - val_loss: 0.6575 - val_acc: 0.7321\n",
      "Epoch 33/100\n",
      "7613/7613 [==============================] - 11s 1ms/step - loss: 0.2978 - acc: 0.8882 - val_loss: 0.5658 - val_acc: 0.7920\n",
      "Epoch 34/100\n",
      "7613/7613 [==============================] - 10s 1ms/step - loss: 0.2703 - acc: 0.8987 - val_loss: 0.5602 - val_acc: 0.7904\n",
      "Epoch 35/100\n",
      "7613/7613 [==============================] - 10s 1ms/step - loss: 0.2542 - acc: 0.9041 - val_loss: 0.5543 - val_acc: 0.7971\n",
      "Epoch 36/100\n",
      "7613/7613 [==============================] - 10s 1ms/step - loss: 0.2502 - acc: 0.9063 - val_loss: 0.5530 - val_acc: 0.7928\n",
      "Epoch 37/100\n",
      "7613/7613 [==============================] - 10s 1ms/step - loss: 0.2364 - acc: 0.9129 - val_loss: 0.5812 - val_acc: 0.7762\n",
      "Epoch 38/100\n",
      "7613/7613 [==============================] - 10s 1ms/step - loss: 0.2238 - acc: 0.9140 - val_loss: 0.6124 - val_acc: 0.7738\n",
      "Epoch 39/100\n",
      "7613/7613 [==============================] - 11s 1ms/step - loss: 0.2101 - acc: 0.9215 - val_loss: 0.5767 - val_acc: 0.7817\n",
      "Epoch 40/100\n",
      "7613/7613 [==============================] - 10s 1ms/step - loss: 0.2173 - acc: 0.9175 - val_loss: 0.6278 - val_acc: 0.7589\n",
      "Epoch 41/100\n",
      "7613/7613 [==============================] - 10s 1ms/step - loss: 0.2145 - acc: 0.9157 - val_loss: 0.6359 - val_acc: 0.7730\n",
      "Epoch 42/100\n",
      "7613/7613 [==============================] - 10s 1ms/step - loss: 0.1975 - acc: 0.9279 - val_loss: 0.5762 - val_acc: 0.7805\n",
      "Epoch 43/100\n",
      "7613/7613 [==============================] - 10s 1ms/step - loss: 0.1734 - acc: 0.9363 - val_loss: 0.6983 - val_acc: 0.7758\n",
      "Epoch 44/100\n",
      "7613/7613 [==============================] - 10s 1ms/step - loss: 0.1793 - acc: 0.9331 - val_loss: 0.6867 - val_acc: 0.7541\n",
      "Epoch 45/100\n",
      "7613/7613 [==============================] - 10s 1ms/step - loss: 0.1768 - acc: 0.9322 - val_loss: 0.6920 - val_acc: 0.7829\n",
      "Epoch 46/100\n",
      "7613/7613 [==============================] - 10s 1ms/step - loss: 0.1556 - acc: 0.9410 - val_loss: 0.6755 - val_acc: 0.7864\n",
      "Epoch 47/100\n",
      "7613/7613 [==============================] - 10s 1ms/step - loss: 0.1575 - acc: 0.9410 - val_loss: 0.7076 - val_acc: 0.7565\n",
      "Epoch 48/100\n",
      "7613/7613 [==============================] - 11s 1ms/step - loss: 0.1526 - acc: 0.9433 - val_loss: 0.6293 - val_acc: 0.7884\n",
      "Epoch 49/100\n",
      "7613/7613 [==============================] - 10s 1ms/step - loss: 0.1323 - acc: 0.9507 - val_loss: 0.6726 - val_acc: 0.7861\n",
      "Epoch 50/100\n",
      "7613/7613 [==============================] - 10s 1ms/step - loss: 0.1229 - acc: 0.9540 - val_loss: 0.6818 - val_acc: 0.7864\n",
      "Epoch 51/100\n",
      "7613/7613 [==============================] - 10s 1ms/step - loss: 0.1418 - acc: 0.9480 - val_loss: 0.7121 - val_acc: 0.7648\n",
      "Epoch 52/100\n",
      "7613/7613 [==============================] - 10s 1ms/step - loss: 0.1299 - acc: 0.9522 - val_loss: 0.7357 - val_acc: 0.7750\n",
      "Epoch 53/100\n",
      "7613/7613 [==============================] - 10s 1ms/step - loss: 0.1299 - acc: 0.9535 - val_loss: 0.6924 - val_acc: 0.7853\n",
      "Epoch 54/100\n",
      "7613/7613 [==============================] - 10s 1ms/step - loss: 0.1154 - acc: 0.9551 - val_loss: 0.7193 - val_acc: 0.7833\n",
      "Epoch 55/100\n",
      "7613/7613 [==============================] - 10s 1ms/step - loss: 0.1372 - acc: 0.9501 - val_loss: 0.6521 - val_acc: 0.7849\n",
      "Epoch 56/100\n",
      "7613/7613 [==============================] - 10s 1ms/step - loss: 0.1169 - acc: 0.9581 - val_loss: 0.7065 - val_acc: 0.7853\n",
      "Epoch 57/100\n",
      "7613/7613 [==============================] - 10s 1ms/step - loss: 0.1026 - acc: 0.9615 - val_loss: 0.6714 - val_acc: 0.7896\n",
      "Epoch 58/100\n",
      "7613/7613 [==============================] - 10s 1ms/step - loss: 0.1043 - acc: 0.9644 - val_loss: 0.7302 - val_acc: 0.7711\n",
      "Epoch 59/100\n",
      "7613/7613 [==============================] - 10s 1ms/step - loss: 0.1039 - acc: 0.9622 - val_loss: 0.6941 - val_acc: 0.7786\n",
      "Epoch 60/100\n",
      "7613/7613 [==============================] - 10s 1ms/step - loss: 0.1126 - acc: 0.9603 - val_loss: 0.6867 - val_acc: 0.7892\n",
      "Epoch 61/100\n",
      "7613/7613 [==============================] - 10s 1ms/step - loss: 0.0892 - acc: 0.9679 - val_loss: 0.7476 - val_acc: 0.7841\n",
      "Epoch 62/100\n",
      "7613/7613 [==============================] - 11s 1ms/step - loss: 0.0922 - acc: 0.9678 - val_loss: 0.7982 - val_acc: 0.7900\n",
      "Epoch 63/100\n",
      "7613/7613 [==============================] - 10s 1ms/step - loss: 0.0782 - acc: 0.9719 - val_loss: 0.7706 - val_acc: 0.7797\n",
      "Epoch 64/100\n",
      "7613/7613 [==============================] - 10s 1ms/step - loss: 0.1059 - acc: 0.9607 - val_loss: 0.7207 - val_acc: 0.7880\n",
      "Epoch 65/100\n",
      "7613/7613 [==============================] - 11s 1ms/step - loss: 0.0813 - acc: 0.9701 - val_loss: 0.7444 - val_acc: 0.7813\n",
      "Epoch 66/100\n",
      "7613/7613 [==============================] - 10s 1ms/step - loss: 0.0739 - acc: 0.9739 - val_loss: 0.8555 - val_acc: 0.7797\n",
      "Epoch 67/100\n",
      "7613/7613 [==============================] - 10s 1ms/step - loss: 0.0634 - acc: 0.9754 - val_loss: 0.8532 - val_acc: 0.7738\n",
      "Epoch 68/100\n",
      "7613/7613 [==============================] - 10s 1ms/step - loss: 0.1025 - acc: 0.9648 - val_loss: 0.8363 - val_acc: 0.7794\n",
      "Epoch 69/100\n",
      "7613/7613 [==============================] - 10s 1ms/step - loss: 0.0695 - acc: 0.9773 - val_loss: 0.7797 - val_acc: 0.7955\n",
      "Epoch 70/100\n",
      "7613/7613 [==============================] - 10s 1ms/step - loss: 0.0670 - acc: 0.9781 - val_loss: 0.8472 - val_acc: 0.7478\n",
      "Epoch 71/100\n",
      "7613/7613 [==============================] - 10s 1ms/step - loss: 0.1362 - acc: 0.9502 - val_loss: 0.7477 - val_acc: 0.7951\n",
      "Epoch 72/100\n",
      "7613/7613 [==============================] - 10s 1ms/step - loss: 0.0791 - acc: 0.9714 - val_loss: 0.7919 - val_acc: 0.7892\n",
      "Epoch 73/100\n",
      "7613/7613 [==============================] - 10s 1ms/step - loss: 0.0643 - acc: 0.9770 - val_loss: 0.8185 - val_acc: 0.7723\n",
      "Epoch 74/100\n",
      "7613/7613 [==============================] - 10s 1ms/step - loss: 0.0627 - acc: 0.9786 - val_loss: 1.0193 - val_acc: 0.7679\n",
      "Epoch 75/100\n",
      "7613/7613 [==============================] - 10s 1ms/step - loss: 0.0753 - acc: 0.9732 - val_loss: 0.7692 - val_acc: 0.7904\n",
      "Epoch 76/100\n",
      "7613/7613 [==============================] - 10s 1ms/step - loss: 0.0649 - acc: 0.9761 - val_loss: 0.9096 - val_acc: 0.7719\n",
      "Epoch 77/100\n",
      "7613/7613 [==============================] - 10s 1ms/step - loss: 0.1439 - acc: 0.9510 - val_loss: 0.7188 - val_acc: 0.7931\n",
      "Epoch 78/100\n",
      "7613/7613 [==============================] - 10s 1ms/step - loss: 0.0588 - acc: 0.9798 - val_loss: 0.7645 - val_acc: 0.7908\n",
      "Epoch 79/100\n",
      "7613/7613 [==============================] - 10s 1ms/step - loss: 0.0486 - acc: 0.9841 - val_loss: 0.8267 - val_acc: 0.7821\n",
      "Epoch 80/100\n",
      "7613/7613 [==============================] - 10s 1ms/step - loss: 0.0544 - acc: 0.9811 - val_loss: 0.8284 - val_acc: 0.7821\n",
      "Epoch 81/100\n",
      "7613/7613 [==============================] - 10s 1ms/step - loss: 0.0540 - acc: 0.9796 - val_loss: 0.9503 - val_acc: 0.7857\n",
      "Epoch 82/100\n",
      "7613/7613 [==============================] - 10s 1ms/step - loss: 0.0668 - acc: 0.9773 - val_loss: 0.8664 - val_acc: 0.7679\n",
      "Epoch 83/100\n",
      "7613/7613 [==============================] - 10s 1ms/step - loss: 0.0493 - acc: 0.9810 - val_loss: 0.8667 - val_acc: 0.7872\n",
      "Epoch 84/100\n",
      "7613/7613 [==============================] - 10s 1ms/step - loss: 0.0356 - acc: 0.9863 - val_loss: 1.1211 - val_acc: 0.7861\n",
      "Epoch 85/100\n",
      "7613/7613 [==============================] - 10s 1ms/step - loss: 0.0457 - acc: 0.9841 - val_loss: 0.8838 - val_acc: 0.7872\n",
      "Epoch 86/100\n",
      "7613/7613 [==============================] - 10s 1ms/step - loss: 0.0734 - acc: 0.9741 - val_loss: 0.9264 - val_acc: 0.7801\n",
      "Epoch 87/100\n",
      "7613/7613 [==============================] - 10s 1ms/step - loss: 0.0471 - acc: 0.9840 - val_loss: 0.8879 - val_acc: 0.7861\n",
      "Epoch 88/100\n",
      "7613/7613 [==============================] - 10s 1ms/step - loss: 0.0753 - acc: 0.9750 - val_loss: 0.9564 - val_acc: 0.7797\n",
      "Epoch 89/100\n",
      "7613/7613 [==============================] - 10s 1ms/step - loss: 0.0639 - acc: 0.9777 - val_loss: 0.8955 - val_acc: 0.7861\n",
      "Epoch 90/100\n",
      "7613/7613 [==============================] - 10s 1ms/step - loss: 0.0573 - acc: 0.9807 - val_loss: 0.7775 - val_acc: 0.7876\n",
      "Epoch 91/100\n",
      "7613/7613 [==============================] - 10s 1ms/step - loss: 0.0388 - acc: 0.9865 - val_loss: 1.1796 - val_acc: 0.7845\n",
      "Epoch 92/100\n",
      "7613/7613 [==============================] - 10s 1ms/step - loss: 0.0667 - acc: 0.9774 - val_loss: 0.8791 - val_acc: 0.7853\n",
      "Epoch 93/100\n",
      "7613/7613 [==============================] - 10s 1ms/step - loss: 0.0483 - acc: 0.9840 - val_loss: 0.8660 - val_acc: 0.7955\n",
      "Epoch 94/100\n",
      "7613/7613 [==============================] - 10s 1ms/step - loss: 0.0315 - acc: 0.9874 - val_loss: 0.9949 - val_acc: 0.7837\n",
      "Epoch 95/100\n",
      "7613/7613 [==============================] - 10s 1ms/step - loss: 0.0574 - acc: 0.9786 - val_loss: 0.8809 - val_acc: 0.7971\n",
      "Epoch 96/100\n",
      "7613/7613 [==============================] - 10s 1ms/step - loss: 0.0471 - acc: 0.9836 - val_loss: 0.8373 - val_acc: 0.7707\n",
      "Epoch 97/100\n",
      "7613/7613 [==============================] - 10s 1ms/step - loss: 0.0513 - acc: 0.9828 - val_loss: 1.0176 - val_acc: 0.7845\n",
      "Epoch 98/100\n",
      "7613/7613 [==============================] - 10s 1ms/step - loss: 0.0376 - acc: 0.9865 - val_loss: 0.9545 - val_acc: 0.7766\n",
      "Epoch 99/100\n",
      "7613/7613 [==============================] - 10s 1ms/step - loss: 0.0623 - acc: 0.9794 - val_loss: 0.9115 - val_acc: 0.7892\n",
      "Epoch 100/100\n",
      "7613/7613 [==============================] - 10s 1ms/step - loss: 0.0502 - acc: 0.9837 - val_loss: 1.0359 - val_acc: 0.7691\n",
      "Finish training!\n"
     ]
    }
   ],
   "source": [
    "adam = Adam(lr=0.0005)\n",
    "model.compile(optimizer = adam, loss = \"categorical_crossentropy\", metrics=['accuracy'])\n",
    "batch_s = 80\n",
    "train_history = model.fit(x = X_train, \n",
    "                          y = y_train,\n",
    "                          epochs=100,\n",
    "                          validation_data=(X_test, y_test),\n",
    "                          batch_size=batch_s*1, \n",
    "                          verbose=1)\n",
    "\n",
    "print('Finish training!')\n",
    "\n",
    "import pylab as plt\n",
    "def history_display(hist, train, validation):\n",
    "    plt.plot(hist.history[train])\n",
    "    plt.plot(hist.history[validation])\n",
    "    plt.title('Train History')\n",
    "    plt.ylabel(train)\n",
    "    plt.xlabel('Epoch')\n",
    "    plt.legend(['train', 'validation'], loc='upper left')\n",
    "    plt.show\n",
    "    \n",
    "def show_plot(flag, hist):\n",
    "    if flag == 'acc':\n",
    "        history_display(hist, 'acc', 'val_acc')\n",
    "    elif flag == 'loss':\n",
    "        history_display(hist, 'loss', 'val_loss')\n",
    "    else:\n",
    "        print('Invalid!')"
   ]
  },
  {
   "cell_type": "code",
   "execution_count": 9,
   "metadata": {
    "ExecuteTime": {
     "end_time": "2018-10-07T08:18:54.425831Z",
     "start_time": "2018-10-07T08:18:54.149332Z"
    },
    "hidden": true,
    "scrolled": true
   },
   "outputs": [
    {
     "data": {
      "image/png": "[encoded data removed]",
      "text/plain": [
       "<Figure size 432x288 with 1 Axes>"
      ]
     },
     "metadata": {},
     "output_type": "display_data"
    }
   ],
   "source": [
    "show_plot('acc', train_history)"
   ]
  },
  {
   "cell_type": "code",
   "execution_count": 10,
   "metadata": {
    "ExecuteTime": {
     "end_time": "2018-10-07T08:18:54.652227Z",
     "start_time": "2018-10-07T08:18:54.429313Z"
    },
    "hidden": true
   },
   "outputs": [
    {
     "data": {
      "image/png": "[encoded data removed]",
      "text/plain": [
       "<Figure size 432x288 with 1 Axes>"
      ]
     },
     "metadata": {},
     "output_type": "display_data"
    }
   ],
   "source": [
    "show_plot('loss', train_history)"
   ]
  },
  {
   "cell_type": "code",
   "execution_count": 1,
   "metadata": {
    "ExecuteTime": {
     "end_time": "2018-10-10T06:36:53.888502Z",
     "start_time": "2018-10-10T06:30:29.064152Z"
    },
    "hidden": true,
    "scrolled": true
   },
   "outputs": [
    {
     "name": "stderr",
     "output_type": "stream",
     "text": [
      "/usr/local/lib/python3.5/dist-packages/h5py/__init__.py:36: FutureWarning: Conversion of the second argument of issubdtype from `float` to `np.floating` is deprecated. In future, it will be treated as `np.float64 == np.dtype(float).type`.\n",
      "  from ._conv import register_converters as _register_converters\n",
      "Using TensorFlow backend.\n"
     ]
    },
    {
     "name": "stdout",
     "output_type": "stream",
     "text": [
      "(10151, 59, 151, 3)\n",
      "(10151, 4)\n",
      "_________________________________________________________________\n",
      "Layer (type)                 Output Shape              Param #   \n",
      "=================================================================\n",
      "conv2d_1 (Conv2D)            (None, 59, 151, 64)       1792      \n",
      "_________________________________________________________________\n",
      "batch_normalization_1 (Batch (None, 59, 151, 64)       256       \n",
      "_________________________________________________________________\n",
      "activation_1 (Activation)    (None, 59, 151, 64)       0         \n",
      "_________________________________________________________________\n",
      "conv2d_2 (Conv2D)            (None, 59, 151, 64)       36928     \n",
      "_________________________________________________________________\n",
      "activation_2 (Activation)    (None, 59, 151, 64)       0         \n",
      "_________________________________________________________________\n",
      "max_pooling2d_1 (MaxPooling2 (None, 29, 75, 64)        0         \n",
      "_________________________________________________________________\n",
      "conv2d_3 (Conv2D)            (None, 29, 75, 64)        36928     \n",
      "_________________________________________________________________\n",
      "batch_normalization_2 (Batch (None, 29, 75, 64)        256       \n",
      "_________________________________________________________________\n",
      "activation_3 (Activation)    (None, 29, 75, 64)        0         \n",
      "_________________________________________________________________\n",
      "conv2d_4 (Conv2D)            (None, 29, 75, 64)        36928     \n",
      "_________________________________________________________________\n",
      "activation_4 (Activation)    (None, 29, 75, 64)        0         \n",
      "_________________________________________________________________\n",
      "dropout_1 (Dropout)          (None, 29, 75, 64)        0         \n",
      "_________________________________________________________________\n",
      "max_pooling2d_2 (MaxPooling2 (None, 14, 37, 64)        0         \n",
      "_________________________________________________________________\n",
      "conv2d_5 (Conv2D)            (None, 14, 37, 64)        36928     \n",
      "_________________________________________________________________\n",
      "batch_normalization_3 (Batch (None, 14, 37, 64)        256       \n",
      "_________________________________________________________________\n",
      "activation_5 (Activation)    (None, 14, 37, 64)        0         \n",
      "_________________________________________________________________\n",
      "conv2d_6 (Conv2D)            (None, 14, 37, 64)        36928     \n",
      "_________________________________________________________________\n",
      "activation_6 (Activation)    (None, 14, 37, 64)        0         \n",
      "_________________________________________________________________\n",
      "dropout_2 (Dropout)          (None, 14, 37, 64)        0         \n",
      "_________________________________________________________________\n",
      "max_pooling2d_3 (MaxPooling2 (None, 7, 18, 64)         0         \n",
      "_________________________________________________________________\n",
      "conv2d_7 (Conv2D)            (None, 7, 18, 64)         36928     \n",
      "_________________________________________________________________\n",
      "activation_7 (Activation)    (None, 7, 18, 64)         0         \n",
      "_________________________________________________________________\n",
      "dropout_3 (Dropout)          (None, 7, 18, 64)         0         \n",
      "_________________________________________________________________\n",
      "max_pooling2d_4 (MaxPooling2 (None, 3, 9, 64)          0         \n",
      "_________________________________________________________________\n",
      "flatten_1 (Flatten)          (None, 1728)              0         \n",
      "_________________________________________________________________\n",
      "dense_1 (Dense)              (None, 160)               276640    \n",
      "_________________________________________________________________\n",
      "dropout_4 (Dropout)          (None, 160)               0         \n",
      "_________________________________________________________________\n",
      "dense_2 (Dense)              (None, 32)                5152      \n",
      "_________________________________________________________________\n",
      "dense_3 (Dense)              (None, 4)                 132       \n",
      "=================================================================\n",
      "Total params: 506,052\n",
      "Trainable params: 505,668\n",
      "Non-trainable params: 384\n",
      "_________________________________________________________________\n",
      "None\n",
      "Train on 6090 samples, validate on 1523 samples\n",
      "Epoch 1/100\n",
      "6090/6090 [==============================] - 11s 2ms/step - loss: 1.0216 - acc: 0.5675 - val_loss: 1.1233 - val_acc: 0.5568\n",
      "Epoch 2/100\n",
      "6090/6090 [==============================] - 7s 1ms/step - loss: 0.9316 - acc: 0.5916 - val_loss: 0.9039 - val_acc: 0.6139\n",
      "Epoch 3/100\n",
      "6090/6090 [==============================] - 8s 1ms/step - loss: 0.8519 - acc: 0.6361 - val_loss: 1.3188 - val_acc: 0.3401\n",
      "Epoch 4/100\n",
      "6090/6090 [==============================] - 8s 1ms/step - loss: 0.7926 - acc: 0.6683 - val_loss: 1.0960 - val_acc: 0.6244\n",
      "Epoch 5/100\n",
      "6090/6090 [==============================] - 8s 1ms/step - loss: 0.7530 - acc: 0.6768 - val_loss: 0.8479 - val_acc: 0.6848\n",
      "Epoch 6/100\n",
      "6090/6090 [==============================] - 8s 1ms/step - loss: 0.7197 - acc: 0.6997 - val_loss: 0.8737 - val_acc: 0.6559\n",
      "Epoch 7/100\n",
      "6090/6090 [==============================] - 8s 1ms/step - loss: 0.6935 - acc: 0.7038 - val_loss: 0.8151 - val_acc: 0.7052\n",
      "Epoch 8/100\n",
      "6090/6090 [==============================] - 8s 1ms/step - loss: 0.6771 - acc: 0.7126 - val_loss: 0.8416 - val_acc: 0.6815\n",
      "Epoch 9/100\n",
      "6090/6090 [==============================] - 8s 1ms/step - loss: 0.6428 - acc: 0.7365 - val_loss: 0.8431 - val_acc: 0.6960\n",
      "Epoch 10/100\n",
      "6090/6090 [==============================] - 8s 1ms/step - loss: 0.6283 - acc: 0.7363 - val_loss: 0.7212 - val_acc: 0.7111\n",
      "Epoch 11/100\n",
      "6090/6090 [==============================] - 8s 1ms/step - loss: 0.6171 - acc: 0.7484 - val_loss: 0.7409 - val_acc: 0.6967\n",
      "Epoch 12/100\n",
      "6090/6090 [==============================] - 8s 1ms/step - loss: 0.5885 - acc: 0.7506 - val_loss: 0.7361 - val_acc: 0.7229\n",
      "Epoch 13/100\n",
      "6090/6090 [==============================] - 8s 1ms/step - loss: 0.5803 - acc: 0.7596 - val_loss: 0.7401 - val_acc: 0.7367\n",
      "Epoch 14/100\n",
      "6090/6090 [==============================] - 8s 1ms/step - loss: 0.5566 - acc: 0.7780 - val_loss: 0.6897 - val_acc: 0.7380\n",
      "Epoch 15/100\n",
      "6090/6090 [==============================] - 8s 1ms/step - loss: 0.5397 - acc: 0.7823 - val_loss: 0.6733 - val_acc: 0.7347\n",
      "Epoch 16/100\n",
      "6090/6090 [==============================] - 8s 1ms/step - loss: 0.5232 - acc: 0.7951 - val_loss: 0.6741 - val_acc: 0.7446\n",
      "Epoch 17/100\n",
      "6090/6090 [==============================] - 8s 1ms/step - loss: 0.5122 - acc: 0.7985 - val_loss: 0.6190 - val_acc: 0.7590\n",
      "Epoch 18/100\n",
      "6090/6090 [==============================] - 8s 1ms/step - loss: 0.5075 - acc: 0.7972 - val_loss: 0.6709 - val_acc: 0.7800\n",
      "Epoch 19/100\n",
      "6090/6090 [==============================] - 8s 1ms/step - loss: 0.4794 - acc: 0.8125 - val_loss: 0.7236 - val_acc: 0.7288\n",
      "Epoch 20/100\n",
      "6090/6090 [==============================] - 8s 1ms/step - loss: 0.4648 - acc: 0.8161 - val_loss: 0.6947 - val_acc: 0.7144\n",
      "Epoch 21/100\n",
      "6090/6090 [==============================] - 8s 1ms/step - loss: 0.4610 - acc: 0.8233 - val_loss: 0.6207 - val_acc: 0.7649\n",
      "Epoch 22/100\n",
      "6090/6090 [==============================] - 8s 1ms/step - loss: 0.4450 - acc: 0.8297 - val_loss: 0.5770 - val_acc: 0.7695\n",
      "Epoch 23/100\n",
      "6090/6090 [==============================] - 8s 1ms/step - loss: 0.4324 - acc: 0.8281 - val_loss: 0.6050 - val_acc: 0.7873\n",
      "Epoch 24/100\n",
      "6090/6090 [==============================] - 8s 1ms/step - loss: 0.4219 - acc: 0.8323 - val_loss: 0.5899 - val_acc: 0.7656\n",
      "Epoch 25/100\n",
      "6090/6090 [==============================] - 8s 1ms/step - loss: 0.4029 - acc: 0.8424 - val_loss: 0.6397 - val_acc: 0.7433\n",
      "Epoch 26/100\n",
      "6090/6090 [==============================] - 8s 1ms/step - loss: 0.3944 - acc: 0.8463 - val_loss: 0.6076 - val_acc: 0.7603\n",
      "Epoch 27/100\n",
      "6090/6090 [==============================] - 8s 1ms/step - loss: 0.3546 - acc: 0.8634 - val_loss: 0.5793 - val_acc: 0.7748\n",
      "Epoch 28/100\n",
      "6090/6090 [==============================] - 8s 1ms/step - loss: 0.3622 - acc: 0.8527 - val_loss: 0.5890 - val_acc: 0.7814\n",
      "Epoch 29/100\n",
      "6090/6090 [==============================] - 8s 1ms/step - loss: 0.3474 - acc: 0.8672 - val_loss: 0.5928 - val_acc: 0.7708\n",
      "Epoch 30/100\n"
     ]
    },
    {
     "name": "stdout",
     "output_type": "stream",
     "text": [
      "6090/6090 [==============================] - 8s 1ms/step - loss: 0.3135 - acc: 0.8775 - val_loss: 0.7368 - val_acc: 0.7492\n",
      "Epoch 31/100\n",
      "6090/6090 [==============================] - 8s 1ms/step - loss: 0.3120 - acc: 0.8801 - val_loss: 0.6228 - val_acc: 0.7603\n",
      "Epoch 32/100\n",
      "6090/6090 [==============================] - 8s 1ms/step - loss: 0.3127 - acc: 0.8762 - val_loss: 0.6209 - val_acc: 0.7603\n",
      "Epoch 33/100\n",
      "6090/6090 [==============================] - 8s 1ms/step - loss: 0.2863 - acc: 0.8854 - val_loss: 0.6345 - val_acc: 0.7754\n",
      "Epoch 34/100\n",
      "6090/6090 [==============================] - 8s 1ms/step - loss: 0.2790 - acc: 0.8921 - val_loss: 0.6702 - val_acc: 0.7695\n",
      "Epoch 35/100\n",
      "6090/6090 [==============================] - 8s 1ms/step - loss: 0.2902 - acc: 0.8864 - val_loss: 0.6160 - val_acc: 0.7807\n",
      "Epoch 36/100\n",
      "6090/6090 [==============================] - 8s 1ms/step - loss: 0.2375 - acc: 0.9085 - val_loss: 0.6331 - val_acc: 0.7669\n",
      "Epoch 37/100\n",
      "6090/6090 [==============================] - 8s 1ms/step - loss: 0.2387 - acc: 0.9066 - val_loss: 0.6455 - val_acc: 0.7551\n",
      "Epoch 38/100\n",
      "6090/6090 [==============================] - 8s 1ms/step - loss: 0.2194 - acc: 0.9144 - val_loss: 0.6109 - val_acc: 0.7741\n",
      "Epoch 39/100\n",
      "6090/6090 [==============================] - 8s 1ms/step - loss: 0.2525 - acc: 0.9061 - val_loss: 0.6355 - val_acc: 0.7682\n",
      "Epoch 40/100\n",
      "6090/6090 [==============================] - 8s 1ms/step - loss: 0.1941 - acc: 0.9258 - val_loss: 0.6368 - val_acc: 0.7859\n",
      "Epoch 41/100\n",
      "6090/6090 [==============================] - 8s 1ms/step - loss: 0.2331 - acc: 0.9092 - val_loss: 0.6361 - val_acc: 0.7702\n",
      "Epoch 42/100\n",
      "6090/6090 [==============================] - 8s 1ms/step - loss: 0.2017 - acc: 0.9227 - val_loss: 0.6744 - val_acc: 0.7800\n",
      "Epoch 43/100\n",
      "6090/6090 [==============================] - 8s 1ms/step - loss: 0.1750 - acc: 0.9307 - val_loss: 0.6312 - val_acc: 0.7689\n",
      "Epoch 44/100\n",
      "6090/6090 [==============================] - 8s 1ms/step - loss: 0.1662 - acc: 0.9363 - val_loss: 0.7076 - val_acc: 0.7807\n",
      "Epoch 45/100\n",
      "6090/6090 [==============================] - 8s 1ms/step - loss: 0.1709 - acc: 0.9360 - val_loss: 0.7071 - val_acc: 0.7735\n",
      "Epoch 46/100\n",
      "6090/6090 [==============================] - 8s 1ms/step - loss: 0.1609 - acc: 0.9402 - val_loss: 0.7236 - val_acc: 0.7702\n",
      "Epoch 47/100\n",
      "6090/6090 [==============================] - 8s 1ms/step - loss: 0.1372 - acc: 0.9470 - val_loss: 0.7421 - val_acc: 0.7754\n"
     ]
    }
   ],
   "source": [
    "import numpy as np\n",
    "import pandas as pd\n",
    "from keras.layers import Dense, Flatten, Conv2D, Dropout, MaxPooling2D\n",
    "from keras.models import Sequential\n",
    "from keras.optimizers import Adam\n",
    "from keras.layers import BatchNormalization, Activation\n",
    "from keras.utils import np_utils\n",
    "import tensorflow as tf\n",
    "from keras.callbacks import EarlyStopping\n",
    "np.set_printoptions(suppress=True)\n",
    "\n",
    "data = np.load(\"/home/hsiehch/30s/2D_spect_img/data_RGB.npy\")\n",
    "labels = np.load('/home/hsiehch/30s/2D_spect_img/labels.npy')\n",
    "\n",
    "data = data / 255\n",
    "labels = np_utils.to_categorical(labels, 4)\n",
    "\n",
    "print(data.shape)\n",
    "print(labels.shape)\n",
    "\n",
    "#---------------------------------------\n",
    "\n",
    "from sklearn.model_selection import train_test_split\n",
    "X_train, X_test, y_train, y_test = train_test_split(data, labels)\n",
    "\n",
    "#---------------------------------------\n",
    "\n",
    "model = Sequential() \n",
    "model.add(Conv2D(filters = 64, kernel_size = 3, padding='same', data_format=\"channels_last\", input_shape = (data.shape[1], data.shape[2], 3)))\n",
    "model.add(BatchNormalization())\n",
    "model.add(Activation('relu'))\n",
    "model.add(Conv2D(filters = 64, kernel_size = 3, padding='same'))\n",
    "# model.add(BatchNormalization())\n",
    "model.add(Activation('relu'))\n",
    "model.add(MaxPooling2D(pool_size = (2,2)))\n",
    "\n",
    "model.add(Conv2D(filters = 64, kernel_size = 3, padding='same'))\n",
    "model.add(BatchNormalization())\n",
    "model.add(Activation('relu'))\n",
    "model.add(Conv2D(filters = 64, kernel_size = 3, padding='same'))\n",
    "# model.add(BatchNormalization())\n",
    "model.add(Activation('relu'))\n",
    "model.add(Dropout(0.3))\n",
    "model.add(MaxPooling2D(pool_size = (2,2)))\n",
    "\n",
    "model.add(Conv2D(filters = 64, kernel_size = 3, padding='same'))\n",
    "model.add(BatchNormalization())\n",
    "model.add(Activation('relu'))\n",
    "model.add(Conv2D(filters = 64, kernel_size = 3, padding='same'))\n",
    "# model.add(BatchNormalization())\n",
    "model.add(Activation('relu'))\n",
    "model.add(Dropout(0.3))\n",
    "model.add(MaxPooling2D(pool_size = (2,2)))\n",
    "\n",
    "model.add(Conv2D(filters = 64, kernel_size = 3, padding='same'))\n",
    "# model.add(BatchNormalization())\n",
    "model.add(Activation('relu'))\n",
    "model.add(Dropout(0.3))\n",
    "model.add(MaxPooling2D(pool_size = (2,2)))\n",
    "\n",
    "model.add(Flatten())\n",
    "model.add(Dense(160, activation = \"relu\"))\n",
    "model.add(Dropout(0.5))\n",
    "model.add(Dense(32, activation = \"relu\"))\n",
    "model.add(Dense(4, activation = \"softmax\"))\n",
    "\n",
    "print(model.summary())\n",
    "\n",
    "#---------------------------------------\n",
    "\n",
    "adam = Adam(lr=0.0005)\n",
    "model.compile(optimizer = adam, loss = \"categorical_crossentropy\", metrics=['accuracy'])\n",
    "batch_s = 80\n",
    "early_stop = EarlyStopping(patience=25)\n",
    "train_history = model.fit(x = X_train, \n",
    "                          y = y_train,\n",
    "                          epochs=100,\n",
    "                          validation_split=0.2,\n",
    "                          callbacks=[early_stop],\n",
    "                          batch_size=batch_s*1, \n",
    "                          verbose=1)\n",
    "\n",
    "\n",
    "import pylab as plt\n",
    "def history_display(hist, train, validation):\n",
    "    plt.plot(hist.history[train])\n",
    "    plt.plot(hist.history[validation])\n",
    "    plt.title('Train History')\n",
    "    plt.ylabel(train)\n",
    "    plt.xlabel('Epoch')\n",
    "    plt.legend(['train', 'validation'], loc='upper left')\n",
    "    plt.show\n",
    "    \n",
    "def show_plot(flag, hist):\n",
    "    if flag == 'acc':\n",
    "        history_display(hist, 'acc', 'val_acc')\n",
    "    elif flag == 'loss':\n",
    "        history_display(hist, 'loss', 'val_loss')\n",
    "    else:\n",
    "        print('Invalid!')"
   ]
  },
  {
   "cell_type": "code",
   "execution_count": 3,
   "metadata": {
    "ExecuteTime": {
     "end_time": "2018-10-10T06:38:36.160754Z",
     "start_time": "2018-10-10T06:38:34.648539Z"
    },
    "hidden": true
   },
   "outputs": [
    {
     "name": "stdout",
     "output_type": "stream",
     "text": [
      "2538/2538 [==============================] - 2s 593us/step\n",
      "Testing:\n",
      "Loss: 0.633, Accuracy: 0.804\n"
     ]
    }
   ],
   "source": [
    "evaluation = model.evaluate(x = X_test, y = y_test)\n",
    "print('Testing:')\n",
    "print('Loss: {:.3f}, Accuracy: {:.3f}'.format(evaluation[0], evaluation[1]))"
   ]
  },
  {
   "cell_type": "code",
   "execution_count": 4,
   "metadata": {
    "ExecuteTime": {
     "end_time": "2018-10-10T06:39:11.420024Z",
     "start_time": "2018-10-10T06:39:11.159530Z"
    },
    "hidden": true,
    "scrolled": true
   },
   "outputs": [
    {
     "data": {
      "image/png": "[encoded data removed]",
      "text/plain": [
       "<Figure size 432x288 with 1 Axes>"
      ]
     },
     "metadata": {},
     "output_type": "display_data"
    }
   ],
   "source": [
    "show_plot('acc', train_history)"
   ]
  },
  {
   "cell_type": "code",
   "execution_count": 5,
   "metadata": {
    "ExecuteTime": {
     "end_time": "2018-10-10T06:39:14.650454Z",
     "start_time": "2018-10-10T06:39:14.399570Z"
    },
    "hidden": true
   },
   "outputs": [
    {
     "data": {
      "image/png": "[encoded data removed]",
      "text/plain": [
       "<Figure size 432x288 with 1 Axes>"
      ]
     },
     "metadata": {},
     "output_type": "display_data"
    }
   ],
   "source": [
    "show_plot('loss', train_history)"
   ]
  },
  {
   "cell_type": "markdown",
   "metadata": {},
   "source": [
    "### RGB Spectrogram using 5:2:3"
   ]
  },
  {
   "cell_type": "code",
   "execution_count": 1,
   "metadata": {
    "ExecuteTime": {
     "end_time": "2018-10-29T08:18:07.342384Z",
     "start_time": "2018-10-29T08:18:04.495934Z"
    },
    "scrolled": true
   },
   "outputs": [
    {
     "name": "stderr",
     "output_type": "stream",
     "text": [
      "/usr/local/lib/python3.5/dist-packages/h5py/__init__.py:36: FutureWarning: Conversion of the second argument of issubdtype from `float` to `np.floating` is deprecated. In future, it will be treated as `np.float64 == np.dtype(float).type`.\n",
      "  from ._conv import register_converters as _register_converters\n",
      "Using TensorFlow backend.\n"
     ]
    },
    {
     "name": "stdout",
     "output_type": "stream",
     "text": [
      "(10151, 59, 151, 3)\n",
      "(10151, 4)\n"
     ]
    }
   ],
   "source": [
    "import numpy as np\n",
    "import pandas as pd\n",
    "from keras.layers import Dense, Flatten, Conv2D, Dropout, MaxPooling2D\n",
    "from keras.models import Model\n",
    "from keras.optimizers import Adam\n",
    "from keras.layers import BatchNormalization, Activation, Input\n",
    "from keras.callbacks import EarlyStopping\n",
    "from keras.utils import np_utils\n",
    "import tensorflow as tf\n",
    "np.set_printoptions(suppress=True)\n",
    "\n",
    "data = np.load(\"/home/hsiehch/30s/2D_spect_img/data_RGB.npy\")\n",
    "labels = np.load('/home/hsiehch/30s/2D_spect_img/labels.npy')\n",
    "\n",
    "data = data / 255\n",
    "labels_cat = np_utils.to_categorical(labels, 4)\n",
    "\n",
    "print(data.shape)\n",
    "print(labels_cat.shape)"
   ]
  },
  {
   "cell_type": "code",
   "execution_count": 2,
   "metadata": {
    "ExecuteTime": {
     "end_time": "2018-10-29T08:18:07.368839Z",
     "start_time": "2018-10-29T08:18:07.345374Z"
    }
   },
   "outputs": [
    {
     "data": {
      "text/plain": [
       "array([ 903.,  299., 5959., 2990.])"
      ]
     },
     "execution_count": 2,
     "metadata": {},
     "output_type": "execute_result"
    }
   ],
   "source": [
    "cat = [0,0,0,0]\n",
    "for i in labels_cat:\n",
    "    cat += i\n",
    "cat"
   ]
  },
  {
   "cell_type": "code",
   "execution_count": 3,
   "metadata": {
    "ExecuteTime": {
     "end_time": "2018-10-29T08:18:08.964215Z",
     "start_time": "2018-10-29T08:18:07.370508Z"
    }
   },
   "outputs": [
    {
     "name": "stdout",
     "output_type": "stream",
     "text": [
      "(5077, 59, 151, 3)\n",
      "(5077, 4)\n",
      "(2031, 59, 151, 3)\n",
      "(2031, 4)\n",
      "(3043, 59, 151, 3)\n",
      "(3043, 4)\n"
     ]
    }
   ],
   "source": [
    "t_D = []\n",
    "t_L = []\n",
    "v_D = []\n",
    "v_L = []\n",
    "test_D = []\n",
    "test_L = []\n",
    "\n",
    "training = cat[0] * 0.5\n",
    "vali = cat[0] * 0.2 + training\n",
    "counter = 0\n",
    "for i in range(len(labels)):\n",
    "    \n",
    "    if counter < training:\n",
    "        if labels[i] == 0:\n",
    "            counter += 1\n",
    "            t_D.append(data[i])\n",
    "            t_L.append(labels_cat[i])\n",
    "        \n",
    "    elif counter < vali:\n",
    "        if labels[i] == 0:\n",
    "            counter += 1\n",
    "            v_D.append(data[i])\n",
    "            v_L.append(labels_cat[i])\n",
    "    else:\n",
    "        if labels[i] == 0:\n",
    "            counter += 1\n",
    "            test_D.append(data[i])\n",
    "            test_L.append(labels_cat[i])\n",
    "        \n",
    "del training, vali, counter\n",
    "#========================================\n",
    "training = cat[1] * 0.5\n",
    "vali = cat[1] * 0.2 + training\n",
    "counter = 0\n",
    "for i in range(len(labels)):\n",
    "    \n",
    "    if counter < training:\n",
    "        if labels[i] == 1:\n",
    "            counter += 1\n",
    "            t_D.append(data[i])\n",
    "            t_L.append(labels_cat[i])\n",
    "        \n",
    "    elif counter < vali:\n",
    "        if labels[i] == 1:\n",
    "            counter += 1\n",
    "            v_D.append(data[i])\n",
    "            v_L.append(labels_cat[i])\n",
    "    else:\n",
    "        if labels[i] == 1:\n",
    "            counter += 1\n",
    "            test_D.append(data[i])\n",
    "            test_L.append(labels_cat[i])\n",
    "        \n",
    "del training, vali, counter          \n",
    "#========================================\n",
    "training = cat[2] * 0.5\n",
    "vali = cat[2] * 0.2 + training\n",
    "counter = 0\n",
    "for i in range(len(labels)):\n",
    "\n",
    "    if counter < training:\n",
    "        if labels[i] == 2:\n",
    "            counter += 1\n",
    "            t_D.append(data[i])\n",
    "            t_L.append(labels_cat[i])\n",
    "        \n",
    "    elif counter < vali:\n",
    "        if labels[i] == 2:\n",
    "            counter += 1\n",
    "            v_D.append(data[i])\n",
    "            v_L.append(labels_cat[i])\n",
    "    else:\n",
    "        if labels[i] == 2:\n",
    "            counter += 1\n",
    "            test_D.append(data[i])\n",
    "            test_L.append(labels_cat[i])\n",
    "        \n",
    "del training, vali, counter\n",
    "#========================================\n",
    "training = cat[3] * 0.5\n",
    "vali = cat[3] * 0.2 + training\n",
    "counter = 0\n",
    "for i in range(len(labels)):\n",
    "    if counter < training:\n",
    "        if labels[i] == 3:\n",
    "            counter += 1\n",
    "            t_D.append(data[i])\n",
    "            t_L.append(labels_cat[i])\n",
    "        \n",
    "    elif counter < vali:\n",
    "        if labels[i] == 3:\n",
    "            counter += 1\n",
    "            v_D.append(data[i])\n",
    "            v_L.append(labels_cat[i])\n",
    "    else:\n",
    "        if labels[i] == 3:\n",
    "            counter += 1\n",
    "            test_D.append(data[i])\n",
    "            test_L.append(labels_cat[i])\n",
    "        \n",
    "del training, vali, counter\n",
    "#========================================\n",
    "t_D = np.array(t_D)\n",
    "t_L = np.array(t_L)\n",
    "v_D = np.array(v_D)\n",
    "v_L = np.array(v_L)\n",
    "test_D = np.array(test_D)\n",
    "test_L = np.array(test_L)\n",
    "\n",
    "print(t_D.shape)\n",
    "print(t_L.shape)\n",
    "print(v_D.shape)\n",
    "print(v_L.shape)\n",
    "print(test_D.shape)\n",
    "print(test_L.shape)"
   ]
  },
  {
   "cell_type": "code",
   "execution_count": 4,
   "metadata": {
    "ExecuteTime": {
     "end_time": "2018-10-29T08:18:10.832578Z",
     "start_time": "2018-10-29T08:18:08.967448Z"
    },
    "scrolled": true
   },
   "outputs": [
    {
     "name": "stdout",
     "output_type": "stream",
     "text": [
      "_________________________________________________________________\n",
      "Layer (type)                 Output Shape              Param #   \n",
      "=================================================================\n",
      "conv2d_1 (Conv2D)            (None, 59, 151, 64)       1792      \n",
      "_________________________________________________________________\n",
      "batch_normalization_1 (Batch (None, 59, 151, 64)       256       \n",
      "_________________________________________________________________\n",
      "activation_1 (Activation)    (None, 59, 151, 64)       0         \n",
      "_________________________________________________________________\n",
      "conv2d_2 (Conv2D)            (None, 59, 151, 64)       36928     \n",
      "_________________________________________________________________\n",
      "activation_2 (Activation)    (None, 59, 151, 64)       0         \n",
      "_________________________________________________________________\n",
      "max_pooling2d_1 (MaxPooling2 (None, 29, 75, 64)        0         \n",
      "_________________________________________________________________\n",
      "conv2d_3 (Conv2D)            (None, 29, 75, 64)        36928     \n",
      "_________________________________________________________________\n",
      "batch_normalization_2 (Batch (None, 29, 75, 64)        256       \n",
      "_________________________________________________________________\n",
      "activation_3 (Activation)    (None, 29, 75, 64)        0         \n",
      "_________________________________________________________________\n",
      "conv2d_4 (Conv2D)            (None, 29, 75, 64)        36928     \n",
      "_________________________________________________________________\n",
      "activation_4 (Activation)    (None, 29, 75, 64)        0         \n",
      "_________________________________________________________________\n",
      "dropout_1 (Dropout)          (None, 29, 75, 64)        0         \n",
      "_________________________________________________________________\n",
      "max_pooling2d_2 (MaxPooling2 (None, 14, 37, 64)        0         \n",
      "_________________________________________________________________\n",
      "conv2d_5 (Conv2D)            (None, 14, 37, 64)        36928     \n",
      "_________________________________________________________________\n",
      "batch_normalization_3 (Batch (None, 14, 37, 64)        256       \n",
      "_________________________________________________________________\n",
      "activation_5 (Activation)    (None, 14, 37, 64)        0         \n",
      "_________________________________________________________________\n",
      "conv2d_6 (Conv2D)            (None, 14, 37, 64)        36928     \n",
      "_________________________________________________________________\n",
      "activation_6 (Activation)    (None, 14, 37, 64)        0         \n",
      "_________________________________________________________________\n",
      "dropout_2 (Dropout)          (None, 14, 37, 64)        0         \n",
      "_________________________________________________________________\n",
      "max_pooling2d_3 (MaxPooling2 (None, 7, 18, 64)         0         \n",
      "_________________________________________________________________\n",
      "conv2d_7 (Conv2D)            (None, 7, 18, 64)         36928     \n",
      "_________________________________________________________________\n",
      "activation_7 (Activation)    (None, 7, 18, 64)         0         \n",
      "_________________________________________________________________\n",
      "dropout_3 (Dropout)          (None, 7, 18, 64)         0         \n",
      "_________________________________________________________________\n",
      "max_pooling2d_4 (MaxPooling2 (None, 3, 9, 64)          0         \n",
      "_________________________________________________________________\n",
      "flatten_1 (Flatten)          (None, 1728)              0         \n",
      "_________________________________________________________________\n",
      "dense_1 (Dense)              (None, 160)               276640    \n",
      "_________________________________________________________________\n",
      "dropout_4 (Dropout)          (None, 160)               0         \n",
      "_________________________________________________________________\n",
      "dense_2 (Dense)              (None, 32)                5152      \n",
      "_________________________________________________________________\n",
      "dense_3 (Dense)              (None, 4)                 132       \n",
      "=================================================================\n",
      "Total params: 506,052\n",
      "Trainable params: 505,668\n",
      "Non-trainable params: 384\n",
      "_________________________________________________________________\n",
      "None\n"
     ]
    }
   ],
   "source": [
    "from keras.models import Sequential\n",
    "\n",
    "model = Sequential() \n",
    "model.add(Conv2D(filters = 64, kernel_size = 3, padding='same', data_format=\"channels_last\", input_shape = (data.shape[1], data.shape[2], 3)))\n",
    "model.add(BatchNormalization())\n",
    "model.add(Activation('relu'))\n",
    "model.add(Conv2D(filters = 64, kernel_size = 3, padding='same'))\n",
    "# model.add(BatchNormalization())\n",
    "model.add(Activation('relu'))\n",
    "model.add(MaxPooling2D(pool_size = (2,2)))\n",
    "\n",
    "model.add(Conv2D(filters = 64, kernel_size = 3, padding='same'))\n",
    "model.add(BatchNormalization())\n",
    "model.add(Activation('relu'))\n",
    "model.add(Conv2D(filters = 64, kernel_size = 3, padding='same'))\n",
    "# model.add(BatchNormalization())\n",
    "model.add(Activation('relu'))\n",
    "model.add(Dropout(0.3))\n",
    "model.add(MaxPooling2D(pool_size = (2,2)))\n",
    "\n",
    "model.add(Conv2D(filters = 64, kernel_size = 3, padding='same'))\n",
    "model.add(BatchNormalization())\n",
    "model.add(Activation('relu'))\n",
    "model.add(Conv2D(filters = 64, kernel_size = 3, padding='same'))\n",
    "# model.add(BatchNormalization())\n",
    "model.add(Activation('relu'))\n",
    "model.add(Dropout(0.3))\n",
    "model.add(MaxPooling2D(pool_size = (2,2)))\n",
    "\n",
    "model.add(Conv2D(filters = 64, kernel_size = 3, padding='same'))\n",
    "# model.add(BatchNormalization())\n",
    "model.add(Activation('relu'))\n",
    "model.add(Dropout(0.3))\n",
    "model.add(MaxPooling2D(pool_size = (2,2)))\n",
    "\n",
    "\n",
    "model.add(Flatten())\n",
    "model.add(Dense(160, activation = \"relu\"))\n",
    "model.add(Dropout(0.5))\n",
    "model.add(Dense(32, activation = \"relu\"))\n",
    "model.add(Dense(4, activation = \"softmax\"))\n",
    "\n",
    "print(model.summary())"
   ]
  },
  {
   "cell_type": "code",
   "execution_count": 5,
   "metadata": {
    "ExecuteTime": {
     "end_time": "2018-10-29T08:24:26.352066Z",
     "start_time": "2018-10-29T08:18:10.835068Z"
    },
    "scrolled": true
   },
   "outputs": [
    {
     "name": "stdout",
     "output_type": "stream",
     "text": [
      "Train on 5077 samples, validate on 2031 samples\n",
      "Epoch 1/100\n",
      "5077/5077 [==============================] - 14s 3ms/step - loss: 1.0370 - acc: 0.5549 - val_loss: 0.9602 - val_acc: 0.5928\n",
      "Epoch 2/100\n",
      "5077/5077 [==============================] - 8s 2ms/step - loss: 0.8929 - acc: 0.6222 - val_loss: 0.8847 - val_acc: 0.6214\n",
      "Epoch 3/100\n",
      "5077/5077 [==============================] - 8s 2ms/step - loss: 0.8417 - acc: 0.6545 - val_loss: 0.9934 - val_acc: 0.6302\n",
      "Epoch 4/100\n",
      "5077/5077 [==============================] - 8s 2ms/step - loss: 0.7850 - acc: 0.6817 - val_loss: 0.8690 - val_acc: 0.6539\n",
      "Epoch 5/100\n",
      "5077/5077 [==============================] - 8s 2ms/step - loss: 0.7328 - acc: 0.6992 - val_loss: 0.8676 - val_acc: 0.6110\n",
      "Epoch 6/100\n",
      "5077/5077 [==============================] - 8s 2ms/step - loss: 0.7088 - acc: 0.7120 - val_loss: 0.8316 - val_acc: 0.6558\n",
      "Epoch 7/100\n",
      "5077/5077 [==============================] - 8s 2ms/step - loss: 0.6905 - acc: 0.7177 - val_loss: 0.8156 - val_acc: 0.6583\n",
      "Epoch 8/100\n",
      "5077/5077 [==============================] - 8s 2ms/step - loss: 0.6834 - acc: 0.7201 - val_loss: 0.8090 - val_acc: 0.7051\n",
      "Epoch 9/100\n",
      "5077/5077 [==============================] - 8s 2ms/step - loss: 0.6474 - acc: 0.7349 - val_loss: 0.8138 - val_acc: 0.6642\n",
      "Epoch 10/100\n",
      "5077/5077 [==============================] - 8s 2ms/step - loss: 0.6280 - acc: 0.7428 - val_loss: 0.7314 - val_acc: 0.7336\n",
      "Epoch 11/100\n",
      "5077/5077 [==============================] - 9s 2ms/step - loss: 0.6210 - acc: 0.7426 - val_loss: 0.7579 - val_acc: 0.7228\n",
      "Epoch 12/100\n",
      "5077/5077 [==============================] - 8s 2ms/step - loss: 0.5914 - acc: 0.7615 - val_loss: 0.7122 - val_acc: 0.7386\n",
      "Epoch 13/100\n",
      "5077/5077 [==============================] - 9s 2ms/step - loss: 0.5729 - acc: 0.7713 - val_loss: 0.6916 - val_acc: 0.7464\n",
      "Epoch 14/100\n",
      "5077/5077 [==============================] - 9s 2ms/step - loss: 0.5636 - acc: 0.7764 - val_loss: 0.7930 - val_acc: 0.7297\n",
      "Epoch 15/100\n",
      "5077/5077 [==============================] - 8s 2ms/step - loss: 0.5383 - acc: 0.7900 - val_loss: 0.7315 - val_acc: 0.7582\n",
      "Epoch 16/100\n",
      "5077/5077 [==============================] - 8s 2ms/step - loss: 0.5079 - acc: 0.8005 - val_loss: 0.7065 - val_acc: 0.7420\n",
      "Epoch 17/100\n",
      "5077/5077 [==============================] - 8s 2ms/step - loss: 0.5058 - acc: 0.8101 - val_loss: 0.7210 - val_acc: 0.7843\n",
      "Epoch 18/100\n",
      "5077/5077 [==============================] - 9s 2ms/step - loss: 0.4844 - acc: 0.8121 - val_loss: 0.7308 - val_acc: 0.7504\n",
      "Epoch 19/100\n",
      "5077/5077 [==============================] - 8s 2ms/step - loss: 0.4812 - acc: 0.8186 - val_loss: 0.6319 - val_acc: 0.7774\n",
      "Epoch 20/100\n",
      "5077/5077 [==============================] - 8s 2ms/step - loss: 0.4671 - acc: 0.8178 - val_loss: 0.6540 - val_acc: 0.7538\n",
      "Epoch 21/100\n",
      "5077/5077 [==============================] - 8s 2ms/step - loss: 0.4457 - acc: 0.8302 - val_loss: 0.5995 - val_acc: 0.7858\n",
      "Epoch 22/100\n",
      "5077/5077 [==============================] - 9s 2ms/step - loss: 0.4198 - acc: 0.8367 - val_loss: 0.6822 - val_acc: 0.7336\n",
      "Epoch 23/100\n",
      "5077/5077 [==============================] - 8s 2ms/step - loss: 0.4014 - acc: 0.8440 - val_loss: 0.5939 - val_acc: 0.7784\n",
      "Epoch 24/100\n",
      "5077/5077 [==============================] - 8s 2ms/step - loss: 0.3804 - acc: 0.8513 - val_loss: 0.5702 - val_acc: 0.7878\n",
      "Epoch 25/100\n",
      "5077/5077 [==============================] - 9s 2ms/step - loss: 0.3843 - acc: 0.8531 - val_loss: 0.6165 - val_acc: 0.7853\n",
      "Epoch 26/100\n",
      "5077/5077 [==============================] - 8s 2ms/step - loss: 0.3709 - acc: 0.8594 - val_loss: 0.6378 - val_acc: 0.7578\n",
      "Epoch 27/100\n",
      "5077/5077 [==============================] - 9s 2ms/step - loss: 0.3522 - acc: 0.8678 - val_loss: 0.6515 - val_acc: 0.7582\n",
      "Epoch 28/100\n",
      "5077/5077 [==============================] - 8s 2ms/step - loss: 0.3280 - acc: 0.8712 - val_loss: 0.6125 - val_acc: 0.7646\n",
      "Epoch 29/100\n",
      "5077/5077 [==============================] - 9s 2ms/step - loss: 0.3174 - acc: 0.8773 - val_loss: 0.5841 - val_acc: 0.7888\n",
      "Epoch 30/100\n",
      "5077/5077 [==============================] - 8s 2ms/step - loss: 0.3054 - acc: 0.8864 - val_loss: 0.6230 - val_acc: 0.7587\n",
      "Epoch 31/100\n",
      "5077/5077 [==============================] - 8s 2ms/step - loss: 0.2948 - acc: 0.8865 - val_loss: 0.6445 - val_acc: 0.7656\n",
      "Epoch 32/100\n",
      "5077/5077 [==============================] - 8s 2ms/step - loss: 0.2626 - acc: 0.9023 - val_loss: 0.7059 - val_acc: 0.7730\n",
      "Epoch 33/100\n",
      "5077/5077 [==============================] - 8s 2ms/step - loss: 0.2683 - acc: 0.8997 - val_loss: 0.6154 - val_acc: 0.7676\n",
      "Epoch 34/100\n",
      "5077/5077 [==============================] - 8s 2ms/step - loss: 0.2490 - acc: 0.9096 - val_loss: 0.6373 - val_acc: 0.7627\n",
      "Epoch 35/100\n",
      "5077/5077 [==============================] - 8s 2ms/step - loss: 0.2477 - acc: 0.9057 - val_loss: 0.6680 - val_acc: 0.7518\n",
      "Epoch 36/100\n",
      "5077/5077 [==============================] - 8s 2ms/step - loss: 0.2422 - acc: 0.9047 - val_loss: 0.6527 - val_acc: 0.7696\n",
      "Epoch 37/100\n",
      "5077/5077 [==============================] - 8s 1ms/step - loss: 0.2191 - acc: 0.9181 - val_loss: 0.6899 - val_acc: 0.7710\n",
      "Epoch 38/100\n",
      "5077/5077 [==============================] - 8s 2ms/step - loss: 0.2243 - acc: 0.9127 - val_loss: 0.6199 - val_acc: 0.7543\n",
      "Epoch 39/100\n",
      "5077/5077 [==============================] - 8s 2ms/step - loss: 0.1805 - acc: 0.9318 - val_loss: 0.6219 - val_acc: 0.7839\n",
      "Epoch 40/100\n",
      "5077/5077 [==============================] - 8s 1ms/step - loss: 0.1660 - acc: 0.9389 - val_loss: 0.6835 - val_acc: 0.7578\n",
      "Epoch 41/100\n",
      "5077/5077 [==============================] - 8s 1ms/step - loss: 0.1678 - acc: 0.9356 - val_loss: 0.6490 - val_acc: 0.7745\n",
      "Epoch 42/100\n",
      "5077/5077 [==============================] - 8s 1ms/step - loss: 0.1650 - acc: 0.9385 - val_loss: 0.6508 - val_acc: 0.7548\n",
      "Epoch 43/100\n",
      "5077/5077 [==============================] - 8s 2ms/step - loss: 0.1623 - acc: 0.9405 - val_loss: 0.7261 - val_acc: 0.7651\n",
      "Epoch 44/100\n",
      "5077/5077 [==============================] - 8s 2ms/step - loss: 0.1677 - acc: 0.9366 - val_loss: 0.6562 - val_acc: 0.7543\n",
      "3043/3043 [==============================] - 3s 957us/step\n",
      "Loss: 0.667, Accuracy: 0.745\n",
      "Finish training!\n"
     ]
    }
   ],
   "source": [
    "adam = Adam(lr=0.0005)\n",
    "model.compile(optimizer = adam, loss = \"categorical_crossentropy\", metrics=['accuracy'])\n",
    "batch_s = 80\n",
    "early_stop = EarlyStopping(patience=20)\n",
    "train_history = model.fit(x = t_D, \n",
    "                          y = t_L,\n",
    "                          epochs=100,\n",
    "                          validation_data=(v_D, v_L),\n",
    "                          batch_size=batch_s*1,\n",
    "                          callbacks=[early_stop],\n",
    "                          verbose=1)\n",
    "\n",
    "evaluation = model.evaluate(x = test_D, y = test_L)\n",
    "print('Loss: {:.3f}, Accuracy: {:.3f}'.format(evaluation[0], evaluation[1]))\n",
    "print('Finish training!')\n",
    "\n",
    "import pylab as plt\n",
    "def history_display(hist, train, validation):\n",
    "    plt.plot(hist.history[train])\n",
    "    plt.plot(hist.history[validation])\n",
    "    plt.title('Train History')\n",
    "    plt.ylabel(train)\n",
    "    plt.xlabel('Epoch')\n",
    "    plt.legend(['train', 'validation'], loc='upper left')\n",
    "    plt.show\n",
    "    \n",
    "def show_plot(flag, hist):\n",
    "    if flag == 'acc':\n",
    "        history_display(hist, 'acc', 'val_acc')\n",
    "    elif flag == 'loss':\n",
    "        history_display(hist, 'loss', 'val_loss')\n",
    "    else:\n",
    "        print('Invalid!')"
   ]
  },
  {
   "cell_type": "code",
   "execution_count": 6,
   "metadata": {
    "ExecuteTime": {
     "end_time": "2018-10-29T08:24:26.618538Z",
     "start_time": "2018-10-29T08:24:26.354789Z"
    },
    "scrolled": true
   },
   "outputs": [
    {
     "data": {
      "image/png": "[encoded data removed]",
      "text/plain": [
       "<Figure size 432x288 with 1 Axes>"
      ]
     },
     "metadata": {},
     "output_type": "display_data"
    }
   ],
   "source": [
    "show_plot('acc', train_history)"
   ]
  },
  {
   "cell_type": "code",
   "execution_count": 7,
   "metadata": {
    "ExecuteTime": {
     "end_time": "2018-10-29T08:24:26.866508Z",
     "start_time": "2018-10-29T08:24:26.621184Z"
    }
   },
   "outputs": [
    {
     "data": {
      "image/png": "[encoded data removed]",
      "text/plain": [
       "<Figure size 432x288 with 1 Axes>"
      ]
     },
     "metadata": {},
     "output_type": "display_data"
    }
   ],
   "source": [
    "show_plot('loss', train_history)"
   ]
  },
  {
   "cell_type": "code",
   "execution_count": 9,
   "metadata": {
    "ExecuteTime": {
     "end_time": "2018-10-29T08:54:34.859766Z",
     "start_time": "2018-10-29T08:54:34.828119Z"
    }
   },
   "outputs": [],
   "source": [
    "import itertools\n",
    "import pylab as plt\n",
    "def plot_confusion_matrix(cm, classes,\n",
    "                          normalize=False,\n",
    "                          title='Confusion matrix',\n",
    "                          cmap=plt.cm.Blues):\n",
    "    \"\"\"\n",
    "    This function prints and plots the confusion matrix.\n",
    "    Normalization can be applied by setting `normalize=True`.\n",
    "    \"\"\"\n",
    "#     if normalize:\n",
    "#         cm = cm.astype('float') / cm.sum(axis=1)[:, np.newaxis]\n",
    "#         print(\"Normalized confusion matrix\")\n",
    "#     else:\n",
    "#         print('Confusion matrix, without normalization')\n",
    "\n",
    "#     print(cm)\n",
    "\n",
    "    plt.imshow(cm, interpolation='nearest', cmap=cmap)\n",
    "    plt.title(title)\n",
    "    plt.colorbar()\n",
    "    tick_marks = np.arange(len(classes))\n",
    "    plt.xticks(tick_marks, classes, rotation=45)\n",
    "    plt.yticks(tick_marks, classes)\n",
    "\n",
    "    fmt = '.2f' if normalize else 'd'\n",
    "    thresh = cm.max() / 2.\n",
    "    for i, j in itertools.product(range(cm.shape[0]), range(cm.shape[1])):\n",
    "        plt.text(j, i, format(cm[i, j], fmt),\n",
    "                 horizontalalignment=\"center\",\n",
    "                 color=\"white\" if cm[i, j] > thresh else \"black\")\n",
    "\n",
    "    plt.ylabel('True label')\n",
    "    plt.xlabel('Predicted label')\n",
    "    plt.tight_layout()"
   ]
  },
  {
   "cell_type": "code",
   "execution_count": 10,
   "metadata": {
    "ExecuteTime": {
     "end_time": "2018-10-29T08:54:47.034718Z",
     "start_time": "2018-10-29T08:54:36.379602Z"
    }
   },
   "outputs": [
    {
     "data": {
      "image/png": "[encoded data removed]",
      "text/plain": [
       "<Figure size 432x288 with 2 Axes>"
      ]
     },
     "metadata": {},
     "output_type": "display_data"
    }
   ],
   "source": [
    "from sklearn.metrics import confusion_matrix\n",
    "\n",
    "test_prediction = model.predict_classes(test_D, batch_size=1)\n",
    "cnf_matrix = confusion_matrix(np.argmax(test_L, axis=1), test_prediction)\n",
    "plot_confusion_matrix(cnf_matrix, classes=['AF','Noise','Normal','Other'],\n",
    "                      title='Confusion matrix')"
   ]
  }
 ],
 "metadata": {
  "kernelspec": {
   "display_name": "Python 3",
   "language": "python",
   "name": "python3"
  },
  "language_info": {
   "codemirror_mode": {
    "name": "ipython",
    "version": 3
   },
   "file_extension": ".py",
   "mimetype": "text/x-python",
   "name": "python",
   "nbconvert_exporter": "python",
   "pygments_lexer": "ipython3",
   "version": "3.5.2"
  }
 },
 "nbformat": 4,
 "nbformat_minor": 2
}
