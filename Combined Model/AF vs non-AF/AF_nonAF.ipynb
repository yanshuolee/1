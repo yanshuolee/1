{
 "cells": [
  {
   "cell_type": "code",
   "execution_count": 1,
   "metadata": {
    "ExecuteTime": {
     "end_time": "2018-10-14T17:04:54.493747Z",
     "start_time": "2018-10-14T17:04:53.070735Z"
    }
   },
   "outputs": [
    {
     "name": "stderr",
     "output_type": "stream",
     "text": [
      "/usr/local/lib/python3.5/dist-packages/h5py/__init__.py:36: FutureWarning: Conversion of the second argument of issubdtype from `float` to `np.floating` is deprecated. In future, it will be treated as `np.float64 == np.dtype(float).type`.\n",
      "  from ._conv import register_converters as _register_converters\n",
      "Using TensorFlow backend.\n"
     ]
    }
   ],
   "source": [
    "import numpy as np\n",
    "import pandas as pd\n",
    "import os\n",
    "from keras.models import Sequential\n",
    "from keras.layers import Dense, Flatten, Conv1D, MaxPooling1D, AveragePooling1D, Dropout\n",
    "from keras.layers import BatchNormalization, Activation\n",
    "from keras.initializers import VarianceScaling\n",
    "from keras.optimizers import Adam\n",
    "from keras.utils import np_utils, multi_gpu_model\n",
    "import tensorflow as tf\n",
    "from keras.callbacks import TensorBoard, EarlyStopping\n",
    "np.set_printoptions(suppress=True)"
   ]
  },
  {
   "cell_type": "code",
   "execution_count": 2,
   "metadata": {
    "ExecuteTime": {
     "end_time": "2018-10-14T17:04:55.410766Z",
     "start_time": "2018-10-14T17:04:54.495795Z"
    }
   },
   "outputs": [
    {
     "name": "stdout",
     "output_type": "stream",
     "text": [
      "7110\n",
      "7110\n"
     ]
    }
   ],
   "source": [
    "trainD = np.load(\"/home/hsiehch/30s/train_data.npy\")\n",
    "trainL = np.load(\"/home/hsiehch/30s/train_label.npy\")\n",
    "validationD = np.load(\"/home/hsiehch/30s/validation_data.npy\")\n",
    "validationL = np.load(\"/home/hsiehch/30s/validation_label.npy\")\n",
    "testD = np.load(\"/home/hsiehch/30s/test_data.npy\")\n",
    "testL = np.load(\"/home/hsiehch/30s/test_label.npy\")\n",
    "\n",
    "trainD = np.append(trainD, validationD, axis=0)\n",
    "trainL = np.append(trainL, validationL, axis=0)\n",
    "print(len(trainL))\n",
    "for i in range(len(trainL)):\n",
    "    if(trainL[i] != 0):\n",
    "        trainL[i] = 0\n",
    "    else:\n",
    "        trainL[i] = 1\n",
    "for i in range(len(testL)):\n",
    "    if(testL[i] != 0):\n",
    "        testL[i] = 0\n",
    "    else:\n",
    "        testL[i] = 1\n",
    "print(len(trainL))\n",
    "trainData = trainD.reshape((trainD.shape[0], trainD.shape[1], 1))\n",
    "trainLabel = np_utils.to_categorical(trainL, 2)\n",
    "testData = testD.reshape((testD.shape[0], testD.shape[1], 1))\n",
    "testLabel = np_utils.to_categorical(testL, 2)\n"
   ]
  },
  {
   "cell_type": "code",
   "execution_count": 3,
   "metadata": {
    "ExecuteTime": {
     "end_time": "2018-10-14T17:07:56.727710Z",
     "start_time": "2018-10-14T17:04:55.413005Z"
    }
   },
   "outputs": [
    {
     "name": "stdout",
     "output_type": "stream",
     "text": [
      "_________________________________________________________________\n",
      "Layer (type)                 Output Shape              Param #   \n",
      "=================================================================\n",
      "conv1d_1 (Conv1D)            (None, 8994, 32)          256       \n",
      "_________________________________________________________________\n",
      "activation_1 (Activation)    (None, 8994, 32)          0         \n",
      "_________________________________________________________________\n",
      "batch_normalization_1 (Batch (None, 8994, 32)          128       \n",
      "_________________________________________________________________\n",
      "max_pooling1d_1 (MaxPooling1 (None, 4497, 32)          0         \n",
      "_________________________________________________________________\n",
      "conv1d_2 (Conv1D)            (None, 4491, 32)          7200      \n",
      "_________________________________________________________________\n",
      "activation_2 (Activation)    (None, 4491, 32)          0         \n",
      "_________________________________________________________________\n",
      "max_pooling1d_2 (MaxPooling1 (None, 2245, 32)          0         \n",
      "_________________________________________________________________\n",
      "conv1d_3 (Conv1D)            (None, 2239, 64)          14400     \n",
      "_________________________________________________________________\n",
      "activation_3 (Activation)    (None, 2239, 64)          0         \n",
      "_________________________________________________________________\n",
      "max_pooling1d_3 (MaxPooling1 (None, 1119, 64)          0         \n",
      "_________________________________________________________________\n",
      "conv1d_4 (Conv1D)            (None, 1117, 64)          12352     \n",
      "_________________________________________________________________\n",
      "activation_4 (Activation)    (None, 1117, 64)          0         \n",
      "_________________________________________________________________\n",
      "max_pooling1d_4 (MaxPooling1 (None, 558, 64)           0         \n",
      "_________________________________________________________________\n",
      "conv1d_5 (Conv1D)            (None, 556, 128)          24704     \n",
      "_________________________________________________________________\n",
      "activation_5 (Activation)    (None, 556, 128)          0         \n",
      "_________________________________________________________________\n",
      "max_pooling1d_5 (MaxPooling1 (None, 278, 128)          0         \n",
      "_________________________________________________________________\n",
      "conv1d_6 (Conv1D)            (None, 276, 128)          49280     \n",
      "_________________________________________________________________\n",
      "activation_6 (Activation)    (None, 276, 128)          0         \n",
      "_________________________________________________________________\n",
      "max_pooling1d_6 (MaxPooling1 (None, 138, 128)          0         \n",
      "_________________________________________________________________\n",
      "dropout_1 (Dropout)          (None, 138, 128)          0         \n",
      "_________________________________________________________________\n",
      "conv1d_7 (Conv1D)            (None, 136, 256)          98560     \n",
      "_________________________________________________________________\n",
      "activation_7 (Activation)    (None, 136, 256)          0         \n",
      "_________________________________________________________________\n",
      "max_pooling1d_7 (MaxPooling1 (None, 68, 256)           0         \n",
      "_________________________________________________________________\n",
      "conv1d_8 (Conv1D)            (None, 66, 256)           196864    \n",
      "_________________________________________________________________\n",
      "activation_8 (Activation)    (None, 66, 256)           0         \n",
      "_________________________________________________________________\n",
      "max_pooling1d_8 (MaxPooling1 (None, 33, 256)           0         \n",
      "_________________________________________________________________\n",
      "dropout_2 (Dropout)          (None, 33, 256)           0         \n",
      "_________________________________________________________________\n",
      "conv1d_9 (Conv1D)            (None, 31, 512)           393728    \n",
      "_________________________________________________________________\n",
      "activation_9 (Activation)    (None, 31, 512)           0         \n",
      "_________________________________________________________________\n",
      "max_pooling1d_9 (MaxPooling1 (None, 15, 512)           0         \n",
      "_________________________________________________________________\n",
      "conv1d_10 (Conv1D)           (None, 13, 512)           786944    \n",
      "_________________________________________________________________\n",
      "activation_10 (Activation)   (None, 13, 512)           0         \n",
      "_________________________________________________________________\n",
      "max_pooling1d_10 (MaxPooling (None, 6, 512)            0         \n",
      "_________________________________________________________________\n",
      "conv1d_11 (Conv1D)           (None, 4, 512)            786944    \n",
      "_________________________________________________________________\n",
      "activation_11 (Activation)   (None, 4, 512)            0         \n",
      "_________________________________________________________________\n",
      "max_pooling1d_11 (MaxPooling (None, 2, 512)            0         \n",
      "_________________________________________________________________\n",
      "dropout_3 (Dropout)          (None, 2, 512)            0         \n",
      "_________________________________________________________________\n",
      "flatten_1 (Flatten)          (None, 1024)              0         \n",
      "_________________________________________________________________\n",
      "dense_1 (Dense)              (None, 128)               131200    \n",
      "_________________________________________________________________\n",
      "dropout_4 (Dropout)          (None, 128)               0         \n",
      "_________________________________________________________________\n",
      "dense_2 (Dense)              (None, 16)                2064      \n",
      "_________________________________________________________________\n",
      "dense_3 (Dense)              (None, 2)                 34        \n",
      "=================================================================\n",
      "Total params: 2,504,658\n",
      "Trainable params: 2,504,594\n",
      "Non-trainable params: 64\n",
      "_________________________________________________________________\n",
      "None\n",
      "Train on 7110 samples, validate on 3041 samples\n",
      "Epoch 1/25\n",
      "7110/7110 [==============================] - 12s 2ms/step - loss: 0.3364 - acc: 0.9082 - val_loss: 0.2765 - val_acc: 0.9112\n",
      "Epoch 2/25\n",
      "7110/7110 [==============================] - 6s 912us/step - loss: 0.2627 - acc: 0.9110 - val_loss: 0.2308 - val_acc: 0.9112\n",
      "Epoch 3/25\n",
      "7110/7110 [==============================] - 7s 952us/step - loss: 0.2066 - acc: 0.9121 - val_loss: 0.1814 - val_acc: 0.9221\n",
      "Epoch 4/25\n",
      "7110/7110 [==============================] - 7s 942us/step - loss: 0.1767 - acc: 0.9262 - val_loss: 0.1957 - val_acc: 0.8902\n",
      "Epoch 5/25\n",
      "7110/7110 [==============================] - 7s 987us/step - loss: 0.1687 - acc: 0.9293 - val_loss: 0.1512 - val_acc: 0.9290\n",
      "Epoch 6/25\n",
      "7110/7110 [==============================] - 7s 984us/step - loss: 0.1614 - acc: 0.9326 - val_loss: 0.1571 - val_acc: 0.9250\n",
      "Epoch 7/25\n",
      "7110/7110 [==============================] - 7s 988us/step - loss: 0.1611 - acc: 0.9343 - val_loss: 0.1837 - val_acc: 0.9112\n",
      "Epoch 8/25\n",
      "7110/7110 [==============================] - 7s 987us/step - loss: 0.1474 - acc: 0.9378 - val_loss: 0.1642 - val_acc: 0.9237\n",
      "Epoch 9/25\n",
      "7110/7110 [==============================] - 7s 980us/step - loss: 0.1436 - acc: 0.9399 - val_loss: 0.1792 - val_acc: 0.9280\n",
      "Epoch 10/25\n",
      "7110/7110 [==============================] - 7s 983us/step - loss: 0.1441 - acc: 0.9412 - val_loss: 0.1444 - val_acc: 0.9369\n",
      "Epoch 11/25\n",
      "7110/7110 [==============================] - 7s 987us/step - loss: 0.1390 - acc: 0.9463 - val_loss: 0.1975 - val_acc: 0.8961\n",
      "Epoch 12/25\n",
      "7110/7110 [==============================] - 7s 1ms/step - loss: 0.1464 - acc: 0.9435 - val_loss: 0.2138 - val_acc: 0.9135\n",
      "Epoch 13/25\n",
      "7110/7110 [==============================] - 7s 986us/step - loss: 0.1350 - acc: 0.9453 - val_loss: 0.1484 - val_acc: 0.9319\n",
      "Epoch 14/25\n",
      "7110/7110 [==============================] - 7s 994us/step - loss: 0.1342 - acc: 0.9471 - val_loss: 0.1455 - val_acc: 0.9382\n",
      "Epoch 15/25\n",
      "7110/7110 [==============================] - 7s 983us/step - loss: 0.1259 - acc: 0.9509 - val_loss: 0.1659 - val_acc: 0.9122\n",
      "Epoch 16/25\n",
      "7110/7110 [==============================] - 7s 990us/step - loss: 0.1363 - acc: 0.9459 - val_loss: 0.1521 - val_acc: 0.9306\n",
      "Epoch 17/25\n"
     ]
    },
    {
     "name": "stdout",
     "output_type": "stream",
     "text": [
      "7110/7110 [==============================] - 7s 986us/step - loss: 0.1261 - acc: 0.9495 - val_loss: 0.1904 - val_acc: 0.8898\n",
      "Epoch 18/25\n",
      "7110/7110 [==============================] - 7s 978us/step - loss: 0.1312 - acc: 0.9480 - val_loss: 0.1541 - val_acc: 0.9227\n",
      "Epoch 19/25\n",
      "7110/7110 [==============================] - 7s 986us/step - loss: 0.1201 - acc: 0.9513 - val_loss: 0.1481 - val_acc: 0.9382\n",
      "Epoch 20/25\n",
      "7110/7110 [==============================] - 7s 986us/step - loss: 0.1217 - acc: 0.9533 - val_loss: 0.1733 - val_acc: 0.9188\n",
      "Epoch 21/25\n",
      "7110/7110 [==============================] - 7s 976us/step - loss: 0.1188 - acc: 0.9532 - val_loss: 0.1531 - val_acc: 0.9300\n",
      "Epoch 22/25\n",
      "7110/7110 [==============================] - 7s 981us/step - loss: 0.1216 - acc: 0.9532 - val_loss: 0.1755 - val_acc: 0.9106\n",
      "Epoch 23/25\n",
      "7110/7110 [==============================] - 7s 992us/step - loss: 0.1166 - acc: 0.9526 - val_loss: 0.1542 - val_acc: 0.9273\n",
      "Epoch 24/25\n",
      "7110/7110 [==============================] - 7s 955us/step - loss: 0.1113 - acc: 0.9570 - val_loss: 0.1407 - val_acc: 0.9372\n",
      "Epoch 25/25\n",
      "7110/7110 [==============================] - 7s 954us/step - loss: 0.1096 - acc: 0.9572 - val_loss: 0.1556 - val_acc: 0.9326\n"
     ]
    }
   ],
   "source": [
    "model = Sequential()\n",
    "model.add(Conv1D(filters = 32, kernel_size = 7, input_shape = (trainData.shape[1], 1)))\n",
    "model.add(Activation('relu'))\n",
    "model.add(BatchNormalization())\n",
    "model.add(MaxPooling1D(pool_size = 2))\n",
    "\n",
    "model.add(Conv1D(filters = 32, kernel_size = 7))\n",
    "model.add(Activation('relu'))\n",
    "model.add(MaxPooling1D(pool_size = 2))\n",
    "\n",
    "model.add(Conv1D(filters = 64, kernel_size = 7))\n",
    "model.add(Activation('relu'))\n",
    "model.add(MaxPooling1D(pool_size = 2))\n",
    "\n",
    "model.add(Conv1D(filters = 64, kernel_size = 3))\n",
    "model.add(Activation('relu'))\n",
    "model.add(MaxPooling1D(pool_size = 2))\n",
    "\n",
    "model.add(Conv1D(filters = 128, kernel_size = 3))\n",
    "model.add(Activation('relu'))\n",
    "model.add(MaxPooling1D(pool_size = 2))\n",
    "\n",
    "model.add(Conv1D(filters = 128, kernel_size = 3))\n",
    "model.add(Activation('relu'))\n",
    "model.add(MaxPooling1D(pool_size = 2))\n",
    "model.add(Dropout(0.5))\n",
    "\n",
    "model.add(Conv1D(filters = 256, kernel_size = 3))\n",
    "model.add(Activation('relu'))\n",
    "model.add(MaxPooling1D(pool_size = 2))\n",
    "\n",
    "\n",
    "model.add(Conv1D(filters = 256, kernel_size = 3))\n",
    "model.add(Activation('relu'))\n",
    "model.add(MaxPooling1D(pool_size = 2))\n",
    "model.add(Dropout(0.5))\n",
    "\n",
    "model.add(Conv1D(filters = 512, kernel_size = 3))\n",
    "model.add(Activation('relu'))\n",
    "model.add(MaxPooling1D(pool_size = 2))\n",
    "\n",
    "model.add(Conv1D(filters = 512, kernel_size = 3))\n",
    "model.add(Activation('relu'))\n",
    "model.add(MaxPooling1D(pool_size = 2))\n",
    "\n",
    "model.add(Conv1D(filters = 512, kernel_size = 3))\n",
    "model.add(Activation('relu'))\n",
    "model.add(MaxPooling1D(pool_size = 2))\n",
    "model.add(Dropout(0.5))\n",
    "\n",
    "model.add(Flatten())\n",
    "model.add(Dense(128, activation = 'relu'))\n",
    "model.add(Dropout(0.5))\n",
    "model.add(Dense(16, activation = 'relu'))\n",
    "model.add(Dense(2, activation = \"sigmoid\"))\n",
    "\n",
    "print(model.summary())\n",
    "\n",
    "\n",
    "adam = Adam(lr = 0.001)\n",
    "model.compile(optimizer = adam, loss = \"categorical_crossentropy\", metrics=['accuracy'])\n",
    "train_history_1 = model.fit(x = trainData,\n",
    "                            y = trainLabel,\n",
    "                            epochs=25,\n",
    "                            validation_data=(testData, testLabel),\n",
    "                            batch_size=70, \n",
    "                            verbose=1)\n",
    "\n",
    "model.save('AF_nonAF_tst.h5')"
   ]
  },
  {
   "cell_type": "code",
   "execution_count": 4,
   "metadata": {
    "ExecuteTime": {
     "end_time": "2018-10-14T17:07:56.899894Z",
     "start_time": "2018-10-14T17:07:56.731483Z"
    }
   },
   "outputs": [],
   "source": [
    "import pylab as plt\n",
    "def history_display(hist, train, validation):\n",
    "    plt.plot(hist.history[train])\n",
    "    plt.plot(hist.history[validation])\n",
    "    plt.title('Train History')\n",
    "    plt.ylabel(train)\n",
    "    plt.xlabel('Epoch')\n",
    "    plt.legend(['train', 'validation'], loc='upper left')\n",
    "    plt.show\n",
    "    \n",
    "def show_plot(flag, hist):\n",
    "    if flag == 'acc':\n",
    "        history_display(hist, 'acc', 'val_acc')\n",
    "    elif flag == 'loss':\n",
    "        history_display(hist, 'loss', 'val_loss')\n",
    "    else:\n",
    "        print('Invalid!')"
   ]
  },
  {
   "cell_type": "code",
   "execution_count": 5,
   "metadata": {
    "ExecuteTime": {
     "end_time": "2018-10-14T17:07:57.115652Z",
     "start_time": "2018-10-14T17:07:56.902406Z"
    }
   },
   "outputs": [
    {
     "data": {
      "image/png": "[encoded data removed]",
      "text/plain": [
       "<Figure size 432x288 with 1 Axes>"
      ]
     },
     "metadata": {},
     "output_type": "display_data"
    }
   ],
   "source": [
    "show_plot('acc', train_history_1)"
   ]
  },
  {
   "cell_type": "code",
   "execution_count": 6,
   "metadata": {
    "ExecuteTime": {
     "end_time": "2018-10-14T17:07:57.305358Z",
     "start_time": "2018-10-14T17:07:57.117698Z"
    }
   },
   "outputs": [
    {
     "data": {
      "image/png": "[encoded data removed]",
      "text/plain": [
       "<Figure size 432x288 with 1 Axes>"
      ]
     },
     "metadata": {},
     "output_type": "display_data"
    }
   ],
   "source": [
    "show_plot('loss', train_history_1)"
   ]
  },
  {
   "cell_type": "code",
   "execution_count": 7,
   "metadata": {
    "ExecuteTime": {
     "end_time": "2018-10-14T17:07:58.568802Z",
     "start_time": "2018-10-14T17:07:57.307729Z"
    }
   },
   "outputs": [
    {
     "name": "stdout",
     "output_type": "stream",
     "text": [
      "3041/3041 [==============================] - 1s 412us/step\n",
      "Loss: 0.156, Accuracy: 0.933\n"
     ]
    }
   ],
   "source": [
    "evaluation = model.evaluate(x = testData, y = testLabel)\n",
    "print('Loss: {:.3f}, Accuracy: {:.3f}'.format(evaluation[0], evaluation[1]))"
   ]
  },
  {
   "cell_type": "code",
   "execution_count": 8,
   "metadata": {
    "ExecuteTime": {
     "end_time": "2018-10-14T17:07:58.593631Z",
     "start_time": "2018-10-14T17:07:58.572039Z"
    }
   },
   "outputs": [],
   "source": [
    "import itertools\n",
    "import pylab as plt\n",
    "\n",
    "\n",
    "def plot_confusion_matrix(cm, classes,\n",
    "                          normalize=False,\n",
    "                          title='Confusion matrix',\n",
    "                          cmap=plt.cm.Blues):\n",
    "    \"\"\"\n",
    "    This function prints and plots the confusion matrix.\n",
    "    Normalization can be applied by setting `normalize=True`.\n",
    "    \"\"\"\n",
    "\n",
    "    plt.imshow(cm, interpolation='nearest', cmap=cmap)\n",
    "    plt.title(title)\n",
    "    plt.colorbar()\n",
    "    tick_marks = np.arange(len(classes))\n",
    "    plt.xticks(tick_marks, classes, rotation=45)\n",
    "    plt.yticks(tick_marks, classes)\n",
    "\n",
    "    fmt = '.2f' if normalize else 'd'\n",
    "    thresh = cm.max() / 2.\n",
    "    for i, j in itertools.product(range(cm.shape[0]), range(cm.shape[1])):\n",
    "        plt.text(j, i, format(cm[i, j], fmt),\n",
    "                 horizontalalignment=\"center\",\n",
    "                 color=\"white\" if cm[i, j] > thresh else \"black\")\n",
    "\n",
    "    plt.ylabel('True label')\n",
    "    plt.xlabel('Predicted label')\n",
    "    plt.tight_layout()"
   ]
  },
  {
   "cell_type": "code",
   "execution_count": 9,
   "metadata": {
    "ExecuteTime": {
     "end_time": "2018-10-14T17:08:14.424565Z",
     "start_time": "2018-10-14T17:07:58.596581Z"
    }
   },
   "outputs": [
    {
     "data": {
      "image/png": "[encoded data removed]",
      "text/plain": [
       "<Figure size 432x288 with 2 Axes>"
      ]
     },
     "metadata": {},
     "output_type": "display_data"
    }
   ],
   "source": [
    "from sklearn.metrics import confusion_matrix\n",
    "test_prediction = model.predict_classes(testData, batch_size=1)\n",
    "cnf_matrix = confusion_matrix(testL, test_prediction)\n",
    "plot_confusion_matrix(cnf_matrix, classes=['non-AF','AF'],\n",
    "                      title='Confusion matrix')"
   ]
  }
 ],
 "metadata": {
  "kernelspec": {
   "display_name": "Python 3",
   "language": "python",
   "name": "python3"
  },
  "language_info": {
   "codemirror_mode": {
    "name": "ipython",
    "version": 3
   },
   "file_extension": ".py",
   "mimetype": "text/x-python",
   "name": "python",
   "nbconvert_exporter": "python",
   "pygments_lexer": "ipython3",
   "version": "3.5.2"
  }
 },
 "nbformat": 4,
 "nbformat_minor": 2
}
