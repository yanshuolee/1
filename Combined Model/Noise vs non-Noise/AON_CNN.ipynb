{
 "cells": [
  {
   "cell_type": "code",
   "execution_count": 1,
   "metadata": {
    "ExecuteTime": {
     "end_time": "2018-10-14T09:11:02.146110Z",
     "start_time": "2018-10-14T09:11:00.424014Z"
    }
   },
   "outputs": [
    {
     "name": "stderr",
     "output_type": "stream",
     "text": [
      "/usr/local/lib/python3.5/dist-packages/h5py/__init__.py:36: FutureWarning: Conversion of the second argument of issubdtype from `float` to `np.floating` is deprecated. In future, it will be treated as `np.float64 == np.dtype(float).type`.\n",
      "  from ._conv import register_converters as _register_converters\n",
      "Using TensorFlow backend.\n"
     ]
    }
   ],
   "source": [
    "import numpy as np\n",
    "import pandas as pd\n",
    "import os\n",
    "from keras.models import Sequential\n",
    "from keras.layers import Dense, Flatten, Conv1D, MaxPooling1D, AveragePooling1D, Dropout\n",
    "from keras.layers import BatchNormalization, Activation\n",
    "from keras.initializers import VarianceScaling\n",
    "from keras.optimizers import Adam\n",
    "from keras.utils import np_utils, multi_gpu_model\n",
    "import tensorflow as tf\n",
    "from keras.callbacks import EarlyStopping"
   ]
  },
  {
   "cell_type": "code",
   "execution_count": 2,
   "metadata": {
    "ExecuteTime": {
     "end_time": "2018-10-14T09:11:03.463222Z",
     "start_time": "2018-10-14T09:11:02.149867Z"
    }
   },
   "outputs": [
    {
     "name": "stdout",
     "output_type": "stream",
     "text": [
      "7110\n",
      "train ok\n",
      "test ok\n"
     ]
    }
   ],
   "source": [
    "\n",
    "np.set_printoptions(suppress=True)\n",
    "\n",
    "trainD = np.load(\"/home/hsiehch/30s/train_data.npy\")\n",
    "trainL = np.load(\"/home/hsiehch/30s/train_label.npy\")\n",
    "validationD = np.load(\"/home/hsiehch/30s/validation_data.npy\")\n",
    "validationL = np.load(\"/home/hsiehch/30s/validation_label.npy\")\n",
    "testD = np.load(\"/home/hsiehch/30s/test_data.npy\")\n",
    "testL = np.load(\"/home/hsiehch/30s/test_label.npy\")\n",
    "\n",
    "trainD = np.append(trainD, validationD, axis=0)\n",
    "trainL = np.append(trainL, validationL, axis=0)\n",
    "\n",
    "AONtrainD = []\n",
    "AONtrainL = []\n",
    "AONtestD = []\n",
    "AONtestL = []\n",
    "\n",
    "oneis = 0\n",
    "twous = 0\n",
    "print(len(trainL))\n",
    "for i in range(len(trainL)):\n",
    "    if(trainL[i] != 1):\n",
    "        if(trainL[i] == 2):\n",
    "            trainL[i] = 1\n",
    "        if(trainL[i] == 3):\n",
    "            trainL[i] = 2\n",
    "        \n",
    "        AONtrainD.append(trainD[i])\n",
    "        AONtrainL.append(trainL[i])\n",
    "\n",
    "\n",
    "print(\"train ok\")\n",
    "for i in range(len(testL)):\n",
    "    if(testL[i] != 1):\n",
    "        if(testL[i] == 2):\n",
    "            testL[i] = 1\n",
    "        if(testL[i] == 3):\n",
    "            testL[i] = 2\n",
    "        \n",
    "        AONtestD.append(testD[i])\n",
    "        AONtestL.append(testL[i]) \n",
    "\n",
    "AONtrainD = np.array(AONtrainD)\n",
    "AONtrainL = np.array(AONtrainL)\n",
    "AONtestD = np.array(AONtestD)\n",
    "AONtestL = np.array(AONtestL)\n",
    "        \n",
    "print(\"test ok\")"
   ]
  },
  {
   "cell_type": "code",
   "execution_count": 3,
   "metadata": {
    "ExecuteTime": {
     "end_time": "2018-10-14T09:11:03.472112Z",
     "start_time": "2018-10-14T09:11:03.465229Z"
    }
   },
   "outputs": [
    {
     "name": "stdout",
     "output_type": "stream",
     "text": [
      "[[[ 0.519]\n",
      "  [ 0.619]\n",
      "  [ 0.723]\n",
      "  ...\n",
      "  [ 0.116]\n",
      "  [ 0.017]\n",
      "  [ 0.018]]\n",
      "\n",
      " [[-0.188]\n",
      "  [-0.239]\n",
      "  [-0.274]\n",
      "  ...\n",
      "  [-0.077]\n",
      "  [-0.077]\n",
      "  [-0.078]]\n",
      "\n",
      " [[-0.079]\n",
      "  [-0.079]\n",
      "  [-0.079]\n",
      "  ...\n",
      "  [-0.093]\n",
      "  [-0.057]\n",
      "  [ 0.   ]]\n",
      "\n",
      " ...\n",
      "\n",
      " [[-0.155]\n",
      "  [-0.146]\n",
      "  [-0.136]\n",
      "  ...\n",
      "  [ 0.013]\n",
      "  [ 0.007]\n",
      "  [ 0.003]]\n",
      "\n",
      " [[-0.004]\n",
      "  [-0.005]\n",
      "  [-0.006]\n",
      "  ...\n",
      "  [-0.098]\n",
      "  [-0.102]\n",
      "  [-0.106]]\n",
      "\n",
      " [[-0.03 ]\n",
      "  [ 0.076]\n",
      "  [ 0.222]\n",
      "  ...\n",
      "  [-0.117]\n",
      "  [-0.07 ]\n",
      "  [-0.039]]]\n",
      "(6900, 3)\n"
     ]
    }
   ],
   "source": [
    "trainData = AONtrainD.reshape((AONtrainD.shape[0], AONtrainD.shape[1], 1))\n",
    "trainLabel = np_utils.to_categorical(AONtrainL, 3)\n",
    "testData = AONtestD.reshape((AONtestD.shape[0], AONtestD.shape[1], 1))\n",
    "testLabel = np_utils.to_categorical(AONtestL, 3)\n"
   ]
  },
  {
   "cell_type": "code",
   "execution_count": 4,
   "metadata": {
    "ExecuteTime": {
     "end_time": "2018-10-14T09:11:03.488652Z",
     "start_time": "2018-10-14T09:11:03.473783Z"
    }
   },
   "outputs": [
    {
     "data": {
      "text/plain": [
       "(2952, 9000, 1)"
      ]
     },
     "execution_count": 4,
     "metadata": {},
     "output_type": "execute_result"
    }
   ],
   "source": [
    "testData.shape"
   ]
  },
  {
   "cell_type": "code",
   "execution_count": 5,
   "metadata": {
    "ExecuteTime": {
     "end_time": "2018-10-14T09:15:22.748639Z",
     "start_time": "2018-10-14T09:11:03.490374Z"
    }
   },
   "outputs": [
    {
     "name": "stdout",
     "output_type": "stream",
     "text": [
      "_________________________________________________________________\n",
      "Layer (type)                 Output Shape              Param #   \n",
      "=================================================================\n",
      "conv1d_1 (Conv1D)            (None, 8994, 32)          256       \n",
      "_________________________________________________________________\n",
      "activation_1 (Activation)    (None, 8994, 32)          0         \n",
      "_________________________________________________________________\n",
      "batch_normalization_1 (Batch (None, 8994, 32)          128       \n",
      "_________________________________________________________________\n",
      "max_pooling1d_1 (MaxPooling1 (None, 4497, 32)          0         \n",
      "_________________________________________________________________\n",
      "conv1d_2 (Conv1D)            (None, 4491, 32)          7200      \n",
      "_________________________________________________________________\n",
      "activation_2 (Activation)    (None, 4491, 32)          0         \n",
      "_________________________________________________________________\n",
      "max_pooling1d_2 (MaxPooling1 (None, 2245, 32)          0         \n",
      "_________________________________________________________________\n",
      "conv1d_3 (Conv1D)            (None, 2239, 64)          14400     \n",
      "_________________________________________________________________\n",
      "activation_3 (Activation)    (None, 2239, 64)          0         \n",
      "_________________________________________________________________\n",
      "max_pooling1d_3 (MaxPooling1 (None, 1119, 64)          0         \n",
      "_________________________________________________________________\n",
      "conv1d_4 (Conv1D)            (None, 1117, 64)          12352     \n",
      "_________________________________________________________________\n",
      "activation_4 (Activation)    (None, 1117, 64)          0         \n",
      "_________________________________________________________________\n",
      "max_pooling1d_4 (MaxPooling1 (None, 558, 64)           0         \n",
      "_________________________________________________________________\n",
      "conv1d_5 (Conv1D)            (None, 556, 128)          24704     \n",
      "_________________________________________________________________\n",
      "activation_5 (Activation)    (None, 556, 128)          0         \n",
      "_________________________________________________________________\n",
      "max_pooling1d_5 (MaxPooling1 (None, 278, 128)          0         \n",
      "_________________________________________________________________\n",
      "conv1d_6 (Conv1D)            (None, 276, 128)          49280     \n",
      "_________________________________________________________________\n",
      "activation_6 (Activation)    (None, 276, 128)          0         \n",
      "_________________________________________________________________\n",
      "max_pooling1d_6 (MaxPooling1 (None, 138, 128)          0         \n",
      "_________________________________________________________________\n",
      "dropout_1 (Dropout)          (None, 138, 128)          0         \n",
      "_________________________________________________________________\n",
      "conv1d_7 (Conv1D)            (None, 136, 256)          98560     \n",
      "_________________________________________________________________\n",
      "activation_7 (Activation)    (None, 136, 256)          0         \n",
      "_________________________________________________________________\n",
      "max_pooling1d_7 (MaxPooling1 (None, 68, 256)           0         \n",
      "_________________________________________________________________\n",
      "conv1d_8 (Conv1D)            (None, 66, 256)           196864    \n",
      "_________________________________________________________________\n",
      "activation_8 (Activation)    (None, 66, 256)           0         \n",
      "_________________________________________________________________\n",
      "max_pooling1d_8 (MaxPooling1 (None, 33, 256)           0         \n",
      "_________________________________________________________________\n",
      "conv1d_9 (Conv1D)            (None, 31, 256)           196864    \n",
      "_________________________________________________________________\n",
      "activation_9 (Activation)    (None, 31, 256)           0         \n",
      "_________________________________________________________________\n",
      "max_pooling1d_9 (MaxPooling1 (None, 15, 256)           0         \n",
      "_________________________________________________________________\n",
      "dropout_2 (Dropout)          (None, 15, 256)           0         \n",
      "_________________________________________________________________\n",
      "conv1d_10 (Conv1D)           (None, 13, 512)           393728    \n",
      "_________________________________________________________________\n",
      "activation_10 (Activation)   (None, 13, 512)           0         \n",
      "_________________________________________________________________\n",
      "max_pooling1d_10 (MaxPooling (None, 6, 512)            0         \n",
      "_________________________________________________________________\n",
      "dropout_3 (Dropout)          (None, 6, 512)            0         \n",
      "_________________________________________________________________\n",
      "conv1d_11 (Conv1D)           (None, 4, 512)            786944    \n",
      "_________________________________________________________________\n",
      "activation_11 (Activation)   (None, 4, 512)            0         \n",
      "_________________________________________________________________\n",
      "flatten_1 (Flatten)          (None, 2048)              0         \n",
      "_________________________________________________________________\n",
      "dense_1 (Dense)              (None, 128)               262272    \n",
      "_________________________________________________________________\n",
      "dropout_4 (Dropout)          (None, 128)               0         \n",
      "_________________________________________________________________\n",
      "dense_2 (Dense)              (None, 32)                4128      \n",
      "_________________________________________________________________\n",
      "dense_3 (Dense)              (None, 3)                 99        \n",
      "=================================================================\n",
      "Total params: 2,047,779\n",
      "Trainable params: 2,047,715\n",
      "Non-trainable params: 64\n",
      "_________________________________________________________________\n",
      "None\n",
      "Train on 6900 samples, validate on 2952 samples\n",
      "Epoch 1/40\n",
      "6900/6900 [==============================] - 12s 2ms/step - loss: 0.9073 - acc: 0.6006 - val_loss: 0.8927 - val_acc: 0.6054\n",
      "Epoch 2/40\n",
      "6900/6900 [==============================] - 6s 874us/step - loss: 0.8556 - acc: 0.6045 - val_loss: 0.8029 - val_acc: 0.6054\n",
      "Epoch 3/40\n",
      "6900/6900 [==============================] - 6s 872us/step - loss: 0.7637 - acc: 0.6442 - val_loss: 0.7404 - val_acc: 0.6643\n",
      "Epoch 4/40\n",
      "6900/6900 [==============================] - 6s 871us/step - loss: 0.6905 - acc: 0.6906 - val_loss: 0.6598 - val_acc: 0.7066\n",
      "Epoch 5/40\n",
      "6900/6900 [==============================] - 6s 905us/step - loss: 0.6124 - acc: 0.7365 - val_loss: 0.5896 - val_acc: 0.7527\n",
      "Epoch 6/40\n",
      "6900/6900 [==============================] - 6s 930us/step - loss: 0.5702 - acc: 0.7648 - val_loss: 0.6161 - val_acc: 0.7734\n",
      "Epoch 7/40\n",
      "6900/6900 [==============================] - 6s 927us/step - loss: 0.5304 - acc: 0.7784 - val_loss: 0.5390 - val_acc: 0.7849\n",
      "Epoch 8/40\n",
      "6900/6900 [==============================] - 6s 938us/step - loss: 0.5122 - acc: 0.7909 - val_loss: 0.5199 - val_acc: 0.7862\n",
      "Epoch 9/40\n",
      "6900/6900 [==============================] - 6s 922us/step - loss: 0.4930 - acc: 0.8054 - val_loss: 0.5146 - val_acc: 0.8008\n",
      "Epoch 10/40\n",
      "6900/6900 [==============================] - 6s 921us/step - loss: 0.4624 - acc: 0.8216 - val_loss: 0.4827 - val_acc: 0.8147\n",
      "Epoch 11/40\n",
      "6900/6900 [==============================] - 6s 933us/step - loss: 0.4533 - acc: 0.8299 - val_loss: 0.4619 - val_acc: 0.8272\n",
      "Epoch 12/40\n",
      "6900/6900 [==============================] - 6s 931us/step - loss: 0.4387 - acc: 0.8303 - val_loss: 0.4952 - val_acc: 0.8117\n",
      "Epoch 13/40\n",
      "6900/6900 [==============================] - 6s 913us/step - loss: 0.4249 - acc: 0.8393 - val_loss: 0.4798 - val_acc: 0.8232\n",
      "Epoch 14/40\n",
      "6900/6900 [==============================] - 6s 912us/step - loss: 0.4172 - acc: 0.8417 - val_loss: 0.4920 - val_acc: 0.8086\n",
      "Epoch 15/40\n",
      "6900/6900 [==============================] - 6s 882us/step - loss: 0.4014 - acc: 0.8532 - val_loss: 0.4518 - val_acc: 0.8323\n",
      "Epoch 16/40\n",
      "6900/6900 [==============================] - 6s 933us/step - loss: 0.4083 - acc: 0.8486 - val_loss: 0.4330 - val_acc: 0.8252\n",
      "Epoch 17/40\n",
      "6900/6900 [==============================] - 6s 900us/step - loss: 0.3873 - acc: 0.8593 - val_loss: 0.4410 - val_acc: 0.8384\n",
      "Epoch 18/40\n",
      "6900/6900 [==============================] - 6s 930us/step - loss: 0.3864 - acc: 0.8594 - val_loss: 0.4665 - val_acc: 0.8232\n",
      "Epoch 19/40\n",
      "6900/6900 [==============================] - 6s 869us/step - loss: 0.3824 - acc: 0.8616 - val_loss: 0.4500 - val_acc: 0.8259\n",
      "Epoch 20/40\n",
      "6900/6900 [==============================] - 6s 903us/step - loss: 0.3648 - acc: 0.8684 - val_loss: 0.4372 - val_acc: 0.8347\n",
      "Epoch 21/40\n",
      "6900/6900 [==============================] - 6s 875us/step - loss: 0.3596 - acc: 0.8699 - val_loss: 0.4606 - val_acc: 0.8320\n",
      "Epoch 22/40\n",
      "6900/6900 [==============================] - 7s 976us/step - loss: 0.3532 - acc: 0.8722 - val_loss: 0.4535 - val_acc: 0.8425\n",
      "Epoch 23/40\n",
      "6900/6900 [==============================] - 6s 939us/step - loss: 0.3479 - acc: 0.8774 - val_loss: 0.4673 - val_acc: 0.8269\n",
      "Epoch 24/40\n",
      "6900/6900 [==============================] - 6s 890us/step - loss: 0.3462 - acc: 0.8774 - val_loss: 0.4685 - val_acc: 0.8350\n",
      "Epoch 25/40\n",
      "6900/6900 [==============================] - 6s 915us/step - loss: 0.3364 - acc: 0.8797 - val_loss: 0.4970 - val_acc: 0.8103\n",
      "Epoch 26/40\n",
      "6900/6900 [==============================] - 6s 935us/step - loss: 0.3337 - acc: 0.8800 - val_loss: 0.4598 - val_acc: 0.8215\n",
      "Epoch 27/40\n",
      "6900/6900 [==============================] - 6s 924us/step - loss: 0.3312 - acc: 0.8799 - val_loss: 0.4476 - val_acc: 0.8408\n",
      "Epoch 28/40\n",
      "6900/6900 [==============================] - 6s 876us/step - loss: 0.3296 - acc: 0.8794 - val_loss: 0.4880 - val_acc: 0.8252\n",
      "Epoch 29/40\n",
      "6900/6900 [==============================] - 6s 916us/step - loss: 0.3143 - acc: 0.8848 - val_loss: 0.4325 - val_acc: 0.8404\n",
      "Epoch 30/40\n",
      "6900/6900 [==============================] - 6s 898us/step - loss: 0.3165 - acc: 0.8864 - val_loss: 0.4436 - val_acc: 0.8337\n",
      "Epoch 31/40\n",
      "6900/6900 [==============================] - 6s 924us/step - loss: 0.3087 - acc: 0.8894 - val_loss: 0.4462 - val_acc: 0.8272\n",
      "Epoch 32/40\n",
      "6900/6900 [==============================] - 6s 914us/step - loss: 0.2972 - acc: 0.8906 - val_loss: 0.4629 - val_acc: 0.8286\n",
      "Epoch 33/40\n",
      "6900/6900 [==============================] - 6s 917us/step - loss: 0.3068 - acc: 0.8913 - val_loss: 0.4521 - val_acc: 0.8279\n",
      "Epoch 34/40\n",
      "6900/6900 [==============================] - 6s 885us/step - loss: 0.2890 - acc: 0.8943 - val_loss: 0.5035 - val_acc: 0.8137\n",
      "Epoch 35/40\n",
      "6900/6900 [==============================] - 6s 860us/step - loss: 0.3003 - acc: 0.8925 - val_loss: 0.4522 - val_acc: 0.8313\n",
      "Epoch 36/40\n",
      "6900/6900 [==============================] - 6s 910us/step - loss: 0.2838 - acc: 0.9014 - val_loss: 0.4791 - val_acc: 0.8238\n",
      "Epoch 37/40\n",
      "6900/6900 [==============================] - 6s 864us/step - loss: 0.2925 - acc: 0.8923 - val_loss: 0.4896 - val_acc: 0.8303\n",
      "Epoch 38/40\n",
      "6900/6900 [==============================] - 6s 891us/step - loss: 0.2863 - acc: 0.8946 - val_loss: 0.4767 - val_acc: 0.8252\n",
      "Epoch 39/40\n",
      "6900/6900 [==============================] - 6s 917us/step - loss: 0.2885 - acc: 0.8986 - val_loss: 0.4588 - val_acc: 0.8299\n",
      "Epoch 40/40\n",
      "6900/6900 [==============================] - 6s 868us/step - loss: 0.2716 - acc: 0.9048 - val_loss: 0.4510 - val_acc: 0.8377\n"
     ]
    }
   ],
   "source": [
    "model = Sequential()\n",
    "model.add(Conv1D(filters = 32, kernel_size = 7, input_shape = (trainData.shape[1], 1)))\n",
    "model.add(Activation('relu'))\n",
    "model.add(BatchNormalization())\n",
    "model.add(MaxPooling1D(pool_size = 2))\n",
    "\n",
    "\n",
    "model.add(Conv1D(filters = 32, kernel_size = 7))\n",
    "model.add(Activation('relu'))\n",
    "model.add(MaxPooling1D(pool_size = 2))\n",
    "\n",
    "model.add(Conv1D(filters = 64, kernel_size = 7))\n",
    "model.add(Activation('relu'))\n",
    "model.add(MaxPooling1D(pool_size = 2))\n",
    "\n",
    "\n",
    "model.add(Conv1D(filters = 64, kernel_size = 3))\n",
    "model.add(Activation('relu'))\n",
    "model.add(MaxPooling1D(pool_size = 2))\n",
    "\n",
    "\n",
    "model.add(Conv1D(filters = 128, kernel_size = 3))\n",
    "model.add(Activation('relu'))\n",
    "model.add(MaxPooling1D(pool_size = 2))\n",
    "\n",
    "\n",
    "model.add(Conv1D(filters = 128, kernel_size = 3))\n",
    "model.add(Activation('relu'))\n",
    "model.add(MaxPooling1D(pool_size = 2))\n",
    "model.add(Dropout(0.5))\n",
    "\n",
    "\n",
    "model.add(Conv1D(filters = 256, kernel_size = 3))\n",
    "model.add(Activation('relu'))\n",
    "model.add(MaxPooling1D(pool_size = 2))\n",
    "\n",
    "model.add(Conv1D(filters = 256, kernel_size = 3))\n",
    "model.add(Activation('relu'))\n",
    "model.add(MaxPooling1D(pool_size = 2))\n",
    "\n",
    "\n",
    "model.add(Conv1D(filters = 256, kernel_size = 3))\n",
    "model.add(Activation('relu'))\n",
    "model.add(MaxPooling1D(pool_size = 2))\n",
    "model.add(Dropout(0.5))\n",
    "\n",
    "model.add(Conv1D(filters = 512, kernel_size = 3))\n",
    "model.add(Activation('relu'))\n",
    "model.add(MaxPooling1D(pool_size = 2))\n",
    "model.add(Dropout(0.5))\n",
    "\n",
    "model.add(Conv1D(filters = 512, kernel_size = 3))\n",
    "model.add(Activation('relu'))\n",
    "\n",
    "model.add(Flatten())\n",
    "model.add(Dense(128, activation = 'relu'))\n",
    "model.add(Dropout(0.5))\n",
    "model.add(Dense(32, activation = 'relu'))\n",
    "model.add(Dense(3, activation = \"softmax\"))\n",
    "\n",
    "print(model.summary())\n",
    "adam = Adam(lr = 0.001)\n",
    "# early_stop = EarlyStopping(patience=25)\n",
    "model.compile(optimizer = adam, loss = \"categorical_crossentropy\", metrics=['accuracy'])\n",
    "train_history_1 = model.fit(x = trainData,\n",
    "                            y = trainLabel,\n",
    "                            epochs=40,\n",
    "                            validation_data=(testData, testLabel),\n",
    "#                             callbacks=[early_stop],\n",
    "                            batch_size=70, \n",
    "                            verbose=1)\n",
    "\n",
    "model.save('AON_TST.h5')"
   ]
  },
  {
   "cell_type": "code",
   "execution_count": 6,
   "metadata": {
    "ExecuteTime": {
     "end_time": "2018-10-14T09:15:22.926725Z",
     "start_time": "2018-10-14T09:15:22.755234Z"
    }
   },
   "outputs": [],
   "source": [
    "import pylab as plt\n",
    "def history_display(hist, train, validation):\n",
    "    plt.plot(hist.history[train])\n",
    "    plt.plot(hist.history[validation])\n",
    "    plt.title('Train History')\n",
    "    plt.ylabel(train)\n",
    "    plt.xlabel('Epoch')\n",
    "    plt.legend(['train', 'validation'], loc='upper left')\n",
    "    plt.show\n",
    "    \n",
    "def show_plot(flag, hist):\n",
    "    if flag == 'acc':\n",
    "        history_display(hist, 'acc', 'val_acc')\n",
    "    elif flag == 'loss':\n",
    "        history_display(hist, 'loss', 'val_loss')\n",
    "    else:\n",
    "        print('Invalid!')"
   ]
  },
  {
   "cell_type": "code",
   "execution_count": 7,
   "metadata": {
    "ExecuteTime": {
     "end_time": "2018-10-14T09:15:23.180028Z",
     "start_time": "2018-10-14T09:15:22.929139Z"
    }
   },
   "outputs": [
    {
     "data": {
      "image/png": "[encoded data removed]",
      "text/plain": [
       "<Figure size 432x288 with 1 Axes>"
      ]
     },
     "metadata": {},
     "output_type": "display_data"
    }
   ],
   "source": [
    "show_plot('acc', train_history_1)"
   ]
  },
  {
   "cell_type": "code",
   "execution_count": 8,
   "metadata": {
    "ExecuteTime": {
     "end_time": "2018-10-14T09:15:23.349596Z",
     "start_time": "2018-10-14T09:15:23.183022Z"
    }
   },
   "outputs": [
    {
     "data": {
      "image/png": "[encoded data removed]",
      "text/plain": [
       "<Figure size 432x288 with 1 Axes>"
      ]
     },
     "metadata": {},
     "output_type": "display_data"
    }
   ],
   "source": [
    "show_plot('loss', train_history_1)"
   ]
  },
  {
   "cell_type": "code",
   "execution_count": 9,
   "metadata": {
    "ExecuteTime": {
     "end_time": "2018-10-14T09:15:24.454284Z",
     "start_time": "2018-10-14T09:15:23.351438Z"
    }
   },
   "outputs": [
    {
     "name": "stdout",
     "output_type": "stream",
     "text": [
      "2952/2952 [==============================] - 1s 372us/step\n",
      "Loss: 0.451, Accuracy: 0.838\n"
     ]
    }
   ],
   "source": [
    "evaluation = model.evaluate(x = testData, y = testLabel)\n",
    "print('Loss: {:.3f}, Accuracy: {:.3f}'.format(evaluation[0], evaluation[1]))"
   ]
  },
  {
   "cell_type": "code",
   "execution_count": 10,
   "metadata": {
    "ExecuteTime": {
     "end_time": "2018-10-14T09:15:24.479146Z",
     "start_time": "2018-10-14T09:15:24.457707Z"
    }
   },
   "outputs": [],
   "source": [
    "import itertools\n",
    "import pylab as plt\n",
    "\n",
    "def plot_confusion_matrix(cm, classes,\n",
    "                          normalize=False,\n",
    "                          title='Confusion matrix',\n",
    "                          cmap=plt.cm.Blues):\n",
    "    \"\"\"\n",
    "    This function prints and plots the confusion matrix.\n",
    "    Normalization can be applied by setting `normalize=True`.\n",
    "    \"\"\"\n",
    "\n",
    "    plt.imshow(cm, interpolation='nearest', cmap=cmap)\n",
    "    plt.title(title)\n",
    "    plt.colorbar()\n",
    "    tick_marks = np.arange(len(classes))\n",
    "    plt.xticks(tick_marks, classes, rotation=45)\n",
    "    plt.yticks(tick_marks, classes)\n",
    "\n",
    "    fmt = '.2f' if normalize else 'd'\n",
    "    thresh = cm.max() / 2.\n",
    "    for i, j in itertools.product(range(cm.shape[0]), range(cm.shape[1])):\n",
    "        plt.text(j, i, format(cm[i, j], fmt),\n",
    "                 horizontalalignment=\"center\",\n",
    "                 color=\"white\" if cm[i, j] > thresh else \"black\")\n",
    "\n",
    "    plt.ylabel('True label')\n",
    "    plt.xlabel('Predicted label')\n",
    "    plt.tight_layout()"
   ]
  },
  {
   "cell_type": "code",
   "execution_count": null,
   "metadata": {
    "ExecuteTime": {
     "start_time": "2018-10-14T09:11:00.962Z"
    }
   },
   "outputs": [],
   "source": [
    "from sklearn.metrics import confusion_matrix\n",
    "test_prediction = model.predict_classes(testData, batch_size=1)\n",
    "cnf_matrix = confusion_matrix(AONtestL, test_prediction)\n",
    "plot_confusion_matrix(cnf_matrix, classes=['AF','Normal','Other'],\n",
    "                      title='Confusion matrix')"
   ]
  },
  {
   "cell_type": "code",
   "execution_count": null,
   "metadata": {
    "ExecuteTime": {
     "start_time": "2018-10-14T09:11:00.963Z"
    }
   },
   "outputs": [],
   "source": [
    "testData.shape"
   ]
  }
 ],
 "metadata": {
  "kernelspec": {
   "display_name": "Python 3",
   "language": "python",
   "name": "python3"
  },
  "language_info": {
   "codemirror_mode": {
    "name": "ipython",
    "version": 3
   },
   "file_extension": ".py",
   "mimetype": "text/x-python",
   "name": "python",
   "nbconvert_exporter": "python",
   "pygments_lexer": "ipython3",
   "version": "3.5.2"
  }
 },
 "nbformat": 4,
 "nbformat_minor": 2
}
