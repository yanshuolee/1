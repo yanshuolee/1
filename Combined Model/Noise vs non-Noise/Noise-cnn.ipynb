{
 "cells": [
  {
   "cell_type": "code",
   "execution_count": 1,
   "metadata": {
    "ExecuteTime": {
     "end_time": "2018-10-14T07:10:40.374179Z",
     "start_time": "2018-10-14T07:10:38.021505Z"
    }
   },
   "outputs": [
    {
     "name": "stderr",
     "output_type": "stream",
     "text": [
      "/usr/local/lib/python3.5/dist-packages/h5py/__init__.py:36: FutureWarning: Conversion of the second argument of issubdtype from `float` to `np.floating` is deprecated. In future, it will be treated as `np.float64 == np.dtype(float).type`.\n",
      "  from ._conv import register_converters as _register_converters\n",
      "Using TensorFlow backend.\n"
     ]
    },
    {
     "name": "stdout",
     "output_type": "stream",
     "text": [
      "7110\n",
      "7110\n",
      "[[[ 0.519]\n",
      "  [ 0.619]\n",
      "  [ 0.723]\n",
      "  ...\n",
      "  [ 0.116]\n",
      "  [ 0.017]\n",
      "  [ 0.018]]\n",
      "\n",
      " [[-0.188]\n",
      "  [-0.239]\n",
      "  [-0.274]\n",
      "  ...\n",
      "  [-0.077]\n",
      "  [-0.077]\n",
      "  [-0.078]]\n",
      "\n",
      " [[-0.079]\n",
      "  [-0.079]\n",
      "  [-0.079]\n",
      "  ...\n",
      "  [-0.093]\n",
      "  [-0.057]\n",
      "  [ 0.   ]]\n",
      "\n",
      " ...\n",
      "\n",
      " [[-0.155]\n",
      "  [-0.146]\n",
      "  [-0.136]\n",
      "  ...\n",
      "  [ 0.013]\n",
      "  [ 0.007]\n",
      "  [ 0.003]]\n",
      "\n",
      " [[-0.004]\n",
      "  [-0.005]\n",
      "  [-0.006]\n",
      "  ...\n",
      "  [-0.098]\n",
      "  [-0.102]\n",
      "  [-0.106]]\n",
      "\n",
      " [[-0.03 ]\n",
      "  [ 0.076]\n",
      "  [ 0.222]\n",
      "  ...\n",
      "  [-0.117]\n",
      "  [-0.07 ]\n",
      "  [-0.039]]]\n",
      "[[1. 0.]\n",
      " [1. 0.]\n",
      " [1. 0.]\n",
      " ...\n",
      " [1. 0.]\n",
      " [1. 0.]\n",
      " [1. 0.]]\n"
     ]
    }
   ],
   "source": [
    "import numpy as np\n",
    "import pandas as pd\n",
    "import os\n",
    "from keras.models import Sequential\n",
    "from keras.layers import Dense, Flatten, Conv1D, MaxPooling1D, AveragePooling1D, Dropout\n",
    "from keras.layers import BatchNormalization, Activation\n",
    "from keras.initializers import VarianceScaling\n",
    "from keras.optimizers import Adam\n",
    "from keras.utils import np_utils, multi_gpu_model\n",
    "import tensorflow as tf\n",
    "from keras.callbacks import TensorBoard, EarlyStopping\n",
    "np.set_printoptions(suppress=True)\n",
    "\n",
    "trainD = np.load(\"/home/hsiehch/30s/train_data.npy\")\n",
    "trainL = np.load(\"/home/hsiehch/30s/train_label.npy\")\n",
    "validationD = np.load(\"/home/hsiehch/30s/validation_data.npy\")\n",
    "validationL = np.load(\"/home/hsiehch/30s/validation_label.npy\")\n",
    "testD = np.load(\"/home/hsiehch/30s/test_data.npy\")\n",
    "testL = np.load(\"/home/hsiehch/30s/test_label.npy\")\n",
    "\n",
    "trainD = np.append(trainD, validationD, axis=0)\n",
    "trainL = np.append(trainL, validationL, axis=0)\n",
    "print(len(trainL))\n",
    "for i in range(len(trainL)):\n",
    "    if(trainL[i] != 1):\n",
    "        trainL[i] = 0\n",
    "for i in range(len(testL)):\n",
    "    if(testL[i] != 1):\n",
    "        testL[i] = 0\n",
    "print(len(trainL))\n",
    "trainData = trainD.reshape((trainD.shape[0], trainD.shape[1], 1))\n",
    "trainLabel = np_utils.to_categorical(trainL, 2)\n",
    "testData = testD.reshape((testD.shape[0], testD.shape[1], 1))\n",
    "testLabel = np_utils.to_categorical(testL, 2)\n",
    "print(trainData)\n",
    "print(trainLabel)"
   ]
  },
  {
   "cell_type": "code",
   "execution_count": 2,
   "metadata": {
    "ExecuteTime": {
     "end_time": "2018-10-14T07:13:03.066301Z",
     "start_time": "2018-10-14T07:10:40.376520Z"
    }
   },
   "outputs": [
    {
     "name": "stdout",
     "output_type": "stream",
     "text": [
      "_________________________________________________________________\n",
      "Layer (type)                 Output Shape              Param #   \n",
      "=================================================================\n",
      "conv1d_1 (Conv1D)            (None, 8994, 32)          256       \n",
      "_________________________________________________________________\n",
      "activation_1 (Activation)    (None, 8994, 32)          0         \n",
      "_________________________________________________________________\n",
      "batch_normalization_1 (Batch (None, 8994, 32)          128       \n",
      "_________________________________________________________________\n",
      "max_pooling1d_1 (MaxPooling1 (None, 4497, 32)          0         \n",
      "_________________________________________________________________\n",
      "conv1d_2 (Conv1D)            (None, 4491, 32)          7200      \n",
      "_________________________________________________________________\n",
      "activation_2 (Activation)    (None, 4491, 32)          0         \n",
      "_________________________________________________________________\n",
      "max_pooling1d_2 (MaxPooling1 (None, 2245, 32)          0         \n",
      "_________________________________________________________________\n",
      "conv1d_3 (Conv1D)            (None, 2239, 64)          14400     \n",
      "_________________________________________________________________\n",
      "activation_3 (Activation)    (None, 2239, 64)          0         \n",
      "_________________________________________________________________\n",
      "max_pooling1d_3 (MaxPooling1 (None, 1119, 64)          0         \n",
      "_________________________________________________________________\n",
      "conv1d_4 (Conv1D)            (None, 1117, 64)          12352     \n",
      "_________________________________________________________________\n",
      "activation_4 (Activation)    (None, 1117, 64)          0         \n",
      "_________________________________________________________________\n",
      "max_pooling1d_4 (MaxPooling1 (None, 558, 64)           0         \n",
      "_________________________________________________________________\n",
      "conv1d_5 (Conv1D)            (None, 556, 128)          24704     \n",
      "_________________________________________________________________\n",
      "activation_5 (Activation)    (None, 556, 128)          0         \n",
      "_________________________________________________________________\n",
      "max_pooling1d_5 (MaxPooling1 (None, 278, 128)          0         \n",
      "_________________________________________________________________\n",
      "dropout_1 (Dropout)          (None, 278, 128)          0         \n",
      "_________________________________________________________________\n",
      "conv1d_6 (Conv1D)            (None, 276, 128)          49280     \n",
      "_________________________________________________________________\n",
      "activation_6 (Activation)    (None, 276, 128)          0         \n",
      "_________________________________________________________________\n",
      "max_pooling1d_6 (MaxPooling1 (None, 138, 128)          0         \n",
      "_________________________________________________________________\n",
      "conv1d_7 (Conv1D)            (None, 136, 256)          98560     \n",
      "_________________________________________________________________\n",
      "activation_7 (Activation)    (None, 136, 256)          0         \n",
      "_________________________________________________________________\n",
      "max_pooling1d_7 (MaxPooling1 (None, 68, 256)           0         \n",
      "_________________________________________________________________\n",
      "dropout_2 (Dropout)          (None, 68, 256)           0         \n",
      "_________________________________________________________________\n",
      "conv1d_8 (Conv1D)            (None, 66, 256)           196864    \n",
      "_________________________________________________________________\n",
      "activation_8 (Activation)    (None, 66, 256)           0         \n",
      "_________________________________________________________________\n",
      "max_pooling1d_8 (MaxPooling1 (None, 33, 256)           0         \n",
      "_________________________________________________________________\n",
      "conv1d_9 (Conv1D)            (None, 31, 512)           393728    \n",
      "_________________________________________________________________\n",
      "activation_9 (Activation)    (None, 31, 512)           0         \n",
      "_________________________________________________________________\n",
      "max_pooling1d_9 (MaxPooling1 (None, 15, 512)           0         \n",
      "_________________________________________________________________\n",
      "dropout_3 (Dropout)          (None, 15, 512)           0         \n",
      "_________________________________________________________________\n",
      "conv1d_10 (Conv1D)           (None, 13, 512)           786944    \n",
      "_________________________________________________________________\n",
      "activation_10 (Activation)   (None, 13, 512)           0         \n",
      "_________________________________________________________________\n",
      "flatten_1 (Flatten)          (None, 6656)              0         \n",
      "_________________________________________________________________\n",
      "dense_1 (Dense)              (None, 128)               852096    \n",
      "_________________________________________________________________\n",
      "dropout_4 (Dropout)          (None, 128)               0         \n",
      "_________________________________________________________________\n",
      "dense_2 (Dense)              (None, 8)                 1032      \n",
      "_________________________________________________________________\n",
      "dense_3 (Dense)              (None, 2)                 18        \n",
      "=================================================================\n",
      "Total params: 2,437,562\n",
      "Trainable params: 2,437,498\n",
      "Non-trainable params: 64\n",
      "_________________________________________________________________\n",
      "None\n",
      "Train on 7110 samples, validate on 3041 samples\n",
      "Epoch 1/20\n",
      "7110/7110 [==============================] - 11s 2ms/step - loss: 0.1457 - acc: 0.9688 - val_loss: 0.0952 - val_acc: 0.9707\n",
      "Epoch 2/20\n",
      "7110/7110 [==============================] - 7s 919us/step - loss: 0.0862 - acc: 0.9707 - val_loss: 0.0757 - val_acc: 0.9734\n",
      "Epoch 3/20\n",
      "7110/7110 [==============================] - 7s 927us/step - loss: 0.0810 - acc: 0.9719 - val_loss: 0.0677 - val_acc: 0.9734\n",
      "Epoch 4/20\n",
      "7110/7110 [==============================] - 7s 927us/step - loss: 0.0788 - acc: 0.9724 - val_loss: 0.0744 - val_acc: 0.9744\n",
      "Epoch 5/20\n",
      "7110/7110 [==============================] - 7s 942us/step - loss: 0.0745 - acc: 0.9730 - val_loss: 0.0635 - val_acc: 0.9724\n",
      "Epoch 6/20\n",
      "7110/7110 [==============================] - 7s 972us/step - loss: 0.0618 - acc: 0.9757 - val_loss: 0.0577 - val_acc: 0.9753\n",
      "Epoch 7/20\n",
      "7110/7110 [==============================] - 7s 967us/step - loss: 0.0635 - acc: 0.9743 - val_loss: 0.0593 - val_acc: 0.9744\n",
      "Epoch 8/20\n",
      "7110/7110 [==============================] - 7s 959us/step - loss: 0.0629 - acc: 0.9762 - val_loss: 0.0654 - val_acc: 0.9744\n",
      "Epoch 9/20\n",
      "7110/7110 [==============================] - 7s 966us/step - loss: 0.0596 - acc: 0.9765 - val_loss: 0.0539 - val_acc: 0.9757\n",
      "Epoch 10/20\n",
      "7110/7110 [==============================] - 7s 965us/step - loss: 0.0533 - acc: 0.9775 - val_loss: 0.0526 - val_acc: 0.9776\n",
      "Epoch 11/20\n",
      "7110/7110 [==============================] - 7s 935us/step - loss: 0.0632 - acc: 0.9757 - val_loss: 0.0608 - val_acc: 0.9737\n",
      "Epoch 12/20\n",
      "7110/7110 [==============================] - 7s 949us/step - loss: 0.0550 - acc: 0.9789 - val_loss: 0.0608 - val_acc: 0.9740\n",
      "Epoch 13/20\n",
      "7110/7110 [==============================] - 7s 965us/step - loss: 0.0557 - acc: 0.9795 - val_loss: 0.0560 - val_acc: 0.9776\n",
      "Epoch 14/20\n",
      "7110/7110 [==============================] - 7s 970us/step - loss: 0.0591 - acc: 0.9764 - val_loss: 0.0541 - val_acc: 0.9793\n",
      "Epoch 15/20\n",
      "7110/7110 [==============================] - 7s 959us/step - loss: 0.0543 - acc: 0.9799 - val_loss: 0.0555 - val_acc: 0.9796\n",
      "Epoch 16/20\n",
      "7110/7110 [==============================] - 7s 919us/step - loss: 0.0542 - acc: 0.9788 - val_loss: 0.0583 - val_acc: 0.9776\n",
      "Epoch 17/20\n",
      "7110/7110 [==============================] - 7s 970us/step - loss: 0.0524 - acc: 0.9788 - val_loss: 0.0505 - val_acc: 0.9790\n",
      "Epoch 18/20\n",
      "7110/7110 [==============================] - 7s 956us/step - loss: 0.0490 - acc: 0.9789 - val_loss: 0.0544 - val_acc: 0.9783\n",
      "Epoch 19/20\n",
      "7110/7110 [==============================] - 7s 948us/step - loss: 0.0447 - acc: 0.9817 - val_loss: 0.0519 - val_acc: 0.9780\n",
      "Epoch 20/20\n",
      "7110/7110 [==============================] - 7s 923us/step - loss: 0.0510 - acc: 0.9805 - val_loss: 0.0515 - val_acc: 0.9813\n"
     ]
    }
   ],
   "source": [
    "model = Sequential()\n",
    "model.add(Conv1D(filters = 32, kernel_size = 7, input_shape = (trainData.shape[1], 1)))\n",
    "model.add(Activation('relu'))\n",
    "model.add(BatchNormalization())\n",
    "model.add(MaxPooling1D(pool_size = 2))\n",
    "\n",
    "model.add(Conv1D(filters = 32, kernel_size = 7))\n",
    "model.add(Activation('relu'))\n",
    "model.add(MaxPooling1D(pool_size = 2))\n",
    "\n",
    "model.add(Conv1D(filters = 64, kernel_size = 7))\n",
    "model.add(Activation('relu'))\n",
    "model.add(MaxPooling1D(pool_size = 2))\n",
    "\n",
    "model.add(Conv1D(filters = 64, kernel_size = 3))\n",
    "model.add(Activation('relu'))\n",
    "model.add(MaxPooling1D(pool_size = 2))\n",
    "\n",
    "model.add(Conv1D(filters = 128, kernel_size = 3))\n",
    "model.add(Activation('relu'))\n",
    "model.add(MaxPooling1D(pool_size = 2))\n",
    "model.add(Dropout(0.5))\n",
    "\n",
    "model.add(Conv1D(filters = 128, kernel_size = 3))\n",
    "model.add(Activation('relu'))\n",
    "model.add(MaxPooling1D(pool_size = 2))\n",
    "\n",
    "\n",
    "model.add(Conv1D(filters = 256, kernel_size = 3))\n",
    "model.add(Activation('relu'))\n",
    "model.add(MaxPooling1D(pool_size = 2))\n",
    "model.add(Dropout(0.5))\n",
    "\n",
    "model.add(Conv1D(filters = 256, kernel_size = 3))\n",
    "model.add(Activation('relu'))\n",
    "model.add(MaxPooling1D(pool_size = 2))\n",
    "\n",
    "\n",
    "model.add(Conv1D(filters = 512, kernel_size = 3))\n",
    "model.add(Activation('relu'))\n",
    "model.add(MaxPooling1D(pool_size = 2))\n",
    "model.add(Dropout(0.5))\n",
    "\n",
    "model.add(Conv1D(filters = 512, kernel_size = 3))\n",
    "model.add(Activation('relu'))\n",
    "\n",
    "model.add(Flatten())\n",
    "model.add(Dense(128, activation = 'relu'))\n",
    "model.add(Dropout(0.5))\n",
    "model.add(Dense(8, activation = 'relu'))\n",
    "model.add(Dense(2, activation = \"softmax\"))\n",
    "\n",
    "print(model.summary())\n",
    "\n",
    "\n",
    "adam = Adam(lr = 0.001)\n",
    "model.compile(optimizer = adam, loss = \"categorical_crossentropy\", metrics=['accuracy'])\n",
    "train_history_1 = model.fit(x = trainData,\n",
    "                            y = trainLabel,\n",
    "                            epochs=20,\n",
    "                            validation_data=(testData, testLabel),\n",
    "                            batch_size=70, \n",
    "                            verbose=1)\n",
    "\n",
    "model.save('noise_nonNoise_TST.h5')"
   ]
  },
  {
   "cell_type": "code",
   "execution_count": 3,
   "metadata": {
    "ExecuteTime": {
     "end_time": "2018-10-14T07:13:03.241409Z",
     "start_time": "2018-10-14T07:13:03.069526Z"
    }
   },
   "outputs": [],
   "source": [
    "import pylab as plt\n",
    "def history_display(hist, train, validation):\n",
    "    plt.plot(hist.history[train])\n",
    "    plt.plot(hist.history[validation])\n",
    "    plt.title('Train History')\n",
    "    plt.ylabel(train)\n",
    "    plt.xlabel('Epoch')\n",
    "    plt.legend(['train', 'validation'], loc='upper left')\n",
    "    plt.show\n",
    "    \n",
    "def show_plot(flag, hist):\n",
    "    if flag == 'acc':\n",
    "        history_display(hist, 'acc', 'val_acc')\n",
    "    elif flag == 'loss':\n",
    "        history_display(hist, 'loss', 'val_loss')\n",
    "    else:\n",
    "        print('Invalid!')"
   ]
  },
  {
   "cell_type": "code",
   "execution_count": 4,
   "metadata": {
    "ExecuteTime": {
     "end_time": "2018-10-14T07:13:03.534974Z",
     "start_time": "2018-10-14T07:13:03.243877Z"
    }
   },
   "outputs": [
    {
     "data": {
      "image/png": "[encoded data removed]",
      "text/plain": [
       "<Figure size 432x288 with 1 Axes>"
      ]
     },
     "metadata": {},
     "output_type": "display_data"
    }
   ],
   "source": [
    "show_plot('acc', train_history_1)"
   ]
  },
  {
   "cell_type": "code",
   "execution_count": 5,
   "metadata": {
    "ExecuteTime": {
     "end_time": "2018-10-14T07:13:03.763031Z",
     "start_time": "2018-10-14T07:13:03.537987Z"
    }
   },
   "outputs": [
    {
     "data": {
      "image/png": "[encoded data removed]",
      "text/plain": [
       "<Figure size 432x288 with 1 Axes>"
      ]
     },
     "metadata": {},
     "output_type": "display_data"
    }
   ],
   "source": [
    "show_plot('loss', train_history_1)"
   ]
  },
  {
   "cell_type": "code",
   "execution_count": 6,
   "metadata": {
    "ExecuteTime": {
     "end_time": "2018-10-14T07:13:03.792202Z",
     "start_time": "2018-10-14T07:13:03.766251Z"
    }
   },
   "outputs": [],
   "source": [
    "import itertools\n",
    "import pylab as plt\n",
    "\n",
    "\n",
    "def plot_confusion_matrix(cm, classes,\n",
    "                          normalize=False,\n",
    "                          title='Confusion matrix',\n",
    "                          cmap=plt.cm.Blues):\n",
    "    \"\"\"\n",
    "    This function prints and plots the confusion matrix.\n",
    "    Normalization can be applied by setting `normalize=True`.\n",
    "    \"\"\"\n",
    "\n",
    "    plt.imshow(cm, interpolation='nearest', cmap=cmap)\n",
    "    plt.title(title)\n",
    "    plt.colorbar()\n",
    "    tick_marks = np.arange(len(classes))\n",
    "    plt.xticks(tick_marks, classes, rotation=45)\n",
    "    plt.yticks(tick_marks, classes)\n",
    "\n",
    "    fmt = '.2f' if normalize else 'd'\n",
    "    thresh = cm.max() / 2.\n",
    "    for i, j in itertools.product(range(cm.shape[0]), range(cm.shape[1])):\n",
    "        plt.text(j, i, format(cm[i, j], fmt),\n",
    "                 horizontalalignment=\"center\",\n",
    "                 color=\"white\" if cm[i, j] > thresh else \"black\")\n",
    "\n",
    "    plt.ylabel('True label')\n",
    "    plt.xlabel('Predicted label')\n",
    "    plt.tight_layout()"
   ]
  },
  {
   "cell_type": "code",
   "execution_count": 7,
   "metadata": {
    "ExecuteTime": {
     "end_time": "2018-10-14T07:13:17.742024Z",
     "start_time": "2018-10-14T07:13:03.795328Z"
    }
   },
   "outputs": [
    {
     "data": {
      "image/png": "[encoded data removed]",
      "text/plain": [
       "<Figure size 432x288 with 2 Axes>"
      ]
     },
     "metadata": {},
     "output_type": "display_data"
    }
   ],
   "source": [
    "from sklearn.metrics import confusion_matrix\n",
    "test_prediction = model.predict_classes(testData, batch_size=1)\n",
    "cnf_matrix = confusion_matrix(testL, test_prediction)\n",
    "plot_confusion_matrix(cnf_matrix, classes=['non-Noise','Noise'],\n",
    "                      title='Confusion matrix')"
   ]
  },
  {
   "cell_type": "code",
   "execution_count": null,
   "metadata": {},
   "outputs": [],
   "source": []
  }
 ],
 "metadata": {
  "kernelspec": {
   "display_name": "Python 3",
   "language": "python",
   "name": "python3"
  },
  "language_info": {
   "codemirror_mode": {
    "name": "ipython",
    "version": 3
   },
   "file_extension": ".py",
   "mimetype": "text/x-python",
   "name": "python",
   "nbconvert_exporter": "python",
   "pygments_lexer": "ipython3",
   "version": "3.5.2"
  }
 },
 "nbformat": 4,
 "nbformat_minor": 2
}
