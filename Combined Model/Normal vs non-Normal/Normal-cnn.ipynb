{
 "cells": [
  {
   "cell_type": "code",
   "execution_count": 1,
   "metadata": {
    "ExecuteTime": {
     "end_time": "2018-10-15T13:25:39.392527Z",
     "start_time": "2018-10-15T13:25:38.170796Z"
    }
   },
   "outputs": [
    {
     "name": "stderr",
     "output_type": "stream",
     "text": [
      "/usr/local/lib/python3.5/dist-packages/h5py/__init__.py:36: FutureWarning: Conversion of the second argument of issubdtype from `float` to `np.floating` is deprecated. In future, it will be treated as `np.float64 == np.dtype(float).type`.\n",
      "  from ._conv import register_converters as _register_converters\n",
      "Using TensorFlow backend.\n"
     ]
    }
   ],
   "source": [
    "import numpy as np\n",
    "from keras.models import Sequential\n",
    "from keras.layers import Dense, Flatten, Conv1D, MaxPooling1D, AveragePooling1D, Dropout\n",
    "from keras.layers import BatchNormalization, Activation\n",
    "from keras.optimizers import Adam\n",
    "from keras.utils import np_utils\n",
    "import tensorflow as tf\n",
    "from keras.callbacks import TensorBoard, EarlyStopping\n",
    "np.set_printoptions(suppress=True)"
   ]
  },
  {
   "cell_type": "code",
   "execution_count": 2,
   "metadata": {
    "ExecuteTime": {
     "end_time": "2018-10-15T13:26:23.824148Z",
     "start_time": "2018-10-15T13:26:22.912360Z"
    }
   },
   "outputs": [],
   "source": [
    "trainD = np.load(\"/home/hsiehch/30s/train_data.npy\")\n",
    "trainL = np.load(\"/home/hsiehch/30s/train_label.npy\")\n",
    "validationD = np.load(\"/home/hsiehch/30s/validation_data.npy\")\n",
    "validationL = np.load(\"/home/hsiehch/30s/validation_label.npy\")\n",
    "testD = np.load(\"/home/hsiehch/30s/test_data.npy\")\n",
    "testL = np.load(\"/home/hsiehch/30s/test_label.npy\")\n",
    "\n",
    "trainD = np.append(trainD, validationD, axis=0)\n",
    "trainL = np.append(trainL, validationL, axis=0)\n",
    "# print(len(trainL))\n",
    "for i in range(len(trainL)):\n",
    "    if(trainL[i] != 2):\n",
    "        trainL[i] = 0\n",
    "    else:\n",
    "        trainL[i] = 1\n",
    "for i in range(len(testL)):\n",
    "    if(testL[i] != 2):\n",
    "        testL[i] = 0\n",
    "    else:\n",
    "        testL[i] = 1\n",
    "# print(len(trainL))\n",
    "trainData = trainD.reshape((trainD.shape[0], trainD.shape[1], 1))\n",
    "trainLabel = np_utils.to_categorical(trainL, 2)\n",
    "testData = testD.reshape((testD.shape[0], testD.shape[1], 1))\n",
    "testLabel = np_utils.to_categorical(testL, 2)\n",
    "# print(trainData)\n",
    "# print(trainLabel)"
   ]
  },
  {
   "cell_type": "code",
   "execution_count": 11,
   "metadata": {
    "ExecuteTime": {
     "end_time": "2018-10-15T13:48:50.668792Z",
     "start_time": "2018-10-15T13:45:36.591530Z"
    },
    "scrolled": true
   },
   "outputs": [
    {
     "name": "stdout",
     "output_type": "stream",
     "text": [
      "_________________________________________________________________\n",
      "Layer (type)                 Output Shape              Param #   \n",
      "=================================================================\n",
      "conv1d_24 (Conv1D)           (None, 8994, 32)          256       \n",
      "_________________________________________________________________\n",
      "activation_23 (Activation)   (None, 8994, 32)          0         \n",
      "_________________________________________________________________\n",
      "batch_normalization_3 (Batch (None, 8994, 32)          128       \n",
      "_________________________________________________________________\n",
      "max_pooling1d_23 (MaxPooling (None, 4497, 32)          0         \n",
      "_________________________________________________________________\n",
      "conv1d_25 (Conv1D)           (None, 4491, 32)          7200      \n",
      "_________________________________________________________________\n",
      "activation_24 (Activation)   (None, 4491, 32)          0         \n",
      "_________________________________________________________________\n",
      "max_pooling1d_24 (MaxPooling (None, 2245, 32)          0         \n",
      "_________________________________________________________________\n",
      "conv1d_26 (Conv1D)           (None, 2239, 64)          14400     \n",
      "_________________________________________________________________\n",
      "activation_25 (Activation)   (None, 2239, 64)          0         \n",
      "_________________________________________________________________\n",
      "max_pooling1d_25 (MaxPooling (None, 1119, 64)          0         \n",
      "_________________________________________________________________\n",
      "conv1d_27 (Conv1D)           (None, 1117, 64)          12352     \n",
      "_________________________________________________________________\n",
      "activation_26 (Activation)   (None, 1117, 64)          0         \n",
      "_________________________________________________________________\n",
      "max_pooling1d_26 (MaxPooling (None, 558, 64)           0         \n",
      "_________________________________________________________________\n",
      "conv1d_28 (Conv1D)           (None, 556, 128)          24704     \n",
      "_________________________________________________________________\n",
      "activation_27 (Activation)   (None, 556, 128)          0         \n",
      "_________________________________________________________________\n",
      "max_pooling1d_27 (MaxPooling (None, 278, 128)          0         \n",
      "_________________________________________________________________\n",
      "conv1d_29 (Conv1D)           (None, 276, 128)          49280     \n",
      "_________________________________________________________________\n",
      "activation_28 (Activation)   (None, 276, 128)          0         \n",
      "_________________________________________________________________\n",
      "max_pooling1d_28 (MaxPooling (None, 138, 128)          0         \n",
      "_________________________________________________________________\n",
      "dropout_8 (Dropout)          (None, 138, 128)          0         \n",
      "_________________________________________________________________\n",
      "conv1d_30 (Conv1D)           (None, 136, 256)          98560     \n",
      "_________________________________________________________________\n",
      "activation_29 (Activation)   (None, 136, 256)          0         \n",
      "_________________________________________________________________\n",
      "max_pooling1d_29 (MaxPooling (None, 68, 256)           0         \n",
      "_________________________________________________________________\n",
      "conv1d_31 (Conv1D)           (None, 66, 256)           196864    \n",
      "_________________________________________________________________\n",
      "activation_30 (Activation)   (None, 66, 256)           0         \n",
      "_________________________________________________________________\n",
      "max_pooling1d_30 (MaxPooling (None, 33, 256)           0         \n",
      "_________________________________________________________________\n",
      "dropout_9 (Dropout)          (None, 33, 256)           0         \n",
      "_________________________________________________________________\n",
      "conv1d_32 (Conv1D)           (None, 31, 512)           393728    \n",
      "_________________________________________________________________\n",
      "activation_31 (Activation)   (None, 31, 512)           0         \n",
      "_________________________________________________________________\n",
      "max_pooling1d_31 (MaxPooling (None, 15, 512)           0         \n",
      "_________________________________________________________________\n",
      "conv1d_33 (Conv1D)           (None, 13, 512)           786944    \n",
      "_________________________________________________________________\n",
      "activation_32 (Activation)   (None, 13, 512)           0         \n",
      "_________________________________________________________________\n",
      "max_pooling1d_32 (MaxPooling (None, 6, 512)            0         \n",
      "_________________________________________________________________\n",
      "dropout_10 (Dropout)         (None, 6, 512)            0         \n",
      "_________________________________________________________________\n",
      "conv1d_34 (Conv1D)           (None, 4, 512)            786944    \n",
      "_________________________________________________________________\n",
      "activation_33 (Activation)   (None, 4, 512)            0         \n",
      "_________________________________________________________________\n",
      "max_pooling1d_33 (MaxPooling (None, 2, 512)            0         \n",
      "_________________________________________________________________\n",
      "flatten_2 (Flatten)          (None, 1024)              0         \n",
      "_________________________________________________________________\n",
      "dense_4 (Dense)              (None, 128)               131200    \n",
      "_________________________________________________________________\n",
      "dropout_11 (Dropout)         (None, 128)               0         \n",
      "_________________________________________________________________\n",
      "dense_5 (Dense)              (None, 16)                2064      \n",
      "_________________________________________________________________\n",
      "dense_6 (Dense)              (None, 2)                 34        \n",
      "=================================================================\n",
      "Total params: 2,504,658\n",
      "Trainable params: 2,504,594\n",
      "Non-trainable params: 64\n",
      "_________________________________________________________________\n",
      "None\n",
      "Train on 7110 samples, validate on 3041 samples\n",
      "Epoch 1/100\n",
      "7110/7110 [==============================] - 8s 1ms/step - loss: 0.6522 - acc: 0.6132 - val_loss: 0.5780 - val_acc: 0.7188\n",
      "Epoch 2/100\n",
      "7110/7110 [==============================] - 7s 946us/step - loss: 0.5070 - acc: 0.7759 - val_loss: 0.5054 - val_acc: 0.7729\n",
      "Epoch 3/100\n",
      "7110/7110 [==============================] - 7s 978us/step - loss: 0.4478 - acc: 0.8195 - val_loss: 0.4396 - val_acc: 0.8134\n",
      "Epoch 4/100\n",
      "7110/7110 [==============================] - 7s 977us/step - loss: 0.3889 - acc: 0.8457 - val_loss: 0.4231 - val_acc: 0.8300\n",
      "Epoch 5/100\n",
      "7110/7110 [==============================] - 7s 984us/step - loss: 0.3648 - acc: 0.8599 - val_loss: 0.3708 - val_acc: 0.8609\n",
      "Epoch 6/100\n",
      "7110/7110 [==============================] - 7s 984us/step - loss: 0.3515 - acc: 0.8639 - val_loss: 0.3619 - val_acc: 0.8591\n",
      "Epoch 7/100\n",
      "7110/7110 [==============================] - 7s 993us/step - loss: 0.3324 - acc: 0.8760 - val_loss: 0.3507 - val_acc: 0.8555\n",
      "Epoch 8/100\n",
      "7110/7110 [==============================] - 7s 997us/step - loss: 0.3266 - acc: 0.8752 - val_loss: 0.3600 - val_acc: 0.8571\n",
      "Epoch 9/100\n",
      "7110/7110 [==============================] - 7s 998us/step - loss: 0.3156 - acc: 0.8832 - val_loss: 0.3724 - val_acc: 0.8505\n",
      "Epoch 10/100\n",
      "7110/7110 [==============================] - 7s 993us/step - loss: 0.3131 - acc: 0.8818 - val_loss: 0.3595 - val_acc: 0.8599\n",
      "Epoch 11/100\n",
      "7110/7110 [==============================] - 7s 996us/step - loss: 0.2956 - acc: 0.8886 - val_loss: 0.3511 - val_acc: 0.8653\n",
      "Epoch 12/100\n",
      "7110/7110 [==============================] - 7s 995us/step - loss: 0.2811 - acc: 0.8973 - val_loss: 0.3621 - val_acc: 0.8640\n",
      "Epoch 13/100\n",
      "7110/7110 [==============================] - 7s 992us/step - loss: 0.2729 - acc: 0.8997 - val_loss: 0.3556 - val_acc: 0.8650\n",
      "Epoch 14/100\n",
      "7110/7110 [==============================] - 7s 995us/step - loss: 0.2651 - acc: 0.9048 - val_loss: 0.3597 - val_acc: 0.8553\n",
      "Epoch 15/100\n",
      "7110/7110 [==============================] - 7s 998us/step - loss: 0.2545 - acc: 0.9065 - val_loss: 0.3766 - val_acc: 0.8642\n",
      "Epoch 16/100\n",
      "7110/7110 [==============================] - 7s 993us/step - loss: 0.2431 - acc: 0.9120 - val_loss: 0.4307 - val_acc: 0.8648\n",
      "Epoch 17/100\n"
     ]
    },
    {
     "name": "stdout",
     "output_type": "stream",
     "text": [
      "7110/7110 [==============================] - 7s 996us/step - loss: 0.2324 - acc: 0.9189 - val_loss: 0.3906 - val_acc: 0.8642\n",
      "Epoch 18/100\n",
      "7110/7110 [==============================] - 7s 997us/step - loss: 0.2393 - acc: 0.9162 - val_loss: 0.3913 - val_acc: 0.8551\n",
      "Epoch 19/100\n",
      "7110/7110 [==============================] - 7s 1ms/step - loss: 0.2177 - acc: 0.9244 - val_loss: 0.4465 - val_acc: 0.8589\n",
      "Epoch 20/100\n",
      "7110/7110 [==============================] - 7s 999us/step - loss: 0.2143 - acc: 0.9235 - val_loss: 0.4053 - val_acc: 0.8604\n",
      "Epoch 21/100\n",
      "7110/7110 [==============================] - 7s 997us/step - loss: 0.2113 - acc: 0.9241 - val_loss: 0.4362 - val_acc: 0.8589\n",
      "Epoch 22/100\n",
      "7110/7110 [==============================] - 7s 1ms/step - loss: 0.1987 - acc: 0.9324 - val_loss: 0.4648 - val_acc: 0.8652\n",
      "Epoch 23/100\n",
      "7110/7110 [==============================] - 7s 997us/step - loss: 0.1845 - acc: 0.9364 - val_loss: 0.4610 - val_acc: 0.8635\n",
      "Epoch 24/100\n",
      "7110/7110 [==============================] - 7s 1ms/step - loss: 0.1765 - acc: 0.9365 - val_loss: 0.4716 - val_acc: 0.8589\n",
      "Epoch 25/100\n",
      "7110/7110 [==============================] - 7s 1ms/step - loss: 0.1728 - acc: 0.9392 - val_loss: 0.4351 - val_acc: 0.8630\n",
      "Epoch 26/100\n",
      "7110/7110 [==============================] - 7s 1ms/step - loss: 0.1540 - acc: 0.9476 - val_loss: 0.5566 - val_acc: 0.8519\n",
      "Epoch 27/100\n",
      "7110/7110 [==============================] - 7s 996us/step - loss: 0.1776 - acc: 0.9395 - val_loss: 0.4715 - val_acc: 0.8576\n"
     ]
    }
   ],
   "source": [
    "model = Sequential()\n",
    "model.add(Conv1D(filters = 32, kernel_size = 7, input_shape = (trainData.shape[1], 1)))\n",
    "model.add(Activation('relu'))\n",
    "model.add(BatchNormalization())\n",
    "model.add(MaxPooling1D(pool_size = 2))\n",
    "\n",
    "model.add(Conv1D(filters = 32, kernel_size = 7))\n",
    "model.add(Activation('relu'))\n",
    "model.add(MaxPooling1D(pool_size = 2))\n",
    "\n",
    "model.add(Conv1D(filters = 64, kernel_size = 7))\n",
    "model.add(Activation('relu'))\n",
    "model.add(MaxPooling1D(pool_size = 2))\n",
    "\n",
    "model.add(Conv1D(filters = 64, kernel_size = 3))\n",
    "model.add(Activation('relu'))\n",
    "model.add(MaxPooling1D(pool_size = 2))\n",
    "\n",
    "model.add(Conv1D(filters = 128, kernel_size = 3))\n",
    "model.add(Activation('relu'))\n",
    "model.add(MaxPooling1D(pool_size = 2))\n",
    "\n",
    "model.add(Conv1D(filters = 128, kernel_size = 3))\n",
    "model.add(Activation('relu'))\n",
    "model.add(MaxPooling1D(pool_size = 2))\n",
    "model.add(Dropout(0.15))\n",
    "\n",
    "model.add(Conv1D(filters = 256, kernel_size = 3))\n",
    "model.add(Activation('relu'))\n",
    "model.add(MaxPooling1D(pool_size = 2))\n",
    "\n",
    "model.add(Conv1D(filters = 256, kernel_size = 3))\n",
    "model.add(Activation('relu'))\n",
    "model.add(MaxPooling1D(pool_size = 2))\n",
    "model.add(Dropout(0.3))\n",
    "\n",
    "model.add(Conv1D(filters = 512, kernel_size = 3))\n",
    "model.add(Activation('relu'))\n",
    "model.add(MaxPooling1D(pool_size = 2))\n",
    "\n",
    "model.add(Conv1D(filters = 512, kernel_size = 3))\n",
    "model.add(Activation('relu'))\n",
    "model.add(MaxPooling1D(pool_size = 2))\n",
    "model.add(Dropout(0.3))\n",
    "\n",
    "model.add(Conv1D(filters = 512, kernel_size = 3))\n",
    "model.add(Activation('relu'))\n",
    "model.add(MaxPooling1D(pool_size = 2))\n",
    "\n",
    "model.add(Flatten())\n",
    "model.add(Dense(128, activation = 'relu'))\n",
    "model.add(Dropout(0.5))\n",
    "model.add(Dense(16, activation = 'relu'))\n",
    "model.add(Dense(2, activation = \"sigmoid\"))\n",
    "\n",
    "print(model.summary())\n",
    "\n",
    "adam = Adam(lr = 0.0005)\n",
    "early_stop = EarlyStopping(patience=20)\n",
    "model.compile(optimizer = adam, loss = \"binary_crossentropy\", metrics=['accuracy'])\n",
    "train_history_1 = model.fit(x = trainData,\n",
    "                            y = trainLabel,\n",
    "                            epochs=100,\n",
    "                            validation_data=(testData, testLabel),\n",
    "                            callbacks=[early_stop],\n",
    "                            batch_size=70, \n",
    "                            verbose=1)\n",
    "\n",
    "# model.save('Normal_nonNormal_TST.h5')"
   ]
  },
  {
   "cell_type": "code",
   "execution_count": 5,
   "metadata": {
    "ExecuteTime": {
     "end_time": "2018-10-15T13:33:18.903266Z",
     "start_time": "2018-10-15T13:33:18.724356Z"
    }
   },
   "outputs": [],
   "source": [
    "import pylab as plt\n",
    "def history_display(hist, train, validation):\n",
    "    plt.plot(hist.history[train])\n",
    "    plt.plot(hist.history[validation])\n",
    "    plt.title('Train History')\n",
    "    plt.ylabel(train)\n",
    "    plt.xlabel('Epoch')\n",
    "    plt.legend(['train', 'validation'], loc='upper left')\n",
    "    plt.show\n",
    "    \n",
    "def show_plot(flag, hist):\n",
    "    if flag == 'acc':\n",
    "        history_display(hist, 'acc', 'val_acc')\n",
    "    elif flag == 'loss':\n",
    "        history_display(hist, 'loss', 'val_loss')\n",
    "    else:\n",
    "        print('Invalid!')"
   ]
  },
  {
   "cell_type": "code",
   "execution_count": 6,
   "metadata": {
    "ExecuteTime": {
     "end_time": "2018-10-15T13:33:22.448323Z",
     "start_time": "2018-10-15T13:33:22.179598Z"
    }
   },
   "outputs": [
    {
     "data": {
      "image/png": "[encoded data removed]",
      "text/plain": [
       "<Figure size 432x288 with 1 Axes>"
      ]
     },
     "metadata": {},
     "output_type": "display_data"
    }
   ],
   "source": [
    "show_plot('acc', train_history_1)"
   ]
  },
  {
   "cell_type": "code",
   "execution_count": 7,
   "metadata": {
    "ExecuteTime": {
     "end_time": "2018-10-15T13:33:28.211121Z",
     "start_time": "2018-10-15T13:33:28.005235Z"
    }
   },
   "outputs": [
    {
     "data": {
      "image/png": "[encoded data removed]",
      "text/plain": [
       "<Figure size 432x288 with 1 Axes>"
      ]
     },
     "metadata": {},
     "output_type": "display_data"
    }
   ],
   "source": [
    "show_plot('loss', train_history_1)"
   ]
  },
  {
   "cell_type": "code",
   "execution_count": 8,
   "metadata": {
    "ExecuteTime": {
     "end_time": "2018-10-15T13:33:35.354970Z",
     "start_time": "2018-10-15T13:33:35.330736Z"
    }
   },
   "outputs": [],
   "source": [
    "import itertools\n",
    "import pylab as plt\n",
    "\n",
    "\n",
    "def plot_confusion_matrix(cm, classes,\n",
    "                          normalize=False,\n",
    "                          title='Confusion matrix',\n",
    "                          cmap=plt.cm.Blues):\n",
    "    \"\"\"\n",
    "    This function prints and plots the confusion matrix.\n",
    "    Normalization can be applied by setting `normalize=True`.\n",
    "    \"\"\"\n",
    "\n",
    "    plt.imshow(cm, interpolation='nearest', cmap=cmap)\n",
    "    plt.title(title)\n",
    "    plt.colorbar()\n",
    "    tick_marks = np.arange(len(classes))\n",
    "    plt.xticks(tick_marks, classes, rotation=45)\n",
    "    plt.yticks(tick_marks, classes)\n",
    "\n",
    "    fmt = '.2f' if normalize else 'd'\n",
    "    thresh = cm.max() / 2.\n",
    "    for i, j in itertools.product(range(cm.shape[0]), range(cm.shape[1])):\n",
    "        plt.text(j, i, format(cm[i, j], fmt),\n",
    "                 horizontalalignment=\"center\",\n",
    "                 color=\"white\" if cm[i, j] > thresh else \"black\")\n",
    "\n",
    "    plt.ylabel('True label')\n",
    "    plt.xlabel('Predicted label')\n",
    "    plt.tight_layout()"
   ]
  },
  {
   "cell_type": "code",
   "execution_count": 9,
   "metadata": {
    "ExecuteTime": {
     "end_time": "2018-10-15T13:33:52.621959Z",
     "start_time": "2018-10-15T13:33:39.435627Z"
    }
   },
   "outputs": [
    {
     "data": {
      "image/png": "[encoded data removed]",
      "text/plain": [
       "<Figure size 432x288 with 2 Axes>"
      ]
     },
     "metadata": {},
     "output_type": "display_data"
    }
   ],
   "source": [
    "from sklearn.metrics import confusion_matrix\n",
    "test_prediction = model.predict_classes(testData, batch_size=1)\n",
    "cnf_matrix = confusion_matrix(testL, test_prediction)\n",
    "plot_confusion_matrix(cnf_matrix, classes=['non-Normal','Normal'], title='Confusion matrix')"
   ]
  }
 ],
 "metadata": {
  "kernelspec": {
   "display_name": "Python 3",
   "language": "python",
   "name": "python3"
  },
  "language_info": {
   "codemirror_mode": {
    "name": "ipython",
    "version": 3
   },
   "file_extension": ".py",
   "mimetype": "text/x-python",
   "name": "python",
   "nbconvert_exporter": "python",
   "pygments_lexer": "ipython3",
   "version": "3.5.2"
  }
 },
 "nbformat": 4,
 "nbformat_minor": 2
}
