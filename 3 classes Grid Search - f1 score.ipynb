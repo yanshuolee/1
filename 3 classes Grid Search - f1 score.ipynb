{
 "cells": [
  {
   "cell_type": "markdown",
   "metadata": {},
   "source": [
    "## 30s k-fold"
   ]
  },
  {
   "cell_type": "code",
   "execution_count": 1,
   "metadata": {
    "ExecuteTime": {
     "end_time": "2018-12-23T01:59:33.632089Z",
     "start_time": "2018-12-23T01:59:30.649021Z"
    }
   },
   "outputs": [
    {
     "name": "stderr",
     "output_type": "stream",
     "text": [
      "/usr/local/lib/python3.5/dist-packages/h5py/__init__.py:36: FutureWarning: Conversion of the second argument of issubdtype from `float` to `np.floating` is deprecated. In future, it will be treated as `np.float64 == np.dtype(float).type`.\n",
      "  from ._conv import register_converters as _register_converters\n",
      "Using TensorFlow backend.\n"
     ]
    },
    {
     "name": "stdout",
     "output_type": "stream",
     "text": [
      "Train Data: (10151, 9000, 1)\n",
      "Train Label:  (10151, 3)\n"
     ]
    }
   ],
   "source": [
    "import numpy as np\n",
    "from keras.models import Sequential\n",
    "from keras.layers import Dense, Flatten, Conv1D, MaxPooling1D, AveragePooling1D, Dropout\n",
    "from keras.layers import Activation, BatchNormalization\n",
    "from keras.optimizers import Adam\n",
    "from keras.utils import np_utils\n",
    "import tensorflow as tf\n",
    "from toolkit import plot_confusion_matrix\n",
    "from sklearn.utils import class_weight\n",
    "from keras.callbacks import EarlyStopping\n",
    "from sklearn.metrics import confusion_matrix\n",
    "from sklearn.metrics import f1_score\n",
    "from toolkit import to_3_classes\n",
    "np.set_printoptions(suppress=True)\n",
    "\n",
    "trainD = np.load(\"/home/hsiehch/30s/train_data.npy\")\n",
    "trainL = np.load(\"/home/hsiehch/30s/train_label.npy\")\n",
    "validationD = np.load(\"/home/hsiehch/30s/validation_data.npy\")\n",
    "validationL = np.load(\"/home/hsiehch/30s/validation_label.npy\")\n",
    "testD = np.load(\"/home/hsiehch/30s/test_data.npy\")\n",
    "testL = np.load(\"/home/hsiehch/30s/test_label.npy\")\n",
    "\n",
    "trainD = np.append(trainD, validationD, axis=0)\n",
    "trainL = np.append(trainL, validationL, axis=0)\n",
    "trainD = np.append(trainD, testD, axis=0)\n",
    "trainL = np.append(trainL, testL, axis=0)\n",
    "\n",
    "trainL = to_3_classes.to_3_classes(trainL)\n",
    "\n",
    "trainData = trainD.reshape((trainD.shape[0], trainD.shape[1], 1))\n",
    "trainLabel = np_utils.to_categorical(trainL, 3)\n",
    "\n",
    "print('Train Data:', trainData.shape)\n",
    "print('Train Label: ', trainLabel.shape)"
   ]
  },
  {
   "cell_type": "code",
   "execution_count": 2,
   "metadata": {
    "ExecuteTime": {
     "end_time": "2018-12-23T01:59:33.651635Z",
     "start_time": "2018-12-23T01:59:33.634194Z"
    },
    "code_folding": [],
    "scrolled": true
   },
   "outputs": [
    {
     "name": "stdout",
     "output_type": "stream",
     "text": [
      "StratifiedKFold(n_splits=5, random_state=None, shuffle=False)\n",
      "trian: [  181   182   183 ... 10148 10149 10150] len 8120 test: [   0    1    2 ... 3287 3288 3289] len 2031\n",
      "trian: [    0     1     2 ... 10148 10149 10150] len 8120 test: [ 181  182  183 ... 4479 4480 4481] len 2031\n",
      "trian: [    0     1     2 ... 10148 10149 10150] len 8120 test: [ 362  363  364 ... 6511 6512 6513] len 2031\n",
      "trian: [    0     1     2 ... 10148 10149 10150] len 8121 test: [5169 5170 5171 ... 8957 8958 8959] len 2030\n",
      "trian: [   0    1    2 ... 8957 8958 8959] len 8123 test: [ 7200  7201  7202 ... 10148 10149 10150] len 2028\n"
     ]
    }
   ],
   "source": [
    "from sklearn.model_selection import StratifiedKFold\n",
    "\n",
    "kf = StratifiedKFold(n_splits=5, shuffle=False)\n",
    "print(kf)\n",
    "\n",
    "for train_index, test_index in kf.split(trainD, trainL):\n",
    "    print('trian:', train_index, 'len', len(train_index), 'test:', test_index, 'len', len(test_index))"
   ]
  },
  {
   "cell_type": "code",
   "execution_count": null,
   "metadata": {
    "ExecuteTime": {
     "start_time": "2018-12-23T01:59:33.315Z"
    },
    "code_folding": [],
    "scrolled": true
   },
   "outputs": [
    {
     "name": "stdout",
     "output_type": "stream",
     "text": [
      "2031/2031 [==============================] - 1s 341us/step\n",
      "Loss: 0.575, Accuracy: 0.797\n",
      "2031/2031 [==============================] - 1s 333us/step\n",
      "Loss: 0.475, Accuracy: 0.831\n",
      "2031/2031 [==============================] - 1s 338us/step\n",
      "Loss: 0.498, Accuracy: 0.805\n",
      "2030/2030 [==============================] - 1s 339us/step\n",
      "Loss: 0.572, Accuracy: 0.802\n",
      "2028/2028 [==============================] - 1s 364us/step\n",
      "Loss: 0.544, Accuracy: 0.807\n",
      "2031/2031 [==============================] - 1s 346us/step\n",
      "Loss: 0.490, Accuracy: 0.825\n",
      "2031/2031 [==============================] - 1s 342us/step\n",
      "Loss: 0.492, Accuracy: 0.844\n",
      "2031/2031 [==============================] - 1s 348us/step\n",
      "Loss: 0.479, Accuracy: 0.821\n",
      "2030/2030 [==============================] - 1s 347us/step\n",
      "Loss: 0.521, Accuracy: 0.817\n",
      "2028/2028 [==============================] - 1s 361us/step\n",
      "Loss: 0.587, Accuracy: 0.790\n",
      "2031/2031 [==============================] - 1s 362us/step\n",
      "Loss: 1.097, Accuracy: 0.587\n"
     ]
    },
    {
     "name": "stderr",
     "output_type": "stream",
     "text": [
      "/usr/local/lib/python3.5/dist-packages/sklearn/metrics/classification.py:1143: UndefinedMetricWarning: F-score is ill-defined and being set to 0.0 in labels with no predicted samples.\n",
      "  'precision', 'predicted', average, warn_for)\n"
     ]
    },
    {
     "name": "stdout",
     "output_type": "stream",
     "text": [
      "2031/2031 [==============================] - 1s 364us/step\n",
      "Loss: 1.098, Accuracy: 0.587\n",
      "2031/2031 [==============================] - 1s 360us/step\n",
      "Loss: 1.097, Accuracy: 0.587\n",
      "2030/2030 [==============================] - 1s 396us/step\n",
      "Loss: 1.095, Accuracy: 0.587\n",
      "2028/2028 [==============================] - 1s 381us/step\n",
      "Loss: 1.098, Accuracy: 0.587\n",
      "2031/2031 [==============================] - 1s 465us/step\n",
      "Loss: 1.098, Accuracy: 0.324\n"
     ]
    },
    {
     "name": "stderr",
     "output_type": "stream",
     "text": [
      "/usr/local/lib/python3.5/dist-packages/sklearn/metrics/classification.py:1143: UndefinedMetricWarning: F-score is ill-defined and being set to 0.0 in labels with no predicted samples.\n",
      "  'precision', 'predicted', average, warn_for)\n"
     ]
    },
    {
     "name": "stdout",
     "output_type": "stream",
     "text": [
      "2031/2031 [==============================] - 1s 426us/step\n",
      "Loss: 1.099, Accuracy: 0.089\n",
      "2031/2031 [==============================] - 1s 375us/step\n",
      "Loss: 1.097, Accuracy: 0.587\n",
      "2030/2030 [==============================] - 1s 386us/step\n",
      "Loss: 1.097, Accuracy: 0.587\n",
      "2028/2028 [==============================] - 1s 397us/step\n",
      "Loss: 1.101, Accuracy: 0.089\n",
      "2031/2031 [==============================] - 1s 397us/step\n",
      "Loss: 1.098, Accuracy: 0.324\n"
     ]
    },
    {
     "name": "stderr",
     "output_type": "stream",
     "text": [
      "/usr/local/lib/python3.5/dist-packages/sklearn/metrics/classification.py:1143: UndefinedMetricWarning: F-score is ill-defined and being set to 0.0 in labels with no predicted samples.\n",
      "  'precision', 'predicted', average, warn_for)\n"
     ]
    },
    {
     "name": "stdout",
     "output_type": "stream",
     "text": [
      "2031/2031 [==============================] - 1s 402us/step\n",
      "Loss: 10.896, Accuracy: 0.324\n",
      "2031/2031 [==============================] - 1s 399us/step\n",
      "Loss: 1.093, Accuracy: 0.587\n",
      "2030/2030 [==============================] - 1s 390us/step\n",
      "Loss: 1.110, Accuracy: 0.089\n",
      "2028/2028 [==============================] - 1s 417us/step\n",
      "Loss: 1.089, Accuracy: 0.324\n",
      "2031/2031 [==============================] - 1s 437us/step\n",
      "Loss: 0.579, Accuracy: 0.801\n",
      "2031/2031 [==============================] - 1s 416us/step\n",
      "Loss: 0.504, Accuracy: 0.829\n",
      "2031/2031 [==============================] - 1s 424us/step\n",
      "Loss: 0.457, Accuracy: 0.820\n",
      "2030/2030 [==============================] - 1s 427us/step\n",
      "Loss: 0.533, Accuracy: 0.795\n",
      "2028/2028 [==============================] - 1s 472us/step\n",
      "Loss: 0.563, Accuracy: 0.778\n",
      "2031/2031 [==============================] - 1s 430us/step\n",
      "Loss: 0.562, Accuracy: 0.812\n",
      "2031/2031 [==============================] - 1s 438us/step\n",
      "Loss: 0.474, Accuracy: 0.841\n",
      "2031/2031 [==============================] - 1s 468us/step\n",
      "Loss: 0.458, Accuracy: 0.838\n",
      "2030/2030 [==============================] - 1s 440us/step\n",
      "Loss: 0.562, Accuracy: 0.811\n",
      "2028/2028 [==============================] - 1s 442us/step\n",
      "Loss: 0.582, Accuracy: 0.790\n",
      "2031/2031 [==============================] - 1s 461us/step\n",
      "Loss: 1.099, Accuracy: 0.324\n"
     ]
    },
    {
     "name": "stderr",
     "output_type": "stream",
     "text": [
      "/usr/local/lib/python3.5/dist-packages/sklearn/metrics/classification.py:1143: UndefinedMetricWarning: F-score is ill-defined and being set to 0.0 in labels with no predicted samples.\n",
      "  'precision', 'predicted', average, warn_for)\n"
     ]
    },
    {
     "name": "stdout",
     "output_type": "stream",
     "text": [
      "2031/2031 [==============================] - 1s 456us/step\n",
      "Loss: 0.486, Accuracy: 0.842\n",
      "2031/2031 [==============================] - 1s 524us/step\n",
      "Loss: 0.456, Accuracy: 0.850\n",
      "2030/2030 [==============================] - 1s 495us/step\n",
      "Loss: 1.098, Accuracy: 0.587\n",
      "2028/2028 [==============================] - 1s 470us/step\n",
      "Loss: 1.100, Accuracy: 0.089\n",
      "2031/2031 [==============================] - 1s 467us/step\n",
      "Loss: 1.101, Accuracy: 0.089\n"
     ]
    },
    {
     "name": "stderr",
     "output_type": "stream",
     "text": [
      "/usr/local/lib/python3.5/dist-packages/sklearn/metrics/classification.py:1143: UndefinedMetricWarning: F-score is ill-defined and being set to 0.0 in labels with no predicted samples.\n",
      "  'precision', 'predicted', average, warn_for)\n"
     ]
    },
    {
     "name": "stdout",
     "output_type": "stream",
     "text": [
      "2031/2031 [==============================] - 1s 467us/step\n",
      "Loss: 1.100, Accuracy: 0.089\n",
      "2031/2031 [==============================] - 1s 483us/step\n",
      "Loss: 1.099, Accuracy: 0.089\n",
      "2030/2030 [==============================] - 1s 461us/step\n",
      "Loss: 1.097, Accuracy: 0.587\n",
      "2028/2028 [==============================] - 1s 483us/step\n",
      "Loss: 1.099, Accuracy: 0.324\n",
      "2031/2031 [==============================] - 1s 513us/step\n",
      "Loss: 10.896, Accuracy: 0.324\n"
     ]
    },
    {
     "name": "stderr",
     "output_type": "stream",
     "text": [
      "/usr/local/lib/python3.5/dist-packages/sklearn/metrics/classification.py:1143: UndefinedMetricWarning: F-score is ill-defined and being set to 0.0 in labels with no predicted samples.\n",
      "  'precision', 'predicted', average, warn_for)\n"
     ]
    },
    {
     "name": "stdout",
     "output_type": "stream",
     "text": [
      "2031/2031 [==============================] - 1s 505us/step\n",
      "Loss: 6.658, Accuracy: 0.587\n",
      "2031/2031 [==============================] - 1s 481us/step\n",
      "Loss: 1.109, Accuracy: 0.089\n",
      "2030/2030 [==============================] - 1s 539us/step\n",
      "Loss: 1.098, Accuracy: 0.587\n",
      "2028/2028 [==============================] - 1s 504us/step\n",
      "Loss: 1.085, Accuracy: 0.324\n",
      "2031/2031 [==============================] - 1s 513us/step\n",
      "Loss: 0.541, Accuracy: 0.808\n",
      "2031/2031 [==============================] - 1s 545us/step\n",
      "Loss: 0.478, Accuracy: 0.835\n",
      "2031/2031 [==============================] - 1s 553us/step\n",
      "Loss: 0.494, Accuracy: 0.820\n",
      "2030/2030 [==============================] - 1s 507us/step\n",
      "Loss: 0.530, Accuracy: 0.822\n",
      "2028/2028 [==============================] - 1s 538us/step\n",
      "Loss: 0.607, Accuracy: 0.777\n",
      "2031/2031 [==============================] - 1s 514us/step\n",
      "Loss: 0.512, Accuracy: 0.819\n",
      "2031/2031 [==============================] - 1s 553us/step\n",
      "Loss: 0.453, Accuracy: 0.848\n",
      "2031/2031 [==============================] - 1s 510us/step\n",
      "Loss: 0.491, Accuracy: 0.824\n",
      "2030/2030 [==============================] - 1s 660us/step\n",
      "Loss: 0.529, Accuracy: 0.820\n",
      "2028/2028 [==============================] - 1s 516us/step\n",
      "Loss: 0.548, Accuracy: 0.795\n",
      "2031/2031 [==============================] - 1s 551us/step\n",
      "Loss: 0.500, Accuracy: 0.830\n",
      "2031/2031 [==============================] - 1s 574us/step\n",
      "Loss: 0.490, Accuracy: 0.835\n",
      "2031/2031 [==============================] - 1s 565us/step\n",
      "Loss: 0.463, Accuracy: 0.842\n",
      "2030/2030 [==============================] - 1s 575us/step\n",
      "Loss: 0.460, Accuracy: 0.827\n",
      "2028/2028 [==============================] - 1s 553us/step\n",
      "Loss: 0.547, Accuracy: 0.796\n",
      "2031/2031 [==============================] - 1s 561us/step\n",
      "Loss: 1.096, Accuracy: 0.587\n"
     ]
    },
    {
     "name": "stderr",
     "output_type": "stream",
     "text": [
      "/usr/local/lib/python3.5/dist-packages/sklearn/metrics/classification.py:1143: UndefinedMetricWarning: F-score is ill-defined and being set to 0.0 in labels with no predicted samples.\n",
      "  'precision', 'predicted', average, warn_for)\n"
     ]
    },
    {
     "name": "stdout",
     "output_type": "stream",
     "text": [
      "2031/2031 [==============================] - 1s 557us/step\n",
      "Loss: 1.098, Accuracy: 0.587\n",
      "2031/2031 [==============================] - 1s 579us/step\n",
      "Loss: 1.099, Accuracy: 0.324\n",
      "2030/2030 [==============================] - 1s 581us/step\n",
      "Loss: 1.099, Accuracy: 0.089\n",
      "2028/2028 [==============================] - 1s 572us/step\n",
      "Loss: 1.095, Accuracy: 0.587\n",
      "2031/2031 [==============================] - 1s 589us/step\n",
      "Loss: 1.098, Accuracy: 0.324\n"
     ]
    },
    {
     "name": "stderr",
     "output_type": "stream",
     "text": [
      "/usr/local/lib/python3.5/dist-packages/sklearn/metrics/classification.py:1143: UndefinedMetricWarning: F-score is ill-defined and being set to 0.0 in labels with no predicted samples.\n",
      "  'precision', 'predicted', average, warn_for)\n"
     ]
    },
    {
     "name": "stdout",
     "output_type": "stream",
     "text": [
      "2031/2031 [==============================] - 1s 586us/step\n",
      "Loss: 1.094, Accuracy: 0.587\n",
      "2031/2031 [==============================] - 1s 620us/step\n",
      "Loss: 1.103, Accuracy: 0.089\n",
      "2030/2030 [==============================] - 1s 583us/step\n",
      "Loss: 1.103, Accuracy: 0.324\n",
      "2028/2028 [==============================] - 1s 587us/step\n",
      "Loss: 1.102, Accuracy: 0.324\n",
      "2031/2031 [==============================] - 1s 628us/step\n",
      "Loss: 0.484, Accuracy: 0.810\n",
      "2031/2031 [==============================] - 1s 584us/step\n",
      "Loss: 0.521, Accuracy: 0.810\n",
      "2031/2031 [==============================] - 1s 614us/step\n",
      "Loss: 0.465, Accuracy: 0.824\n",
      "2030/2030 [==============================] - 1s 606us/step\n",
      "Loss: 0.510, Accuracy: 0.805\n",
      "2028/2028 [==============================] - 1s 606us/step\n",
      "Loss: 0.682, Accuracy: 0.731\n"
     ]
    }
   ],
   "source": [
    "from sklearn.metrics import f1_score\n",
    "import pandas as pd\n",
    "from sklearn.model_selection import GridSearchCV\n",
    "from keras.wrappers.scikit_learn import KerasClassifier\n",
    "import itertools\n",
    "\n",
    "def create_model():\n",
    "    model = Sequential()\n",
    "    model.add(Conv1D(filters = 32, kernel_size = 7, input_shape = (trainData.shape[1], 1)))\n",
    "    model.add(Activation('relu'))\n",
    "    model.add(BatchNormalization())\n",
    "    model.add(MaxPooling1D(pool_size = 2))\n",
    "\n",
    "    model.add(Conv1D(filters = 32, kernel_size = 7))\n",
    "    model.add(Activation('relu'))\n",
    "    model.add(MaxPooling1D(pool_size = 2))\n",
    "\n",
    "    model.add(Conv1D(filters = 64, kernel_size = 7))\n",
    "    model.add(Activation('relu'))\n",
    "    model.add(MaxPooling1D(pool_size = 2))\n",
    "\n",
    "    model.add(Conv1D(filters = 64, kernel_size = 3))\n",
    "    model.add(Activation('relu'))\n",
    "    model.add(MaxPooling1D(pool_size = 2))\n",
    "\n",
    "    model.add(Conv1D(filters = 128, kernel_size = 3))\n",
    "    model.add(Activation('relu'))\n",
    "    model.add(MaxPooling1D(pool_size = 2))\n",
    "\n",
    "    model.add(Conv1D(filters = 128, kernel_size = 3))\n",
    "    model.add(Activation('relu'))\n",
    "    model.add(MaxPooling1D(pool_size = 2))\n",
    "    model.add(Dropout(0.5))\n",
    "\n",
    "    model.add(Conv1D(filters = 256, kernel_size = 3))\n",
    "    model.add(Activation('relu'))\n",
    "    model.add(MaxPooling1D(pool_size = 2))\n",
    "\n",
    "    model.add(Conv1D(filters = 256, kernel_size = 3))\n",
    "    model.add(Activation('relu'))\n",
    "    model.add(MaxPooling1D(pool_size = 2))\n",
    "    model.add(Dropout(0.5))\n",
    "\n",
    "    model.add(Conv1D(filters = 512, kernel_size = 3))\n",
    "    model.add(Activation('relu'))\n",
    "    model.add(MaxPooling1D(pool_size = 2))\n",
    "    model.add(Dropout(0.5))\n",
    "\n",
    "    model.add(Conv1D(filters = 512, kernel_size = 3))\n",
    "    model.add(Activation('relu'))\n",
    "\n",
    "    model.add(Flatten())\n",
    "    model.add(Dense(512, activation = 'relu'))\n",
    "    model.add(Dropout(0.5))\n",
    "    model.add(Dense(128, activation = 'relu'))\n",
    "    model.add(Dense(3, activation = \"softmax\"))\n",
    "\n",
    "    return model\n",
    "\n",
    "def calculate_avg_F1(scores):\n",
    "    tmp = [0,0,0]\n",
    "    for i in scores:\n",
    "        tmp += i\n",
    "    tmp /= 5\n",
    "    return tmp\n",
    "\n",
    "def run_model(batch_S, learning_rate):\n",
    "    \n",
    "    Scores = []\n",
    "    for train_index, test_index in kf.split(trainD, trainL):\n",
    "\n",
    "        model = create_model()\n",
    "        adam = Adam(lr = learning_rate)\n",
    "        model.compile(optimizer = adam, loss = \"categorical_crossentropy\", metrics=['accuracy'])\n",
    "        early_stop = EarlyStopping(patience=20)\n",
    "        cw = class_weight.compute_sample_weight('balanced', [0,1,2], trainL[train_index])\n",
    "        cw = {0: cw[0],\n",
    "              1: cw[1],\n",
    "              2: cw[2]}\n",
    "        train_history_1 = model.fit(x = trainData[train_index],\n",
    "                                    y = trainLabel[train_index],\n",
    "                                    epochs=150,\n",
    "                                    validation_data=(trainData[test_index], trainLabel[test_index]),\n",
    "                                    callbacks=[early_stop],\n",
    "                                    class_weight=cw,\n",
    "                                    batch_size=batch_S, \n",
    "                                    verbose=0)\n",
    "\n",
    "        evaluation = model.evaluate(x = trainData[test_index], y = trainLabel[test_index])\n",
    "        print('Loss: {:.3f}, Accuracy: {:.3f}'.format(evaluation[0], evaluation[1]))\n",
    "\n",
    "        validation_prediction = model.predict_classes(trainData[test_index], batch_size=batch_S)\n",
    "        validation_prediction = np_utils.to_categorical(validation_prediction, 3)\n",
    "        score = f1_score(trainLabel[test_index], validation_prediction, average=None)\n",
    "        Scores.append(score)\n",
    "        del model\n",
    "    \n",
    "    result = calculate_avg_F1(Scores)\n",
    "    F1_result.append(result)\n",
    "    del Scores\n",
    "    \n",
    "\n",
    "        \n",
    "F1_result = []\n",
    "hyperparameter_index = []\n",
    "batch_S = [30, 50, 70, 90, 120]\n",
    "learning_rate = [0.00005, 0.0001, 0.0005, 0.001, 0.005]\n",
    "\n",
    "for bat, lr in itertools.product(batch_S, learning_rate):\n",
    "    hyperparameter_index.append([bat, lr])\n",
    "    run_model(bat, lr)\n",
    "\n",
    "print('Finish training!')"
   ]
  },
  {
   "cell_type": "code",
   "execution_count": null,
   "metadata": {
    "ExecuteTime": {
     "start_time": "2018-12-23T01:59:33.316Z"
    }
   },
   "outputs": [],
   "source": [
    "import pprint\n",
    "pprint.pprint(F1_result)"
   ]
  }
 ],
 "metadata": {
  "kernelspec": {
   "display_name": "Python 3",
   "language": "python",
   "name": "python3"
  },
  "language_info": {
   "codemirror_mode": {
    "name": "ipython",
    "version": 3
   },
   "file_extension": ".py",
   "mimetype": "text/x-python",
   "name": "python",
   "nbconvert_exporter": "python",
   "pygments_lexer": "ipython3",
   "version": "3.5.2"
  }
 },
 "nbformat": 4,
 "nbformat_minor": 2
}
