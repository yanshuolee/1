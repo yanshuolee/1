{
 "cells": [
  {
   "cell_type": "markdown",
   "metadata": {},
   "source": [
    "## 30 seconds"
   ]
  },
  {
   "cell_type": "code",
   "execution_count": 3,
   "metadata": {
    "ExecuteTime": {
     "end_time": "2018-10-16T14:33:32.818896Z",
     "start_time": "2018-10-16T14:33:32.804328Z"
    },
    "hide_input": true
   },
   "outputs": [
    {
     "data": {
      "text/plain": [
       "array([ 452.,  150., 2980., 1496.])"
      ]
     },
     "execution_count": 3,
     "metadata": {},
     "output_type": "execute_result"
    }
   ],
   "source": [
    "sum(trainLabel)"
   ]
  },
  {
   "cell_type": "code",
   "execution_count": 1,
   "metadata": {
    "ExecuteTime": {
     "end_time": "2018-11-20T01:46:52.411052Z",
     "start_time": "2018-11-20T01:46:50.517404Z"
    },
    "hide_input": true
   },
   "outputs": [
    {
     "name": "stderr",
     "output_type": "stream",
     "text": [
      "/usr/local/lib/python3.5/dist-packages/h5py/__init__.py:36: FutureWarning: Conversion of the second argument of issubdtype from `float` to `np.floating` is deprecated. In future, it will be treated as `np.float64 == np.dtype(float).type`.\n",
      "  from ._conv import register_converters as _register_converters\n",
      "Using TensorFlow backend.\n"
     ]
    },
    {
     "name": "stdout",
     "output_type": "stream",
     "text": [
      "Train Data: (5078, 9000, 1)\n",
      "Train Label:  (5078, 4)\n",
      "Vali Data:  (2032, 9000, 1)\n",
      "Vali Label:  (2032, 4)\n",
      "Test Data:  (3041, 9000, 1)\n",
      "Test Label:  (3041, 4)\n"
     ]
    }
   ],
   "source": [
    "import numpy as np\n",
    "from keras.models import Sequential\n",
    "from keras.layers import Dense, Flatten, Conv1D, MaxPooling1D, AveragePooling1D, Dropout\n",
    "from keras.layers import BatchNormalization, Activation\n",
    "from keras.initializers import VarianceScaling\n",
    "from keras.optimizers import Adam\n",
    "from keras.utils import np_utils\n",
    "import tensorflow as tf\n",
    "from keras.callbacks import EarlyStopping\n",
    "from sklearn.utils import class_weight\n",
    "np.set_printoptions(suppress=True)\n",
    "\n",
    "trainD = np.load(\"/home/hsiehch/30s/train_data.npy\")\n",
    "trainL = np.load(\"/home/hsiehch/30s/train_label.npy\")\n",
    "validationD = np.load(\"/home/hsiehch/30s/validation_data.npy\")\n",
    "validationL = np.load(\"/home/hsiehch/30s/validation_label.npy\")\n",
    "testD = np.load(\"/home/hsiehch/30s/test_data.npy\")\n",
    "testL = np.load(\"/home/hsiehch/30s/test_label.npy\")\n",
    "\n",
    "trainData = trainD.reshape((trainD.shape[0], trainD.shape[1], 1))\n",
    "trainLabel = np_utils.to_categorical(trainL, 4)\n",
    "validationData = validationD.reshape((validationD.shape[0], validationD.shape[1], 1))\n",
    "validationLabel = np_utils.to_categorical(validationL, 4)\n",
    "testData = testD.reshape((testD.shape[0], testD.shape[1], 1))\n",
    "testLabel = np_utils.to_categorical(testL, 4)\n",
    "print('Train Data:', trainData.shape)\n",
    "print('Train Label: ', trainLabel.shape)\n",
    "print('Vali Data: ', validationData.shape)\n",
    "print('Vali Label: ', validationLabel.shape)\n",
    "print('Test Data: ', testData.shape)\n",
    "print('Test Label: ', testLabel.shape)"
   ]
  },
  {
   "cell_type": "code",
   "execution_count": 5,
   "metadata": {
    "ExecuteTime": {
     "end_time": "2018-11-24T14:23:35.041372Z",
     "start_time": "2018-11-24T14:23:35.031629Z"
    },
    "hide_input": true
   },
   "outputs": [
    {
     "name": "stdout",
     "output_type": "stream",
     "text": [
      "[2.80862832 8.46333333 0.42600671 0.84859626]\n"
     ]
    }
   ],
   "source": [
    "cw = class_weight.compute_sample_weight('balanced', [0,1,2,3], trainL)\n",
    "print(cw)"
   ]
  },
  {
   "cell_type": "code",
   "execution_count": 7,
   "metadata": {
    "ExecuteTime": {
     "end_time": "2018-11-20T01:49:12.792726Z",
     "start_time": "2018-11-20T01:49:12.785355Z"
    },
    "hide_input": true
   },
   "outputs": [
    {
     "name": "stdout",
     "output_type": "stream",
     "text": [
      "[1269.50000064 1269.4999995  1269.4999958  1269.50000496]\n"
     ]
    }
   ],
   "source": [
    "a = np.array([ 452.,  150., 2980., 1496.])\n",
    "b = np.array([2.80862832, 8.46333333, 0.42600671, 0.84859626])\n",
    "print(a*b)"
   ]
  },
  {
   "cell_type": "code",
   "execution_count": 1,
   "metadata": {
    "ExecuteTime": {
     "end_time": "2018-12-02T05:37:29.134565Z",
     "start_time": "2018-12-02T05:35:55.904218Z"
    }
   },
   "outputs": [
    {
     "name": "stderr",
     "output_type": "stream",
     "text": [
      "/usr/local/lib/python3.5/dist-packages/h5py/__init__.py:36: FutureWarning: Conversion of the second argument of issubdtype from `float` to `np.floating` is deprecated. In future, it will be treated as `np.float64 == np.dtype(float).type`.\n",
      "  from ._conv import register_converters as _register_converters\n",
      "Using TensorFlow backend.\n"
     ]
    },
    {
     "name": "stdout",
     "output_type": "stream",
     "text": [
      "Problematic data index:  [13, 37, 81, 124, 184, 187, 188, 399, 408, 463, 481, 485, 487, 488, 490, 497, 499, 503, 531, 532, 536, 539, 541, 542, 552, 559, 560, 589, 591, 592, 593, 617, 732, 817, 934, 1037, 1209, 1265, 1307, 1367, 1416, 1437, 1447, 1603, 1604, 1618, 1644, 1645, 1667, 1848, 1868, 1881, 1891, 1899, 1980, 1981, 1987, 2053, 2221, 2330, 2352, 2368, 2388, 2423, 2476, 2502, 2654, 2676, 2792, 2799, 2819, 2878, 2941, 2972, 3021, 3116, 3303, 3401, 3412, 3617, 3631, 3669, 3699, 3734, 3885, 3899, 3903, 3949, 3974, 4033, 4077, 4129, 4285, 4373, 4719, 4733, 4958, 4960, 4980, 5029, 5068]\n",
      "Normalization done!\n",
      "Problematic data index:  [185, 189, 190, 196, 199, 221, 222, 230, 236, 252, 348, 383, 460, 466, 467, 618, 619, 768, 769, 791, 904, 915, 982, 989, 1053, 1075, 1139, 1179, 1182, 1215, 1223, 1244, 1252, 1371, 1712, 1713, 1803, 1804, 1834, 1925, 1926, 1997, 1998, 2021]\n",
      "Normalization done!\n",
      "Problematic data index:  [87, 146, 196, 279, 291, 295, 304, 307, 314, 316, 322, 336, 340, 351, 355, 358, 420, 447, 448, 497, 635, 650, 693, 886, 949, 988, 1122, 1278, 1305, 1306, 1331, 1428, 1436, 1437, 1721, 1755, 1865, 1928, 2018, 2019, 2100, 2127, 2156, 2224, 2432, 2602, 2670, 2694, 2733, 2792, 2839, 2852, 2918, 2942]\n",
      "Normalization done!\n",
      "Train Data: (5078, 9000, 1)\n",
      "Train Label:  (5078, 4)\n",
      "Vali Data:  (2032, 9000, 1)\n",
      "Vali Label:  (2032, 4)\n",
      "Test Data:  (3041, 9000, 1)\n",
      "Test Label:  (3041, 4)\n"
     ]
    }
   ],
   "source": [
    "import numpy as np\n",
    "from keras.models import Sequential\n",
    "from keras.layers import Dense, Flatten, Conv1D, MaxPooling1D, AveragePooling1D, Dropout\n",
    "from keras.layers import BatchNormalization, Activation\n",
    "from keras.optimizers import Adam\n",
    "from keras.utils import np_utils\n",
    "import tensorflow as tf\n",
    "from keras.callbacks import EarlyStopping\n",
    "from sklearn.utils import class_weight\n",
    "from toolkit import normalization\n",
    "np.set_printoptions(suppress=True)\n",
    "\n",
    "trainD = np.load(\"/home/hsiehch/30s/train_data.npy\")\n",
    "trainL = np.load(\"/home/hsiehch/30s/train_label.npy\")\n",
    "validationD = np.load(\"/home/hsiehch/30s/validation_data.npy\")\n",
    "validationL = np.load(\"/home/hsiehch/30s/validation_label.npy\")\n",
    "testD = np.load(\"/home/hsiehch/30s/test_data.npy\")\n",
    "testL = np.load(\"/home/hsiehch/30s/test_label.npy\")\n",
    "\n",
    "trainD = normalization.normalize_arr(trainD, trace=True)\n",
    "validationD = normalization.normalize_arr(validationD, trace=True)\n",
    "testD = normalization.normalize_arr(testD, trace=True)\n",
    "\n",
    "trainData = trainD.reshape((trainD.shape[0], trainD.shape[1], 1))\n",
    "trainLabel = np_utils.to_categorical(trainL, 4)\n",
    "validationData = validationD.reshape((validationD.shape[0], validationD.shape[1], 1))\n",
    "validationLabel = np_utils.to_categorical(validationL, 4)\n",
    "testData = testD.reshape((testD.shape[0], testD.shape[1], 1))\n",
    "testLabel = np_utils.to_categorical(testL, 4)\n",
    "\n",
    "cw = class_weight.compute_sample_weight('balanced', [0,1,2,3], trainL)\n",
    "\n",
    "print('Train Data:', trainData.shape)\n",
    "print('Train Label: ', trainLabel.shape)\n",
    "print('Vali Data: ', validationData.shape)\n",
    "print('Vali Label: ', validationLabel.shape)\n",
    "print('Test Data: ', testData.shape)\n",
    "print('Test Label: ', testLabel.shape)"
   ]
  },
  {
   "cell_type": "code",
   "execution_count": 2,
   "metadata": {
    "ExecuteTime": {
     "end_time": "2018-12-02T05:46:29.779684Z",
     "start_time": "2018-12-02T05:40:06.453457Z"
    },
    "code_folding": [],
    "hide_input": false,
    "scrolled": true
   },
   "outputs": [
    {
     "name": "stdout",
     "output_type": "stream",
     "text": [
      "Good to go!\n",
      "_________________________________________________________________\n",
      "Layer (type)                 Output Shape              Param #   \n",
      "=================================================================\n",
      "conv1d_1 (Conv1D)            (None, 8994, 32)          256       \n",
      "_________________________________________________________________\n",
      "activation_1 (Activation)    (None, 8994, 32)          0         \n",
      "_________________________________________________________________\n",
      "batch_normalization_1 (Batch (None, 8994, 32)          128       \n",
      "_________________________________________________________________\n",
      "max_pooling1d_1 (MaxPooling1 (None, 4497, 32)          0         \n",
      "_________________________________________________________________\n",
      "conv1d_2 (Conv1D)            (None, 4491, 32)          7200      \n",
      "_________________________________________________________________\n",
      "activation_2 (Activation)    (None, 4491, 32)          0         \n",
      "_________________________________________________________________\n",
      "max_pooling1d_2 (MaxPooling1 (None, 2245, 32)          0         \n",
      "_________________________________________________________________\n",
      "conv1d_3 (Conv1D)            (None, 2239, 32)          7200      \n",
      "_________________________________________________________________\n",
      "activation_3 (Activation)    (None, 2239, 32)          0         \n",
      "_________________________________________________________________\n",
      "max_pooling1d_3 (MaxPooling1 (None, 1119, 32)          0         \n",
      "_________________________________________________________________\n",
      "conv1d_4 (Conv1D)            (None, 1115, 32)          5152      \n",
      "_________________________________________________________________\n",
      "activation_4 (Activation)    (None, 1115, 32)          0         \n",
      "_________________________________________________________________\n",
      "max_pooling1d_4 (MaxPooling1 (None, 557, 32)           0         \n",
      "_________________________________________________________________\n",
      "conv1d_5 (Conv1D)            (None, 553, 32)           5152      \n",
      "_________________________________________________________________\n",
      "activation_5 (Activation)    (None, 553, 32)           0         \n",
      "_________________________________________________________________\n",
      "max_pooling1d_5 (MaxPooling1 (None, 276, 32)           0         \n",
      "_________________________________________________________________\n",
      "conv1d_6 (Conv1D)            (None, 272, 32)           5152      \n",
      "_________________________________________________________________\n",
      "activation_6 (Activation)    (None, 272, 32)           0         \n",
      "_________________________________________________________________\n",
      "max_pooling1d_6 (MaxPooling1 (None, 136, 32)           0         \n",
      "_________________________________________________________________\n",
      "dropout_1 (Dropout)          (None, 136, 32)           0         \n",
      "_________________________________________________________________\n",
      "conv1d_7 (Conv1D)            (None, 134, 64)           6208      \n",
      "_________________________________________________________________\n",
      "activation_7 (Activation)    (None, 134, 64)           0         \n",
      "_________________________________________________________________\n",
      "max_pooling1d_7 (MaxPooling1 (None, 67, 64)            0         \n",
      "_________________________________________________________________\n",
      "conv1d_8 (Conv1D)            (None, 65, 64)            12352     \n",
      "_________________________________________________________________\n",
      "activation_8 (Activation)    (None, 65, 64)            0         \n",
      "_________________________________________________________________\n",
      "max_pooling1d_8 (MaxPooling1 (None, 32, 64)            0         \n",
      "_________________________________________________________________\n",
      "dropout_2 (Dropout)          (None, 32, 64)            0         \n",
      "_________________________________________________________________\n",
      "conv1d_9 (Conv1D)            (None, 30, 64)            12352     \n",
      "_________________________________________________________________\n",
      "activation_9 (Activation)    (None, 30, 64)            0         \n",
      "_________________________________________________________________\n",
      "max_pooling1d_9 (MaxPooling1 (None, 15, 64)            0         \n",
      "_________________________________________________________________\n",
      "dropout_3 (Dropout)          (None, 15, 64)            0         \n",
      "_________________________________________________________________\n",
      "conv1d_10 (Conv1D)           (None, 13, 128)           24704     \n",
      "_________________________________________________________________\n",
      "activation_10 (Activation)   (None, 13, 128)           0         \n",
      "_________________________________________________________________\n",
      "max_pooling1d_10 (MaxPooling (None, 6, 128)            0         \n",
      "_________________________________________________________________\n",
      "conv1d_11 (Conv1D)           (None, 4, 128)            49280     \n",
      "_________________________________________________________________\n",
      "activation_11 (Activation)   (None, 4, 128)            0         \n",
      "_________________________________________________________________\n",
      "flatten_1 (Flatten)          (None, 512)               0         \n",
      "_________________________________________________________________\n",
      "dense_1 (Dense)              (None, 128)               65664     \n",
      "_________________________________________________________________\n",
      "dropout_4 (Dropout)          (None, 128)               0         \n",
      "_________________________________________________________________\n",
      "dense_2 (Dense)              (None, 64)                8256      \n",
      "_________________________________________________________________\n",
      "dense_3 (Dense)              (None, 4)                 260       \n",
      "=================================================================\n",
      "Total params: 209,316\n",
      "Trainable params: 209,252\n",
      "Non-trainable params: 64\n",
      "_________________________________________________________________\n",
      "None\n",
      "Train on 5078 samples, validate on 2032 samples\n",
      "Epoch 1/150\n",
      "5078/5078 [==============================] - 9s 2ms/step - loss: 1.4002 - acc: 0.3102 - val_loss: 1.3896 - val_acc: 0.1619\n",
      "Epoch 2/150\n",
      "5078/5078 [==============================] - 4s 748us/step - loss: 1.3722 - acc: 0.2440 - val_loss: 1.3634 - val_acc: 0.3022\n",
      "Epoch 3/150\n",
      "5078/5078 [==============================] - 4s 745us/step - loss: 1.3339 - acc: 0.2113 - val_loss: 1.2623 - val_acc: 0.2530\n",
      "Epoch 4/150\n",
      "5078/5078 [==============================] - 4s 797us/step - loss: 1.1792 - acc: 0.2706 - val_loss: 1.3079 - val_acc: 0.2495\n",
      "Epoch 5/150\n",
      "5078/5078 [==============================] - 4s 764us/step - loss: 1.1254 - acc: 0.2540 - val_loss: 1.3499 - val_acc: 0.2436\n",
      "Epoch 6/150\n",
      "5078/5078 [==============================] - 4s 770us/step - loss: 1.0787 - acc: 0.3015 - val_loss: 1.2735 - val_acc: 0.1594\n",
      "Epoch 7/150\n",
      "5078/5078 [==============================] - 4s 780us/step - loss: 1.0881 - acc: 0.2424 - val_loss: 1.2556 - val_acc: 0.1496\n",
      "Epoch 8/150\n",
      "5078/5078 [==============================] - 4s 768us/step - loss: 1.0389 - acc: 0.2755 - val_loss: 1.1823 - val_acc: 0.5335\n",
      "Epoch 9/150\n",
      "5078/5078 [==============================] - 4s 811us/step - loss: 1.0395 - acc: 0.2592 - val_loss: 1.1694 - val_acc: 0.5030\n",
      "Epoch 10/150\n",
      "5078/5078 [==============================] - 4s 809us/step - loss: 1.0274 - acc: 0.2586 - val_loss: 1.2075 - val_acc: 0.3076\n",
      "Epoch 11/150\n",
      "5078/5078 [==============================] - 4s 773us/step - loss: 1.0414 - acc: 0.2981 - val_loss: 1.1438 - val_acc: 0.5640\n",
      "Epoch 12/150\n",
      "5078/5078 [==============================] - 4s 775us/step - loss: 1.0057 - acc: 0.3054 - val_loss: 1.1734 - val_acc: 0.2047\n",
      "Epoch 13/150\n",
      "5078/5078 [==============================] - 4s 784us/step - loss: 1.0417 - acc: 0.3007 - val_loss: 1.1514 - val_acc: 0.4444\n",
      "Epoch 14/150\n",
      "5078/5078 [==============================] - 4s 749us/step - loss: 0.9961 - acc: 0.2881 - val_loss: 1.1559 - val_acc: 0.3287\n",
      "Epoch 15/150\n",
      "5078/5078 [==============================] - 4s 784us/step - loss: 0.9977 - acc: 0.2792 - val_loss: 1.1711 - val_acc: 0.5522\n",
      "Epoch 16/150\n",
      "5078/5078 [==============================] - 4s 794us/step - loss: 0.9706 - acc: 0.3011 - val_loss: 1.1259 - val_acc: 0.5384\n",
      "Epoch 17/150\n",
      "5078/5078 [==============================] - 4s 779us/step - loss: 0.9566 - acc: 0.4165 - val_loss: 1.0690 - val_acc: 0.5723\n",
      "Epoch 18/150\n"
     ]
    },
    {
     "name": "stdout",
     "output_type": "stream",
     "text": [
      "5078/5078 [==============================] - 4s 757us/step - loss: 0.9040 - acc: 0.4986 - val_loss: 1.0328 - val_acc: 0.5743\n",
      "Epoch 19/150\n",
      "5078/5078 [==============================] - 4s 804us/step - loss: 0.8743 - acc: 0.5272 - val_loss: 1.0202 - val_acc: 0.5664\n",
      "Epoch 20/150\n",
      "5078/5078 [==============================] - 4s 796us/step - loss: 0.8362 - acc: 0.5581 - val_loss: 0.8924 - val_acc: 0.6324\n",
      "Epoch 21/150\n",
      "5078/5078 [==============================] - 4s 790us/step - loss: 0.8269 - acc: 0.5545 - val_loss: 1.0315 - val_acc: 0.5684\n",
      "Epoch 22/150\n",
      "5078/5078 [==============================] - 4s 783us/step - loss: 0.8236 - acc: 0.5658 - val_loss: 0.8448 - val_acc: 0.6437\n",
      "Epoch 23/150\n",
      "5078/5078 [==============================] - 4s 752us/step - loss: 0.8075 - acc: 0.5705 - val_loss: 0.8521 - val_acc: 0.6289\n",
      "Epoch 24/150\n",
      "5078/5078 [==============================] - 4s 748us/step - loss: 0.8419 - acc: 0.5364 - val_loss: 1.0105 - val_acc: 0.5802\n",
      "Epoch 25/150\n",
      "5078/5078 [==============================] - 4s 784us/step - loss: 0.7583 - acc: 0.5821 - val_loss: 0.8154 - val_acc: 0.6476\n",
      "Epoch 26/150\n",
      "5078/5078 [==============================] - 4s 778us/step - loss: 0.7340 - acc: 0.5983 - val_loss: 0.8378 - val_acc: 0.6407\n",
      "Epoch 27/150\n",
      "5078/5078 [==============================] - 4s 747us/step - loss: 0.7418 - acc: 0.5991 - val_loss: 0.7799 - val_acc: 0.6693\n",
      "Epoch 28/150\n",
      "5078/5078 [==============================] - 4s 785us/step - loss: 0.7219 - acc: 0.6134 - val_loss: 1.0224 - val_acc: 0.5782\n",
      "Epoch 29/150\n",
      "5078/5078 [==============================] - 4s 803us/step - loss: 0.7377 - acc: 0.6091 - val_loss: 0.8788 - val_acc: 0.6102\n",
      "Epoch 30/150\n",
      "5078/5078 [==============================] - 4s 775us/step - loss: 0.7383 - acc: 0.5931 - val_loss: 0.7741 - val_acc: 0.6698\n",
      "Epoch 31/150\n",
      "5078/5078 [==============================] - 4s 746us/step - loss: 0.6983 - acc: 0.6223 - val_loss: 0.7612 - val_acc: 0.6624\n",
      "Epoch 32/150\n",
      "5078/5078 [==============================] - 4s 806us/step - loss: 0.6918 - acc: 0.6103 - val_loss: 0.7582 - val_acc: 0.6624\n",
      "Epoch 33/150\n",
      "5078/5078 [==============================] - 4s 776us/step - loss: 0.6522 - acc: 0.6359 - val_loss: 0.7726 - val_acc: 0.6609\n",
      "Epoch 34/150\n",
      "5078/5078 [==============================] - 4s 811us/step - loss: 0.6615 - acc: 0.6420 - val_loss: 0.7953 - val_acc: 0.6550\n",
      "Epoch 35/150\n",
      "5078/5078 [==============================] - 4s 798us/step - loss: 0.6713 - acc: 0.6282 - val_loss: 0.7431 - val_acc: 0.6713\n",
      "Epoch 36/150\n",
      "5078/5078 [==============================] - 4s 801us/step - loss: 0.6566 - acc: 0.6355 - val_loss: 0.7852 - val_acc: 0.6486\n",
      "Epoch 37/150\n",
      "5078/5078 [==============================] - 4s 786us/step - loss: 0.6319 - acc: 0.6503 - val_loss: 0.7612 - val_acc: 0.6767\n",
      "Epoch 38/150\n",
      "5078/5078 [==============================] - 4s 788us/step - loss: 0.6438 - acc: 0.6495 - val_loss: 0.8352 - val_acc: 0.6511\n",
      "Epoch 39/150\n",
      "5078/5078 [==============================] - 4s 748us/step - loss: 0.6446 - acc: 0.6416 - val_loss: 0.7401 - val_acc: 0.6831\n",
      "Epoch 40/150\n",
      "5078/5078 [==============================] - 4s 771us/step - loss: 0.6157 - acc: 0.6581 - val_loss: 0.7293 - val_acc: 0.6875\n",
      "Epoch 41/150\n",
      "5078/5078 [==============================] - 4s 792us/step - loss: 0.5970 - acc: 0.6751 - val_loss: 0.7215 - val_acc: 0.6860\n",
      "Epoch 42/150\n",
      "5078/5078 [==============================] - 4s 810us/step - loss: 0.5948 - acc: 0.6703 - val_loss: 0.7359 - val_acc: 0.6905\n",
      "Epoch 43/150\n",
      "5078/5078 [==============================] - 4s 801us/step - loss: 0.5706 - acc: 0.6747 - val_loss: 0.7267 - val_acc: 0.6806\n",
      "Epoch 44/150\n",
      "5078/5078 [==============================] - 4s 760us/step - loss: 0.6573 - acc: 0.6485 - val_loss: 0.7334 - val_acc: 0.6836\n",
      "Epoch 45/150\n",
      "5078/5078 [==============================] - 4s 803us/step - loss: 0.5789 - acc: 0.6772 - val_loss: 0.7217 - val_acc: 0.7003\n",
      "Epoch 46/150\n",
      "5078/5078 [==============================] - 4s 786us/step - loss: 0.5712 - acc: 0.6843 - val_loss: 0.7087 - val_acc: 0.7037\n",
      "Epoch 47/150\n",
      "5078/5078 [==============================] - 4s 792us/step - loss: 0.5693 - acc: 0.6794 - val_loss: 0.7137 - val_acc: 0.6949\n",
      "Epoch 48/150\n",
      "5078/5078 [==============================] - 4s 778us/step - loss: 0.5641 - acc: 0.6877 - val_loss: 0.6960 - val_acc: 0.6998\n",
      "Epoch 49/150\n",
      "5078/5078 [==============================] - 4s 746us/step - loss: 0.5488 - acc: 0.6979 - val_loss: 0.7224 - val_acc: 0.7013\n",
      "Epoch 50/150\n",
      "5078/5078 [==============================] - 4s 764us/step - loss: 0.5422 - acc: 0.6991 - val_loss: 0.7010 - val_acc: 0.7131\n",
      "Epoch 51/150\n",
      "5078/5078 [==============================] - 4s 798us/step - loss: 0.5562 - acc: 0.6979 - val_loss: 0.7173 - val_acc: 0.6954\n",
      "Epoch 52/150\n",
      "5078/5078 [==============================] - 4s 750us/step - loss: 0.5418 - acc: 0.7020 - val_loss: 0.7639 - val_acc: 0.6865\n",
      "Epoch 53/150\n",
      "5078/5078 [==============================] - 4s 757us/step - loss: 0.5498 - acc: 0.7062 - val_loss: 0.7096 - val_acc: 0.7146\n",
      "Epoch 54/150\n",
      "5078/5078 [==============================] - 4s 781us/step - loss: 0.5197 - acc: 0.7196 - val_loss: 0.7097 - val_acc: 0.7175\n",
      "Epoch 55/150\n",
      "5078/5078 [==============================] - 4s 769us/step - loss: 0.5528 - acc: 0.7017 - val_loss: 0.7667 - val_acc: 0.6826\n",
      "Epoch 56/150\n",
      "5078/5078 [==============================] - 4s 743us/step - loss: 0.5306 - acc: 0.7009 - val_loss: 0.7196 - val_acc: 0.7126\n",
      "Epoch 57/150\n",
      "5078/5078 [==============================] - 4s 793us/step - loss: 0.4979 - acc: 0.7162 - val_loss: 0.7162 - val_acc: 0.7205\n",
      "Epoch 58/150\n",
      "5078/5078 [==============================] - 4s 776us/step - loss: 0.4990 - acc: 0.7276 - val_loss: 0.7011 - val_acc: 0.7136\n",
      "Epoch 59/150\n",
      "5078/5078 [==============================] - 4s 748us/step - loss: 0.4786 - acc: 0.7318 - val_loss: 0.6931 - val_acc: 0.7219\n",
      "Epoch 60/150\n",
      "5078/5078 [==============================] - 4s 822us/step - loss: 0.5271 - acc: 0.7221 - val_loss: 0.7817 - val_acc: 0.6791\n",
      "Epoch 61/150\n",
      "5078/5078 [==============================] - 4s 746us/step - loss: 0.5152 - acc: 0.7288 - val_loss: 0.7928 - val_acc: 0.6747\n",
      "Epoch 62/150\n",
      "5078/5078 [==============================] - 4s 776us/step - loss: 0.5638 - acc: 0.7133 - val_loss: 0.6943 - val_acc: 0.7249\n",
      "Epoch 63/150\n",
      "5078/5078 [==============================] - 4s 803us/step - loss: 0.4817 - acc: 0.7357 - val_loss: 0.7121 - val_acc: 0.7170\n",
      "Epoch 64/150\n",
      "5078/5078 [==============================] - 4s 790us/step - loss: 0.4689 - acc: 0.7448 - val_loss: 0.6802 - val_acc: 0.7264\n",
      "Epoch 65/150\n",
      "5078/5078 [==============================] - 4s 783us/step - loss: 0.4978 - acc: 0.7255 - val_loss: 0.7031 - val_acc: 0.7224\n",
      "Epoch 66/150\n",
      "5078/5078 [==============================] - 4s 764us/step - loss: 0.4640 - acc: 0.7460 - val_loss: 0.6891 - val_acc: 0.7249\n",
      "Epoch 67/150\n",
      "5078/5078 [==============================] - 4s 754us/step - loss: 0.4632 - acc: 0.7446 - val_loss: 0.6724 - val_acc: 0.7298\n",
      "Epoch 68/150\n",
      "5078/5078 [==============================] - 4s 775us/step - loss: 0.4623 - acc: 0.7383 - val_loss: 0.6680 - val_acc: 0.7298\n",
      "Epoch 69/150\n",
      "5078/5078 [==============================] - 4s 779us/step - loss: 0.5361 - acc: 0.7213 - val_loss: 0.7227 - val_acc: 0.7003\n",
      "Epoch 70/150\n",
      "5078/5078 [==============================] - 4s 768us/step - loss: 0.4861 - acc: 0.7324 - val_loss: 0.6685 - val_acc: 0.7387\n",
      "Epoch 71/150\n",
      "5078/5078 [==============================] - 4s 811us/step - loss: 0.4614 - acc: 0.7570 - val_loss: 0.6927 - val_acc: 0.7333\n",
      "Epoch 72/150\n",
      "5078/5078 [==============================] - 4s 771us/step - loss: 0.4294 - acc: 0.7672 - val_loss: 0.7327 - val_acc: 0.7205\n",
      "Epoch 73/150\n",
      "5078/5078 [==============================] - 4s 770us/step - loss: 0.4381 - acc: 0.7564 - val_loss: 0.6851 - val_acc: 0.7392\n",
      "Epoch 74/150\n",
      "5078/5078 [==============================] - 4s 790us/step - loss: 0.4526 - acc: 0.7560 - val_loss: 0.6401 - val_acc: 0.7451\n",
      "Epoch 75/150\n",
      "5078/5078 [==============================] - 4s 766us/step - loss: 0.5030 - acc: 0.7300 - val_loss: 0.6186 - val_acc: 0.7549\n",
      "Epoch 76/150\n",
      "5078/5078 [==============================] - 4s 794us/step - loss: 0.4622 - acc: 0.7468 - val_loss: 0.7412 - val_acc: 0.7151\n",
      "Epoch 77/150\n"
     ]
    },
    {
     "name": "stdout",
     "output_type": "stream",
     "text": [
      "5078/5078 [==============================] - 4s 750us/step - loss: 0.4486 - acc: 0.7584 - val_loss: 0.7397 - val_acc: 0.7195\n",
      "Epoch 78/150\n",
      "5078/5078 [==============================] - 4s 801us/step - loss: 0.4340 - acc: 0.7588 - val_loss: 0.6420 - val_acc: 0.7530\n",
      "Epoch 79/150\n",
      "5078/5078 [==============================] - 4s 770us/step - loss: 0.4091 - acc: 0.7735 - val_loss: 0.7209 - val_acc: 0.7352\n",
      "Epoch 80/150\n",
      "5078/5078 [==============================] - 4s 791us/step - loss: 0.3983 - acc: 0.7824 - val_loss: 0.6487 - val_acc: 0.7530\n",
      "Epoch 81/150\n",
      "5078/5078 [==============================] - 4s 748us/step - loss: 0.3882 - acc: 0.7838 - val_loss: 0.7158 - val_acc: 0.7392\n",
      "Epoch 82/150\n",
      "5078/5078 [==============================] - 4s 746us/step - loss: 0.4027 - acc: 0.7838 - val_loss: 0.7531 - val_acc: 0.7224\n",
      "Epoch 83/150\n",
      "5078/5078 [==============================] - 4s 762us/step - loss: 0.4091 - acc: 0.7761 - val_loss: 0.7089 - val_acc: 0.7283\n",
      "Epoch 84/150\n",
      "5078/5078 [==============================] - 4s 796us/step - loss: 0.4389 - acc: 0.7613 - val_loss: 0.6576 - val_acc: 0.7426\n",
      "Epoch 85/150\n",
      "5078/5078 [==============================] - 4s 749us/step - loss: 0.4318 - acc: 0.7712 - val_loss: 0.7236 - val_acc: 0.7279\n",
      "Epoch 86/150\n",
      "5078/5078 [==============================] - 4s 750us/step - loss: 0.3961 - acc: 0.7865 - val_loss: 0.6895 - val_acc: 0.7421\n",
      "Epoch 87/150\n",
      "5078/5078 [==============================] - 4s 794us/step - loss: 0.4084 - acc: 0.7855 - val_loss: 0.7020 - val_acc: 0.7416\n",
      "Epoch 88/150\n",
      "5078/5078 [==============================] - 4s 767us/step - loss: 0.3973 - acc: 0.7846 - val_loss: 0.7196 - val_acc: 0.7333\n",
      "Epoch 89/150\n",
      "5078/5078 [==============================] - 4s 752us/step - loss: 0.4154 - acc: 0.7802 - val_loss: 0.6508 - val_acc: 0.7643\n",
      "Epoch 90/150\n",
      "5078/5078 [==============================] - 4s 767us/step - loss: 0.3872 - acc: 0.7932 - val_loss: 0.6524 - val_acc: 0.7628\n",
      "Epoch 91/150\n",
      "5078/5078 [==============================] - 4s 789us/step - loss: 0.3761 - acc: 0.7928 - val_loss: 0.6893 - val_acc: 0.7500\n",
      "Epoch 92/150\n",
      "5078/5078 [==============================] - 4s 749us/step - loss: 0.4376 - acc: 0.7627 - val_loss: 0.6558 - val_acc: 0.7387\n",
      "Epoch 93/150\n",
      "5078/5078 [==============================] - 4s 787us/step - loss: 0.5577 - acc: 0.7251 - val_loss: 0.6501 - val_acc: 0.7574\n",
      "Epoch 94/150\n",
      "5078/5078 [==============================] - 4s 767us/step - loss: 0.3802 - acc: 0.7901 - val_loss: 0.6886 - val_acc: 0.7490\n",
      "Epoch 95/150\n",
      "5078/5078 [==============================] - 4s 752us/step - loss: 0.3731 - acc: 0.7944 - val_loss: 0.8090 - val_acc: 0.7224\n",
      "3041/3041 [==============================] - 1s 334us/step\n",
      "Loss: 0.773, Accuracy: 0.723\n"
     ]
    }
   ],
   "source": [
    "try:\n",
    "    model and parallel_model\n",
    "except NameError:\n",
    "    print(\"Good to go!\")\n",
    "    pass\n",
    "else:   \n",
    "    if model:\n",
    "        del model\n",
    "        del parallel_model\n",
    "    print(\"Object has been cleaned!\")\n",
    "\n",
    "model = Sequential()\n",
    "model.add(Conv1D(filters = 32, kernel_size = 7, input_shape = (trainData.shape[1], 1)))\n",
    "model.add(Activation('relu'))\n",
    "model.add(BatchNormalization())\n",
    "model.add(MaxPooling1D(pool_size = 2))\n",
    "\n",
    "model.add(Conv1D(filters = 32, kernel_size = 7))\n",
    "model.add(Activation('relu'))\n",
    "model.add(MaxPooling1D(pool_size = 2))\n",
    "\n",
    "model.add(Conv1D(filters = 32, kernel_size = 7))\n",
    "model.add(Activation('relu'))\n",
    "model.add(MaxPooling1D(pool_size = 2))\n",
    "\n",
    "model.add(Conv1D(filters = 32, kernel_size = 5))\n",
    "model.add(Activation('relu'))\n",
    "model.add(MaxPooling1D(pool_size = 2))\n",
    "\n",
    "model.add(Conv1D(filters = 32, kernel_size = 5))\n",
    "model.add(Activation('relu'))\n",
    "model.add(MaxPooling1D(pool_size = 2))\n",
    "\n",
    "model.add(Conv1D(filters = 32, kernel_size = 5))\n",
    "model.add(Activation('relu'))\n",
    "model.add(MaxPooling1D(pool_size = 2))\n",
    "model.add(Dropout(0.5))\n",
    "\n",
    "model.add(Conv1D(filters = 64, kernel_size = 3))\n",
    "model.add(Activation('relu'))\n",
    "model.add(MaxPooling1D(pool_size = 2))\n",
    "\n",
    "model.add(Conv1D(filters = 64, kernel_size = 3))\n",
    "model.add(Activation('relu'))\n",
    "model.add(MaxPooling1D(pool_size = 2))\n",
    "model.add(Dropout(0.5))\n",
    "\n",
    "model.add(Conv1D(filters = 64, kernel_size = 3))\n",
    "model.add(Activation('relu'))\n",
    "model.add(MaxPooling1D(pool_size = 2))\n",
    "model.add(Dropout(0.5))\n",
    "\n",
    "model.add(Conv1D(filters = 128, kernel_size = 3))\n",
    "model.add(Activation('relu'))\n",
    "model.add(MaxPooling1D(pool_size = 2))\n",
    "\n",
    "model.add(Conv1D(filters = 128, kernel_size = 3))\n",
    "model.add(Activation('relu'))\n",
    "\n",
    "model.add(Flatten())\n",
    "model.add(Dense(128, activation = 'relu'))\n",
    "model.add(Dropout(0.5))\n",
    "model.add(Dense(64, activation = 'relu'))\n",
    "model.add(Dense(4, activation = \"softmax\"))\n",
    "\n",
    "print(model.summary())\n",
    "\n",
    "adam = Adam(lr = 0.0005)\n",
    "model.compile(optimizer = adam, loss = \"categorical_crossentropy\", metrics=['accuracy'])\n",
    "\n",
    "cw = {0: cw[0],\n",
    "      1: cw[1],\n",
    "      2: cw[2],\n",
    "      3: cw[3]}\n",
    "\n",
    "early_stop = EarlyStopping(patience=20)\n",
    "train_history_1 = model.fit(x = trainData,\n",
    "                            y = trainLabel,\n",
    "                            epochs=150,\n",
    "                            validation_data=(validationData, validationLabel),\n",
    "                            callbacks=[early_stop],\n",
    "                            class_weight=cw,\n",
    "                            batch_size=70, \n",
    "                            verbose=1)\n",
    "\n",
    "evaluation = model.evaluate(x = testData, y = testLabel)\n",
    "print('Loss: {:.3f}, Accuracy: {:.3f}'.format(evaluation[0], evaluation[1]))\n",
    "\n",
    "import pylab as plt\n",
    "def history_display(hist, train, validation):\n",
    "    plt.plot(hist.history[train])\n",
    "    plt.plot(hist.history[validation])\n",
    "    plt.title('Train History')\n",
    "    plt.ylabel(train)\n",
    "    plt.xlabel('Epoch')\n",
    "    plt.legend(['train', 'validation'], loc='upper left')\n",
    "    plt.show\n",
    "    \n",
    "def show_plot(flag, hist):\n",
    "    if flag == 'acc':\n",
    "        history_display(hist, 'acc', 'val_acc')\n",
    "    elif flag == 'loss':\n",
    "        history_display(hist, 'loss', 'val_loss')\n",
    "    else:\n",
    "        print('Invalid!')\n"
   ]
  },
  {
   "cell_type": "code",
   "execution_count": 3,
   "metadata": {
    "ExecuteTime": {
     "end_time": "2018-12-02T05:47:04.921547Z",
     "start_time": "2018-12-02T05:47:04.480708Z"
    }
   },
   "outputs": [
    {
     "data": {
      "image/png": "[encoded data removed]",
      "text/plain": [
       "<Figure size 432x288 with 1 Axes>"
      ]
     },
     "metadata": {},
     "output_type": "display_data"
    }
   ],
   "source": [
    "show_plot('acc', train_history_1)"
   ]
  },
  {
   "cell_type": "code",
   "execution_count": 4,
   "metadata": {
    "ExecuteTime": {
     "end_time": "2018-12-02T05:47:08.668476Z",
     "start_time": "2018-12-02T05:47:08.383735Z"
    },
    "scrolled": true
   },
   "outputs": [
    {
     "data": {
      "image/png": "[encoded data removed]",
      "text/plain": [
       "<Figure size 432x288 with 1 Axes>"
      ]
     },
     "metadata": {},
     "output_type": "display_data"
    }
   ],
   "source": [
    "show_plot('loss', train_history_1)"
   ]
  },
  {
   "cell_type": "code",
   "execution_count": 5,
   "metadata": {
    "ExecuteTime": {
     "end_time": "2018-12-02T05:47:45.830741Z",
     "start_time": "2018-12-02T05:47:32.313878Z"
    }
   },
   "outputs": [
    {
     "name": "stdout",
     "output_type": "stream",
     "text": [
      "Confusion matrix, without normalization\n"
     ]
    },
    {
     "data": {
      "image/png": "[encoded data removed]",
      "text/plain": [
       "<Figure size 432x288 with 2 Axes>"
      ]
     },
     "metadata": {},
     "output_type": "display_data"
    }
   ],
   "source": [
    "from toolkit import plot_confusion_matrix\n",
    "from sklearn.metrics import confusion_matrix\n",
    "test_prediction = model.predict_classes(testData, batch_size=1)\n",
    "cnf_matrix = confusion_matrix(testL, test_prediction)\n",
    "plot_confusion_matrix.plot_confusion_matrix(cnf_matrix, classes=['AF','Noise','Normal','Other'], save_png=False)"
   ]
  }
 ],
 "metadata": {
  "kernelspec": {
   "display_name": "Python 3",
   "language": "python",
   "name": "python3"
  },
  "language_info": {
   "codemirror_mode": {
    "name": "ipython",
    "version": 3
   },
   "file_extension": ".py",
   "mimetype": "text/x-python",
   "name": "python",
   "nbconvert_exporter": "python",
   "pygments_lexer": "ipython3",
   "version": "3.5.2"
  }
 },
 "nbformat": 4,
 "nbformat_minor": 2
}
