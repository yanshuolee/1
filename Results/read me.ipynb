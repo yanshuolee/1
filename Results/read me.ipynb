{
 "cells": [
  {
   "cell_type": "markdown",
   "metadata": {
    "heading_collapsed": true
   },
   "source": [
    "# Structure"
   ]
  },
  {
   "cell_type": "markdown",
   "metadata": {
    "hidden": true
   },
   "source": [
    "## 1D CNN\n",
    "### 1. model structure\n",
    "### 2. 介紹跑幾圈overfitting\n",
    "### 3. ACC & LOSS & Confusion Matrix using <font color=\"red\">5:2:3<font>\n",
    "### 4. ACC & LOSS & Confusion Matrix using <font color=\"red\">5-fold<font>\n",
    "### 5. Grid Search with <font color=\"red\">Learning Rate<font> & <font color=\"red\">Batch Size<font>\n",
    "### 6. F1-score (拿來比較用)\n",
    "\n",
    "## 2D CNN\n",
    "### 1. model structure\n",
    "### 2. 介紹跑幾圈overfitting\n",
    "### 3. ACC & LOSS & Confusion Matrix using <font color=\"red\">5:2:3<font>\n",
    "### 4. ACC & LOSS & Confusion Matrix using <font color=\"red\">5-fold<font>\n",
    "### 5. Grid Search with <font color=\"red\">Learning Rate<font> & <font color=\"red\">Batch Size<font>\n",
    "### 6. F1-score (拿來比較用)"
   ]
  },
  {
   "cell_type": "markdown",
   "metadata": {},
   "source": [
    "# 1D CNN"
   ]
  },
  {
   "cell_type": "markdown",
   "metadata": {
    "heading_collapsed": true
   },
   "source": [
    "## 1. Model Structure"
   ]
  },
  {
   "cell_type": "markdown",
   "metadata": {
    "hidden": true
   },
   "source": [
    " 畫架構圖出來 以stack方式呈現"
   ]
  },
  {
   "cell_type": "code",
   "execution_count": null,
   "metadata": {
    "hidden": true
   },
   "outputs": [],
   "source": [
    "model = Sequential()\n",
    "model.add(Conv1D(filters = 32, kernel_size = 7, input_shape = (trainData.shape[1], 1)))\n",
    "model.add(Activation('relu'))\n",
    "model.add(BatchNormalization())\n",
    "model.add(MaxPooling1D(pool_size = 2))\n",
    "\n",
    "model.add(Conv1D(filters = 32, kernel_size = 7))\n",
    "model.add(Activation('relu'))\n",
    "model.add(MaxPooling1D(pool_size = 2))\n",
    "\n",
    "model.add(Conv1D(filters = 64, kernel_size = 7))\n",
    "model.add(Activation('relu'))\n",
    "model.add(MaxPooling1D(pool_size = 2))\n",
    "\n",
    "model.add(Conv1D(filters = 64, kernel_size = 3))\n",
    "model.add(Activation('relu'))\n",
    "model.add(MaxPooling1D(pool_size = 2))\n",
    "\n",
    "model.add(Conv1D(filters = 128, kernel_size = 3))\n",
    "model.add(Activation('relu'))\n",
    "model.add(MaxPooling1D(pool_size = 2))\n",
    "\n",
    "model.add(Conv1D(filters = 128, kernel_size = 3))\n",
    "model.add(Activation('relu'))\n",
    "model.add(MaxPooling1D(pool_size = 2))\n",
    "model.add(Dropout(0.5))\n",
    "\n",
    "model.add(Conv1D(filters = 256, kernel_size = 3))\n",
    "model.add(Activation('relu'))\n",
    "model.add(MaxPooling1D(pool_size = 2))\n",
    "\n",
    "model.add(Conv1D(filters = 256, kernel_size = 3))\n",
    "model.add(Activation('relu'))\n",
    "model.add(MaxPooling1D(pool_size = 2))\n",
    "model.add(Dropout(0.5))\n",
    "\n",
    "model.add(Conv1D(filters = 512, kernel_size = 3))\n",
    "model.add(Activation('relu'))\n",
    "model.add(MaxPooling1D(pool_size = 2))\n",
    "model.add(Dropout(0.5))\n",
    "\n",
    "model.add(Conv1D(filters = 512, kernel_size = 3))\n",
    "model.add(Activation('relu'))\n",
    "\n",
    "model.add(Flatten())\n",
    "model.add(Dense(128, activation = 'relu'))\n",
    "model.add(Dropout(0.5))\n",
    "model.add(Dense(32, activation = 'relu'))\n",
    "model.add(Dense(4, activation = \"softmax\"))"
   ]
  },
  {
   "cell_type": "markdown",
   "metadata": {
    "heading_collapsed": true
   },
   "source": [
    "## 2. epoch"
   ]
  },
  {
   "cell_type": "code",
   "execution_count": 1,
   "metadata": {
    "ExecuteTime": {
     "end_time": "2018-10-06T04:45:42.036294Z",
     "start_time": "2018-10-06T04:37:27.541767Z"
    },
    "hidden": true,
    "hide_input": false,
    "scrolled": true
   },
   "outputs": [
    {
     "name": "stderr",
     "output_type": "stream",
     "text": [
      "/usr/local/lib/python3.5/dist-packages/h5py/__init__.py:36: FutureWarning: Conversion of the second argument of issubdtype from `float` to `np.floating` is deprecated. In future, it will be treated as `np.float64 == np.dtype(float).type`.\n",
      "  from ._conv import register_converters as _register_converters\n",
      "Using TensorFlow backend.\n"
     ]
    },
    {
     "name": "stdout",
     "output_type": "stream",
     "text": [
      "Train Data: (5078, 9000, 1)\n",
      "Train Label:  (5078, 4)\n",
      "Vali Data:  (2032, 9000, 1)\n",
      "Vali Label:  (2032, 4)\n",
      "Test Data:  (3041, 9000, 1)\n",
      "Test Label:  (3041, 4)\n",
      "Good to go!\n",
      "_________________________________________________________________\n",
      "Layer (type)                 Output Shape              Param #   \n",
      "=================================================================\n",
      "conv1d_1 (Conv1D)            (None, 8994, 32)          256       \n",
      "_________________________________________________________________\n",
      "activation_1 (Activation)    (None, 8994, 32)          0         \n",
      "_________________________________________________________________\n",
      "batch_normalization_1 (Batch (None, 8994, 32)          128       \n",
      "_________________________________________________________________\n",
      "max_pooling1d_1 (MaxPooling1 (None, 4497, 32)          0         \n",
      "_________________________________________________________________\n",
      "conv1d_2 (Conv1D)            (None, 4491, 32)          7200      \n",
      "_________________________________________________________________\n",
      "activation_2 (Activation)    (None, 4491, 32)          0         \n",
      "_________________________________________________________________\n",
      "max_pooling1d_2 (MaxPooling1 (None, 2245, 32)          0         \n",
      "_________________________________________________________________\n",
      "conv1d_3 (Conv1D)            (None, 2239, 64)          14400     \n",
      "_________________________________________________________________\n",
      "activation_3 (Activation)    (None, 2239, 64)          0         \n",
      "_________________________________________________________________\n",
      "max_pooling1d_3 (MaxPooling1 (None, 1119, 64)          0         \n",
      "_________________________________________________________________\n",
      "conv1d_4 (Conv1D)            (None, 1117, 64)          12352     \n",
      "_________________________________________________________________\n",
      "activation_4 (Activation)    (None, 1117, 64)          0         \n",
      "_________________________________________________________________\n",
      "max_pooling1d_4 (MaxPooling1 (None, 558, 64)           0         \n",
      "_________________________________________________________________\n",
      "conv1d_5 (Conv1D)            (None, 556, 128)          24704     \n",
      "_________________________________________________________________\n",
      "activation_5 (Activation)    (None, 556, 128)          0         \n",
      "_________________________________________________________________\n",
      "max_pooling1d_5 (MaxPooling1 (None, 278, 128)          0         \n",
      "_________________________________________________________________\n",
      "conv1d_6 (Conv1D)            (None, 276, 128)          49280     \n",
      "_________________________________________________________________\n",
      "activation_6 (Activation)    (None, 276, 128)          0         \n",
      "_________________________________________________________________\n",
      "max_pooling1d_6 (MaxPooling1 (None, 138, 128)          0         \n",
      "_________________________________________________________________\n",
      "dropout_1 (Dropout)          (None, 138, 128)          0         \n",
      "_________________________________________________________________\n",
      "conv1d_7 (Conv1D)            (None, 136, 256)          98560     \n",
      "_________________________________________________________________\n",
      "activation_7 (Activation)    (None, 136, 256)          0         \n",
      "_________________________________________________________________\n",
      "max_pooling1d_7 (MaxPooling1 (None, 68, 256)           0         \n",
      "_________________________________________________________________\n",
      "conv1d_8 (Conv1D)            (None, 66, 256)           196864    \n",
      "_________________________________________________________________\n",
      "activation_8 (Activation)    (None, 66, 256)           0         \n",
      "_________________________________________________________________\n",
      "max_pooling1d_8 (MaxPooling1 (None, 33, 256)           0         \n",
      "_________________________________________________________________\n",
      "dropout_2 (Dropout)          (None, 33, 256)           0         \n",
      "_________________________________________________________________\n",
      "conv1d_9 (Conv1D)            (None, 31, 512)           393728    \n",
      "_________________________________________________________________\n",
      "activation_9 (Activation)    (None, 31, 512)           0         \n",
      "_________________________________________________________________\n",
      "max_pooling1d_9 (MaxPooling1 (None, 15, 512)           0         \n",
      "_________________________________________________________________\n",
      "dropout_3 (Dropout)          (None, 15, 512)           0         \n",
      "_________________________________________________________________\n",
      "conv1d_10 (Conv1D)           (None, 13, 512)           786944    \n",
      "_________________________________________________________________\n",
      "activation_10 (Activation)   (None, 13, 512)           0         \n",
      "_________________________________________________________________\n",
      "flatten_1 (Flatten)          (None, 6656)              0         \n",
      "_________________________________________________________________\n",
      "dense_1 (Dense)              (None, 128)               852096    \n",
      "_________________________________________________________________\n",
      "dropout_4 (Dropout)          (None, 128)               0         \n",
      "_________________________________________________________________\n",
      "dense_2 (Dense)              (None, 32)                4128      \n",
      "_________________________________________________________________\n",
      "dense_3 (Dense)              (None, 4)                 132       \n",
      "=================================================================\n",
      "Total params: 2,440,772\n",
      "Trainable params: 2,440,708\n",
      "Non-trainable params: 64\n",
      "_________________________________________________________________\n",
      "None\n",
      "Train on 5078 samples, validate on 2032 samples\n",
      "Epoch 1/100\n",
      "5078/5078 [==============================] - 10s 2ms/step - loss: 1.0051 - acc: 0.5744 - val_loss: 0.9075 - val_acc: 0.5866\n",
      "Epoch 2/100\n",
      "5078/5078 [==============================] - 5s 922us/step - loss: 0.9099 - acc: 0.5872 - val_loss: 0.9180 - val_acc: 0.6339\n",
      "Epoch 3/100\n",
      "5078/5078 [==============================] - 5s 943us/step - loss: 0.8609 - acc: 0.6178 - val_loss: 0.8987 - val_acc: 0.6348\n",
      "Epoch 4/100\n",
      "5078/5078 [==============================] - 5s 954us/step - loss: 0.8280 - acc: 0.6245 - val_loss: 0.8036 - val_acc: 0.6211\n",
      "Epoch 5/100\n",
      "5078/5078 [==============================] - 5s 944us/step - loss: 0.7779 - acc: 0.6548 - val_loss: 0.8183 - val_acc: 0.6806\n",
      "Epoch 6/100\n",
      "5078/5078 [==============================] - 5s 945us/step - loss: 0.7148 - acc: 0.6995 - val_loss: 0.7067 - val_acc: 0.7190\n",
      "Epoch 7/100\n",
      "5078/5078 [==============================] - 5s 959us/step - loss: 0.6754 - acc: 0.7243 - val_loss: 0.6902 - val_acc: 0.7446\n",
      "Epoch 8/100\n",
      "5078/5078 [==============================] - 5s 951us/step - loss: 0.6522 - acc: 0.7381 - val_loss: 0.6256 - val_acc: 0.7328\n",
      "Epoch 9/100\n",
      "5078/5078 [==============================] - 5s 954us/step - loss: 0.6223 - acc: 0.7493 - val_loss: 0.6084 - val_acc: 0.7490\n",
      "Epoch 10/100\n",
      "5078/5078 [==============================] - 5s 959us/step - loss: 0.6090 - acc: 0.7607 - val_loss: 0.5902 - val_acc: 0.7584\n",
      "Epoch 11/100\n",
      "5078/5078 [==============================] - 5s 942us/step - loss: 0.5891 - acc: 0.7692 - val_loss: 0.6089 - val_acc: 0.7559\n",
      "Epoch 12/100\n",
      "5078/5078 [==============================] - 5s 905us/step - loss: 0.5678 - acc: 0.7820 - val_loss: 0.5795 - val_acc: 0.7667\n",
      "Epoch 13/100\n",
      "5078/5078 [==============================] - 5s 951us/step - loss: 0.5464 - acc: 0.7899 - val_loss: 0.5797 - val_acc: 0.7520\n",
      "Epoch 14/100\n",
      "5078/5078 [==============================] - 5s 951us/step - loss: 0.5530 - acc: 0.7903 - val_loss: 0.5914 - val_acc: 0.7554\n",
      "Epoch 15/100\n",
      "5078/5078 [==============================] - 5s 954us/step - loss: 0.5078 - acc: 0.8056 - val_loss: 0.5505 - val_acc: 0.7790\n",
      "Epoch 16/100\n",
      "5078/5078 [==============================] - 5s 954us/step - loss: 0.5072 - acc: 0.8058 - val_loss: 0.5172 - val_acc: 0.8041\n",
      "Epoch 17/100\n",
      "5078/5078 [==============================] - 5s 959us/step - loss: 0.4977 - acc: 0.8149 - val_loss: 0.5357 - val_acc: 0.7953\n",
      "Epoch 18/100\n",
      "5078/5078 [==============================] - 5s 954us/step - loss: 0.4642 - acc: 0.8230 - val_loss: 0.5170 - val_acc: 0.8100\n",
      "Epoch 19/100\n",
      "5078/5078 [==============================] - 5s 956us/step - loss: 0.4722 - acc: 0.8222 - val_loss: 0.5575 - val_acc: 0.7825\n",
      "Epoch 20/100\n"
     ]
    },
    {
     "name": "stdout",
     "output_type": "stream",
     "text": [
      "5078/5078 [==============================] - 5s 960us/step - loss: 0.4633 - acc: 0.8312 - val_loss: 0.5093 - val_acc: 0.7982\n",
      "Epoch 21/100\n",
      "5078/5078 [==============================] - 5s 956us/step - loss: 0.4545 - acc: 0.8326 - val_loss: 0.4820 - val_acc: 0.8091\n",
      "Epoch 22/100\n",
      "5078/5078 [==============================] - 5s 958us/step - loss: 0.4366 - acc: 0.8379 - val_loss: 0.5074 - val_acc: 0.8027\n",
      "Epoch 23/100\n",
      "5078/5078 [==============================] - 5s 955us/step - loss: 0.4346 - acc: 0.8417 - val_loss: 0.5005 - val_acc: 0.8095\n",
      "Epoch 24/100\n",
      "5078/5078 [==============================] - 5s 953us/step - loss: 0.4299 - acc: 0.8399 - val_loss: 0.4975 - val_acc: 0.8105\n",
      "Epoch 25/100\n",
      "5078/5078 [==============================] - 5s 957us/step - loss: 0.4265 - acc: 0.8401 - val_loss: 0.4826 - val_acc: 0.8155\n",
      "Epoch 26/100\n",
      "5078/5078 [==============================] - 5s 953us/step - loss: 0.4112 - acc: 0.8484 - val_loss: 0.5181 - val_acc: 0.8071\n",
      "Epoch 27/100\n",
      "5078/5078 [==============================] - 5s 954us/step - loss: 0.4004 - acc: 0.8578 - val_loss: 0.5231 - val_acc: 0.8022\n",
      "Epoch 28/100\n",
      "5078/5078 [==============================] - 5s 942us/step - loss: 0.3963 - acc: 0.8578 - val_loss: 0.4736 - val_acc: 0.8130\n",
      "Epoch 29/100\n",
      "5078/5078 [==============================] - 5s 950us/step - loss: 0.3746 - acc: 0.8663 - val_loss: 0.4986 - val_acc: 0.8184\n",
      "Epoch 30/100\n",
      "5078/5078 [==============================] - 5s 958us/step - loss: 0.3866 - acc: 0.8547 - val_loss: 0.5101 - val_acc: 0.8150\n",
      "Epoch 31/100\n",
      "5078/5078 [==============================] - 5s 919us/step - loss: 0.3863 - acc: 0.8600 - val_loss: 0.5024 - val_acc: 0.8223\n",
      "Epoch 32/100\n",
      "5078/5078 [==============================] - 5s 959us/step - loss: 0.3688 - acc: 0.8647 - val_loss: 0.5287 - val_acc: 0.8105\n",
      "Epoch 33/100\n",
      "5078/5078 [==============================] - 5s 958us/step - loss: 0.3677 - acc: 0.8702 - val_loss: 0.5150 - val_acc: 0.8125\n",
      "Epoch 34/100\n",
      "5078/5078 [==============================] - 5s 955us/step - loss: 0.3592 - acc: 0.8708 - val_loss: 0.5207 - val_acc: 0.8184\n",
      "Epoch 35/100\n",
      "5078/5078 [==============================] - 5s 956us/step - loss: 0.3683 - acc: 0.8686 - val_loss: 0.4870 - val_acc: 0.8243\n",
      "Epoch 36/100\n",
      "5078/5078 [==============================] - 5s 963us/step - loss: 0.3749 - acc: 0.8635 - val_loss: 0.4850 - val_acc: 0.8091\n",
      "Epoch 37/100\n",
      "5078/5078 [==============================] - 5s 959us/step - loss: 0.3484 - acc: 0.8811 - val_loss: 0.5144 - val_acc: 0.8120\n",
      "Epoch 38/100\n",
      "5078/5078 [==============================] - 5s 954us/step - loss: 0.3325 - acc: 0.8809 - val_loss: 0.5265 - val_acc: 0.8120\n",
      "Epoch 39/100\n",
      "5078/5078 [==============================] - 5s 955us/step - loss: 0.3546 - acc: 0.8710 - val_loss: 0.5194 - val_acc: 0.8214\n",
      "Epoch 40/100\n",
      "5078/5078 [==============================] - 5s 949us/step - loss: 0.3274 - acc: 0.8842 - val_loss: 0.5099 - val_acc: 0.8169\n",
      "Epoch 41/100\n",
      "5078/5078 [==============================] - 5s 953us/step - loss: 0.3274 - acc: 0.8805 - val_loss: 0.4770 - val_acc: 0.8174\n",
      "Epoch 42/100\n",
      "5078/5078 [==============================] - 5s 961us/step - loss: 0.3392 - acc: 0.8795 - val_loss: 0.5458 - val_acc: 0.8022\n",
      "Epoch 43/100\n",
      "5078/5078 [==============================] - 5s 965us/step - loss: 0.3115 - acc: 0.8862 - val_loss: 0.4714 - val_acc: 0.8282\n",
      "Epoch 44/100\n",
      "5078/5078 [==============================] - 5s 962us/step - loss: 0.3200 - acc: 0.8783 - val_loss: 0.5103 - val_acc: 0.8159\n",
      "Epoch 45/100\n",
      "5078/5078 [==============================] - 5s 953us/step - loss: 0.3287 - acc: 0.8787 - val_loss: 0.5070 - val_acc: 0.8150\n",
      "Epoch 46/100\n",
      "5078/5078 [==============================] - 5s 951us/step - loss: 0.3272 - acc: 0.8814 - val_loss: 0.5516 - val_acc: 0.8110\n",
      "Epoch 47/100\n",
      "5078/5078 [==============================] - 5s 954us/step - loss: 0.2892 - acc: 0.8950 - val_loss: 0.5539 - val_acc: 0.8135\n",
      "Epoch 48/100\n",
      "5078/5078 [==============================] - 5s 958us/step - loss: 0.3138 - acc: 0.8830 - val_loss: 0.5455 - val_acc: 0.8238\n",
      "Epoch 49/100\n",
      "5078/5078 [==============================] - 5s 953us/step - loss: 0.2949 - acc: 0.8933 - val_loss: 0.5218 - val_acc: 0.8228\n",
      "Epoch 50/100\n",
      "5078/5078 [==============================] - 5s 965us/step - loss: 0.3011 - acc: 0.8903 - val_loss: 0.5073 - val_acc: 0.8238\n",
      "Epoch 51/100\n",
      "5078/5078 [==============================] - 5s 967us/step - loss: 0.3015 - acc: 0.8897 - val_loss: 0.5054 - val_acc: 0.8273\n",
      "Epoch 52/100\n",
      "5078/5078 [==============================] - 5s 961us/step - loss: 0.2704 - acc: 0.9025 - val_loss: 0.4864 - val_acc: 0.8273\n",
      "Epoch 53/100\n",
      "5078/5078 [==============================] - 5s 946us/step - loss: 0.2733 - acc: 0.8974 - val_loss: 0.5115 - val_acc: 0.8327\n",
      "Epoch 54/100\n",
      "5078/5078 [==============================] - 5s 950us/step - loss: 0.2554 - acc: 0.9071 - val_loss: 0.5462 - val_acc: 0.8312\n",
      "Epoch 55/100\n",
      "5078/5078 [==============================] - 5s 962us/step - loss: 0.2634 - acc: 0.9072 - val_loss: 0.5427 - val_acc: 0.8307\n",
      "Epoch 56/100\n",
      "5078/5078 [==============================] - 5s 958us/step - loss: 0.2803 - acc: 0.8984 - val_loss: 0.5458 - val_acc: 0.8243\n",
      "Epoch 57/100\n",
      "5078/5078 [==============================] - 5s 957us/step - loss: 0.2618 - acc: 0.9051 - val_loss: 0.6011 - val_acc: 0.8228\n",
      "Epoch 58/100\n",
      "5078/5078 [==============================] - 5s 963us/step - loss: 0.2718 - acc: 0.9002 - val_loss: 0.5242 - val_acc: 0.8253\n",
      "Epoch 59/100\n",
      "5078/5078 [==============================] - 5s 959us/step - loss: 0.2583 - acc: 0.9096 - val_loss: 0.5891 - val_acc: 0.8253\n",
      "Epoch 60/100\n",
      "5078/5078 [==============================] - 5s 914us/step - loss: 0.2509 - acc: 0.9055 - val_loss: 0.6047 - val_acc: 0.8209\n",
      "Epoch 61/100\n",
      "5078/5078 [==============================] - 5s 944us/step - loss: 0.2481 - acc: 0.9088 - val_loss: 0.6375 - val_acc: 0.8214\n",
      "Epoch 62/100\n",
      "5078/5078 [==============================] - 5s 956us/step - loss: 0.2600 - acc: 0.9047 - val_loss: 0.5815 - val_acc: 0.8179\n",
      "Epoch 63/100\n",
      "5078/5078 [==============================] - 5s 930us/step - loss: 0.2529 - acc: 0.9049 - val_loss: 0.6133 - val_acc: 0.8233\n",
      "Epoch 64/100\n",
      "5078/5078 [==============================] - 5s 959us/step - loss: 0.2304 - acc: 0.9171 - val_loss: 0.5880 - val_acc: 0.8228\n",
      "Epoch 65/100\n",
      "5078/5078 [==============================] - 5s 958us/step - loss: 0.2424 - acc: 0.9116 - val_loss: 0.5674 - val_acc: 0.8248\n",
      "Epoch 66/100\n",
      "5078/5078 [==============================] - 5s 959us/step - loss: 0.2406 - acc: 0.9132 - val_loss: 0.6019 - val_acc: 0.8125\n",
      "Epoch 67/100\n",
      "5078/5078 [==============================] - 5s 958us/step - loss: 0.2425 - acc: 0.9135 - val_loss: 0.5988 - val_acc: 0.8164\n",
      "Epoch 68/100\n",
      "5078/5078 [==============================] - 5s 949us/step - loss: 0.2200 - acc: 0.9179 - val_loss: 0.6510 - val_acc: 0.8189\n",
      "Epoch 69/100\n",
      "5078/5078 [==============================] - 5s 946us/step - loss: 0.2391 - acc: 0.9175 - val_loss: 0.5694 - val_acc: 0.8273\n",
      "Epoch 70/100\n",
      "5078/5078 [==============================] - 5s 955us/step - loss: 0.2334 - acc: 0.9181 - val_loss: 0.5870 - val_acc: 0.8317\n",
      "Epoch 71/100\n",
      "5078/5078 [==============================] - 5s 907us/step - loss: 0.2361 - acc: 0.9110 - val_loss: 0.5509 - val_acc: 0.8268\n",
      "Epoch 72/100\n",
      "5078/5078 [==============================] - 5s 955us/step - loss: 0.2209 - acc: 0.9183 - val_loss: 0.6131 - val_acc: 0.8243\n",
      "Epoch 73/100\n",
      "5078/5078 [==============================] - 5s 957us/step - loss: 0.2404 - acc: 0.9118 - val_loss: 0.6403 - val_acc: 0.8164\n",
      "Epoch 74/100\n",
      "5078/5078 [==============================] - 5s 960us/step - loss: 0.2234 - acc: 0.9193 - val_loss: 0.6092 - val_acc: 0.8263\n",
      "Epoch 75/100\n",
      "5078/5078 [==============================] - 5s 952us/step - loss: 0.2138 - acc: 0.9260 - val_loss: 0.6213 - val_acc: 0.8253\n",
      "Epoch 76/100\n",
      "5078/5078 [==============================] - 5s 955us/step - loss: 0.2136 - acc: 0.9199 - val_loss: 0.6188 - val_acc: 0.8204\n",
      "Epoch 77/100\n",
      "5078/5078 [==============================] - 5s 960us/step - loss: 0.2106 - acc: 0.9244 - val_loss: 0.6933 - val_acc: 0.8095\n",
      "Epoch 78/100\n",
      "5078/5078 [==============================] - 5s 961us/step - loss: 0.2079 - acc: 0.9214 - val_loss: 0.6363 - val_acc: 0.8228\n",
      "Epoch 79/100\n",
      "5078/5078 [==============================] - 5s 961us/step - loss: 0.2055 - acc: 0.9273 - val_loss: 0.5831 - val_acc: 0.8209\n",
      "Epoch 80/100\n",
      "5078/5078 [==============================] - 5s 959us/step - loss: 0.2133 - acc: 0.9265 - val_loss: 0.5850 - val_acc: 0.8307\n",
      "Epoch 81/100\n",
      "5078/5078 [==============================] - 5s 958us/step - loss: 0.1994 - acc: 0.9271 - val_loss: 0.6161 - val_acc: 0.8219\n",
      "Epoch 82/100\n",
      "5078/5078 [==============================] - 5s 958us/step - loss: 0.1985 - acc: 0.9240 - val_loss: 0.6268 - val_acc: 0.8238\n",
      "Epoch 83/100\n",
      "5078/5078 [==============================] - 5s 958us/step - loss: 0.1919 - acc: 0.9299 - val_loss: 0.6972 - val_acc: 0.8199\n",
      "Epoch 84/100\n",
      "5078/5078 [==============================] - 5s 942us/step - loss: 0.2061 - acc: 0.9279 - val_loss: 0.5719 - val_acc: 0.8273\n",
      "Epoch 85/100\n",
      "5078/5078 [==============================] - 5s 958us/step - loss: 0.1853 - acc: 0.9283 - val_loss: 0.6509 - val_acc: 0.8223\n",
      "Epoch 86/100\n",
      "5078/5078 [==============================] - 5s 952us/step - loss: 0.2175 - acc: 0.9212 - val_loss: 0.6233 - val_acc: 0.8243\n",
      "Epoch 87/100\n",
      "5078/5078 [==============================] - 5s 958us/step - loss: 0.1949 - acc: 0.9330 - val_loss: 0.6673 - val_acc: 0.8209\n",
      "Epoch 88/100\n",
      "5078/5078 [==============================] - 5s 929us/step - loss: 0.1860 - acc: 0.9299 - val_loss: 0.6623 - val_acc: 0.8233\n",
      "Epoch 89/100\n",
      "5078/5078 [==============================] - 5s 925us/step - loss: 0.1894 - acc: 0.9307 - val_loss: 0.6358 - val_acc: 0.8184\n",
      "Epoch 90/100\n",
      "5078/5078 [==============================] - 5s 955us/step - loss: 0.1912 - acc: 0.9311 - val_loss: 0.7059 - val_acc: 0.8125\n",
      "Epoch 91/100\n",
      "5078/5078 [==============================] - 5s 949us/step - loss: 0.1957 - acc: 0.9305 - val_loss: 0.5922 - val_acc: 0.8263\n",
      "Epoch 92/100\n",
      "5078/5078 [==============================] - 5s 958us/step - loss: 0.1832 - acc: 0.9368 - val_loss: 0.7014 - val_acc: 0.8228\n",
      "Epoch 93/100\n",
      "5078/5078 [==============================] - 5s 960us/step - loss: 0.1818 - acc: 0.9334 - val_loss: 0.6273 - val_acc: 0.8327\n",
      "Epoch 94/100\n",
      "5078/5078 [==============================] - 5s 958us/step - loss: 0.1787 - acc: 0.9330 - val_loss: 0.6501 - val_acc: 0.8219\n",
      "Epoch 95/100\n",
      "5078/5078 [==============================] - 5s 961us/step - loss: 0.1633 - acc: 0.9405 - val_loss: 0.7193 - val_acc: 0.8199\n",
      "Epoch 96/100\n",
      "5078/5078 [==============================] - 5s 948us/step - loss: 0.1636 - acc: 0.9384 - val_loss: 0.7346 - val_acc: 0.8307\n",
      "Epoch 97/100\n",
      "5078/5078 [==============================] - 5s 957us/step - loss: 0.1688 - acc: 0.9405 - val_loss: 0.6663 - val_acc: 0.8238\n",
      "Epoch 98/100\n",
      "5078/5078 [==============================] - 5s 959us/step - loss: 0.1817 - acc: 0.9370 - val_loss: 0.5797 - val_acc: 0.8278\n",
      "Epoch 99/100\n",
      "5078/5078 [==============================] - 5s 956us/step - loss: 0.1590 - acc: 0.9439 - val_loss: 0.5674 - val_acc: 0.8317\n",
      "Epoch 100/100\n",
      "5078/5078 [==============================] - 5s 906us/step - loss: 0.1739 - acc: 0.9415 - val_loss: 0.5765 - val_acc: 0.8268\n",
      "3041/3041 [==============================] - 1s 394us/step\n",
      "Loss: 0.580, Accuracy: 0.825\n",
      "Finish training!\n"
     ]
    }
   ],
   "source": [
    "import numpy as np\n",
    "import pandas as pd\n",
    "import os\n",
    "from keras.models import Sequential\n",
    "from keras.layers import Dense, Flatten, Conv1D, MaxPooling1D, AveragePooling1D, Dropout\n",
    "from keras.layers import BatchNormalization, Activation\n",
    "from keras.initializers import VarianceScaling\n",
    "from keras.optimizers import Adam\n",
    "from keras.utils import np_utils, multi_gpu_model\n",
    "import tensorflow as tf\n",
    "from keras.callbacks import TensorBoard, EarlyStopping\n",
    "np.set_printoptions(suppress=True)\n",
    "\n",
    "trainD = np.load(\"/home/hsiehch/30s/train_data.npy\")\n",
    "trainL = np.load(\"/home/hsiehch/30s/train_label.npy\")\n",
    "validationD = np.load(\"/home/hsiehch/30s/validation_data.npy\")\n",
    "validationL = np.load(\"/home/hsiehch/30s/validation_label.npy\")\n",
    "testD = np.load(\"/home/hsiehch/30s/test_data.npy\")\n",
    "testL = np.load(\"/home/hsiehch/30s/test_label.npy\")\n",
    "\n",
    "trainData = trainD.reshape((trainD.shape[0], trainD.shape[1], 1))\n",
    "trainLabel = np_utils.to_categorical(trainL, 4)\n",
    "validationData = validationD.reshape((validationD.shape[0], validationD.shape[1], 1))\n",
    "validationLabel = np_utils.to_categorical(validationL, 4)\n",
    "testData = testD.reshape((testD.shape[0], testD.shape[1], 1))\n",
    "testLabel = np_utils.to_categorical(testL, 4)\n",
    "print('Train Data:', trainData.shape)\n",
    "print('Train Label: ', trainLabel.shape)\n",
    "print('Vali Data: ', validationData.shape)\n",
    "print('Vali Label: ', validationLabel.shape)\n",
    "print('Test Data: ', testData.shape)\n",
    "print('Test Label: ', testLabel.shape)\n",
    "\n",
    "\n",
    "try:\n",
    "    model and parallel_model\n",
    "except NameError:\n",
    "    print(\"Good to go!\")\n",
    "    pass\n",
    "else:   \n",
    "    if model:\n",
    "        del model\n",
    "        del parallel_model\n",
    "    print(\"Object has been cleaned!\")\n",
    "\n",
    "\n",
    "model = Sequential()\n",
    "model.add(Conv1D(filters = 32, kernel_size = 7, input_shape = (trainData.shape[1], 1)))\n",
    "model.add(Activation('relu'))\n",
    "model.add(BatchNormalization())\n",
    "model.add(MaxPooling1D(pool_size = 2))\n",
    "\n",
    "model.add(Conv1D(filters = 32, kernel_size = 7))\n",
    "model.add(Activation('relu'))\n",
    "model.add(MaxPooling1D(pool_size = 2))\n",
    "\n",
    "model.add(Conv1D(filters = 64, kernel_size = 7))\n",
    "model.add(Activation('relu'))\n",
    "model.add(MaxPooling1D(pool_size = 2))\n",
    "\n",
    "model.add(Conv1D(filters = 64, kernel_size = 3))\n",
    "model.add(Activation('relu'))\n",
    "model.add(MaxPooling1D(pool_size = 2))\n",
    "\n",
    "model.add(Conv1D(filters = 128, kernel_size = 3))\n",
    "model.add(Activation('relu'))\n",
    "model.add(MaxPooling1D(pool_size = 2))\n",
    "\n",
    "model.add(Conv1D(filters = 128, kernel_size = 3))\n",
    "model.add(Activation('relu'))\n",
    "model.add(MaxPooling1D(pool_size = 2))\n",
    "model.add(Dropout(0.5))\n",
    "\n",
    "model.add(Conv1D(filters = 256, kernel_size = 3))\n",
    "model.add(Activation('relu'))\n",
    "model.add(MaxPooling1D(pool_size = 2))\n",
    "\n",
    "model.add(Conv1D(filters = 256, kernel_size = 3))\n",
    "model.add(Activation('relu'))\n",
    "model.add(MaxPooling1D(pool_size = 2))\n",
    "model.add(Dropout(0.5))\n",
    "\n",
    "model.add(Conv1D(filters = 512, kernel_size = 3))\n",
    "model.add(Activation('relu'))\n",
    "model.add(MaxPooling1D(pool_size = 2))\n",
    "model.add(Dropout(0.5))\n",
    "\n",
    "model.add(Conv1D(filters = 512, kernel_size = 3))\n",
    "model.add(Activation('relu'))\n",
    "\n",
    "model.add(Flatten())\n",
    "model.add(Dense(128, activation = 'relu'))\n",
    "model.add(Dropout(0.5))\n",
    "model.add(Dense(32, activation = 'relu'))\n",
    "model.add(Dense(4, activation = \"softmax\"))\n",
    "\n",
    "print(model.summary())\n",
    "\n",
    "\n",
    "adam = Adam(lr = 0.001)\n",
    "model.compile(optimizer = adam, loss = \"categorical_crossentropy\", metrics=['accuracy'])\n",
    "\n",
    "# graph = TensorBoard()\n",
    "# early_stop = EarlyStopping(patience=20)\n",
    "train_history_1 = model.fit(x = trainData,\n",
    "                            y = trainLabel,\n",
    "                            epochs=100,\n",
    "                            validation_data=(validationData, validationLabel),\n",
    "#                             callbacks=[early_stop],\n",
    "                            batch_size=70, \n",
    "                            verbose=1)\n",
    "# model.save('model_30s.h5')\n",
    "\n",
    "evaluation = model.evaluate(x = testData, y = testLabel)\n",
    "print('Loss: {:.3f}, Accuracy: {:.3f}'.format(evaluation[0], evaluation[1]))\n",
    "\n",
    "\n",
    "print('Finish training!')\n",
    "\n",
    "import pylab as plt\n",
    "def history_display(hist, train, validation):\n",
    "    plt.plot(hist.history[train])\n",
    "    plt.plot(hist.history[validation])\n",
    "    plt.title('Train History')\n",
    "    plt.ylabel(train)\n",
    "    plt.xlabel('Epoch')\n",
    "    plt.legend(['train', 'validation'], loc='upper left')\n",
    "    plt.show\n",
    "    \n",
    "def show_plot(flag, hist):\n",
    "    if flag == 'acc':\n",
    "        history_display(hist, 'acc', 'val_acc')\n",
    "    elif flag == 'loss':\n",
    "        history_display(hist, 'loss', 'val_loss')\n",
    "    else:\n",
    "        print('Invalid!')\n"
   ]
  },
  {
   "cell_type": "markdown",
   "metadata": {
    "hidden": true
   },
   "source": [
    "### ACC"
   ]
  },
  {
   "cell_type": "code",
   "execution_count": 2,
   "metadata": {
    "ExecuteTime": {
     "end_time": "2018-10-06T03:08:30.066101Z",
     "start_time": "2018-10-06T03:08:29.829570Z"
    },
    "hidden": true,
    "hide_input": true,
    "scrolled": false
   },
   "outputs": [
    {
     "data": {
      "image/png": "[encoded data removed]",
      "text/plain": [
       "<Figure size 432x288 with 1 Axes>"
      ]
     },
     "metadata": {},
     "output_type": "display_data"
    }
   ],
   "source": [
    "show_plot('acc', train_history_1)"
   ]
  },
  {
   "cell_type": "markdown",
   "metadata": {
    "hidden": true
   },
   "source": [
    "### LOSS"
   ]
  },
  {
   "cell_type": "code",
   "execution_count": 3,
   "metadata": {
    "ExecuteTime": {
     "end_time": "2018-10-06T03:08:34.931117Z",
     "start_time": "2018-10-06T03:08:34.746064Z"
    },
    "hidden": true,
    "hide_input": true,
    "scrolled": true
   },
   "outputs": [
    {
     "data": {
      "image/png": "[encoded data removed]",
      "text/plain": [
       "<Figure size 432x288 with 1 Axes>"
      ]
     },
     "metadata": {},
     "output_type": "display_data"
    }
   ],
   "source": [
    "show_plot('loss', train_history_1)"
   ]
  },
  {
   "cell_type": "markdown",
   "metadata": {
    "heading_collapsed": true
   },
   "source": [
    "## 3. ACC & LOSS & Confusion Matrix using 5:2:3"
   ]
  },
  {
   "cell_type": "markdown",
   "metadata": {
    "hidden": true
   },
   "source": [
    "### Training ACC & LOSS"
   ]
  },
  {
   "cell_type": "code",
   "execution_count": 2,
   "metadata": {
    "ExecuteTime": {
     "end_time": "2018-10-06T04:48:21.577230Z",
     "start_time": "2018-10-06T04:48:19.610189Z"
    },
    "hidden": true,
    "hide_input": true
   },
   "outputs": [
    {
     "name": "stdout",
     "output_type": "stream",
     "text": [
      "5078/5078 [==============================] - 2s 385us/step\n",
      "Loss: 0.100, Accuracy: 0.980\n"
     ]
    }
   ],
   "source": [
    "evaluation = model.evaluate(x = trainData, y = trainLabel)\n",
    "print('Loss: {:.3f}, Accuracy: {:.3f}'.format(evaluation[0], evaluation[1]))"
   ]
  },
  {
   "cell_type": "markdown",
   "metadata": {
    "hidden": true
   },
   "source": [
    "### Testing ACC & LOSS"
   ]
  },
  {
   "cell_type": "code",
   "execution_count": 3,
   "metadata": {
    "ExecuteTime": {
     "end_time": "2018-10-06T04:48:33.936401Z",
     "start_time": "2018-10-06T04:48:32.794173Z"
    },
    "hidden": true,
    "hide_input": true
   },
   "outputs": [
    {
     "name": "stdout",
     "output_type": "stream",
     "text": [
      "3041/3041 [==============================] - 1s 373us/step\n",
      "Loss: 0.580, Accuracy: 0.825\n"
     ]
    }
   ],
   "source": [
    "evaluation = model.evaluate(x = testData, y = testLabel)\n",
    "print('Loss: {:.3f}, Accuracy: {:.3f}'.format(evaluation[0], evaluation[1]))"
   ]
  },
  {
   "cell_type": "markdown",
   "metadata": {
    "hidden": true
   },
   "source": [
    "### Confusion Matrix"
   ]
  },
  {
   "cell_type": "code",
   "execution_count": 11,
   "metadata": {
    "ExecuteTime": {
     "end_time": "2018-10-06T03:20:48.128658Z",
     "start_time": "2018-10-06T03:20:47.808007Z"
    },
    "hidden": true,
    "hide_input": true
   },
   "outputs": [
    {
     "data": {
      "image/png": "[encoded data removed]",
      "text/plain": [
       "<Figure size 432x288 with 2 Axes>"
      ]
     },
     "metadata": {},
     "output_type": "display_data"
    }
   ],
   "source": [
    "from sklearn.metrics import confusion_matrix\n",
    "\n",
    "import itertools\n",
    "# test_prediction = model.predict_classes(testData, batch_size=1)\n",
    "cnf_matrix = confusion_matrix(testL, test_prediction)\n",
    "plot_confusion_matrix(cnf_matrix, classes=['AF','Noise','Normal','Other'],\n",
    "                      title='Confusion matrix')"
   ]
  },
  {
   "cell_type": "markdown",
   "metadata": {},
   "source": [
    "## 4. ACC & LOSS & Confusion Matrix using 5-fold"
   ]
  },
  {
   "cell_type": "code",
   "execution_count": 2,
   "metadata": {
    "ExecuteTime": {
     "end_time": "2018-10-06T06:26:54.453511Z",
     "start_time": "2018-10-06T05:47:22.808365Z"
    },
    "code_folding": [],
    "hide_input": true,
    "scrolled": true
   },
   "outputs": [
    {
     "name": "stderr",
     "output_type": "stream",
     "text": [
      "/usr/local/lib/python3.5/dist-packages/h5py/__init__.py:36: FutureWarning: Conversion of the second argument of issubdtype from `float` to `np.floating` is deprecated. In future, it will be treated as `np.float64 == np.dtype(float).type`.\n",
      "  from ._conv import register_converters as _register_converters\n",
      "Using TensorFlow backend.\n"
     ]
    },
    {
     "name": "stdout",
     "output_type": "stream",
     "text": [
      "1-Fold\n",
      "8120/8120 [==============================] - 3s 353us/step\n",
      "Training:\n",
      "Loss: 0.206, Accuracy: 0.938\n",
      "2031/2031 [==============================] - 1s 361us/step\n",
      "Testing:\n",
      "Loss: 0.423, Accuracy: 0.848\n",
      "F1-score:\n",
      "[0.80606061 0.62385321 0.90708661 0.74607572]\n",
      "2-Fold\n",
      "8121/8121 [==============================] - 3s 418us/step\n",
      "Training:\n",
      "Loss: 0.279, Accuracy: 0.898\n",
      "2030/2030 [==============================] - 1s 369us/step\n",
      "Testing:\n",
      "Loss: 0.463, Accuracy: 0.837\n",
      "F1-score:\n",
      "[0.76549865 0.64566929 0.90268322 0.73239437]\n",
      "3-Fold\n",
      "8121/8121 [==============================] - 3s 354us/step\n",
      "Training:\n",
      "Loss: 0.233, Accuracy: 0.920\n",
      "2030/2030 [==============================] - 1s 359us/step\n",
      "Testing:\n",
      "Loss: 0.461, Accuracy: 0.852\n",
      "F1-score:\n",
      "[0.80898876 0.53763441 0.90623742 0.77087034]\n",
      "4-Fold\n",
      "8121/8121 [==============================] - 3s 354us/step\n",
      "Training:\n",
      "Loss: 0.267, Accuracy: 0.915\n",
      "2030/2030 [==============================] - 1s 359us/step\n",
      "Testing:\n",
      "Loss: 0.446, Accuracy: 0.848\n",
      "F1-score:\n",
      "[0.79895561 0.60714286 0.90694839 0.75724638]\n",
      "5-Fold\n",
      "8121/8121 [==============================] - 3s 355us/step\n",
      "Training:\n",
      "Loss: 0.251, Accuracy: 0.924\n",
      "2030/2030 [==============================] - 1s 362us/step\n",
      "Testing:\n",
      "Loss: 0.445, Accuracy: 0.850\n",
      "F1-score:\n",
      "[0.82352941 0.66101695 0.90466364 0.76241135]\n"
     ]
    },
    {
     "data": {
      "image/png": "[encoded data removed]",
      "text/plain": [
       "<Figure size 432x288 with 11 Axes>"
      ]
     },
     "metadata": {},
     "output_type": "display_data"
    }
   ],
   "source": [
    "import numpy as np\n",
    "from keras.models import Sequential\n",
    "from keras.layers import Dense, Flatten, Conv1D, MaxPooling1D, AveragePooling1D, Dropout\n",
    "from keras.layers import Activation, BatchNormalization\n",
    "from keras.optimizers import Adam\n",
    "from keras.utils import np_utils\n",
    "import tensorflow as tf\n",
    "from keras.callbacks import TensorBoard, EarlyStopping\n",
    "from sklearn.metrics import confusion_matrix\n",
    "from sklearn.metrics import f1_score\n",
    "np.set_printoptions(suppress=True)\n",
    "\n",
    "trainD = np.load(\"/home/hsiehch/30s/train_data.npy\")\n",
    "trainL = np.load(\"/home/hsiehch/30s/train_label.npy\")\n",
    "validationD = np.load(\"/home/hsiehch/30s/validation_data.npy\")\n",
    "validationL = np.load(\"/home/hsiehch/30s/validation_label.npy\")\n",
    "testD = np.load(\"/home/hsiehch/30s/test_data.npy\")\n",
    "testL = np.load(\"/home/hsiehch/30s/test_label.npy\")\n",
    "\n",
    "trainD = np.append(trainD, validationD, axis=0)\n",
    "trainL = np.append(trainL, validationL, axis=0)\n",
    "trainD = np.append(trainD, testD, axis=0)\n",
    "trainL = np.append(trainL, testL, axis=0)\n",
    "\n",
    "trainData = trainD.reshape((trainD.shape[0], trainD.shape[1], 1))\n",
    "trainLabel = np_utils.to_categorical(trainL, 4)\n",
    "# print('Train Data:', trainData.shape)\n",
    "# print('Train Label: ', trainLabel.shape)\n",
    "\n",
    "#--------------------------------------------\n",
    "\n",
    "from sklearn.model_selection import KFold\n",
    "\n",
    "kf = KFold(n_splits=5, shuffle=True)\n",
    "# print(kf)\n",
    "\n",
    "#--------------------------------------------\n",
    "\n",
    "from sklearn.metrics import f1_score\n",
    "\n",
    "def create_model():\n",
    "    model = Sequential()\n",
    "    model.add(Conv1D(filters = 32, kernel_size = 7, input_shape = (trainData.shape[1], 1)))\n",
    "    model.add(Activation('relu'))\n",
    "    model.add(BatchNormalization())\n",
    "    model.add(MaxPooling1D(pool_size = 2))\n",
    "\n",
    "    model.add(Conv1D(filters = 32, kernel_size = 7))\n",
    "    model.add(Activation('relu'))\n",
    "    model.add(MaxPooling1D(pool_size = 2))\n",
    "\n",
    "    model.add(Conv1D(filters = 64, kernel_size = 7))\n",
    "    model.add(Activation('relu'))\n",
    "    model.add(MaxPooling1D(pool_size = 2))\n",
    "\n",
    "    model.add(Conv1D(filters = 64, kernel_size = 3))\n",
    "    model.add(Activation('relu'))\n",
    "    model.add(MaxPooling1D(pool_size = 2))\n",
    "\n",
    "    model.add(Conv1D(filters = 128, kernel_size = 3))\n",
    "    model.add(Activation('relu'))\n",
    "    model.add(MaxPooling1D(pool_size = 2))\n",
    "\n",
    "    model.add(Conv1D(filters = 128, kernel_size = 3))\n",
    "    model.add(Activation('relu'))\n",
    "    model.add(MaxPooling1D(pool_size = 2))\n",
    "    model.add(Dropout(0.5))\n",
    "\n",
    "    model.add(Conv1D(filters = 256, kernel_size = 3))\n",
    "    model.add(Activation('relu'))\n",
    "    model.add(MaxPooling1D(pool_size = 2))\n",
    "\n",
    "    model.add(Conv1D(filters = 256, kernel_size = 3))\n",
    "    model.add(Activation('relu'))\n",
    "    model.add(MaxPooling1D(pool_size = 2))\n",
    "    model.add(Dropout(0.5))\n",
    "\n",
    "    model.add(Conv1D(filters = 512, kernel_size = 3))\n",
    "    model.add(Activation('relu'))\n",
    "    model.add(MaxPooling1D(pool_size = 2))\n",
    "    model.add(Dropout(0.5))\n",
    "\n",
    "    model.add(Conv1D(filters = 512, kernel_size = 3))\n",
    "    model.add(Activation('relu'))\n",
    "\n",
    "    model.add(Flatten())\n",
    "    model.add(Dense(128, activation = 'relu'))\n",
    "    model.add(Dropout(0.5))\n",
    "    model.add(Dense(32, activation = 'relu'))\n",
    "    model.add(Dense(4, activation = \"softmax\"))\n",
    "    \n",
    "    model.compile(optimizer = 'adam', loss = \"categorical_crossentropy\", metrics=['accuracy'])\n",
    "\n",
    "    return model\n",
    "\n",
    "fold = 1\n",
    "\n",
    "for train_index, test_index in kf.split(trainData):\n",
    "    \n",
    "    print('{}-Fold'.format(fold))\n",
    "    model = create_model()\n",
    "    early_stop = EarlyStopping(patience=20)\n",
    "    history = model.fit(x = trainData[train_index],\n",
    "                        y = trainLabel[train_index],\n",
    "                        epochs=100,\n",
    "                        validation_data=(trainData[test_index], trainLabel[test_index]),\n",
    "                        callbacks=[early_stop],\n",
    "                        batch_size=70, \n",
    "                        verbose=0)\n",
    "    \n",
    "    evaluation = model.evaluate(x = trainData[train_index], y = trainLabel[train_index])\n",
    "    print('Training:')\n",
    "    print('Loss: {:.3f}, Accuracy: {:.3f}'.format(evaluation[0], evaluation[1]))\n",
    "    test_prediction = model.predict_classes(trainData[train_index], batch_size=1)\n",
    "    cnf_matrix = confusion_matrix(trainLabel[train_index].argmax(axis=1), test_prediction)\n",
    "    plot_confusion_matrix(cnf_matrix, classes=['AF','Noise','Normal','Other'],\n",
    "                      title='Confusion matrix')\n",
    "    \n",
    "    evaluation = model.evaluate(x = trainData[test_index], y = trainLabel[test_index])\n",
    "    print('Testing:')\n",
    "    print('Loss: {:.3f}, Accuracy: {:.3f}'.format(evaluation[0], evaluation[1]))\n",
    "    test_prediction = model.predict_classes(trainData[test_index], batch_size=1)\n",
    "    cnf_matrix = confusion_matrix(trainLabel[test_index].argmax(axis=1), test_prediction)\n",
    "    plot_confusion_matrix(cnf_matrix, classes=['AF','Noise','Normal','Other'],\n",
    "                      title='Confusion matrix')\n",
    "    \n",
    "    validation_prediction = model.predict_classes(trainData[test_index], batch_size=100)\n",
    "    validation_prediction = np_utils.to_categorical(validation_prediction, 4)\n",
    "    result = f1_score(trainLabel[test_index], validation_prediction, average=None)\n",
    "    print('F1-score:')\n",
    "    print(result)\n",
    "    \n",
    "    fold = fold + 1\n",
    "    del model\n",
    "    "
   ]
  },
  {
   "cell_type": "markdown",
   "metadata": {},
   "source": [
    "那個圖不用理他"
   ]
  },
  {
   "cell_type": "markdown",
   "metadata": {
    "heading_collapsed": true
   },
   "source": [
    "## 5. Grid Search"
   ]
  },
  {
   "cell_type": "markdown",
   "metadata": {
    "hidden": true
   },
   "source": [
    "看 Appendix 1"
   ]
  },
  {
   "cell_type": "markdown",
   "metadata": {
    "heading_collapsed": true
   },
   "source": [
    "## 6. F1-score"
   ]
  },
  {
   "cell_type": "markdown",
   "metadata": {
    "hidden": true
   },
   "source": [
    "結果在 4. ACC & LOSS & Confusion Matrix using 5-fold 那邊\n",
    "做表格 然後最後再算總平均 再去跟論文比較"
   ]
  },
  {
   "cell_type": "markdown",
   "metadata": {},
   "source": [
    "# 2D CNN"
   ]
  },
  {
   "cell_type": "markdown",
   "metadata": {
    "heading_collapsed": true
   },
   "source": [
    "## 1. Model Structure"
   ]
  },
  {
   "cell_type": "code",
   "execution_count": null,
   "metadata": {
    "hidden": true
   },
   "outputs": [],
   "source": [
    "model = Sequential()\n",
    "model.add(Conv2D(filters = 64, kernel_size = 3, padding='same', data_format=\"channels_last\", input_shape = (data.shape[1], data.shape[2], 3)))\n",
    "model.add(BatchNormalization())\n",
    "model.add(Activation('relu'))\n",
    "model.add(Conv2D(filters = 64, kernel_size = 3, padding='same'))\n",
    "model.add(Activation('relu'))\n",
    "model.add(MaxPooling2D(pool_size = (2,2)))\n",
    "\n",
    "model.add(Conv2D(filters = 64, kernel_size = 3, padding='same'))\n",
    "model.add(BatchNormalization())\n",
    "model.add(Activation('relu'))\n",
    "model.add(Conv2D(filters = 64, kernel_size = 3, padding='same'))\n",
    "model.add(Activation('relu'))\n",
    "model.add(Dropout(0.3))\n",
    "model.add(MaxPooling2D(pool_size = (2,2)))\n",
    "\n",
    "model.add(Conv2D(filters = 64, kernel_size = 3, padding='same'))\n",
    "model.add(BatchNormalization())\n",
    "model.add(Activation('relu'))\n",
    "model.add(Conv2D(filters = 64, kernel_size = 3, padding='same'))\n",
    "model.add(Activation('relu'))\n",
    "model.add(Dropout(0.3))\n",
    "model.add(MaxPooling2D(pool_size = (2,2)))\n",
    "\n",
    "model.add(Conv2D(filters = 64, kernel_size = 3, padding='same'))\n",
    "model.add(Activation('relu'))\n",
    "model.add(Dropout(0.3))\n",
    "model.add(MaxPooling2D(pool_size = (2,2)))\n",
    "\n",
    "model.add(Flatten())\n",
    "model.add(Dense(160, activation = \"relu\"))\n",
    "model.add(Dropout(0.5))\n",
    "model.add(Dense(32, activation = \"relu\"))\n",
    "model.add(Dense(4, activation = \"softmax\"))"
   ]
  },
  {
   "cell_type": "markdown",
   "metadata": {},
   "source": [
    "## 2. epoch"
   ]
  },
  {
   "cell_type": "markdown",
   "metadata": {},
   "source": [
    "Using original spect array"
   ]
  },
  {
   "cell_type": "code",
   "execution_count": null,
   "metadata": {
    "hide_input": true
   },
   "outputs": [],
   "source": [
    "import numpy as np\n",
    "import pandas as pd\n",
    "import os\n",
    "from keras.models import Sequential\n",
    "from keras.layers import Dense, Flatten, Conv2D, MaxPooling2D, AveragePooling2D, Dropout\n",
    "from keras.layers import BatchNormalization, Activation\n",
    "from keras.optimizers import Adam\n",
    "from keras.utils import np_utils, multi_gpu_model\n",
    "import tensorflow as tf\n",
    "from keras.callbacks import TensorBoard\n",
    "np.set_printoptions(suppress=True)\n",
    "\n",
    "trainD = np.load(\"/home/hsiehch/30s/2D_spect/train_data.npy\")\n",
    "trainL = np.load(\"/home/hsiehch/30s/train_label.npy\")\n",
    "validationD = np.load(\"/home/hsiehch/30s/2D_spect/validate_data.npy\")\n",
    "validationL = np.load(\"/home/hsiehch/30s/validation_label.npy\")\n",
    "testD = np.load(\"/home/hsiehch/30s/2D_spect/test_data.npy\")\n",
    "testL = np.load(\"/home/hsiehch/30s/test_label.npy\")\n",
    "\n",
    "trainData = trainD.reshape((trainD.shape[0], trainD.shape[1], trainD.shape[2], 1))\n",
    "trainLabel = np_utils.to_categorical(trainL, 4)\n",
    "validationData = validationD.reshape((validationD.shape[0], validationD.shape[1], validationD.shape[2], 1))\n",
    "validationLabel = np_utils.to_categorical(validationL, 4)\n",
    "testData = testD.reshape((testD.shape[0], testD.shape[1], testD.shape[2], 1))\n",
    "testLabel = np_utils.to_categorical(testL, 4)\n",
    "\n",
    "print('Train Data:', trainData.shape)\n",
    "print('Train Label: ', trainLabel.shape)\n",
    "print('Vali Data: ', validationData.shape)\n",
    "print('Vali Label: ', validationLabel.shape)\n",
    "print('Test Data: ', testData.shape)\n",
    "print('Test Label: ', testLabel.shape)\n",
    "\n",
    "model = Sequential()\n",
    "model.add(Conv2D(filters = 64, kernel_size = 3, padding='same', data_format=\"channels_last\", input_shape = (data.shape[1], data.shape[2], 3)))\n",
    "model.add(BatchNormalization())\n",
    "model.add(Activation('relu'))\n",
    "model.add(Conv2D(filters = 64, kernel_size = 3, padding='same'))\n",
    "model.add(Activation('relu'))\n",
    "model.add(MaxPooling2D(pool_size = (2,2)))\n",
    "\n",
    "model.add(Conv2D(filters = 64, kernel_size = 3, padding='same'))\n",
    "model.add(BatchNormalization())\n",
    "model.add(Activation('relu'))\n",
    "model.add(Conv2D(filters = 64, kernel_size = 3, padding='same'))\n",
    "model.add(Activation('relu'))\n",
    "model.add(Dropout(0.3))\n",
    "model.add(MaxPooling2D(pool_size = (2,2)))\n",
    "\n",
    "model.add(Conv2D(filters = 64, kernel_size = 3, padding='same'))\n",
    "model.add(BatchNormalization())\n",
    "model.add(Activation('relu'))\n",
    "model.add(Conv2D(filters = 64, kernel_size = 3, padding='same'))\n",
    "model.add(Activation('relu'))\n",
    "model.add(Dropout(0.3))\n",
    "model.add(MaxPooling2D(pool_size = (2,2)))\n",
    "\n",
    "model.add(Conv2D(filters = 64, kernel_size = 3, padding='same'))\n",
    "model.add(Activation('relu'))\n",
    "model.add(Dropout(0.3))\n",
    "model.add(MaxPooling2D(pool_size = (2,2)))\n",
    "\n",
    "model.add(Flatten())\n",
    "model.add(Dense(160, activation = \"relu\"))\n",
    "model.add(Dropout(0.5))\n",
    "model.add(Dense(32, activation = \"relu\"))\n",
    "model.add(Dense(4, activation = \"softmax\"))\n",
    "\n",
    "print(model.summery())\n",
    "\n",
    "adam = Adam(lr = 0.0005)\n",
    "model.compile(optimizer = adam, loss = \"categorical_crossentropy\", metrics=['accuracy'])\n",
    "\n",
    "# early_stop = EarlyStopping(patience=20)\n",
    "train_history_1 = model.fit(x = trainData,\n",
    "                            y = trainLabel,\n",
    "                            epochs=100,\n",
    "                            validation_data=(validationData, validationLabel),\n",
    "#                             callbacks=[early_stop],\n",
    "                            batch_size=70, \n",
    "                            verbose=1)\n",
    "\n",
    "\n",
    "import pylab as plt\n",
    "def history_display(hist, train, validation):\n",
    "    plt.plot(hist.history[train])\n",
    "    plt.plot(hist.history[validation])\n",
    "    plt.title('Train History')\n",
    "    plt.ylabel(train)\n",
    "    plt.xlabel('Epoch')\n",
    "    plt.legend(['train', 'validation'], loc='upper left')\n",
    "    plt.show\n",
    "    \n",
    "def show_plot(flag, hist):\n",
    "    if flag == 'acc':\n",
    "        history_display(hist, 'acc', 'val_acc')\n",
    "    elif flag == 'loss':\n",
    "        history_display(hist, 'loss', 'val_loss')\n",
    "    else:\n",
    "        print('Invalid!')"
   ]
  },
  {
   "cell_type": "code",
   "execution_count": 1,
   "metadata": {
    "ExecuteTime": {
     "end_time": "2018-10-07T12:01:13.861641Z",
     "start_time": "2018-10-07T11:53:45.961641Z"
    },
    "hide_input": true,
    "scrolled": true
   },
   "outputs": [
    {
     "name": "stderr",
     "output_type": "stream",
     "text": [
      "/usr/local/lib/python3.5/dist-packages/h5py/__init__.py:36: FutureWarning: Conversion of the second argument of issubdtype from `float` to `np.floating` is deprecated. In future, it will be treated as `np.float64 == np.dtype(float).type`.\n",
      "  from ._conv import register_converters as _register_converters\n",
      "Using TensorFlow backend.\n"
     ]
    },
    {
     "name": "stdout",
     "output_type": "stream",
     "text": [
      "Train Data: (5078, 65, 139, 1)\n",
      "Train Label:  (5078, 4)\n",
      "Vali Data:  (2032, 65, 139, 1)\n",
      "Vali Label:  (2032, 4)\n",
      "Test Data:  (3041, 65, 139, 1)\n",
      "Test Label:  (3041, 4)\n",
      "_________________________________________________________________\n",
      "Layer (type)                 Output Shape              Param #   \n",
      "=================================================================\n",
      "conv2d_1 (Conv2D)            (None, 63, 137, 32)       320       \n",
      "_________________________________________________________________\n",
      "activation_1 (Activation)    (None, 63, 137, 32)       0         \n",
      "_________________________________________________________________\n",
      "conv2d_2 (Conv2D)            (None, 61, 135, 32)       9248      \n",
      "_________________________________________________________________\n",
      "max_pooling2d_1 (MaxPooling2 (None, 30, 67, 32)        0         \n",
      "_________________________________________________________________\n",
      "conv2d_3 (Conv2D)            (None, 28, 65, 64)        18496     \n",
      "_________________________________________________________________\n",
      "conv2d_4 (Conv2D)            (None, 26, 63, 64)        36928     \n",
      "_________________________________________________________________\n",
      "dropout_1 (Dropout)          (None, 26, 63, 64)        0         \n",
      "_________________________________________________________________\n",
      "max_pooling2d_2 (MaxPooling2 (None, 13, 31, 64)        0         \n",
      "_________________________________________________________________\n",
      "conv2d_5 (Conv2D)            (None, 11, 29, 64)        36928     \n",
      "_________________________________________________________________\n",
      "conv2d_6 (Conv2D)            (None, 9, 27, 64)         36928     \n",
      "_________________________________________________________________\n",
      "dropout_2 (Dropout)          (None, 9, 27, 64)         0         \n",
      "_________________________________________________________________\n",
      "max_pooling2d_3 (MaxPooling2 (None, 4, 13, 64)         0         \n",
      "_________________________________________________________________\n",
      "conv2d_7 (Conv2D)            (None, 2, 11, 64)         36928     \n",
      "_________________________________________________________________\n",
      "dropout_3 (Dropout)          (None, 2, 11, 64)         0         \n",
      "_________________________________________________________________\n",
      "max_pooling2d_4 (MaxPooling2 (None, 1, 5, 64)          0         \n",
      "_________________________________________________________________\n",
      "flatten_1 (Flatten)          (None, 320)               0         \n",
      "_________________________________________________________________\n",
      "dense_1 (Dense)              (None, 160)               51360     \n",
      "_________________________________________________________________\n",
      "dropout_4 (Dropout)          (None, 160)               0         \n",
      "_________________________________________________________________\n",
      "dense_2 (Dense)              (None, 32)                5152      \n",
      "_________________________________________________________________\n",
      "dense_3 (Dense)              (None, 4)                 132       \n",
      "=================================================================\n",
      "Total params: 232,420\n",
      "Trainable params: 232,420\n",
      "Non-trainable params: 0\n",
      "_________________________________________________________________\n",
      "None\n",
      "Train on 5078 samples, validate on 2032 samples\n",
      "Epoch 1/200\n",
      "5078/5078 [==============================] - 7s 1ms/step - loss: 1.0583 - acc: 0.5821 - val_loss: 1.0673 - val_acc: 0.5866\n",
      "Epoch 2/200\n",
      "5078/5078 [==============================] - 4s 787us/step - loss: 1.0095 - acc: 0.5868 - val_loss: 1.0310 - val_acc: 0.5866\n",
      "Epoch 3/200\n",
      "5078/5078 [==============================] - 3s 657us/step - loss: 1.0025 - acc: 0.5868 - val_loss: 1.0756 - val_acc: 0.5866\n",
      "Epoch 4/200\n",
      "5078/5078 [==============================] - 3s 628us/step - loss: 1.0013 - acc: 0.5868 - val_loss: 1.0379 - val_acc: 0.5866\n",
      "Epoch 5/200\n",
      "5078/5078 [==============================] - 3s 664us/step - loss: 0.9800 - acc: 0.5866 - val_loss: 0.9975 - val_acc: 0.5871\n",
      "Epoch 6/200\n",
      "5078/5078 [==============================] - 3s 640us/step - loss: 0.9744 - acc: 0.5878 - val_loss: 0.9943 - val_acc: 0.5881\n",
      "Epoch 7/200\n",
      "5078/5078 [==============================] - 3s 641us/step - loss: 0.9716 - acc: 0.5874 - val_loss: 1.0055 - val_acc: 0.5925\n",
      "Epoch 8/200\n",
      "5078/5078 [==============================] - 3s 627us/step - loss: 0.9693 - acc: 0.5894 - val_loss: 0.9819 - val_acc: 0.5871\n",
      "Epoch 9/200\n",
      "5078/5078 [==============================] - 3s 659us/step - loss: 0.9659 - acc: 0.5896 - val_loss: 0.9781 - val_acc: 0.5871\n",
      "Epoch 10/200\n",
      "5078/5078 [==============================] - 3s 618us/step - loss: 0.9660 - acc: 0.5896 - val_loss: 0.9652 - val_acc: 0.5901\n",
      "Epoch 11/200\n",
      "5078/5078 [==============================] - 3s 657us/step - loss: 0.9614 - acc: 0.5898 - val_loss: 0.9683 - val_acc: 0.5881\n",
      "Epoch 12/200\n",
      "5078/5078 [==============================] - 3s 628us/step - loss: 0.9618 - acc: 0.5890 - val_loss: 0.9659 - val_acc: 0.5871\n",
      "Epoch 13/200\n",
      "5078/5078 [==============================] - 3s 618us/step - loss: 0.9639 - acc: 0.5902 - val_loss: 0.9746 - val_acc: 0.5861\n",
      "Epoch 14/200\n",
      "5078/5078 [==============================] - 3s 666us/step - loss: 0.9584 - acc: 0.5910 - val_loss: 0.9673 - val_acc: 0.5891\n",
      "Epoch 15/200\n",
      "5078/5078 [==============================] - 3s 617us/step - loss: 0.9584 - acc: 0.5904 - val_loss: 0.9642 - val_acc: 0.5881\n",
      "Epoch 16/200\n",
      "5078/5078 [==============================] - 3s 623us/step - loss: 0.9587 - acc: 0.5906 - val_loss: 0.9670 - val_acc: 0.5935\n",
      "Epoch 17/200\n",
      "5078/5078 [==============================] - 3s 667us/step - loss: 0.9592 - acc: 0.5898 - val_loss: 0.9606 - val_acc: 0.5871\n",
      "Epoch 18/200\n",
      "5078/5078 [==============================] - 3s 625us/step - loss: 0.9528 - acc: 0.5918 - val_loss: 0.9569 - val_acc: 0.5871\n",
      "Epoch 19/200\n",
      "5078/5078 [==============================] - 3s 654us/step - loss: 0.9513 - acc: 0.5894 - val_loss: 0.9510 - val_acc: 0.5920\n",
      "Epoch 20/200\n",
      "5078/5078 [==============================] - 3s 660us/step - loss: 0.9488 - acc: 0.5926 - val_loss: 0.9549 - val_acc: 0.5891\n",
      "Epoch 21/200\n",
      "5078/5078 [==============================] - 3s 643us/step - loss: 0.9483 - acc: 0.5929 - val_loss: 0.9548 - val_acc: 0.5940\n",
      "Epoch 22/200\n",
      "5078/5078 [==============================] - 3s 618us/step - loss: 0.9431 - acc: 0.5928 - val_loss: 0.9494 - val_acc: 0.5896\n",
      "Epoch 23/200\n",
      "5078/5078 [==============================] - 3s 658us/step - loss: 0.9439 - acc: 0.5931 - val_loss: 0.9507 - val_acc: 0.5920\n",
      "Epoch 24/200\n",
      "5078/5078 [==============================] - 3s 630us/step - loss: 0.9440 - acc: 0.5920 - val_loss: 0.9464 - val_acc: 0.5886\n",
      "Epoch 25/200\n",
      "5078/5078 [==============================] - 3s 619us/step - loss: 0.9411 - acc: 0.5941 - val_loss: 0.9462 - val_acc: 0.5906\n",
      "Epoch 26/200\n",
      "5078/5078 [==============================] - 3s 664us/step - loss: 0.9411 - acc: 0.5947 - val_loss: 0.9443 - val_acc: 0.5881\n",
      "Epoch 27/200\n",
      "5078/5078 [==============================] - 3s 626us/step - loss: 0.9386 - acc: 0.5949 - val_loss: 0.9471 - val_acc: 0.5896\n",
      "Epoch 28/200\n",
      "5078/5078 [==============================] - 3s 640us/step - loss: 0.9415 - acc: 0.5943 - val_loss: 0.9499 - val_acc: 0.5886\n",
      "Epoch 29/200\n",
      "5078/5078 [==============================] - 3s 656us/step - loss: 0.9347 - acc: 0.5953 - val_loss: 0.9505 - val_acc: 0.5901\n",
      "Epoch 30/200\n",
      "5078/5078 [==============================] - 3s 641us/step - loss: 0.9307 - acc: 0.5947 - val_loss: 0.9378 - val_acc: 0.5901\n",
      "Epoch 31/200\n",
      "5078/5078 [==============================] - 3s 652us/step - loss: 0.9339 - acc: 0.5951 - val_loss: 0.9476 - val_acc: 0.5901\n",
      "Epoch 32/200\n",
      "5078/5078 [==============================] - 3s 660us/step - loss: 0.9365 - acc: 0.5937 - val_loss: 0.9455 - val_acc: 0.5935\n",
      "Epoch 33/200\n",
      "5078/5078 [==============================] - 3s 624us/step - loss: 0.9393 - acc: 0.5928 - val_loss: 0.9419 - val_acc: 0.5925\n",
      "Epoch 34/200\n",
      "5078/5078 [==============================] - 3s 623us/step - loss: 0.9311 - acc: 0.5955 - val_loss: 0.9512 - val_acc: 0.5891\n",
      "Epoch 35/200\n",
      "5078/5078 [==============================] - 3s 637us/step - loss: 0.9328 - acc: 0.5951 - val_loss: 0.9481 - val_acc: 0.5906\n",
      "Epoch 36/200\n",
      "5078/5078 [==============================] - 3s 653us/step - loss: 0.9362 - acc: 0.5951 - val_loss: 0.9449 - val_acc: 0.5901\n",
      "Epoch 37/200\n",
      "5078/5078 [==============================] - 3s 615us/step - loss: 0.9337 - acc: 0.5973 - val_loss: 0.9424 - val_acc: 0.5906\n",
      "Epoch 38/200\n",
      "5078/5078 [==============================] - 3s 618us/step - loss: 0.9327 - acc: 0.5951 - val_loss: 0.9357 - val_acc: 0.5910\n",
      "Epoch 39/200\n",
      "5078/5078 [==============================] - 3s 653us/step - loss: 0.9261 - acc: 0.5957 - val_loss: 0.9418 - val_acc: 0.5935\n",
      "Epoch 40/200\n",
      "5078/5078 [==============================] - 3s 637us/step - loss: 0.9233 - acc: 0.5963 - val_loss: 0.9414 - val_acc: 0.5886\n",
      "Epoch 41/200\n",
      "5078/5078 [==============================] - 3s 623us/step - loss: 0.9197 - acc: 0.5979 - val_loss: 0.9401 - val_acc: 0.5935\n",
      "Epoch 42/200\n",
      "5078/5078 [==============================] - 3s 658us/step - loss: 0.9201 - acc: 0.6010 - val_loss: 0.9365 - val_acc: 0.5994\n",
      "Epoch 43/200\n",
      "5078/5078 [==============================] - 3s 629us/step - loss: 0.9213 - acc: 0.6063 - val_loss: 0.9406 - val_acc: 0.6009\n",
      "Epoch 44/200\n",
      "5078/5078 [==============================] - 3s 619us/step - loss: 0.9200 - acc: 0.6071 - val_loss: 0.9364 - val_acc: 0.6181\n",
      "Epoch 45/200\n",
      "5078/5078 [==============================] - 3s 621us/step - loss: 0.9108 - acc: 0.6115 - val_loss: 0.9141 - val_acc: 0.6245\n",
      "Epoch 46/200\n",
      "5078/5078 [==============================] - 3s 634us/step - loss: 0.9070 - acc: 0.6136 - val_loss: 0.9106 - val_acc: 0.6181\n",
      "Epoch 47/200\n",
      "5078/5078 [==============================] - 3s 653us/step - loss: 0.8917 - acc: 0.6276 - val_loss: 0.9190 - val_acc: 0.6270\n",
      "Epoch 48/200\n",
      "5078/5078 [==============================] - 3s 618us/step - loss: 0.8794 - acc: 0.6369 - val_loss: 0.8756 - val_acc: 0.6457\n",
      "Epoch 49/200\n",
      "5078/5078 [==============================] - 3s 620us/step - loss: 0.8507 - acc: 0.6477 - val_loss: 0.9214 - val_acc: 0.6216\n",
      "Epoch 50/200\n",
      "5078/5078 [==============================] - 3s 666us/step - loss: 0.8642 - acc: 0.6388 - val_loss: 0.8911 - val_acc: 0.6344\n",
      "Epoch 51/200\n",
      "5078/5078 [==============================] - 3s 626us/step - loss: 0.8361 - acc: 0.6552 - val_loss: 0.8448 - val_acc: 0.6654\n",
      "Epoch 52/200\n",
      "5078/5078 [==============================] - 3s 620us/step - loss: 0.8017 - acc: 0.6682 - val_loss: 0.8387 - val_acc: 0.6688\n",
      "Epoch 53/200\n",
      "5078/5078 [==============================] - 3s 654us/step - loss: 0.7867 - acc: 0.6713 - val_loss: 0.8131 - val_acc: 0.6639\n",
      "Epoch 54/200\n",
      "5078/5078 [==============================] - 3s 635us/step - loss: 0.7740 - acc: 0.6757 - val_loss: 0.7942 - val_acc: 0.6752\n",
      "Epoch 55/200\n",
      "5078/5078 [==============================] - 3s 617us/step - loss: 0.7681 - acc: 0.6798 - val_loss: 0.8139 - val_acc: 0.6767\n",
      "Epoch 56/200\n",
      "5078/5078 [==============================] - 3s 622us/step - loss: 0.7748 - acc: 0.6869 - val_loss: 0.8181 - val_acc: 0.6649\n",
      "Epoch 57/200\n",
      "5078/5078 [==============================] - 3s 648us/step - loss: 0.7639 - acc: 0.6810 - val_loss: 0.7680 - val_acc: 0.6816\n",
      "Epoch 58/200\n",
      "5078/5078 [==============================] - 3s 638us/step - loss: 0.7435 - acc: 0.6912 - val_loss: 0.8005 - val_acc: 0.6678\n",
      "Epoch 59/200\n",
      "5078/5078 [==============================] - 3s 616us/step - loss: 0.7513 - acc: 0.6906 - val_loss: 0.7770 - val_acc: 0.6855\n",
      "Epoch 60/200\n",
      "5078/5078 [==============================] - 3s 622us/step - loss: 0.7274 - acc: 0.7009 - val_loss: 0.7648 - val_acc: 0.6875\n",
      "Epoch 61/200\n",
      "5078/5078 [==============================] - 3s 632us/step - loss: 0.7209 - acc: 0.7060 - val_loss: 0.7649 - val_acc: 0.6914\n",
      "Epoch 62/200\n",
      "5078/5078 [==============================] - 3s 655us/step - loss: 0.7314 - acc: 0.7011 - val_loss: 0.7589 - val_acc: 0.6924\n",
      "Epoch 63/200\n",
      "5078/5078 [==============================] - 3s 617us/step - loss: 0.7126 - acc: 0.7095 - val_loss: 0.7626 - val_acc: 0.6895\n",
      "Epoch 64/200\n",
      "5078/5078 [==============================] - 3s 637us/step - loss: 0.7066 - acc: 0.7127 - val_loss: 0.7341 - val_acc: 0.6914\n",
      "Epoch 65/200\n",
      "5078/5078 [==============================] - 3s 664us/step - loss: 0.7058 - acc: 0.7099 - val_loss: 0.7465 - val_acc: 0.6959\n",
      "Epoch 66/200\n",
      "5078/5078 [==============================] - 3s 666us/step - loss: 0.6954 - acc: 0.7137 - val_loss: 0.7366 - val_acc: 0.6959\n",
      "Epoch 67/200\n",
      "5078/5078 [==============================] - 3s 664us/step - loss: 0.6879 - acc: 0.7172 - val_loss: 0.7573 - val_acc: 0.6998\n",
      "Epoch 68/200\n",
      "5078/5078 [==============================] - 3s 637us/step - loss: 0.6893 - acc: 0.7141 - val_loss: 0.7339 - val_acc: 0.6983\n",
      "Epoch 69/200\n",
      "5078/5078 [==============================] - 3s 632us/step - loss: 0.6848 - acc: 0.7117 - val_loss: 0.7460 - val_acc: 0.7032\n",
      "Epoch 70/200\n",
      "5078/5078 [==============================] - 3s 657us/step - loss: 0.6826 - acc: 0.7182 - val_loss: 0.7183 - val_acc: 0.7111\n",
      "Epoch 71/200\n",
      "5078/5078 [==============================] - 3s 615us/step - loss: 0.6742 - acc: 0.7247 - val_loss: 0.7162 - val_acc: 0.7141\n",
      "Epoch 72/200\n",
      "5078/5078 [==============================] - 3s 617us/step - loss: 0.6809 - acc: 0.7158 - val_loss: 0.7404 - val_acc: 0.7057\n",
      "Epoch 73/200\n",
      "5078/5078 [==============================] - 3s 644us/step - loss: 0.6678 - acc: 0.7261 - val_loss: 0.7137 - val_acc: 0.7116\n",
      "Epoch 74/200\n",
      "5078/5078 [==============================] - 3s 655us/step - loss: 0.6607 - acc: 0.7286 - val_loss: 0.7081 - val_acc: 0.7205\n",
      "Epoch 75/200\n",
      "5078/5078 [==============================] - 3s 668us/step - loss: 0.6583 - acc: 0.7310 - val_loss: 0.7108 - val_acc: 0.7067\n",
      "Epoch 76/200\n",
      "5078/5078 [==============================] - 3s 624us/step - loss: 0.6532 - acc: 0.7328 - val_loss: 0.6993 - val_acc: 0.7200\n",
      "Epoch 77/200\n",
      "5078/5078 [==============================] - 3s 618us/step - loss: 0.6463 - acc: 0.7379 - val_loss: 0.6960 - val_acc: 0.7259\n",
      "Epoch 78/200\n",
      "5078/5078 [==============================] - 3s 662us/step - loss: 0.6402 - acc: 0.7381 - val_loss: 0.7064 - val_acc: 0.7106\n",
      "Epoch 79/200\n",
      "5078/5078 [==============================] - 3s 637us/step - loss: 0.6466 - acc: 0.7363 - val_loss: 0.7071 - val_acc: 0.7131\n",
      "Epoch 80/200\n",
      "5078/5078 [==============================] - 3s 627us/step - loss: 0.6420 - acc: 0.7403 - val_loss: 0.7096 - val_acc: 0.7121\n",
      "Epoch 81/200\n",
      "5078/5078 [==============================] - 3s 669us/step - loss: 0.6433 - acc: 0.7369 - val_loss: 0.7228 - val_acc: 0.6964\n",
      "Epoch 82/200\n",
      "5078/5078 [==============================] - 3s 618us/step - loss: 0.6395 - acc: 0.7428 - val_loss: 0.6961 - val_acc: 0.7254\n",
      "Epoch 83/200\n",
      "5078/5078 [==============================] - 3s 623us/step - loss: 0.6327 - acc: 0.7408 - val_loss: 0.6949 - val_acc: 0.7165\n",
      "Epoch 84/200\n",
      "5078/5078 [==============================] - 3s 670us/step - loss: 0.6465 - acc: 0.7397 - val_loss: 0.7394 - val_acc: 0.7072\n",
      "Epoch 85/200\n",
      "5078/5078 [==============================] - 3s 626us/step - loss: 0.6451 - acc: 0.7357 - val_loss: 0.6898 - val_acc: 0.7239\n",
      "Epoch 86/200\n",
      "5078/5078 [==============================] - 3s 672us/step - loss: 0.6250 - acc: 0.7446 - val_loss: 0.6892 - val_acc: 0.7185\n",
      "Epoch 87/200\n",
      "5078/5078 [==============================] - 3s 678us/step - loss: 0.6223 - acc: 0.7517 - val_loss: 0.6904 - val_acc: 0.7254\n",
      "Epoch 88/200\n",
      "5078/5078 [==============================] - 3s 653us/step - loss: 0.6315 - acc: 0.7408 - val_loss: 0.6962 - val_acc: 0.7165\n",
      "Epoch 89/200\n",
      "5078/5078 [==============================] - 3s 614us/step - loss: 0.6103 - acc: 0.7550 - val_loss: 0.6800 - val_acc: 0.7264\n",
      "Epoch 90/200\n",
      "5078/5078 [==============================] - 3s 661us/step - loss: 0.6127 - acc: 0.7509 - val_loss: 0.7045 - val_acc: 0.7057\n",
      "Epoch 91/200\n",
      "5078/5078 [==============================] - 3s 634us/step - loss: 0.6123 - acc: 0.7501 - val_loss: 0.6827 - val_acc: 0.7219\n",
      "Epoch 92/200\n",
      "5078/5078 [==============================] - 3s 624us/step - loss: 0.5975 - acc: 0.7576 - val_loss: 0.6860 - val_acc: 0.7092\n",
      "Epoch 93/200\n",
      "5078/5078 [==============================] - 3s 664us/step - loss: 0.6102 - acc: 0.7481 - val_loss: 0.6865 - val_acc: 0.7210\n",
      "Epoch 94/200\n",
      "5078/5078 [==============================] - 3s 657us/step - loss: 0.5961 - acc: 0.7560 - val_loss: 0.7033 - val_acc: 0.7274\n",
      "Epoch 95/200\n",
      "5078/5078 [==============================] - 3s 669us/step - loss: 0.5939 - acc: 0.7580 - val_loss: 0.6855 - val_acc: 0.7185\n",
      "Epoch 96/200\n"
     ]
    },
    {
     "name": "stdout",
     "output_type": "stream",
     "text": [
      "5078/5078 [==============================] - 3s 668us/step - loss: 0.5940 - acc: 0.7611 - val_loss: 0.6794 - val_acc: 0.7323\n",
      "Epoch 97/200\n",
      "5078/5078 [==============================] - 3s 669us/step - loss: 0.5839 - acc: 0.7586 - val_loss: 0.6837 - val_acc: 0.7288\n",
      "Epoch 98/200\n",
      "5078/5078 [==============================] - 3s 664us/step - loss: 0.5847 - acc: 0.7613 - val_loss: 0.6928 - val_acc: 0.7037\n",
      "Epoch 99/200\n",
      "5078/5078 [==============================] - 3s 657us/step - loss: 0.5837 - acc: 0.7625 - val_loss: 0.6962 - val_acc: 0.7264\n",
      "Epoch 100/200\n",
      "5078/5078 [==============================] - 3s 632us/step - loss: 0.5785 - acc: 0.7643 - val_loss: 0.6727 - val_acc: 0.7279\n",
      "Epoch 101/200\n",
      "5078/5078 [==============================] - 3s 662us/step - loss: 0.5921 - acc: 0.7629 - val_loss: 0.6859 - val_acc: 0.7338\n",
      "Epoch 102/200\n",
      "5078/5078 [==============================] - 3s 632us/step - loss: 0.5924 - acc: 0.7617 - val_loss: 0.6870 - val_acc: 0.7338\n",
      "Epoch 103/200\n",
      "5078/5078 [==============================] - 3s 665us/step - loss: 0.5735 - acc: 0.7702 - val_loss: 0.6788 - val_acc: 0.7298\n",
      "Epoch 104/200\n",
      "5078/5078 [==============================] - 3s 638us/step - loss: 0.5885 - acc: 0.7651 - val_loss: 0.6955 - val_acc: 0.7288\n",
      "Epoch 105/200\n",
      "5078/5078 [==============================] - 3s 673us/step - loss: 0.5819 - acc: 0.7623 - val_loss: 0.7158 - val_acc: 0.7279\n",
      "Epoch 106/200\n",
      "5078/5078 [==============================] - 3s 616us/step - loss: 0.5660 - acc: 0.7729 - val_loss: 0.6762 - val_acc: 0.7318\n",
      "Epoch 107/200\n",
      "5078/5078 [==============================] - 3s 621us/step - loss: 0.5638 - acc: 0.7749 - val_loss: 0.7048 - val_acc: 0.7249\n",
      "Epoch 108/200\n",
      "5078/5078 [==============================] - 3s 662us/step - loss: 0.5608 - acc: 0.7735 - val_loss: 0.7186 - val_acc: 0.7293\n",
      "Epoch 109/200\n",
      "5078/5078 [==============================] - 3s 637us/step - loss: 0.5696 - acc: 0.7753 - val_loss: 0.6992 - val_acc: 0.7249\n",
      "Epoch 110/200\n",
      "5078/5078 [==============================] - 3s 616us/step - loss: 0.5572 - acc: 0.7753 - val_loss: 0.6751 - val_acc: 0.7298\n",
      "Epoch 111/200\n",
      "5078/5078 [==============================] - 3s 618us/step - loss: 0.5517 - acc: 0.7737 - val_loss: 0.6766 - val_acc: 0.7343\n",
      "Epoch 112/200\n",
      "5078/5078 [==============================] - 3s 663us/step - loss: 0.5565 - acc: 0.7773 - val_loss: 0.6934 - val_acc: 0.7106\n",
      "Epoch 113/200\n",
      "5078/5078 [==============================] - 3s 632us/step - loss: 0.5509 - acc: 0.7753 - val_loss: 0.6851 - val_acc: 0.7367\n",
      "Epoch 114/200\n",
      "5078/5078 [==============================] - 3s 656us/step - loss: 0.5610 - acc: 0.7765 - val_loss: 0.6855 - val_acc: 0.7377\n",
      "Epoch 115/200\n",
      "5078/5078 [==============================] - 3s 648us/step - loss: 0.5467 - acc: 0.7857 - val_loss: 0.6485 - val_acc: 0.7416\n",
      "Epoch 116/200\n",
      "5078/5078 [==============================] - 3s 628us/step - loss: 0.5320 - acc: 0.7879 - val_loss: 0.6748 - val_acc: 0.7264\n",
      "Epoch 117/200\n",
      "5078/5078 [==============================] - 3s 667us/step - loss: 0.5253 - acc: 0.8013 - val_loss: 0.6949 - val_acc: 0.7367\n",
      "Epoch 118/200\n",
      "5078/5078 [==============================] - 3s 617us/step - loss: 0.5268 - acc: 0.7913 - val_loss: 0.6754 - val_acc: 0.7421\n",
      "Epoch 119/200\n",
      "5078/5078 [==============================] - 3s 618us/step - loss: 0.5440 - acc: 0.7869 - val_loss: 0.6631 - val_acc: 0.7397\n",
      "Epoch 120/200\n",
      "5078/5078 [==============================] - 3s 666us/step - loss: 0.5298 - acc: 0.7936 - val_loss: 0.6744 - val_acc: 0.7357\n",
      "Epoch 121/200\n",
      "5078/5078 [==============================] - 3s 633us/step - loss: 0.5116 - acc: 0.8031 - val_loss: 0.6823 - val_acc: 0.7406\n",
      "Epoch 122/200\n",
      "5078/5078 [==============================] - 3s 664us/step - loss: 0.5200 - acc: 0.7999 - val_loss: 0.6932 - val_acc: 0.7431\n",
      "Epoch 123/200\n",
      "5078/5078 [==============================] - 3s 632us/step - loss: 0.5153 - acc: 0.8009 - val_loss: 0.6910 - val_acc: 0.7436\n",
      "Epoch 124/200\n",
      "5078/5078 [==============================] - 3s 617us/step - loss: 0.4985 - acc: 0.8109 - val_loss: 0.6751 - val_acc: 0.7416\n",
      "Epoch 125/200\n",
      "5078/5078 [==============================] - 3s 614us/step - loss: 0.5073 - acc: 0.8072 - val_loss: 0.6969 - val_acc: 0.7352\n",
      "Epoch 126/200\n",
      "5078/5078 [==============================] - 3s 624us/step - loss: 0.5013 - acc: 0.8141 - val_loss: 0.7013 - val_acc: 0.7323\n",
      "Epoch 127/200\n",
      "5078/5078 [==============================] - 3s 674us/step - loss: 0.5016 - acc: 0.8161 - val_loss: 0.6653 - val_acc: 0.7475\n",
      "Epoch 128/200\n",
      "5078/5078 [==============================] - 3s 646us/step - loss: 0.5018 - acc: 0.8133 - val_loss: 0.6714 - val_acc: 0.7495\n",
      "Epoch 129/200\n",
      "5078/5078 [==============================] - 3s 649us/step - loss: 0.4992 - acc: 0.8145 - val_loss: 0.6920 - val_acc: 0.7500\n",
      "Epoch 130/200\n",
      "5078/5078 [==============================] - 3s 617us/step - loss: 0.4922 - acc: 0.8106 - val_loss: 0.6827 - val_acc: 0.7426\n",
      "Epoch 131/200\n",
      "5078/5078 [==============================] - 3s 645us/step - loss: 0.4843 - acc: 0.8176 - val_loss: 0.6908 - val_acc: 0.7515\n",
      "Epoch 132/200\n",
      "5078/5078 [==============================] - 3s 659us/step - loss: 0.4831 - acc: 0.8125 - val_loss: 0.6895 - val_acc: 0.7466\n",
      "Epoch 133/200\n",
      "5078/5078 [==============================] - 3s 647us/step - loss: 0.4791 - acc: 0.8184 - val_loss: 0.6999 - val_acc: 0.7554\n",
      "Epoch 134/200\n",
      "5078/5078 [==============================] - 3s 646us/step - loss: 0.5029 - acc: 0.8086 - val_loss: 0.6950 - val_acc: 0.7559\n",
      "Epoch 135/200\n",
      "5078/5078 [==============================] - 3s 613us/step - loss: 0.4791 - acc: 0.8200 - val_loss: 0.6992 - val_acc: 0.7628\n"
     ]
    }
   ],
   "source": [
    "import numpy as np\n",
    "import pandas as pd\n",
    "import os\n",
    "from keras.models import Sequential\n",
    "from keras.layers import Dense, Flatten, Conv2D, MaxPooling2D, AveragePooling2D, Dropout\n",
    "from keras.layers import BatchNormalization, Activation\n",
    "from keras.utils import np_utils\n",
    "from keras.optimizers import Adam\n",
    "import tensorflow as tf\n",
    "from keras.callbacks import EarlyStopping\n",
    "np.set_printoptions(suppress=True)\n",
    "\n",
    "trainD = np.load(\"/home/hsiehch/30s/2D_spect/train_data.npy\")\n",
    "trainL = np.load(\"/home/hsiehch/30s/train_label.npy\")\n",
    "validationD = np.load(\"/home/hsiehch/30s/2D_spect/validate_data.npy\")\n",
    "validationL = np.load(\"/home/hsiehch/30s/validation_label.npy\")\n",
    "testD = np.load(\"/home/hsiehch/30s/2D_spect/test_data.npy\")\n",
    "testL = np.load(\"/home/hsiehch/30s/test_label.npy\")\n",
    "\n",
    "trainData = trainD.reshape((trainD.shape[0], trainD.shape[1], trainD.shape[2], 1))\n",
    "trainLabel = np_utils.to_categorical(trainL, 4)\n",
    "validationData = validationD.reshape((validationD.shape[0], validationD.shape[1], validationD.shape[2], 1))\n",
    "validationLabel = np_utils.to_categorical(validationL, 4)\n",
    "testData = testD.reshape((testD.shape[0], testD.shape[1], testD.shape[2], 1))\n",
    "testLabel = np_utils.to_categorical(testL, 4)\n",
    "\n",
    "print('Train Data:', trainData.shape)\n",
    "print('Train Label: ', trainLabel.shape)\n",
    "print('Vali Data: ', validationData.shape)\n",
    "print('Vali Label: ', validationLabel.shape)\n",
    "print('Test Data: ', testData.shape)\n",
    "print('Test Label: ', testLabel.shape)\n",
    "\n",
    "model = Sequential() \n",
    "model.add(Conv2D(filters = 32, kernel_size = 3, data_format=\"channels_last\", input_shape = (trainData.shape[1], trainData.shape[2], 1)))\n",
    "model.add(Activation('relu'))\n",
    "model.add(Conv2D(filters = 32, kernel_size = 3, activation = \"relu\"))\n",
    "model.add(MaxPooling2D(pool_size = (2,2)))\n",
    "\n",
    "model.add(Conv2D(filters = 64, kernel_size = 3, activation = \"relu\"))\n",
    "model.add(Conv2D(filters = 64, kernel_size = 3, activation = \"relu\"))\n",
    "model.add(Dropout(0.3))\n",
    "model.add(MaxPooling2D(pool_size = (2,2)))\n",
    "\n",
    "model.add(Conv2D(filters = 64, kernel_size = 3, activation = \"relu\"))\n",
    "model.add(Conv2D(filters = 64, kernel_size = 3, activation = \"relu\"))\n",
    "model.add(Dropout(0.3))\n",
    "model.add(MaxPooling2D(pool_size = (2,2)))\n",
    "\n",
    "model.add(Conv2D(filters = 64, kernel_size = 3, activation = \"relu\"))\n",
    "model.add(Dropout(0.3))\n",
    "model.add(MaxPooling2D(pool_size = (2,2)))\n",
    "\n",
    "model.add(Flatten())\n",
    "model.add(Dense(160, activation = \"relu\"))\n",
    "model.add(Dropout(0.5))\n",
    "model.add(Dense(32, activation = \"relu\"))\n",
    "model.add(Dense(4, activation = \"softmax\"))\n",
    "\n",
    "print(model.summary())\n",
    "\n",
    "adam = Adam(lr=0.001)\n",
    "early_stop = EarlyStopping(patience=20)\n",
    "model.compile(optimizer = adam, loss = \"categorical_crossentropy\", metrics=['accuracy'])\n",
    "batch_s = 80\n",
    "train_history = model.fit(x = trainData, \n",
    "                          y = trainLabel,\n",
    "                          epochs=200,\n",
    "                          validation_data=(validationData, validationLabel),\n",
    "                          callbacks=[early_stop],\n",
    "                          batch_size=batch_s*1, \n",
    "                          verbose=1)\n",
    "\n",
    "\n",
    "import pylab as plt\n",
    "def history_display(hist, train, validation):\n",
    "    plt.plot(hist.history[train])\n",
    "    plt.plot(hist.history[validation])\n",
    "    plt.title('Train History')\n",
    "    plt.ylabel(train)\n",
    "    plt.xlabel('Epoch')\n",
    "    plt.legend(['train', 'validation'], loc='upper left')\n",
    "    plt.show\n",
    "    \n",
    "def show_plot(flag, hist):\n",
    "    if flag == 'acc':\n",
    "        history_display(hist, 'acc', 'val_acc')\n",
    "    elif flag == 'loss':\n",
    "        history_display(hist, 'loss', 'val_loss')\n",
    "    else:\n",
    "        print('Invalid!')"
   ]
  },
  {
   "cell_type": "code",
   "execution_count": 2,
   "metadata": {
    "ExecuteTime": {
     "end_time": "2018-10-07T12:03:13.846080Z",
     "start_time": "2018-10-07T12:03:13.573806Z"
    },
    "hide_input": true
   },
   "outputs": [
    {
     "data": {
      "image/png": "[encoded data removed]",
      "text/plain": [
       "<Figure size 432x288 with 1 Axes>"
      ]
     },
     "metadata": {},
     "output_type": "display_data"
    }
   ],
   "source": [
    "show_plot('acc', train_history)"
   ]
  },
  {
   "cell_type": "code",
   "execution_count": 3,
   "metadata": {
    "ExecuteTime": {
     "end_time": "2018-10-07T12:03:18.777357Z",
     "start_time": "2018-10-07T12:03:18.546459Z"
    },
    "hide_input": true
   },
   "outputs": [
    {
     "data": {
      "image/png": "[encoded data removed]",
      "text/plain": [
       "<Figure size 432x288 with 1 Axes>"
      ]
     },
     "metadata": {},
     "output_type": "display_data"
    }
   ],
   "source": [
    "show_plot('loss', train_history)"
   ]
  },
  {
   "cell_type": "markdown",
   "metadata": {},
   "source": [
    "Using RGB spect"
   ]
  },
  {
   "cell_type": "code",
   "execution_count": 1,
   "metadata": {
    "ExecuteTime": {
     "end_time": "2018-10-10T04:04:46.931567Z",
     "start_time": "2018-10-10T03:57:36.031943Z"
    },
    "hide_input": true,
    "scrolled": true
   },
   "outputs": [
    {
     "name": "stderr",
     "output_type": "stream",
     "text": [
      "/usr/local/lib/python3.5/dist-packages/h5py/__init__.py:36: FutureWarning: Conversion of the second argument of issubdtype from `float` to `np.floating` is deprecated. In future, it will be treated as `np.float64 == np.dtype(float).type`.\n",
      "  from ._conv import register_converters as _register_converters\n",
      "Using TensorFlow backend.\n"
     ]
    },
    {
     "name": "stdout",
     "output_type": "stream",
     "text": [
      "(10151, 59, 151, 3)\n",
      "(10151, 4)\n",
      "_________________________________________________________________\n",
      "Layer (type)                 Output Shape              Param #   \n",
      "=================================================================\n",
      "conv2d_1 (Conv2D)            (None, 59, 151, 64)       1792      \n",
      "_________________________________________________________________\n",
      "batch_normalization_1 (Batch (None, 59, 151, 64)       256       \n",
      "_________________________________________________________________\n",
      "activation_1 (Activation)    (None, 59, 151, 64)       0         \n",
      "_________________________________________________________________\n",
      "conv2d_2 (Conv2D)            (None, 59, 151, 64)       36928     \n",
      "_________________________________________________________________\n",
      "activation_2 (Activation)    (None, 59, 151, 64)       0         \n",
      "_________________________________________________________________\n",
      "max_pooling2d_1 (MaxPooling2 (None, 29, 75, 64)        0         \n",
      "_________________________________________________________________\n",
      "conv2d_3 (Conv2D)            (None, 29, 75, 64)        36928     \n",
      "_________________________________________________________________\n",
      "batch_normalization_2 (Batch (None, 29, 75, 64)        256       \n",
      "_________________________________________________________________\n",
      "activation_3 (Activation)    (None, 29, 75, 64)        0         \n",
      "_________________________________________________________________\n",
      "conv2d_4 (Conv2D)            (None, 29, 75, 64)        36928     \n",
      "_________________________________________________________________\n",
      "activation_4 (Activation)    (None, 29, 75, 64)        0         \n",
      "_________________________________________________________________\n",
      "dropout_1 (Dropout)          (None, 29, 75, 64)        0         \n",
      "_________________________________________________________________\n",
      "max_pooling2d_2 (MaxPooling2 (None, 14, 37, 64)        0         \n",
      "_________________________________________________________________\n",
      "conv2d_5 (Conv2D)            (None, 14, 37, 64)        36928     \n",
      "_________________________________________________________________\n",
      "batch_normalization_3 (Batch (None, 14, 37, 64)        256       \n",
      "_________________________________________________________________\n",
      "activation_5 (Activation)    (None, 14, 37, 64)        0         \n",
      "_________________________________________________________________\n",
      "conv2d_6 (Conv2D)            (None, 14, 37, 64)        36928     \n",
      "_________________________________________________________________\n",
      "activation_6 (Activation)    (None, 14, 37, 64)        0         \n",
      "_________________________________________________________________\n",
      "dropout_2 (Dropout)          (None, 14, 37, 64)        0         \n",
      "_________________________________________________________________\n",
      "max_pooling2d_3 (MaxPooling2 (None, 7, 18, 64)         0         \n",
      "_________________________________________________________________\n",
      "conv2d_7 (Conv2D)            (None, 7, 18, 64)         36928     \n",
      "_________________________________________________________________\n",
      "activation_7 (Activation)    (None, 7, 18, 64)         0         \n",
      "_________________________________________________________________\n",
      "dropout_3 (Dropout)          (None, 7, 18, 64)         0         \n",
      "_________________________________________________________________\n",
      "max_pooling2d_4 (MaxPooling2 (None, 3, 9, 64)          0         \n",
      "_________________________________________________________________\n",
      "flatten_1 (Flatten)          (None, 1728)              0         \n",
      "_________________________________________________________________\n",
      "dense_1 (Dense)              (None, 160)               276640    \n",
      "_________________________________________________________________\n",
      "dropout_4 (Dropout)          (None, 160)               0         \n",
      "_________________________________________________________________\n",
      "dense_2 (Dense)              (None, 32)                5152      \n",
      "_________________________________________________________________\n",
      "dense_3 (Dense)              (None, 4)                 132       \n",
      "=================================================================\n",
      "Total params: 506,052\n",
      "Trainable params: 505,668\n",
      "Non-trainable params: 384\n",
      "_________________________________________________________________\n",
      "None\n",
      "Train on 6090 samples, validate on 1523 samples\n",
      "Epoch 1/100\n",
      "6090/6090 [==============================] - 11s 2ms/step - loss: 1.0401 - acc: 0.5571 - val_loss: 1.0488 - val_acc: 0.6120\n",
      "Epoch 2/100\n",
      "6090/6090 [==============================] - 8s 1ms/step - loss: 0.8961 - acc: 0.6179 - val_loss: 1.2533 - val_acc: 0.4590\n",
      "Epoch 3/100\n",
      "6090/6090 [==============================] - 7s 1ms/step - loss: 0.8141 - acc: 0.6637 - val_loss: 0.8562 - val_acc: 0.6428\n",
      "Epoch 4/100\n",
      "6090/6090 [==============================] - 8s 1ms/step - loss: 0.7696 - acc: 0.6790 - val_loss: 0.9405 - val_acc: 0.7177\n",
      "Epoch 5/100\n",
      "6090/6090 [==============================] - 9s 1ms/step - loss: 0.7201 - acc: 0.6985 - val_loss: 0.8944 - val_acc: 0.6809\n",
      "Epoch 6/100\n",
      "6090/6090 [==============================] - 9s 1ms/step - loss: 0.7137 - acc: 0.7033 - val_loss: 0.8074 - val_acc: 0.7065\n",
      "Epoch 7/100\n",
      "6090/6090 [==============================] - 9s 1ms/step - loss: 0.6951 - acc: 0.7115 - val_loss: 1.0127 - val_acc: 0.6356\n",
      "Epoch 8/100\n",
      "6090/6090 [==============================] - 9s 1ms/step - loss: 0.6643 - acc: 0.7207 - val_loss: 0.7579 - val_acc: 0.7249\n",
      "Epoch 9/100\n",
      "6090/6090 [==============================] - 9s 1ms/step - loss: 0.6476 - acc: 0.7292 - val_loss: 0.6588 - val_acc: 0.7663\n",
      "Epoch 10/100\n",
      "6090/6090 [==============================] - 9s 1ms/step - loss: 0.6078 - acc: 0.7504 - val_loss: 0.6981 - val_acc: 0.7748\n",
      "Epoch 11/100\n",
      "6090/6090 [==============================] - 9s 1ms/step - loss: 0.5991 - acc: 0.7525 - val_loss: 0.7393 - val_acc: 0.7177\n",
      "Epoch 12/100\n",
      "6090/6090 [==============================] - 8s 1ms/step - loss: 0.5838 - acc: 0.7665 - val_loss: 0.6511 - val_acc: 0.7380\n",
      "Epoch 13/100\n",
      "6090/6090 [==============================] - 8s 1ms/step - loss: 0.5785 - acc: 0.7731 - val_loss: 0.6901 - val_acc: 0.7525\n",
      "Epoch 14/100\n",
      "6090/6090 [==============================] - 8s 1ms/step - loss: 0.5426 - acc: 0.7897 - val_loss: 0.6836 - val_acc: 0.7630\n",
      "Epoch 15/100\n",
      "6090/6090 [==============================] - 8s 1ms/step - loss: 0.5323 - acc: 0.7885 - val_loss: 0.7262 - val_acc: 0.7131\n",
      "Epoch 16/100\n",
      "6090/6090 [==============================] - 9s 1ms/step - loss: 0.4965 - acc: 0.8020 - val_loss: 0.5818 - val_acc: 0.8011\n",
      "Epoch 17/100\n",
      "6090/6090 [==============================] - 8s 1ms/step - loss: 0.4963 - acc: 0.8046 - val_loss: 0.5865 - val_acc: 0.7787\n",
      "Epoch 18/100\n",
      "6090/6090 [==============================] - 9s 1ms/step - loss: 0.4831 - acc: 0.8172 - val_loss: 0.5298 - val_acc: 0.8109\n",
      "Epoch 19/100\n",
      "6090/6090 [==============================] - 9s 1ms/step - loss: 0.4817 - acc: 0.8161 - val_loss: 0.5576 - val_acc: 0.8011\n",
      "Epoch 20/100\n",
      "6090/6090 [==============================] - 8s 1ms/step - loss: 0.4509 - acc: 0.8282 - val_loss: 0.5674 - val_acc: 0.8030\n",
      "Epoch 21/100\n",
      "6090/6090 [==============================] - 8s 1ms/step - loss: 0.4392 - acc: 0.8282 - val_loss: 0.5550 - val_acc: 0.8076\n",
      "Epoch 22/100\n",
      "6090/6090 [==============================] - 8s 1ms/step - loss: 0.4160 - acc: 0.8346 - val_loss: 0.5283 - val_acc: 0.7997\n",
      "Epoch 23/100\n",
      "6090/6090 [==============================] - 8s 1ms/step - loss: 0.3971 - acc: 0.8471 - val_loss: 0.6030 - val_acc: 0.7807\n",
      "Epoch 24/100\n",
      "6090/6090 [==============================] - 8s 1ms/step - loss: 0.3857 - acc: 0.8524 - val_loss: 0.5062 - val_acc: 0.8109\n",
      "Epoch 25/100\n",
      "6090/6090 [==============================] - 8s 1ms/step - loss: 0.3737 - acc: 0.8530 - val_loss: 0.5096 - val_acc: 0.8207\n",
      "Epoch 26/100\n",
      "6090/6090 [==============================] - 8s 1ms/step - loss: 0.3496 - acc: 0.8652 - val_loss: 0.5106 - val_acc: 0.8142\n",
      "Epoch 27/100\n",
      "6090/6090 [==============================] - 8s 1ms/step - loss: 0.3432 - acc: 0.8650 - val_loss: 0.5029 - val_acc: 0.8096\n",
      "Epoch 28/100\n",
      "6090/6090 [==============================] - 9s 1ms/step - loss: 0.3435 - acc: 0.8677 - val_loss: 0.6500 - val_acc: 0.7177\n",
      "Epoch 29/100\n",
      "6090/6090 [==============================] - 8s 1ms/step - loss: 0.3125 - acc: 0.8831 - val_loss: 0.5418 - val_acc: 0.7899\n",
      "Epoch 30/100\n"
     ]
    },
    {
     "name": "stdout",
     "output_type": "stream",
     "text": [
      "6090/6090 [==============================] - 8s 1ms/step - loss: 0.3322 - acc: 0.8752 - val_loss: 0.5883 - val_acc: 0.7584\n",
      "Epoch 31/100\n",
      "6090/6090 [==============================] - 8s 1ms/step - loss: 0.2943 - acc: 0.8846 - val_loss: 0.4915 - val_acc: 0.8148\n",
      "Epoch 32/100\n",
      "6090/6090 [==============================] - 8s 1ms/step - loss: 0.2917 - acc: 0.8885 - val_loss: 0.5066 - val_acc: 0.8083\n",
      "Epoch 33/100\n",
      "6090/6090 [==============================] - 8s 1ms/step - loss: 0.2785 - acc: 0.8966 - val_loss: 0.5186 - val_acc: 0.8135\n",
      "Epoch 34/100\n",
      "6090/6090 [==============================] - 8s 1ms/step - loss: 0.2491 - acc: 0.9046 - val_loss: 0.6276 - val_acc: 0.7479\n",
      "Epoch 35/100\n",
      "6090/6090 [==============================] - 8s 1ms/step - loss: 0.2430 - acc: 0.9071 - val_loss: 0.5257 - val_acc: 0.8004\n",
      "Epoch 36/100\n",
      "6090/6090 [==============================] - 9s 1ms/step - loss: 0.2208 - acc: 0.9205 - val_loss: 0.5399 - val_acc: 0.8063\n",
      "Epoch 37/100\n",
      "6090/6090 [==============================] - 9s 1ms/step - loss: 0.2171 - acc: 0.9163 - val_loss: 0.5863 - val_acc: 0.7984\n",
      "Epoch 38/100\n",
      "6090/6090 [==============================] - 8s 1ms/step - loss: 0.2069 - acc: 0.9218 - val_loss: 0.5516 - val_acc: 0.7925\n",
      "Epoch 39/100\n",
      "6090/6090 [==============================] - 8s 1ms/step - loss: 0.2139 - acc: 0.9166 - val_loss: 0.5647 - val_acc: 0.8063\n",
      "Epoch 40/100\n",
      "6090/6090 [==============================] - 9s 1ms/step - loss: 0.1664 - acc: 0.9374 - val_loss: 0.5335 - val_acc: 0.8076\n",
      "Epoch 41/100\n",
      "6090/6090 [==============================] - 8s 1ms/step - loss: 0.1714 - acc: 0.9353 - val_loss: 0.6159 - val_acc: 0.7978\n",
      "Epoch 42/100\n",
      "6090/6090 [==============================] - 9s 1ms/step - loss: 0.1688 - acc: 0.9346 - val_loss: 0.5499 - val_acc: 0.7978\n",
      "Epoch 43/100\n",
      "6090/6090 [==============================] - 8s 1ms/step - loss: 0.1662 - acc: 0.9407 - val_loss: 0.5694 - val_acc: 0.8017\n",
      "Epoch 44/100\n",
      "6090/6090 [==============================] - 8s 1ms/step - loss: 0.1496 - acc: 0.9443 - val_loss: 0.5491 - val_acc: 0.7978\n",
      "Epoch 45/100\n",
      "6090/6090 [==============================] - 8s 1ms/step - loss: 0.1266 - acc: 0.9525 - val_loss: 0.6493 - val_acc: 0.7446\n",
      "Epoch 46/100\n",
      "6090/6090 [==============================] - 8s 1ms/step - loss: 0.1471 - acc: 0.9461 - val_loss: 0.5693 - val_acc: 0.8050\n",
      "Epoch 47/100\n",
      "6090/6090 [==============================] - 8s 1ms/step - loss: 0.1497 - acc: 0.9417 - val_loss: 0.5624 - val_acc: 0.8070\n",
      "Epoch 48/100\n",
      "6090/6090 [==============================] - 8s 1ms/step - loss: 0.1177 - acc: 0.9585 - val_loss: 0.5805 - val_acc: 0.8129\n",
      "Epoch 49/100\n",
      "6090/6090 [==============================] - 8s 1ms/step - loss: 0.1138 - acc: 0.9589 - val_loss: 0.6154 - val_acc: 0.8188\n",
      "Epoch 50/100\n",
      "6090/6090 [==============================] - 9s 1ms/step - loss: 0.1472 - acc: 0.9481 - val_loss: 0.6006 - val_acc: 0.8070\n",
      "Epoch 51/100\n",
      "6090/6090 [==============================] - 8s 1ms/step - loss: 0.1295 - acc: 0.9519 - val_loss: 0.5870 - val_acc: 0.7958\n"
     ]
    }
   ],
   "source": [
    "import numpy as np\n",
    "import pandas as pd\n",
    "from keras.layers import Dense, Flatten, Conv2D, Dropout, MaxPooling2D\n",
    "from keras.models import Sequential\n",
    "from keras.optimizers import Adam\n",
    "from keras.layers import BatchNormalization, Activation\n",
    "from keras.utils import np_utils\n",
    "import tensorflow as tf\n",
    "from keras.callbacks import EarlyStopping\n",
    "np.set_printoptions(suppress=True)\n",
    "\n",
    "data = np.load(\"/home/hsiehch/30s/2D_spect_img/data_RGB.npy\")\n",
    "labels = np.load('/home/hsiehch/30s/2D_spect_img/labels.npy')\n",
    "\n",
    "data = data / 255\n",
    "labels = np_utils.to_categorical(labels, 4)\n",
    "\n",
    "print(data.shape)\n",
    "print(labels.shape)\n",
    "\n",
    "#---------------------------------------\n",
    "\n",
    "from sklearn.model_selection import train_test_split\n",
    "X_train, X_test, y_train, y_test = train_test_split(data, labels)\n",
    "\n",
    "#---------------------------------------\n",
    "\n",
    "model = Sequential() \n",
    "model.add(Conv2D(filters = 64, kernel_size = 3, padding='same', data_format=\"channels_last\", input_shape = (data.shape[1], data.shape[2], 3)))\n",
    "model.add(BatchNormalization())\n",
    "model.add(Activation('relu'))\n",
    "model.add(Conv2D(filters = 64, kernel_size = 3, padding='same'))\n",
    "# model.add(BatchNormalization())\n",
    "model.add(Activation('relu'))\n",
    "model.add(MaxPooling2D(pool_size = (2,2)))\n",
    "\n",
    "model.add(Conv2D(filters = 64, kernel_size = 3, padding='same'))\n",
    "model.add(BatchNormalization())\n",
    "model.add(Activation('relu'))\n",
    "model.add(Conv2D(filters = 64, kernel_size = 3, padding='same'))\n",
    "# model.add(BatchNormalization())\n",
    "model.add(Activation('relu'))\n",
    "model.add(Dropout(0.3))\n",
    "model.add(MaxPooling2D(pool_size = (2,2)))\n",
    "\n",
    "model.add(Conv2D(filters = 64, kernel_size = 3, padding='same'))\n",
    "model.add(BatchNormalization())\n",
    "model.add(Activation('relu'))\n",
    "model.add(Conv2D(filters = 64, kernel_size = 3, padding='same'))\n",
    "# model.add(BatchNormalization())\n",
    "model.add(Activation('relu'))\n",
    "model.add(Dropout(0.3))\n",
    "model.add(MaxPooling2D(pool_size = (2,2)))\n",
    "\n",
    "model.add(Conv2D(filters = 64, kernel_size = 3, padding='same'))\n",
    "# model.add(BatchNormalization())\n",
    "model.add(Activation('relu'))\n",
    "model.add(Dropout(0.3))\n",
    "model.add(MaxPooling2D(pool_size = (2,2)))\n",
    "\n",
    "model.add(Flatten())\n",
    "model.add(Dense(160, activation = \"relu\"))\n",
    "model.add(Dropout(0.5))\n",
    "model.add(Dense(32, activation = \"relu\"))\n",
    "model.add(Dense(4, activation = \"softmax\"))\n",
    "\n",
    "print(model.summary())\n",
    "\n",
    "#---------------------------------------\n",
    "\n",
    "adam = Adam(lr=0.0005)\n",
    "model.compile(optimizer = adam, loss = \"categorical_crossentropy\", metrics=['accuracy'])\n",
    "batch_s = 80\n",
    "early_stop = EarlyStopping(patience=20)\n",
    "train_history = model.fit(x = X_train, \n",
    "                          y = y_train,\n",
    "                          epochs=100,\n",
    "                          validation_split=0.2,\n",
    "                          callbacks=[early_stop],\n",
    "                          batch_size=batch_s*1, \n",
    "                          verbose=1)\n",
    "\n",
    "\n",
    "import pylab as plt\n",
    "def history_display(hist, train, validation):\n",
    "    plt.plot(hist.history[train])\n",
    "    plt.plot(hist.history[validation])\n",
    "    plt.title('Train History')\n",
    "    plt.ylabel(train)\n",
    "    plt.xlabel('Epoch')\n",
    "    plt.legend(['train', 'validation'], loc='upper left')\n",
    "    plt.show\n",
    "    \n",
    "def show_plot(flag, hist):\n",
    "    if flag == 'acc':\n",
    "        history_display(hist, 'acc', 'val_acc')\n",
    "    elif flag == 'loss':\n",
    "        history_display(hist, 'loss', 'val_loss')\n",
    "    else:\n",
    "        print('Invalid!')"
   ]
  },
  {
   "cell_type": "code",
   "execution_count": 3,
   "metadata": {
    "ExecuteTime": {
     "end_time": "2018-10-10T03:53:30.285660Z",
     "start_time": "2018-10-10T03:53:30.024296Z"
    },
    "hide_input": true
   },
   "outputs": [
    {
     "data": {
      "image/png": "[encoded data removed]",
      "text/plain": [
       "<Figure size 432x288 with 1 Axes>"
      ]
     },
     "metadata": {},
     "output_type": "display_data"
    }
   ],
   "source": [
    "show_plot('acc', train_history)"
   ]
  },
  {
   "cell_type": "code",
   "execution_count": 4,
   "metadata": {
    "ExecuteTime": {
     "end_time": "2018-10-10T03:53:33.506985Z",
     "start_time": "2018-10-10T03:53:33.275107Z"
    },
    "hide_input": true
   },
   "outputs": [
    {
     "data": {
      "image/png": "[encoded data removed]",
      "text/plain": [
       "<Figure size 432x288 with 1 Axes>"
      ]
     },
     "metadata": {},
     "output_type": "display_data"
    }
   ],
   "source": [
    "show_plot('loss', train_history)"
   ]
  },
  {
   "cell_type": "raw",
   "metadata": {
    "ExecuteTime": {
     "end_time": "2018-10-10T04:05:57.777772Z",
     "start_time": "2018-10-10T04:05:57.749085Z"
    },
    "hide_input": true
   },
   "source": [
    "import itertools\n",
    "import pylab as plt\n",
    "def plot_confusion_matrix(cm, classes,\n",
    "                          normalize=False,\n",
    "                          title='Confusion matrix',\n",
    "                          cmap=plt.cm.Blues):\n",
    "    \"\"\"\n",
    "    This function prints and plots the confusion matrix.\n",
    "    Normalization can be applied by setting `normalize=True`.\n",
    "    \"\"\"\n",
    "#     if normalize:\n",
    "#         cm = cm.astype('float') / cm.sum(axis=1)[:, np.newaxis]\n",
    "#         print(\"Normalized confusion matrix\")\n",
    "#     else:\n",
    "#         print('Confusion matrix, without normalization')\n",
    "\n",
    "#     print(cm)\n",
    "\n",
    "    plt.imshow(cm, interpolation='nearest', cmap=cmap)\n",
    "    plt.title(title)\n",
    "    plt.colorbar()\n",
    "    tick_marks = np.arange(len(classes))\n",
    "    plt.xticks(tick_marks, classes, rotation=45)\n",
    "    plt.yticks(tick_marks, classes)\n",
    "\n",
    "    fmt = '.2f' if normalize else 'd'\n",
    "    thresh = cm.max() / 2.\n",
    "    for i, j in itertools.product(range(cm.shape[0]), range(cm.shape[1])):\n",
    "        plt.text(j, i, format(cm[i, j], fmt),\n",
    "                 horizontalalignment=\"center\",\n",
    "                 color=\"white\" if cm[i, j] > thresh else \"black\")\n",
    "\n",
    "    plt.ylabel('True label')\n",
    "    plt.xlabel('Predicted label')\n",
    "    plt.tight_layout()"
   ]
  },
  {
   "cell_type": "markdown",
   "metadata": {},
   "source": [
    "## 3. ACC & LOSS & Confusion Matrix using 5:2:3"
   ]
  },
  {
   "cell_type": "markdown",
   "metadata": {},
   "source": [
    "Using original spect"
   ]
  },
  {
   "cell_type": "code",
   "execution_count": 4,
   "metadata": {
    "ExecuteTime": {
     "end_time": "2018-10-07T09:39:20.383695Z",
     "start_time": "2018-10-07T09:39:18.909789Z"
    },
    "hide_input": true
   },
   "outputs": [
    {
     "name": "stdout",
     "output_type": "stream",
     "text": [
      "5078/5078 [==============================] - 1s 287us/step\n",
      "Loss: 0.483, Accuracy: 0.827\n"
     ]
    }
   ],
   "source": [
    "evaluation = model.evaluate(x = trainData, y = trainLabel)\n",
    "print('Loss: {:.3f}, Accuracy: {:.3f}'.format(evaluation[0], evaluation[1]))"
   ]
  },
  {
   "cell_type": "code",
   "execution_count": 5,
   "metadata": {
    "ExecuteTime": {
     "end_time": "2018-10-07T09:39:24.195399Z",
     "start_time": "2018-10-07T09:39:23.313081Z"
    },
    "hide_input": true
   },
   "outputs": [
    {
     "name": "stdout",
     "output_type": "stream",
     "text": [
      "3041/3041 [==============================] - 1s 287us/step\n",
      "Loss: 0.668, Accuracy: 0.749\n"
     ]
    }
   ],
   "source": [
    "evaluation = model.evaluate(x = testData, y = testLabel)\n",
    "print('Loss: {:.3f}, Accuracy: {:.3f}'.format(evaluation[0], evaluation[1]))"
   ]
  },
  {
   "cell_type": "code",
   "execution_count": 7,
   "metadata": {
    "ExecuteTime": {
     "end_time": "2018-10-07T09:40:08.580067Z",
     "start_time": "2018-10-07T09:39:58.831713Z"
    },
    "hide_input": true
   },
   "outputs": [
    {
     "data": {
      "image/png": "[encoded data removed]",
      "text/plain": [
       "<Figure size 432x288 with 2 Axes>"
      ]
     },
     "metadata": {},
     "output_type": "display_data"
    }
   ],
   "source": [
    "from sklearn.metrics import confusion_matrix\n",
    "\n",
    "test_prediction = model.predict_classes(testData, batch_size=1)\n",
    "cnf_matrix = confusion_matrix(testL, test_prediction)\n",
    "plot_confusion_matrix(cnf_matrix, classes=['AF','Noise','Normal','Other'],\n",
    "                      title='Confusion matrix')"
   ]
  },
  {
   "cell_type": "markdown",
   "metadata": {},
   "source": [
    "Using RGB spect"
   ]
  },
  {
   "cell_type": "code",
   "execution_count": 2,
   "metadata": {
    "ExecuteTime": {
     "end_time": "2018-10-10T04:05:04.855677Z",
     "start_time": "2018-10-10T04:05:00.207675Z"
    },
    "hide_input": true
   },
   "outputs": [
    {
     "name": "stdout",
     "output_type": "stream",
     "text": [
      "7613/7613 [==============================] - 5s 609us/step\n",
      "Loss: 0.203, Accuracy: 0.940\n"
     ]
    }
   ],
   "source": [
    "evaluation = model.evaluate(x = X_train, y = y_train)\n",
    "print('Loss: {:.3f}, Accuracy: {:.3f}'.format(evaluation[0], evaluation[1]))"
   ]
  },
  {
   "cell_type": "code",
   "execution_count": 3,
   "metadata": {
    "ExecuteTime": {
     "end_time": "2018-10-10T04:05:09.191493Z",
     "start_time": "2018-10-10T04:05:07.437867Z"
    },
    "hide_input": true
   },
   "outputs": [
    {
     "name": "stdout",
     "output_type": "stream",
     "text": [
      "2538/2538 [==============================] - 2s 688us/step\n",
      "Loss: 0.656, Accuracy: 0.787\n"
     ]
    }
   ],
   "source": [
    "evaluation = model.evaluate(x = X_test, y = y_test)\n",
    "print('Loss: {:.3f}, Accuracy: {:.3f}'.format(evaluation[0], evaluation[1]))"
   ]
  },
  {
   "cell_type": "code",
   "execution_count": 6,
   "metadata": {
    "ExecuteTime": {
     "end_time": "2018-10-10T04:06:18.741544Z",
     "start_time": "2018-10-10T04:06:08.672764Z"
    },
    "hide_input": false
   },
   "outputs": [
    {
     "data": {
      "image/png": "[encoded data removed]",
      "text/plain": [
       "<Figure size 432x288 with 2 Axes>"
      ]
     },
     "metadata": {},
     "output_type": "display_data"
    }
   ],
   "source": [
    "from sklearn.metrics import confusion_matrix\n",
    "\n",
    "test_prediction = model.predict_classes(X_test, batch_size=1)\n",
    "cnf_matrix = confusion_matrix(y_test.argmax(axis=1), test_prediction)\n",
    "plot_confusion_matrix(cnf_matrix, classes=['AF','Noise','Normal','Other'],\n",
    "                      title='Confusion matrix')"
   ]
  },
  {
   "cell_type": "markdown",
   "metadata": {},
   "source": [
    "## 4. ACC & LOSS & Confusion Matrix using 5-fold"
   ]
  },
  {
   "cell_type": "markdown",
   "metadata": {},
   "source": [
    "Using original spect"
   ]
  },
  {
   "cell_type": "code",
   "execution_count": 1,
   "metadata": {
    "ExecuteTime": {
     "end_time": "2018-10-07T15:29:53.592658Z",
     "start_time": "2018-10-07T14:49:28.067964Z"
    },
    "hide_input": true,
    "scrolled": false
   },
   "outputs": [
    {
     "name": "stderr",
     "output_type": "stream",
     "text": [
      "/usr/local/lib/python3.5/dist-packages/h5py/__init__.py:36: FutureWarning: Conversion of the second argument of issubdtype from `float` to `np.floating` is deprecated. In future, it will be treated as `np.float64 == np.dtype(float).type`.\n",
      "  from ._conv import register_converters as _register_converters\n",
      "Using TensorFlow backend.\n"
     ]
    },
    {
     "name": "stdout",
     "output_type": "stream",
     "text": [
      "1-Fold\n",
      "8120/8120 [==============================] - 2s 244us/step\n",
      "Training:\n",
      "Loss: 0.509, Accuracy: 0.828\n",
      "2031/2031 [==============================] - 1s 257us/step\n",
      "Testing:\n",
      "Loss: 0.615, Accuracy: 0.773\n",
      "F1-score:\n",
      "[0.54545455 0.46428571 0.88161994 0.6121673 ]\n",
      "2-Fold\n",
      "8121/8121 [==============================] - 2s 261us/step\n",
      "Training:\n",
      "Loss: 0.550, Accuracy: 0.781\n",
      "2030/2030 [==============================] - 1s 259us/step\n",
      "Testing:\n",
      "Loss: 0.668, Accuracy: 0.738\n",
      "F1-score:\n",
      "[0.19387755 0.44230769 0.85941043 0.57271095]\n",
      "3-Fold\n",
      "8121/8121 [==============================] - 2s 231us/step\n",
      "Training:\n",
      "Loss: 0.993, Accuracy: 0.589\n",
      "2030/2030 [==============================] - 0s 221us/step\n",
      "Testing:\n",
      "Loss: 0.989, Accuracy: 0.581\n"
     ]
    },
    {
     "name": "stderr",
     "output_type": "stream",
     "text": [
      "/home/hsiehch/.local/lib/python3.5/site-packages/sklearn/metrics/classification.py:1135: UndefinedMetricWarning: F-score is ill-defined and being set to 0.0 in labels with no predicted samples.\n",
      "  'precision', 'predicted', average, warn_for)\n"
     ]
    },
    {
     "name": "stdout",
     "output_type": "stream",
     "text": [
      "F1-score:\n",
      "[0.         0.         0.73480835 0.        ]\n",
      "4-Fold\n",
      "8121/8121 [==============================] - 2s 257us/step\n",
      "Training:\n",
      "Loss: 0.531, Accuracy: 0.795\n",
      "2030/2030 [==============================] - 0s 231us/step\n",
      "Testing:\n",
      "Loss: 0.661, Accuracy: 0.752\n",
      "F1-score:\n",
      "[0.4911032  0.47933884 0.85932139 0.58357488]\n",
      "5-Fold\n",
      "8121/8121 [==============================] - 2s 244us/step\n",
      "Training:\n",
      "Loss: 0.677, Accuracy: 0.718\n",
      "2030/2030 [==============================] - 0s 221us/step\n",
      "Testing:\n",
      "Loss: 0.729, Accuracy: 0.709\n",
      "F1-score:\n",
      "[0.08333333 0.37681159 0.84534589 0.49309665]\n"
     ]
    }
   ],
   "source": [
    "import numpy as np\n",
    "import pandas as pd\n",
    "import os\n",
    "from keras.models import Sequential\n",
    "from keras.layers import Dense, Flatten, Conv2D, MaxPooling2D, AveragePooling2D, Dropout\n",
    "from keras.layers import BatchNormalization, Activation\n",
    "from keras.utils import np_utils\n",
    "from keras.optimizers import Adam\n",
    "import tensorflow as tf\n",
    "from keras.callbacks import EarlyStopping\n",
    "from sklearn.utils import shuffle\n",
    "np.set_printoptions(suppress=True)\n",
    "\n",
    "trainD = np.load(\"/home/hsiehch/30s/2D_spect/train_data.npy\")\n",
    "trainL = np.load(\"/home/hsiehch/30s/train_label.npy\")\n",
    "validationD = np.load(\"/home/hsiehch/30s/2D_spect/validate_data.npy\")\n",
    "validationL = np.load(\"/home/hsiehch/30s/validation_label.npy\")\n",
    "testD = np.load(\"/home/hsiehch/30s/2D_spect/test_data.npy\")\n",
    "testL = np.load(\"/home/hsiehch/30s/test_label.npy\")\n",
    "\n",
    "trainD = np.append(trainD, validationD, axis=0)\n",
    "trainL = np.append(trainL, validationL, axis=0)\n",
    "trainD = np.append(trainD, testD, axis=0)\n",
    "trainL = np.append(trainL, testL, axis=0)\n",
    "\n",
    "trainData = trainD.reshape((trainD.shape[0], trainD.shape[1], trainD.shape[2], 1))\n",
    "trainLabel = np_utils.to_categorical(trainL, 4)\n",
    "# print('Train Data:', trainData.shape)\n",
    "# print('Train Label: ', trainLabel.shape)\n",
    "trainData, trainLabel = shuffle(trainData, trainLabel, random_state=0)\n",
    "\n",
    "#--------------------------------------------\n",
    "\n",
    "from sklearn.model_selection import KFold\n",
    "\n",
    "kf = KFold(n_splits=5, shuffle=True)\n",
    "# print(kf)\n",
    "\n",
    "#--------------------------------------------\n",
    "\n",
    "from sklearn.metrics import f1_score\n",
    "\n",
    "def create_model():\n",
    "    model = Sequential() \n",
    "    model.add(Conv2D(filters = 32, kernel_size = 3, data_format=\"channels_last\", input_shape = (trainData.shape[1], trainData.shape[2], 1)))\n",
    "    model.add(Activation('relu'))\n",
    "    model.add(Conv2D(filters = 32, kernel_size = 3, activation = \"relu\"))\n",
    "    model.add(MaxPooling2D(pool_size = (2,2)))\n",
    "\n",
    "    model.add(Conv2D(filters = 64, kernel_size = 3, activation = \"relu\"))\n",
    "    model.add(Conv2D(filters = 64, kernel_size = 3, activation = \"relu\"))\n",
    "    model.add(Dropout(0.3))\n",
    "    model.add(MaxPooling2D(pool_size = (2,2)))\n",
    "\n",
    "    model.add(Conv2D(filters = 64, kernel_size = 3, activation = \"relu\"))\n",
    "    model.add(Conv2D(filters = 64, kernel_size = 3, activation = \"relu\"))\n",
    "    model.add(Dropout(0.3))\n",
    "    model.add(MaxPooling2D(pool_size = (2,2)))\n",
    "\n",
    "    model.add(Conv2D(filters = 64, kernel_size = 3, activation = \"relu\"))\n",
    "    model.add(Dropout(0.3))\n",
    "    model.add(MaxPooling2D(pool_size = (2,2)))\n",
    "\n",
    "    model.add(Flatten())\n",
    "    model.add(Dense(160, activation = \"relu\"))\n",
    "    model.add(Dropout(0.5))\n",
    "    model.add(Dense(32, activation = \"relu\"))\n",
    "    model.add(Dense(4, activation = \"softmax\"))\n",
    "    \n",
    "    model.compile(optimizer = 'adam', loss = \"categorical_crossentropy\", metrics=['accuracy'])\n",
    "\n",
    "    return model\n",
    "\n",
    "fold = 1\n",
    "\n",
    "for train_index, test_index in kf.split(trainData):\n",
    "    \n",
    "    print('{}-Fold'.format(fold))\n",
    "    model = create_model()\n",
    "#     early_stop = EarlyStopping(patience=20)\n",
    "    history = model.fit(x = trainData[train_index],\n",
    "                        y = trainLabel[train_index],\n",
    "                        epochs=100,\n",
    "                        validation_data=(trainData[test_index], trainLabel[test_index]),\n",
    "#                         callbacks=[early_stop],\n",
    "                        batch_size=70, \n",
    "                        verbose=0)\n",
    "    \n",
    "    evaluation = model.evaluate(x = trainData[train_index], y = trainLabel[train_index])\n",
    "    print('Training:')\n",
    "    print('Loss: {:.3f}, Accuracy: {:.3f}'.format(evaluation[0], evaluation[1]))\n",
    "#     test_prediction = model.predict_classes(trainData[train_index], batch_size=1)\n",
    "#     cnf_matrix = confusion_matrix(trainLabel[train_index].argmax(axis=1), test_prediction)\n",
    "#     plot_confusion_matrix(cnf_matrix, classes=['AF','Noise','Normal','Other'],\n",
    "#                       title='Confusion matrix')\n",
    "    \n",
    "    evaluation = model.evaluate(x = trainData[test_index], y = trainLabel[test_index])\n",
    "    print('Testing:')\n",
    "    print('Loss: {:.3f}, Accuracy: {:.3f}'.format(evaluation[0], evaluation[1]))\n",
    "#     test_prediction = model.predict_classes(trainData[test_index], batch_size=1)\n",
    "#     cnf_matrix = confusion_matrix(trainLabel[test_index].argmax(axis=1), test_prediction)\n",
    "#     plot_confusion_matrix(cnf_matrix, classes=['AF','Noise','Normal','Other'],\n",
    "#                       title='Confusion matrix')\n",
    "    \n",
    "    validation_prediction = model.predict_classes(trainData[test_index], batch_size=100)\n",
    "    validation_prediction = np_utils.to_categorical(validation_prediction, 4)\n",
    "    result = f1_score(trainLabel[test_index], validation_prediction, average=None)\n",
    "    print('F1-score:')\n",
    "    print(result)\n",
    "    \n",
    "    fold = fold + 1\n",
    "    del model\n",
    "    "
   ]
  },
  {
   "cell_type": "markdown",
   "metadata": {},
   "source": [
    "Using RGB spect"
   ]
  },
  {
   "cell_type": "code",
   "execution_count": 1,
   "metadata": {
    "ExecuteTime": {
     "end_time": "2018-10-10T06:41:47.435914Z",
     "start_time": "2018-10-10T05:44:08.420372Z"
    },
    "hide_input": true
   },
   "outputs": [
    {
     "name": "stderr",
     "output_type": "stream",
     "text": [
      "/usr/local/lib/python3.5/dist-packages/h5py/__init__.py:36: FutureWarning: Conversion of the second argument of issubdtype from `float` to `np.floating` is deprecated. In future, it will be treated as `np.float64 == np.dtype(float).type`.\n",
      "  from ._conv import register_converters as _register_converters\n",
      "Using TensorFlow backend.\n"
     ]
    },
    {
     "name": "stdout",
     "output_type": "stream",
     "text": [
      "(10151, 59, 151, 3)\n",
      "(10151, 4)\n",
      "1-Fold\n",
      "8120/8120 [==============================] - 5s 579us/step\n",
      "Training:\n",
      "Loss: 0.197, Accuracy: 0.928\n",
      "2031/2031 [==============================] - 1s 611us/step\n",
      "Testing:\n",
      "Loss: 0.685, Accuracy: 0.771\n",
      "F1-score:\n",
      "[0.66504854 0.49612403 0.86519115 0.61969112]\n",
      "2-Fold\n",
      "8121/8121 [==============================] - 5s 610us/step\n",
      "Training:\n",
      "Loss: 0.238, Accuracy: 0.917\n",
      "2030/2030 [==============================] - 1s 628us/step\n",
      "Testing:\n",
      "Loss: 0.608, Accuracy: 0.785\n",
      "F1-score:\n",
      "[0.66480447 0.56976744 0.87340764 0.64636542]\n",
      "3-Fold\n",
      "8121/8121 [==============================] - 5s 610us/step\n",
      "Training:\n",
      "Loss: 0.250, Accuracy: 0.897\n",
      "2030/2030 [==============================] - 1s 583us/step\n",
      "Testing:\n",
      "Loss: 0.813, Accuracy: 0.769\n",
      "F1-score:\n",
      "[0.58483755 0.5511811  0.8553987  0.62608696]\n",
      "4-Fold\n",
      "8121/8121 [==============================] - 5s 580us/step\n",
      "Training:\n",
      "Loss: 0.303, Accuracy: 0.928\n",
      "2030/2030 [==============================] - 1s 574us/step\n",
      "Testing:\n",
      "Loss: 0.542, Accuracy: 0.792\n",
      "F1-score:\n",
      "[0.7037037  0.5        0.87025948 0.66666667]\n",
      "5-Fold\n",
      "8121/8121 [==============================] - 4s 542us/step\n",
      "Training:\n",
      "Loss: 0.184, Accuracy: 0.938\n",
      "2030/2030 [==============================] - 1s 539us/step\n",
      "Testing:\n",
      "Loss: 0.558, Accuracy: 0.808\n",
      "F1-score:\n",
      "[0.68947368 0.5046729  0.89104304 0.67002012]\n"
     ]
    }
   ],
   "source": [
    "import numpy as np\n",
    "import pandas as pd\n",
    "from keras.layers import Dense, Flatten, Conv2D, Dropout, MaxPooling2D\n",
    "from keras.models import Sequential\n",
    "from keras.optimizers import Adam\n",
    "from keras.layers import BatchNormalization, Activation\n",
    "from keras.utils import np_utils\n",
    "import tensorflow as tf\n",
    "from keras.callbacks import EarlyStopping\n",
    "np.set_printoptions(suppress=True)\n",
    "\n",
    "data = np.load(\"/home/hsiehch/30s/2D_spect_img/data_RGB.npy\")\n",
    "labels = np.load('/home/hsiehch/30s/2D_spect_img/labels.npy')\n",
    "\n",
    "data = data / 255\n",
    "labels = np_utils.to_categorical(labels, 4)\n",
    "\n",
    "print(data.shape)\n",
    "print(labels.shape)\n",
    "\n",
    "#--------------------------------------------\n",
    "\n",
    "from sklearn.model_selection import KFold\n",
    "\n",
    "kf = KFold(n_splits=5, shuffle=True)\n",
    "\n",
    "#--------------------------------------------\n",
    "\n",
    "from sklearn.metrics import f1_score\n",
    "\n",
    "def create_model():\n",
    "    model = Sequential() \n",
    "    model.add(Conv2D(filters = 64, kernel_size = 3, padding='same', data_format=\"channels_last\", input_shape = (data.shape[1], data.shape[2], 3)))\n",
    "    model.add(BatchNormalization())\n",
    "    model.add(Activation('relu'))\n",
    "    model.add(Conv2D(filters = 64, kernel_size = 3, padding='same'))\n",
    "    model.add(Activation('relu'))\n",
    "    model.add(MaxPooling2D(pool_size = (2,2)))\n",
    "\n",
    "    model.add(Conv2D(filters = 64, kernel_size = 3, padding='same'))\n",
    "    model.add(BatchNormalization())\n",
    "    model.add(Activation('relu'))\n",
    "    model.add(Conv2D(filters = 64, kernel_size = 3, padding='same'))\n",
    "    model.add(Activation('relu'))\n",
    "    model.add(Dropout(0.3))\n",
    "    model.add(MaxPooling2D(pool_size = (2,2)))\n",
    "\n",
    "    model.add(Conv2D(filters = 64, kernel_size = 3, padding='same'))\n",
    "    model.add(BatchNormalization())\n",
    "    model.add(Activation('relu'))\n",
    "    model.add(Conv2D(filters = 64, kernel_size = 3, padding='same'))\n",
    "    model.add(Activation('relu'))\n",
    "    model.add(Dropout(0.3))\n",
    "    model.add(MaxPooling2D(pool_size = (2,2)))\n",
    "\n",
    "    model.add(Conv2D(filters = 64, kernel_size = 3, padding='same'))\n",
    "    model.add(Activation('relu'))\n",
    "    model.add(Dropout(0.3))\n",
    "    model.add(MaxPooling2D(pool_size = (2,2)))\n",
    "\n",
    "    model.add(Flatten())\n",
    "    model.add(Dense(160, activation = \"relu\"))\n",
    "    model.add(Dropout(0.5))\n",
    "    model.add(Dense(32, activation = \"relu\"))\n",
    "    model.add(Dense(4, activation = \"softmax\"))\n",
    "    \n",
    "    adam = Adam(lr=0.0005)\n",
    "    model.compile(optimizer = adam, loss = \"categorical_crossentropy\", metrics=['accuracy'])\n",
    "\n",
    "    return model\n",
    "\n",
    "fold = 1\n",
    "\n",
    "for train_index, test_index in kf.split(data):\n",
    "    \n",
    "    print('{}-Fold'.format(fold))\n",
    "    model = create_model()\n",
    "    early_stop = EarlyStopping(patience=20)\n",
    "    history = model.fit(x = data[train_index],\n",
    "                        y = labels[train_index],\n",
    "                        epochs=100,\n",
    "                        validation_data=(data[test_index], labels[test_index]),\n",
    "                        callbacks=[early_stop],\n",
    "                        batch_size=70, \n",
    "                        verbose=0)\n",
    "    \n",
    "    evaluation = model.evaluate(x = data[train_index], y = labels[train_index])\n",
    "    print('Training:')\n",
    "    print('Loss: {:.3f}, Accuracy: {:.3f}'.format(evaluation[0], evaluation[1]))\n",
    "    \n",
    "    evaluation = model.evaluate(x = data[test_index], y = labels[test_index])\n",
    "    print('Testing:')\n",
    "    print('Loss: {:.3f}, Accuracy: {:.3f}'.format(evaluation[0], evaluation[1]))\n",
    "    \n",
    "    validation_prediction = model.predict_classes(data[test_index], batch_size=100)\n",
    "    validation_prediction = np_utils.to_categorical(validation_prediction, 4)\n",
    "    result = f1_score(labels[test_index], validation_prediction, average=None)\n",
    "    print('F1-score:')\n",
    "    print(result)\n",
    "    \n",
    "    fold = fold + 1\n",
    "    del model\n",
    "    "
   ]
  },
  {
   "cell_type": "markdown",
   "metadata": {},
   "source": [
    "## 5. Grid Search"
   ]
  },
  {
   "cell_type": "markdown",
   "metadata": {},
   "source": [
    "Using original spect"
   ]
  },
  {
   "cell_type": "markdown",
   "metadata": {},
   "source": [
    "* See Appendix 2 - lr & bs-2D-original_arr.ipynb"
   ]
  },
  {
   "cell_type": "markdown",
   "metadata": {},
   "source": [
    "Using RGB spect"
   ]
  },
  {
   "cell_type": "markdown",
   "metadata": {},
   "source": [
    "* See Appendix 2 - lr & bs-2D-RGB.ipynb"
   ]
  },
  {
   "cell_type": "markdown",
   "metadata": {},
   "source": [
    "## 6. F1-score"
   ]
  },
  {
   "cell_type": "markdown",
   "metadata": {},
   "source": [
    "Using original spect"
   ]
  },
  {
   "cell_type": "markdown",
   "metadata": {},
   "source": [
    "* See above\n",
    "* See Appendix 2 - f1 score-2D-original_arr.ipynb"
   ]
  },
  {
   "cell_type": "markdown",
   "metadata": {},
   "source": [
    "Using RGB spect"
   ]
  },
  {
   "cell_type": "markdown",
   "metadata": {},
   "source": [
    "* See above\n",
    "* See Appendix 2 - f1 score-2D-RGB.ipynb"
   ]
  }
 ],
 "metadata": {
  "kernelspec": {
   "display_name": "Python 3",
   "language": "python",
   "name": "python3"
  },
  "language_info": {
   "codemirror_mode": {
    "name": "ipython",
    "version": 3
   },
   "file_extension": ".py",
   "mimetype": "text/x-python",
   "name": "python",
   "nbconvert_exporter": "python",
   "pygments_lexer": "ipython3",
   "version": "3.5.2"
  }
 },
 "nbformat": 4,
 "nbformat_minor": 2
}
