{
 "cells": [
  {
   "cell_type": "markdown",
   "metadata": {},
   "source": [
    "## 30 Seconds"
   ]
  },
  {
   "cell_type": "code",
   "execution_count": 1,
   "metadata": {
    "ExecuteTime": {
     "end_time": "2018-09-29T15:00:59.027738Z",
     "start_time": "2018-09-29T15:00:49.057043Z"
    }
   },
   "outputs": [
    {
     "name": "stdout",
     "output_type": "stream",
     "text": [
      "(5078, 9000)\n",
      "TrainD finished!\n",
      "(2032, 9000)\n",
      "ValidateD finished!\n",
      "(3041, 9000)\n",
      "testData finished!\n"
     ]
    }
   ],
   "source": [
    "import numpy as np\n",
    "from scipy.signal import spectrogram\n",
    "import pylab as plt\n",
    "from sklearn.preprocessing import normalize\n",
    "\n",
    "def to_Spectrogram(data):\n",
    "    _ , _ , Sx = spectrogram(data, fs=300, nperseg=300, noverlap=150, scaling='spectrum', detrend=False, window='hanning')\n",
    "    Sx = np.log10(Sx)\n",
    "    tmp = np.transpose(Sx)\n",
    "    tmp = normalize(tmp)\n",
    "    return tmp\n",
    "\n",
    "\n",
    "trainD = np.load(\"/home/hsiehch/30s/train_data.npy\")\n",
    "validationD = np.load(\"/home/hsiehch/30s/validation_data.npy\")\n",
    "testD = np.load(\"/home/hsiehch/30s/test_data.npy\")\n",
    "\n",
    "\n",
    "print(trainD.shape)\n",
    "trainData = [to_Spectrogram(data) for data in trainD]\n",
    "trainData = np.asarray(trainData)\n",
    "print('TrainD finished!')\n",
    "\n",
    "print(validationD.shape)\n",
    "validationData = [to_Spectrogram(data) for data in validationD]\n",
    "validationData = np.asarray(validationData)\n",
    "print('ValidateD finished!')\n",
    "\n",
    "print(testD.shape)\n",
    "testData = [to_Spectrogram(data) for data in testD]\n",
    "testData = np.asarray(validationData)\n",
    "print('testData finished!')"
   ]
  },
  {
   "cell_type": "code",
   "execution_count": 4,
   "metadata": {
    "ExecuteTime": {
     "end_time": "2018-09-29T15:01:28.211730Z",
     "start_time": "2018-09-29T15:01:28.196614Z"
    }
   },
   "outputs": [
    {
     "data": {
      "text/plain": [
       "(2032, 59, 151)"
      ]
     },
     "execution_count": 4,
     "metadata": {},
     "output_type": "execute_result"
    }
   ],
   "source": [
    "testData.shape"
   ]
  },
  {
   "cell_type": "code",
   "execution_count": 2,
   "metadata": {
    "ExecuteTime": {
     "end_time": "2018-09-29T14:48:36.273565Z",
     "start_time": "2018-09-29T14:48:36.260591Z"
    }
   },
   "outputs": [
    {
     "data": {
      "text/plain": [
       "array([[-0.01374628, -0.01485853, -0.0218963 , ..., -0.09256703,\n",
       "        -0.08755209, -0.08982192],\n",
       "       [-0.04933405, -0.02344677, -0.02810613, ..., -0.10095904,\n",
       "        -0.09068592, -0.08844197],\n",
       "       [-0.02585168, -0.01992434, -0.02478334, ..., -0.10394462,\n",
       "        -0.10833385, -0.1032963 ],\n",
       "       ...,\n",
       "       [-0.03103503, -0.0271825 , -0.03764773, ..., -0.09442293,\n",
       "        -0.09368846, -0.09738212],\n",
       "       [-0.03779204, -0.02776949, -0.02285491, ..., -0.10198658,\n",
       "        -0.10665028, -0.11620187],\n",
       "       [-0.03607297, -0.02596847, -0.0289762 , ..., -0.0906738 ,\n",
       "        -0.09707627, -0.11498379]])"
      ]
     },
     "execution_count": 2,
     "metadata": {},
     "output_type": "execute_result"
    }
   ],
   "source": [
    "trainData[0]"
   ]
  },
  {
   "cell_type": "code",
   "execution_count": 4,
   "metadata": {
    "ExecuteTime": {
     "end_time": "2018-09-29T14:45:43.702473Z",
     "start_time": "2018-09-29T14:45:43.654265Z"
    },
    "scrolled": true
   },
   "outputs": [
    {
     "name": "stdout",
     "output_type": "stream",
     "text": [
      "[[ -1.25212117  -1.35343361  -1.99448995 ...  -8.43174382  -7.97494334\n",
      "   -8.18169685]\n",
      " [ -4.45267285  -2.11620138  -2.53673509 ...  -9.11211617  -8.18490905\n",
      "   -7.98238051]\n",
      " [ -2.37882682  -1.83340306  -2.28051963 ...  -9.56480392  -9.9686933\n",
      "   -9.50514665]\n",
      " ...\n",
      " [ -2.36135846  -2.06823127  -2.86449855 ...  -7.18434597  -7.12846222\n",
      "   -7.40950167]\n",
      " [ -3.2201035   -2.36612327  -1.94737259 ...  -8.689855    -9.08722904\n",
      "   -9.90108082]\n",
      " [ -3.21168923  -2.31205395  -2.57984222 ...  -8.07297283  -8.64300488\n",
      "  -10.23736743]]\n",
      "---------\n",
      "[[-0.01374628 -0.01485853 -0.0218963  ... -0.09256703 -0.08755209\n",
      "  -0.08982192]\n",
      " [-0.04933405 -0.02344677 -0.02810613 ... -0.10095904 -0.09068592\n",
      "  -0.08844197]\n",
      " [-0.02585168 -0.01992434 -0.02478334 ... -0.10394462 -0.10833385\n",
      "  -0.1032963 ]\n",
      " ...\n",
      " [-0.03103503 -0.0271825  -0.03764773 ... -0.09442293 -0.09368846\n",
      "  -0.09738212]\n",
      " [-0.03779204 -0.02776949 -0.02285491 ... -0.10198658 -0.10665028\n",
      "  -0.11620187]\n",
      " [-0.03607297 -0.02596847 -0.0289762  ... -0.0906738  -0.09707627\n",
      "  -0.11498379]]\n"
     ]
    }
   ],
   "source": [
    "np.set_printoptions(suppress=True)\n",
    "tdd = normalize(trainData[0])\n",
    "print(trainData[0])\n",
    "print('---------')\n",
    "print(tdd)"
   ]
  },
  {
   "cell_type": "code",
   "execution_count": 2,
   "metadata": {
    "ExecuteTime": {
     "end_time": "2018-09-29T15:01:02.925921Z",
     "start_time": "2018-09-29T15:01:01.446739Z"
    }
   },
   "outputs": [
    {
     "name": "stderr",
     "output_type": "stream",
     "text": [
      "/usr/local/lib/python3.5/dist-packages/h5py/__init__.py:36: FutureWarning: Conversion of the second argument of issubdtype from `float` to `np.floating` is deprecated. In future, it will be treated as `np.float64 == np.dtype(float).type`.\n",
      "  from ._conv import register_converters as _register_converters\n",
      "Using TensorFlow backend.\n"
     ]
    }
   ],
   "source": [
    "import numpy as np\n",
    "import pandas as pd\n",
    "from keras.layers import Dense, Flatten, Conv2D, Dropout, MaxPooling2D\n",
    "from keras.layers import BatchNormalization, Activation, Input, LSTM\n",
    "from keras.utils import np_utils\n",
    "import tensorflow as tf\n",
    "np.set_printoptions(suppress=True)\n",
    "\n",
    "# trainD = np.load(\"/home/hsiehch/30s/2D_spect/train_data.npy\")\n",
    "trainL = np.load(\"/home/hsiehch/30s/train_label.npy\")\n",
    "# validationD = np.load(\"/home/hsiehch/30s/2D_spect/validate_data.npy\")\n",
    "validationL = np.load(\"/home/hsiehch/30s/validation_label.npy\")\n",
    "# testD = np.load(\"/home/hsiehch/30s/2D_spect/test_data.npy\")\n",
    "testL = np.load(\"/home/hsiehch/30s/test_label.npy\")\n",
    "\n",
    "trainData = np.append(trainData, validationData, axis=0)\n",
    "trainL = np.append(trainL, validationL, axis=0)\n",
    "# trainD = np.append(trainD, testD, axis=0)\n",
    "# trainL = np.append(trainL, testL, axis=0)\n",
    "\n",
    "# trainData = trainData.reshape((trainData.shape[0], trainData.shape[1], trainData.shape[2], 1))\n",
    "trainLabel = np_utils.to_categorical(trainL, 4)\n",
    "# validationData = validationData.reshape((validationData.shape[0], validationData.shape[1], validationData.shape[2], 1))\n",
    "# validationLabel = np_utils.to_categorical(validationL, 4)\n",
    "# testData = testData.reshape((testData.shape[0], testData.shape[1], testData.shape[2], 1))\n",
    "testLabel = np_utils.to_categorical(testL, 4)"
   ]
  },
  {
   "cell_type": "code",
   "execution_count": 3,
   "metadata": {
    "ExecuteTime": {
     "end_time": "2018-09-29T15:01:04.113327Z",
     "start_time": "2018-09-29T15:01:04.102490Z"
    },
    "hide_input": false,
    "scrolled": true
   },
   "outputs": [
    {
     "name": "stdout",
     "output_type": "stream",
     "text": [
      "Train Data: (7110, 59, 151)\n",
      "Train Label:  (7110, 4)\n",
      "Test Data:  (2032, 59, 151)\n",
      "Test Label:  (3041, 4)\n"
     ]
    }
   ],
   "source": [
    "print('Train Data:', trainData.shape)\n",
    "print('Train Label: ', trainLabel.shape)\n",
    "# print('Vali Data: ', validationData.shape)\n",
    "# print('Vali Label: ', validationLabel.shape)\n",
    "print('Test Data: ', testData.shape)\n",
    "print('Test Label: ', testLabel.shape)"
   ]
  },
  {
   "cell_type": "code",
   "execution_count": 5,
   "metadata": {
    "ExecuteTime": {
     "end_time": "2018-09-28T03:24:33.760921Z",
     "start_time": "2018-09-28T03:24:33.752902Z"
    },
    "scrolled": true
   },
   "outputs": [
    {
     "data": {
      "text/plain": [
       "array([[[0.0000284 ],\n",
       "        [0.00040413],\n",
       "        [0.00017036],\n",
       "        ...,\n",
       "        [0.00079824],\n",
       "        [0.00081997],\n",
       "        [0.00137198]],\n",
       "\n",
       "       [[0.08163834],\n",
       "        [0.00655209],\n",
       "        [0.00328349],\n",
       "        ...,\n",
       "        [0.00621968],\n",
       "        [0.0051876 ],\n",
       "        [0.00328966]],\n",
       "\n",
       "       [[0.00418929],\n",
       "        [0.00134637],\n",
       "        [0.00036346],\n",
       "        ...,\n",
       "        [0.00434273],\n",
       "        [0.00513745],\n",
       "        [0.00102066]],\n",
       "\n",
       "       ...,\n",
       "\n",
       "       [[0.        ],\n",
       "        [0.        ],\n",
       "        [0.        ],\n",
       "        ...,\n",
       "        [0.        ],\n",
       "        [0.00000001],\n",
       "        [0.00000001]],\n",
       "\n",
       "       [[0.00000001],\n",
       "        [0.        ],\n",
       "        [0.        ],\n",
       "        ...,\n",
       "        [0.00000002],\n",
       "        [0.00000001],\n",
       "        [0.        ]],\n",
       "\n",
       "       [[0.00000001],\n",
       "        [0.        ],\n",
       "        [0.        ],\n",
       "        ...,\n",
       "        [0.00000001],\n",
       "        [0.        ],\n",
       "        [0.        ]]])"
      ]
     },
     "execution_count": 5,
     "metadata": {},
     "output_type": "execute_result"
    }
   ],
   "source": [
    "trainData[0]"
   ]
  },
  {
   "cell_type": "code",
   "execution_count": 4,
   "metadata": {
    "ExecuteTime": {
     "end_time": "2018-09-29T04:02:24.129071Z",
     "start_time": "2018-09-29T04:02:23.793975Z"
    },
    "code_folding": [
     19,
     28
    ],
    "scrolled": true
   },
   "outputs": [
    {
     "name": "stdout",
     "output_type": "stream",
     "text": [
      "_________________________________________________________________\n",
      "Layer (type)                 Output Shape              Param #   \n",
      "=================================================================\n",
      "input_1 (InputLayer)         (None, 59, 151, 1)        0         \n",
      "_________________________________________________________________\n",
      "block1_conv1 (Conv2D)        (None, 59, 151, 64)       640       \n",
      "_________________________________________________________________\n",
      "block1_conv2 (Conv2D)        (None, 59, 151, 64)       36928     \n",
      "_________________________________________________________________\n",
      "block1_pool (MaxPooling2D)   (None, 29, 75, 64)        0         \n",
      "_________________________________________________________________\n",
      "block2_conv1 (Conv2D)        (None, 29, 75, 128)       73856     \n",
      "_________________________________________________________________\n",
      "block2_conv2 (Conv2D)        (None, 29, 75, 128)       147584    \n",
      "_________________________________________________________________\n",
      "block2_pool (MaxPooling2D)   (None, 14, 37, 128)       0         \n",
      "_________________________________________________________________\n",
      "block3_conv1 (Conv2D)        (None, 14, 37, 256)       295168    \n",
      "_________________________________________________________________\n",
      "block3_conv2 (Conv2D)        (None, 14, 37, 256)       590080    \n",
      "_________________________________________________________________\n",
      "block3_conv3 (Conv2D)        (None, 14, 37, 256)       590080    \n",
      "_________________________________________________________________\n",
      "block3_pool (MaxPooling2D)   (None, 7, 18, 256)        0         \n",
      "_________________________________________________________________\n",
      "block4_conv1 (Conv2D)        (None, 7, 18, 512)        1180160   \n",
      "_________________________________________________________________\n",
      "block4_conv2 (Conv2D)        (None, 7, 18, 512)        2359808   \n",
      "_________________________________________________________________\n",
      "block4_conv3 (Conv2D)        (None, 7, 18, 512)        2359808   \n",
      "_________________________________________________________________\n",
      "block4_pool (MaxPooling2D)   (None, 3, 9, 512)         0         \n",
      "_________________________________________________________________\n",
      "conv2d_1 (Conv2D)            (None, 3, 9, 512)         2359808   \n",
      "_________________________________________________________________\n",
      "conv2d_2 (Conv2D)            (None, 3, 9, 512)         2359808   \n",
      "_________________________________________________________________\n",
      "conv2d_3 (Conv2D)            (None, 3, 9, 512)         2359808   \n",
      "_________________________________________________________________\n",
      "max_pooling2d_1 (MaxPooling2 (None, 1, 4, 512)         0         \n",
      "_________________________________________________________________\n",
      "flatten (Flatten)            (None, 2048)              0         \n",
      "_________________________________________________________________\n",
      "fc1 (Dense)                  (None, 1024)              2098176   \n",
      "_________________________________________________________________\n",
      "fc2 (Dense)                  (None, 512)               524800    \n",
      "_________________________________________________________________\n",
      "fc3 (Dense)                  (None, 256)               131328    \n",
      "_________________________________________________________________\n",
      "predictions (Dense)          (None, 4)                 1028      \n",
      "=================================================================\n",
      "Total params: 17,468,868\n",
      "Trainable params: 17,468,868\n",
      "Non-trainable params: 0\n",
      "_________________________________________________________________\n",
      "None\n"
     ]
    }
   ],
   "source": [
    "# from keras.applications.vgg16 import VGG16\n",
    "from keras.models import Model\n",
    "from keras.optimizers import Adam\n",
    "\n",
    "# model = VGG16(include_top=True, input_shape = (trainData.shape[1], trainData.shape[2], 1),  weights=None, classes=4)\n",
    "# x = base_model.output\n",
    "# predictions = Dense(1024, activation='relu')(x)\n",
    "# model = Model(inputs=base_model.input, outputs=predictions)\n",
    "\n",
    "img_input = Input(shape=(trainData.shape[1], trainData.shape[2], 1))\n",
    "# Block 1\n",
    "x = Conv2D(64, (3, 3),\n",
    "                  activation='relu',\n",
    "                  padding='same',\n",
    "                  name='block1_conv1')(img_input)\n",
    "x = Conv2D(64, (3, 3),\n",
    "                  activation='relu',\n",
    "                  padding='same',\n",
    "                  name='block1_conv2')(x)\n",
    "x = MaxPooling2D((2, 2), strides=(2, 2), name='block1_pool')(x)\n",
    "\n",
    "# Block 2\n",
    "x = Conv2D(128, (3, 3),\n",
    "                  activation='relu',\n",
    "                  padding='same',\n",
    "                  name='block2_conv1')(x)\n",
    "x = Conv2D(128, (3, 3),\n",
    "                  activation='relu',\n",
    "                  padding='same',\n",
    "                  name='block2_conv2')(x)\n",
    "x = MaxPooling2D((2, 2), strides=(2, 2), name='block2_pool')(x)\n",
    "\n",
    "# Block 3\n",
    "x = Conv2D(256, (3, 3),\n",
    "                  activation='relu',\n",
    "                  padding='same',\n",
    "                  name='block3_conv1')(x)\n",
    "x = Conv2D(256, (3, 3),\n",
    "                  activation='relu',\n",
    "                  padding='same',\n",
    "                  name='block3_conv2')(x)\n",
    "x = Conv2D(256, (3, 3),\n",
    "                  activation='relu',\n",
    "                  padding='same',\n",
    "                  name='block3_conv3')(x)\n",
    "x = MaxPooling2D((2, 2), strides=(2, 2), name='block3_pool')(x)\n",
    "\n",
    "# Block 4\n",
    "x = Conv2D(512, (3, 3),\n",
    "                  activation='relu',\n",
    "                  padding='same',\n",
    "                  name='block4_conv1')(x)\n",
    "x = Conv2D(512, (3, 3),\n",
    "                  activation='relu',\n",
    "                  padding='same',\n",
    "                  name='block4_conv2')(x)\n",
    "x = Conv2D(512, (3, 3),\n",
    "                  activation='relu',\n",
    "                  padding='same',\n",
    "                  name='block4_conv3')(x)\n",
    "x = MaxPooling2D((2, 2), strides=(2, 2), name='block4_pool')(x)\n",
    "\n",
    "x = Conv2D(512, (3, 3),\n",
    "                  activation='relu',\n",
    "                  padding='same',)(x)\n",
    "x = Conv2D(512, (3, 3),\n",
    "                  activation='relu',\n",
    "                  padding='same',)(x)\n",
    "x = Conv2D(512, (3, 3),\n",
    "                  activation='relu',\n",
    "                  padding='same',)(x)\n",
    "x = MaxPooling2D((2, 2), strides=(2, 2))(x)\n",
    "\n",
    "\n",
    "x = Flatten(name='flatten')(x)\n",
    "x = Dense(1024, activation='relu', name='fc1')(x)\n",
    "x = Dense(512, activation='relu', name='fc2')(x)\n",
    "x = Dense(256, activation='relu', name='fc3')(x)\n",
    "x = Dense(4, activation='softmax', name='predictions')(x)\n",
    "model = Model(img_input, x, name='vgg')\n",
    "\n",
    "adam = Adam(lr = 0.001 )\n",
    "print(model.summary())"
   ]
  },
  {
   "cell_type": "code",
   "execution_count": 4,
   "metadata": {
    "ExecuteTime": {
     "end_time": "2018-09-29T14:49:10.818698Z",
     "start_time": "2018-09-29T14:49:07.332862Z"
    },
    "scrolled": true
   },
   "outputs": [
    {
     "name": "stdout",
     "output_type": "stream",
     "text": [
      "_________________________________________________________________\n",
      "Layer (type)                 Output Shape              Param #   \n",
      "=================================================================\n",
      "lstm_1 (LSTM)                (None, 1024)              4816896   \n",
      "_________________________________________________________________\n",
      "dense_1 (Dense)              (None, 4)                 4100      \n",
      "=================================================================\n",
      "Total params: 4,820,996\n",
      "Trainable params: 4,820,996\n",
      "Non-trainable params: 0\n",
      "_________________________________________________________________\n",
      "None\n"
     ]
    }
   ],
   "source": [
    "from keras.models import Sequential\n",
    "from keras.optimizers import Adam\n",
    "model = Sequential()\n",
    "model.add(LSTM(1024, input_shape = (trainData.shape[1], trainData.shape[2])))\n",
    "# model.add(LSTM(100))\n",
    "# model.add(Dense(100))\n",
    "# model.add(Dense(50))\n",
    "model.add(Dense(4, activation=\"softmax\"))\n",
    "\n",
    "print(model.summary())"
   ]
  },
  {
   "cell_type": "code",
   "execution_count": 6,
   "metadata": {
    "ExecuteTime": {
     "end_time": "2018-09-29T14:53:20.478390Z",
     "start_time": "2018-09-29T14:51:35.177412Z"
    },
    "scrolled": true
   },
   "outputs": [
    {
     "name": "stdout",
     "output_type": "stream",
     "text": [
      "Train on 5078 samples, validate on 2032 samples\n",
      "Epoch 1/80\n",
      "5078/5078 [==============================] - 16s 3ms/step - loss: 0.9998 - acc: 0.5868 - val_loss: 0.9920 - val_acc: 0.5866\n",
      "Epoch 2/80\n",
      "5078/5078 [==============================] - 14s 3ms/step - loss: 0.9955 - acc: 0.5868 - val_loss: 0.9995 - val_acc: 0.5866\n",
      "Epoch 3/80\n",
      "5078/5078 [==============================] - 14s 3ms/step - loss: 0.9941 - acc: 0.5868 - val_loss: 0.9926 - val_acc: 0.5866\n",
      "Epoch 4/80\n",
      "5078/5078 [==============================] - 14s 3ms/step - loss: 0.9934 - acc: 0.5868 - val_loss: 0.9916 - val_acc: 0.5866\n",
      "Epoch 5/80\n",
      "5078/5078 [==============================] - 14s 3ms/step - loss: 0.9928 - acc: 0.5868 - val_loss: 1.0050 - val_acc: 0.5866\n",
      "Epoch 6/80\n",
      "5078/5078 [==============================] - 14s 3ms/step - loss: 0.9922 - acc: 0.5868 - val_loss: 0.9942 - val_acc: 0.5866\n",
      "Epoch 7/80\n",
      "5078/5078 [==============================] - 14s 3ms/step - loss: 0.9920 - acc: 0.5868 - val_loss: 0.9898 - val_acc: 0.5866\n",
      "Epoch 8/80\n",
      "1300/5078 [======>.......................] - ETA: 9s - loss: 1.0009 - acc: 0.5823"
     ]
    },
    {
     "ename": "KeyboardInterrupt",
     "evalue": "",
     "output_type": "error",
     "traceback": [
      "\u001b[0;31m---------------------------------------------------------------------------\u001b[0m",
      "\u001b[0;31mKeyboardInterrupt\u001b[0m                         Traceback (most recent call last)",
      "\u001b[0;32m<ipython-input-6-e73b1d72826a>\u001b[0m in \u001b[0;36m<module>\u001b[0;34m()\u001b[0m\n\u001b[1;32m      6\u001b[0m                           \u001b[0mvalidation_data\u001b[0m\u001b[0;34m=\u001b[0m\u001b[0;34m(\u001b[0m\u001b[0mvalidationData\u001b[0m\u001b[0;34m,\u001b[0m \u001b[0mvalidationLabel\u001b[0m\u001b[0;34m)\u001b[0m\u001b[0;34m,\u001b[0m\u001b[0;34m\u001b[0m\u001b[0m\n\u001b[1;32m      7\u001b[0m                           \u001b[0mbatch_size\u001b[0m\u001b[0;34m=\u001b[0m\u001b[0mbatch_s\u001b[0m\u001b[0;34m*\u001b[0m\u001b[0;36m1\u001b[0m\u001b[0;34m,\u001b[0m\u001b[0;34m\u001b[0m\u001b[0m\n\u001b[0;32m----> 8\u001b[0;31m                           verbose=1)\n\u001b[0m\u001b[1;32m      9\u001b[0m \u001b[0;34m\u001b[0m\u001b[0m\n\u001b[1;32m     10\u001b[0m \u001b[0mprint\u001b[0m\u001b[0;34m(\u001b[0m\u001b[0;34m'Finish training!'\u001b[0m\u001b[0;34m)\u001b[0m\u001b[0;34m\u001b[0m\u001b[0m\n",
      "\u001b[0;32m/usr/local/lib/python3.5/dist-packages/keras/engine/training.py\u001b[0m in \u001b[0;36mfit\u001b[0;34m(self, x, y, batch_size, epochs, verbose, callbacks, validation_split, validation_data, shuffle, class_weight, sample_weight, initial_epoch, steps_per_epoch, validation_steps, **kwargs)\u001b[0m\n\u001b[1;32m   1035\u001b[0m                                         \u001b[0minitial_epoch\u001b[0m\u001b[0;34m=\u001b[0m\u001b[0minitial_epoch\u001b[0m\u001b[0;34m,\u001b[0m\u001b[0;34m\u001b[0m\u001b[0m\n\u001b[1;32m   1036\u001b[0m                                         \u001b[0msteps_per_epoch\u001b[0m\u001b[0;34m=\u001b[0m\u001b[0msteps_per_epoch\u001b[0m\u001b[0;34m,\u001b[0m\u001b[0;34m\u001b[0m\u001b[0m\n\u001b[0;32m-> 1037\u001b[0;31m                                         validation_steps=validation_steps)\n\u001b[0m\u001b[1;32m   1038\u001b[0m \u001b[0;34m\u001b[0m\u001b[0m\n\u001b[1;32m   1039\u001b[0m     def evaluate(self, x=None, y=None,\n",
      "\u001b[0;32m/usr/local/lib/python3.5/dist-packages/keras/engine/training_arrays.py\u001b[0m in \u001b[0;36mfit_loop\u001b[0;34m(model, f, ins, out_labels, batch_size, epochs, verbose, callbacks, val_f, val_ins, shuffle, callback_metrics, initial_epoch, steps_per_epoch, validation_steps)\u001b[0m\n\u001b[1;32m    197\u001b[0m                     \u001b[0mins_batch\u001b[0m\u001b[0;34m[\u001b[0m\u001b[0mi\u001b[0m\u001b[0;34m]\u001b[0m \u001b[0;34m=\u001b[0m \u001b[0mins_batch\u001b[0m\u001b[0;34m[\u001b[0m\u001b[0mi\u001b[0m\u001b[0;34m]\u001b[0m\u001b[0;34m.\u001b[0m\u001b[0mtoarray\u001b[0m\u001b[0;34m(\u001b[0m\u001b[0;34m)\u001b[0m\u001b[0;34m\u001b[0m\u001b[0m\n\u001b[1;32m    198\u001b[0m \u001b[0;34m\u001b[0m\u001b[0m\n\u001b[0;32m--> 199\u001b[0;31m                 \u001b[0mouts\u001b[0m \u001b[0;34m=\u001b[0m \u001b[0mf\u001b[0m\u001b[0;34m(\u001b[0m\u001b[0mins_batch\u001b[0m\u001b[0;34m)\u001b[0m\u001b[0;34m\u001b[0m\u001b[0m\n\u001b[0m\u001b[1;32m    200\u001b[0m                 \u001b[0mouts\u001b[0m \u001b[0;34m=\u001b[0m \u001b[0mto_list\u001b[0m\u001b[0;34m(\u001b[0m\u001b[0mouts\u001b[0m\u001b[0;34m)\u001b[0m\u001b[0;34m\u001b[0m\u001b[0m\n\u001b[1;32m    201\u001b[0m                 \u001b[0;32mfor\u001b[0m \u001b[0ml\u001b[0m\u001b[0;34m,\u001b[0m \u001b[0mo\u001b[0m \u001b[0;32min\u001b[0m \u001b[0mzip\u001b[0m\u001b[0;34m(\u001b[0m\u001b[0mout_labels\u001b[0m\u001b[0;34m,\u001b[0m \u001b[0mouts\u001b[0m\u001b[0;34m)\u001b[0m\u001b[0;34m:\u001b[0m\u001b[0;34m\u001b[0m\u001b[0m\n",
      "\u001b[0;32m/usr/local/lib/python3.5/dist-packages/keras/backend/tensorflow_backend.py\u001b[0m in \u001b[0;36m__call__\u001b[0;34m(self, inputs)\u001b[0m\n\u001b[1;32m   2664\u001b[0m                 \u001b[0;32mreturn\u001b[0m \u001b[0mself\u001b[0m\u001b[0;34m.\u001b[0m\u001b[0m_legacy_call\u001b[0m\u001b[0;34m(\u001b[0m\u001b[0minputs\u001b[0m\u001b[0;34m)\u001b[0m\u001b[0;34m\u001b[0m\u001b[0m\n\u001b[1;32m   2665\u001b[0m \u001b[0;34m\u001b[0m\u001b[0m\n\u001b[0;32m-> 2666\u001b[0;31m             \u001b[0;32mreturn\u001b[0m \u001b[0mself\u001b[0m\u001b[0;34m.\u001b[0m\u001b[0m_call\u001b[0m\u001b[0;34m(\u001b[0m\u001b[0minputs\u001b[0m\u001b[0;34m)\u001b[0m\u001b[0;34m\u001b[0m\u001b[0m\n\u001b[0m\u001b[1;32m   2667\u001b[0m         \u001b[0;32melse\u001b[0m\u001b[0;34m:\u001b[0m\u001b[0;34m\u001b[0m\u001b[0m\n\u001b[1;32m   2668\u001b[0m             \u001b[0;32mif\u001b[0m \u001b[0mpy_any\u001b[0m\u001b[0;34m(\u001b[0m\u001b[0mis_tensor\u001b[0m\u001b[0;34m(\u001b[0m\u001b[0mx\u001b[0m\u001b[0;34m)\u001b[0m \u001b[0;32mfor\u001b[0m \u001b[0mx\u001b[0m \u001b[0;32min\u001b[0m \u001b[0minputs\u001b[0m\u001b[0;34m)\u001b[0m\u001b[0;34m:\u001b[0m\u001b[0;34m\u001b[0m\u001b[0m\n",
      "\u001b[0;32m/usr/local/lib/python3.5/dist-packages/keras/backend/tensorflow_backend.py\u001b[0m in \u001b[0;36m_call\u001b[0;34m(self, inputs)\u001b[0m\n\u001b[1;32m   2634\u001b[0m                                 \u001b[0msymbol_vals\u001b[0m\u001b[0;34m,\u001b[0m\u001b[0;34m\u001b[0m\u001b[0m\n\u001b[1;32m   2635\u001b[0m                                 session)\n\u001b[0;32m-> 2636\u001b[0;31m         \u001b[0mfetched\u001b[0m \u001b[0;34m=\u001b[0m \u001b[0mself\u001b[0m\u001b[0;34m.\u001b[0m\u001b[0m_callable_fn\u001b[0m\u001b[0;34m(\u001b[0m\u001b[0;34m*\u001b[0m\u001b[0marray_vals\u001b[0m\u001b[0;34m)\u001b[0m\u001b[0;34m\u001b[0m\u001b[0m\n\u001b[0m\u001b[1;32m   2637\u001b[0m         \u001b[0;32mreturn\u001b[0m \u001b[0mfetched\u001b[0m\u001b[0;34m[\u001b[0m\u001b[0;34m:\u001b[0m\u001b[0mlen\u001b[0m\u001b[0;34m(\u001b[0m\u001b[0mself\u001b[0m\u001b[0;34m.\u001b[0m\u001b[0moutputs\u001b[0m\u001b[0;34m)\u001b[0m\u001b[0;34m]\u001b[0m\u001b[0;34m\u001b[0m\u001b[0m\n\u001b[1;32m   2638\u001b[0m \u001b[0;34m\u001b[0m\u001b[0m\n",
      "\u001b[0;32m/usr/local/lib/python3.5/dist-packages/tensorflow/python/client/session.py\u001b[0m in \u001b[0;36m__call__\u001b[0;34m(self, *args, **kwargs)\u001b[0m\n\u001b[1;32m   1397\u001b[0m           ret = tf_session.TF_SessionRunCallable(\n\u001b[1;32m   1398\u001b[0m               \u001b[0mself\u001b[0m\u001b[0;34m.\u001b[0m\u001b[0m_session\u001b[0m\u001b[0;34m.\u001b[0m\u001b[0m_session\u001b[0m\u001b[0;34m,\u001b[0m \u001b[0mself\u001b[0m\u001b[0;34m.\u001b[0m\u001b[0m_handle\u001b[0m\u001b[0;34m,\u001b[0m \u001b[0margs\u001b[0m\u001b[0;34m,\u001b[0m \u001b[0mstatus\u001b[0m\u001b[0;34m,\u001b[0m\u001b[0;34m\u001b[0m\u001b[0m\n\u001b[0;32m-> 1399\u001b[0;31m               run_metadata_ptr)\n\u001b[0m\u001b[1;32m   1400\u001b[0m         \u001b[0;32mif\u001b[0m \u001b[0mrun_metadata\u001b[0m\u001b[0;34m:\u001b[0m\u001b[0;34m\u001b[0m\u001b[0m\n\u001b[1;32m   1401\u001b[0m           \u001b[0mproto_data\u001b[0m \u001b[0;34m=\u001b[0m \u001b[0mtf_session\u001b[0m\u001b[0;34m.\u001b[0m\u001b[0mTF_GetBuffer\u001b[0m\u001b[0;34m(\u001b[0m\u001b[0mrun_metadata_ptr\u001b[0m\u001b[0;34m)\u001b[0m\u001b[0;34m\u001b[0m\u001b[0m\n",
      "\u001b[0;31mKeyboardInterrupt\u001b[0m: "
     ]
    }
   ],
   "source": [
    "model.compile(optimizer = 'RMSprop', loss = \"categorical_crossentropy\", metrics=['accuracy'])\n",
    "batch_s = 50\n",
    "train_history = model.fit(x = trainData, \n",
    "                          y = trainLabel,\n",
    "                          epochs=80,\n",
    "                          validation_data=(validationData, validationLabel),\n",
    "                          batch_size=batch_s*1, \n",
    "                          verbose=1)\n",
    "\n",
    "print('Finish training!')\n",
    "\n",
    "import pylab as plt\n",
    "def history_display(hist, train, validation):\n",
    "    plt.plot(hist.history[train])\n",
    "    plt.plot(hist.history[validation])\n",
    "    plt.title('Train History')\n",
    "    plt.ylabel(train)\n",
    "    plt.xlabel('Epoch')\n",
    "    plt.legend(['train', 'validation'], loc='upper left')\n",
    "    plt.show\n",
    "    \n",
    "def show_plot(flag, hist):\n",
    "    if flag == 'acc':\n",
    "        history_display(hist, 'acc', 'val_acc')\n",
    "    elif flag == 'loss':\n",
    "        history_display(hist, 'loss', 'val_loss')\n",
    "    else:\n",
    "        print('Invalid!')"
   ]
  },
  {
   "cell_type": "code",
   "execution_count": null,
   "metadata": {
    "ExecuteTime": {
     "end_time": "2018-09-19T06:56:00.762422Z",
     "start_time": "2018-09-19T06:55:52.018Z"
    }
   },
   "outputs": [],
   "source": [
    "model.save('2D_model_30s.h5')\n",
    "print('Finished!')"
   ]
  },
  {
   "cell_type": "code",
   "execution_count": null,
   "metadata": {
    "ExecuteTime": {
     "end_time": "2018-09-19T06:56:00.763405Z",
     "start_time": "2018-09-19T06:55:52.020Z"
    }
   },
   "outputs": [],
   "source": [
    "del model\n",
    "print(\"Deleted!\")"
   ]
  },
  {
   "cell_type": "code",
   "execution_count": 14,
   "metadata": {
    "ExecuteTime": {
     "end_time": "2018-09-29T05:45:17.055403Z",
     "start_time": "2018-09-29T05:45:16.513191Z"
    }
   },
   "outputs": [
    {
     "data": {
      "image/png": "[encoded data removed]",
      "text/plain": [
       "<Figure size 432x288 with 1 Axes>"
      ]
     },
     "metadata": {},
     "output_type": "display_data"
    }
   ],
   "source": [
    "show_plot('acc', train_history)"
   ]
  },
  {
   "cell_type": "code",
   "execution_count": 15,
   "metadata": {
    "ExecuteTime": {
     "end_time": "2018-09-29T05:45:21.103797Z",
     "start_time": "2018-09-29T05:45:20.867940Z"
    }
   },
   "outputs": [
    {
     "data": {
      "image/png": "[encoded data removed]",
      "text/plain": [
       "<Figure size 432x288 with 1 Axes>"
      ]
     },
     "metadata": {},
     "output_type": "display_data"
    }
   ],
   "source": [
    "show_plot('loss', train_history)"
   ]
  }
 ],
 "metadata": {
  "kernelspec": {
   "display_name": "Python 3",
   "language": "python",
   "name": "python3"
  },
  "language_info": {
   "codemirror_mode": {
    "name": "ipython",
    "version": 3
   },
   "file_extension": ".py",
   "mimetype": "text/x-python",
   "name": "python",
   "nbconvert_exporter": "python",
   "pygments_lexer": "ipython3",
   "version": "3.5.2"
  }
 },
 "nbformat": 4,
 "nbformat_minor": 2
}
