{
 "cells": [
  {
   "cell_type": "code",
   "execution_count": 2,
   "metadata": {
    "ExecuteTime": {
     "end_time": "2018-10-12T02:35:58.675990Z",
     "start_time": "2018-10-12T02:35:23.525769Z"
    }
   },
   "outputs": [
    {
     "name": "stdout",
     "output_type": "stream",
     "text": [
      "A: 903\n",
      "~: 299\n",
      "O: 2990\n",
      "N: 5959\n",
      "split train data index:  [[0, 723, 723, 903], [903, 1143, 1143, 1202], [1202, 3595, 3595, 4192], [4192, 8960, 8960, 10151]]\n",
      "(8124, 9000)\n",
      "(8124,)\n",
      "(0,)\n",
      "(0,)\n",
      "(2027, 9000)\n",
      "(2027,)\n"
     ]
    }
   ],
   "source": [
    "import data_preprocessing as dp\n",
    "\n",
    "T_d, T_l, V_d, V_l, Te_d, Te_l = dp.makeData(30, 0.8, 0, 0.2).main()"
   ]
  },
  {
   "cell_type": "code",
   "execution_count": null,
   "metadata": {},
   "outputs": [],
   "source": [
    "np.save(\"/home/hsiehch/30s/train_test_split/data.npy\")"
   ]
  }
 ],
 "metadata": {
  "kernelspec": {
   "display_name": "Python 3",
   "language": "python",
   "name": "python3"
  },
  "language_info": {
   "codemirror_mode": {
    "name": "ipython",
    "version": 3
   },
   "file_extension": ".py",
   "mimetype": "text/x-python",
   "name": "python",
   "nbconvert_exporter": "python",
   "pygments_lexer": "ipython3",
   "version": "3.6.7"
  }
 },
 "nbformat": 4,
 "nbformat_minor": 2
}
