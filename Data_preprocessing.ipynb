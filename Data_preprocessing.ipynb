{
 "cells": [
  {
   "cell_type": "code",
   "execution_count": 1,
   "metadata": {
    "ExecuteTime": {
     "end_time": "2018-07-13T02:28:05.879334Z",
     "start_time": "2018-07-13T02:01:55.641613Z"
    },
    "scrolled": false
   },
   "outputs": [
    {
     "name": "stdout",
     "output_type": "stream",
     "text": [
      "(7186, 2700)\n",
      "ValidateD finished!\n"
     ]
    }
   ],
   "source": [
    "import numpy as np\n",
    "import pylab as plt\n",
    "from numba import jit\n",
    "\n",
    "@jit\n",
    "def to_Spectrogram(data):\n",
    "    tmp = plt.specgram(data, Fs =300, NFFT=75, noverlap=37, scale_by_freq = True, sides = 'default')\n",
    "    return tmp[0]\n",
    "\n",
    "\n",
    "def main():\n",
    "    \n",
    "#     trainD = np.load(\"/home/hsiehch/9s/train_data.npy\")\n",
    "    validationD = np.load(\"/home/hsiehch/9s/validation_data.npy\")\n",
    "#     testD = np.load(\"/home/hsiehch/9s/test_data.npy\")\n",
    "    \n",
    "    '''\n",
    "    print(trainD.shape)\n",
    "    trainData = [to_Spectrogram(data) for data in trainD]\n",
    "    trainData = np.asarray(trainData)\n",
    "    np.save('/home/hsiehch/9s/2D_spect/train_data.npy', trainData)\n",
    "    print('TrainD finished!')\n",
    "    '''\n",
    "    print(validationD.shape)\n",
    "    validationData = [to_Spectrogram(data) for data in validationD]\n",
    "    validationData = np.asarray(validationData)\n",
    "    np.save('/home/hsiehch/9s/2D_spect/validate_data.npy', validationData)\n",
    "    print('ValidateD finished!')\n",
    "    \n",
    "#     w = 0\n",
    "#     print(testD.shape)\n",
    "#     for data in testD:\n",
    "#         w += 1\n",
    "#         print(w)\n",
    "#         i = plt.specgram(data,Fs =300, NFFT=length, noverlap=overlap, scale_by_freq = True, sides = 'default')\n",
    "#         testData.append(i[0])\n",
    "    \n",
    "#     testData = np.asarray(testData)\n",
    "\n",
    "main()\n",
    "\n",
    "# np.save('/home/hsiehch/9s/2D_spect/test_data.npy', testData)"
   ]
  },
  {
   "cell_type": "code",
   "execution_count": null,
   "metadata": {},
   "outputs": [],
   "source": [
    "import pylab as plt\n",
    "trainD = np.load(\"/home/hsiehch/30s/2D_spect/train_data.npy\")\n",
    "data = trainD[5]\n"
   ]
  }
 ],
 "metadata": {
  "kernelspec": {
   "display_name": "Python 3",
   "language": "python",
   "name": "python3"
  },
  "language_info": {
   "codemirror_mode": {
    "name": "ipython",
    "version": 3
   },
   "file_extension": ".py",
   "mimetype": "text/x-python",
   "name": "python",
   "nbconvert_exporter": "python",
   "pygments_lexer": "ipython3",
   "version": "3.5.2"
  }
 },
 "nbformat": 4,
 "nbformat_minor": 2
}
