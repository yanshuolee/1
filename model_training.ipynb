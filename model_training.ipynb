{
 "cells": [
  {
   "cell_type": "markdown",
   "metadata": {
    "heading_collapsed": true
   },
   "source": [
    "## 9 seconds(non-overlapping)"
   ]
  },
  {
   "cell_type": "code",
   "execution_count": 1,
   "metadata": {
    "ExecuteTime": {
     "end_time": "2018-06-05T06:13:19.021041Z",
     "start_time": "2018-06-05T06:06:56.928489Z"
    },
    "code_folding": [
     66,
     75,
     83
    ],
    "hidden": true,
    "scrolled": true
   },
   "outputs": [
    {
     "name": "stderr",
     "output_type": "stream",
     "text": [
      "/usr/local/lib/python3.5/dist-packages/h5py/__init__.py:36: FutureWarning: Conversion of the second argument of issubdtype from `float` to `np.floating` is deprecated. In future, it will be treated as `np.float64 == np.dtype(float).type`.\n",
      "  from ._conv import register_converters as _register_converters\n",
      "Using TensorFlow backend.\n"
     ]
    },
    {
     "name": "stdout",
     "output_type": "stream",
     "text": [
      "Train Data: (28250, 2700, 1)\n",
      "Train Label:  (28250, 4)\n",
      "Vali Data:  (11301, 2700, 1)\n",
      "Vali Label:  (11301, 4)\n",
      "Test Data:  (16944, 2700, 1)\n",
      "Test Label:  (16944, 4)\n",
      "_________________________________________________________________\n",
      "Layer (type)                 Output Shape              Param #   \n",
      "=================================================================\n",
      "conv1d_1 (Conv1D)            (None, 1335, 16)          528       \n",
      "_________________________________________________________________\n",
      "conv1d_2 (Conv1D)            (None, 652, 32)           16416     \n",
      "_________________________________________________________________\n",
      "conv1d_3 (Conv1D)            (None, 311, 32)           32800     \n",
      "_________________________________________________________________\n",
      "conv1d_4 (Conv1D)            (None, 140, 32)           32800     \n",
      "_________________________________________________________________\n",
      "conv1d_5 (Conv1D)            (None, 55, 32)            32800     \n",
      "_________________________________________________________________\n",
      "conv1d_6 (Conv1D)            (None, 12, 32)            32800     \n",
      "_________________________________________________________________\n",
      "conv1d_7 (Conv1D)            (None, 4, 32)             5152      \n",
      "_________________________________________________________________\n",
      "flatten_1 (Flatten)          (None, 128)               0         \n",
      "_________________________________________________________________\n",
      "dense_1 (Dense)              (None, 32)                4128      \n",
      "_________________________________________________________________\n",
      "dense_2 (Dense)              (None, 4)                 132       \n",
      "=================================================================\n",
      "Total params: 157,556\n",
      "Trainable params: 157,556\n",
      "Non-trainable params: 0\n",
      "_________________________________________________________________\n",
      "None\n",
      "Train on 28250 samples, validate on 11301 samples\n",
      "Epoch 1/80\n",
      "28250/28250 [==============================] - 9s 308us/step - loss: 0.9666 - acc: 0.5904 - val_loss: 0.8856 - val_acc: 0.6396\n",
      "Epoch 2/80\n",
      "28250/28250 [==============================] - 5s 165us/step - loss: 0.7597 - acc: 0.6807 - val_loss: 0.7100 - val_acc: 0.7075\n",
      "Epoch 3/80\n",
      "28250/28250 [==============================] - 4s 158us/step - loss: 0.6300 - acc: 0.7491 - val_loss: 0.6353 - val_acc: 0.7505\n",
      "Epoch 4/80\n",
      "28250/28250 [==============================] - 5s 162us/step - loss: 0.5643 - acc: 0.7857 - val_loss: 0.6260 - val_acc: 0.7610\n",
      "Epoch 5/80\n",
      "28250/28250 [==============================] - 5s 167us/step - loss: 0.5186 - acc: 0.8058 - val_loss: 0.6056 - val_acc: 0.7682\n",
      "Epoch 6/80\n",
      "28250/28250 [==============================] - 5s 161us/step - loss: 0.4853 - acc: 0.8175 - val_loss: 0.5978 - val_acc: 0.7765\n",
      "Epoch 7/80\n",
      "28250/28250 [==============================] - 5s 168us/step - loss: 0.4555 - acc: 0.8296 - val_loss: 0.6313 - val_acc: 0.7616\n",
      "Epoch 8/80\n",
      "28250/28250 [==============================] - 5s 164us/step - loss: 0.4235 - acc: 0.8422 - val_loss: 0.6257 - val_acc: 0.7797\n",
      "Epoch 9/80\n",
      "28250/28250 [==============================] - 5s 164us/step - loss: 0.3940 - acc: 0.8537 - val_loss: 0.6673 - val_acc: 0.7498\n",
      "Epoch 10/80\n",
      "28250/28250 [==============================] - 5s 166us/step - loss: 0.3658 - acc: 0.8645 - val_loss: 0.7289 - val_acc: 0.7394\n",
      "Epoch 11/80\n",
      "28250/28250 [==============================] - 5s 162us/step - loss: 0.3278 - acc: 0.8776 - val_loss: 0.7275 - val_acc: 0.7476\n",
      "Epoch 12/80\n",
      "28250/28250 [==============================] - 5s 165us/step - loss: 0.2946 - acc: 0.8902 - val_loss: 0.7294 - val_acc: 0.7585\n",
      "Epoch 13/80\n",
      "28250/28250 [==============================] - 5s 167us/step - loss: 0.2564 - acc: 0.9038 - val_loss: 0.8189 - val_acc: 0.7539\n",
      "Epoch 14/80\n",
      "28250/28250 [==============================] - 5s 162us/step - loss: 0.2148 - acc: 0.9213 - val_loss: 0.8549 - val_acc: 0.7460\n",
      "Epoch 15/80\n",
      "28250/28250 [==============================] - 5s 161us/step - loss: 0.1837 - acc: 0.9308 - val_loss: 1.0841 - val_acc: 0.7439\n",
      "Epoch 16/80\n",
      "28250/28250 [==============================] - 5s 166us/step - loss: 0.1590 - acc: 0.9397 - val_loss: 1.0446 - val_acc: 0.7247\n",
      "Epoch 17/80\n",
      "28250/28250 [==============================] - 5s 160us/step - loss: 0.1405 - acc: 0.9476 - val_loss: 1.1754 - val_acc: 0.7505\n",
      "Epoch 18/80\n",
      "28250/28250 [==============================] - 5s 164us/step - loss: 0.1253 - acc: 0.9532 - val_loss: 1.2508 - val_acc: 0.7360\n",
      "Epoch 19/80\n",
      "28250/28250 [==============================] - 5s 163us/step - loss: 0.1003 - acc: 0.9626 - val_loss: 1.3458 - val_acc: 0.7225\n",
      "Epoch 20/80\n",
      "28250/28250 [==============================] - 5s 163us/step - loss: 0.0909 - acc: 0.9670 - val_loss: 1.4560 - val_acc: 0.7385\n",
      "Epoch 21/80\n",
      "28250/28250 [==============================] - 5s 165us/step - loss: 0.0805 - acc: 0.9704 - val_loss: 1.6114 - val_acc: 0.7187\n",
      "Epoch 22/80\n",
      "28250/28250 [==============================] - 5s 164us/step - loss: 0.0836 - acc: 0.9707 - val_loss: 1.6837 - val_acc: 0.7282\n",
      "Epoch 23/80\n",
      "28250/28250 [==============================] - 5s 167us/step - loss: 0.0594 - acc: 0.9793 - val_loss: 1.7354 - val_acc: 0.7091\n",
      "Epoch 24/80\n",
      "28250/28250 [==============================] - 5s 167us/step - loss: 0.0710 - acc: 0.9760 - val_loss: 1.6898 - val_acc: 0.7374\n",
      "Epoch 25/80\n",
      "28250/28250 [==============================] - 5s 161us/step - loss: 0.0614 - acc: 0.9791 - val_loss: 1.7614 - val_acc: 0.7287\n",
      "Epoch 26/80\n",
      "28250/28250 [==============================] - 5s 167us/step - loss: 0.0396 - acc: 0.9865 - val_loss: 1.9946 - val_acc: 0.7405\n",
      "Epoch 27/80\n",
      "28250/28250 [==============================] - 5s 164us/step - loss: 0.0606 - acc: 0.9799 - val_loss: 1.8590 - val_acc: 0.7419\n",
      "Epoch 28/80\n",
      "28250/28250 [==============================] - 5s 162us/step - loss: 0.0527 - acc: 0.9823 - val_loss: 1.8383 - val_acc: 0.7258\n",
      "Epoch 29/80\n",
      "28250/28250 [==============================] - 5s 167us/step - loss: 0.0467 - acc: 0.9835 - val_loss: 1.8311 - val_acc: 0.7249\n",
      "Epoch 30/80\n",
      "28250/28250 [==============================] - 5s 165us/step - loss: 0.0403 - acc: 0.9865 - val_loss: 1.9441 - val_acc: 0.7354\n",
      "Epoch 31/80\n",
      "28250/28250 [==============================] - 5s 165us/step - loss: 0.0479 - acc: 0.9833 - val_loss: 1.6519 - val_acc: 0.6942\n",
      "Epoch 32/80\n",
      "28250/28250 [==============================] - 5s 167us/step - loss: 0.0494 - acc: 0.9824 - val_loss: 2.0084 - val_acc: 0.7348\n",
      "Epoch 33/80\n",
      "28250/28250 [==============================] - 5s 163us/step - loss: 0.0407 - acc: 0.9866 - val_loss: 1.8647 - val_acc: 0.7294\n",
      "Epoch 34/80\n",
      "28250/28250 [==============================] - 5s 164us/step - loss: 0.0409 - acc: 0.9859 - val_loss: 2.0721 - val_acc: 0.7398\n",
      "Epoch 35/80\n",
      "28250/28250 [==============================] - 5s 165us/step - loss: 0.0421 - acc: 0.9856 - val_loss: 2.0621 - val_acc: 0.7398\n",
      "Epoch 36/80\n",
      "28250/28250 [==============================] - 5s 164us/step - loss: 0.0381 - acc: 0.9883 - val_loss: 2.0163 - val_acc: 0.7408\n",
      "Epoch 37/80\n",
      "28250/28250 [==============================] - 5s 166us/step - loss: 0.0304 - acc: 0.9899 - val_loss: 2.1247 - val_acc: 0.7199\n",
      "Epoch 38/80\n",
      "28250/28250 [==============================] - 5s 162us/step - loss: 0.0491 - acc: 0.9838 - val_loss: 1.9290 - val_acc: 0.7181\n",
      "Epoch 39/80\n",
      "28250/28250 [==============================] - 5s 162us/step - loss: 0.0442 - acc: 0.9849 - val_loss: 1.8568 - val_acc: 0.7380\n",
      "Epoch 40/80\n",
      "28250/28250 [==============================] - 5s 169us/step - loss: 0.0346 - acc: 0.9891 - val_loss: 1.9767 - val_acc: 0.7250\n",
      "Epoch 41/80\n",
      "28250/28250 [==============================] - 5s 164us/step - loss: 0.0358 - acc: 0.9880 - val_loss: 1.9170 - val_acc: 0.7344\n",
      "Epoch 42/80\n",
      "28250/28250 [==============================] - 5s 164us/step - loss: 0.0374 - acc: 0.9876 - val_loss: 2.0827 - val_acc: 0.7199\n",
      "Epoch 43/80\n",
      "28250/28250 [==============================] - 5s 168us/step - loss: 0.0569 - acc: 0.9824 - val_loss: 1.6045 - val_acc: 0.7151\n",
      "Epoch 44/80\n",
      "28250/28250 [==============================] - 5s 162us/step - loss: 0.0419 - acc: 0.9860 - val_loss: 2.0575 - val_acc: 0.7363\n",
      "Epoch 45/80\n",
      "28250/28250 [==============================] - 5s 165us/step - loss: 0.0120 - acc: 0.9959 - val_loss: 2.4128 - val_acc: 0.7332\n",
      "Epoch 46/80\n",
      "28250/28250 [==============================] - 5s 163us/step - loss: 0.0266 - acc: 0.9907 - val_loss: 2.3649 - val_acc: 0.7192\n",
      "Epoch 47/80\n",
      "28250/28250 [==============================] - 5s 164us/step - loss: 0.0472 - acc: 0.9856 - val_loss: 2.0204 - val_acc: 0.7226\n",
      "Epoch 48/80\n",
      "28250/28250 [==============================] - 5s 163us/step - loss: 0.0271 - acc: 0.9911 - val_loss: 2.2003 - val_acc: 0.7352\n",
      "Epoch 49/80\n",
      "28250/28250 [==============================] - 5s 161us/step - loss: 0.0370 - acc: 0.9874 - val_loss: 1.9895 - val_acc: 0.7329\n",
      "Epoch 50/80\n",
      "28250/28250 [==============================] - 5s 164us/step - loss: 0.0326 - acc: 0.9897 - val_loss: 2.0531 - val_acc: 0.7284\n",
      "Epoch 51/80\n",
      "28250/28250 [==============================] - 5s 170us/step - loss: 0.0340 - acc: 0.9885 - val_loss: 1.9650 - val_acc: 0.7292\n",
      "Epoch 52/80\n",
      "28250/28250 [==============================] - 5s 161us/step - loss: 0.0249 - acc: 0.9914 - val_loss: 2.2184 - val_acc: 0.7181\n",
      "Epoch 53/80\n",
      "28250/28250 [==============================] - 5s 167us/step - loss: 0.0321 - acc: 0.9902 - val_loss: 1.9945 - val_acc: 0.7215\n",
      "Epoch 54/80\n",
      "28250/28250 [==============================] - 5s 168us/step - loss: 0.0310 - acc: 0.9901 - val_loss: 2.0469 - val_acc: 0.7286\n",
      "Epoch 55/80\n",
      "28250/28250 [==============================] - 5s 165us/step - loss: 0.0379 - acc: 0.9881 - val_loss: 2.0224 - val_acc: 0.7255\n",
      "Epoch 56/80\n",
      "28250/28250 [==============================] - 5s 165us/step - loss: 0.0232 - acc: 0.9916 - val_loss: 2.2193 - val_acc: 0.7406\n",
      "Epoch 57/80\n",
      "28250/28250 [==============================] - 5s 162us/step - loss: 0.0386 - acc: 0.9870 - val_loss: 1.8641 - val_acc: 0.7337\n",
      "Epoch 58/80\n",
      "28250/28250 [==============================] - 5s 165us/step - loss: 0.0250 - acc: 0.9915 - val_loss: 2.1514 - val_acc: 0.7374\n",
      "Epoch 59/80\n",
      "28250/28250 [==============================] - 5s 166us/step - loss: 0.0185 - acc: 0.9936 - val_loss: 2.3917 - val_acc: 0.7185\n",
      "Epoch 60/80\n",
      "28250/28250 [==============================] - 5s 163us/step - loss: 0.0285 - acc: 0.9906 - val_loss: 2.3355 - val_acc: 0.7414\n",
      "Epoch 61/80\n",
      "28250/28250 [==============================] - 5s 167us/step - loss: 0.0263 - acc: 0.9913 - val_loss: 2.2629 - val_acc: 0.7295\n",
      "Epoch 62/80\n",
      "28250/28250 [==============================] - 5s 165us/step - loss: 0.0356 - acc: 0.9885 - val_loss: 2.2150 - val_acc: 0.7298\n",
      "Epoch 63/80\n",
      "28250/28250 [==============================] - 5s 160us/step - loss: 0.0248 - acc: 0.9916 - val_loss: 2.1737 - val_acc: 0.7099\n",
      "Epoch 64/80\n",
      "28250/28250 [==============================] - 5s 167us/step - loss: 0.0320 - acc: 0.9895 - val_loss: 2.1749 - val_acc: 0.7270\n",
      "Epoch 65/80\n",
      "28250/28250 [==============================] - 5s 165us/step - loss: 0.0234 - acc: 0.9925 - val_loss: 2.1788 - val_acc: 0.7344\n",
      "Epoch 66/80\n",
      "28250/28250 [==============================] - 5s 167us/step - loss: 0.0179 - acc: 0.9941 - val_loss: 2.3564 - val_acc: 0.7350\n",
      "Epoch 67/80\n",
      "28250/28250 [==============================] - 5s 162us/step - loss: 0.0431 - acc: 0.9862 - val_loss: 1.8028 - val_acc: 0.7352\n",
      "Epoch 68/80\n",
      "28250/28250 [==============================] - 5s 161us/step - loss: 0.0174 - acc: 0.9945 - val_loss: 2.3814 - val_acc: 0.7362\n",
      "Epoch 69/80\n",
      "28250/28250 [==============================] - 5s 163us/step - loss: 0.0188 - acc: 0.9937 - val_loss: 2.2911 - val_acc: 0.7331\n",
      "Epoch 70/80\n",
      "28250/28250 [==============================] - 5s 163us/step - loss: 0.0300 - acc: 0.9905 - val_loss: 2.3982 - val_acc: 0.7298\n",
      "Epoch 71/80\n",
      "28250/28250 [==============================] - 5s 162us/step - loss: 0.0321 - acc: 0.9897 - val_loss: 2.2753 - val_acc: 0.7354\n",
      "Epoch 72/80\n",
      "28250/28250 [==============================] - 5s 168us/step - loss: 0.0203 - acc: 0.9932 - val_loss: 2.2229 - val_acc: 0.7263\n",
      "Epoch 73/80\n",
      "28250/28250 [==============================] - 5s 161us/step - loss: 0.0176 - acc: 0.9942 - val_loss: 2.2468 - val_acc: 0.7232\n",
      "Epoch 74/80\n",
      "28250/28250 [==============================] - 5s 162us/step - loss: 0.0299 - acc: 0.9900 - val_loss: 1.9644 - val_acc: 0.7382\n",
      "Epoch 75/80\n",
      "28250/28250 [==============================] - 5s 167us/step - loss: 0.0193 - acc: 0.9938 - val_loss: 2.1346 - val_acc: 0.7219\n",
      "Epoch 76/80\n",
      "28250/28250 [==============================] - 5s 162us/step - loss: 0.0242 - acc: 0.9921 - val_loss: 2.3376 - val_acc: 0.7443\n",
      "Epoch 77/80\n",
      "28250/28250 [==============================] - 5s 166us/step - loss: 0.0253 - acc: 0.9920 - val_loss: 2.1930 - val_acc: 0.7432\n",
      "Epoch 78/80\n",
      "28250/28250 [==============================] - 5s 164us/step - loss: 0.0261 - acc: 0.9918 - val_loss: 2.2409 - val_acc: 0.7420\n",
      "Epoch 79/80\n",
      "28250/28250 [==============================] - 5s 160us/step - loss: 0.0181 - acc: 0.9940 - val_loss: 2.2775 - val_acc: 0.7327\n",
      "Epoch 80/80\n",
      "28250/28250 [==============================] - 5s 165us/step - loss: 0.0270 - acc: 0.9919 - val_loss: 2.2277 - val_acc: 0.7452\n",
      "16944/16944 [==============================] - 2s 123us/step\n",
      "Loss: 2.209, Accuracy: 0.738\n",
      "Finish training!\n"
     ]
    }
   ],
   "source": [
    "import numpy as np\n",
    "import wfdb as wf\n",
    "import pandas as pd\n",
    "import os\n",
    "from keras.models import Sequential\n",
    "from keras.layers import Dense, Flatten, Conv1D, MaxPooling1D, AveragePooling1D, Dropout\n",
    "from keras.layers import BatchNormalization, Activation\n",
    "from keras.utils import np_utils, multi_gpu_model\n",
    "import tensorflow as tf\n",
    "#from keras.callbacks import Tensorboard\n",
    "np.set_printoptions(suppress=True)\n",
    "\n",
    "trainD = np.load(\"/home/hsiehch/9s_overlapping/train_data.npy\")\n",
    "trainL = np.load(\"/home/hsiehch/9s_overlapping/train_label.npy\")\n",
    "validationD = np.load(\"/home/hsiehch/9s_overlapping/validation_data.npy\")\n",
    "validationL = np.load(\"/home/hsiehch/9s_overlapping/validation_label.npy\")\n",
    "testD = np.load(\"/home/hsiehch/9s_overlapping/test_data.npy\")\n",
    "testL = np.load(\"/home/hsiehch/9s_overlapping/test_label.npy\")\n",
    "\n",
    "trainData = trainD.reshape((trainD.shape[0], trainD.shape[1], 1))\n",
    "trainLabel = np_utils.to_categorical(trainL, 4)\n",
    "validationData = validationD.reshape((validationD.shape[0], validationD.shape[1], 1))\n",
    "validationLabel = np_utils.to_categorical(validationL, 4)\n",
    "testData = testD.reshape((testD.shape[0], testD.shape[1], 1))\n",
    "testLabel = np_utils.to_categorical(testL, 4)\n",
    "print('Train Data:', trainData.shape)\n",
    "print('Train Label: ', trainLabel.shape)\n",
    "print('Vali Data: ', validationData.shape)\n",
    "print('Vali Label: ', validationLabel.shape)\n",
    "print('Test Data: ', testData.shape)\n",
    "print('Test Label: ', testLabel.shape)\n",
    "\n",
    "with tf.device('/cpu:0'):\n",
    "    model = Sequential() \n",
    "    model.add(Conv1D(filters = 16, kernel_size = 32, strides=2, input_shape = (trainData.shape[1], 1), activation = \"relu\"))   \n",
    "    model.add(Conv1D(filters = 32, kernel_size = 32, strides=2, activation = \"relu\"))\n",
    "    model.add(Conv1D(filters = 32, kernel_size = 32, strides=2, activation = \"relu\"))\n",
    "    model.add(Conv1D(filters = 32, kernel_size = 32, strides=2, activation = \"relu\"))\n",
    "    model.add(Conv1D(filters = 32, kernel_size = 32, strides=2, activation = \"relu\"))\n",
    "    model.add(Conv1D(filters = 32, kernel_size = 32, strides=2, activation = \"relu\"))\n",
    "    model.add(Conv1D(filters = 32, kernel_size = 5, strides=2, activation = \"relu\"))\n",
    "    model.add(Flatten())\n",
    "    model.add(Dense(32, activation = \"relu\"))\n",
    "    model.add(Dense(4, activation = \"softmax\"))\n",
    "    \n",
    "print(model.summary())\n",
    "\n",
    "\n",
    "parallel_model = multi_gpu_model(model, gpus=2)\n",
    "parallel_model.compile(optimizer ='Adam', loss = \"categorical_crossentropy\", metrics=['accuracy'])\n",
    "batch_s = 50\n",
    "train_history_1 = parallel_model.fit(x = trainData, \n",
    "                          y = trainLabel,\n",
    "                          epochs=80,\n",
    "                          validation_data=(validationData, validationLabel),\n",
    "                          batch_size=batch_s*2, \n",
    "                          verbose=1)\n",
    "evaluation = parallel_model.evaluate(x = testData, y = testLabel)\n",
    "print('Loss: {:.3f}, Accuracy: {:.3f}'.format(evaluation[0], evaluation[1]))\n",
    "del model\n",
    "\n",
    "print('Finish training!')\n",
    "\n",
    "import pylab as plt\n",
    "def history_display(hist, train, validation):\n",
    "    plt.plot(hist.history[train])\n",
    "    plt.plot(hist.history[validation])\n",
    "    plt.title('Train History')\n",
    "    plt.ylabel(train)\n",
    "    plt.xlabel('Epoch')\n",
    "    plt.legend(['train', 'validation'], loc='upper left')\n",
    "    plt.show\n",
    "    \n",
    "def show_plot(flag, hist):\n",
    "    if flag == 'acc':\n",
    "        history_display(hist, 'acc', 'val_acc')\n",
    "    elif flag == 'loss':\n",
    "        history_display(hist, 'loss', 'val_loss')\n",
    "    else:\n",
    "        print('Invalid!')\n",
    "\n",
    "def layer_to_visualize(layer):\n",
    "    inputs = [K.learning_phase()] + model.inputs\n",
    "\n",
    "    _convout1_f = K.function(inputs, [layer.output])\n",
    "    def convout1_f(X):\n",
    "        # The [0] is to disable the training phase flag\n",
    "        return _convout1_f([0] + [X])\n",
    "\n",
    "    convolutions = convout1_f(img_to_visualize)\n",
    "    convolutions = np.squeeze(convolutions)\n",
    "\n",
    "    print ('Shape of conv:', convolutions.shape)\n",
    "\n",
    "    n = convolutions.shape[0]\n",
    "    n = int(np.ceil(np.sqrt(n)))\n",
    "\n",
    "    # Visualization of each filter of the layer\n",
    "    fig = plt.figure(figsize=(12,8))\n",
    "    for i in range(len(convolutions)):\n",
    "        ax = fig.add_subplot(n,n,i+1)\n",
    "        ax.imshow(convolutions[i], cmap='gray')"
   ]
  },
  {
   "cell_type": "code",
   "execution_count": 2,
   "metadata": {
    "ExecuteTime": {
     "end_time": "2018-06-05T06:21:01.551454Z",
     "start_time": "2018-06-05T06:21:01.287044Z"
    },
    "hidden": true
   },
   "outputs": [
    {
     "data": {
      "image/png": "[encoded data removed]",
      "text/plain": [
       "<Figure size 432x288 with 1 Axes>"
      ]
     },
     "metadata": {},
     "output_type": "display_data"
    }
   ],
   "source": [
    "show_plot('acc', train_history_1)"
   ]
  },
  {
   "cell_type": "code",
   "execution_count": 3,
   "metadata": {
    "ExecuteTime": {
     "end_time": "2018-06-05T06:21:07.400854Z",
     "start_time": "2018-06-05T06:21:07.216389Z"
    },
    "hidden": true
   },
   "outputs": [
    {
     "data": {
      "image/png": "[encoded data removed]",
      "text/plain": [
       "<Figure size 432x288 with 1 Axes>"
      ]
     },
     "metadata": {},
     "output_type": "display_data"
    }
   ],
   "source": [
    "show_plot('loss', train_history_1)"
   ]
  },
  {
   "cell_type": "code",
   "execution_count": 5,
   "metadata": {
    "ExecuteTime": {
     "end_time": "2018-06-05T06:21:49.189574Z",
     "start_time": "2018-06-05T06:21:49.175432Z"
    },
    "hidden": true
   },
   "outputs": [
    {
     "ename": "NameError",
     "evalue": "name 'convolution' is not defined",
     "output_type": "error",
     "traceback": [
      "\u001b[0;31m---------------------------------------------------------------------------\u001b[0m",
      "\u001b[0;31mNameError\u001b[0m                                 Traceback (most recent call last)",
      "\u001b[0;32m<ipython-input-5-3390f34e74ba>\u001b[0m in \u001b[0;36m<module>\u001b[0;34m()\u001b[0m\n\u001b[0;32m----> 1\u001b[0;31m \u001b[0mlayer_to_visualize\u001b[0m\u001b[0;34m(\u001b[0m\u001b[0mconvolution\u001b[0m \u001b[0;34m)\u001b[0m\u001b[0;34m\u001b[0m\u001b[0m\n\u001b[0m",
      "\u001b[0;31mNameError\u001b[0m: name 'convolution' is not defined"
     ]
    }
   ],
   "source": [
    "layer_to_visualize(convolution )"
   ]
  },
  {
   "cell_type": "code",
   "execution_count": 3,
   "metadata": {
    "ExecuteTime": {
     "end_time": "2018-05-25T07:59:23.515081Z",
     "start_time": "2018-05-25T07:59:23.311747Z"
    },
    "hidden": true
   },
   "outputs": [
    {
     "data": {
      "image/png": "[encoded data removed]",
      "text/plain": [
       "<Figure size 432x288 with 1 Axes>"
      ]
     },
     "metadata": {},
     "output_type": "display_data"
    }
   ],
   "source": [
    "show_plot('loss', train_history_2)"
   ]
  },
  {
   "cell_type": "markdown",
   "metadata": {
    "heading_collapsed": true
   },
   "source": [
    "## 9 seconds(overlapping)"
   ]
  },
  {
   "cell_type": "code",
   "execution_count": null,
   "metadata": {
    "hidden": true,
    "scrolled": true
   },
   "outputs": [
    {
     "name": "stderr",
     "output_type": "stream",
     "text": [
      "/usr/local/lib/python3.5/dist-packages/h5py/__init__.py:36: FutureWarning: Conversion of the second argument of issubdtype from `float` to `np.floating` is deprecated. In future, it will be treated as `np.float64 == np.dtype(float).type`.\n",
      "  from ._conv import register_converters as _register_converters\n",
      "Using TensorFlow backend.\n"
     ]
    },
    {
     "name": "stdout",
     "output_type": "stream",
     "text": [
      "A: 5003\n",
      "~: 1356\n",
      "O: 16983\n",
      "N: 33153\n",
      "split train data index:  [[0, 2502, 3503, 5003], [5003, 5682, 5954, 6359], [6359, 14851, 18248, 23342], [23342, 39919, 46550, 56495]]\n",
      "(28250, 2700)\n",
      "(28250,)\n",
      "(11301, 2700)\n",
      "(11301,)\n",
      "(16944, 2700)\n",
      "(16944,)\n",
      "_________________________________________________________________\n",
      "Layer (type)                 Output Shape              Param #   \n",
      "=================================================================\n",
      "conv1d_1 (Conv1D)            (None, 2698, 512)         2048      \n",
      "_________________________________________________________________\n",
      "max_pooling1d_1 (MaxPooling1 (None, 26, 512)           0         \n",
      "_________________________________________________________________\n",
      "flatten_1 (Flatten)          (None, 13312)             0         \n",
      "_________________________________________________________________\n",
      "dense_1 (Dense)              (None, 4)                 53252     \n",
      "=================================================================\n",
      "Total params: 55,300\n",
      "Trainable params: 55,300\n",
      "Non-trainable params: 0\n",
      "_________________________________________________________________\n",
      "None\n",
      "Train on 22600 samples, validate on 5650 samples\n",
      "Epoch 1/10\n"
     ]
    }
   ],
   "source": [
    "import numpy as np\n",
    "import wfdb as wf\n",
    "import pandas as pd\n",
    "from keras.models import Sequential\n",
    "from keras.layers import Dense, Dropout, Flatten, Conv1D, MaxPooling1D\n",
    "from keras.utils import np_utils\n",
    "np.set_printoptions(suppress=True)\n",
    "\n",
    "import data_preprocessing as dp\n",
    "tmp = dp.makeData(9, 0.5, 0.2, 0.3, overlap_dot=1350)\n",
    "trainD, trainL, v_D, v_L, testD, testL = tmp.main()\n",
    "\n",
    "trainData = trainD.reshape((trainD.shape[0], trainD.shape[1], 1))\n",
    "trainLabel = np_utils.to_categorical(trainL, 4)\n",
    "testData = testD.reshape((testD.shape[0], testD.shape[1], 1))\n",
    "testLabel = np_utils.to_categorical(testL, 4)\n",
    "\n",
    "\n",
    "model = Sequential() \n",
    "model.add(Conv1D(filters = 512, kernel_size = 3, input_shape = (trainData.shape[1], 1), activation = \"relu\"))\n",
    "model.add(MaxPooling1D(pool_size = 100))\n",
    "model.add(Flatten())\n",
    "model.add(Dense(4, activation = \"softmax\"))\n",
    "print(model.summary())\n",
    "\n",
    "model.compile(optimizer ='adam', loss = \"categorical_crossentropy\", metrics=['accuracy'])\n",
    "train_history = model.fit(x = trainData, y = trainLabel, epochs=10, validation_split=0.2, batch_size=100, verbose=2)\n",
    "\n",
    "print('Finish training!')\n",
    "\n",
    "\n",
    "import pylab as plt\n",
    "\n",
    "def history_display(train_history, train, validation):\n",
    "    plt.plot(train_history.history[train])\n",
    "    plt.plot(train_history.history[validation])\n",
    "    plt.title('Train History')\n",
    "    plt.ylabel(train)\n",
    "    plt.xlabel('Epoch')\n",
    "    plt.legend(['train', 'validation'], loc='upper left')\n",
    "    plt.show\n",
    "    \n",
    "def show_plot(flag):\n",
    "    if flag == 'acc':\n",
    "        history_display(train_history, 'acc', 'val_acc')\n",
    "    elif flag == 'loss':\n",
    "        history_display(train_history, 'loss', 'val_loss')\n",
    "    else:\n",
    "        print('Invalid!')\n",
    "     "
   ]
  },
  {
   "cell_type": "code",
   "execution_count": 2,
   "metadata": {
    "hidden": true
   },
   "outputs": [
    {
     "data": {
      "image/png": "[encoded data removed]",
      "text/plain": [
       "<Figure size 432x288 with 1 Axes>"
      ]
     },
     "metadata": {},
     "output_type": "display_data"
    }
   ],
   "source": [
    "show_plot('acc')"
   ]
  },
  {
   "cell_type": "code",
   "execution_count": 3,
   "metadata": {
    "hidden": true
   },
   "outputs": [
    {
     "data": {
      "image/png": "[encoded data removed]",
      "text/plain": [
       "<Figure size 432x288 with 1 Axes>"
      ]
     },
     "metadata": {},
     "output_type": "display_data"
    }
   ],
   "source": [
    "show_plot('loss')"
   ]
  },
  {
   "cell_type": "markdown",
   "metadata": {},
   "source": [
    "## 30 seconds"
   ]
  },
  {
   "cell_type": "code",
   "execution_count": 1,
   "metadata": {
    "ExecuteTime": {
     "end_time": "2018-06-06T02:55:33.294528Z",
     "start_time": "2018-06-06T02:50:24.798753Z"
    },
    "scrolled": true
   },
   "outputs": [
    {
     "name": "stderr",
     "output_type": "stream",
     "text": [
      "/usr/local/lib/python3.5/dist-packages/h5py/__init__.py:36: FutureWarning: Conversion of the second argument of issubdtype from `float` to `np.floating` is deprecated. In future, it will be treated as `np.float64 == np.dtype(float).type`.\n",
      "  from ._conv import register_converters as _register_converters\n",
      "Using TensorFlow backend.\n"
     ]
    },
    {
     "name": "stdout",
     "output_type": "stream",
     "text": [
      "Train Data: (5078, 9000, 1)\n",
      "Train Label:  (5078, 4)\n",
      "Vali Data:  (2032, 9000, 1)\n",
      "Vali Label:  (2032, 4)\n",
      "Test Data:  (3041, 9000, 1)\n",
      "Test Label:  (3041, 4)\n",
      "Good to go!\n",
      "_________________________________________________________________\n",
      "Layer (type)                 Output Shape              Param #   \n",
      "=================================================================\n",
      "conv1d_1 (Conv1D)            (None, 8994, 32)          256       \n",
      "_________________________________________________________________\n",
      "max_pooling1d_1 (MaxPooling1 (None, 4497, 32)          0         \n",
      "_________________________________________________________________\n",
      "conv1d_2 (Conv1D)            (None, 4491, 32)          7200      \n",
      "_________________________________________________________________\n",
      "max_pooling1d_2 (MaxPooling1 (None, 2245, 32)          0         \n",
      "_________________________________________________________________\n",
      "conv1d_3 (Conv1D)            (None, 2239, 64)          14400     \n",
      "_________________________________________________________________\n",
      "max_pooling1d_3 (MaxPooling1 (None, 1119, 64)          0         \n",
      "_________________________________________________________________\n",
      "conv1d_4 (Conv1D)            (None, 1117, 64)          12352     \n",
      "_________________________________________________________________\n",
      "max_pooling1d_4 (MaxPooling1 (None, 558, 64)           0         \n",
      "_________________________________________________________________\n",
      "dropout_1 (Dropout)          (None, 558, 64)           0         \n",
      "_________________________________________________________________\n",
      "conv1d_5 (Conv1D)            (None, 556, 128)          24704     \n",
      "_________________________________________________________________\n",
      "max_pooling1d_5 (MaxPooling1 (None, 278, 128)          0         \n",
      "_________________________________________________________________\n",
      "conv1d_6 (Conv1D)            (None, 276, 128)          49280     \n",
      "_________________________________________________________________\n",
      "max_pooling1d_6 (MaxPooling1 (None, 138, 128)          0         \n",
      "_________________________________________________________________\n",
      "dropout_2 (Dropout)          (None, 138, 128)          0         \n",
      "_________________________________________________________________\n",
      "conv1d_7 (Conv1D)            (None, 136, 256)          98560     \n",
      "_________________________________________________________________\n",
      "max_pooling1d_7 (MaxPooling1 (None, 68, 256)           0         \n",
      "_________________________________________________________________\n",
      "conv1d_8 (Conv1D)            (None, 66, 256)           196864    \n",
      "_________________________________________________________________\n",
      "max_pooling1d_8 (MaxPooling1 (None, 33, 256)           0         \n",
      "_________________________________________________________________\n",
      "dropout_3 (Dropout)          (None, 33, 256)           0         \n",
      "_________________________________________________________________\n",
      "conv1d_9 (Conv1D)            (None, 31, 512)           393728    \n",
      "_________________________________________________________________\n",
      "max_pooling1d_9 (MaxPooling1 (None, 15, 512)           0         \n",
      "_________________________________________________________________\n",
      "dropout_4 (Dropout)          (None, 15, 512)           0         \n",
      "_________________________________________________________________\n",
      "conv1d_10 (Conv1D)           (None, 13, 512)           786944    \n",
      "_________________________________________________________________\n",
      "flatten_1 (Flatten)          (None, 6656)              0         \n",
      "_________________________________________________________________\n",
      "dense_1 (Dense)              (None, 128)               852096    \n",
      "_________________________________________________________________\n",
      "dropout_5 (Dropout)          (None, 128)               0         \n",
      "_________________________________________________________________\n",
      "dense_2 (Dense)              (None, 32)                4128      \n",
      "_________________________________________________________________\n",
      "dense_3 (Dense)              (None, 4)                 132       \n",
      "=================================================================\n",
      "Total params: 2,440,644\n",
      "Trainable params: 2,440,644\n",
      "Non-trainable params: 0\n",
      "_________________________________________________________________\n",
      "None\n",
      "Train on 5078 samples, validate on 2032 samples\n",
      "Epoch 1/100\n",
      "5078/5078 [==============================] - 6s 1ms/step - loss: 1.0796 - acc: 0.5544 - val_loss: 0.9985 - val_acc: 0.5866\n",
      "Epoch 2/100\n",
      "5078/5078 [==============================] - 3s 579us/step - loss: 0.9726 - acc: 0.5837 - val_loss: 0.9292 - val_acc: 0.5866\n",
      "Epoch 3/100\n",
      "5078/5078 [==============================] - 3s 586us/step - loss: 0.9153 - acc: 0.5947 - val_loss: 0.8896 - val_acc: 0.6309\n",
      "Epoch 4/100\n",
      "5078/5078 [==============================] - 3s 564us/step - loss: 0.8705 - acc: 0.6442 - val_loss: 0.8398 - val_acc: 0.6309\n",
      "Epoch 5/100\n",
      "5078/5078 [==============================] - 3s 571us/step - loss: 0.7839 - acc: 0.6780 - val_loss: 0.7281 - val_acc: 0.6767\n",
      "Epoch 6/100\n",
      "5078/5078 [==============================] - 3s 568us/step - loss: 0.7371 - acc: 0.6936 - val_loss: 0.7157 - val_acc: 0.6909\n",
      "Epoch 7/100\n",
      "5078/5078 [==============================] - 3s 609us/step - loss: 0.6852 - acc: 0.7162 - val_loss: 0.6471 - val_acc: 0.7333\n",
      "Epoch 8/100\n",
      "5078/5078 [==============================] - 3s 598us/step - loss: 0.6558 - acc: 0.7351 - val_loss: 0.6784 - val_acc: 0.7249\n",
      "Epoch 9/100\n",
      "5078/5078 [==============================] - 3s 590us/step - loss: 0.6272 - acc: 0.7485 - val_loss: 0.6138 - val_acc: 0.7520\n",
      "Epoch 10/100\n",
      "5078/5078 [==============================] - 3s 588us/step - loss: 0.6121 - acc: 0.7617 - val_loss: 0.6000 - val_acc: 0.7500\n",
      "Epoch 11/100\n",
      "5078/5078 [==============================] - 3s 591us/step - loss: 0.5963 - acc: 0.7592 - val_loss: 0.6161 - val_acc: 0.7559\n",
      "Epoch 12/100\n",
      "5078/5078 [==============================] - 3s 594us/step - loss: 0.5785 - acc: 0.7769 - val_loss: 0.6007 - val_acc: 0.7510\n",
      "Epoch 13/100\n",
      "5078/5078 [==============================] - 3s 593us/step - loss: 0.5619 - acc: 0.7802 - val_loss: 0.6229 - val_acc: 0.7608\n",
      "Epoch 14/100\n",
      "5078/5078 [==============================] - 3s 579us/step - loss: 0.5818 - acc: 0.7820 - val_loss: 0.5960 - val_acc: 0.7549\n",
      "Epoch 15/100\n",
      "5078/5078 [==============================] - 3s 582us/step - loss: 0.5485 - acc: 0.7960 - val_loss: 0.5960 - val_acc: 0.7613\n",
      "Epoch 16/100\n",
      "5078/5078 [==============================] - 3s 596us/step - loss: 0.5584 - acc: 0.7885 - val_loss: 0.5556 - val_acc: 0.7672\n",
      "Epoch 17/100\n",
      "5078/5078 [==============================] - 3s 569us/step - loss: 0.5224 - acc: 0.8003 - val_loss: 0.5596 - val_acc: 0.7761\n",
      "Epoch 18/100\n",
      "5078/5078 [==============================] - 3s 588us/step - loss: 0.5162 - acc: 0.8060 - val_loss: 0.5752 - val_acc: 0.7776\n",
      "Epoch 19/100\n",
      "5078/5078 [==============================] - 3s 595us/step - loss: 0.5214 - acc: 0.8056 - val_loss: 0.5744 - val_acc: 0.7776\n",
      "Epoch 20/100\n",
      "5078/5078 [==============================] - 3s 600us/step - loss: 0.5036 - acc: 0.8113 - val_loss: 0.5602 - val_acc: 0.7835\n",
      "Epoch 21/100\n",
      "5078/5078 [==============================] - 3s 572us/step - loss: 0.4796 - acc: 0.8188 - val_loss: 0.5541 - val_acc: 0.7815\n",
      "Epoch 22/100\n",
      "5078/5078 [==============================] - 3s 586us/step - loss: 0.4714 - acc: 0.8259 - val_loss: 0.5310 - val_acc: 0.8022\n",
      "Epoch 23/100\n",
      "5078/5078 [==============================] - 3s 596us/step - loss: 0.4862 - acc: 0.8224 - val_loss: 0.5299 - val_acc: 0.7968\n",
      "Epoch 24/100\n",
      "5078/5078 [==============================] - 3s 573us/step - loss: 0.4571 - acc: 0.8346 - val_loss: 0.5855 - val_acc: 0.7820\n",
      "Epoch 25/100\n",
      "5078/5078 [==============================] - 3s 599us/step - loss: 0.4667 - acc: 0.8271 - val_loss: 0.5633 - val_acc: 0.7869\n",
      "Epoch 26/100\n",
      "5078/5078 [==============================] - 3s 580us/step - loss: 0.4595 - acc: 0.8301 - val_loss: 0.5463 - val_acc: 0.7953\n",
      "Epoch 27/100\n",
      "5078/5078 [==============================] - 3s 590us/step - loss: 0.4498 - acc: 0.8308 - val_loss: 0.5296 - val_acc: 0.8017\n",
      "Epoch 28/100\n",
      "5078/5078 [==============================] - 3s 599us/step - loss: 0.4319 - acc: 0.8411 - val_loss: 0.5451 - val_acc: 0.7958\n",
      "Epoch 29/100\n"
     ]
    },
    {
     "name": "stdout",
     "output_type": "stream",
     "text": [
      "5078/5078 [==============================] - 3s 595us/step - loss: 0.4441 - acc: 0.8385 - val_loss: 0.5297 - val_acc: 0.7963\n",
      "Epoch 30/100\n",
      "5078/5078 [==============================] - 3s 582us/step - loss: 0.4301 - acc: 0.8383 - val_loss: 0.5342 - val_acc: 0.7972\n",
      "Epoch 31/100\n",
      "5078/5078 [==============================] - 3s 596us/step - loss: 0.4233 - acc: 0.8444 - val_loss: 0.5424 - val_acc: 0.7992\n",
      "Epoch 32/100\n",
      "5078/5078 [==============================] - 3s 581us/step - loss: 0.4004 - acc: 0.8590 - val_loss: 0.5673 - val_acc: 0.7992\n",
      "Epoch 33/100\n",
      "5078/5078 [==============================] - 3s 573us/step - loss: 0.4211 - acc: 0.8458 - val_loss: 0.5440 - val_acc: 0.8036\n",
      "Epoch 34/100\n",
      "5078/5078 [==============================] - 3s 605us/step - loss: 0.4155 - acc: 0.8472 - val_loss: 0.6078 - val_acc: 0.7928\n",
      "Epoch 35/100\n",
      "5078/5078 [==============================] - 3s 578us/step - loss: 0.4000 - acc: 0.8553 - val_loss: 0.5564 - val_acc: 0.8081\n",
      "Epoch 36/100\n",
      "5078/5078 [==============================] - 3s 566us/step - loss: 0.3899 - acc: 0.8590 - val_loss: 0.5975 - val_acc: 0.8012\n",
      "Epoch 37/100\n",
      "5078/5078 [==============================] - 3s 575us/step - loss: 0.3791 - acc: 0.8584 - val_loss: 0.5683 - val_acc: 0.8125\n",
      "Epoch 38/100\n",
      "5078/5078 [==============================] - 3s 605us/step - loss: 0.3843 - acc: 0.8566 - val_loss: 0.5567 - val_acc: 0.8017\n",
      "Epoch 39/100\n",
      "5078/5078 [==============================] - 3s 564us/step - loss: 0.3886 - acc: 0.8553 - val_loss: 0.5660 - val_acc: 0.8056\n",
      "Epoch 40/100\n",
      "5078/5078 [==============================] - 3s 605us/step - loss: 0.3715 - acc: 0.8677 - val_loss: 0.5541 - val_acc: 0.8115\n",
      "Epoch 41/100\n",
      "5078/5078 [==============================] - 3s 596us/step - loss: 0.3603 - acc: 0.8704 - val_loss: 0.5605 - val_acc: 0.8130\n",
      "Epoch 42/100\n",
      "5078/5078 [==============================] - 3s 584us/step - loss: 0.3664 - acc: 0.8637 - val_loss: 0.5683 - val_acc: 0.8130\n",
      "Epoch 43/100\n",
      "5078/5078 [==============================] - 3s 587us/step - loss: 0.3611 - acc: 0.8627 - val_loss: 0.5436 - val_acc: 0.8155\n",
      "Epoch 44/100\n",
      "5078/5078 [==============================] - 3s 597us/step - loss: 0.3581 - acc: 0.8653 - val_loss: 0.6126 - val_acc: 0.8100\n",
      "Epoch 45/100\n",
      "5078/5078 [==============================] - 3s 572us/step - loss: 0.3438 - acc: 0.8688 - val_loss: 0.5792 - val_acc: 0.8130\n",
      "Epoch 46/100\n",
      "5078/5078 [==============================] - 3s 581us/step - loss: 0.3402 - acc: 0.8730 - val_loss: 0.6371 - val_acc: 0.8081\n",
      "Epoch 47/100\n",
      "5078/5078 [==============================] - 3s 593us/step - loss: 0.3625 - acc: 0.8673 - val_loss: 0.5750 - val_acc: 0.8159\n",
      "Epoch 48/100\n",
      "5078/5078 [==============================] - 3s 593us/step - loss: 0.3477 - acc: 0.8767 - val_loss: 0.5575 - val_acc: 0.8100\n",
      "Epoch 49/100\n",
      "5078/5078 [==============================] - 3s 591us/step - loss: 0.3517 - acc: 0.8730 - val_loss: 0.6166 - val_acc: 0.8105\n",
      "Epoch 50/100\n",
      "5078/5078 [==============================] - 3s 601us/step - loss: 0.3388 - acc: 0.8718 - val_loss: 0.5865 - val_acc: 0.8076\n",
      "Epoch 51/100\n",
      "5078/5078 [==============================] - 3s 595us/step - loss: 0.3424 - acc: 0.8759 - val_loss: 0.5738 - val_acc: 0.8155\n",
      "Epoch 52/100\n",
      "5078/5078 [==============================] - 3s 586us/step - loss: 0.3241 - acc: 0.8809 - val_loss: 0.6624 - val_acc: 0.8076\n",
      "Epoch 53/100\n",
      "5078/5078 [==============================] - 3s 583us/step - loss: 0.3227 - acc: 0.8832 - val_loss: 0.6241 - val_acc: 0.8184\n",
      "Epoch 54/100\n",
      "5078/5078 [==============================] - 3s 593us/step - loss: 0.3152 - acc: 0.8789 - val_loss: 0.6329 - val_acc: 0.8120\n",
      "Epoch 55/100\n",
      "5078/5078 [==============================] - 3s 586us/step - loss: 0.3152 - acc: 0.8844 - val_loss: 0.5897 - val_acc: 0.8199\n",
      "Epoch 56/100\n",
      "5078/5078 [==============================] - 3s 586us/step - loss: 0.2951 - acc: 0.8970 - val_loss: 0.6595 - val_acc: 0.8091\n",
      "Epoch 57/100\n",
      "5078/5078 [==============================] - 3s 603us/step - loss: 0.3065 - acc: 0.8844 - val_loss: 0.6370 - val_acc: 0.8100\n",
      "Epoch 58/100\n",
      "5078/5078 [==============================] - 3s 594us/step - loss: 0.3302 - acc: 0.8783 - val_loss: 0.5599 - val_acc: 0.8169\n",
      "Epoch 59/100\n",
      "5078/5078 [==============================] - 3s 606us/step - loss: 0.3043 - acc: 0.8891 - val_loss: 0.5836 - val_acc: 0.8145\n",
      "Epoch 60/100\n",
      "5078/5078 [==============================] - 3s 592us/step - loss: 0.3001 - acc: 0.8915 - val_loss: 0.6289 - val_acc: 0.8184\n",
      "Epoch 61/100\n",
      "5078/5078 [==============================] - 3s 597us/step - loss: 0.2876 - acc: 0.8952 - val_loss: 0.6082 - val_acc: 0.8214\n",
      "Epoch 62/100\n",
      "5078/5078 [==============================] - 3s 574us/step - loss: 0.2843 - acc: 0.8984 - val_loss: 0.6465 - val_acc: 0.8209\n",
      "Epoch 63/100\n",
      "5078/5078 [==============================] - 3s 600us/step - loss: 0.2835 - acc: 0.8917 - val_loss: 0.6274 - val_acc: 0.8046\n",
      "Epoch 64/100\n",
      "5078/5078 [==============================] - 3s 575us/step - loss: 0.2816 - acc: 0.8937 - val_loss: 0.6838 - val_acc: 0.8125\n",
      "Epoch 65/100\n",
      "5078/5078 [==============================] - 3s 590us/step - loss: 0.2786 - acc: 0.8982 - val_loss: 0.6729 - val_acc: 0.8081\n",
      "Epoch 66/100\n",
      "5078/5078 [==============================] - 3s 587us/step - loss: 0.2606 - acc: 0.9000 - val_loss: 0.6363 - val_acc: 0.8238\n",
      "Epoch 67/100\n",
      "5078/5078 [==============================] - 3s 573us/step - loss: 0.2757 - acc: 0.8978 - val_loss: 0.5994 - val_acc: 0.8189\n",
      "Epoch 68/100\n",
      "5078/5078 [==============================] - 3s 606us/step - loss: 0.2753 - acc: 0.8964 - val_loss: 0.6364 - val_acc: 0.8140\n",
      "Epoch 69/100\n",
      "5078/5078 [==============================] - 3s 585us/step - loss: 0.2570 - acc: 0.8992 - val_loss: 0.6274 - val_acc: 0.8214\n",
      "Epoch 70/100\n",
      "5078/5078 [==============================] - 3s 590us/step - loss: 0.2692 - acc: 0.9017 - val_loss: 0.6687 - val_acc: 0.8150\n",
      "Epoch 71/100\n",
      "5078/5078 [==============================] - 3s 591us/step - loss: 0.2565 - acc: 0.9047 - val_loss: 0.7075 - val_acc: 0.8061\n",
      "Epoch 72/100\n",
      "5078/5078 [==============================] - 3s 589us/step - loss: 0.2893 - acc: 0.8923 - val_loss: 0.6709 - val_acc: 0.8135\n",
      "Epoch 73/100\n",
      "5078/5078 [==============================] - 3s 571us/step - loss: 0.2633 - acc: 0.9057 - val_loss: 0.6481 - val_acc: 0.8061\n",
      "Epoch 74/100\n",
      "5078/5078 [==============================] - 3s 600us/step - loss: 0.2522 - acc: 0.9098 - val_loss: 0.6438 - val_acc: 0.8223\n",
      "Epoch 75/100\n",
      "5078/5078 [==============================] - 3s 588us/step - loss: 0.2502 - acc: 0.9110 - val_loss: 0.7126 - val_acc: 0.8140\n",
      "Epoch 76/100\n",
      "5078/5078 [==============================] - 3s 593us/step - loss: 0.2387 - acc: 0.9118 - val_loss: 0.6791 - val_acc: 0.8125\n",
      "Epoch 77/100\n",
      "5078/5078 [==============================] - 3s 573us/step - loss: 0.2475 - acc: 0.9098 - val_loss: 0.6595 - val_acc: 0.8120\n",
      "Epoch 78/100\n",
      "5078/5078 [==============================] - 3s 592us/step - loss: 0.2386 - acc: 0.9116 - val_loss: 0.7082 - val_acc: 0.8086\n",
      "Epoch 79/100\n",
      "5078/5078 [==============================] - 3s 600us/step - loss: 0.2335 - acc: 0.9116 - val_loss: 0.7452 - val_acc: 0.8012\n",
      "Epoch 80/100\n",
      "5078/5078 [==============================] - 3s 572us/step - loss: 0.2580 - acc: 0.9033 - val_loss: 0.6283 - val_acc: 0.8199\n",
      "Epoch 81/100\n",
      "5078/5078 [==============================] - 3s 585us/step - loss: 0.2370 - acc: 0.9120 - val_loss: 0.6809 - val_acc: 0.8091\n",
      "Epoch 82/100\n",
      "5078/5078 [==============================] - 3s 600us/step - loss: 0.2361 - acc: 0.9130 - val_loss: 0.6670 - val_acc: 0.8155\n",
      "Epoch 83/100\n",
      "5078/5078 [==============================] - 3s 579us/step - loss: 0.2214 - acc: 0.9183 - val_loss: 0.7279 - val_acc: 0.8159\n",
      "Epoch 84/100\n",
      "5078/5078 [==============================] - 3s 591us/step - loss: 0.2365 - acc: 0.9173 - val_loss: 0.6571 - val_acc: 0.8150\n",
      "Epoch 85/100\n",
      "5078/5078 [==============================] - 3s 595us/step - loss: 0.2365 - acc: 0.9096 - val_loss: 0.6869 - val_acc: 0.8036\n",
      "Epoch 86/100\n",
      "5078/5078 [==============================] - 3s 571us/step - loss: 0.2275 - acc: 0.9114 - val_loss: 0.6870 - val_acc: 0.8130\n",
      "Epoch 87/100\n",
      "5078/5078 [==============================] - 3s 604us/step - loss: 0.2333 - acc: 0.9157 - val_loss: 0.7593 - val_acc: 0.8086\n",
      "Epoch 88/100\n"
     ]
    },
    {
     "name": "stdout",
     "output_type": "stream",
     "text": [
      "5078/5078 [==============================] - 3s 583us/step - loss: 0.2240 - acc: 0.9175 - val_loss: 0.7295 - val_acc: 0.8125\n",
      "Epoch 89/100\n",
      "5078/5078 [==============================] - 3s 600us/step - loss: 0.2097 - acc: 0.9204 - val_loss: 0.7237 - val_acc: 0.8115\n",
      "Epoch 90/100\n",
      "5078/5078 [==============================] - 3s 591us/step - loss: 0.2223 - acc: 0.9181 - val_loss: 0.7659 - val_acc: 0.8095\n",
      "Epoch 91/100\n",
      "5078/5078 [==============================] - 3s 575us/step - loss: 0.2187 - acc: 0.9214 - val_loss: 0.6979 - val_acc: 0.8209\n",
      "Epoch 92/100\n",
      "5078/5078 [==============================] - 3s 592us/step - loss: 0.2310 - acc: 0.9193 - val_loss: 0.6823 - val_acc: 0.8184\n",
      "Epoch 93/100\n",
      "5078/5078 [==============================] - 3s 596us/step - loss: 0.2173 - acc: 0.9202 - val_loss: 0.7718 - val_acc: 0.8115\n",
      "Epoch 94/100\n",
      "5078/5078 [==============================] - 3s 597us/step - loss: 0.2224 - acc: 0.9163 - val_loss: 0.7198 - val_acc: 0.8056\n",
      "Epoch 95/100\n",
      "5078/5078 [==============================] - 3s 597us/step - loss: 0.2050 - acc: 0.9271 - val_loss: 0.7564 - val_acc: 0.8223\n",
      "Epoch 96/100\n",
      "5078/5078 [==============================] - 3s 569us/step - loss: 0.2193 - acc: 0.9199 - val_loss: 0.7155 - val_acc: 0.8150\n",
      "Epoch 97/100\n",
      "5078/5078 [==============================] - 3s 600us/step - loss: 0.2044 - acc: 0.9210 - val_loss: 0.7427 - val_acc: 0.8189\n",
      "Epoch 98/100\n",
      "5078/5078 [==============================] - 3s 586us/step - loss: 0.2100 - acc: 0.9189 - val_loss: 0.7302 - val_acc: 0.8184\n",
      "Epoch 99/100\n",
      "5078/5078 [==============================] - 3s 571us/step - loss: 0.2148 - acc: 0.9218 - val_loss: 0.7702 - val_acc: 0.8189\n",
      "Epoch 100/100\n",
      "5078/5078 [==============================] - 3s 584us/step - loss: 0.1992 - acc: 0.9269 - val_loss: 0.6925 - val_acc: 0.8159\n",
      "3041/3041 [==============================] - 1s 283us/step\n",
      "Loss: 0.680, Accuracy: 0.819\n",
      "Finish training!\n"
     ]
    }
   ],
   "source": [
    "import numpy as np\n",
    "import wfdb as wf\n",
    "import pandas as pd\n",
    "import os\n",
    "from keras.models import Sequential\n",
    "from keras.layers import Dense, Flatten, Conv1D, MaxPooling1D, AveragePooling1D, Dropout\n",
    "from keras.layers import BatchNormalization, Activation\n",
    "from keras.utils import np_utils, multi_gpu_model\n",
    "import tensorflow as tf\n",
    "#from keras.callbacks import Tensorboard\n",
    "np.set_printoptions(suppress=True)\n",
    "\n",
    "trainD = np.load(\"/home/hsiehch/30s/train_data.npy\")\n",
    "trainL = np.load(\"/home/hsiehch/30s/train_label.npy\")\n",
    "validationD = np.load(\"/home/hsiehch/30s/validation_data.npy\")\n",
    "validationL = np.load(\"/home/hsiehch/30s/validation_label.npy\")\n",
    "testD = np.load(\"/home/hsiehch/30s/test_data.npy\")\n",
    "testL = np.load(\"/home/hsiehch/30s/test_label.npy\")\n",
    "\n",
    "trainData = trainD.reshape((trainD.shape[0], trainD.shape[1], 1))\n",
    "trainLabel = np_utils.to_categorical(trainL, 4)\n",
    "validationData = validationD.reshape((validationD.shape[0], validationD.shape[1], 1))\n",
    "validationLabel = np_utils.to_categorical(validationL, 4)\n",
    "testData = testD.reshape((testD.shape[0], testD.shape[1], 1))\n",
    "testLabel = np_utils.to_categorical(testL, 4)\n",
    "print('Train Data:', trainData.shape)\n",
    "print('Train Label: ', trainLabel.shape)\n",
    "print('Vali Data: ', validationData.shape)\n",
    "print('Vali Label: ', validationLabel.shape)\n",
    "print('Test Data: ', testData.shape)\n",
    "print('Test Label: ', testLabel.shape)\n",
    "\n",
    "try:\n",
    "    model and parallel_model\n",
    "except NameError:\n",
    "    print(\"Good to go!\")\n",
    "    pass\n",
    "else:   \n",
    "    if model:\n",
    "        del model\n",
    "        del parallel_model\n",
    "    print(\"Object has been cleaned!\")\n",
    "\n",
    "with tf.device('/cpu:0'):\n",
    "    model = Sequential() \n",
    "    model.add(Conv1D(filters = 32, kernel_size = 7, input_shape = (trainData.shape[1], 1), activation = \"relu\"))\n",
    "    model.add(MaxPooling1D(pool_size = 2))\n",
    "\n",
    "    model.add(Conv1D(filters = 32, kernel_size = 7, activation = \"relu\"))\n",
    "    model.add(MaxPooling1D(pool_size = 2))\n",
    "\n",
    "    model.add(Conv1D(filters = 64, kernel_size = 7, activation = \"relu\"))\n",
    "    model.add(MaxPooling1D(pool_size = 2))\n",
    "\n",
    "    model.add(Conv1D(filters = 64, kernel_size = 3, activation = \"relu\"))\n",
    "    model.add(MaxPooling1D(pool_size = 2))\n",
    "    model.add(Dropout(0.5))\n",
    "    model.add(Conv1D(filters = 128, kernel_size = 3, activation = \"relu\"))\n",
    "    model.add(MaxPooling1D(pool_size = 2))\n",
    "\n",
    "    model.add(Conv1D(filters = 128, kernel_size = 3, activation = \"relu\"))\n",
    "    model.add(MaxPooling1D(pool_size = 2))\n",
    "    model.add(Dropout(0.5))\n",
    "    model.add(Conv1D(filters = 256, kernel_size = 3, activation = \"relu\"))\n",
    "    model.add(MaxPooling1D(pool_size = 2))\n",
    "\n",
    "    model.add(Conv1D(filters = 256, kernel_size = 3, activation = \"relu\"))\n",
    "    model.add(MaxPooling1D(pool_size = 2))\n",
    "    model.add(Dropout(0.5))\n",
    "    model.add(Conv1D(filters = 512, kernel_size = 3, activation = \"relu\"))\n",
    "    model.add(MaxPooling1D(pool_size = 2))\n",
    "    model.add(Dropout(0.5))\n",
    "    model.add(Conv1D(filters = 512, kernel_size = 3, activation = \"relu\"))\n",
    "    model.add(Flatten())\n",
    "    model.add(Dense(128, activation = \"relu\"))\n",
    "    model.add(Dropout(0.5))\n",
    "    model.add(Dense(32, activation = \"relu\"))\n",
    "    model.add(Dense(4, activation = \"softmax\"))\n",
    "\n",
    "print(model.summary())\n",
    "\n",
    "\n",
    "parallel_model = multi_gpu_model(model, gpus=2)\n",
    "parallel_model.compile(optimizer ='Adam', loss = \"categorical_crossentropy\", metrics=['accuracy'])\n",
    "batch_s = 50\n",
    "train_history_1 = parallel_model.fit(x = trainData, \n",
    "                          y = trainLabel,\n",
    "                          epochs=100,\n",
    "                          validation_data=(validationData, validationLabel),\n",
    "                          batch_size=batch_s*2, \n",
    "                          verbose=1)\n",
    "evaluation = parallel_model.evaluate(x = testData, y = testLabel)\n",
    "print('Loss: {:.3f}, Accuracy: {:.3f}'.format(evaluation[0], evaluation[1]))\n",
    "\n",
    "\n",
    "print('Finish training!')\n",
    "\n",
    "import pylab as plt\n",
    "def history_display(hist, train, validation):\n",
    "    plt.plot(hist.history[train])\n",
    "    plt.plot(hist.history[validation])\n",
    "    plt.title('Train History')\n",
    "    plt.ylabel(train)\n",
    "    plt.xlabel('Epoch')\n",
    "    plt.legend(['train', 'validation'], loc='upper left')\n",
    "    plt.show\n",
    "    \n",
    "def show_plot(flag, hist):\n",
    "    if flag == 'acc':\n",
    "        history_display(hist, 'acc', 'val_acc')\n",
    "    elif flag == 'loss':\n",
    "        history_display(hist, 'loss', 'val_loss')\n",
    "    else:\n",
    "        print('Invalid!')\n"
   ]
  },
  {
   "cell_type": "code",
   "execution_count": 3,
   "metadata": {
    "ExecuteTime": {
     "end_time": "2018-06-06T03:00:37.844498Z",
     "start_time": "2018-06-06T03:00:37.636894Z"
    }
   },
   "outputs": [
    {
     "data": {
      "image/png": "[encoded data removed]",
      "text/plain": [
       "<Figure size 432x288 with 1 Axes>"
      ]
     },
     "metadata": {},
     "output_type": "display_data"
    }
   ],
   "source": [
    "show_plot('acc', train_history_1)"
   ]
  },
  {
   "cell_type": "code",
   "execution_count": 4,
   "metadata": {
    "ExecuteTime": {
     "end_time": "2018-06-06T03:01:26.704878Z",
     "start_time": "2018-06-06T03:01:26.534060Z"
    }
   },
   "outputs": [
    {
     "data": {
      "image/png": "[encoded data removed]",
      "text/plain": [
       "<Figure size 432x288 with 1 Axes>"
      ]
     },
     "metadata": {},
     "output_type": "display_data"
    }
   ],
   "source": [
    "show_plot('loss', train_history_1)"
   ]
  },
  {
   "cell_type": "markdown",
   "metadata": {
    "heading_collapsed": true
   },
   "source": [
    "## Check Tensorflow & Keras"
   ]
  },
  {
   "cell_type": "code",
   "execution_count": 9,
   "metadata": {
    "hidden": true
   },
   "outputs": [
    {
     "data": {
      "text/plain": [
       "'1.4.0'"
      ]
     },
     "execution_count": 9,
     "metadata": {},
     "output_type": "execute_result"
    }
   ],
   "source": [
    "import tensorflow as tf\n",
    "tf.__version__"
   ]
  },
  {
   "cell_type": "code",
   "execution_count": 1,
   "metadata": {
    "hidden": true
   },
   "outputs": [
    {
     "name": "stderr",
     "output_type": "stream",
     "text": [
      "/usr/local/lib/python3.5/dist-packages/h5py/__init__.py:36: FutureWarning: Conversion of the second argument of issubdtype from `float` to `np.floating` is deprecated. In future, it will be treated as `np.float64 == np.dtype(float).type`.\n",
      "  from ._conv import register_converters as _register_converters\n",
      "Using TensorFlow backend.\n"
     ]
    },
    {
     "data": {
      "text/plain": [
       "'2.1.3'"
      ]
     },
     "execution_count": 1,
     "metadata": {},
     "output_type": "execute_result"
    }
   ],
   "source": [
    "import keras\n",
    "keras.__version__"
   ]
  }
 ],
 "metadata": {
  "kernelspec": {
   "display_name": "Python 3",
   "language": "python",
   "name": "python3"
  },
  "language_info": {
   "codemirror_mode": {
    "name": "ipython",
    "version": 3
   },
   "file_extension": ".py",
   "mimetype": "text/x-python",
   "name": "python",
   "nbconvert_exporter": "python",
   "pygments_lexer": "ipython3",
   "version": "3.5.2"
  }
 },
 "nbformat": 4,
 "nbformat_minor": 2
}
