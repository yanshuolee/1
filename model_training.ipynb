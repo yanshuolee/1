{
 "cells": [
  {
   "cell_type": "markdown",
   "metadata": {
    "heading_collapsed": true
   },
   "source": [
    "## 9 seconds(non-overlapping)"
   ]
  },
  {
   "cell_type": "code",
   "execution_count": 1,
   "metadata": {
    "ExecuteTime": {
     "end_time": "2018-06-05T06:13:19.021041Z",
     "start_time": "2018-06-05T06:06:56.928489Z"
    },
    "code_folding": [
     66,
     75,
     83
    ],
    "hidden": true,
    "scrolled": true
   },
   "outputs": [
    {
     "name": "stderr",
     "output_type": "stream",
     "text": [
      "/usr/local/lib/python3.5/dist-packages/h5py/__init__.py:36: FutureWarning: Conversion of the second argument of issubdtype from `float` to `np.floating` is deprecated. In future, it will be treated as `np.float64 == np.dtype(float).type`.\n",
      "  from ._conv import register_converters as _register_converters\n",
      "Using TensorFlow backend.\n"
     ]
    },
    {
     "name": "stdout",
     "output_type": "stream",
     "text": [
      "Train Data: (28250, 2700, 1)\n",
      "Train Label:  (28250, 4)\n",
      "Vali Data:  (11301, 2700, 1)\n",
      "Vali Label:  (11301, 4)\n",
      "Test Data:  (16944, 2700, 1)\n",
      "Test Label:  (16944, 4)\n",
      "_________________________________________________________________\n",
      "Layer (type)                 Output Shape              Param #   \n",
      "=================================================================\n",
      "conv1d_1 (Conv1D)            (None, 1335, 16)          528       \n",
      "_________________________________________________________________\n",
      "conv1d_2 (Conv1D)            (None, 652, 32)           16416     \n",
      "_________________________________________________________________\n",
      "conv1d_3 (Conv1D)            (None, 311, 32)           32800     \n",
      "_________________________________________________________________\n",
      "conv1d_4 (Conv1D)            (None, 140, 32)           32800     \n",
      "_________________________________________________________________\n",
      "conv1d_5 (Conv1D)            (None, 55, 32)            32800     \n",
      "_________________________________________________________________\n",
      "conv1d_6 (Conv1D)            (None, 12, 32)            32800     \n",
      "_________________________________________________________________\n",
      "conv1d_7 (Conv1D)            (None, 4, 32)             5152      \n",
      "_________________________________________________________________\n",
      "flatten_1 (Flatten)          (None, 128)               0         \n",
      "_________________________________________________________________\n",
      "dense_1 (Dense)              (None, 32)                4128      \n",
      "_________________________________________________________________\n",
      "dense_2 (Dense)              (None, 4)                 132       \n",
      "=================================================================\n",
      "Total params: 157,556\n",
      "Trainable params: 157,556\n",
      "Non-trainable params: 0\n",
      "_________________________________________________________________\n",
      "None\n",
      "Train on 28250 samples, validate on 11301 samples\n",
      "Epoch 1/80\n",
      "28250/28250 [==============================] - 9s 308us/step - loss: 0.9666 - acc: 0.5904 - val_loss: 0.8856 - val_acc: 0.6396\n",
      "Epoch 2/80\n",
      "28250/28250 [==============================] - 5s 165us/step - loss: 0.7597 - acc: 0.6807 - val_loss: 0.7100 - val_acc: 0.7075\n",
      "Epoch 3/80\n",
      "28250/28250 [==============================] - 4s 158us/step - loss: 0.6300 - acc: 0.7491 - val_loss: 0.6353 - val_acc: 0.7505\n",
      "Epoch 4/80\n",
      "28250/28250 [==============================] - 5s 162us/step - loss: 0.5643 - acc: 0.7857 - val_loss: 0.6260 - val_acc: 0.7610\n",
      "Epoch 5/80\n",
      "28250/28250 [==============================] - 5s 167us/step - loss: 0.5186 - acc: 0.8058 - val_loss: 0.6056 - val_acc: 0.7682\n",
      "Epoch 6/80\n",
      "28250/28250 [==============================] - 5s 161us/step - loss: 0.4853 - acc: 0.8175 - val_loss: 0.5978 - val_acc: 0.7765\n",
      "Epoch 7/80\n",
      "28250/28250 [==============================] - 5s 168us/step - loss: 0.4555 - acc: 0.8296 - val_loss: 0.6313 - val_acc: 0.7616\n",
      "Epoch 8/80\n",
      "28250/28250 [==============================] - 5s 164us/step - loss: 0.4235 - acc: 0.8422 - val_loss: 0.6257 - val_acc: 0.7797\n",
      "Epoch 9/80\n",
      "28250/28250 [==============================] - 5s 164us/step - loss: 0.3940 - acc: 0.8537 - val_loss: 0.6673 - val_acc: 0.7498\n",
      "Epoch 10/80\n",
      "28250/28250 [==============================] - 5s 166us/step - loss: 0.3658 - acc: 0.8645 - val_loss: 0.7289 - val_acc: 0.7394\n",
      "Epoch 11/80\n",
      "28250/28250 [==============================] - 5s 162us/step - loss: 0.3278 - acc: 0.8776 - val_loss: 0.7275 - val_acc: 0.7476\n",
      "Epoch 12/80\n",
      "28250/28250 [==============================] - 5s 165us/step - loss: 0.2946 - acc: 0.8902 - val_loss: 0.7294 - val_acc: 0.7585\n",
      "Epoch 13/80\n",
      "28250/28250 [==============================] - 5s 167us/step - loss: 0.2564 - acc: 0.9038 - val_loss: 0.8189 - val_acc: 0.7539\n",
      "Epoch 14/80\n",
      "28250/28250 [==============================] - 5s 162us/step - loss: 0.2148 - acc: 0.9213 - val_loss: 0.8549 - val_acc: 0.7460\n",
      "Epoch 15/80\n",
      "28250/28250 [==============================] - 5s 161us/step - loss: 0.1837 - acc: 0.9308 - val_loss: 1.0841 - val_acc: 0.7439\n",
      "Epoch 16/80\n",
      "28250/28250 [==============================] - 5s 166us/step - loss: 0.1590 - acc: 0.9397 - val_loss: 1.0446 - val_acc: 0.7247\n",
      "Epoch 17/80\n",
      "28250/28250 [==============================] - 5s 160us/step - loss: 0.1405 - acc: 0.9476 - val_loss: 1.1754 - val_acc: 0.7505\n",
      "Epoch 18/80\n",
      "28250/28250 [==============================] - 5s 164us/step - loss: 0.1253 - acc: 0.9532 - val_loss: 1.2508 - val_acc: 0.7360\n",
      "Epoch 19/80\n",
      "28250/28250 [==============================] - 5s 163us/step - loss: 0.1003 - acc: 0.9626 - val_loss: 1.3458 - val_acc: 0.7225\n",
      "Epoch 20/80\n",
      "28250/28250 [==============================] - 5s 163us/step - loss: 0.0909 - acc: 0.9670 - val_loss: 1.4560 - val_acc: 0.7385\n",
      "Epoch 21/80\n",
      "28250/28250 [==============================] - 5s 165us/step - loss: 0.0805 - acc: 0.9704 - val_loss: 1.6114 - val_acc: 0.7187\n",
      "Epoch 22/80\n",
      "28250/28250 [==============================] - 5s 164us/step - loss: 0.0836 - acc: 0.9707 - val_loss: 1.6837 - val_acc: 0.7282\n",
      "Epoch 23/80\n",
      "28250/28250 [==============================] - 5s 167us/step - loss: 0.0594 - acc: 0.9793 - val_loss: 1.7354 - val_acc: 0.7091\n",
      "Epoch 24/80\n",
      "28250/28250 [==============================] - 5s 167us/step - loss: 0.0710 - acc: 0.9760 - val_loss: 1.6898 - val_acc: 0.7374\n",
      "Epoch 25/80\n",
      "28250/28250 [==============================] - 5s 161us/step - loss: 0.0614 - acc: 0.9791 - val_loss: 1.7614 - val_acc: 0.7287\n",
      "Epoch 26/80\n",
      "28250/28250 [==============================] - 5s 167us/step - loss: 0.0396 - acc: 0.9865 - val_loss: 1.9946 - val_acc: 0.7405\n",
      "Epoch 27/80\n",
      "28250/28250 [==============================] - 5s 164us/step - loss: 0.0606 - acc: 0.9799 - val_loss: 1.8590 - val_acc: 0.7419\n",
      "Epoch 28/80\n",
      "28250/28250 [==============================] - 5s 162us/step - loss: 0.0527 - acc: 0.9823 - val_loss: 1.8383 - val_acc: 0.7258\n",
      "Epoch 29/80\n",
      "28250/28250 [==============================] - 5s 167us/step - loss: 0.0467 - acc: 0.9835 - val_loss: 1.8311 - val_acc: 0.7249\n",
      "Epoch 30/80\n",
      "28250/28250 [==============================] - 5s 165us/step - loss: 0.0403 - acc: 0.9865 - val_loss: 1.9441 - val_acc: 0.7354\n",
      "Epoch 31/80\n",
      "28250/28250 [==============================] - 5s 165us/step - loss: 0.0479 - acc: 0.9833 - val_loss: 1.6519 - val_acc: 0.6942\n",
      "Epoch 32/80\n",
      "28250/28250 [==============================] - 5s 167us/step - loss: 0.0494 - acc: 0.9824 - val_loss: 2.0084 - val_acc: 0.7348\n",
      "Epoch 33/80\n",
      "28250/28250 [==============================] - 5s 163us/step - loss: 0.0407 - acc: 0.9866 - val_loss: 1.8647 - val_acc: 0.7294\n",
      "Epoch 34/80\n",
      "28250/28250 [==============================] - 5s 164us/step - loss: 0.0409 - acc: 0.9859 - val_loss: 2.0721 - val_acc: 0.7398\n",
      "Epoch 35/80\n",
      "28250/28250 [==============================] - 5s 165us/step - loss: 0.0421 - acc: 0.9856 - val_loss: 2.0621 - val_acc: 0.7398\n",
      "Epoch 36/80\n",
      "28250/28250 [==============================] - 5s 164us/step - loss: 0.0381 - acc: 0.9883 - val_loss: 2.0163 - val_acc: 0.7408\n",
      "Epoch 37/80\n",
      "28250/28250 [==============================] - 5s 166us/step - loss: 0.0304 - acc: 0.9899 - val_loss: 2.1247 - val_acc: 0.7199\n",
      "Epoch 38/80\n",
      "28250/28250 [==============================] - 5s 162us/step - loss: 0.0491 - acc: 0.9838 - val_loss: 1.9290 - val_acc: 0.7181\n",
      "Epoch 39/80\n",
      "28250/28250 [==============================] - 5s 162us/step - loss: 0.0442 - acc: 0.9849 - val_loss: 1.8568 - val_acc: 0.7380\n",
      "Epoch 40/80\n",
      "28250/28250 [==============================] - 5s 169us/step - loss: 0.0346 - acc: 0.9891 - val_loss: 1.9767 - val_acc: 0.7250\n",
      "Epoch 41/80\n",
      "28250/28250 [==============================] - 5s 164us/step - loss: 0.0358 - acc: 0.9880 - val_loss: 1.9170 - val_acc: 0.7344\n",
      "Epoch 42/80\n",
      "28250/28250 [==============================] - 5s 164us/step - loss: 0.0374 - acc: 0.9876 - val_loss: 2.0827 - val_acc: 0.7199\n",
      "Epoch 43/80\n",
      "28250/28250 [==============================] - 5s 168us/step - loss: 0.0569 - acc: 0.9824 - val_loss: 1.6045 - val_acc: 0.7151\n",
      "Epoch 44/80\n",
      "28250/28250 [==============================] - 5s 162us/step - loss: 0.0419 - acc: 0.9860 - val_loss: 2.0575 - val_acc: 0.7363\n",
      "Epoch 45/80\n",
      "28250/28250 [==============================] - 5s 165us/step - loss: 0.0120 - acc: 0.9959 - val_loss: 2.4128 - val_acc: 0.7332\n",
      "Epoch 46/80\n",
      "28250/28250 [==============================] - 5s 163us/step - loss: 0.0266 - acc: 0.9907 - val_loss: 2.3649 - val_acc: 0.7192\n",
      "Epoch 47/80\n",
      "28250/28250 [==============================] - 5s 164us/step - loss: 0.0472 - acc: 0.9856 - val_loss: 2.0204 - val_acc: 0.7226\n",
      "Epoch 48/80\n",
      "28250/28250 [==============================] - 5s 163us/step - loss: 0.0271 - acc: 0.9911 - val_loss: 2.2003 - val_acc: 0.7352\n",
      "Epoch 49/80\n",
      "28250/28250 [==============================] - 5s 161us/step - loss: 0.0370 - acc: 0.9874 - val_loss: 1.9895 - val_acc: 0.7329\n",
      "Epoch 50/80\n",
      "28250/28250 [==============================] - 5s 164us/step - loss: 0.0326 - acc: 0.9897 - val_loss: 2.0531 - val_acc: 0.7284\n",
      "Epoch 51/80\n",
      "28250/28250 [==============================] - 5s 170us/step - loss: 0.0340 - acc: 0.9885 - val_loss: 1.9650 - val_acc: 0.7292\n",
      "Epoch 52/80\n",
      "28250/28250 [==============================] - 5s 161us/step - loss: 0.0249 - acc: 0.9914 - val_loss: 2.2184 - val_acc: 0.7181\n",
      "Epoch 53/80\n",
      "28250/28250 [==============================] - 5s 167us/step - loss: 0.0321 - acc: 0.9902 - val_loss: 1.9945 - val_acc: 0.7215\n",
      "Epoch 54/80\n",
      "28250/28250 [==============================] - 5s 168us/step - loss: 0.0310 - acc: 0.9901 - val_loss: 2.0469 - val_acc: 0.7286\n",
      "Epoch 55/80\n",
      "28250/28250 [==============================] - 5s 165us/step - loss: 0.0379 - acc: 0.9881 - val_loss: 2.0224 - val_acc: 0.7255\n",
      "Epoch 56/80\n",
      "28250/28250 [==============================] - 5s 165us/step - loss: 0.0232 - acc: 0.9916 - val_loss: 2.2193 - val_acc: 0.7406\n",
      "Epoch 57/80\n",
      "28250/28250 [==============================] - 5s 162us/step - loss: 0.0386 - acc: 0.9870 - val_loss: 1.8641 - val_acc: 0.7337\n",
      "Epoch 58/80\n",
      "28250/28250 [==============================] - 5s 165us/step - loss: 0.0250 - acc: 0.9915 - val_loss: 2.1514 - val_acc: 0.7374\n",
      "Epoch 59/80\n",
      "28250/28250 [==============================] - 5s 166us/step - loss: 0.0185 - acc: 0.9936 - val_loss: 2.3917 - val_acc: 0.7185\n",
      "Epoch 60/80\n",
      "28250/28250 [==============================] - 5s 163us/step - loss: 0.0285 - acc: 0.9906 - val_loss: 2.3355 - val_acc: 0.7414\n",
      "Epoch 61/80\n",
      "28250/28250 [==============================] - 5s 167us/step - loss: 0.0263 - acc: 0.9913 - val_loss: 2.2629 - val_acc: 0.7295\n",
      "Epoch 62/80\n",
      "28250/28250 [==============================] - 5s 165us/step - loss: 0.0356 - acc: 0.9885 - val_loss: 2.2150 - val_acc: 0.7298\n",
      "Epoch 63/80\n",
      "28250/28250 [==============================] - 5s 160us/step - loss: 0.0248 - acc: 0.9916 - val_loss: 2.1737 - val_acc: 0.7099\n",
      "Epoch 64/80\n",
      "28250/28250 [==============================] - 5s 167us/step - loss: 0.0320 - acc: 0.9895 - val_loss: 2.1749 - val_acc: 0.7270\n",
      "Epoch 65/80\n",
      "28250/28250 [==============================] - 5s 165us/step - loss: 0.0234 - acc: 0.9925 - val_loss: 2.1788 - val_acc: 0.7344\n",
      "Epoch 66/80\n",
      "28250/28250 [==============================] - 5s 167us/step - loss: 0.0179 - acc: 0.9941 - val_loss: 2.3564 - val_acc: 0.7350\n",
      "Epoch 67/80\n",
      "28250/28250 [==============================] - 5s 162us/step - loss: 0.0431 - acc: 0.9862 - val_loss: 1.8028 - val_acc: 0.7352\n",
      "Epoch 68/80\n",
      "28250/28250 [==============================] - 5s 161us/step - loss: 0.0174 - acc: 0.9945 - val_loss: 2.3814 - val_acc: 0.7362\n",
      "Epoch 69/80\n",
      "28250/28250 [==============================] - 5s 163us/step - loss: 0.0188 - acc: 0.9937 - val_loss: 2.2911 - val_acc: 0.7331\n",
      "Epoch 70/80\n",
      "28250/28250 [==============================] - 5s 163us/step - loss: 0.0300 - acc: 0.9905 - val_loss: 2.3982 - val_acc: 0.7298\n",
      "Epoch 71/80\n",
      "28250/28250 [==============================] - 5s 162us/step - loss: 0.0321 - acc: 0.9897 - val_loss: 2.2753 - val_acc: 0.7354\n",
      "Epoch 72/80\n",
      "28250/28250 [==============================] - 5s 168us/step - loss: 0.0203 - acc: 0.9932 - val_loss: 2.2229 - val_acc: 0.7263\n",
      "Epoch 73/80\n",
      "28250/28250 [==============================] - 5s 161us/step - loss: 0.0176 - acc: 0.9942 - val_loss: 2.2468 - val_acc: 0.7232\n",
      "Epoch 74/80\n",
      "28250/28250 [==============================] - 5s 162us/step - loss: 0.0299 - acc: 0.9900 - val_loss: 1.9644 - val_acc: 0.7382\n",
      "Epoch 75/80\n",
      "28250/28250 [==============================] - 5s 167us/step - loss: 0.0193 - acc: 0.9938 - val_loss: 2.1346 - val_acc: 0.7219\n",
      "Epoch 76/80\n",
      "28250/28250 [==============================] - 5s 162us/step - loss: 0.0242 - acc: 0.9921 - val_loss: 2.3376 - val_acc: 0.7443\n",
      "Epoch 77/80\n",
      "28250/28250 [==============================] - 5s 166us/step - loss: 0.0253 - acc: 0.9920 - val_loss: 2.1930 - val_acc: 0.7432\n",
      "Epoch 78/80\n",
      "28250/28250 [==============================] - 5s 164us/step - loss: 0.0261 - acc: 0.9918 - val_loss: 2.2409 - val_acc: 0.7420\n",
      "Epoch 79/80\n",
      "28250/28250 [==============================] - 5s 160us/step - loss: 0.0181 - acc: 0.9940 - val_loss: 2.2775 - val_acc: 0.7327\n",
      "Epoch 80/80\n",
      "28250/28250 [==============================] - 5s 165us/step - loss: 0.0270 - acc: 0.9919 - val_loss: 2.2277 - val_acc: 0.7452\n",
      "16944/16944 [==============================] - 2s 123us/step\n",
      "Loss: 2.209, Accuracy: 0.738\n",
      "Finish training!\n"
     ]
    }
   ],
   "source": [
    "import numpy as np\n",
    "import wfdb as wf\n",
    "import pandas as pd\n",
    "import os\n",
    "from keras.models import Sequential\n",
    "from keras.layers import Dense, Flatten, Conv1D, MaxPooling1D, AveragePooling1D, Dropout\n",
    "from keras.layers import BatchNormalization, Activation\n",
    "from keras.utils import np_utils, multi_gpu_model\n",
    "import tensorflow as tf\n",
    "#from keras.callbacks import Tensorboard\n",
    "np.set_printoptions(suppress=True)\n",
    "\n",
    "trainD = np.load(\"/home/hsiehch/9s_overlapping/train_data.npy\")\n",
    "trainL = np.load(\"/home/hsiehch/9s_overlapping/train_label.npy\")\n",
    "validationD = np.load(\"/home/hsiehch/9s_overlapping/validation_data.npy\")\n",
    "validationL = np.load(\"/home/hsiehch/9s_overlapping/validation_label.npy\")\n",
    "testD = np.load(\"/home/hsiehch/9s_overlapping/test_data.npy\")\n",
    "testL = np.load(\"/home/hsiehch/9s_overlapping/test_label.npy\")\n",
    "\n",
    "trainData = trainD.reshape((trainD.shape[0], trainD.shape[1], 1))\n",
    "trainLabel = np_utils.to_categorical(trainL, 4)\n",
    "validationData = validationD.reshape((validationD.shape[0], validationD.shape[1], 1))\n",
    "validationLabel = np_utils.to_categorical(validationL, 4)\n",
    "testData = testD.reshape((testD.shape[0], testD.shape[1], 1))\n",
    "testLabel = np_utils.to_categorical(testL, 4)\n",
    "print('Train Data:', trainData.shape)\n",
    "print('Train Label: ', trainLabel.shape)\n",
    "print('Vali Data: ', validationData.shape)\n",
    "print('Vali Label: ', validationLabel.shape)\n",
    "print('Test Data: ', testData.shape)\n",
    "print('Test Label: ', testLabel.shape)\n",
    "\n",
    "with tf.device('/cpu:0'):\n",
    "    model = Sequential() \n",
    "    model.add(Conv1D(filters = 16, kernel_size = 32, strides=2, input_shape = (trainData.shape[1], 1), activation = \"relu\"))   \n",
    "    model.add(Conv1D(filters = 32, kernel_size = 32, strides=2, activation = \"relu\"))\n",
    "    model.add(Conv1D(filters = 32, kernel_size = 32, strides=2, activation = \"relu\"))\n",
    "    model.add(Conv1D(filters = 32, kernel_size = 32, strides=2, activation = \"relu\"))\n",
    "    model.add(Conv1D(filters = 32, kernel_size = 32, strides=2, activation = \"relu\"))\n",
    "    model.add(Conv1D(filters = 32, kernel_size = 32, strides=2, activation = \"relu\"))\n",
    "    model.add(Conv1D(filters = 32, kernel_size = 5, strides=2, activation = \"relu\"))\n",
    "    model.add(Flatten())\n",
    "    model.add(Dense(32, activation = \"relu\"))\n",
    "    model.add(Dense(4, activation = \"softmax\"))\n",
    "    \n",
    "print(model.summary())\n",
    "\n",
    "\n",
    "parallel_model = multi_gpu_model(model, gpus=2)\n",
    "parallel_model.compile(optimizer ='Adam', loss = \"categorical_crossentropy\", metrics=['accuracy'])\n",
    "batch_s = 50\n",
    "train_history_1 = parallel_model.fit(x = trainData, \n",
    "                          y = trainLabel,\n",
    "                          epochs=80,\n",
    "                          validation_data=(validationData, validationLabel),\n",
    "                          batch_size=batch_s*2, \n",
    "                          verbose=1)\n",
    "evaluation = parallel_model.evaluate(x = testData, y = testLabel)\n",
    "print('Loss: {:.3f}, Accuracy: {:.3f}'.format(evaluation[0], evaluation[1]))\n",
    "del model\n",
    "\n",
    "print('Finish training!')\n",
    "\n",
    "import pylab as plt\n",
    "def history_display(hist, train, validation):\n",
    "    plt.plot(hist.history[train])\n",
    "    plt.plot(hist.history[validation])\n",
    "    plt.title('Train History')\n",
    "    plt.ylabel(train)\n",
    "    plt.xlabel('Epoch')\n",
    "    plt.legend(['train', 'validation'], loc='upper left')\n",
    "    plt.show\n",
    "    \n",
    "def show_plot(flag, hist):\n",
    "    if flag == 'acc':\n",
    "        history_display(hist, 'acc', 'val_acc')\n",
    "    elif flag == 'loss':\n",
    "        history_display(hist, 'loss', 'val_loss')\n",
    "    else:\n",
    "        print('Invalid!')\n",
    "\n",
    "def layer_to_visualize(layer):\n",
    "    inputs = [K.learning_phase()] + model.inputs\n",
    "\n",
    "    _convout1_f = K.function(inputs, [layer.output])\n",
    "    def convout1_f(X):\n",
    "        # The [0] is to disable the training phase flag\n",
    "        return _convout1_f([0] + [X])\n",
    "\n",
    "    convolutions = convout1_f(img_to_visualize)\n",
    "    convolutions = np.squeeze(convolutions)\n",
    "\n",
    "    print ('Shape of conv:', convolutions.shape)\n",
    "\n",
    "    n = convolutions.shape[0]\n",
    "    n = int(np.ceil(np.sqrt(n)))\n",
    "\n",
    "    # Visualization of each filter of the layer\n",
    "    fig = plt.figure(figsize=(12,8))\n",
    "    for i in range(len(convolutions)):\n",
    "        ax = fig.add_subplot(n,n,i+1)\n",
    "        ax.imshow(convolutions[i], cmap='gray')"
   ]
  },
  {
   "cell_type": "code",
   "execution_count": 2,
   "metadata": {
    "ExecuteTime": {
     "end_time": "2018-06-05T06:21:01.551454Z",
     "start_time": "2018-06-05T06:21:01.287044Z"
    },
    "hidden": true
   },
   "outputs": [
    {
     "data": {
      "image/png": "[encoded data removed]",
      "text/plain": [
       "<Figure size 432x288 with 1 Axes>"
      ]
     },
     "metadata": {},
     "output_type": "display_data"
    }
   ],
   "source": [
    "show_plot('acc', train_history_1)"
   ]
  },
  {
   "cell_type": "code",
   "execution_count": 3,
   "metadata": {
    "ExecuteTime": {
     "end_time": "2018-06-05T06:21:07.400854Z",
     "start_time": "2018-06-05T06:21:07.216389Z"
    },
    "hidden": true
   },
   "outputs": [
    {
     "data": {
      "image/png": "[encoded data removed]",
      "text/plain": [
       "<Figure size 432x288 with 1 Axes>"
      ]
     },
     "metadata": {},
     "output_type": "display_data"
    }
   ],
   "source": [
    "show_plot('loss', train_history_1)"
   ]
  },
  {
   "cell_type": "code",
   "execution_count": 5,
   "metadata": {
    "ExecuteTime": {
     "end_time": "2018-06-05T06:21:49.189574Z",
     "start_time": "2018-06-05T06:21:49.175432Z"
    },
    "hidden": true
   },
   "outputs": [
    {
     "ename": "NameError",
     "evalue": "name 'convolution' is not defined",
     "output_type": "error",
     "traceback": [
      "\u001b[0;31m---------------------------------------------------------------------------\u001b[0m",
      "\u001b[0;31mNameError\u001b[0m                                 Traceback (most recent call last)",
      "\u001b[0;32m<ipython-input-5-3390f34e74ba>\u001b[0m in \u001b[0;36m<module>\u001b[0;34m()\u001b[0m\n\u001b[0;32m----> 1\u001b[0;31m \u001b[0mlayer_to_visualize\u001b[0m\u001b[0;34m(\u001b[0m\u001b[0mconvolution\u001b[0m \u001b[0;34m)\u001b[0m\u001b[0;34m\u001b[0m\u001b[0m\n\u001b[0m",
      "\u001b[0;31mNameError\u001b[0m: name 'convolution' is not defined"
     ]
    }
   ],
   "source": [
    "layer_to_visualize(convolution )"
   ]
  },
  {
   "cell_type": "markdown",
   "metadata": {
    "heading_collapsed": true
   },
   "source": [
    "## 9 seconds(overlapping)"
   ]
  },
  {
   "cell_type": "code",
   "execution_count": null,
   "metadata": {
    "hidden": true,
    "scrolled": true
   },
   "outputs": [
    {
     "name": "stderr",
     "output_type": "stream",
     "text": [
      "/usr/local/lib/python3.5/dist-packages/h5py/__init__.py:36: FutureWarning: Conversion of the second argument of issubdtype from `float` to `np.floating` is deprecated. In future, it will be treated as `np.float64 == np.dtype(float).type`.\n",
      "  from ._conv import register_converters as _register_converters\n",
      "Using TensorFlow backend.\n"
     ]
    },
    {
     "name": "stdout",
     "output_type": "stream",
     "text": [
      "A: 5003\n",
      "~: 1356\n",
      "O: 16983\n",
      "N: 33153\n",
      "split train data index:  [[0, 2502, 3503, 5003], [5003, 5682, 5954, 6359], [6359, 14851, 18248, 23342], [23342, 39919, 46550, 56495]]\n",
      "(28250, 2700)\n",
      "(28250,)\n",
      "(11301, 2700)\n",
      "(11301,)\n",
      "(16944, 2700)\n",
      "(16944,)\n",
      "_________________________________________________________________\n",
      "Layer (type)                 Output Shape              Param #   \n",
      "=================================================================\n",
      "conv1d_1 (Conv1D)            (None, 2698, 512)         2048      \n",
      "_________________________________________________________________\n",
      "max_pooling1d_1 (MaxPooling1 (None, 26, 512)           0         \n",
      "_________________________________________________________________\n",
      "flatten_1 (Flatten)          (None, 13312)             0         \n",
      "_________________________________________________________________\n",
      "dense_1 (Dense)              (None, 4)                 53252     \n",
      "=================================================================\n",
      "Total params: 55,300\n",
      "Trainable params: 55,300\n",
      "Non-trainable params: 0\n",
      "_________________________________________________________________\n",
      "None\n",
      "Train on 22600 samples, validate on 5650 samples\n",
      "Epoch 1/10\n"
     ]
    }
   ],
   "source": [
    "import numpy as np\n",
    "import wfdb as wf\n",
    "import pandas as pd\n",
    "from keras.models import Sequential\n",
    "from keras.layers import Dense, Dropout, Flatten, Conv1D, MaxPooling1D\n",
    "from keras.utils import np_utils\n",
    "np.set_printoptions(suppress=True)\n",
    "\n",
    "import data_preprocessing as dp\n",
    "tmp = dp.makeData(9, 0.5, 0.2, 0.3, overlap_dot=1350)\n",
    "trainD, trainL, v_D, v_L, testD, testL = tmp.main()\n",
    "\n",
    "trainData = trainD.reshape((trainD.shape[0], trainD.shape[1], 1))\n",
    "trainLabel = np_utils.to_categorical(trainL, 4)\n",
    "testData = testD.reshape((testD.shape[0], testD.shape[1], 1))\n",
    "testLabel = np_utils.to_categorical(testL, 4)\n",
    "\n",
    "\n",
    "model = Sequential() \n",
    "model.add(Conv1D(filters = 512, kernel_size = 3, input_shape = (trainData.shape[1], 1), activation = \"relu\"))\n",
    "model.add(MaxPooling1D(pool_size = 100))\n",
    "model.add(Flatten())\n",
    "model.add(Dense(4, activation = \"softmax\"))\n",
    "print(model.summary())\n",
    "\n",
    "model.compile(optimizer ='adam', loss = \"categorical_crossentropy\", metrics=['accuracy'])\n",
    "train_history = model.fit(x = trainData, y = trainLabel, epochs=10, validation_split=0.2, batch_size=100, verbose=2)\n",
    "\n",
    "print('Finish training!')\n",
    "\n",
    "\n",
    "import pylab as plt\n",
    "\n",
    "def history_display(train_history, train, validation):\n",
    "    plt.plot(train_history.history[train])\n",
    "    plt.plot(train_history.history[validation])\n",
    "    plt.title('Train History')\n",
    "    plt.ylabel(train)\n",
    "    plt.xlabel('Epoch')\n",
    "    plt.legend(['train', 'validation'], loc='upper left')\n",
    "    plt.show\n",
    "    \n",
    "def show_plot(flag):\n",
    "    if flag == 'acc':\n",
    "        history_display(train_history, 'acc', 'val_acc')\n",
    "    elif flag == 'loss':\n",
    "        history_display(train_history, 'loss', 'val_loss')\n",
    "    else:\n",
    "        print('Invalid!')\n",
    "     "
   ]
  },
  {
   "cell_type": "code",
   "execution_count": 2,
   "metadata": {
    "hidden": true
   },
   "outputs": [
    {
     "data": {
      "image/png": "[encoded data removed]",
      "text/plain": [
       "<Figure size 432x288 with 1 Axes>"
      ]
     },
     "metadata": {},
     "output_type": "display_data"
    }
   ],
   "source": [
    "show_plot('acc')"
   ]
  },
  {
   "cell_type": "code",
   "execution_count": 3,
   "metadata": {
    "hidden": true
   },
   "outputs": [
    {
     "data": {
      "image/png": "[encoded data removed]",
      "text/plain": [
       "<Figure size 432x288 with 1 Axes>"
      ]
     },
     "metadata": {},
     "output_type": "display_data"
    }
   ],
   "source": [
    "show_plot('loss')"
   ]
  },
  {
   "cell_type": "markdown",
   "metadata": {},
   "source": [
    "## 30 seconds"
   ]
  },
  {
   "cell_type": "code",
   "execution_count": 1,
   "metadata": {
    "ExecuteTime": {
     "end_time": "2018-06-22T05:17:07.324834Z",
     "start_time": "2018-06-22T05:16:17.869108Z"
    },
    "scrolled": true
   },
   "outputs": [
    {
     "name": "stderr",
     "output_type": "stream",
     "text": [
      "/usr/local/lib/python3.5/dist-packages/h5py/__init__.py:36: FutureWarning: Conversion of the second argument of issubdtype from `float` to `np.floating` is deprecated. In future, it will be treated as `np.float64 == np.dtype(float).type`.\n",
      "  from ._conv import register_converters as _register_converters\n",
      "Using TensorFlow backend.\n"
     ]
    },
    {
     "name": "stdout",
     "output_type": "stream",
     "text": [
      "Train Data: (5078, 9000, 1)\n",
      "Train Label:  (5078, 4)\n",
      "Vali Data:  (2032, 9000, 1)\n",
      "Vali Label:  (2032, 4)\n",
      "Test Data:  (3041, 9000, 1)\n",
      "Test Label:  (3041, 4)\n",
      "Good to go!\n",
      "_________________________________________________________________\n",
      "Layer (type)                 Output Shape              Param #   \n",
      "=================================================================\n",
      "conv1d_1 (Conv1D)            (None, 8994, 32)          256       \n",
      "_________________________________________________________________\n",
      "max_pooling1d_1 (MaxPooling1 (None, 4497, 32)          0         \n",
      "_________________________________________________________________\n",
      "conv1d_2 (Conv1D)            (None, 4491, 32)          7200      \n",
      "_________________________________________________________________\n",
      "max_pooling1d_2 (MaxPooling1 (None, 2245, 32)          0         \n",
      "_________________________________________________________________\n",
      "conv1d_3 (Conv1D)            (None, 2239, 64)          14400     \n",
      "_________________________________________________________________\n",
      "max_pooling1d_3 (MaxPooling1 (None, 1119, 64)          0         \n",
      "_________________________________________________________________\n",
      "conv1d_4 (Conv1D)            (None, 1117, 64)          12352     \n",
      "_________________________________________________________________\n",
      "max_pooling1d_4 (MaxPooling1 (None, 558, 64)           0         \n",
      "_________________________________________________________________\n",
      "dropout_1 (Dropout)          (None, 558, 64)           0         \n",
      "_________________________________________________________________\n",
      "conv1d_5 (Conv1D)            (None, 556, 128)          24704     \n",
      "_________________________________________________________________\n",
      "max_pooling1d_5 (MaxPooling1 (None, 278, 128)          0         \n",
      "_________________________________________________________________\n",
      "conv1d_6 (Conv1D)            (None, 276, 128)          49280     \n",
      "_________________________________________________________________\n",
      "max_pooling1d_6 (MaxPooling1 (None, 138, 128)          0         \n",
      "_________________________________________________________________\n",
      "dropout_2 (Dropout)          (None, 138, 128)          0         \n",
      "_________________________________________________________________\n",
      "conv1d_7 (Conv1D)            (None, 136, 256)          98560     \n",
      "_________________________________________________________________\n",
      "max_pooling1d_7 (MaxPooling1 (None, 68, 256)           0         \n",
      "_________________________________________________________________\n",
      "conv1d_8 (Conv1D)            (None, 66, 256)           196864    \n",
      "_________________________________________________________________\n",
      "max_pooling1d_8 (MaxPooling1 (None, 33, 256)           0         \n",
      "_________________________________________________________________\n",
      "dropout_3 (Dropout)          (None, 33, 256)           0         \n",
      "_________________________________________________________________\n",
      "conv1d_9 (Conv1D)            (None, 31, 512)           393728    \n",
      "_________________________________________________________________\n",
      "max_pooling1d_9 (MaxPooling1 (None, 15, 512)           0         \n",
      "_________________________________________________________________\n",
      "dropout_4 (Dropout)          (None, 15, 512)           0         \n",
      "_________________________________________________________________\n",
      "conv1d_10 (Conv1D)           (None, 13, 512)           786944    \n",
      "_________________________________________________________________\n",
      "flatten_1 (Flatten)          (None, 6656)              0         \n",
      "_________________________________________________________________\n",
      "dense_1 (Dense)              (None, 128)               852096    \n",
      "_________________________________________________________________\n",
      "dropout_5 (Dropout)          (None, 128)               0         \n",
      "_________________________________________________________________\n",
      "dense_2 (Dense)              (None, 32)                4128      \n",
      "_________________________________________________________________\n",
      "dense_3 (Dense)              (None, 4)                 132       \n",
      "=================================================================\n",
      "Total params: 2,440,644\n",
      "Trainable params: 2,440,644\n",
      "Non-trainable params: 0\n",
      "_________________________________________________________________\n",
      "None\n",
      "Train on 5078 samples, validate on 2032 samples\n",
      "Epoch 1/10\n",
      "5078/5078 [==============================] - 6s 1ms/step - loss: 1.0960 - acc: 0.5035 - val_loss: 0.9937 - val_acc: 0.5866\n",
      "Epoch 2/10\n",
      "5078/5078 [==============================] - 4s 802us/step - loss: 1.0005 - acc: 0.5863 - val_loss: 0.9828 - val_acc: 0.5866\n",
      "Epoch 3/10\n",
      "5078/5078 [==============================] - 4s 815us/step - loss: 0.9350 - acc: 0.5924 - val_loss: 0.8827 - val_acc: 0.6270\n",
      "Epoch 4/10\n",
      "5078/5078 [==============================] - 4s 823us/step - loss: 0.8587 - acc: 0.6489 - val_loss: 0.7952 - val_acc: 0.6683\n",
      "Epoch 5/10\n",
      "5078/5078 [==============================] - 4s 822us/step - loss: 0.8077 - acc: 0.6849 - val_loss: 0.7743 - val_acc: 0.6781\n",
      "Epoch 6/10\n",
      "5078/5078 [==============================] - 4s 819us/step - loss: 0.7400 - acc: 0.7038 - val_loss: 0.6886 - val_acc: 0.7146\n",
      "Epoch 7/10\n",
      "5078/5078 [==============================] - 4s 821us/step - loss: 0.7010 - acc: 0.7208 - val_loss: 0.6927 - val_acc: 0.7023\n",
      "Epoch 8/10\n",
      "5078/5078 [==============================] - 4s 811us/step - loss: 0.6711 - acc: 0.7298 - val_loss: 0.6645 - val_acc: 0.7264\n",
      "Epoch 9/10\n",
      "5078/5078 [==============================] - 4s 809us/step - loss: 0.6609 - acc: 0.7385 - val_loss: 0.6584 - val_acc: 0.7254\n",
      "Epoch 10/10\n",
      "5078/5078 [==============================] - 4s 815us/step - loss: 0.6424 - acc: 0.7469 - val_loss: 0.6012 - val_acc: 0.7490\n",
      "3041/3041 [==============================] - 1s 291us/step\n",
      "Loss: 0.607, Accuracy: 0.755\n",
      "Finish training!\n"
     ]
    }
   ],
   "source": [
    "import numpy as np\n",
    "import wfdb as wf\n",
    "import pandas as pd\n",
    "import os\n",
    "from keras.models import Sequential\n",
    "from keras.layers import Dense, Flatten, Conv1D, MaxPooling1D, AveragePooling1D, Dropout\n",
    "from keras.layers import BatchNormalization, Activation\n",
    "from keras.utils import np_utils, multi_gpu_model\n",
    "import tensorflow as tf\n",
    "from keras.callbacks import TensorBoard\n",
    "np.set_printoptions(suppress=True)\n",
    "\n",
    "trainD = np.load(\"/home/hsiehch/30s/train_data.npy\")\n",
    "trainL = np.load(\"/home/hsiehch/30s/train_label.npy\")\n",
    "validationD = np.load(\"/home/hsiehch/30s/validation_data.npy\")\n",
    "validationL = np.load(\"/home/hsiehch/30s/validation_label.npy\")\n",
    "testD = np.load(\"/home/hsiehch/30s/test_data.npy\")\n",
    "testL = np.load(\"/home/hsiehch/30s/test_label.npy\")\n",
    "\n",
    "trainData = trainD.reshape((trainD.shape[0], trainD.shape[1], 1))\n",
    "trainLabel = np_utils.to_categorical(trainL, 4)\n",
    "validationData = validationD.reshape((validationD.shape[0], validationD.shape[1], 1))\n",
    "validationLabel = np_utils.to_categorical(validationL, 4)\n",
    "testData = testD.reshape((testD.shape[0], testD.shape[1], 1))\n",
    "testLabel = np_utils.to_categorical(testL, 4)\n",
    "print('Train Data:', trainData.shape)\n",
    "print('Train Label: ', trainLabel.shape)\n",
    "print('Vali Data: ', validationData.shape)\n",
    "print('Vali Label: ', validationLabel.shape)\n",
    "print('Test Data: ', testData.shape)\n",
    "print('Test Label: ', testLabel.shape)\n",
    "\n",
    "\n",
    "try:\n",
    "    model and parallel_model\n",
    "except NameError:\n",
    "    print(\"Good to go!\")\n",
    "    pass\n",
    "else:   \n",
    "    if model:\n",
    "        del model\n",
    "        del parallel_model\n",
    "    print(\"Object has been cleaned!\")\n",
    "\n",
    "\n",
    "model = Sequential() \n",
    "model.add(Conv1D(filters = 32, kernel_size = 7, input_shape = (trainData.shape[1], 1), activation = \"relu\"))\n",
    "model.add(MaxPooling1D(pool_size = 2))\n",
    "\n",
    "model.add(Conv1D(filters = 32, kernel_size = 7, activation = \"relu\"))\n",
    "model.add(MaxPooling1D(pool_size = 2))\n",
    "\n",
    "model.add(Conv1D(filters = 64, kernel_size = 7, activation = \"relu\"))\n",
    "model.add(MaxPooling1D(pool_size = 2))\n",
    "\n",
    "model.add(Conv1D(filters = 64, kernel_size = 3, activation = \"relu\"))\n",
    "model.add(MaxPooling1D(pool_size = 2))\n",
    "model.add(Dropout(0.5))\n",
    "model.add(Conv1D(filters = 128, kernel_size = 3, activation = \"relu\"))\n",
    "model.add(MaxPooling1D(pool_size = 2))\n",
    "\n",
    "model.add(Conv1D(filters = 128, kernel_size = 3, activation = \"relu\"))\n",
    "model.add(MaxPooling1D(pool_size = 2))\n",
    "model.add(Dropout(0.5))\n",
    "model.add(Conv1D(filters = 256, kernel_size = 3, activation = \"relu\"))\n",
    "model.add(MaxPooling1D(pool_size = 2))\n",
    "\n",
    "model.add(Conv1D(filters = 256, kernel_size = 3, activation = \"relu\"))\n",
    "model.add(MaxPooling1D(pool_size = 2))\n",
    "model.add(Dropout(0.5))\n",
    "model.add(Conv1D(filters = 512, kernel_size = 3, activation = \"relu\"))\n",
    "model.add(MaxPooling1D(pool_size = 2))\n",
    "model.add(Dropout(0.5))\n",
    "model.add(Conv1D(filters = 512, kernel_size = 3, activation = \"relu\"))\n",
    "model.add(Flatten())\n",
    "model.add(Dense(128, activation = \"relu\"))\n",
    "model.add(Dropout(0.5))\n",
    "model.add(Dense(32, activation = \"relu\"))\n",
    "model.add(Dense(4, activation = \"softmax\"))\n",
    "\n",
    "print(model.summary())\n",
    "\n",
    "\n",
    "# parallel_model = multi_gpu_model(model, gpus=2)\n",
    "model.compile(optimizer ='Adam', loss = \"categorical_crossentropy\", metrics=['accuracy'])\n",
    "# batch_s = 50\n",
    "graph = TensorBoard()\n",
    "train_history_1 = model.fit(x = trainData, \n",
    "                          y = trainLabel,\n",
    "                          epochs=10,\n",
    "                          validation_data=(validationData, validationLabel),\n",
    "                            callbacks=[graph],\n",
    "                          batch_size=100, \n",
    "                          verbose=1)\n",
    "# model.save('model_30s.h5')\n",
    "\n",
    "evaluation = model.evaluate(x = testData, y = testLabel)\n",
    "print('Loss: {:.3f}, Accuracy: {:.3f}'.format(evaluation[0], evaluation[1]))\n",
    "\n",
    "\n",
    "print('Finish training!')\n",
    "\n",
    "import pylab as plt\n",
    "def history_display(hist, train, validation):\n",
    "    plt.plot(hist.history[train])\n",
    "    plt.plot(hist.history[validation])\n",
    "    plt.title('Train History')\n",
    "    plt.ylabel(train)\n",
    "    plt.xlabel('Epoch')\n",
    "    plt.legend(['train', 'validation'], loc='upper left')\n",
    "    plt.show\n",
    "    \n",
    "def show_plot(flag, hist):\n",
    "    if flag == 'acc':\n",
    "        history_display(hist, 'acc', 'val_acc')\n",
    "    elif flag == 'loss':\n",
    "        history_display(hist, 'loss', 'val_loss')\n",
    "    else:\n",
    "        print('Invalid!')\n"
   ]
  },
  {
   "cell_type": "code",
   "execution_count": 2,
   "metadata": {
    "ExecuteTime": {
     "end_time": "2018-06-17T02:08:50.820585Z",
     "start_time": "2018-06-17T02:08:50.556320Z"
    }
   },
   "outputs": [
    {
     "data": {
      "image/png": "[encoded data removed]",
      "text/plain": [
       "<Figure size 432x288 with 1 Axes>"
      ]
     },
     "metadata": {},
     "output_type": "display_data"
    }
   ],
   "source": [
    "show_plot('acc', train_history_1)"
   ]
  },
  {
   "cell_type": "code",
   "execution_count": 3,
   "metadata": {
    "ExecuteTime": {
     "end_time": "2018-06-17T02:08:53.927460Z",
     "start_time": "2018-06-17T02:08:53.726120Z"
    }
   },
   "outputs": [
    {
     "data": {
      "image/png": "[encoded data removed]",
      "text/plain": [
       "<Figure size 432x288 with 1 Axes>"
      ]
     },
     "metadata": {},
     "output_type": "display_data"
    }
   ],
   "source": [
    "show_plot('loss', train_history_1)"
   ]
  },
  {
   "cell_type": "markdown",
   "metadata": {
    "heading_collapsed": true
   },
   "source": [
    "## Check Tensorflow & Keras"
   ]
  },
  {
   "cell_type": "code",
   "execution_count": 9,
   "metadata": {
    "hidden": true
   },
   "outputs": [
    {
     "data": {
      "text/plain": [
       "'1.4.0'"
      ]
     },
     "execution_count": 9,
     "metadata": {},
     "output_type": "execute_result"
    }
   ],
   "source": [
    "import tensorflow as tf\n",
    "tf.__version__"
   ]
  },
  {
   "cell_type": "code",
   "execution_count": 1,
   "metadata": {
    "hidden": true
   },
   "outputs": [
    {
     "name": "stderr",
     "output_type": "stream",
     "text": [
      "/usr/local/lib/python3.5/dist-packages/h5py/__init__.py:36: FutureWarning: Conversion of the second argument of issubdtype from `float` to `np.floating` is deprecated. In future, it will be treated as `np.float64 == np.dtype(float).type`.\n",
      "  from ._conv import register_converters as _register_converters\n",
      "Using TensorFlow backend.\n"
     ]
    },
    {
     "data": {
      "text/plain": [
       "'2.1.3'"
      ]
     },
     "execution_count": 1,
     "metadata": {},
     "output_type": "execute_result"
    }
   ],
   "source": [
    "import keras\n",
    "keras.__version__"
   ]
  }
 ],
 "metadata": {
  "kernelspec": {
   "display_name": "Python 3",
   "language": "python",
   "name": "python3"
  },
  "language_info": {
   "codemirror_mode": {
    "name": "ipython",
    "version": 3
   },
   "file_extension": ".py",
   "mimetype": "text/x-python",
   "name": "python",
   "nbconvert_exporter": "python",
   "pygments_lexer": "ipython3",
   "version": "3.5.2"
  }
 },
 "nbformat": 4,
 "nbformat_minor": 2
}
