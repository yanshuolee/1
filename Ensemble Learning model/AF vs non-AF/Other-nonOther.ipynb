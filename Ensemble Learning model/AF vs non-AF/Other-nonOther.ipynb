{
 "cells": [
  {
   "cell_type": "code",
   "execution_count": 1,
   "metadata": {
    "ExecuteTime": {
     "end_time": "2018-10-14T15:27:43.934800Z",
     "start_time": "2018-10-14T15:27:42.414664Z"
    }
   },
   "outputs": [
    {
     "name": "stderr",
     "output_type": "stream",
     "text": [
      "/usr/local/lib/python3.5/dist-packages/h5py/__init__.py:36: FutureWarning: Conversion of the second argument of issubdtype from `float` to `np.floating` is deprecated. In future, it will be treated as `np.float64 == np.dtype(float).type`.\n",
      "  from ._conv import register_converters as _register_converters\n",
      "Using TensorFlow backend.\n"
     ]
    }
   ],
   "source": [
    "import numpy as np\n",
    "import pandas as pd\n",
    "import os\n",
    "from keras.models import Sequential\n",
    "from keras.layers import Dense, Flatten, Conv1D, MaxPooling1D, AveragePooling1D, Dropout\n",
    "from keras.layers import BatchNormalization, Activation\n",
    "from keras.initializers import VarianceScaling\n",
    "from keras.optimizers import Adam\n",
    "from keras.utils import np_utils, multi_gpu_model\n",
    "import tensorflow as tf\n",
    "from keras.callbacks import EarlyStopping"
   ]
  },
  {
   "cell_type": "code",
   "execution_count": 2,
   "metadata": {
    "ExecuteTime": {
     "end_time": "2018-10-14T15:27:44.818449Z",
     "start_time": "2018-10-14T15:27:43.938172Z"
    }
   },
   "outputs": [
    {
     "name": "stdout",
     "output_type": "stream",
     "text": [
      "7110\n",
      "7110\n"
     ]
    }
   ],
   "source": [
    "np.set_printoptions(suppress=True)\n",
    "\n",
    "\n",
    "trainD = np.load(\"/home/hsiehch/30s/train_data.npy\")\n",
    "trainL = np.load(\"/home/hsiehch/30s/train_label.npy\")\n",
    "validationD = np.load(\"/home/hsiehch/30s/validation_data.npy\")\n",
    "validationL = np.load(\"/home/hsiehch/30s/validation_label.npy\")\n",
    "testD = np.load(\"/home/hsiehch/30s/test_data.npy\")\n",
    "testL = np.load(\"/home/hsiehch/30s/test_label.npy\")\n",
    "\n",
    "trainD = np.append(trainD, validationD, axis=0)\n",
    "trainL = np.append(trainL, validationL, axis=0)\n",
    "print(len(trainL))\n",
    "for i in range(len(trainL)):\n",
    "    if(trainL[i] != 3):\n",
    "        trainL[i] = 0\n",
    "    else:\n",
    "        trainL[i] = 1\n",
    "for i in range(len(testL)):\n",
    "    if(testL[i] != 3):\n",
    "        testL[i] = 0\n",
    "    else:\n",
    "        testL[i] = 1\n",
    "print(len(trainL))\n",
    "trainData = trainD.reshape((trainD.shape[0], trainD.shape[1], 1))\n",
    "trainLabel = np_utils.to_categorical(trainL, 2)\n",
    "testData = testD.reshape((testD.shape[0], testD.shape[1], 1))\n",
    "testLabel = np_utils.to_categorical(testL, 2)\n"
   ]
  },
  {
   "cell_type": "code",
   "execution_count": 3,
   "metadata": {
    "ExecuteTime": {
     "end_time": "2018-10-14T15:37:41.228188Z",
     "start_time": "2018-10-14T15:27:44.820656Z"
    }
   },
   "outputs": [
    {
     "name": "stdout",
     "output_type": "stream",
     "text": [
      "_________________________________________________________________\n",
      "Layer (type)                 Output Shape              Param #   \n",
      "=================================================================\n",
      "conv1d_1 (Conv1D)            (None, 8994, 32)          256       \n",
      "_________________________________________________________________\n",
      "activation_1 (Activation)    (None, 8994, 32)          0         \n",
      "_________________________________________________________________\n",
      "batch_normalization_1 (Batch (None, 8994, 32)          128       \n",
      "_________________________________________________________________\n",
      "max_pooling1d_1 (MaxPooling1 (None, 4497, 32)          0         \n",
      "_________________________________________________________________\n",
      "conv1d_2 (Conv1D)            (None, 4491, 32)          7200      \n",
      "_________________________________________________________________\n",
      "activation_2 (Activation)    (None, 4491, 32)          0         \n",
      "_________________________________________________________________\n",
      "max_pooling1d_2 (MaxPooling1 (None, 2245, 32)          0         \n",
      "_________________________________________________________________\n",
      "conv1d_3 (Conv1D)            (None, 2239, 64)          14400     \n",
      "_________________________________________________________________\n",
      "activation_3 (Activation)    (None, 2239, 64)          0         \n",
      "_________________________________________________________________\n",
      "max_pooling1d_3 (MaxPooling1 (None, 1119, 64)          0         \n",
      "_________________________________________________________________\n",
      "conv1d_4 (Conv1D)            (None, 1117, 64)          12352     \n",
      "_________________________________________________________________\n",
      "activation_4 (Activation)    (None, 1117, 64)          0         \n",
      "_________________________________________________________________\n",
      "max_pooling1d_4 (MaxPooling1 (None, 558, 64)           0         \n",
      "_________________________________________________________________\n",
      "conv1d_5 (Conv1D)            (None, 556, 128)          24704     \n",
      "_________________________________________________________________\n",
      "activation_5 (Activation)    (None, 556, 128)          0         \n",
      "_________________________________________________________________\n",
      "max_pooling1d_5 (MaxPooling1 (None, 278, 128)          0         \n",
      "_________________________________________________________________\n",
      "conv1d_6 (Conv1D)            (None, 276, 128)          49280     \n",
      "_________________________________________________________________\n",
      "activation_6 (Activation)    (None, 276, 128)          0         \n",
      "_________________________________________________________________\n",
      "max_pooling1d_6 (MaxPooling1 (None, 138, 128)          0         \n",
      "_________________________________________________________________\n",
      "dropout_1 (Dropout)          (None, 138, 128)          0         \n",
      "_________________________________________________________________\n",
      "conv1d_7 (Conv1D)            (None, 136, 256)          98560     \n",
      "_________________________________________________________________\n",
      "activation_7 (Activation)    (None, 136, 256)          0         \n",
      "_________________________________________________________________\n",
      "max_pooling1d_7 (MaxPooling1 (None, 68, 256)           0         \n",
      "_________________________________________________________________\n",
      "conv1d_8 (Conv1D)            (None, 66, 256)           196864    \n",
      "_________________________________________________________________\n",
      "activation_8 (Activation)    (None, 66, 256)           0         \n",
      "_________________________________________________________________\n",
      "max_pooling1d_8 (MaxPooling1 (None, 33, 256)           0         \n",
      "_________________________________________________________________\n",
      "conv1d_9 (Conv1D)            (None, 31, 512)           393728    \n",
      "_________________________________________________________________\n",
      "activation_9 (Activation)    (None, 31, 512)           0         \n",
      "_________________________________________________________________\n",
      "max_pooling1d_9 (MaxPooling1 (None, 15, 512)           0         \n",
      "_________________________________________________________________\n",
      "dropout_2 (Dropout)          (None, 15, 512)           0         \n",
      "_________________________________________________________________\n",
      "conv1d_10 (Conv1D)           (None, 13, 512)           786944    \n",
      "_________________________________________________________________\n",
      "activation_10 (Activation)   (None, 13, 512)           0         \n",
      "_________________________________________________________________\n",
      "max_pooling1d_10 (MaxPooling (None, 6, 512)            0         \n",
      "_________________________________________________________________\n",
      "conv1d_11 (Conv1D)           (None, 4, 512)            786944    \n",
      "_________________________________________________________________\n",
      "activation_11 (Activation)   (None, 4, 512)            0         \n",
      "_________________________________________________________________\n",
      "max_pooling1d_11 (MaxPooling (None, 2, 512)            0         \n",
      "_________________________________________________________________\n",
      "dropout_3 (Dropout)          (None, 2, 512)            0         \n",
      "_________________________________________________________________\n",
      "flatten_1 (Flatten)          (None, 1024)              0         \n",
      "_________________________________________________________________\n",
      "dense_1 (Dense)              (None, 128)               131200    \n",
      "_________________________________________________________________\n",
      "dropout_4 (Dropout)          (None, 128)               0         \n",
      "_________________________________________________________________\n",
      "dense_2 (Dense)              (None, 16)                2064      \n",
      "_________________________________________________________________\n",
      "dense_3 (Dense)              (None, 2)                 34        \n",
      "=================================================================\n",
      "Total params: 2,504,658\n",
      "Trainable params: 2,504,594\n",
      "Non-trainable params: 64\n",
      "_________________________________________________________________\n",
      "None\n",
      "Train on 7110 samples, validate on 3041 samples\n",
      "Epoch 1/90\n",
      "7110/7110 [==============================] - 12s 2ms/step - loss: 0.6219 - acc: 0.6994 - val_loss: 0.6148 - val_acc: 0.7057\n",
      "Epoch 2/90\n",
      "7110/7110 [==============================] - 6s 887us/step - loss: 0.6123 - acc: 0.7053 - val_loss: 0.6035 - val_acc: 0.7057\n",
      "Epoch 3/90\n",
      "7110/7110 [==============================] - 7s 933us/step - loss: 0.5991 - acc: 0.7053 - val_loss: 0.5788 - val_acc: 0.7057\n",
      "Epoch 4/90\n",
      "7110/7110 [==============================] - 7s 987us/step - loss: 0.5900 - acc: 0.7051 - val_loss: 0.5789 - val_acc: 0.7057\n",
      "Epoch 5/90\n",
      "7110/7110 [==============================] - 7s 974us/step - loss: 0.5842 - acc: 0.7075 - val_loss: 0.6209 - val_acc: 0.7057\n",
      "Epoch 6/90\n",
      "7110/7110 [==============================] - 7s 962us/step - loss: 0.6099 - acc: 0.7053 - val_loss: 0.6107 - val_acc: 0.7057\n",
      "Epoch 7/90\n",
      "7110/7110 [==============================] - 7s 948us/step - loss: 0.5961 - acc: 0.7053 - val_loss: 0.5974 - val_acc: 0.7057\n",
      "Epoch 8/90\n",
      "7110/7110 [==============================] - 7s 947us/step - loss: 0.5551 - acc: 0.7298 - val_loss: 0.5630 - val_acc: 0.7040\n",
      "Epoch 9/90\n",
      "7110/7110 [==============================] - 7s 920us/step - loss: 0.5249 - acc: 0.7544 - val_loss: 0.5090 - val_acc: 0.7425\n",
      "Epoch 10/90\n",
      "7110/7110 [==============================] - 7s 961us/step - loss: 0.4852 - acc: 0.7814 - val_loss: 0.5028 - val_acc: 0.7701\n",
      "Epoch 11/90\n",
      "7110/7110 [==============================] - 7s 954us/step - loss: 0.4773 - acc: 0.7854 - val_loss: 0.4808 - val_acc: 0.7800\n",
      "Epoch 12/90\n",
      "7110/7110 [==============================] - 7s 961us/step - loss: 0.4718 - acc: 0.7862 - val_loss: 0.4746 - val_acc: 0.7813\n",
      "Epoch 13/90\n",
      "7110/7110 [==============================] - 7s 959us/step - loss: 0.4534 - acc: 0.8017 - val_loss: 0.4565 - val_acc: 0.7981\n",
      "Epoch 14/90\n",
      "7110/7110 [==============================] - 7s 948us/step - loss: 0.4429 - acc: 0.8097 - val_loss: 0.4625 - val_acc: 0.8011\n",
      "Epoch 15/90\n",
      "7110/7110 [==============================] - 7s 977us/step - loss: 0.4244 - acc: 0.8259 - val_loss: 0.4361 - val_acc: 0.8126\n",
      "Epoch 16/90\n",
      "7110/7110 [==============================] - 7s 959us/step - loss: 0.4166 - acc: 0.8290 - val_loss: 0.4268 - val_acc: 0.8260\n",
      "Epoch 17/90\n",
      "7110/7110 [==============================] - 7s 945us/step - loss: 0.4183 - acc: 0.8295 - val_loss: 0.4580 - val_acc: 0.8030\n",
      "Epoch 18/90\n",
      "7110/7110 [==============================] - 6s 901us/step - loss: 0.4087 - acc: 0.8319 - val_loss: 0.4436 - val_acc: 0.8234\n",
      "Epoch 19/90\n",
      "7110/7110 [==============================] - 7s 935us/step - loss: 0.4015 - acc: 0.8345 - val_loss: 0.4303 - val_acc: 0.8201\n",
      "Epoch 20/90\n",
      "7110/7110 [==============================] - 6s 886us/step - loss: 0.4024 - acc: 0.8354 - val_loss: 0.4345 - val_acc: 0.8260\n",
      "Epoch 21/90\n",
      "7110/7110 [==============================] - 7s 949us/step - loss: 0.3889 - acc: 0.8444 - val_loss: 0.4133 - val_acc: 0.8247\n",
      "Epoch 22/90\n",
      "7110/7110 [==============================] - 7s 943us/step - loss: 0.3853 - acc: 0.8480 - val_loss: 0.4246 - val_acc: 0.8241\n",
      "Epoch 23/90\n",
      "7110/7110 [==============================] - 6s 902us/step - loss: 0.3743 - acc: 0.8499 - val_loss: 0.4318 - val_acc: 0.8191\n",
      "Epoch 24/90\n",
      "7110/7110 [==============================] - 7s 926us/step - loss: 0.3754 - acc: 0.8477 - val_loss: 0.4255 - val_acc: 0.8221\n",
      "Epoch 25/90\n",
      "7110/7110 [==============================] - 7s 920us/step - loss: 0.3678 - acc: 0.8481 - val_loss: 0.4148 - val_acc: 0.8257\n",
      "Epoch 26/90\n",
      "7110/7110 [==============================] - 6s 914us/step - loss: 0.3567 - acc: 0.8585 - val_loss: 0.4076 - val_acc: 0.8254\n",
      "Epoch 27/90\n",
      "7110/7110 [==============================] - 7s 943us/step - loss: 0.3580 - acc: 0.8608 - val_loss: 0.4169 - val_acc: 0.8228\n",
      "Epoch 28/90\n",
      "7110/7110 [==============================] - 7s 937us/step - loss: 0.3501 - acc: 0.8591 - val_loss: 0.4138 - val_acc: 0.8287\n",
      "Epoch 29/90\n",
      "7110/7110 [==============================] - 6s 883us/step - loss: 0.3394 - acc: 0.8653 - val_loss: 0.4198 - val_acc: 0.8228\n",
      "Epoch 30/90\n",
      "7110/7110 [==============================] - 7s 943us/step - loss: 0.3302 - acc: 0.8706 - val_loss: 0.4186 - val_acc: 0.8310\n",
      "Epoch 31/90\n",
      "7110/7110 [==============================] - 6s 903us/step - loss: 0.3326 - acc: 0.8744 - val_loss: 0.4278 - val_acc: 0.8162\n",
      "Epoch 32/90\n",
      "7110/7110 [==============================] - 7s 934us/step - loss: 0.3190 - acc: 0.8740 - val_loss: 0.4155 - val_acc: 0.8283\n",
      "Epoch 33/90\n",
      "7110/7110 [==============================] - 6s 891us/step - loss: 0.3274 - acc: 0.8722 - val_loss: 0.4072 - val_acc: 0.8290\n",
      "Epoch 34/90\n",
      "7110/7110 [==============================] - 6s 903us/step - loss: 0.3134 - acc: 0.8790 - val_loss: 0.4185 - val_acc: 0.8310\n",
      "Epoch 35/90\n",
      "7110/7110 [==============================] - 7s 937us/step - loss: 0.3268 - acc: 0.8752 - val_loss: 0.4183 - val_acc: 0.8155\n",
      "Epoch 36/90\n",
      "7110/7110 [==============================] - 6s 890us/step - loss: 0.3177 - acc: 0.8796 - val_loss: 0.3977 - val_acc: 0.8356\n",
      "Epoch 37/90\n",
      "7110/7110 [==============================] - 6s 885us/step - loss: 0.3099 - acc: 0.8800 - val_loss: 0.4245 - val_acc: 0.8280\n",
      "Epoch 38/90\n",
      "7110/7110 [==============================] - 6s 890us/step - loss: 0.3062 - acc: 0.8847 - val_loss: 0.4123 - val_acc: 0.8313\n",
      "Epoch 39/90\n",
      "7110/7110 [==============================] - 7s 937us/step - loss: 0.2977 - acc: 0.8857 - val_loss: 0.4304 - val_acc: 0.8135\n",
      "Epoch 40/90\n",
      "7110/7110 [==============================] - 6s 886us/step - loss: 0.2998 - acc: 0.8878 - val_loss: 0.4228 - val_acc: 0.8336\n",
      "Epoch 41/90\n",
      "7110/7110 [==============================] - 7s 937us/step - loss: 0.2851 - acc: 0.8924 - val_loss: 0.4131 - val_acc: 0.8323\n",
      "Epoch 42/90\n",
      "7110/7110 [==============================] - 7s 943us/step - loss: 0.2865 - acc: 0.8883 - val_loss: 0.4124 - val_acc: 0.8392\n",
      "Epoch 43/90\n",
      "7110/7110 [==============================] - 6s 899us/step - loss: 0.2817 - acc: 0.8925 - val_loss: 0.4358 - val_acc: 0.8313\n",
      "Epoch 44/90\n",
      "7110/7110 [==============================] - 7s 936us/step - loss: 0.2750 - acc: 0.8955 - val_loss: 0.4213 - val_acc: 0.8382\n",
      "Epoch 45/90\n",
      "7110/7110 [==============================] - 6s 901us/step - loss: 0.2797 - acc: 0.8982 - val_loss: 0.4030 - val_acc: 0.8366\n",
      "Epoch 46/90\n",
      "7110/7110 [==============================] - 7s 939us/step - loss: 0.2712 - acc: 0.9000 - val_loss: 0.4240 - val_acc: 0.8412\n",
      "Epoch 47/90\n",
      "7110/7110 [==============================] - 6s 892us/step - loss: 0.2665 - acc: 0.8999 - val_loss: 0.4414 - val_acc: 0.8320\n",
      "Epoch 48/90\n",
      "7110/7110 [==============================] - 6s 879us/step - loss: 0.2619 - acc: 0.8997 - val_loss: 0.4333 - val_acc: 0.8372\n",
      "Epoch 49/90\n",
      "7110/7110 [==============================] - 6s 877us/step - loss: 0.2577 - acc: 0.9041 - val_loss: 0.4356 - val_acc: 0.8264\n",
      "Epoch 50/90\n",
      "7110/7110 [==============================] - 6s 879us/step - loss: 0.2568 - acc: 0.9032 - val_loss: 0.4213 - val_acc: 0.8356\n",
      "Epoch 51/90\n",
      "7110/7110 [==============================] - 6s 897us/step - loss: 0.2567 - acc: 0.9098 - val_loss: 0.4258 - val_acc: 0.8306\n",
      "Epoch 52/90\n",
      "7110/7110 [==============================] - 7s 958us/step - loss: 0.2463 - acc: 0.9075 - val_loss: 0.4516 - val_acc: 0.8320\n",
      "Epoch 53/90\n",
      "7110/7110 [==============================] - 6s 896us/step - loss: 0.2471 - acc: 0.9100 - val_loss: 0.4353 - val_acc: 0.8241\n",
      "Epoch 54/90\n",
      "7110/7110 [==============================] - 6s 892us/step - loss: 0.2442 - acc: 0.9094 - val_loss: 0.4383 - val_acc: 0.8293\n",
      "Epoch 55/90\n",
      "7110/7110 [==============================] - 6s 900us/step - loss: 0.2287 - acc: 0.9191 - val_loss: 0.4814 - val_acc: 0.8270\n",
      "Epoch 56/90\n",
      "7110/7110 [==============================] - 7s 931us/step - loss: 0.2265 - acc: 0.9210 - val_loss: 0.4575 - val_acc: 0.8349\n",
      "Epoch 57/90\n",
      "7110/7110 [==============================] - 6s 886us/step - loss: 0.2316 - acc: 0.9162 - val_loss: 0.4728 - val_acc: 0.8329\n",
      "Epoch 58/90\n",
      "7110/7110 [==============================] - 6s 888us/step - loss: 0.2219 - acc: 0.9193 - val_loss: 0.5029 - val_acc: 0.8287\n",
      "Epoch 59/90\n",
      "7110/7110 [==============================] - 6s 888us/step - loss: 0.2243 - acc: 0.9250 - val_loss: 0.4981 - val_acc: 0.8228\n",
      "Epoch 60/90\n",
      "7110/7110 [==============================] - 7s 916us/step - loss: 0.2231 - acc: 0.9177 - val_loss: 0.4747 - val_acc: 0.8267\n",
      "Epoch 61/90\n",
      "7110/7110 [==============================] - 6s 912us/step - loss: 0.2207 - acc: 0.9195 - val_loss: 0.4793 - val_acc: 0.8333\n",
      "Epoch 62/90\n",
      "7110/7110 [==============================] - 6s 878us/step - loss: 0.2139 - acc: 0.9228 - val_loss: 0.4908 - val_acc: 0.8339\n",
      "Epoch 63/90\n",
      "7110/7110 [==============================] - 6s 905us/step - loss: 0.2181 - acc: 0.9224 - val_loss: 0.5083 - val_acc: 0.8339\n",
      "Epoch 64/90\n",
      "7110/7110 [==============================] - 7s 920us/step - loss: 0.2198 - acc: 0.9212 - val_loss: 0.4529 - val_acc: 0.8349\n",
      "Epoch 65/90\n",
      "7110/7110 [==============================] - 6s 894us/step - loss: 0.2109 - acc: 0.9242 - val_loss: 0.5044 - val_acc: 0.8376\n",
      "Epoch 66/90\n",
      "7110/7110 [==============================] - 7s 941us/step - loss: 0.2016 - acc: 0.9281 - val_loss: 0.4780 - val_acc: 0.8316\n",
      "Epoch 67/90\n",
      "7110/7110 [==============================] - 6s 898us/step - loss: 0.1868 - acc: 0.9323 - val_loss: 0.4905 - val_acc: 0.8366\n",
      "Epoch 68/90\n",
      "7110/7110 [==============================] - 6s 914us/step - loss: 0.1954 - acc: 0.9297 - val_loss: 0.4758 - val_acc: 0.8369\n",
      "Epoch 69/90\n",
      "7110/7110 [==============================] - 7s 923us/step - loss: 0.1995 - acc: 0.9301 - val_loss: 0.4571 - val_acc: 0.8405\n",
      "Epoch 70/90\n",
      "7110/7110 [==============================] - 7s 945us/step - loss: 0.1928 - acc: 0.9291 - val_loss: 0.5093 - val_acc: 0.8395\n",
      "Epoch 71/90\n",
      "7110/7110 [==============================] - 6s 913us/step - loss: 0.1877 - acc: 0.9323 - val_loss: 0.5678 - val_acc: 0.8293\n",
      "Epoch 72/90\n",
      "7110/7110 [==============================] - 6s 885us/step - loss: 0.1827 - acc: 0.9318 - val_loss: 0.5676 - val_acc: 0.8402\n",
      "Epoch 73/90\n",
      "7110/7110 [==============================] - 6s 895us/step - loss: 0.1856 - acc: 0.9363 - val_loss: 0.4900 - val_acc: 0.8422\n",
      "Epoch 74/90\n",
      "7110/7110 [==============================] - 7s 934us/step - loss: 0.1771 - acc: 0.9368 - val_loss: 0.5131 - val_acc: 0.8382\n",
      "Epoch 75/90\n",
      "7110/7110 [==============================] - 6s 895us/step - loss: 0.1686 - acc: 0.9399 - val_loss: 0.5357 - val_acc: 0.8408\n",
      "Epoch 76/90\n",
      "7110/7110 [==============================] - 6s 906us/step - loss: 0.1750 - acc: 0.9360 - val_loss: 0.5277 - val_acc: 0.8359\n"
     ]
    },
    {
     "name": "stdout",
     "output_type": "stream",
     "text": [
      "Epoch 77/90\n",
      "7110/7110 [==============================] - 7s 929us/step - loss: 0.1729 - acc: 0.9392 - val_loss: 0.5030 - val_acc: 0.8297\n",
      "Epoch 78/90\n",
      "7110/7110 [==============================] - 6s 892us/step - loss: 0.1739 - acc: 0.9376 - val_loss: 0.5517 - val_acc: 0.8329\n",
      "Epoch 79/90\n",
      "7110/7110 [==============================] - 6s 902us/step - loss: 0.1648 - acc: 0.9404 - val_loss: 0.5478 - val_acc: 0.8343\n",
      "Epoch 80/90\n",
      "7110/7110 [==============================] - 7s 927us/step - loss: 0.1702 - acc: 0.9418 - val_loss: 0.5752 - val_acc: 0.8399\n",
      "Epoch 81/90\n",
      "7110/7110 [==============================] - 7s 918us/step - loss: 0.1650 - acc: 0.9419 - val_loss: 0.5455 - val_acc: 0.8382\n",
      "Epoch 82/90\n",
      "7110/7110 [==============================] - 7s 922us/step - loss: 0.1685 - acc: 0.9418 - val_loss: 0.5207 - val_acc: 0.8356\n",
      "Epoch 83/90\n",
      "7110/7110 [==============================] - 6s 884us/step - loss: 0.1481 - acc: 0.9481 - val_loss: 0.6051 - val_acc: 0.8379\n",
      "Epoch 84/90\n",
      "7110/7110 [==============================] - 6s 894us/step - loss: 0.1636 - acc: 0.9432 - val_loss: 0.5342 - val_acc: 0.8362\n",
      "Epoch 85/90\n",
      "7110/7110 [==============================] - 6s 887us/step - loss: 0.1407 - acc: 0.9463 - val_loss: 0.5747 - val_acc: 0.8369\n",
      "Epoch 86/90\n",
      "7110/7110 [==============================] - 7s 927us/step - loss: 0.1602 - acc: 0.9459 - val_loss: 0.5769 - val_acc: 0.8280\n",
      "Epoch 87/90\n",
      "7110/7110 [==============================] - 7s 924us/step - loss: 0.1572 - acc: 0.9444 - val_loss: 0.6156 - val_acc: 0.8254\n",
      "Epoch 88/90\n",
      "7110/7110 [==============================] - 6s 893us/step - loss: 0.1389 - acc: 0.9499 - val_loss: 0.6147 - val_acc: 0.8303\n",
      "Epoch 89/90\n",
      "7110/7110 [==============================] - 7s 927us/step - loss: 0.1417 - acc: 0.9511 - val_loss: 0.5876 - val_acc: 0.8349\n",
      "Epoch 90/90\n",
      "7110/7110 [==============================] - 6s 911us/step - loss: 0.1443 - acc: 0.9506 - val_loss: 0.5888 - val_acc: 0.8362\n"
     ]
    }
   ],
   "source": [
    "model = Sequential()\n",
    "model.add(Conv1D(filters = 32, kernel_size = 7, input_shape = (trainData.shape[1], 1)))\n",
    "model.add(Activation('relu'))\n",
    "model.add(BatchNormalization())\n",
    "model.add(MaxPooling1D(pool_size = 2))\n",
    "\n",
    "model.add(Conv1D(filters = 32, kernel_size = 7))\n",
    "model.add(Activation('relu'))\n",
    "model.add(MaxPooling1D(pool_size = 2))\n",
    "\n",
    "model.add(Conv1D(filters = 64, kernel_size = 7))\n",
    "model.add(Activation('relu'))\n",
    "model.add(MaxPooling1D(pool_size = 2))\n",
    "\n",
    "model.add(Conv1D(filters = 64, kernel_size = 3))\n",
    "model.add(Activation('relu'))\n",
    "model.add(MaxPooling1D(pool_size = 2))\n",
    "\n",
    "model.add(Conv1D(filters = 128, kernel_size = 3))\n",
    "model.add(Activation('relu'))\n",
    "model.add(MaxPooling1D(pool_size = 2))\n",
    "\n",
    "model.add(Conv1D(filters = 128, kernel_size = 3))\n",
    "model.add(Activation('relu'))\n",
    "model.add(MaxPooling1D(pool_size = 2))\n",
    "model.add(Dropout(0.5))\n",
    "\n",
    "\n",
    "model.add(Conv1D(filters = 256, kernel_size = 3))\n",
    "model.add(Activation('relu'))\n",
    "model.add(MaxPooling1D(pool_size = 2))\n",
    "\n",
    "\n",
    "model.add(Conv1D(filters = 256, kernel_size = 3))\n",
    "model.add(Activation('relu'))\n",
    "model.add(MaxPooling1D(pool_size = 2))\n",
    "\n",
    "model.add(Conv1D(filters = 512, kernel_size = 3))\n",
    "model.add(Activation('relu'))\n",
    "model.add(MaxPooling1D(pool_size = 2))\n",
    "model.add(Dropout(0.5))\n",
    "\n",
    "model.add(Conv1D(filters = 512, kernel_size = 3))\n",
    "model.add(Activation('relu'))\n",
    "model.add(MaxPooling1D(pool_size = 2))\n",
    "\n",
    "model.add(Conv1D(filters = 512, kernel_size = 3))\n",
    "model.add(Activation('relu'))\n",
    "model.add(MaxPooling1D(pool_size = 2))\n",
    "model.add(Dropout(0.6))\n",
    "\n",
    "model.add(Flatten())\n",
    "model.add(Dense(128, activation = 'relu'))\n",
    "model.add(Dropout(0.5))\n",
    "model.add(Dense(16, activation = 'relu'))\n",
    "model.add(Dense(2, activation = \"softmax\"))\n",
    "\n",
    "print(model.summary())\n",
    "\n",
    "\n",
    "adam = Adam(lr = 0.001)\n",
    "model.compile(optimizer = adam, loss = \"categorical_crossentropy\", metrics=['accuracy'])\n",
    "train_history_1 = model.fit(x = trainData,\n",
    "                            y = trainLabel,\n",
    "                            epochs=90,\n",
    "                            validation_data=(testData, testLabel),\n",
    "                            batch_size=70, \n",
    "                            verbose=1)\n",
    "\n",
    "model.save('Other-nonOther.h5')"
   ]
  },
  {
   "cell_type": "code",
   "execution_count": 4,
   "metadata": {
    "ExecuteTime": {
     "end_time": "2018-10-14T15:37:41.436247Z",
     "start_time": "2018-10-14T15:37:41.231688Z"
    }
   },
   "outputs": [],
   "source": [
    "import pylab as plt\n",
    "def history_display(hist, train, validation):\n",
    "    plt.plot(hist.history[train])\n",
    "    plt.plot(hist.history[validation])\n",
    "    plt.title('Train History')\n",
    "    plt.ylabel(train)\n",
    "    plt.xlabel('Epoch')\n",
    "    plt.legend(['train', 'validation'], loc='upper left')\n",
    "    plt.show\n",
    "    \n",
    "def show_plot(flag, hist):\n",
    "    if flag == 'acc':\n",
    "        history_display(hist, 'acc', 'val_acc')\n",
    "    elif flag == 'loss':\n",
    "        history_display(hist, 'loss', 'val_loss')\n",
    "    else:\n",
    "        print('Invalid!')"
   ]
  },
  {
   "cell_type": "code",
   "execution_count": 5,
   "metadata": {
    "ExecuteTime": {
     "end_time": "2018-10-14T15:37:41.654010Z",
     "start_time": "2018-10-14T15:37:41.439156Z"
    }
   },
   "outputs": [
    {
     "data": {
      "image/png": "[encoded data removed]",
      "text/plain": [
       "<Figure size 432x288 with 1 Axes>"
      ]
     },
     "metadata": {},
     "output_type": "display_data"
    }
   ],
   "source": [
    "show_plot('acc', train_history_1)"
   ]
  },
  {
   "cell_type": "code",
   "execution_count": 6,
   "metadata": {
    "ExecuteTime": {
     "end_time": "2018-10-14T15:37:41.846457Z",
     "start_time": "2018-10-14T15:37:41.656519Z"
    }
   },
   "outputs": [
    {
     "data": {
      "image/png": "[encoded data removed]",
      "text/plain": [
       "<Figure size 432x288 with 1 Axes>"
      ]
     },
     "metadata": {},
     "output_type": "display_data"
    }
   ],
   "source": [
    "show_plot('loss', train_history_1)"
   ]
  },
  {
   "cell_type": "code",
   "execution_count": 7,
   "metadata": {
    "ExecuteTime": {
     "end_time": "2018-10-14T15:37:42.924801Z",
     "start_time": "2018-10-14T15:37:41.848847Z"
    }
   },
   "outputs": [
    {
     "name": "stdout",
     "output_type": "stream",
     "text": [
      "3041/3041 [==============================] - 1s 351us/step\n",
      "Loss: 0.589, Accuracy: 0.836\n"
     ]
    }
   ],
   "source": [
    "evaluation = model.evaluate(x = testData, y = testLabel)\n",
    "print('Loss: {:.3f}, Accuracy: {:.3f}'.format(evaluation[0], evaluation[1]))"
   ]
  },
  {
   "cell_type": "code",
   "execution_count": 8,
   "metadata": {
    "ExecuteTime": {
     "end_time": "2018-10-14T15:37:42.954519Z",
     "start_time": "2018-10-14T15:37:42.928401Z"
    }
   },
   "outputs": [],
   "source": [
    "import itertools\n",
    "import pylab as plt\n",
    "\n",
    "\n",
    "def plot_confusion_matrix(cm, classes,\n",
    "                          normalize=False,\n",
    "                          title='Confusion matrix',\n",
    "                          cmap=plt.cm.Blues):\n",
    "    \"\"\"\n",
    "    This function prints and plots the confusion matrix.\n",
    "    Normalization can be applied by setting `normalize=True`.\n",
    "    \"\"\"\n",
    "\n",
    "    plt.imshow(cm, interpolation='nearest', cmap=cmap)\n",
    "    plt.title(title)\n",
    "    plt.colorbar()\n",
    "    tick_marks = np.arange(len(classes))\n",
    "    plt.xticks(tick_marks, classes, rotation=45)\n",
    "    plt.yticks(tick_marks, classes)\n",
    "\n",
    "    fmt = '.2f' if normalize else 'd'\n",
    "    thresh = cm.max() / 2.\n",
    "    for i, j in itertools.product(range(cm.shape[0]), range(cm.shape[1])):\n",
    "        plt.text(j, i, format(cm[i, j], fmt),\n",
    "                 horizontalalignment=\"center\",\n",
    "                 color=\"white\" if cm[i, j] > thresh else \"black\")\n",
    "\n",
    "    plt.ylabel('True label')\n",
    "    plt.xlabel('Predicted label')\n",
    "    plt.tight_layout()"
   ]
  },
  {
   "cell_type": "code",
   "execution_count": 9,
   "metadata": {
    "ExecuteTime": {
     "end_time": "2018-10-14T15:37:58.068810Z",
     "start_time": "2018-10-14T15:37:42.958473Z"
    }
   },
   "outputs": [
    {
     "data": {
      "image/png": "[encoded data removed]",
      "text/plain": [
       "<Figure size 432x288 with 2 Axes>"
      ]
     },
     "metadata": {},
     "output_type": "display_data"
    }
   ],
   "source": [
    "from sklearn.metrics import confusion_matrix\n",
    "test_prediction = model.predict_classes(testData, batch_size=1)\n",
    "cnf_matrix = confusion_matrix(testL, test_prediction)\n",
    "plot_confusion_matrix(cnf_matrix, classes=['non-Other','Other'],\n",
    "                      title='Confusion matrix')"
   ]
  }
 ],
 "metadata": {
  "kernelspec": {
   "display_name": "Python 3",
   "language": "python",
   "name": "python3"
  },
  "language_info": {
   "codemirror_mode": {
    "name": "ipython",
    "version": 3
   },
   "file_extension": ".py",
   "mimetype": "text/x-python",
   "name": "python",
   "nbconvert_exporter": "python",
   "pygments_lexer": "ipython3",
   "version": "3.5.2"
  }
 },
 "nbformat": 4,
 "nbformat_minor": 2
}
