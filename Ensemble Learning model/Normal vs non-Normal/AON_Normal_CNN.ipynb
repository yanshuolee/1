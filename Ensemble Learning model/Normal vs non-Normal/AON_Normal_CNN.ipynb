{
 "cells": [
  {
   "cell_type": "code",
   "execution_count": 1,
   "metadata": {
    "ExecuteTime": {
     "end_time": "2018-10-14T05:39:14.661975Z",
     "start_time": "2018-10-14T05:39:12.975339Z"
    }
   },
   "outputs": [
    {
     "name": "stderr",
     "output_type": "stream",
     "text": [
      "/usr/local/lib/python3.5/dist-packages/h5py/__init__.py:36: FutureWarning: Conversion of the second argument of issubdtype from `float` to `np.floating` is deprecated. In future, it will be treated as `np.float64 == np.dtype(float).type`.\n",
      "  from ._conv import register_converters as _register_converters\n",
      "Using TensorFlow backend.\n"
     ]
    }
   ],
   "source": [
    "import numpy as np\n",
    "import pandas as pd\n",
    "import os\n",
    "from keras.models import Sequential\n",
    "from keras.layers import Dense, Flatten, Conv1D, MaxPooling1D, AveragePooling1D, Dropout\n",
    "from keras.layers import BatchNormalization, Activation\n",
    "from keras.initializers import VarianceScaling\n",
    "from keras.optimizers import Adam\n",
    "from keras.utils import np_utils, multi_gpu_model\n",
    "import tensorflow as tf\n",
    "from keras.callbacks import EarlyStopping"
   ]
  },
  {
   "cell_type": "code",
   "execution_count": 2,
   "metadata": {
    "ExecuteTime": {
     "end_time": "2018-10-14T05:39:15.621888Z",
     "start_time": "2018-10-14T05:39:14.664085Z"
    }
   },
   "outputs": [
    {
     "name": "stdout",
     "output_type": "stream",
     "text": [
      "7110\n",
      "train ok\n",
      "test ok\n"
     ]
    }
   ],
   "source": [
    "np.set_printoptions(suppress=True)\n",
    "\n",
    "trainD = np.load(\"/home/hsiehch/30s/train_data.npy\")\n",
    "trainL = np.load(\"/home/hsiehch/30s/train_label.npy\")\n",
    "validationD = np.load(\"/home/hsiehch/30s/validation_data.npy\")\n",
    "validationL = np.load(\"/home/hsiehch/30s/validation_label.npy\")\n",
    "testD = np.load(\"/home/hsiehch/30s/test_data.npy\")\n",
    "testL = np.load(\"/home/hsiehch/30s/test_label.npy\")\n",
    "\n",
    "trainD = np.append(trainD, validationD, axis=0)\n",
    "trainL = np.append(trainL, validationL, axis=0)\n",
    "\n",
    "AONtrainD = []\n",
    "AONtrainL = []\n",
    "AONtestD = []\n",
    "AONtestL = []\n",
    "\n",
    "oneis = 0\n",
    "twous = 0\n",
    "print(len(trainL))\n",
    "for i in range(len(trainL)):\n",
    "    if(trainL[i] != 2):\n",
    "        if(trainL[i] == 3):\n",
    "            trainL[i] = 2       \n",
    "        AONtrainD.append(trainD[i])\n",
    "        AONtrainL.append(trainL[i])\n",
    "\n",
    "\n",
    "print(\"train ok\")\n",
    "for i in range(len(testL)):\n",
    "    if(testL[i] != 2):\n",
    "        if(testL[i] == 3):\n",
    "            testL[i] = 2\n",
    "        \n",
    "        AONtestD.append(testD[i])\n",
    "        AONtestL.append(testL[i]) \n",
    "\n",
    "AONtrainD = np.array(AONtrainD)\n",
    "AONtrainL = np.array(AONtrainL)\n",
    "AONtestD = np.array(AONtestD)\n",
    "AONtestL = np.array(AONtestL)\n",
    "        \n",
    "print(\"test ok\")"
   ]
  },
  {
   "cell_type": "code",
   "execution_count": 3,
   "metadata": {
    "ExecuteTime": {
     "end_time": "2018-10-14T05:39:15.632592Z",
     "start_time": "2018-10-14T05:39:15.624112Z"
    }
   },
   "outputs": [
    {
     "name": "stdout",
     "output_type": "stream",
     "text": [
      "[[[ 0.519]\n",
      "  [ 0.619]\n",
      "  [ 0.723]\n",
      "  ...\n",
      "  [ 0.116]\n",
      "  [ 0.017]\n",
      "  [ 0.018]]\n",
      "\n",
      " [[-0.188]\n",
      "  [-0.239]\n",
      "  [-0.274]\n",
      "  ...\n",
      "  [-0.077]\n",
      "  [-0.077]\n",
      "  [-0.078]]\n",
      "\n",
      " [[-0.079]\n",
      "  [-0.079]\n",
      "  [-0.079]\n",
      "  ...\n",
      "  [-0.093]\n",
      "  [-0.057]\n",
      "  [ 0.   ]]\n",
      "\n",
      " ...\n",
      "\n",
      " [[ 0.058]\n",
      "  [ 0.054]\n",
      "  [ 0.049]\n",
      "  ...\n",
      "  [-0.015]\n",
      "  [-0.013]\n",
      "  [-0.01 ]]\n",
      "\n",
      " [[ 0.055]\n",
      "  [ 0.078]\n",
      "  [ 0.091]\n",
      "  ...\n",
      "  [-0.262]\n",
      "  [-0.26 ]\n",
      "  [-0.258]]\n",
      "\n",
      " [[ 0.154]\n",
      "  [ 0.154]\n",
      "  [ 0.168]\n",
      "  ...\n",
      "  [-0.223]\n",
      "  [-0.174]\n",
      "  [-0.12 ]]]\n",
      "(2938, 3)\n"
     ]
    }
   ],
   "source": [
    "trainData = AONtrainD.reshape((AONtrainD.shape[0], AONtrainD.shape[1], 1))\n",
    "trainLabel = np_utils.to_categorical(AONtrainL, 3)\n",
    "testData = AONtestD.reshape((AONtestD.shape[0], AONtestD.shape[1], 1))\n",
    "testLabel = np_utils.to_categorical(AONtestL, 3)\n",
    "print(trainData)\n",
    "print(trainLabel.shape)"
   ]
  },
  {
   "cell_type": "code",
   "execution_count": 4,
   "metadata": {
    "ExecuteTime": {
     "end_time": "2018-10-14T05:40:30.706114Z",
     "start_time": "2018-10-14T05:39:15.635811Z"
    }
   },
   "outputs": [
    {
     "name": "stdout",
     "output_type": "stream",
     "text": [
      "_________________________________________________________________\n",
      "Layer (type)                 Output Shape              Param #   \n",
      "=================================================================\n",
      "conv1d_1 (Conv1D)            (None, 8994, 32)          256       \n",
      "_________________________________________________________________\n",
      "activation_1 (Activation)    (None, 8994, 32)          0         \n",
      "_________________________________________________________________\n",
      "batch_normalization_1 (Batch (None, 8994, 32)          128       \n",
      "_________________________________________________________________\n",
      "max_pooling1d_1 (MaxPooling1 (None, 4497, 32)          0         \n",
      "_________________________________________________________________\n",
      "conv1d_2 (Conv1D)            (None, 4491, 32)          7200      \n",
      "_________________________________________________________________\n",
      "activation_2 (Activation)    (None, 4491, 32)          0         \n",
      "_________________________________________________________________\n",
      "max_pooling1d_2 (MaxPooling1 (None, 2245, 32)          0         \n",
      "_________________________________________________________________\n",
      "conv1d_3 (Conv1D)            (None, 2239, 64)          14400     \n",
      "_________________________________________________________________\n",
      "activation_3 (Activation)    (None, 2239, 64)          0         \n",
      "_________________________________________________________________\n",
      "max_pooling1d_3 (MaxPooling1 (None, 1119, 64)          0         \n",
      "_________________________________________________________________\n",
      "conv1d_4 (Conv1D)            (None, 1117, 64)          12352     \n",
      "_________________________________________________________________\n",
      "activation_4 (Activation)    (None, 1117, 64)          0         \n",
      "_________________________________________________________________\n",
      "max_pooling1d_4 (MaxPooling1 (None, 558, 64)           0         \n",
      "_________________________________________________________________\n",
      "conv1d_5 (Conv1D)            (None, 556, 128)          24704     \n",
      "_________________________________________________________________\n",
      "activation_5 (Activation)    (None, 556, 128)          0         \n",
      "_________________________________________________________________\n",
      "max_pooling1d_5 (MaxPooling1 (None, 278, 128)          0         \n",
      "_________________________________________________________________\n",
      "conv1d_6 (Conv1D)            (None, 276, 128)          49280     \n",
      "_________________________________________________________________\n",
      "activation_6 (Activation)    (None, 276, 128)          0         \n",
      "_________________________________________________________________\n",
      "max_pooling1d_6 (MaxPooling1 (None, 138, 128)          0         \n",
      "_________________________________________________________________\n",
      "dropout_1 (Dropout)          (None, 138, 128)          0         \n",
      "_________________________________________________________________\n",
      "conv1d_7 (Conv1D)            (None, 136, 256)          98560     \n",
      "_________________________________________________________________\n",
      "activation_7 (Activation)    (None, 136, 256)          0         \n",
      "_________________________________________________________________\n",
      "max_pooling1d_7 (MaxPooling1 (None, 68, 256)           0         \n",
      "_________________________________________________________________\n",
      "conv1d_8 (Conv1D)            (None, 66, 256)           196864    \n",
      "_________________________________________________________________\n",
      "activation_8 (Activation)    (None, 66, 256)           0         \n",
      "_________________________________________________________________\n",
      "max_pooling1d_8 (MaxPooling1 (None, 33, 256)           0         \n",
      "_________________________________________________________________\n",
      "conv1d_9 (Conv1D)            (None, 31, 256)           196864    \n",
      "_________________________________________________________________\n",
      "activation_9 (Activation)    (None, 31, 256)           0         \n",
      "_________________________________________________________________\n",
      "max_pooling1d_9 (MaxPooling1 (None, 15, 256)           0         \n",
      "_________________________________________________________________\n",
      "dropout_2 (Dropout)          (None, 15, 256)           0         \n",
      "_________________________________________________________________\n",
      "conv1d_10 (Conv1D)           (None, 13, 512)           393728    \n",
      "_________________________________________________________________\n",
      "activation_10 (Activation)   (None, 13, 512)           0         \n",
      "_________________________________________________________________\n",
      "max_pooling1d_10 (MaxPooling (None, 6, 512)            0         \n",
      "_________________________________________________________________\n",
      "conv1d_11 (Conv1D)           (None, 4, 512)            786944    \n",
      "_________________________________________________________________\n",
      "activation_11 (Activation)   (None, 4, 512)            0         \n",
      "_________________________________________________________________\n",
      "max_pooling1d_11 (MaxPooling (None, 2, 512)            0         \n",
      "_________________________________________________________________\n",
      "dropout_3 (Dropout)          (None, 2, 512)            0         \n",
      "_________________________________________________________________\n",
      "flatten_1 (Flatten)          (None, 1024)              0         \n",
      "_________________________________________________________________\n",
      "dense_1 (Dense)              (None, 128)               131200    \n",
      "_________________________________________________________________\n",
      "dropout_4 (Dropout)          (None, 128)               0         \n",
      "_________________________________________________________________\n",
      "dense_2 (Dense)              (None, 32)                4128      \n",
      "_________________________________________________________________\n",
      "dense_3 (Dense)              (None, 3)                 99        \n",
      "=================================================================\n",
      "Total params: 1,916,707\n",
      "Trainable params: 1,916,643\n",
      "Non-trainable params: 64\n",
      "_________________________________________________________________\n",
      "None\n",
      "Train on 2938 samples, validate on 1254 samples\n",
      "Epoch 1/25\n",
      "2938/2938 [==============================] - 8s 3ms/step - loss: 0.8337 - acc: 0.6937 - val_loss: 0.7342 - val_acc: 0.7137\n",
      "Epoch 2/25\n",
      "2938/2938 [==============================] - 3s 883us/step - loss: 0.7263 - acc: 0.7144 - val_loss: 0.6515 - val_acc: 0.7313\n",
      "Epoch 3/25\n",
      "2938/2938 [==============================] - 3s 901us/step - loss: 0.6798 - acc: 0.7192 - val_loss: 0.6425 - val_acc: 0.7360\n",
      "Epoch 4/25\n",
      "2938/2938 [==============================] - 3s 881us/step - loss: 0.6393 - acc: 0.7304 - val_loss: 0.7823 - val_acc: 0.6140\n",
      "Epoch 5/25\n",
      "2938/2938 [==============================] - 3s 885us/step - loss: 0.6213 - acc: 0.7297 - val_loss: 0.6036 - val_acc: 0.7352\n",
      "Epoch 6/25\n",
      "2938/2938 [==============================] - 3s 871us/step - loss: 0.5806 - acc: 0.7423 - val_loss: 0.6062 - val_acc: 0.7416\n",
      "Epoch 7/25\n",
      "2938/2938 [==============================] - 3s 881us/step - loss: 0.5705 - acc: 0.7376 - val_loss: 0.5771 - val_acc: 0.7289\n",
      "Epoch 8/25\n",
      "2938/2938 [==============================] - 3s 864us/step - loss: 0.5420 - acc: 0.7420 - val_loss: 0.5136 - val_acc: 0.7480\n",
      "Epoch 9/25\n",
      "2938/2938 [==============================] - 3s 875us/step - loss: 0.4556 - acc: 0.7971 - val_loss: 0.4799 - val_acc: 0.7775\n",
      "Epoch 10/25\n",
      "2938/2938 [==============================] - 3s 880us/step - loss: 0.4381 - acc: 0.8172 - val_loss: 0.4465 - val_acc: 0.8038\n",
      "Epoch 11/25\n",
      "2938/2938 [==============================] - 3s 910us/step - loss: 0.3960 - acc: 0.8366 - val_loss: 0.4188 - val_acc: 0.8246\n",
      "Epoch 12/25\n",
      "2938/2938 [==============================] - 3s 883us/step - loss: 0.3421 - acc: 0.8710 - val_loss: 0.4234 - val_acc: 0.8477\n",
      "Epoch 13/25\n",
      "2938/2938 [==============================] - 3s 915us/step - loss: 0.3150 - acc: 0.8713 - val_loss: 0.3910 - val_acc: 0.8644\n",
      "Epoch 14/25\n",
      "2938/2938 [==============================] - 3s 960us/step - loss: 0.2833 - acc: 0.8884 - val_loss: 0.3509 - val_acc: 0.8660\n",
      "Epoch 15/25\n",
      "2938/2938 [==============================] - 3s 915us/step - loss: 0.2994 - acc: 0.8850 - val_loss: 0.4153 - val_acc: 0.8270\n",
      "Epoch 16/25\n",
      "2938/2938 [==============================] - 3s 919us/step - loss: 0.2561 - acc: 0.9030 - val_loss: 0.3310 - val_acc: 0.8900\n",
      "Epoch 17/25\n"
     ]
    },
    {
     "name": "stdout",
     "output_type": "stream",
     "text": [
      "2938/2938 [==============================] - 3s 913us/step - loss: 0.2332 - acc: 0.9156 - val_loss: 0.4455 - val_acc: 0.8094\n",
      "Epoch 18/25\n",
      "2938/2938 [==============================] - 3s 888us/step - loss: 0.2421 - acc: 0.9037 - val_loss: 0.3726 - val_acc: 0.8628\n",
      "Epoch 19/25\n",
      "2938/2938 [==============================] - 3s 915us/step - loss: 0.1903 - acc: 0.9309 - val_loss: 0.3933 - val_acc: 0.8876\n",
      "Epoch 20/25\n",
      "2938/2938 [==============================] - 3s 905us/step - loss: 0.2004 - acc: 0.9248 - val_loss: 0.4273 - val_acc: 0.8716\n",
      "Epoch 21/25\n",
      "2938/2938 [==============================] - 3s 914us/step - loss: 0.1909 - acc: 0.9333 - val_loss: 0.3782 - val_acc: 0.8692\n",
      "Epoch 22/25\n",
      "2938/2938 [==============================] - 3s 933us/step - loss: 0.1913 - acc: 0.9268 - val_loss: 0.3607 - val_acc: 0.8596\n",
      "Epoch 23/25\n",
      "2938/2938 [==============================] - 3s 919us/step - loss: 0.1584 - acc: 0.9425 - val_loss: 0.3750 - val_acc: 0.8652\n",
      "Epoch 24/25\n",
      "2938/2938 [==============================] - 3s 899us/step - loss: 0.1304 - acc: 0.9534 - val_loss: 0.5700 - val_acc: 0.8254\n",
      "Epoch 25/25\n",
      "2938/2938 [==============================] - 3s 876us/step - loss: 0.1361 - acc: 0.9486 - val_loss: 0.5111 - val_acc: 0.8796\n"
     ]
    }
   ],
   "source": [
    "model = Sequential()\n",
    "model.add(Conv1D(filters = 32, kernel_size = 7, input_shape = (trainData.shape[1], 1)))\n",
    "model.add(Activation('relu'))\n",
    "model.add(BatchNormalization())\n",
    "model.add(MaxPooling1D(pool_size = 2))\n",
    "\n",
    "\n",
    "model.add(Conv1D(filters = 32, kernel_size = 7))\n",
    "model.add(Activation('relu'))\n",
    "model.add(MaxPooling1D(pool_size = 2))\n",
    "\n",
    "\n",
    "model.add(Conv1D(filters = 64, kernel_size = 7))\n",
    "model.add(Activation('relu'))\n",
    "model.add(MaxPooling1D(pool_size = 2))\n",
    "\n",
    "\n",
    "model.add(Conv1D(filters = 64, kernel_size = 3))\n",
    "model.add(Activation('relu'))\n",
    "model.add(MaxPooling1D(pool_size = 2))\n",
    "\n",
    "model.add(Conv1D(filters = 128, kernel_size = 3))\n",
    "model.add(Activation('relu'))\n",
    "model.add(MaxPooling1D(pool_size = 2))\n",
    "\n",
    "\n",
    "model.add(Conv1D(filters = 128, kernel_size = 3))\n",
    "model.add(Activation('relu'))\n",
    "model.add(MaxPooling1D(pool_size = 2))\n",
    "model.add(Dropout(0.15))\n",
    "\n",
    "model.add(Conv1D(filters = 256, kernel_size = 3))\n",
    "model.add(Activation('relu'))\n",
    "model.add(MaxPooling1D(pool_size = 2))\n",
    "\n",
    "model.add(Conv1D(filters = 256, kernel_size = 3))\n",
    "model.add(Activation('relu'))\n",
    "model.add(MaxPooling1D(pool_size = 2))\n",
    "\n",
    "\n",
    "model.add(Conv1D(filters = 256, kernel_size = 3))\n",
    "model.add(Activation('relu'))\n",
    "model.add(MaxPooling1D(pool_size = 2))\n",
    "model.add(Dropout(0.3))\n",
    "\n",
    "model.add(Conv1D(filters = 512, kernel_size = 3))\n",
    "model.add(Activation('relu'))\n",
    "model.add(MaxPooling1D(pool_size = 2))\n",
    "\n",
    "\n",
    "model.add(Conv1D(filters = 512, kernel_size = 3))\n",
    "model.add(Activation('relu'))\n",
    "model.add(MaxPooling1D(pool_size = 2))\n",
    "model.add(Dropout(0.45))\n",
    "\n",
    "model.add(Flatten())\n",
    "model.add(Dense(128, activation = 'relu'))\n",
    "model.add(Dropout(0.5))\n",
    "model.add(Dense(32, activation = 'relu'))\n",
    "model.add(Dense(3, activation = \"softmax\"))\n",
    "\n",
    "print(model.summary())\n",
    "adam = Adam(lr = 0.001)\n",
    "# early_stop = EarlyStopping(patience=25)\n",
    "model.compile(optimizer = adam, loss = \"categorical_crossentropy\", metrics=['accuracy'])\n",
    "train_history_1 = model.fit(x = trainData,\n",
    "                            y = trainLabel,\n",
    "                            epochs=25,\n",
    "                            validation_data=(testData, testLabel),\n",
    "#                             callbacks=[early_stop],\n",
    "                            batch_size=70,\n",
    "                            verbose=1)\n",
    "\n",
    "# model.save('AON_Normal.h5')\n",
    "model.save('AON_Normal_TST.h5')"
   ]
  },
  {
   "cell_type": "code",
   "execution_count": 5,
   "metadata": {
    "ExecuteTime": {
     "end_time": "2018-10-14T05:40:30.857418Z",
     "start_time": "2018-10-14T05:40:30.709432Z"
    }
   },
   "outputs": [],
   "source": [
    "import pylab as plt\n",
    "def history_display(hist, train, validation):\n",
    "    plt.plot(hist.history[train])\n",
    "    plt.plot(hist.history[validation])\n",
    "    plt.title('Train History')\n",
    "    plt.ylabel(train)\n",
    "    plt.xlabel('Epoch')\n",
    "    plt.legend(['train', 'validation'], loc='upper left')\n",
    "    plt.show\n",
    "    \n",
    "def show_plot(flag, hist):\n",
    "    if flag == 'acc':\n",
    "        history_display(hist, 'acc', 'val_acc')\n",
    "    elif flag == 'loss':\n",
    "        history_display(hist, 'loss', 'val_loss')\n",
    "    else:\n",
    "        print('Invalid!')"
   ]
  },
  {
   "cell_type": "code",
   "execution_count": 6,
   "metadata": {
    "ExecuteTime": {
     "end_time": "2018-10-14T05:40:31.151618Z",
     "start_time": "2018-10-14T05:40:30.859563Z"
    }
   },
   "outputs": [
    {
     "data": {
      "image/png": "[encoded data removed]",
      "text/plain": [
       "<Figure size 432x288 with 1 Axes>"
      ]
     },
     "metadata": {},
     "output_type": "display_data"
    }
   ],
   "source": [
    "show_plot('acc', train_history_1)"
   ]
  },
  {
   "cell_type": "code",
   "execution_count": 7,
   "metadata": {
    "ExecuteTime": {
     "end_time": "2018-10-14T05:40:31.367936Z",
     "start_time": "2018-10-14T05:40:31.154867Z"
    }
   },
   "outputs": [
    {
     "data": {
      "image/png": "[encoded data removed]",
      "text/plain": [
       "<Figure size 432x288 with 1 Axes>"
      ]
     },
     "metadata": {},
     "output_type": "display_data"
    }
   ],
   "source": [
    "show_plot('loss', train_history_1)"
   ]
  },
  {
   "cell_type": "code",
   "execution_count": 8,
   "metadata": {
    "ExecuteTime": {
     "end_time": "2018-10-14T05:40:31.889158Z",
     "start_time": "2018-10-14T05:40:31.370402Z"
    }
   },
   "outputs": [
    {
     "name": "stdout",
     "output_type": "stream",
     "text": [
      "1254/1254 [==============================] - 1s 409us/step\n",
      "Loss: 0.511, Accuracy: 0.880\n"
     ]
    }
   ],
   "source": [
    "evaluation = model.evaluate(x = testData, y = testLabel)\n",
    "print('Loss: {:.3f}, Accuracy: {:.3f}'.format(evaluation[0], evaluation[1]))"
   ]
  },
  {
   "cell_type": "code",
   "execution_count": 9,
   "metadata": {
    "ExecuteTime": {
     "end_time": "2018-10-14T05:40:31.918028Z",
     "start_time": "2018-10-14T05:40:31.891659Z"
    }
   },
   "outputs": [],
   "source": [
    "import itertools\n",
    "import pylab as plt\n",
    "\n",
    "def plot_confusion_matrix(cm, classes,\n",
    "                          normalize=False,\n",
    "                          title='Confusion matrix',\n",
    "                          cmap=plt.cm.Blues):\n",
    "    \"\"\"\n",
    "    This function prints and plots the confusion matrix.\n",
    "    Normalization can be applied by setting `normalize=True`.\n",
    "    \"\"\"\n",
    "\n",
    "    plt.imshow(cm, interpolation='nearest', cmap=cmap)\n",
    "    plt.title(title)\n",
    "    plt.colorbar()\n",
    "    tick_marks = np.arange(len(classes))\n",
    "    plt.xticks(tick_marks, classes, rotation=45)\n",
    "    plt.yticks(tick_marks, classes)\n",
    "\n",
    "    fmt = '.2f' if normalize else 'd'\n",
    "    thresh = cm.max() / 2.\n",
    "    for i, j in itertools.product(range(cm.shape[0]), range(cm.shape[1])):\n",
    "        plt.text(j, i, format(cm[i, j], fmt),\n",
    "                 horizontalalignment=\"center\",\n",
    "                 color=\"white\" if cm[i, j] > thresh else \"black\")\n",
    "\n",
    "    plt.ylabel('True label')\n",
    "    plt.xlabel('Predicted label')\n",
    "    plt.tight_layout()"
   ]
  },
  {
   "cell_type": "code",
   "execution_count": 10,
   "metadata": {
    "ExecuteTime": {
     "end_time": "2018-10-14T05:40:38.394786Z",
     "start_time": "2018-10-14T05:40:31.921518Z"
    }
   },
   "outputs": [
    {
     "data": {
      "image/png": "[encoded data removed]",
      "text/plain": [
       "<Figure size 432x288 with 2 Axes>"
      ]
     },
     "metadata": {},
     "output_type": "display_data"
    }
   ],
   "source": [
    "from sklearn.metrics import confusion_matrix\n",
    "test_prediction = model.predict_classes(testData, batch_size=1)\n",
    "cnf_matrix = confusion_matrix(AONtestL, test_prediction)\n",
    "plot_confusion_matrix(cnf_matrix, classes=['AF','Noise','Other'],\n",
    "                      title='Confusion matrix')"
   ]
  },
  {
   "cell_type": "code",
   "execution_count": null,
   "metadata": {},
   "outputs": [],
   "source": []
  }
 ],
 "metadata": {
  "kernelspec": {
   "display_name": "Python 3",
   "language": "python",
   "name": "python3"
  },
  "language_info": {
   "codemirror_mode": {
    "name": "ipython",
    "version": 3
   },
   "file_extension": ".py",
   "mimetype": "text/x-python",
   "name": "python",
   "nbconvert_exporter": "python",
   "pygments_lexer": "ipython3",
   "version": "3.5.2"
  }
 },
 "nbformat": 4,
 "nbformat_minor": 2
}
