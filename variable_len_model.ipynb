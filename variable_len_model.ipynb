{
 "cells": [
  {
   "cell_type": "code",
   "execution_count": 6,
   "metadata": {},
   "outputs": [
    {
     "name": "stdout",
     "output_type": "stream",
     "text": [
      "_________________________________________________________________\n",
      "Layer (type)                 Output Shape              Param #   \n",
      "=================================================================\n",
      "conv1d_3 (Conv1D)            (None, None, 128)         1024      \n",
      "_________________________________________________________________\n",
      "global_max_pooling1d_3 (Glob (None, 128)               0         \n",
      "_________________________________________________________________\n",
      "dense_3 (Dense)              (None, 4)                 516       \n",
      "=================================================================\n",
      "Total params: 1,540\n",
      "Trainable params: 1,540\n",
      "Non-trainable params: 0\n",
      "_________________________________________________________________\n",
      "None\n",
      "2\n",
      "(2, 4)\n"
     ]
    },
    {
     "ename": "KeyError",
     "evalue": "(9188, 1)",
     "output_type": "error",
     "traceback": [
      "\u001b[0;31m---------------------------------------------------------------------------\u001b[0m",
      "\u001b[0;31mKeyError\u001b[0m                                  Traceback (most recent call last)",
      "\u001b[0;32m<ipython-input-6-10b3d406ab4c>\u001b[0m in \u001b[0;36m<module>\u001b[0;34m()\u001b[0m\n\u001b[1;32m     42\u001b[0m \u001b[0;32mfor\u001b[0m \u001b[0mi\u001b[0m \u001b[0;32min\u001b[0m \u001b[0mtrainD\u001b[0m\u001b[0;34m:\u001b[0m\u001b[0;34m\u001b[0m\u001b[0m\n\u001b[1;32m     43\u001b[0m     \u001b[0mt_D\u001b[0m\u001b[0;34m,\u001b[0m \u001b[0mt_L\u001b[0m \u001b[0;34m=\u001b[0m \u001b[0mmakeTrainArray\u001b[0m\u001b[0;34m(\u001b[0m\u001b[0mi\u001b[0m\u001b[0;34m)\u001b[0m\u001b[0;34m\u001b[0m\u001b[0m\n\u001b[0;32m---> 44\u001b[0;31m     \u001b[0mv_D\u001b[0m\u001b[0;34m,\u001b[0m \u001b[0mv_L\u001b[0m \u001b[0;34m=\u001b[0m \u001b[0mmakeValidateArray\u001b[0m\u001b[0;34m(\u001b[0m\u001b[0mi\u001b[0m\u001b[0;34m)\u001b[0m\u001b[0;34m\u001b[0m\u001b[0m\n\u001b[0m\u001b[1;32m     45\u001b[0m     model.fit(x = t_D, \n\u001b[1;32m     46\u001b[0m               \u001b[0my\u001b[0m \u001b[0;34m=\u001b[0m \u001b[0mt_L\u001b[0m\u001b[0;34m,\u001b[0m\u001b[0;34m\u001b[0m\u001b[0m\n",
      "\u001b[0;32m<ipython-input-6-10b3d406ab4c>\u001b[0m in \u001b[0;36mmakeValidateArray\u001b[0;34m(shape)\u001b[0m\n\u001b[1;32m     27\u001b[0m     \u001b[0;32mreturn\u001b[0m \u001b[0mdataArr\u001b[0m\u001b[0;34m,\u001b[0m \u001b[0mlabelArr\u001b[0m\u001b[0;34m\u001b[0m\u001b[0m\n\u001b[1;32m     28\u001b[0m \u001b[0;32mdef\u001b[0m \u001b[0mmakeValidateArray\u001b[0m\u001b[0;34m(\u001b[0m\u001b[0mshape\u001b[0m\u001b[0;34m)\u001b[0m\u001b[0;34m:\u001b[0m\u001b[0;34m\u001b[0m\u001b[0m\n\u001b[0;32m---> 29\u001b[0;31m     \u001b[0mprint\u001b[0m\u001b[0;34m(\u001b[0m\u001b[0mlen\u001b[0m\u001b[0;34m(\u001b[0m\u001b[0mvalidateD\u001b[0m\u001b[0;34m[\u001b[0m\u001b[0mshape\u001b[0m\u001b[0;34m]\u001b[0m\u001b[0;34m)\u001b[0m\u001b[0;34m)\u001b[0m\u001b[0;34m\u001b[0m\u001b[0m\n\u001b[0m\u001b[1;32m     30\u001b[0m     \u001b[0mtmpD\u001b[0m \u001b[0;34m=\u001b[0m \u001b[0;34m[\u001b[0m\u001b[0;34m]\u001b[0m\u001b[0;34m\u001b[0m\u001b[0m\n\u001b[1;32m     31\u001b[0m     \u001b[0mtmpL\u001b[0m \u001b[0;34m=\u001b[0m \u001b[0;34m[\u001b[0m\u001b[0;34m]\u001b[0m\u001b[0;34m\u001b[0m\u001b[0m\n",
      "\u001b[0;31mKeyError\u001b[0m: (9188, 1)"
     ]
    }
   ],
   "source": [
    "from keras.models import Sequential\n",
    "from keras.layers import Dense, Dropout, Flatten, Conv1D, GlobalMaxPooling1D\n",
    "import variable_length as vl\n",
    "# import variable_length_without_validation as vl\n",
    "import numpy as np\n",
    "trainD, trainL, validateD, validateL, testD, testL = vl.main(0.5, 0.2, 0.3)\n",
    "# trainD, trainL, testD, testL = vl.main(0.7, 0.3)\n",
    "\n",
    "\n",
    "model = Sequential()\n",
    "model.add(Conv1D(filters = 128, kernel_size = 7, input_shape = (None, 1), activation = \"relu\"))\n",
    "model.add(GlobalMaxPooling1D())\n",
    "model.add(Dense(4, activation = \"softmax\"))\n",
    "print(model.summary())\n",
    "\n",
    "def makeTrainArray(shape):\n",
    "    print(len(trainD[shape]))\n",
    "    tmpD = []\n",
    "    tmpL = []\n",
    "    for data in trainD[shape]:\n",
    "        tmpD.append(data)\n",
    "    for label in trainL[shape]:\n",
    "        tmpL.append(label)\n",
    "    dataArr = np.array(tmpD)\n",
    "    labelArr = np.array(tmpL)\n",
    "    print(labelArr.shape)\n",
    "    return dataArr, labelArr\n",
    "def makeValidateArray(shape):\n",
    "    print(len(validateD[shape]))\n",
    "    tmpD = []\n",
    "    tmpL = []\n",
    "    for data in validateD[shape]:\n",
    "        tmpD.append(data)\n",
    "    for label in validateL[shape]:\n",
    "        tmpL.append(label)\n",
    "    dataArr = np.array(tmpD)\n",
    "    labelArr = np.array(tmpL)\n",
    "    print(labelArr.shape)\n",
    "    return dataArr, labelArr\n",
    "\n",
    "model.compile(optimizer ='adam', loss = \"categorical_crossentropy\", metrics=['accuracy'])\n",
    "for i in trainD:\n",
    "    t_D, t_L = makeTrainArray(i)\n",
    "    v_D, v_L = makeValidateArray(i)\n",
    "    model.fit(x = t_D, \n",
    "              y = t_L,\n",
    "              batch_size=16,\n",
    "              epochs=100,\n",
    "              verbose=1,\n",
    "              validation_data=(v_D, v_L),\n",
    "              )\n",
    "    print('Finish shape!')"
   ]
  },
  {
   "cell_type": "code",
   "execution_count": 4,
   "metadata": {},
   "outputs": [
    {
     "data": {
      "text/plain": [
       "'2.0.5'"
      ]
     },
     "execution_count": 4,
     "metadata": {},
     "output_type": "execute_result"
    }
   ],
   "source": [
    "import wfdb\n",
    "wfdb.__version__"
   ]
  },
  {
   "cell_type": "code",
   "execution_count": 5,
   "metadata": {},
   "outputs": [
    {
     "name": "stdout",
     "output_type": "stream",
     "text": [
      "Mon May 21 19:37:31 2018       \r\n",
      "+-----------------------------------------------------------------------------+\r\n",
      "| NVIDIA-SMI 384.111                Driver Version: 384.111                   |\r\n",
      "|-------------------------------+----------------------+----------------------+\r\n",
      "| GPU  Name        Persistence-M| Bus-Id        Disp.A | Volatile Uncorr. ECC |\r\n",
      "| Fan  Temp  Perf  Pwr:Usage/Cap|         Memory-Usage | GPU-Util  Compute M. |\r\n",
      "|===============================+======================+======================|\r\n",
      "|   0  GeForce GTX 108...  Off  | 00000000:01:00.0 Off |                  N/A |\r\n",
      "| 30%   66C    P2   129W / 250W |  10800MiB / 11170MiB |     61%      Default |\r\n",
      "+-------------------------------+----------------------+----------------------+\r\n",
      "                                                                               \r\n",
      "+-----------------------------------------------------------------------------+\r\n",
      "| Processes:                                                       GPU Memory |\r\n",
      "|  GPU       PID   Type   Process name                             Usage      |\r\n",
      "|=============================================================================|\r\n",
      "|    0      1506      C   python2                                      153MiB |\r\n",
      "|    0     24877      C   /usr/bin/python3                           10637MiB |\r\n",
      "+-----------------------------------------------------------------------------+\r\n"
     ]
    }
   ],
   "source": [
    "!nvidia-smi"
   ]
  }
 ],
 "metadata": {
  "kernelspec": {
   "display_name": "Python 3",
   "language": "python",
   "name": "python3"
  },
  "language_info": {
   "codemirror_mode": {
    "name": "ipython",
    "version": 3
   },
   "file_extension": ".py",
   "mimetype": "text/x-python",
   "name": "python",
   "nbconvert_exporter": "python",
   "pygments_lexer": "ipython3",
   "version": "3.5.2"
  }
 },
 "nbformat": 4,
 "nbformat_minor": 2
}
