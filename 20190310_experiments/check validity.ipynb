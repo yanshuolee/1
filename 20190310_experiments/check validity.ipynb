{
 "cells": [
  {
   "cell_type": "code",
   "execution_count": 1,
   "metadata": {
    "ExecuteTime": {
     "end_time": "2019-03-19T12:07:16.267155Z",
     "start_time": "2019-03-19T11:43:08.338719Z"
    },
    "code_folding": [
     14
    ]
   },
   "outputs": [
    {
     "name": "stderr",
     "output_type": "stream",
     "text": [
      "Using TensorFlow backend.\n"
     ]
    },
    {
     "name": "stdout",
     "output_type": "stream",
     "text": [
      "Train Data: (10151, 9000, 1)\n",
      "Train Label:  (10151, 4)\n",
      "KFold(n_splits=5, random_state=None, shuffle=True)\n",
      "trian: [    0     1     2 ... 10146 10149 10150] len 8120 test: [    8    11    12 ... 10136 10147 10148] len 2031\n",
      "trian: [    0     1     2 ... 10146 10147 10148] len 8121 test: [    5     7     9 ... 10145 10149 10150] len 2030\n",
      "trian: [    0     1     5 ... 10148 10149 10150] len 8121 test: [    2     3     4 ... 10140 10141 10143] len 2030\n",
      "trian: [    1     2     3 ... 10148 10149 10150] len 8121 test: [    0     6    10 ... 10135 10142 10146] len 2030\n",
      "trian: [    0     2     3 ... 10148 10149 10150] len 8121 test: [    1    13    18 ... 10118 10120 10138] len 2030\n",
      "Index 1\n",
      "Fold 1\n",
      "2031/2031 [==============================] - 1s 432us/step\n",
      "Fold 2\n",
      "2030/2030 [==============================] - 1s 419us/step\n",
      "Fold 3\n",
      "2030/2030 [==============================] - 1s 400us/step\n",
      "Fold 4\n",
      "2030/2030 [==============================] - 1s 399us/step\n",
      "Fold 5\n",
      "2030/2030 [==============================] - 1s 398us/step\n",
      "Training finished! Overflow model:  0\n"
     ]
    }
   ],
   "source": [
    "import os\n",
    "import itertools\n",
    "from keras.callbacks import EarlyStopping\n",
    "from sklearn.metrics import f1_score\n",
    "import tools\n",
    "\n",
    "training_data, training_label, validation_data, validation_label, validation_cate_label = tools.get_data()\n",
    "\n",
    "kernel_size = [7]\n",
    "num_layers = [8]\n",
    "batch_size = [30]\n",
    "learning_rate = [0.0001]\n",
    "overflow_model = 0\n",
    "\n",
    "def run(model, bs, path):\n",
    "    fold=1\n",
    "    \n",
    "    for X_train, Y_train, X_val, Y_val, val_cat in zip(training_data,\n",
    "                                                       training_label,\n",
    "                                                       validation_data,\n",
    "                                                       validation_label,\n",
    "                                                       validation_cate_label):\n",
    "        print(\"Fold \"+str(fold))\n",
    "        inner_path = path+\"/fold_\"+str(fold)\n",
    "        if not os.path.exists(inner_path):\n",
    "            os.makedirs(inner_path)\n",
    "        \n",
    "        early_stop = EarlyStopping(patience=20)\n",
    "        history = model.fit(x = X_train, \n",
    "                            y = Y_train,\n",
    "                            epochs=80,\n",
    "                            validation_data=(X_val, Y_val),\n",
    "                            callbacks=[early_stop],\n",
    "                            batch_size=bs, \n",
    "                            verbose=0)\n",
    "        evaluation = model.evaluate(x = X_val, y = Y_val)\n",
    "        validation_prediction = model.predict_classes(X_val, batch_size=bs)\n",
    "        score = f1_score(val_cat, validation_prediction, average=None)\n",
    "        \n",
    "        tools.show_plot(inner_path, history)\n",
    "        tools.write_file(inner_path+\"/readme.txt\", evaluation, score, model)\n",
    "        fold = fold + 1\n",
    "\n",
    "## main()\n",
    "base_path = \"5_fold/\"\n",
    "if not os.path.exists(base_path):\n",
    "    os.makedirs(base_path)\n",
    "index=1\n",
    "with open(base_path+\"Cartesian_product.txt\", \"w+\") as writer:\n",
    "    for ks, num_layer, bs, lr in itertools.product(kernel_size, num_layers, batch_size, learning_rate):\n",
    "        writer.write(str(index)+\":\"+\"\\n\")\n",
    "        writer.write('ks={}, num_layer={}, bs={}, lr={}'.format(ks, num_layer, bs, lr)+\"\\n\")\n",
    "        index = index + 1\n",
    "    del index\n",
    "\n",
    "index=1\n",
    "for ks, num_layer, bs, lr in itertools.product(kernel_size, num_layers, batch_size, learning_rate):\n",
    "    print(\"Index \"+str(index))\n",
    "    path = base_path+str(index)\n",
    "    if not os.path.exists(path):\n",
    "        os.makedirs(path)\n",
    "    \n",
    "    model = tools.create_model(lr, bs, ks, num_layer)\n",
    "    if model:\n",
    "        run(model, bs, path)\n",
    "    else:\n",
    "        overflow_model = overflow_model + 1\n",
    "    del model\n",
    "    index = index + 1\n",
    "\n",
    "print(\"Training finished! Overflow model: \", overflow_model)"
   ]
  }
 ],
 "metadata": {
  "kernelspec": {
   "display_name": "Python 3",
   "language": "python",
   "name": "python3"
  },
  "language_info": {
   "codemirror_mode": {
    "name": "ipython",
    "version": 3
   },
   "file_extension": ".py",
   "mimetype": "text/x-python",
   "name": "python",
   "nbconvert_exporter": "python",
   "pygments_lexer": "ipython3",
   "version": "3.6.7"
  }
 },
 "nbformat": 4,
 "nbformat_minor": 2
}
