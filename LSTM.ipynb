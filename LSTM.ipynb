{
 "cells": [
  {
   "cell_type": "code",
   "execution_count": 1,
   "metadata": {
    "ExecuteTime": {
     "end_time": "2018-09-12T09:26:50.257271Z",
     "start_time": "2018-09-12T09:26:48.644101Z"
    },
    "scrolled": true
   },
   "outputs": [
    {
     "name": "stderr",
     "output_type": "stream",
     "text": [
      "/usr/local/lib/python3.5/dist-packages/h5py/__init__.py:36: FutureWarning: Conversion of the second argument of issubdtype from `float` to `np.floating` is deprecated. In future, it will be treated as `np.float64 == np.dtype(float).type`.\n",
      "  from ._conv import register_converters as _register_converters\n",
      "Using TensorFlow backend.\n"
     ]
    },
    {
     "name": "stdout",
     "output_type": "stream",
     "text": [
      "Train Data: (5078, 30, 300)\n",
      "Train Label:  (5078, 4)\n",
      "Vali Data:  (2032, 30, 300)\n",
      "Vali Label:  (2032, 4)\n",
      "Test Data:  (3041, 30, 300)\n",
      "Test Label:  (3041, 4)\n"
     ]
    }
   ],
   "source": [
    "import numpy as np\n",
    "import pandas as pd\n",
    "import os\n",
    "from keras.models import Sequential\n",
    "from keras.layers import Dense, LSTM, Dropout\n",
    "from keras.layers import Activation, Masking, Bidirectional, Flatten\n",
    "from keras.optimizers import Adam\n",
    "from keras.utils import np_utils, multi_gpu_model\n",
    "import tensorflow as tf\n",
    "from keras.callbacks import TensorBoard\n",
    "\n",
    "trainD = np.load(\"/home/hsiehch/30s/train_data.npy\")\n",
    "trainL = np.load(\"/home/hsiehch/30s/train_label.npy\")\n",
    "validationD = np.load(\"/home/hsiehch/30s/validation_data.npy\")\n",
    "validationL = np.load(\"/home/hsiehch/30s/validation_label.npy\")\n",
    "testD = np.load(\"/home/hsiehch/30s/test_data.npy\")\n",
    "testL = np.load(\"/home/hsiehch/30s/test_label.npy\")\n",
    "\n",
    "timestep = 30\n",
    "seq = 300\n",
    "\n",
    "trainData = trainD.reshape((trainD.shape[0], timestep, seq))\n",
    "trainLabel = np_utils.to_categorical(trainL, 4)\n",
    "validationData = validationD.reshape((validationD.shape[0], timestep, seq))\n",
    "validationLabel = np_utils.to_categorical(validationL, 4)\n",
    "testData = testD.reshape((testD.shape[0], timestep, seq))\n",
    "testLabel = np_utils.to_categorical(testL, 4)\n",
    "\n",
    "print('Train Data:', trainData.shape)\n",
    "print('Train Label: ', trainLabel.shape)\n",
    "print('Vali Data: ', validationData.shape)\n",
    "print('Vali Label: ', validationLabel.shape)\n",
    "print('Test Data: ', testData.shape)\n",
    "print('Test Label: ', testLabel.shape)"
   ]
  },
  {
   "cell_type": "code",
   "execution_count": 2,
   "metadata": {
    "ExecuteTime": {
     "end_time": "2018-09-12T09:26:51.208991Z",
     "start_time": "2018-09-12T09:26:50.261441Z"
    },
    "scrolled": true
   },
   "outputs": [
    {
     "name": "stdout",
     "output_type": "stream",
     "text": [
      "_________________________________________________________________\n",
      "Layer (type)                 Output Shape              Param #   \n",
      "=================================================================\n",
      "lstm_1 (LSTM)                (None, 30, 32)            42624     \n",
      "_________________________________________________________________\n",
      "lstm_2 (LSTM)                (None, 30, 64)            24832     \n",
      "_________________________________________________________________\n",
      "dropout_1 (Dropout)          (None, 30, 64)            0         \n",
      "_________________________________________________________________\n",
      "lstm_3 (LSTM)                (None, 30, 128)           98816     \n",
      "_________________________________________________________________\n",
      "dropout_2 (Dropout)          (None, 30, 128)           0         \n",
      "_________________________________________________________________\n",
      "lstm_4 (LSTM)                (None, 256)               394240    \n",
      "_________________________________________________________________\n",
      "dropout_3 (Dropout)          (None, 256)               0         \n",
      "_________________________________________________________________\n",
      "dense_1 (Dense)              (None, 32)                8224      \n",
      "_________________________________________________________________\n",
      "dense_2 (Dense)              (None, 4)                 132       \n",
      "=================================================================\n",
      "Total params: 568,868\n",
      "Trainable params: 568,868\n",
      "Non-trainable params: 0\n",
      "_________________________________________________________________\n",
      "None\n"
     ]
    }
   ],
   "source": [
    "model = Sequential()\n",
    "model.add(LSTM(32, return_sequences=True, input_shape = (timestep, seq)))\n",
    "model.add(LSTM(64, return_sequences=True))\n",
    "model.add(Dropout(0.2))\n",
    "model.add(LSTM(128, return_sequences=True))\n",
    "model.add(Dropout(0.2))\n",
    "model.add(LSTM(256))\n",
    "model.add(Dropout(0.5))\n",
    "model.add(Dense(32))\n",
    "model.add(Dense(4, activation=\"softmax\"))\n",
    "\n",
    "print(model.summary())"
   ]
  },
  {
   "cell_type": "code",
   "execution_count": 3,
   "metadata": {
    "ExecuteTime": {
     "end_time": "2018-09-12T09:28:50.723443Z",
     "start_time": "2018-09-12T09:26:51.210732Z"
    },
    "scrolled": true
   },
   "outputs": [
    {
     "name": "stdout",
     "output_type": "stream",
     "text": [
      "Train on 5078 samples, validate on 2032 samples\n",
      "Epoch 1/100\n",
      "5078/5078 [==============================] - 8s 2ms/step - loss: 1.3857 - acc: 0.2674 - val_loss: 1.2720 - val_acc: 0.5778\n",
      "Epoch 2/100\n",
      "5078/5078 [==============================] - 1s 246us/step - loss: 1.2713 - acc: 0.5776 - val_loss: 2.0728 - val_acc: 0.5704\n",
      "Epoch 3/100\n",
      "5078/5078 [==============================] - 1s 203us/step - loss: 1.9427 - acc: 0.5766 - val_loss: 1.1601 - val_acc: 0.5876\n",
      "Epoch 4/100\n",
      "5078/5078 [==============================] - 1s 219us/step - loss: 1.1624 - acc: 0.5762 - val_loss: 1.2299 - val_acc: 0.2938\n",
      "Epoch 5/100\n",
      "5078/5078 [==============================] - 1s 239us/step - loss: 1.2322 - acc: 0.3202 - val_loss: 1.2109 - val_acc: 0.2948\n",
      "Epoch 6/100\n",
      "5078/5078 [==============================] - 1s 214us/step - loss: 1.2126 - acc: 0.3011 - val_loss: 1.1574 - val_acc: 0.2948\n",
      "Epoch 7/100\n",
      "5078/5078 [==============================] - 1s 227us/step - loss: 1.1580 - acc: 0.3021 - val_loss: 1.0769 - val_acc: 0.2948\n",
      "Epoch 8/100\n",
      "5078/5078 [==============================] - 1s 216us/step - loss: 1.0789 - acc: 0.3623 - val_loss: 1.0244 - val_acc: 0.5866\n",
      "Epoch 9/100\n",
      "5078/5078 [==============================] - 1s 216us/step - loss: 1.0326 - acc: 0.5831 - val_loss: 1.0286 - val_acc: 0.5866\n",
      "Epoch 10/100\n",
      "5078/5078 [==============================] - 1s 220us/step - loss: 1.0328 - acc: 0.5868 - val_loss: 1.0330 - val_acc: 0.5866\n",
      "Epoch 11/100\n",
      "5078/5078 [==============================] - 1s 210us/step - loss: 1.0371 - acc: 0.5868 - val_loss: 1.0281 - val_acc: 0.5866\n",
      "Epoch 12/100\n",
      "5078/5078 [==============================] - 1s 211us/step - loss: 1.0310 - acc: 0.5868 - val_loss: 0.9982 - val_acc: 0.5866\n",
      "Epoch 13/100\n",
      "5078/5078 [==============================] - 1s 204us/step - loss: 1.0027 - acc: 0.5868 - val_loss: 0.9792 - val_acc: 0.5866\n",
      "Epoch 14/100\n",
      "5078/5078 [==============================] - 1s 231us/step - loss: 0.9857 - acc: 0.5870 - val_loss: 0.9851 - val_acc: 0.5871\n",
      "Epoch 15/100\n",
      "5078/5078 [==============================] - 1s 242us/step - loss: 0.9887 - acc: 0.5872 - val_loss: 0.9866 - val_acc: 0.5891\n",
      "Epoch 16/100\n",
      "5078/5078 [==============================] - 1s 251us/step - loss: 0.9928 - acc: 0.5878 - val_loss: 0.9745 - val_acc: 0.5930\n",
      "Epoch 17/100\n",
      "5078/5078 [==============================] - 1s 238us/step - loss: 0.9856 - acc: 0.5868 - val_loss: 0.9587 - val_acc: 0.5925\n",
      "Epoch 18/100\n",
      "5078/5078 [==============================] - 1s 238us/step - loss: 0.9670 - acc: 0.5886 - val_loss: 0.9617 - val_acc: 0.5906\n",
      "Epoch 19/100\n",
      "5078/5078 [==============================] - 1s 219us/step - loss: 0.9675 - acc: 0.5904 - val_loss: 0.9708 - val_acc: 0.5896\n",
      "Epoch 20/100\n",
      "5078/5078 [==============================] - 1s 235us/step - loss: 0.9702 - acc: 0.5910 - val_loss: 0.9727 - val_acc: 0.5906\n",
      "Epoch 21/100\n",
      "5078/5078 [==============================] - 1s 216us/step - loss: 0.9692 - acc: 0.5900 - val_loss: 0.9638 - val_acc: 0.5930\n",
      "Epoch 22/100\n",
      "5078/5078 [==============================] - 1s 215us/step - loss: 0.9625 - acc: 0.5898 - val_loss: 0.9542 - val_acc: 0.5930\n",
      "Epoch 23/100\n",
      "5078/5078 [==============================] - 1s 202us/step - loss: 0.9537 - acc: 0.5912 - val_loss: 0.9506 - val_acc: 0.5920\n",
      "Epoch 24/100\n",
      "5078/5078 [==============================] - 1s 210us/step - loss: 0.9499 - acc: 0.5910 - val_loss: 0.9500 - val_acc: 0.5925\n",
      "Epoch 25/100\n",
      "5078/5078 [==============================] - 1s 219us/step - loss: 0.9493 - acc: 0.5910 - val_loss: 0.9503 - val_acc: 0.5920\n",
      "Epoch 26/100\n",
      "5078/5078 [==============================] - 1s 224us/step - loss: 0.9430 - acc: 0.5928 - val_loss: 0.9485 - val_acc: 0.5950\n",
      "Epoch 27/100\n",
      "5078/5078 [==============================] - 1s 222us/step - loss: 0.9406 - acc: 0.5928 - val_loss: 0.9589 - val_acc: 0.5915\n",
      "Epoch 28/100\n",
      "5078/5078 [==============================] - 1s 209us/step - loss: 0.9432 - acc: 0.5884 - val_loss: 0.9494 - val_acc: 0.5920\n",
      "Epoch 29/100\n",
      "5078/5078 [==============================] - 1s 210us/step - loss: 0.9282 - acc: 0.5926 - val_loss: 0.9499 - val_acc: 0.5891\n",
      "Epoch 30/100\n",
      "5078/5078 [==============================] - 1s 214us/step - loss: 0.9335 - acc: 0.5939 - val_loss: 0.9527 - val_acc: 0.5861\n",
      "Epoch 31/100\n",
      "5078/5078 [==============================] - 1s 218us/step - loss: 0.9191 - acc: 0.5935 - val_loss: 0.9615 - val_acc: 0.5851\n",
      "Epoch 32/100\n",
      "5078/5078 [==============================] - 1s 234us/step - loss: 0.9214 - acc: 0.5888 - val_loss: 0.9469 - val_acc: 0.5896\n",
      "Epoch 33/100\n",
      "5078/5078 [==============================] - 1s 203us/step - loss: 0.9101 - acc: 0.5937 - val_loss: 0.9343 - val_acc: 0.5935\n",
      "Epoch 34/100\n",
      "5078/5078 [==============================] - 1s 198us/step - loss: 0.9024 - acc: 0.5987 - val_loss: 0.9334 - val_acc: 0.5871\n",
      "Epoch 35/100\n",
      "5078/5078 [==============================] - 1s 207us/step - loss: 0.8961 - acc: 0.6002 - val_loss: 0.9411 - val_acc: 0.5822\n",
      "Epoch 36/100\n",
      "5078/5078 [==============================] - 1s 209us/step - loss: 0.8908 - acc: 0.6048 - val_loss: 0.9276 - val_acc: 0.5950\n",
      "Epoch 37/100\n",
      "5078/5078 [==============================] - 1s 210us/step - loss: 0.8835 - acc: 0.6081 - val_loss: 0.9267 - val_acc: 0.5915\n",
      "Epoch 38/100\n",
      "5078/5078 [==============================] - 1s 228us/step - loss: 0.8842 - acc: 0.6138 - val_loss: 0.9252 - val_acc: 0.5955\n",
      "Epoch 39/100\n",
      "5078/5078 [==============================] - 1s 211us/step - loss: 0.8772 - acc: 0.6156 - val_loss: 0.9299 - val_acc: 0.5940\n",
      "Epoch 40/100\n",
      "5078/5078 [==============================] - 1s 196us/step - loss: 0.8696 - acc: 0.6150 - val_loss: 0.9330 - val_acc: 0.5876\n",
      "Epoch 41/100\n",
      "5078/5078 [==============================] - 1s 201us/step - loss: 0.8635 - acc: 0.6189 - val_loss: 0.9307 - val_acc: 0.5945\n",
      "Epoch 42/100\n",
      "5078/5078 [==============================] - 1s 211us/step - loss: 0.8599 - acc: 0.6201 - val_loss: 0.9258 - val_acc: 0.5989\n",
      "Epoch 43/100\n",
      "5078/5078 [==============================] - 1s 204us/step - loss: 0.8498 - acc: 0.6235 - val_loss: 0.9246 - val_acc: 0.5950\n",
      "Epoch 44/100\n",
      "5078/5078 [==============================] - 1s 208us/step - loss: 0.8458 - acc: 0.6306 - val_loss: 0.9249 - val_acc: 0.5861\n",
      "Epoch 45/100\n",
      "5078/5078 [==============================] - 1s 204us/step - loss: 0.8417 - acc: 0.6341 - val_loss: 0.9232 - val_acc: 0.5871\n",
      "Epoch 46/100\n",
      "5078/5078 [==============================] - 1s 206us/step - loss: 0.8310 - acc: 0.6392 - val_loss: 0.9255 - val_acc: 0.5930\n",
      "Epoch 47/100\n",
      "5078/5078 [==============================] - 1s 208us/step - loss: 0.8236 - acc: 0.6438 - val_loss: 0.9296 - val_acc: 0.5969\n",
      "Epoch 48/100\n",
      "5078/5078 [==============================] - 1s 207us/step - loss: 0.8142 - acc: 0.6495 - val_loss: 0.9295 - val_acc: 0.6024\n",
      "Epoch 49/100\n",
      "5078/5078 [==============================] - 1s 222us/step - loss: 0.8078 - acc: 0.6554 - val_loss: 0.9245 - val_acc: 0.6088\n",
      "Epoch 50/100\n",
      "5078/5078 [==============================] - 1s 220us/step - loss: 0.8028 - acc: 0.6619 - val_loss: 0.9343 - val_acc: 0.6029\n",
      "Epoch 51/100\n",
      "5078/5078 [==============================] - 1s 212us/step - loss: 0.7959 - acc: 0.6609 - val_loss: 0.9423 - val_acc: 0.6142\n",
      "Epoch 52/100\n",
      "5078/5078 [==============================] - 1s 221us/step - loss: 0.7962 - acc: 0.6570 - val_loss: 0.9494 - val_acc: 0.6014\n",
      "Epoch 53/100\n",
      "5078/5078 [==============================] - 1s 220us/step - loss: 0.7949 - acc: 0.6672 - val_loss: 0.9231 - val_acc: 0.6166\n",
      "Epoch 54/100\n",
      "5078/5078 [==============================] - 1s 237us/step - loss: 0.7884 - acc: 0.6638 - val_loss: 0.9309 - val_acc: 0.6181\n",
      "Epoch 55/100\n",
      "5078/5078 [==============================] - 1s 215us/step - loss: 0.7798 - acc: 0.6686 - val_loss: 0.9353 - val_acc: 0.6093\n",
      "Epoch 56/100\n",
      "5078/5078 [==============================] - 1s 229us/step - loss: 0.7640 - acc: 0.6814 - val_loss: 0.9520 - val_acc: 0.6127\n",
      "Epoch 57/100\n",
      "5078/5078 [==============================] - 1s 239us/step - loss: 0.7595 - acc: 0.6837 - val_loss: 0.9693 - val_acc: 0.6038\n",
      "Epoch 58/100\n",
      "5078/5078 [==============================] - 1s 220us/step - loss: 0.7603 - acc: 0.6820 - val_loss: 0.9465 - val_acc: 0.6161\n",
      "Epoch 59/100\n",
      "5078/5078 [==============================] - 1s 217us/step - loss: 0.7544 - acc: 0.6839 - val_loss: 0.9684 - val_acc: 0.5881\n",
      "Epoch 60/100\n",
      "5078/5078 [==============================] - 1s 232us/step - loss: 0.7537 - acc: 0.6887 - val_loss: 0.9461 - val_acc: 0.6275\n"
     ]
    },
    {
     "name": "stdout",
     "output_type": "stream",
     "text": [
      "Epoch 61/100\n",
      "5078/5078 [==============================] - 1s 229us/step - loss: 0.7443 - acc: 0.6857 - val_loss: 0.9536 - val_acc: 0.6186\n",
      "Epoch 62/100\n",
      "5078/5078 [==============================] - 1s 230us/step - loss: 0.7226 - acc: 0.6991 - val_loss: 1.0143 - val_acc: 0.5655\n",
      "Epoch 63/100\n",
      "5078/5078 [==============================] - 1s 235us/step - loss: 0.7387 - acc: 0.6887 - val_loss: 0.9689 - val_acc: 0.6216\n",
      "Epoch 64/100\n",
      "5078/5078 [==============================] - 1s 221us/step - loss: 0.7362 - acc: 0.6934 - val_loss: 0.9545 - val_acc: 0.6122\n",
      "Epoch 65/100\n",
      "5078/5078 [==============================] - 1s 218us/step - loss: 0.7178 - acc: 0.7044 - val_loss: 0.9926 - val_acc: 0.5856\n",
      "Epoch 66/100\n",
      "5078/5078 [==============================] - 1s 225us/step - loss: 0.7143 - acc: 0.7087 - val_loss: 1.0040 - val_acc: 0.6122\n",
      "Epoch 67/100\n",
      "5078/5078 [==============================] - 1s 234us/step - loss: 0.7110 - acc: 0.7032 - val_loss: 1.0064 - val_acc: 0.5974\n",
      "Epoch 68/100\n",
      "5078/5078 [==============================] - 1s 229us/step - loss: 0.6796 - acc: 0.7235 - val_loss: 1.0407 - val_acc: 0.5822\n",
      "Epoch 69/100\n",
      "5078/5078 [==============================] - 1s 210us/step - loss: 0.6950 - acc: 0.7129 - val_loss: 1.0067 - val_acc: 0.6196\n",
      "Epoch 70/100\n",
      "5078/5078 [==============================] - 1s 207us/step - loss: 0.6823 - acc: 0.7131 - val_loss: 1.0047 - val_acc: 0.6053\n",
      "Epoch 71/100\n",
      "5078/5078 [==============================] - 1s 210us/step - loss: 0.6695 - acc: 0.7269 - val_loss: 1.0236 - val_acc: 0.5842\n",
      "Epoch 72/100\n",
      "5078/5078 [==============================] - 1s 205us/step - loss: 0.6706 - acc: 0.7284 - val_loss: 1.0493 - val_acc: 0.6097\n",
      "Epoch 73/100\n",
      "5078/5078 [==============================] - 1s 210us/step - loss: 0.6520 - acc: 0.7332 - val_loss: 1.1654 - val_acc: 0.5960\n",
      "Epoch 74/100\n",
      "5078/5078 [==============================] - 1s 207us/step - loss: 0.6793 - acc: 0.7304 - val_loss: 1.0841 - val_acc: 0.6142\n",
      "Epoch 75/100\n",
      "5078/5078 [==============================] - 1s 215us/step - loss: 0.7759 - acc: 0.6993 - val_loss: 1.0392 - val_acc: 0.5822\n",
      "Epoch 76/100\n",
      "5078/5078 [==============================] - 1s 207us/step - loss: 0.7646 - acc: 0.7210 - val_loss: 0.9806 - val_acc: 0.6078\n",
      "Epoch 77/100\n",
      "5078/5078 [==============================] - 1s 220us/step - loss: 0.7681 - acc: 0.7083 - val_loss: 0.9716 - val_acc: 0.6309\n",
      "Epoch 78/100\n",
      "5078/5078 [==============================] - 1s 227us/step - loss: 0.7687 - acc: 0.6887 - val_loss: 0.9537 - val_acc: 0.6260\n",
      "Epoch 79/100\n",
      "5078/5078 [==============================] - 1s 208us/step - loss: 0.7449 - acc: 0.7003 - val_loss: 0.9995 - val_acc: 0.5886\n",
      "Epoch 80/100\n",
      "5078/5078 [==============================] - 1s 205us/step - loss: 0.7391 - acc: 0.7064 - val_loss: 1.0066 - val_acc: 0.6112\n",
      "Epoch 81/100\n",
      "5078/5078 [==============================] - 1s 209us/step - loss: 0.7040 - acc: 0.7206 - val_loss: 1.0525 - val_acc: 0.6019\n",
      "Epoch 82/100\n",
      "5078/5078 [==============================] - 1s 214us/step - loss: 0.7125 - acc: 0.7141 - val_loss: 1.0694 - val_acc: 0.5625\n",
      "Epoch 83/100\n",
      "5078/5078 [==============================] - 1s 233us/step - loss: 0.6967 - acc: 0.7204 - val_loss: 1.0014 - val_acc: 0.6260\n",
      "Epoch 84/100\n",
      "5078/5078 [==============================] - 1s 244us/step - loss: 0.6859 - acc: 0.7162 - val_loss: 0.9614 - val_acc: 0.6137\n",
      "Epoch 85/100\n",
      "5078/5078 [==============================] - 1s 215us/step - loss: 0.6582 - acc: 0.7345 - val_loss: 0.9938 - val_acc: 0.5778\n",
      "Epoch 86/100\n",
      "5078/5078 [==============================] - 1s 213us/step - loss: 0.6715 - acc: 0.7399 - val_loss: 1.0058 - val_acc: 0.6142\n",
      "Epoch 87/100\n",
      "5078/5078 [==============================] - 1s 214us/step - loss: 0.6347 - acc: 0.7529 - val_loss: 1.0734 - val_acc: 0.6088\n",
      "Epoch 88/100\n",
      "5078/5078 [==============================] - 1s 207us/step - loss: 0.6218 - acc: 0.7481 - val_loss: 1.1621 - val_acc: 0.5581\n",
      "Epoch 89/100\n",
      "5078/5078 [==============================] - 1s 198us/step - loss: 0.6267 - acc: 0.7513 - val_loss: 1.1414 - val_acc: 0.6176\n",
      "Epoch 90/100\n",
      "5078/5078 [==============================] - 1s 232us/step - loss: 0.6668 - acc: 0.7428 - val_loss: 1.1119 - val_acc: 0.5448\n",
      "Epoch 91/100\n",
      "5078/5078 [==============================] - 1s 211us/step - loss: 0.6432 - acc: 0.7399 - val_loss: 1.0085 - val_acc: 0.6063\n",
      "Epoch 92/100\n",
      "5078/5078 [==============================] - 1s 214us/step - loss: 0.6054 - acc: 0.7594 - val_loss: 1.0145 - val_acc: 0.6225\n",
      "Epoch 93/100\n",
      "5078/5078 [==============================] - 1s 216us/step - loss: 0.6284 - acc: 0.7304 - val_loss: 0.9984 - val_acc: 0.6004\n",
      "Epoch 94/100\n",
      "5078/5078 [==============================] - 1s 221us/step - loss: 0.5938 - acc: 0.7613 - val_loss: 1.0564 - val_acc: 0.5650\n",
      "Epoch 95/100\n",
      "5078/5078 [==============================] - 1s 236us/step - loss: 0.6070 - acc: 0.7653 - val_loss: 1.0618 - val_acc: 0.6058\n",
      "Epoch 96/100\n",
      "5078/5078 [==============================] - 1s 207us/step - loss: 0.5587 - acc: 0.7749 - val_loss: 1.1325 - val_acc: 0.6166\n",
      "Epoch 97/100\n",
      "5078/5078 [==============================] - 1s 203us/step - loss: 0.5712 - acc: 0.7688 - val_loss: 1.2283 - val_acc: 0.5723\n",
      "Epoch 98/100\n",
      "5078/5078 [==============================] - 1s 214us/step - loss: 0.5799 - acc: 0.7712 - val_loss: 1.1932 - val_acc: 0.5979\n",
      "Epoch 99/100\n",
      "5078/5078 [==============================] - 1s 205us/step - loss: 0.5469 - acc: 0.7855 - val_loss: 1.1668 - val_acc: 0.5856\n",
      "Epoch 100/100\n",
      "5078/5078 [==============================] - 1s 196us/step - loss: 0.5230 - acc: 0.7960 - val_loss: 1.1655 - val_acc: 0.5763\n"
     ]
    }
   ],
   "source": [
    "adam = Adam(lr = 0.005)\n",
    "model.compile(optimizer =adam, loss = \"categorical_crossentropy\", metrics=['accuracy'])\n",
    "# graph = TensorBoard()\n",
    "train_history = model.fit(x = trainData, \n",
    "                          y = trainLabel,\n",
    "                          epochs=100,\n",
    "                          validation_data=(validationData, validationLabel),\n",
    "                          #callbacks=[graph],\n",
    "                          batch_size=9000,\n",
    "                          #shuffle=False,\n",
    "                          )\n"
   ]
  },
  {
   "cell_type": "code",
   "execution_count": 4,
   "metadata": {
    "ExecuteTime": {
     "end_time": "2018-09-12T09:28:50.929359Z",
     "start_time": "2018-09-12T09:28:50.728569Z"
    }
   },
   "outputs": [],
   "source": [
    "import pylab as plt\n",
    "def history_display(hist, train, validation):\n",
    "    plt.plot(hist.history[train])\n",
    "    plt.plot(hist.history[validation])\n",
    "    plt.title('Train History')\n",
    "    plt.ylabel(train)\n",
    "    plt.xlabel('Epoch')\n",
    "    plt.legend(['train', 'validation'], loc='upper left')\n",
    "    plt.show\n",
    "    \n",
    "def show_plot(flag, hist):\n",
    "    if flag == 'acc':\n",
    "        history_display(hist, 'acc', 'val_acc')\n",
    "    elif flag == 'loss':\n",
    "        history_display(hist, 'loss', 'val_loss')\n",
    "    else:\n",
    "        print('Invalid!')"
   ]
  },
  {
   "cell_type": "code",
   "execution_count": 5,
   "metadata": {
    "ExecuteTime": {
     "end_time": "2018-09-12T09:28:51.153510Z",
     "start_time": "2018-09-12T09:28:50.931680Z"
    }
   },
   "outputs": [
    {
     "data": {
      "image/png": "[encoded data removed]",
      "text/plain": [
       "<Figure size 432x288 with 1 Axes>"
      ]
     },
     "metadata": {},
     "output_type": "display_data"
    }
   ],
   "source": [
    "show_plot('acc', train_history)"
   ]
  },
  {
   "cell_type": "code",
   "execution_count": 6,
   "metadata": {
    "ExecuteTime": {
     "end_time": "2018-09-12T09:28:51.397051Z",
     "start_time": "2018-09-12T09:28:51.155852Z"
    }
   },
   "outputs": [
    {
     "data": {
      "image/png": "[encoded data removed]",
      "text/plain": [
       "<Figure size 432x288 with 1 Axes>"
      ]
     },
     "metadata": {},
     "output_type": "display_data"
    }
   ],
   "source": [
    "show_plot('loss', train_history)"
   ]
  },
  {
   "cell_type": "code",
   "execution_count": null,
   "metadata": {},
   "outputs": [],
   "source": []
  }
 ],
 "metadata": {
  "kernelspec": {
   "display_name": "Python 3",
   "language": "python",
   "name": "python3"
  },
  "language_info": {
   "codemirror_mode": {
    "name": "ipython",
    "version": 3
   },
   "file_extension": ".py",
   "mimetype": "text/x-python",
   "name": "python",
   "nbconvert_exporter": "python",
   "pygments_lexer": "ipython3",
   "version": "3.5.2"
  }
 },
 "nbformat": 4,
 "nbformat_minor": 2
}
