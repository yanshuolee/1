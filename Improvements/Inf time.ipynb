{
 "cells": [
  {
   "cell_type": "markdown",
   "metadata": {},
   "source": [
    "## Training"
   ]
  },
  {
   "cell_type": "code",
   "execution_count": 1,
   "metadata": {},
   "outputs": [
    {
     "name": "stderr",
     "output_type": "stream",
     "text": [
      "Using TensorFlow backend.\n"
     ]
    },
    {
     "name": "stdout",
     "output_type": "stream",
     "text": [
      "Train Data: (10151, 9000, 1)\n",
      "Train Label:  (10151, 4)\n",
      "KFold(n_splits=5, random_state=100, shuffle=True)\n",
      "trian: [    0     1     2 ... 10148 10149 10150] len 8120 test: [   12    21    22 ... 10136 10137 10138] len 2031\n",
      "trian: [    2     4     5 ... 10148 10149 10150] len 8121 test: [    0     1     3 ... 10143 10144 10147] len 2030\n",
      "trian: [    0     1     2 ... 10148 10149 10150] len 8121 test: [    4     5     8 ... 10130 10133 10146] len 2030\n",
      "trian: [    0     1     2 ... 10146 10147 10149] len 8121 test: [   17    23    26 ... 10135 10148 10150] len 2030\n",
      "trian: [    0     1     3 ... 10147 10148 10150] len 8121 test: [    2     6     7 ... 10142 10145 10149] len 2030\n"
     ]
    }
   ],
   "source": [
    "import os\n",
    "os.environ[\"CUDA_VISIBLE_DEVICES\"]=\"0\"\n",
    "import itertools\n",
    "from keras.callbacks import EarlyStopping\n",
    "from keras import backend as K\n",
    "from sklearn.metrics import f1_score\n",
    "import tools_avg_01 as tools\n",
    "\n",
    "training_data, training_label, validation_data, validation_label, validation_cate_label = tools.get_data()\n",
    "\n",
    "ks = 5\n",
    "num_layer = 10\n",
    "bs = 30\n",
    "lr = 0.0001"
   ]
  },
  {
   "cell_type": "code",
   "execution_count": 2,
   "metadata": {
    "scrolled": true
   },
   "outputs": [
    {
     "name": "stdout",
     "output_type": "stream",
     "text": [
      "Fold 1\n",
      "Train on 8121 samples, validate on 2030 samples\n",
      "Epoch 1/100\n",
      "8121/8121 [==============================] - 15s 2ms/step - loss: 1.0463 - acc: 0.5658 - val_loss: 0.9608 - val_acc: 0.5946\n",
      "Epoch 2/100\n",
      "8121/8121 [==============================] - 8s 987us/step - loss: 0.9733 - acc: 0.5824 - val_loss: 0.9274 - val_acc: 0.5990\n",
      "Epoch 3/100\n",
      "8121/8121 [==============================] - 8s 996us/step - loss: 0.9096 - acc: 0.5917 - val_loss: 0.8780 - val_acc: 0.6084\n",
      "Epoch 4/100\n",
      "8121/8121 [==============================] - 8s 1ms/step - loss: 0.8488 - acc: 0.6286 - val_loss: 0.8007 - val_acc: 0.6961\n",
      "Epoch 5/100\n",
      "8121/8121 [==============================] - 9s 1ms/step - loss: 0.8027 - acc: 0.6582 - val_loss: 0.7311 - val_acc: 0.6768\n",
      "Epoch 6/100\n",
      "8121/8121 [==============================] - 8s 1ms/step - loss: 0.7354 - acc: 0.6940 - val_loss: 0.7122 - val_acc: 0.6773\n",
      "Epoch 7/100\n",
      "8121/8121 [==============================] - 8s 1ms/step - loss: 0.6991 - acc: 0.7107 - val_loss: 0.6155 - val_acc: 0.7335\n",
      "Epoch 8/100\n",
      "8121/8121 [==============================] - 8s 1ms/step - loss: 0.6503 - acc: 0.7252 - val_loss: 0.5898 - val_acc: 0.7419\n",
      "Epoch 9/100\n",
      "8121/8121 [==============================] - 8s 1ms/step - loss: 0.6054 - acc: 0.7486 - val_loss: 0.5547 - val_acc: 0.7818\n",
      "Epoch 10/100\n",
      "8121/8121 [==============================] - 8s 999us/step - loss: 0.5839 - acc: 0.7654 - val_loss: 0.5285 - val_acc: 0.7783\n",
      "Epoch 11/100\n",
      "8121/8121 [==============================] - 8s 1ms/step - loss: 0.5559 - acc: 0.7803 - val_loss: 0.5175 - val_acc: 0.8074\n",
      "Epoch 12/100\n",
      "8121/8121 [==============================] - 8s 990us/step - loss: 0.5281 - acc: 0.7929 - val_loss: 0.5099 - val_acc: 0.7975\n",
      "Epoch 13/100\n",
      "8121/8121 [==============================] - 8s 1ms/step - loss: 0.5095 - acc: 0.8042 - val_loss: 0.4591 - val_acc: 0.8227\n",
      "Epoch 14/100\n",
      "8121/8121 [==============================] - 8s 1ms/step - loss: 0.4956 - acc: 0.8073 - val_loss: 0.4780 - val_acc: 0.8212\n",
      "Epoch 15/100\n",
      "8121/8121 [==============================] - 8s 1ms/step - loss: 0.4764 - acc: 0.8195 - val_loss: 0.4783 - val_acc: 0.8099\n",
      "Epoch 16/100\n",
      "8121/8121 [==============================] - 8s 985us/step - loss: 0.4631 - acc: 0.8288 - val_loss: 0.4533 - val_acc: 0.8217\n",
      "Epoch 17/100\n",
      "8121/8121 [==============================] - 8s 1ms/step - loss: 0.4566 - acc: 0.8309 - val_loss: 0.4368 - val_acc: 0.8384\n",
      "Epoch 18/100\n",
      "8121/8121 [==============================] - 8s 976us/step - loss: 0.4483 - acc: 0.8331 - val_loss: 0.4525 - val_acc: 0.8291\n",
      "Epoch 19/100\n",
      "8121/8121 [==============================] - 8s 988us/step - loss: 0.4445 - acc: 0.8355 - val_loss: 0.4814 - val_acc: 0.8291\n",
      "Epoch 20/100\n",
      "8121/8121 [==============================] - 8s 1ms/step - loss: 0.4299 - acc: 0.8410 - val_loss: 0.4556 - val_acc: 0.8217\n",
      "Epoch 21/100\n",
      "8121/8121 [==============================] - 8s 988us/step - loss: 0.4249 - acc: 0.8423 - val_loss: 0.4376 - val_acc: 0.8340\n",
      "Epoch 22/100\n",
      "8121/8121 [==============================] - 8s 992us/step - loss: 0.4090 - acc: 0.8485 - val_loss: 0.4451 - val_acc: 0.8374\n",
      "Epoch 23/100\n",
      "8121/8121 [==============================] - 8s 986us/step - loss: 0.4083 - acc: 0.8480 - val_loss: 0.4302 - val_acc: 0.8394\n",
      "Epoch 24/100\n",
      "8121/8121 [==============================] - 8s 1ms/step - loss: 0.4008 - acc: 0.8527 - val_loss: 0.4342 - val_acc: 0.8389\n",
      "Epoch 25/100\n",
      "8121/8121 [==============================] - 8s 1ms/step - loss: 0.3955 - acc: 0.8577 - val_loss: 0.4393 - val_acc: 0.8438\n",
      "Epoch 26/100\n",
      "8121/8121 [==============================] - 8s 990us/step - loss: 0.3910 - acc: 0.8589 - val_loss: 0.4355 - val_acc: 0.8374\n",
      "Epoch 27/100\n",
      "8121/8121 [==============================] - 8s 997us/step - loss: 0.3783 - acc: 0.8644 - val_loss: 0.4483 - val_acc: 0.8419\n",
      "Epoch 28/100\n",
      "8121/8121 [==============================] - 8s 1ms/step - loss: 0.3711 - acc: 0.8625 - val_loss: 0.4438 - val_acc: 0.8414\n",
      "Epoch 29/100\n",
      "8121/8121 [==============================] - 8s 993us/step - loss: 0.3677 - acc: 0.8631 - val_loss: 0.4396 - val_acc: 0.8512\n",
      "Epoch 30/100\n",
      "8121/8121 [==============================] - 8s 998us/step - loss: 0.3609 - acc: 0.8705 - val_loss: 0.4527 - val_acc: 0.8335\n",
      "Epoch 31/100\n",
      "8121/8121 [==============================] - 8s 1ms/step - loss: 0.3636 - acc: 0.8679 - val_loss: 0.4518 - val_acc: 0.8443\n",
      "Epoch 32/100\n",
      "8121/8121 [==============================] - 8s 988us/step - loss: 0.3593 - acc: 0.8702 - val_loss: 0.4410 - val_acc: 0.8488\n",
      "Epoch 33/100\n",
      "8121/8121 [==============================] - 8s 981us/step - loss: 0.3456 - acc: 0.8758 - val_loss: 0.4276 - val_acc: 0.8453\n",
      "Epoch 34/100\n",
      "8121/8121 [==============================] - 8s 1ms/step - loss: 0.3346 - acc: 0.8787 - val_loss: 0.4566 - val_acc: 0.8365\n",
      "Epoch 35/100\n",
      "8121/8121 [==============================] - 8s 1ms/step - loss: 0.3334 - acc: 0.8776 - val_loss: 0.4363 - val_acc: 0.8507\n",
      "Epoch 36/100\n",
      "8121/8121 [==============================] - 8s 984us/step - loss: 0.3308 - acc: 0.8803 - val_loss: 0.4347 - val_acc: 0.8522\n",
      "Epoch 37/100\n",
      "8121/8121 [==============================] - 8s 985us/step - loss: 0.3221 - acc: 0.8819 - val_loss: 0.4614 - val_acc: 0.8453\n",
      "Epoch 38/100\n",
      "8121/8121 [==============================] - 8s 1ms/step - loss: 0.3216 - acc: 0.8849 - val_loss: 0.4438 - val_acc: 0.8473\n",
      "Epoch 39/100\n",
      "8121/8121 [==============================] - 8s 1ms/step - loss: 0.3085 - acc: 0.8898 - val_loss: 0.4894 - val_acc: 0.8335\n",
      "Epoch 40/100\n",
      "8121/8121 [==============================] - 8s 995us/step - loss: 0.3182 - acc: 0.8839 - val_loss: 0.4288 - val_acc: 0.8438\n",
      "Epoch 41/100\n",
      "8121/8121 [==============================] - 8s 1ms/step - loss: 0.3024 - acc: 0.8899 - val_loss: 0.4927 - val_acc: 0.8389\n",
      "Epoch 42/100\n",
      "8121/8121 [==============================] - 8s 999us/step - loss: 0.2934 - acc: 0.8947 - val_loss: 0.4825 - val_acc: 0.8488\n",
      "Epoch 43/100\n",
      "8121/8121 [==============================] - 9s 1ms/step - loss: 0.2903 - acc: 0.8962 - val_loss: 0.4652 - val_acc: 0.8399\n",
      "Epoch 44/100\n",
      "8121/8121 [==============================] - 8s 985us/step - loss: 0.2860 - acc: 0.8951 - val_loss: 0.5135 - val_acc: 0.8330\n",
      "Epoch 45/100\n",
      "8121/8121 [==============================] - 8s 992us/step - loss: 0.2736 - acc: 0.9056 - val_loss: 0.4811 - val_acc: 0.8394\n",
      "Epoch 46/100\n",
      "8121/8121 [==============================] - 8s 1ms/step - loss: 0.2786 - acc: 0.8999 - val_loss: 0.4982 - val_acc: 0.8399\n",
      "Epoch 47/100\n",
      "8121/8121 [==============================] - 8s 992us/step - loss: 0.2651 - acc: 0.9091 - val_loss: 0.4954 - val_acc: 0.8291\n",
      "Epoch 48/100\n",
      "8121/8121 [==============================] - 8s 1ms/step - loss: 0.2662 - acc: 0.9057 - val_loss: 0.5194 - val_acc: 0.8350\n",
      "Epoch 49/100\n",
      "8121/8121 [==============================] - 8s 986us/step - loss: 0.2644 - acc: 0.9032 - val_loss: 0.5144 - val_acc: 0.8537\n",
      "Epoch 50/100\n",
      "8121/8121 [==============================] - 8s 987us/step - loss: 0.2470 - acc: 0.9076 - val_loss: 0.5179 - val_acc: 0.8429\n",
      "Epoch 51/100\n",
      "8121/8121 [==============================] - 8s 1ms/step - loss: 0.2466 - acc: 0.9122 - val_loss: 0.5128 - val_acc: 0.8360\n",
      "Epoch 52/100\n",
      "8121/8121 [==============================] - 8s 985us/step - loss: 0.2457 - acc: 0.9124 - val_loss: 0.4963 - val_acc: 0.8379\n",
      "Epoch 53/100\n",
      "8121/8121 [==============================] - 8s 997us/step - loss: 0.2379 - acc: 0.9168 - val_loss: 0.5279 - val_acc: 0.8443\n"
     ]
    }
   ],
   "source": [
    "def run(bs, lr, ks, num_layer):\n",
    "    \n",
    "    for index, (X_train, Y_train, X_val, Y_val, val_cat) in enumerate(zip(training_data,\n",
    "                                                       training_label,\n",
    "                                                       validation_data,\n",
    "                                                       validation_label,\n",
    "                                                       validation_cate_label)):\n",
    "        \n",
    "        if index != 1: continue\n",
    "        model = tools.create_model(lr, bs, ks, num_layer)\n",
    "        print(\"Fold \"+str(index))\n",
    "        early_stop = EarlyStopping(patience=20)\n",
    "        history = model.fit(x = X_train, \n",
    "                            y = Y_train,\n",
    "                            epochs=100,\n",
    "                            validation_data=(X_val, Y_val),\n",
    "                            callbacks=[early_stop],\n",
    "                            batch_size=bs, \n",
    "                            verbose=1)\n",
    "        \n",
    "        model.save_weights('my_model_weights.h5')\n",
    "        model.save('K-1_model.h5')\n",
    "        \n",
    "#         evaluation = model.evaluate(x = X_val, y = Y_val)\n",
    "#         validation_prediction = model.predict_classes(X_val, batch_size=bs)\n",
    "#         score = f1_score(val_cat, validation_prediction, average=None)\n",
    "#         print(score)\n",
    "        return model\n",
    "    \n",
    "model = run(bs, lr, ks, num_layer)"
   ]
  },
  {
   "cell_type": "code",
   "execution_count": 5,
   "metadata": {},
   "outputs": [
    {
     "name": "stdout",
     "output_type": "stream",
     "text": [
      "0.6705787181854248\n",
      "[0.97721519 0.92424242 0.95069532 0.88812392]\n"
     ]
    }
   ],
   "source": [
    "import time\n",
    "start_time = time.time()\n",
    "validation_prediction = model.predict_classes(validation_data[0], batch_size=bs)\n",
    "end_time = time.time() - start_time\n",
    "print(end_time)\n",
    "score = f1_score(validation_cate_label[0], validation_prediction, average=None)\n",
    "print(score)"
   ]
  },
  {
   "cell_type": "markdown",
   "metadata": {},
   "source": [
    "## Inference"
   ]
  },
  {
   "cell_type": "code",
   "execution_count": 1,
   "metadata": {},
   "outputs": [
    {
     "name": "stderr",
     "output_type": "stream",
     "text": [
      "Using TensorFlow backend.\n"
     ]
    },
    {
     "name": "stdout",
     "output_type": "stream",
     "text": [
      "Train Data: (10151, 9000, 1)\n",
      "Train Label:  (10151, 4)\n",
      "KFold(n_splits=5, random_state=None, shuffle=True)\n",
      "trian: [    2     4     5 ... 10148 10149 10150] len 8120 test: [    0     1     3 ... 10136 10138 10143] len 2031\n",
      "trian: [    0     1     3 ... 10146 10147 10150] len 8121 test: [    2     4     9 ... 10145 10148 10149] len 2030\n",
      "trian: [    0     1     2 ... 10148 10149 10150] len 8121 test: [   20    22    23 ... 10139 10141 10144] len 2030\n",
      "trian: [    0     1     2 ... 10145 10148 10149] len 8121 test: [    5    17    18 ... 10146 10147 10150] len 2030\n",
      "trian: [    0     1     2 ... 10148 10149 10150] len 8121 test: [   10    11    13 ... 10131 10137 10142] len 2030\n",
      "Model loaded!\n"
     ]
    }
   ],
   "source": [
    "import os\n",
    "os.environ[\"CUDA_VISIBLE_DEVICES\"]=\"0\"\n",
    "# from keras.models import load_weights\n",
    "from sklearn.metrics import f1_score\n",
    "import tools\n",
    "\n",
    "training_data, training_label, validation_data, validation_label, validation_cate_label = tools.get_data()\n",
    "ks = 5\n",
    "num_layer = 10\n",
    "bs = 30\n",
    "lr = 0.001\n",
    "X_train, Y_train, X_val, Y_val, val_cat = training_data[1], training_label[1], validation_data[1], validation_label[1], validation_cate_label[1]\n",
    "\n",
    "model = tools.create_model(lr, bs, ks, num_layer)\n",
    "model.load_weights('my_model_weights.h5')\n",
    "print(\"Model loaded!\")"
   ]
  },
  {
   "cell_type": "code",
   "execution_count": 3,
   "metadata": {},
   "outputs": [],
   "source": [
    "from keras.models import load_model\n",
    "model = load_model('K-1_model.h5')"
   ]
  },
  {
   "cell_type": "code",
   "execution_count": 2,
   "metadata": {
    "scrolled": true
   },
   "outputs": [
    {
     "name": "stdout",
     "output_type": "stream",
     "text": [
      "CPU times: user 7 µs, sys: 8 µs, total: 15 µs\n",
      "Wall time: 36.5 µs\n",
      "2030/2030 [==============================] - 2s 954us/step\n",
      "[0.         0.06692532 0.03892944 0.00674536]\n"
     ]
    },
    {
     "name": "stderr",
     "output_type": "stream",
     "text": [
      "/opt/anaconda3/lib/python3.6/site-packages/sklearn/metrics/classification.py:1135: UndefinedMetricWarning: F-score is ill-defined and being set to 0.0 in labels with no predicted samples.\n",
      "  'precision', 'predicted', average, warn_for)\n"
     ]
    }
   ],
   "source": [
    "%time\n",
    "evaluation = model.evaluate(x = X_val, y = Y_val)\n",
    "validation_prediction = model.predict_classes(X_val, batch_size=bs)\n",
    "score = f1_score(val_cat, validation_prediction, average=None)\n",
    "print(score)"
   ]
  }
 ],
 "metadata": {
  "kernelspec": {
   "display_name": "Python 3",
   "language": "python",
   "name": "python3"
  },
  "language_info": {
   "codemirror_mode": {
    "name": "ipython",
    "version": 3
   },
   "file_extension": ".py",
   "mimetype": "text/x-python",
   "name": "python",
   "nbconvert_exporter": "python",
   "pygments_lexer": "ipython3",
   "version": "3.6.2"
  }
 },
 "nbformat": 4,
 "nbformat_minor": 2
}
